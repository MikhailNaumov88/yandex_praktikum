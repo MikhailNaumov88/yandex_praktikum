{
 "cells": [
  {
   "cell_type": "markdown",
   "metadata": {},
   "source": [
    "# Исследование объявлений о продаже квартир\n",
    "\n",
    "В вашем распоряжении данные сервиса Яндекc Недвижимость — архив объявлений о продаже квартир в Санкт-Петербурге и соседних населённых пунктах за несколько лет. Нужно научиться определять рыночную стоимость объектов недвижимости. Наша задача — установить параметры. Это позволит построить автоматизированную систему: она отследит аномалии и мошенническую деятельность. \n",
    "\n",
    "По каждой квартире на продажу доступны два вида данных. Первые вписаны пользователем, вторые получены автоматически на основе картографических данных. Например, расстояние до центра, аэропорта, ближайшего парка и водоёма. \n",
    "\n",
    "**Ход исследования**\n",
    "\n",
    "Входные данные — архив объявлений о продаже квартир в Санкт-Петербурге и соседних населённых пунктах за несколько лет, мы получим из файла `real_estate_data.csv`. О качестве данных ничего не известно. Поэтому перед исследованием понадобится обзор данных.\n",
    "\n",
    "*Описание данных:*\n",
    "\n",
    "- `airports_nearest` — расстояние до ближайшего аэропорта в метрах (м)\n",
    "- `balcony` — число балконов\n",
    "- `ceiling_height` — высота потолков (м)\n",
    "- `cityCenters_nearest` — расстояние до центра города (м)\n",
    "- `days_exposition` — сколько дней было размещено объявление (от публикации до снятия)\n",
    "- `first_day_exposition` — дата публикации\n",
    "- `floor` — этаж\n",
    "- `floors_total` — всего этажей в доме\n",
    "- `is_apartment` — апартаменты (булев тип)\n",
    "- `kitchen_area` — площадь кухни в квадратных метрах (м²)\n",
    "- `last_price` — цена на момент снятия с публикации\n",
    "- `living_area` — жилая площадь в квадратных метрах (м²)\n",
    "- `locality_name` — название населённого пункта\n",
    "- `open_plan` — свободная планировка (булев тип)\n",
    "- `parks_around3000` — число парков в радиусе 3 км\n",
    "- `parks_nearest` — расстояние до ближайшего парка (м)\n",
    "- `ponds_around3000` — число водоёмов в радиусе 3 км\n",
    "- `ponds_nearest` — расстояние до ближайшего водоёма (м)\n",
    "- `rooms` — число комнат\n",
    "- `studio` — квартира-студия (булев тип)\n",
    "- `total_area` — площадь квартиры в квадратных метрах (м²)\n",
    "- `total_images` — число фотографий квартиры в объявлении\n",
    "\n",
    "Данные за 2016 год могут быть неполными\n",
    " \n",
    "Исследование пройдёт в четыре основных этапа:\n",
    "\n",
    "1. Обзор данных.\n",
    "2. Предобработка данных.\n",
    "3. Расчёты и добавление результатов в таблицу.\n",
    "4. Исследовательский анализ данных."
   ]
  },
  {
   "cell_type": "markdown",
   "metadata": {
    "toc": true
   },
   "source": [
    "<h1>Содержание<span class=\"tocSkip\"></span></h1>\n",
    "<div class=\"toc\"><ul class=\"toc-item\"><li><span><a href=\"#Изучение-данных-из-файла\" data-toc-modified-id=\"Изучение-данных-из-файла-1\"><span class=\"toc-item-num\">1&nbsp;&nbsp;</span>Изучение данных из файла</a></span></li><li><span><a href=\"#Предобработка-данных\" data-toc-modified-id=\"Предобработка-данных-2\"><span class=\"toc-item-num\">2&nbsp;&nbsp;</span>Предобработка данных</a></span><ul class=\"toc-item\"><li><span><a href=\"#Заполнение-пропусков\" data-toc-modified-id=\"Заполнение-пропусков-2.1\"><span class=\"toc-item-num\">2.1&nbsp;&nbsp;</span>Заполнение пропусков</a></span><ul class=\"toc-item\"><li><span><a href=\"#Заполнение-пропусков-is_apartment\" data-toc-modified-id=\"Заполнение-пропусков-is_apartment-2.1.1\"><span class=\"toc-item-num\">2.1.1&nbsp;&nbsp;</span>Заполнение пропусков <code>is_apartment</code></a></span></li><li><span><a href=\"#Заполнение-пропусков-parks_nearest,-ponds_nearest,-parks_around3000,-ponds_around3000,-airports_nearest\" data-toc-modified-id=\"Заполнение-пропусков-parks_nearest,-ponds_nearest,-parks_around3000,-ponds_around3000,-airports_nearest-2.1.2\"><span class=\"toc-item-num\">2.1.2&nbsp;&nbsp;</span>Заполнение пропусков <code>parks_nearest</code>, <code>ponds_nearest</code>, <code>parks_around3000</code>, <code>ponds_around3000</code>, <code>airports_nearest</code></a></span></li><li><span><a href=\"#Заполнение-пропусков-balcony\" data-toc-modified-id=\"Заполнение-пропусков-balcony-2.1.3\"><span class=\"toc-item-num\">2.1.3&nbsp;&nbsp;</span>Заполнение пропусков <code>balcony</code></a></span></li><li><span><a href=\"#Заполнение-пропусков-ceiling_height\" data-toc-modified-id=\"Заполнение-пропусков-ceiling_height-2.1.4\"><span class=\"toc-item-num\">2.1.4&nbsp;&nbsp;</span>Заполнение пропусков <code>ceiling_height</code></a></span></li><li><span><a href=\"#Заполнение-пропусков-city_centers_neareast\" data-toc-modified-id=\"Заполнение-пропусков-city_centers_neareast-2.1.5\"><span class=\"toc-item-num\">2.1.5&nbsp;&nbsp;</span>Заполнение пропусков <code>city_centers_neareast</code></a></span></li><li><span><a href=\"#Заполнение-пропусков-ceiling_height-после-заполнения-столбца-city_centers_neareast\" data-toc-modified-id=\"Заполнение-пропусков-ceiling_height-после-заполнения-столбца-city_centers_neareast-2.1.6\"><span class=\"toc-item-num\">2.1.6&nbsp;&nbsp;</span>Заполнение пропусков <code>ceiling_height</code> после заполнения столбца <code>city_centers_neareast</code></a></span></li><li><span><a href=\"#Заполнение-пропусков-days_exposition\" data-toc-modified-id=\"Заполнение-пропусков-days_exposition-2.1.7\"><span class=\"toc-item-num\">2.1.7&nbsp;&nbsp;</span>Заполнение пропусков <code>days_exposition</code></a></span></li><li><span><a href=\"#Заполнение-пропусков-kitchen_area,-living_area\" data-toc-modified-id=\"Заполнение-пропусков-kitchen_area,-living_area-2.1.8\"><span class=\"toc-item-num\">2.1.8&nbsp;&nbsp;</span>Заполнение пропусков <code>kitchen_area</code>, <code>living_area</code></a></span></li><li><span><a href=\"#Заполнение-пропусков-floors_total\" data-toc-modified-id=\"Заполнение-пропусков-floors_total-2.1.9\"><span class=\"toc-item-num\">2.1.9&nbsp;&nbsp;</span>Заполнение пропусков <code>floors_total</code></a></span></li><li><span><a href=\"#Заполнение-пропусков-locality_name\" data-toc-modified-id=\"Заполнение-пропусков-locality_name-2.1.10\"><span class=\"toc-item-num\">2.1.10&nbsp;&nbsp;</span>Заполнение пропусков <code>locality_name</code></a></span></li></ul></li><li><span><a href=\"#Перевод-данных-к-нужному-типу\" data-toc-modified-id=\"Перевод-данных-к-нужному-типу-2.2\"><span class=\"toc-item-num\">2.2&nbsp;&nbsp;</span>Перевод данных к нужному типу</a></span><ul class=\"toc-item\"><li><span><a href=\"#Переведём-в-тип-int\" data-toc-modified-id=\"Переведём-в-тип-int-2.2.1\"><span class=\"toc-item-num\">2.2.1&nbsp;&nbsp;</span>Переведём в тип <code>int</code></a></span></li><li><span><a href=\"#Переведём-в-тип-datetime\" data-toc-modified-id=\"Переведём-в-тип-datetime-2.2.2\"><span class=\"toc-item-num\">2.2.2&nbsp;&nbsp;</span>Переведём в тип <code>datetime</code></a></span></li><li><span><a href=\"#Окрулим-до-1-ого-и-2-х-знаков-после-запятой\" data-toc-modified-id=\"Окрулим-до-1-ого-и-2-х-знаков-после-запятой-2.2.3\"><span class=\"toc-item-num\">2.2.3&nbsp;&nbsp;</span>Окрулим до 1-ого и 2-х знаков после запятой</a></span></li></ul></li></ul></li><li><span><a href=\"#Расчёты-и-добавление-результатов-в-таблицу\" data-toc-modified-id=\"Расчёты-и-добавление-результатов-в-таблицу-3\"><span class=\"toc-item-num\">3&nbsp;&nbsp;</span>Расчёты и добавление результатов в таблицу</a></span><ul class=\"toc-item\"><li><span><a href=\"#Расчёт-цены-квадратного-метра\" data-toc-modified-id=\"Расчёт-цены-квадратного-метра-3.1\"><span class=\"toc-item-num\">3.1&nbsp;&nbsp;</span>Расчёт цены квадратного метра</a></span></li><li><span><a href=\"#Добавление-дня-недели,-месяца-и-года-публикации\" data-toc-modified-id=\"Добавление-дня-недели,-месяца-и-года-публикации-3.2\"><span class=\"toc-item-num\">3.2&nbsp;&nbsp;</span>Добавление дня недели, месяца и года публикации</a></span></li><li><span><a href=\"#Добаление-категорий-этажа-квартиры\" data-toc-modified-id=\"Добаление-категорий-этажа-квартиры-3.3\"><span class=\"toc-item-num\">3.3&nbsp;&nbsp;</span>Добаление категорий этажа квартиры</a></span></li><li><span><a href=\"#Добавление-соотношения-жилой-и-общей-площади,-а-также-отношение-площади-кухни-к-общей.\" data-toc-modified-id=\"Добавление-соотношения-жилой-и-общей-площади,-а-также-отношение-площади-кухни-к-общей.-3.4\"><span class=\"toc-item-num\">3.4&nbsp;&nbsp;</span>Добавление соотношения жилой и общей площади, а также отношение площади кухни к общей.</a></span></li></ul></li><li><span><a href=\"#Исследовательский-анализ-данных\" data-toc-modified-id=\"Исследовательский-анализ-данных-4\"><span class=\"toc-item-num\">4&nbsp;&nbsp;</span>Исследовательский анализ данных</a></span><ul class=\"toc-item\"><li><span><a href=\"#Изучение-параметров:-площадь,-цена,-число-комнат,-высота-потолков\" data-toc-modified-id=\"Изучение-параметров:-площадь,-цена,-число-комнат,-высота-потолков-4.1\"><span class=\"toc-item-num\">4.1&nbsp;&nbsp;</span>Изучение параметров: площадь, цена, число комнат, высота потолков</a></span><ul class=\"toc-item\"><li><span><a href=\"#Гистограмма-распределения-значений-площади\" data-toc-modified-id=\"Гистограмма-распределения-значений-площади-4.1.1\"><span class=\"toc-item-num\">4.1.1&nbsp;&nbsp;</span>Гистограмма распределения значений площади</a></span></li><li><span><a href=\"#Гистограмма-распределения-значений-цены\" data-toc-modified-id=\"Гистограмма-распределения-значений-цены-4.1.2\"><span class=\"toc-item-num\">4.1.2&nbsp;&nbsp;</span>Гистограмма распределения значений цены</a></span></li><li><span><a href=\"#Гистограмма-распределения-значений-кол-ва-комнат\" data-toc-modified-id=\"Гистограмма-распределения-значений-кол-ва-комнат-4.1.3\"><span class=\"toc-item-num\">4.1.3&nbsp;&nbsp;</span>Гистограмма распределения значений кол-ва комнат</a></span></li><li><span><a href=\"#Гистограмма-распределения-значений-высоты-потолков\" data-toc-modified-id=\"Гистограмма-распределения-значений-высоты-потолков-4.1.4\"><span class=\"toc-item-num\">4.1.4&nbsp;&nbsp;</span>Гистограмма распределения значений высоты потолков</a></span></li><li><span><a href=\"#Вывод\" data-toc-modified-id=\"Вывод-4.1.5\"><span class=\"toc-item-num\">4.1.5&nbsp;&nbsp;</span>Вывод</a></span></li></ul></li><li><span><a href=\"#Изучение-времени-продажи-квартиры\" data-toc-modified-id=\"Изучение-времени-продажи-квартиры-4.2\"><span class=\"toc-item-num\">4.2&nbsp;&nbsp;</span>Изучение времени продажи квартиры</a></span></li><li><span><a href=\"#Редкие-и-выбивающиеся-значения-времени-продажи-квартиры\" data-toc-modified-id=\"Редкие-и-выбивающиеся-значения-времени-продажи-квартиры-4.3\"><span class=\"toc-item-num\">4.3&nbsp;&nbsp;</span>Редкие и выбивающиеся значения времени продажи квартиры</a></span></li><li><span><a href=\"#Факторы-влияющие-на-стоимость-квартиры\" data-toc-modified-id=\"Факторы-влияющие-на-стоимость-квартиры-4.4\"><span class=\"toc-item-num\">4.4&nbsp;&nbsp;</span>Факторы влияющие на стоимость квартиры</a></span><ul class=\"toc-item\"><li><span><a href=\"#Зависимость-цены-от-площади\" data-toc-modified-id=\"Зависимость-цены-от-площади-4.4.1\"><span class=\"toc-item-num\">4.4.1&nbsp;&nbsp;</span>Зависимость цены от площади</a></span></li><li><span><a href=\"#Зависимость-цены-от-числа-комнат\" data-toc-modified-id=\"Зависимость-цены-от-числа-комнат-4.4.2\"><span class=\"toc-item-num\">4.4.2&nbsp;&nbsp;</span>Зависимость цены от числа комнат</a></span></li><li><span><a href=\"#Зависимость-цены-от-удалённости-от-центра\" data-toc-modified-id=\"Зависимость-цены-от-удалённости-от-центра-4.4.3\"><span class=\"toc-item-num\">4.4.3&nbsp;&nbsp;</span>Зависимость цены от удалённости от центра</a></span></li><li><span><a href=\"#Зависимость-цены-от-этажа-квартиры\" data-toc-modified-id=\"Зависимость-цены-от-этажа-квартиры-4.4.4\"><span class=\"toc-item-num\">4.4.4&nbsp;&nbsp;</span>Зависимость цены от этажа квартиры</a></span></li><li><span><a href=\"#Зависимость-цены-от-даты-размещения\" data-toc-modified-id=\"Зависимость-цены-от-даты-размещения-4.4.5\"><span class=\"toc-item-num\">4.4.5&nbsp;&nbsp;</span>Зависимость цены от даты размещения</a></span></li></ul></li><li><span><a href=\"#Срез-по-10-населённым-пунктам-с-наибольшим-числом-объявлений.\" data-toc-modified-id=\"Срез-по-10-населённым-пунктам-с-наибольшим-числом-объявлений.-4.5\"><span class=\"toc-item-num\">4.5&nbsp;&nbsp;</span>Срез по 10 населённым пунктам с наибольшим числом объявлений.</a></span></li><li><span><a href=\"#Выделение-квартир-в-Санкт-Петербурге\" data-toc-modified-id=\"Выделение-квартир-в-Санкт-Петербурге-4.6\"><span class=\"toc-item-num\">4.6&nbsp;&nbsp;</span>Выделение квартир в Санкт-Петербурге</a></span></li><li><span><a href=\"#Исследование-сегмента-квартир-в-центре-Санкт-Петербурга\" data-toc-modified-id=\"Исследование-сегмента-квартир-в-центре-Санкт-Петербурга-4.7\"><span class=\"toc-item-num\">4.7&nbsp;&nbsp;</span>Исследование сегмента квартир в центре Санкт-Петербурга</a></span><ul class=\"toc-item\"><li><span><a href=\"#Площадь,-цена,-число-комнат-и-высота-потолков-в-центре-Санкт-Петербурга\" data-toc-modified-id=\"Площадь,-цена,-число-комнат-и-высота-потолков-в-центре-Санкт-Петербурга-4.7.1\"><span class=\"toc-item-num\">4.7.1&nbsp;&nbsp;</span>Площадь, цена, число комнат и высота потолков в центре Санкт-Петербурга</a></span></li><li><span><a href=\"#Факторы-влияющие-на-стоимость-квартиры\" data-toc-modified-id=\"Факторы-влияющие-на-стоимость-квартиры-4.7.2\"><span class=\"toc-item-num\">4.7.2&nbsp;&nbsp;</span>Факторы влияющие на стоимость квартиры</a></span><ul class=\"toc-item\"><li><span><a href=\"#Зависимость-цены-от-площади\" data-toc-modified-id=\"Зависимость-цены-от-площади-4.7.2.1\"><span class=\"toc-item-num\">4.7.2.1&nbsp;&nbsp;</span>Зависимость цены от площади</a></span></li><li><span><a href=\"#Зависимость-цены-от-числа-комнат\" data-toc-modified-id=\"Зависимость-цены-от-числа-комнат-4.7.2.2\"><span class=\"toc-item-num\">4.7.2.2&nbsp;&nbsp;</span>Зависимость цены от числа комнат</a></span></li><li><span><a href=\"#Зависимость-цены-от-удалённости-от-центра\" data-toc-modified-id=\"Зависимость-цены-от-удалённости-от-центра-4.7.2.3\"><span class=\"toc-item-num\">4.7.2.3&nbsp;&nbsp;</span>Зависимость цены от удалённости от центра</a></span></li><li><span><a href=\"#Зависимость-цены-от-этажа-квартиры\" data-toc-modified-id=\"Зависимость-цены-от-этажа-квартиры-4.7.2.4\"><span class=\"toc-item-num\">4.7.2.4&nbsp;&nbsp;</span>Зависимость цены от этажа квартиры</a></span></li><li><span><a href=\"#Зависимость-цены-от-даты-размещения\" data-toc-modified-id=\"Зависимость-цены-от-даты-размещения-4.7.2.5\"><span class=\"toc-item-num\">4.7.2.5&nbsp;&nbsp;</span>Зависимость цены от даты размещения</a></span></li></ul></li></ul></li></ul></li><li><span><a href=\"#Общий-вывод\" data-toc-modified-id=\"Общий-вывод-5\"><span class=\"toc-item-num\">5&nbsp;&nbsp;</span>Общий вывод</a></span></li><li><span><a href=\"#Чек-лист-готовности-проекта\" data-toc-modified-id=\"Чек-лист-готовности-проекта-6\"><span class=\"toc-item-num\">6&nbsp;&nbsp;</span>Чек-лист готовности проекта</a></span></li></ul></div>"
   ]
  },
  {
   "cell_type": "markdown",
   "metadata": {},
   "source": [
    "## Изучение данных из файла"
   ]
  },
  {
   "cell_type": "markdown",
   "metadata": {},
   "source": [
    "Загрузим необходимые для исследования библиотеки"
   ]
  },
  {
   "cell_type": "code",
   "execution_count": 2,
   "metadata": {},
   "outputs": [
    {
     "name": "stdout",
     "output_type": "stream",
     "text": [
      "Setup complete\n"
     ]
    }
   ],
   "source": [
    "import pandas as pd\n",
    "import matplotlib.pyplot as plt\n",
    "import seaborn as sns\n",
    "print('Setup complete')"
   ]
  },
  {
   "cell_type": "markdown",
   "metadata": {},
   "source": [
    "Загрузим файл и присвоим его переменной `df`. Выведем первые 15 строк."
   ]
  },
  {
   "cell_type": "code",
   "execution_count": 3,
   "metadata": {},
   "outputs": [
    {
     "data": {
      "text/html": [
       "<div>\n",
       "<style scoped>\n",
       "    .dataframe tbody tr th:only-of-type {\n",
       "        vertical-align: middle;\n",
       "    }\n",
       "\n",
       "    .dataframe tbody tr th {\n",
       "        vertical-align: top;\n",
       "    }\n",
       "\n",
       "    .dataframe thead th {\n",
       "        text-align: right;\n",
       "    }\n",
       "</style>\n",
       "<table border=\"1\" class=\"dataframe\">\n",
       "  <thead>\n",
       "    <tr style=\"text-align: right;\">\n",
       "      <th></th>\n",
       "      <th>total_images</th>\n",
       "      <th>last_price</th>\n",
       "      <th>total_area</th>\n",
       "      <th>first_day_exposition</th>\n",
       "      <th>rooms</th>\n",
       "      <th>ceiling_height</th>\n",
       "      <th>floors_total</th>\n",
       "      <th>living_area</th>\n",
       "      <th>floor</th>\n",
       "      <th>is_apartment</th>\n",
       "      <th>...</th>\n",
       "      <th>kitchen_area</th>\n",
       "      <th>balcony</th>\n",
       "      <th>locality_name</th>\n",
       "      <th>airports_nearest</th>\n",
       "      <th>cityCenters_nearest</th>\n",
       "      <th>parks_around3000</th>\n",
       "      <th>parks_nearest</th>\n",
       "      <th>ponds_around3000</th>\n",
       "      <th>ponds_nearest</th>\n",
       "      <th>days_exposition</th>\n",
       "    </tr>\n",
       "  </thead>\n",
       "  <tbody>\n",
       "    <tr>\n",
       "      <th>0</th>\n",
       "      <td>20</td>\n",
       "      <td>13000000.0</td>\n",
       "      <td>108.00</td>\n",
       "      <td>2019-03-07T00:00:00</td>\n",
       "      <td>3</td>\n",
       "      <td>2.70</td>\n",
       "      <td>16.0</td>\n",
       "      <td>51.00</td>\n",
       "      <td>8</td>\n",
       "      <td>NaN</td>\n",
       "      <td>...</td>\n",
       "      <td>25.00</td>\n",
       "      <td>NaN</td>\n",
       "      <td>Санкт-Петербург</td>\n",
       "      <td>18863.0</td>\n",
       "      <td>16028.0</td>\n",
       "      <td>1.0</td>\n",
       "      <td>482.0</td>\n",
       "      <td>2.0</td>\n",
       "      <td>755.0</td>\n",
       "      <td>NaN</td>\n",
       "    </tr>\n",
       "    <tr>\n",
       "      <th>1</th>\n",
       "      <td>7</td>\n",
       "      <td>3350000.0</td>\n",
       "      <td>40.40</td>\n",
       "      <td>2018-12-04T00:00:00</td>\n",
       "      <td>1</td>\n",
       "      <td>NaN</td>\n",
       "      <td>11.0</td>\n",
       "      <td>18.60</td>\n",
       "      <td>1</td>\n",
       "      <td>NaN</td>\n",
       "      <td>...</td>\n",
       "      <td>11.00</td>\n",
       "      <td>2.0</td>\n",
       "      <td>посёлок Шушары</td>\n",
       "      <td>12817.0</td>\n",
       "      <td>18603.0</td>\n",
       "      <td>0.0</td>\n",
       "      <td>NaN</td>\n",
       "      <td>0.0</td>\n",
       "      <td>NaN</td>\n",
       "      <td>81.0</td>\n",
       "    </tr>\n",
       "    <tr>\n",
       "      <th>2</th>\n",
       "      <td>10</td>\n",
       "      <td>5196000.0</td>\n",
       "      <td>56.00</td>\n",
       "      <td>2015-08-20T00:00:00</td>\n",
       "      <td>2</td>\n",
       "      <td>NaN</td>\n",
       "      <td>5.0</td>\n",
       "      <td>34.30</td>\n",
       "      <td>4</td>\n",
       "      <td>NaN</td>\n",
       "      <td>...</td>\n",
       "      <td>8.30</td>\n",
       "      <td>0.0</td>\n",
       "      <td>Санкт-Петербург</td>\n",
       "      <td>21741.0</td>\n",
       "      <td>13933.0</td>\n",
       "      <td>1.0</td>\n",
       "      <td>90.0</td>\n",
       "      <td>2.0</td>\n",
       "      <td>574.0</td>\n",
       "      <td>558.0</td>\n",
       "    </tr>\n",
       "    <tr>\n",
       "      <th>3</th>\n",
       "      <td>0</td>\n",
       "      <td>64900000.0</td>\n",
       "      <td>159.00</td>\n",
       "      <td>2015-07-24T00:00:00</td>\n",
       "      <td>3</td>\n",
       "      <td>NaN</td>\n",
       "      <td>14.0</td>\n",
       "      <td>NaN</td>\n",
       "      <td>9</td>\n",
       "      <td>NaN</td>\n",
       "      <td>...</td>\n",
       "      <td>NaN</td>\n",
       "      <td>0.0</td>\n",
       "      <td>Санкт-Петербург</td>\n",
       "      <td>28098.0</td>\n",
       "      <td>6800.0</td>\n",
       "      <td>2.0</td>\n",
       "      <td>84.0</td>\n",
       "      <td>3.0</td>\n",
       "      <td>234.0</td>\n",
       "      <td>424.0</td>\n",
       "    </tr>\n",
       "    <tr>\n",
       "      <th>4</th>\n",
       "      <td>2</td>\n",
       "      <td>10000000.0</td>\n",
       "      <td>100.00</td>\n",
       "      <td>2018-06-19T00:00:00</td>\n",
       "      <td>2</td>\n",
       "      <td>3.03</td>\n",
       "      <td>14.0</td>\n",
       "      <td>32.00</td>\n",
       "      <td>13</td>\n",
       "      <td>NaN</td>\n",
       "      <td>...</td>\n",
       "      <td>41.00</td>\n",
       "      <td>NaN</td>\n",
       "      <td>Санкт-Петербург</td>\n",
       "      <td>31856.0</td>\n",
       "      <td>8098.0</td>\n",
       "      <td>2.0</td>\n",
       "      <td>112.0</td>\n",
       "      <td>1.0</td>\n",
       "      <td>48.0</td>\n",
       "      <td>121.0</td>\n",
       "    </tr>\n",
       "    <tr>\n",
       "      <th>5</th>\n",
       "      <td>10</td>\n",
       "      <td>2890000.0</td>\n",
       "      <td>30.40</td>\n",
       "      <td>2018-09-10T00:00:00</td>\n",
       "      <td>1</td>\n",
       "      <td>NaN</td>\n",
       "      <td>12.0</td>\n",
       "      <td>14.40</td>\n",
       "      <td>5</td>\n",
       "      <td>NaN</td>\n",
       "      <td>...</td>\n",
       "      <td>9.10</td>\n",
       "      <td>NaN</td>\n",
       "      <td>городской посёлок Янино-1</td>\n",
       "      <td>NaN</td>\n",
       "      <td>NaN</td>\n",
       "      <td>NaN</td>\n",
       "      <td>NaN</td>\n",
       "      <td>NaN</td>\n",
       "      <td>NaN</td>\n",
       "      <td>55.0</td>\n",
       "    </tr>\n",
       "    <tr>\n",
       "      <th>6</th>\n",
       "      <td>6</td>\n",
       "      <td>3700000.0</td>\n",
       "      <td>37.30</td>\n",
       "      <td>2017-11-02T00:00:00</td>\n",
       "      <td>1</td>\n",
       "      <td>NaN</td>\n",
       "      <td>26.0</td>\n",
       "      <td>10.60</td>\n",
       "      <td>6</td>\n",
       "      <td>NaN</td>\n",
       "      <td>...</td>\n",
       "      <td>14.40</td>\n",
       "      <td>1.0</td>\n",
       "      <td>посёлок Парголово</td>\n",
       "      <td>52996.0</td>\n",
       "      <td>19143.0</td>\n",
       "      <td>0.0</td>\n",
       "      <td>NaN</td>\n",
       "      <td>0.0</td>\n",
       "      <td>NaN</td>\n",
       "      <td>155.0</td>\n",
       "    </tr>\n",
       "    <tr>\n",
       "      <th>7</th>\n",
       "      <td>5</td>\n",
       "      <td>7915000.0</td>\n",
       "      <td>71.60</td>\n",
       "      <td>2019-04-18T00:00:00</td>\n",
       "      <td>2</td>\n",
       "      <td>NaN</td>\n",
       "      <td>24.0</td>\n",
       "      <td>NaN</td>\n",
       "      <td>22</td>\n",
       "      <td>NaN</td>\n",
       "      <td>...</td>\n",
       "      <td>18.90</td>\n",
       "      <td>2.0</td>\n",
       "      <td>Санкт-Петербург</td>\n",
       "      <td>23982.0</td>\n",
       "      <td>11634.0</td>\n",
       "      <td>0.0</td>\n",
       "      <td>NaN</td>\n",
       "      <td>0.0</td>\n",
       "      <td>NaN</td>\n",
       "      <td>NaN</td>\n",
       "    </tr>\n",
       "    <tr>\n",
       "      <th>8</th>\n",
       "      <td>20</td>\n",
       "      <td>2900000.0</td>\n",
       "      <td>33.16</td>\n",
       "      <td>2018-05-23T00:00:00</td>\n",
       "      <td>1</td>\n",
       "      <td>NaN</td>\n",
       "      <td>27.0</td>\n",
       "      <td>15.43</td>\n",
       "      <td>26</td>\n",
       "      <td>NaN</td>\n",
       "      <td>...</td>\n",
       "      <td>8.81</td>\n",
       "      <td>NaN</td>\n",
       "      <td>посёлок Мурино</td>\n",
       "      <td>NaN</td>\n",
       "      <td>NaN</td>\n",
       "      <td>NaN</td>\n",
       "      <td>NaN</td>\n",
       "      <td>NaN</td>\n",
       "      <td>NaN</td>\n",
       "      <td>189.0</td>\n",
       "    </tr>\n",
       "    <tr>\n",
       "      <th>9</th>\n",
       "      <td>18</td>\n",
       "      <td>5400000.0</td>\n",
       "      <td>61.00</td>\n",
       "      <td>2017-02-26T00:00:00</td>\n",
       "      <td>3</td>\n",
       "      <td>2.50</td>\n",
       "      <td>9.0</td>\n",
       "      <td>43.60</td>\n",
       "      <td>7</td>\n",
       "      <td>NaN</td>\n",
       "      <td>...</td>\n",
       "      <td>6.50</td>\n",
       "      <td>2.0</td>\n",
       "      <td>Санкт-Петербург</td>\n",
       "      <td>50898.0</td>\n",
       "      <td>15008.0</td>\n",
       "      <td>0.0</td>\n",
       "      <td>NaN</td>\n",
       "      <td>0.0</td>\n",
       "      <td>NaN</td>\n",
       "      <td>289.0</td>\n",
       "    </tr>\n",
       "    <tr>\n",
       "      <th>10</th>\n",
       "      <td>5</td>\n",
       "      <td>5050000.0</td>\n",
       "      <td>39.60</td>\n",
       "      <td>2017-11-16T00:00:00</td>\n",
       "      <td>1</td>\n",
       "      <td>2.67</td>\n",
       "      <td>12.0</td>\n",
       "      <td>20.30</td>\n",
       "      <td>3</td>\n",
       "      <td>NaN</td>\n",
       "      <td>...</td>\n",
       "      <td>8.50</td>\n",
       "      <td>NaN</td>\n",
       "      <td>Санкт-Петербург</td>\n",
       "      <td>38357.0</td>\n",
       "      <td>13878.0</td>\n",
       "      <td>1.0</td>\n",
       "      <td>310.0</td>\n",
       "      <td>2.0</td>\n",
       "      <td>553.0</td>\n",
       "      <td>137.0</td>\n",
       "    </tr>\n",
       "    <tr>\n",
       "      <th>11</th>\n",
       "      <td>9</td>\n",
       "      <td>3300000.0</td>\n",
       "      <td>44.00</td>\n",
       "      <td>2018-08-27T00:00:00</td>\n",
       "      <td>2</td>\n",
       "      <td>NaN</td>\n",
       "      <td>5.0</td>\n",
       "      <td>31.00</td>\n",
       "      <td>4</td>\n",
       "      <td>False</td>\n",
       "      <td>...</td>\n",
       "      <td>6.00</td>\n",
       "      <td>1.0</td>\n",
       "      <td>Ломоносов</td>\n",
       "      <td>48252.0</td>\n",
       "      <td>51677.0</td>\n",
       "      <td>0.0</td>\n",
       "      <td>NaN</td>\n",
       "      <td>0.0</td>\n",
       "      <td>NaN</td>\n",
       "      <td>7.0</td>\n",
       "    </tr>\n",
       "    <tr>\n",
       "      <th>12</th>\n",
       "      <td>10</td>\n",
       "      <td>3890000.0</td>\n",
       "      <td>54.00</td>\n",
       "      <td>2016-06-30T00:00:00</td>\n",
       "      <td>2</td>\n",
       "      <td>NaN</td>\n",
       "      <td>5.0</td>\n",
       "      <td>30.00</td>\n",
       "      <td>5</td>\n",
       "      <td>NaN</td>\n",
       "      <td>...</td>\n",
       "      <td>9.00</td>\n",
       "      <td>0.0</td>\n",
       "      <td>Сертолово</td>\n",
       "      <td>NaN</td>\n",
       "      <td>NaN</td>\n",
       "      <td>NaN</td>\n",
       "      <td>NaN</td>\n",
       "      <td>NaN</td>\n",
       "      <td>NaN</td>\n",
       "      <td>90.0</td>\n",
       "    </tr>\n",
       "    <tr>\n",
       "      <th>13</th>\n",
       "      <td>20</td>\n",
       "      <td>3550000.0</td>\n",
       "      <td>42.80</td>\n",
       "      <td>2017-07-01T00:00:00</td>\n",
       "      <td>2</td>\n",
       "      <td>2.56</td>\n",
       "      <td>5.0</td>\n",
       "      <td>27.00</td>\n",
       "      <td>5</td>\n",
       "      <td>NaN</td>\n",
       "      <td>...</td>\n",
       "      <td>5.20</td>\n",
       "      <td>1.0</td>\n",
       "      <td>Петергоф</td>\n",
       "      <td>37868.0</td>\n",
       "      <td>33058.0</td>\n",
       "      <td>1.0</td>\n",
       "      <td>294.0</td>\n",
       "      <td>3.0</td>\n",
       "      <td>298.0</td>\n",
       "      <td>366.0</td>\n",
       "    </tr>\n",
       "    <tr>\n",
       "      <th>14</th>\n",
       "      <td>1</td>\n",
       "      <td>4400000.0</td>\n",
       "      <td>36.00</td>\n",
       "      <td>2016-06-23T00:00:00</td>\n",
       "      <td>1</td>\n",
       "      <td>NaN</td>\n",
       "      <td>6.0</td>\n",
       "      <td>17.00</td>\n",
       "      <td>1</td>\n",
       "      <td>NaN</td>\n",
       "      <td>...</td>\n",
       "      <td>8.00</td>\n",
       "      <td>0.0</td>\n",
       "      <td>Пушкин</td>\n",
       "      <td>20782.0</td>\n",
       "      <td>30759.0</td>\n",
       "      <td>0.0</td>\n",
       "      <td>NaN</td>\n",
       "      <td>1.0</td>\n",
       "      <td>96.0</td>\n",
       "      <td>203.0</td>\n",
       "    </tr>\n",
       "  </tbody>\n",
       "</table>\n",
       "<p>15 rows × 22 columns</p>\n",
       "</div>"
      ],
      "text/plain": [
       "    total_images  last_price  total_area first_day_exposition  rooms  \\\n",
       "0             20  13000000.0      108.00  2019-03-07T00:00:00      3   \n",
       "1              7   3350000.0       40.40  2018-12-04T00:00:00      1   \n",
       "2             10   5196000.0       56.00  2015-08-20T00:00:00      2   \n",
       "3              0  64900000.0      159.00  2015-07-24T00:00:00      3   \n",
       "4              2  10000000.0      100.00  2018-06-19T00:00:00      2   \n",
       "5             10   2890000.0       30.40  2018-09-10T00:00:00      1   \n",
       "6              6   3700000.0       37.30  2017-11-02T00:00:00      1   \n",
       "7              5   7915000.0       71.60  2019-04-18T00:00:00      2   \n",
       "8             20   2900000.0       33.16  2018-05-23T00:00:00      1   \n",
       "9             18   5400000.0       61.00  2017-02-26T00:00:00      3   \n",
       "10             5   5050000.0       39.60  2017-11-16T00:00:00      1   \n",
       "11             9   3300000.0       44.00  2018-08-27T00:00:00      2   \n",
       "12            10   3890000.0       54.00  2016-06-30T00:00:00      2   \n",
       "13            20   3550000.0       42.80  2017-07-01T00:00:00      2   \n",
       "14             1   4400000.0       36.00  2016-06-23T00:00:00      1   \n",
       "\n",
       "    ceiling_height  floors_total  living_area  floor is_apartment  ...  \\\n",
       "0             2.70          16.0        51.00      8          NaN  ...   \n",
       "1              NaN          11.0        18.60      1          NaN  ...   \n",
       "2              NaN           5.0        34.30      4          NaN  ...   \n",
       "3              NaN          14.0          NaN      9          NaN  ...   \n",
       "4             3.03          14.0        32.00     13          NaN  ...   \n",
       "5              NaN          12.0        14.40      5          NaN  ...   \n",
       "6              NaN          26.0        10.60      6          NaN  ...   \n",
       "7              NaN          24.0          NaN     22          NaN  ...   \n",
       "8              NaN          27.0        15.43     26          NaN  ...   \n",
       "9             2.50           9.0        43.60      7          NaN  ...   \n",
       "10            2.67          12.0        20.30      3          NaN  ...   \n",
       "11             NaN           5.0        31.00      4        False  ...   \n",
       "12             NaN           5.0        30.00      5          NaN  ...   \n",
       "13            2.56           5.0        27.00      5          NaN  ...   \n",
       "14             NaN           6.0        17.00      1          NaN  ...   \n",
       "\n",
       "    kitchen_area  balcony              locality_name  airports_nearest  \\\n",
       "0          25.00      NaN            Санкт-Петербург           18863.0   \n",
       "1          11.00      2.0             посёлок Шушары           12817.0   \n",
       "2           8.30      0.0            Санкт-Петербург           21741.0   \n",
       "3            NaN      0.0            Санкт-Петербург           28098.0   \n",
       "4          41.00      NaN            Санкт-Петербург           31856.0   \n",
       "5           9.10      NaN  городской посёлок Янино-1               NaN   \n",
       "6          14.40      1.0          посёлок Парголово           52996.0   \n",
       "7          18.90      2.0            Санкт-Петербург           23982.0   \n",
       "8           8.81      NaN             посёлок Мурино               NaN   \n",
       "9           6.50      2.0            Санкт-Петербург           50898.0   \n",
       "10          8.50      NaN            Санкт-Петербург           38357.0   \n",
       "11          6.00      1.0                  Ломоносов           48252.0   \n",
       "12          9.00      0.0                  Сертолово               NaN   \n",
       "13          5.20      1.0                   Петергоф           37868.0   \n",
       "14          8.00      0.0                     Пушкин           20782.0   \n",
       "\n",
       "   cityCenters_nearest  parks_around3000  parks_nearest  ponds_around3000  \\\n",
       "0              16028.0               1.0          482.0               2.0   \n",
       "1              18603.0               0.0            NaN               0.0   \n",
       "2              13933.0               1.0           90.0               2.0   \n",
       "3               6800.0               2.0           84.0               3.0   \n",
       "4               8098.0               2.0          112.0               1.0   \n",
       "5                  NaN               NaN            NaN               NaN   \n",
       "6              19143.0               0.0            NaN               0.0   \n",
       "7              11634.0               0.0            NaN               0.0   \n",
       "8                  NaN               NaN            NaN               NaN   \n",
       "9              15008.0               0.0            NaN               0.0   \n",
       "10             13878.0               1.0          310.0               2.0   \n",
       "11             51677.0               0.0            NaN               0.0   \n",
       "12                 NaN               NaN            NaN               NaN   \n",
       "13             33058.0               1.0          294.0               3.0   \n",
       "14             30759.0               0.0            NaN               1.0   \n",
       "\n",
       "    ponds_nearest  days_exposition  \n",
       "0           755.0              NaN  \n",
       "1             NaN             81.0  \n",
       "2           574.0            558.0  \n",
       "3           234.0            424.0  \n",
       "4            48.0            121.0  \n",
       "5             NaN             55.0  \n",
       "6             NaN            155.0  \n",
       "7             NaN              NaN  \n",
       "8             NaN            189.0  \n",
       "9             NaN            289.0  \n",
       "10          553.0            137.0  \n",
       "11            NaN              7.0  \n",
       "12            NaN             90.0  \n",
       "13          298.0            366.0  \n",
       "14           96.0            203.0  \n",
       "\n",
       "[15 rows x 22 columns]"
      ]
     },
     "execution_count": 3,
     "metadata": {},
     "output_type": "execute_result"
    }
   ],
   "source": [
    "try:\n",
    "    df = pd.read_csv('/datasets/real_estate_data.csv', sep='\\t')\n",
    "except:\n",
    "    df = pd.read_csv('datasets/real_estate_data.csv', sep='\\t')\n",
    "df.head(15)"
   ]
  },
  {
   "cell_type": "markdown",
   "metadata": {},
   "source": [
    "Получим общую информацию о данных."
   ]
  },
  {
   "cell_type": "code",
   "execution_count": 4,
   "metadata": {},
   "outputs": [
    {
     "name": "stdout",
     "output_type": "stream",
     "text": [
      "<class 'pandas.core.frame.DataFrame'>\n",
      "RangeIndex: 23699 entries, 0 to 23698\n",
      "Data columns (total 22 columns):\n",
      " #   Column                Non-Null Count  Dtype  \n",
      "---  ------                --------------  -----  \n",
      " 0   total_images          23699 non-null  int64  \n",
      " 1   last_price            23699 non-null  float64\n",
      " 2   total_area            23699 non-null  float64\n",
      " 3   first_day_exposition  23699 non-null  object \n",
      " 4   rooms                 23699 non-null  int64  \n",
      " 5   ceiling_height        14504 non-null  float64\n",
      " 6   floors_total          23613 non-null  float64\n",
      " 7   living_area           21796 non-null  float64\n",
      " 8   floor                 23699 non-null  int64  \n",
      " 9   is_apartment          2775 non-null   object \n",
      " 10  studio                23699 non-null  bool   \n",
      " 11  open_plan             23699 non-null  bool   \n",
      " 12  kitchen_area          21421 non-null  float64\n",
      " 13  balcony               12180 non-null  float64\n",
      " 14  locality_name         23650 non-null  object \n",
      " 15  airports_nearest      18157 non-null  float64\n",
      " 16  cityCenters_nearest   18180 non-null  float64\n",
      " 17  parks_around3000      18181 non-null  float64\n",
      " 18  parks_nearest         8079 non-null   float64\n",
      " 19  ponds_around3000      18181 non-null  float64\n",
      " 20  ponds_nearest         9110 non-null   float64\n",
      " 21  days_exposition       20518 non-null  float64\n",
      "dtypes: bool(2), float64(14), int64(3), object(3)\n",
      "memory usage: 3.7+ MB\n"
     ]
    }
   ],
   "source": [
    "df.info()"
   ]
  },
  {
   "cell_type": "markdown",
   "metadata": {},
   "source": [
    "Так же вызовем метод `describe()` ко всему датафрейму для получения статистической информации о данных в всех столбцах."
   ]
  },
  {
   "cell_type": "code",
   "execution_count": 5,
   "metadata": {},
   "outputs": [
    {
     "data": {
      "text/html": [
       "<div>\n",
       "<style scoped>\n",
       "    .dataframe tbody tr th:only-of-type {\n",
       "        vertical-align: middle;\n",
       "    }\n",
       "\n",
       "    .dataframe tbody tr th {\n",
       "        vertical-align: top;\n",
       "    }\n",
       "\n",
       "    .dataframe thead th {\n",
       "        text-align: right;\n",
       "    }\n",
       "</style>\n",
       "<table border=\"1\" class=\"dataframe\">\n",
       "  <thead>\n",
       "    <tr style=\"text-align: right;\">\n",
       "      <th></th>\n",
       "      <th>total_images</th>\n",
       "      <th>last_price</th>\n",
       "      <th>total_area</th>\n",
       "      <th>rooms</th>\n",
       "      <th>ceiling_height</th>\n",
       "      <th>floors_total</th>\n",
       "      <th>living_area</th>\n",
       "      <th>floor</th>\n",
       "      <th>kitchen_area</th>\n",
       "      <th>balcony</th>\n",
       "      <th>airports_nearest</th>\n",
       "      <th>cityCenters_nearest</th>\n",
       "      <th>parks_around3000</th>\n",
       "      <th>parks_nearest</th>\n",
       "      <th>ponds_around3000</th>\n",
       "      <th>ponds_nearest</th>\n",
       "      <th>days_exposition</th>\n",
       "    </tr>\n",
       "  </thead>\n",
       "  <tbody>\n",
       "    <tr>\n",
       "      <th>count</th>\n",
       "      <td>23699.000000</td>\n",
       "      <td>2.369900e+04</td>\n",
       "      <td>23699.000000</td>\n",
       "      <td>23699.000000</td>\n",
       "      <td>14504.000000</td>\n",
       "      <td>23613.000000</td>\n",
       "      <td>21796.000000</td>\n",
       "      <td>23699.000000</td>\n",
       "      <td>21421.000000</td>\n",
       "      <td>12180.000000</td>\n",
       "      <td>18157.000000</td>\n",
       "      <td>18180.000000</td>\n",
       "      <td>18181.000000</td>\n",
       "      <td>8079.000000</td>\n",
       "      <td>18181.000000</td>\n",
       "      <td>9110.000000</td>\n",
       "      <td>20518.000000</td>\n",
       "    </tr>\n",
       "    <tr>\n",
       "      <th>mean</th>\n",
       "      <td>9.858475</td>\n",
       "      <td>6.541549e+06</td>\n",
       "      <td>60.348651</td>\n",
       "      <td>2.070636</td>\n",
       "      <td>2.771499</td>\n",
       "      <td>10.673824</td>\n",
       "      <td>34.457852</td>\n",
       "      <td>5.892358</td>\n",
       "      <td>10.569807</td>\n",
       "      <td>1.150082</td>\n",
       "      <td>28793.672193</td>\n",
       "      <td>14191.277833</td>\n",
       "      <td>0.611408</td>\n",
       "      <td>490.804555</td>\n",
       "      <td>0.770255</td>\n",
       "      <td>517.980900</td>\n",
       "      <td>180.888634</td>\n",
       "    </tr>\n",
       "    <tr>\n",
       "      <th>std</th>\n",
       "      <td>5.682529</td>\n",
       "      <td>1.088701e+07</td>\n",
       "      <td>35.654083</td>\n",
       "      <td>1.078405</td>\n",
       "      <td>1.261056</td>\n",
       "      <td>6.597173</td>\n",
       "      <td>22.030445</td>\n",
       "      <td>4.885249</td>\n",
       "      <td>5.905438</td>\n",
       "      <td>1.071300</td>\n",
       "      <td>12630.880622</td>\n",
       "      <td>8608.386210</td>\n",
       "      <td>0.802074</td>\n",
       "      <td>342.317995</td>\n",
       "      <td>0.938346</td>\n",
       "      <td>277.720643</td>\n",
       "      <td>219.727988</td>\n",
       "    </tr>\n",
       "    <tr>\n",
       "      <th>min</th>\n",
       "      <td>0.000000</td>\n",
       "      <td>1.219000e+04</td>\n",
       "      <td>12.000000</td>\n",
       "      <td>0.000000</td>\n",
       "      <td>1.000000</td>\n",
       "      <td>1.000000</td>\n",
       "      <td>2.000000</td>\n",
       "      <td>1.000000</td>\n",
       "      <td>1.300000</td>\n",
       "      <td>0.000000</td>\n",
       "      <td>0.000000</td>\n",
       "      <td>181.000000</td>\n",
       "      <td>0.000000</td>\n",
       "      <td>1.000000</td>\n",
       "      <td>0.000000</td>\n",
       "      <td>13.000000</td>\n",
       "      <td>1.000000</td>\n",
       "    </tr>\n",
       "    <tr>\n",
       "      <th>25%</th>\n",
       "      <td>6.000000</td>\n",
       "      <td>3.400000e+06</td>\n",
       "      <td>40.000000</td>\n",
       "      <td>1.000000</td>\n",
       "      <td>2.520000</td>\n",
       "      <td>5.000000</td>\n",
       "      <td>18.600000</td>\n",
       "      <td>2.000000</td>\n",
       "      <td>7.000000</td>\n",
       "      <td>0.000000</td>\n",
       "      <td>18585.000000</td>\n",
       "      <td>9238.000000</td>\n",
       "      <td>0.000000</td>\n",
       "      <td>288.000000</td>\n",
       "      <td>0.000000</td>\n",
       "      <td>294.000000</td>\n",
       "      <td>45.000000</td>\n",
       "    </tr>\n",
       "    <tr>\n",
       "      <th>50%</th>\n",
       "      <td>9.000000</td>\n",
       "      <td>4.650000e+06</td>\n",
       "      <td>52.000000</td>\n",
       "      <td>2.000000</td>\n",
       "      <td>2.650000</td>\n",
       "      <td>9.000000</td>\n",
       "      <td>30.000000</td>\n",
       "      <td>4.000000</td>\n",
       "      <td>9.100000</td>\n",
       "      <td>1.000000</td>\n",
       "      <td>26726.000000</td>\n",
       "      <td>13098.500000</td>\n",
       "      <td>0.000000</td>\n",
       "      <td>455.000000</td>\n",
       "      <td>1.000000</td>\n",
       "      <td>502.000000</td>\n",
       "      <td>95.000000</td>\n",
       "    </tr>\n",
       "    <tr>\n",
       "      <th>75%</th>\n",
       "      <td>14.000000</td>\n",
       "      <td>6.800000e+06</td>\n",
       "      <td>69.900000</td>\n",
       "      <td>3.000000</td>\n",
       "      <td>2.800000</td>\n",
       "      <td>16.000000</td>\n",
       "      <td>42.300000</td>\n",
       "      <td>8.000000</td>\n",
       "      <td>12.000000</td>\n",
       "      <td>2.000000</td>\n",
       "      <td>37273.000000</td>\n",
       "      <td>16293.000000</td>\n",
       "      <td>1.000000</td>\n",
       "      <td>612.000000</td>\n",
       "      <td>1.000000</td>\n",
       "      <td>729.000000</td>\n",
       "      <td>232.000000</td>\n",
       "    </tr>\n",
       "    <tr>\n",
       "      <th>max</th>\n",
       "      <td>50.000000</td>\n",
       "      <td>7.630000e+08</td>\n",
       "      <td>900.000000</td>\n",
       "      <td>19.000000</td>\n",
       "      <td>100.000000</td>\n",
       "      <td>60.000000</td>\n",
       "      <td>409.700000</td>\n",
       "      <td>33.000000</td>\n",
       "      <td>112.000000</td>\n",
       "      <td>5.000000</td>\n",
       "      <td>84869.000000</td>\n",
       "      <td>65968.000000</td>\n",
       "      <td>3.000000</td>\n",
       "      <td>3190.000000</td>\n",
       "      <td>3.000000</td>\n",
       "      <td>1344.000000</td>\n",
       "      <td>1580.000000</td>\n",
       "    </tr>\n",
       "  </tbody>\n",
       "</table>\n",
       "</div>"
      ],
      "text/plain": [
       "       total_images    last_price    total_area         rooms  ceiling_height  \\\n",
       "count  23699.000000  2.369900e+04  23699.000000  23699.000000    14504.000000   \n",
       "mean       9.858475  6.541549e+06     60.348651      2.070636        2.771499   \n",
       "std        5.682529  1.088701e+07     35.654083      1.078405        1.261056   \n",
       "min        0.000000  1.219000e+04     12.000000      0.000000        1.000000   \n",
       "25%        6.000000  3.400000e+06     40.000000      1.000000        2.520000   \n",
       "50%        9.000000  4.650000e+06     52.000000      2.000000        2.650000   \n",
       "75%       14.000000  6.800000e+06     69.900000      3.000000        2.800000   \n",
       "max       50.000000  7.630000e+08    900.000000     19.000000      100.000000   \n",
       "\n",
       "       floors_total   living_area         floor  kitchen_area       balcony  \\\n",
       "count  23613.000000  21796.000000  23699.000000  21421.000000  12180.000000   \n",
       "mean      10.673824     34.457852      5.892358     10.569807      1.150082   \n",
       "std        6.597173     22.030445      4.885249      5.905438      1.071300   \n",
       "min        1.000000      2.000000      1.000000      1.300000      0.000000   \n",
       "25%        5.000000     18.600000      2.000000      7.000000      0.000000   \n",
       "50%        9.000000     30.000000      4.000000      9.100000      1.000000   \n",
       "75%       16.000000     42.300000      8.000000     12.000000      2.000000   \n",
       "max       60.000000    409.700000     33.000000    112.000000      5.000000   \n",
       "\n",
       "       airports_nearest  cityCenters_nearest  parks_around3000  parks_nearest  \\\n",
       "count      18157.000000         18180.000000      18181.000000    8079.000000   \n",
       "mean       28793.672193         14191.277833          0.611408     490.804555   \n",
       "std        12630.880622          8608.386210          0.802074     342.317995   \n",
       "min            0.000000           181.000000          0.000000       1.000000   \n",
       "25%        18585.000000          9238.000000          0.000000     288.000000   \n",
       "50%        26726.000000         13098.500000          0.000000     455.000000   \n",
       "75%        37273.000000         16293.000000          1.000000     612.000000   \n",
       "max        84869.000000         65968.000000          3.000000    3190.000000   \n",
       "\n",
       "       ponds_around3000  ponds_nearest  days_exposition  \n",
       "count      18181.000000    9110.000000     20518.000000  \n",
       "mean           0.770255     517.980900       180.888634  \n",
       "std            0.938346     277.720643       219.727988  \n",
       "min            0.000000      13.000000         1.000000  \n",
       "25%            0.000000     294.000000        45.000000  \n",
       "50%            1.000000     502.000000        95.000000  \n",
       "75%            1.000000     729.000000       232.000000  \n",
       "max            3.000000    1344.000000      1580.000000  "
      ]
     },
     "execution_count": 5,
     "metadata": {},
     "output_type": "execute_result"
    }
   ],
   "source": [
    "df.describe()"
   ]
  },
  {
   "cell_type": "markdown",
   "metadata": {},
   "source": [
    "**Вывод**   \n",
    "По полученным данным можно сделать первые выводы по каждому столбцу:\n",
    "\n",
    "- `airports_nearest` — имеются пропущенные значения, нулевые значения в расстоянии.\n",
    "- `balcony` — имеются пропущенные значения, тип данных следует перевести в целочисленный.\n",
    "- `ceiling_height` — имеются пропущенные значения, аномально большое (100 м) и аномально маленькое (1 м) значения.\n",
    "- `cityCenters_nearest` — наименование столбца необходимо привести к змеиному регистру, меются пропущенные значения.\n",
    "- `days_exposition` — меются пропущенные значения, тип данных следует перевести в целочисленный.\n",
    "- `first_day_exposition` — тип данных следует перевести в `datetime`.\n",
    "- `floors_total` — имеются пропущенные значения, аномально большое значение (60 этажей, в то время как самый высокий жилой дом Петербурга – 37 этажей), тип данных следует перевести в целочисленный.\n",
    "- `is_apartment` — имеются пропущенные значения, тип данных следует перевести в `bool`.\n",
    "- `kitchen_area` — имеются пропущенные значения, аномально большое (112 м²) и аномально маленькое (1.3 м²) значения.\n",
    "- `last_price` — тип данных следует перевести в целочисленный.\n",
    "- `living_area` — имеются пропущенные значения, аномально большое (409.7 м²) и аномально маленькое (2 м²) значения.\n",
    "- `locality_name` — имеются пропущенные значения.\n",
    "- `parks_around3000` — имеются пропущенные значения, тип данных следует перевести в целочисленный.\n",
    "- `parks_nearest` — имеются пропущенные значения, аномально маленькое (1 м) значение.\n",
    "- `ponds_around3000` — имеются пропущенные значения, тип данных следует перевести в целочисленный.\n",
    "- `ponds_nearest` — имеются пропущенные значения.\n",
    "- `rooms` — имеются аномально большое (19 комнат) и аномально маленькое (0 комнат) значения.\n",
    "- `total_area` — имеется аномально большое (900 м²) значение."
   ]
  },
  {
   "cell_type": "markdown",
   "metadata": {},
   "source": [
    "## Предобработка данных   \n",
    "Выполним необходимую для исследования предобработку данных.   \n",
    "Для начала заменим название столбца `cityCenters_nearest` на `city_centers_nearest`"
   ]
  },
  {
   "cell_type": "code",
   "execution_count": 6,
   "metadata": {},
   "outputs": [
    {
     "data": {
      "text/plain": [
       "Index(['total_images', 'last_price', 'total_area', 'first_day_exposition',\n",
       "       'rooms', 'ceiling_height', 'floors_total', 'living_area', 'floor',\n",
       "       'is_apartment', 'studio', 'open_plan', 'kitchen_area', 'balcony',\n",
       "       'locality_name', 'airports_nearest', 'city_centers_neareast',\n",
       "       'parks_around3000', 'parks_nearest', 'ponds_around3000',\n",
       "       'ponds_nearest', 'days_exposition'],\n",
       "      dtype='object')"
      ]
     },
     "execution_count": 6,
     "metadata": {},
     "output_type": "execute_result"
    }
   ],
   "source": [
    "df = df.rename(columns={'cityCenters_nearest': 'city_centers_neareast'})\n",
    "df.columns"
   ]
  },
  {
   "cell_type": "markdown",
   "metadata": {},
   "source": [
    "### Заполнение пропусков    \n",
    "Посмотрим процент пропусков по каждому столбцу."
   ]
  },
  {
   "cell_type": "code",
   "execution_count": 7,
   "metadata": {},
   "outputs": [
    {
     "data": {
      "text/plain": [
       "is_apartment             88.3\n",
       "parks_nearest            65.9\n",
       "ponds_nearest            61.6\n",
       "balcony                  48.6\n",
       "ceiling_height           38.8\n",
       "airports_nearest         23.4\n",
       "city_centers_neareast    23.3\n",
       "ponds_around3000         23.3\n",
       "parks_around3000         23.3\n",
       "days_exposition          13.4\n",
       "kitchen_area              9.6\n",
       "living_area               8.0\n",
       "floors_total              0.4\n",
       "locality_name             0.2\n",
       "total_images              0.0\n",
       "last_price                0.0\n",
       "studio                    0.0\n",
       "floor                     0.0\n",
       "rooms                     0.0\n",
       "first_day_exposition      0.0\n",
       "total_area                0.0\n",
       "open_plan                 0.0\n",
       "dtype: float64"
      ]
     },
     "execution_count": 7,
     "metadata": {},
     "output_type": "execute_result"
    }
   ],
   "source": [
    "(df.isnull().sum() / df.shape[0] * 100).sort_values(ascending=False).round(1)"
   ]
  },
  {
   "cell_type": "markdown",
   "metadata": {},
   "source": [
    "Кол-во пропусков достаточно большое. Отсюда начнём по порядку по каждому столбцу."
   ]
  },
  {
   "cell_type": "markdown",
   "metadata": {},
   "source": [
    "#### Заполнение пропусков `is_apartment`   \n",
    "Посмотрим кол-во уникальных значений в данном столбце"
   ]
  },
  {
   "cell_type": "code",
   "execution_count": 8,
   "metadata": {},
   "outputs": [
    {
     "data": {
      "text/plain": [
       "False    2725\n",
       "True       50\n",
       "Name: is_apartment, dtype: int64"
      ]
     },
     "execution_count": 8,
     "metadata": {},
     "output_type": "execute_result"
    }
   ],
   "source": [
    "df.is_apartment.value_counts()"
   ]
  },
  {
   "cell_type": "markdown",
   "metadata": {},
   "source": [
    "Скорее всего значения просто не были выбраны, так как не все понимали что является аппартаментами. Заполнить пропущенные значения `False` будет не корректным, так как на выборку из >20000 будет приходится всего 50 аппартаментов, что не выглядит правдободобным. Возможно так же что данные значения пояивлись не с самого начала сбора данных. Пропущенные значения оставим без изменения."
   ]
  },
  {
   "cell_type": "markdown",
   "metadata": {},
   "source": [
    "#### Заполнение пропусков `parks_nearest`, `ponds_nearest`, `parks_around3000`, `ponds_around3000`, `airports_nearest`   \n",
    "Эти значения получены автоматически на основе картографических данных.   \n",
    "Вполне возможно, что данные не были выгружены системой. Беря в расчет то, что это далеко не самые важные параметры, и отсутствие возможности проставить какие-либо адекватные расстояния, которые не испортят статистику по уже присутствующим данным по этим столбцам, предлагаю здесь не трогать пропуски, учитывая, что есть достаточное количество строк, где данные присутствуют. Так же эти данные не будут использоваться в дальнейшем исследовании."
   ]
  },
  {
   "cell_type": "markdown",
   "metadata": {},
   "source": [
    "#### Заполнение пропусков `balcony`   \n",
    "Здесь очевидно пропущенные значения подразумевают отсутвие балкона. Заменим все пропущенные значения на \"0\" и посмотрим на кол-во всех уникальных значений."
   ]
  },
  {
   "cell_type": "code",
   "execution_count": 9,
   "metadata": {},
   "outputs": [
    {
     "data": {
      "text/plain": [
       "0.0    15277\n",
       "1.0     4195\n",
       "2.0     3659\n",
       "5.0      304\n",
       "4.0      183\n",
       "3.0       81\n",
       "Name: balcony, dtype: int64"
      ]
     },
     "execution_count": 9,
     "metadata": {},
     "output_type": "execute_result"
    }
   ],
   "source": [
    "df.balcony.fillna(0, inplace=True)\n",
    "df.balcony.value_counts()"
   ]
  },
  {
   "cell_type": "markdown",
   "metadata": {},
   "source": [
    "#### Заполнение пропусков `ceiling_height`   \n",
    "Здесь очевидно пропущенные значения просто не были проставлены пользователем. Посмотрим от чего больше всего зависит высота потолков."
   ]
  },
  {
   "cell_type": "code",
   "execution_count": 10,
   "metadata": {},
   "outputs": [
    {
     "data": {
      "text/plain": [
       "ceiling_height           1.000000\n",
       "total_area               0.095490\n",
       "city_centers_neareast    0.091689\n",
       "living_area              0.090650\n",
       "kitchen_area             0.087641\n",
       "last_price               0.085430\n",
       "ponds_around3000         0.078209\n",
       "parks_around3000         0.065915\n",
       "ponds_nearest            0.059090\n",
       "rooms                    0.054457\n",
       "open_plan                0.042777\n",
       "balcony                  0.031216\n",
       "floors_total             0.028732\n",
       "airports_nearest         0.023947\n",
       "parks_nearest            0.019167\n",
       "days_exposition          0.019091\n",
       "floor                    0.011798\n",
       "total_images             0.001987\n",
       "studio                   0.001674\n",
       "Name: ceiling_height, dtype: float64"
      ]
     },
     "execution_count": 10,
     "metadata": {},
     "output_type": "execute_result"
    }
   ],
   "source": [
    "abs(df.corr()['ceiling_height']).sort_values(ascending=False)"
   ]
  },
  {
   "cell_type": "markdown",
   "metadata": {},
   "source": [
    "Высота потолков больше всего зависит от общей площади, удалённости от центра и жилой площади. \n",
    "Для того что бы заполнить эти пропуски нам потребуется заполнить пропуски для `city_centers_neareast`"
   ]
  },
  {
   "cell_type": "markdown",
   "metadata": {},
   "source": [
    "#### Заполнение пропусков `city_centers_neareast`   \n",
    "Предположим что значения пропущены в основном для области, так как находятся за пределами города.   \n",
    "Посмотрим количество по населённым пунктам, где заполнено значение удалённости от центра."
   ]
  },
  {
   "cell_type": "code",
   "execution_count": 11,
   "metadata": {},
   "outputs": [
    {
     "name": "stdout",
     "output_type": "stream",
     "text": [
      "5519\n"
     ]
    },
    {
     "data": {
      "text/plain": [
       "locality_name\n",
       "Санкт-Петербург                          15660\n",
       "посёлок Шушары                             436\n",
       "Пушкин                                     368\n",
       "Колпино                                    337\n",
       "посёлок Парголово                          327\n",
       "Петергоф                                   201\n",
       "Сестрорецк                                 183\n",
       "Красное Село                               176\n",
       "Ломоносов                                  132\n",
       "Кронштадт                                   95\n",
       "посёлок Металлострой                        66\n",
       "посёлок Стрельна                            44\n",
       "Павловск                                    38\n",
       "Зеленогорск                                 24\n",
       "посёлок Понтонный                           20\n",
       "посёлок Сапёрный                             6\n",
       "посёлок Молодёжное                           5\n",
       "посёлок Песочный                             4\n",
       "посёлок Репино                               4\n",
       "поселок Мурино                               2\n",
       "посёлок Усть-Ижора                           2\n",
       "посёлок Лисий Нос                            2\n",
       "посёлок Александровская                      2\n",
       "посёлок Левашово                             1\n",
       "посёлок Щеглово                              1\n",
       "поселок Лисий Нос                            1\n",
       "посёлок Белоостров                           1\n",
       "посёлок Петро-Славянка                       1\n",
       "поселок Усть-Луга                            0\n",
       "поселок городского типа Большая Ижора        0\n",
       "Name: city_centers_neareast, dtype: int64"
      ]
     },
     "execution_count": 11,
     "metadata": {},
     "output_type": "execute_result"
    }
   ],
   "source": [
    "print(df['city_centers_neareast'].isna().sum())\n",
    "df.groupby('locality_name')['city_centers_neareast'].count().sort_values(ascending=False).head(30)"
   ]
  },
  {
   "cell_type": "markdown",
   "metadata": {},
   "source": [
    "Больше половины значений имеются для Санкт-Петербурга. Заполним пропуски медианными значениям по населённому пункту где это возможно. Для остальных заполним медианным значеним для области в целом."
   ]
  },
  {
   "cell_type": "code",
   "execution_count": 12,
   "metadata": {},
   "outputs": [
    {
     "data": {
      "text/plain": [
       "0"
      ]
     },
     "execution_count": 12,
     "metadata": {},
     "output_type": "execute_result"
    }
   ],
   "source": [
    "#Filling the gaps in 'city_centers_neareast' depended to 'locality_name' where it is possible\n",
    "df['city_centers_neareast'] = df['city_centers_neareast'].fillna(df.groupby('locality_name')\n",
    "                                               ['city_centers_neareast'].transform('median'))\n",
    "#Filling the rest gaps in 'city_centers_neareast' by median for region\n",
    "df['city_centers_neareast'] = (df['city_centers_neareast']\n",
    "                               .fillna(df[df['locality_name'] != 'Санкт-Петербург']\n",
    "                                       ['city_centers_neareast'].median()))\n",
    "df['city_centers_neareast'].isna().sum()"
   ]
  },
  {
   "cell_type": "markdown",
   "metadata": {},
   "source": [
    "Заполнение этих пропусков нам поможет заплонить пропуски для столбца `ceiling_height` ниже."
   ]
  },
  {
   "cell_type": "markdown",
   "metadata": {},
   "source": [
    "#### Заполнение пропусков `ceiling_height` после заполнения столбца `city_centers_neareast`   "
   ]
  },
  {
   "cell_type": "markdown",
   "metadata": {},
   "source": [
    "Заполним пропущенные значения высоты потолков медианой в зависимости от удалённости от центра и общей площади."
   ]
  },
  {
   "cell_type": "code",
   "execution_count": 13,
   "metadata": {},
   "outputs": [
    {
     "name": "stdout",
     "output_type": "stream",
     "text": [
      "Осталось 9.16 процентов пропусков в данном столбце\n"
     ]
    }
   ],
   "source": [
    "#Filling the gaps in 'ceiling_height' depended to 'city_centers_neareast' where it is possible\n",
    "df['ceiling_height'] = df['ceiling_height'].fillna(df.groupby(['city_centers_neareast'])\n",
    "                                               ['ceiling_height'].transform('median'))\n",
    "print(f'Осталось {(df[\"ceiling_height\"].isna().sum() / df.shape[0] * 100).round(2)} процентов пропусков в данном столбце')"
   ]
  },
  {
   "cell_type": "markdown",
   "metadata": {},
   "source": [
    "Всё еще остались пропуски. Заполним их медианными значениями в зависимости от наименования населённого пункта."
   ]
  },
  {
   "cell_type": "code",
   "execution_count": 14,
   "metadata": {},
   "outputs": [
    {
     "name": "stdout",
     "output_type": "stream",
     "text": [
      "Осталось 0.07 процентов пропусков в данном столбце\n"
     ]
    }
   ],
   "source": [
    "#Filling the gaps in 'ceiling_height' depended to 'locality_name' where it is possible\n",
    "df['ceiling_height'] = df['ceiling_height'].fillna(df.groupby(['locality_name'])\n",
    "                                               ['ceiling_height'].transform('median'))\n",
    "print(f'Осталось {(df[\"ceiling_height\"].isna().sum() / df.shape[0] * 100).round(2)} процентов пропусков в данном столбце')"
   ]
  },
  {
   "cell_type": "markdown",
   "metadata": {},
   "source": [
    "#### Заполнение пропусков `days_exposition`   \n",
    "Очень значимый параметр, по которому пропуски не понятны. Возможно что объявления ещё не были закрыты на платформе, даже после фактической продажи квартиры или же квартира ещё находиться в продаже. По той же причине могут быть большие сроки продажи. Оставим эти пропуски без заполнения"
   ]
  },
  {
   "cell_type": "markdown",
   "metadata": {},
   "source": [
    "#### Заполнение пропусков `kitchen_area`, `living_area`   \n",
    "Вероятнее всего пользователи просто не указывали эти значения, когда имеется значение общей площади. Особенно в случае квартир студий, где нет чёткого разделения на кухню и жилую площадь. Посмотрим ещё раз кол-во пропусков по этим столбцам."
   ]
  },
  {
   "cell_type": "code",
   "execution_count": 15,
   "metadata": {},
   "outputs": [
    {
     "data": {
      "text/plain": [
       "kitchen_area    2278\n",
       "living_area     1903\n",
       "dtype: int64"
      ]
     },
     "execution_count": 15,
     "metadata": {},
     "output_type": "execute_result"
    }
   ],
   "source": [
    "df[['kitchen_area', 'living_area']].isna().sum()"
   ]
  },
  {
   "cell_type": "markdown",
   "metadata": {},
   "source": [
    "Проверим нашу теорию, что данные значения не указаны прежде всего для студий."
   ]
  },
  {
   "cell_type": "code",
   "execution_count": 16,
   "metadata": {},
   "outputs": [
    {
     "data": {
      "text/plain": [
       "kitchen_area    149\n",
       "living_area      10\n",
       "dtype: int64"
      ]
     },
     "execution_count": 16,
     "metadata": {},
     "output_type": "execute_result"
    }
   ],
   "source": [
    "df.query('studio == True')[['kitchen_area', 'living_area']].isna().sum()"
   ]
  },
  {
   "cell_type": "markdown",
   "metadata": {},
   "source": [
    "Теория верна, остаются не значительное кол-во пропусков. Оставляем их без заполнения."
   ]
  },
  {
   "cell_type": "markdown",
   "metadata": {},
   "source": [
    "#### Заполнение пропусков `floors_total`\n",
    "Значения скорее всего просто не заполнены пользователем по разным возможным причинам, например: здание имеет всего один этаж, не знание общего кол-ва этажей и т.д. Посмотрим ещё раз на кол-во пропусков в данном столбце."
   ]
  },
  {
   "cell_type": "code",
   "execution_count": 17,
   "metadata": {},
   "outputs": [
    {
     "data": {
      "text/plain": [
       "86"
      ]
     },
     "execution_count": 17,
     "metadata": {},
     "output_type": "execute_result"
    }
   ],
   "source": [
    "df['floors_total'].isna().sum()"
   ]
  },
  {
   "cell_type": "markdown",
   "metadata": {},
   "source": [
    "Посмотрим так же корреляцию по данному столбцу."
   ]
  },
  {
   "cell_type": "code",
   "execution_count": 18,
   "metadata": {},
   "outputs": [
    {
     "data": {
      "text/plain": [
       "floors_total             1.000000\n",
       "floor                    0.678059\n",
       "parks_around3000         0.252833\n",
       "rooms                    0.228215\n",
       "balcony                  0.172812\n",
       "living_area              0.169311\n",
       "kitchen_area             0.163944\n",
       "ponds_around3000         0.122735\n",
       "airports_nearest         0.108288\n",
       "parks_nearest            0.097527\n",
       "city_centers_neareast    0.081110\n",
       "total_area               0.075774\n",
       "studio                   0.070151\n",
       "days_exposition          0.052234\n",
       "open_plan                0.050791\n",
       "ponds_nearest            0.038864\n",
       "ceiling_height           0.023716\n",
       "total_images             0.010427\n",
       "last_price               0.006984\n",
       "Name: floors_total, dtype: float64"
      ]
     },
     "execution_count": 18,
     "metadata": {},
     "output_type": "execute_result"
    }
   ],
   "source": [
    "abs(df.corr()['floors_total']).sort_values(ascending=False)"
   ]
  },
  {
   "cell_type": "markdown",
   "metadata": {},
   "source": [
    "Самая большая зависимость это от этажа квартиры, что было очевидно.   \n",
    "Для начала попробуем заполнить этажнось в зависимости от населённого пункта и удалённости от центра, возможно объявления могут быть в одном и том же доме. Что бы избежать ошибок, вроде занчение этажа больше этажности, будем также группировать по этажу. Заполним значения медианой, так как ошибки в заполнении так же могут присутсвовать."
   ]
  },
  {
   "cell_type": "code",
   "execution_count": 19,
   "metadata": {},
   "outputs": [
    {
     "data": {
      "text/plain": [
       "61"
      ]
     },
     "execution_count": 19,
     "metadata": {},
     "output_type": "execute_result"
    }
   ],
   "source": [
    "#Filling the gaps in 'floors_total' depended to 'locality_name', \n",
    "#'city_centers_neareast' and 'floor' where it is possible\n",
    "df['floors_total'] = df['floors_total'].fillna(df.groupby(['locality_name', 'city_centers_neareast', 'floor'])\n",
    "                                               ['floors_total'].transform('median'))\n",
    "df['floors_total'].isna().sum()"
   ]
  },
  {
   "cell_type": "markdown",
   "metadata": {},
   "source": [
    "Осталось 61 пропущенное значение. Оставим их без изменения, с ними мы сейчас ничего сделать не сможем."
   ]
  },
  {
   "cell_type": "markdown",
   "metadata": {},
   "source": [
    "#### Заполнение пропусков `locality_name`\n",
    "Значения пропущены по не понятной причине. Возможно пользователь не указывал населённый пункт, так как подразумевал что это Санкт-Петербург. Посмотрим есть ли для этих этих строк значение удалённости от центра."
   ]
  },
  {
   "cell_type": "code",
   "execution_count": 20,
   "metadata": {},
   "outputs": [
    {
     "name": "stdout",
     "output_type": "stream",
     "text": [
      "49\n"
     ]
    },
    {
     "data": {
      "text/html": [
       "<div>\n",
       "<style scoped>\n",
       "    .dataframe tbody tr th:only-of-type {\n",
       "        vertical-align: middle;\n",
       "    }\n",
       "\n",
       "    .dataframe tbody tr th {\n",
       "        vertical-align: top;\n",
       "    }\n",
       "\n",
       "    .dataframe thead th {\n",
       "        text-align: right;\n",
       "    }\n",
       "</style>\n",
       "<table border=\"1\" class=\"dataframe\">\n",
       "  <thead>\n",
       "    <tr style=\"text-align: right;\">\n",
       "      <th></th>\n",
       "      <th>locality_name</th>\n",
       "      <th>city_centers_neareast</th>\n",
       "    </tr>\n",
       "  </thead>\n",
       "  <tbody>\n",
       "    <tr>\n",
       "      <th>1097</th>\n",
       "      <td>NaN</td>\n",
       "      <td>4258.0</td>\n",
       "    </tr>\n",
       "    <tr>\n",
       "      <th>2033</th>\n",
       "      <td>NaN</td>\n",
       "      <td>30296.0</td>\n",
       "    </tr>\n",
       "    <tr>\n",
       "      <th>2603</th>\n",
       "      <td>NaN</td>\n",
       "      <td>17369.0</td>\n",
       "    </tr>\n",
       "    <tr>\n",
       "      <th>2632</th>\n",
       "      <td>NaN</td>\n",
       "      <td>17369.0</td>\n",
       "    </tr>\n",
       "    <tr>\n",
       "      <th>3574</th>\n",
       "      <td>NaN</td>\n",
       "      <td>8127.0</td>\n",
       "    </tr>\n",
       "  </tbody>\n",
       "</table>\n",
       "</div>"
      ],
      "text/plain": [
       "     locality_name  city_centers_neareast\n",
       "1097           NaN                 4258.0\n",
       "2033           NaN                30296.0\n",
       "2603           NaN                17369.0\n",
       "2632           NaN                17369.0\n",
       "3574           NaN                 8127.0"
      ]
     },
     "execution_count": 20,
     "metadata": {},
     "output_type": "execute_result"
    }
   ],
   "source": [
    "print(df['locality_name'].isna().sum())\n",
    "df[df['locality_name'].isna()][['locality_name', 'city_centers_neareast']].head()"
   ]
  },
  {
   "cell_type": "markdown",
   "metadata": {},
   "source": [
    "Здесь мы можем только присвоить пропущенным значениям город Санкт-Петербург, если удалённость от центра не превышает медианное для города. Посмотрим медианное значение для Санкт-Петербурга."
   ]
  },
  {
   "cell_type": "code",
   "execution_count": 21,
   "metadata": {},
   "outputs": [
    {
     "data": {
      "text/plain": [
       "12244.5"
      ]
     },
     "execution_count": 21,
     "metadata": {},
     "output_type": "execute_result"
    }
   ],
   "source": [
    "df.query('locality_name == \"Санкт-Петербург\"')['city_centers_neareast'].median()"
   ]
  },
  {
   "cell_type": "markdown",
   "metadata": {},
   "source": [
    "Заполним пропущенные значения и посчитаем кол-во оставшихся."
   ]
  },
  {
   "cell_type": "code",
   "execution_count": 22,
   "metadata": {},
   "outputs": [
    {
     "data": {
      "text/plain": [
       "23"
      ]
     },
     "execution_count": 22,
     "metadata": {},
     "output_type": "execute_result"
    }
   ],
   "source": [
    "#Filling the gaps in 'locality_name' by \"Санкт-Петербург\" depended to distance from 'city_centers_neareast' where it is possible\n",
    "df.loc[(df['locality_name'].isna()) & (df['city_centers_neareast'] < 12244.5), 'locality_name'] = (df\n",
    "                                                                                                   .loc[(df['locality_name'].isna()) & (df['city_centers_neareast'] < 12244.5), 'locality_name']\n",
    "                                                                                                   .fillna('Санкт-Петербург')\n",
    "                                                                                                  )\n",
    "df['locality_name'].isna().sum()"
   ]
  },
  {
   "cell_type": "markdown",
   "metadata": {},
   "source": [
    "Было 49 пропущенных значений, стало 23. Оставляем их без изменений."
   ]
  },
  {
   "cell_type": "markdown",
   "metadata": {},
   "source": [
    "**Вывод**   \n",
    "Было достаточно большое кол-во пропусков. Часть из них удалось заполнить, часть оставили без вмешательства.   \n",
    "Что бы избежать пропусков в обозначении аппартаментов следует подставлять значение по умолчанию, если другого не указано пользователем.   \n",
    "Что касаемо геоданных, которые система заполняет автоматически, вероятнее всего что она не определяет местоположение некотрых населённых пунктов и, соответсвенно, удалённость от аэропорта и центра города, ближайшие парки и парковки и их количество в радиусе 3 км. Или же система не определяет написанное пользователем.\n",
    "Заполнили так же пропущенные значения высоты потолка и этажности дома исходя из примерного расположения дома. Эти значения так же могут быть заполнены автоматически, если пользователь правильно указывает адрес.   \n",
    "До конца так и не ясны пропуски в днях размещения объявления."
   ]
  },
  {
   "cell_type": "markdown",
   "metadata": {},
   "source": [
    "### Перевод данных к нужному типу   \n",
    "Заменим тип данных в столбцах с целочисленными значениям на `int` для сокращения памяти, столбцы с вещественным типом округлим до необходимых нам значений, столбцы с датой переведём в формат даты. Посмотрим текущий формат по всем столбцам."
   ]
  },
  {
   "cell_type": "code",
   "execution_count": 23,
   "metadata": {},
   "outputs": [
    {
     "name": "stdout",
     "output_type": "stream",
     "text": [
      "<class 'pandas.core.frame.DataFrame'>\n",
      "RangeIndex: 23699 entries, 0 to 23698\n",
      "Data columns (total 22 columns):\n",
      " #   Column                 Non-Null Count  Dtype  \n",
      "---  ------                 --------------  -----  \n",
      " 0   total_images           23699 non-null  int64  \n",
      " 1   last_price             23699 non-null  float64\n",
      " 2   total_area             23699 non-null  float64\n",
      " 3   first_day_exposition   23699 non-null  object \n",
      " 4   rooms                  23699 non-null  int64  \n",
      " 5   ceiling_height         23682 non-null  float64\n",
      " 6   floors_total           23638 non-null  float64\n",
      " 7   living_area            21796 non-null  float64\n",
      " 8   floor                  23699 non-null  int64  \n",
      " 9   is_apartment           2775 non-null   object \n",
      " 10  studio                 23699 non-null  bool   \n",
      " 11  open_plan              23699 non-null  bool   \n",
      " 12  kitchen_area           21421 non-null  float64\n",
      " 13  balcony                23699 non-null  float64\n",
      " 14  locality_name          23676 non-null  object \n",
      " 15  airports_nearest       18157 non-null  float64\n",
      " 16  city_centers_neareast  23699 non-null  float64\n",
      " 17  parks_around3000       18181 non-null  float64\n",
      " 18  parks_nearest          8079 non-null   float64\n",
      " 19  ponds_around3000       18181 non-null  float64\n",
      " 20  ponds_nearest          9110 non-null   float64\n",
      " 21  days_exposition        20518 non-null  float64\n",
      "dtypes: bool(2), float64(14), int64(3), object(3)\n",
      "memory usage: 3.7+ MB\n",
      "None\n"
     ]
    },
    {
     "data": {
      "text/html": [
       "<div>\n",
       "<style scoped>\n",
       "    .dataframe tbody tr th:only-of-type {\n",
       "        vertical-align: middle;\n",
       "    }\n",
       "\n",
       "    .dataframe tbody tr th {\n",
       "        vertical-align: top;\n",
       "    }\n",
       "\n",
       "    .dataframe thead th {\n",
       "        text-align: right;\n",
       "    }\n",
       "</style>\n",
       "<table border=\"1\" class=\"dataframe\">\n",
       "  <thead>\n",
       "    <tr style=\"text-align: right;\">\n",
       "      <th></th>\n",
       "      <th>total_images</th>\n",
       "      <th>last_price</th>\n",
       "      <th>total_area</th>\n",
       "      <th>first_day_exposition</th>\n",
       "      <th>rooms</th>\n",
       "      <th>ceiling_height</th>\n",
       "      <th>floors_total</th>\n",
       "      <th>living_area</th>\n",
       "      <th>floor</th>\n",
       "      <th>is_apartment</th>\n",
       "      <th>...</th>\n",
       "      <th>kitchen_area</th>\n",
       "      <th>balcony</th>\n",
       "      <th>locality_name</th>\n",
       "      <th>airports_nearest</th>\n",
       "      <th>city_centers_neareast</th>\n",
       "      <th>parks_around3000</th>\n",
       "      <th>parks_nearest</th>\n",
       "      <th>ponds_around3000</th>\n",
       "      <th>ponds_nearest</th>\n",
       "      <th>days_exposition</th>\n",
       "    </tr>\n",
       "  </thead>\n",
       "  <tbody>\n",
       "    <tr>\n",
       "      <th>0</th>\n",
       "      <td>20</td>\n",
       "      <td>13000000.0</td>\n",
       "      <td>108.0</td>\n",
       "      <td>2019-03-07T00:00:00</td>\n",
       "      <td>3</td>\n",
       "      <td>2.70</td>\n",
       "      <td>16.0</td>\n",
       "      <td>51.0</td>\n",
       "      <td>8</td>\n",
       "      <td>NaN</td>\n",
       "      <td>...</td>\n",
       "      <td>25.0</td>\n",
       "      <td>0.0</td>\n",
       "      <td>Санкт-Петербург</td>\n",
       "      <td>18863.0</td>\n",
       "      <td>16028.0</td>\n",
       "      <td>1.0</td>\n",
       "      <td>482.0</td>\n",
       "      <td>2.0</td>\n",
       "      <td>755.0</td>\n",
       "      <td>NaN</td>\n",
       "    </tr>\n",
       "    <tr>\n",
       "      <th>1</th>\n",
       "      <td>7</td>\n",
       "      <td>3350000.0</td>\n",
       "      <td>40.4</td>\n",
       "      <td>2018-12-04T00:00:00</td>\n",
       "      <td>1</td>\n",
       "      <td>2.65</td>\n",
       "      <td>11.0</td>\n",
       "      <td>18.6</td>\n",
       "      <td>1</td>\n",
       "      <td>NaN</td>\n",
       "      <td>...</td>\n",
       "      <td>11.0</td>\n",
       "      <td>2.0</td>\n",
       "      <td>посёлок Шушары</td>\n",
       "      <td>12817.0</td>\n",
       "      <td>18603.0</td>\n",
       "      <td>0.0</td>\n",
       "      <td>NaN</td>\n",
       "      <td>0.0</td>\n",
       "      <td>NaN</td>\n",
       "      <td>81.0</td>\n",
       "    </tr>\n",
       "    <tr>\n",
       "      <th>2</th>\n",
       "      <td>10</td>\n",
       "      <td>5196000.0</td>\n",
       "      <td>56.0</td>\n",
       "      <td>2015-08-20T00:00:00</td>\n",
       "      <td>2</td>\n",
       "      <td>2.70</td>\n",
       "      <td>5.0</td>\n",
       "      <td>34.3</td>\n",
       "      <td>4</td>\n",
       "      <td>NaN</td>\n",
       "      <td>...</td>\n",
       "      <td>8.3</td>\n",
       "      <td>0.0</td>\n",
       "      <td>Санкт-Петербург</td>\n",
       "      <td>21741.0</td>\n",
       "      <td>13933.0</td>\n",
       "      <td>1.0</td>\n",
       "      <td>90.0</td>\n",
       "      <td>2.0</td>\n",
       "      <td>574.0</td>\n",
       "      <td>558.0</td>\n",
       "    </tr>\n",
       "    <tr>\n",
       "      <th>3</th>\n",
       "      <td>0</td>\n",
       "      <td>64900000.0</td>\n",
       "      <td>159.0</td>\n",
       "      <td>2015-07-24T00:00:00</td>\n",
       "      <td>3</td>\n",
       "      <td>3.00</td>\n",
       "      <td>14.0</td>\n",
       "      <td>NaN</td>\n",
       "      <td>9</td>\n",
       "      <td>NaN</td>\n",
       "      <td>...</td>\n",
       "      <td>NaN</td>\n",
       "      <td>0.0</td>\n",
       "      <td>Санкт-Петербург</td>\n",
       "      <td>28098.0</td>\n",
       "      <td>6800.0</td>\n",
       "      <td>2.0</td>\n",
       "      <td>84.0</td>\n",
       "      <td>3.0</td>\n",
       "      <td>234.0</td>\n",
       "      <td>424.0</td>\n",
       "    </tr>\n",
       "    <tr>\n",
       "      <th>4</th>\n",
       "      <td>2</td>\n",
       "      <td>10000000.0</td>\n",
       "      <td>100.0</td>\n",
       "      <td>2018-06-19T00:00:00</td>\n",
       "      <td>2</td>\n",
       "      <td>3.03</td>\n",
       "      <td>14.0</td>\n",
       "      <td>32.0</td>\n",
       "      <td>13</td>\n",
       "      <td>NaN</td>\n",
       "      <td>...</td>\n",
       "      <td>41.0</td>\n",
       "      <td>0.0</td>\n",
       "      <td>Санкт-Петербург</td>\n",
       "      <td>31856.0</td>\n",
       "      <td>8098.0</td>\n",
       "      <td>2.0</td>\n",
       "      <td>112.0</td>\n",
       "      <td>1.0</td>\n",
       "      <td>48.0</td>\n",
       "      <td>121.0</td>\n",
       "    </tr>\n",
       "  </tbody>\n",
       "</table>\n",
       "<p>5 rows × 22 columns</p>\n",
       "</div>"
      ],
      "text/plain": [
       "   total_images  last_price  total_area first_day_exposition  rooms  \\\n",
       "0            20  13000000.0       108.0  2019-03-07T00:00:00      3   \n",
       "1             7   3350000.0        40.4  2018-12-04T00:00:00      1   \n",
       "2            10   5196000.0        56.0  2015-08-20T00:00:00      2   \n",
       "3             0  64900000.0       159.0  2015-07-24T00:00:00      3   \n",
       "4             2  10000000.0       100.0  2018-06-19T00:00:00      2   \n",
       "\n",
       "   ceiling_height  floors_total  living_area  floor is_apartment  ...  \\\n",
       "0            2.70          16.0         51.0      8          NaN  ...   \n",
       "1            2.65          11.0         18.6      1          NaN  ...   \n",
       "2            2.70           5.0         34.3      4          NaN  ...   \n",
       "3            3.00          14.0          NaN      9          NaN  ...   \n",
       "4            3.03          14.0         32.0     13          NaN  ...   \n",
       "\n",
       "   kitchen_area  balcony    locality_name  airports_nearest  \\\n",
       "0          25.0      0.0  Санкт-Петербург           18863.0   \n",
       "1          11.0      2.0   посёлок Шушары           12817.0   \n",
       "2           8.3      0.0  Санкт-Петербург           21741.0   \n",
       "3           NaN      0.0  Санкт-Петербург           28098.0   \n",
       "4          41.0      0.0  Санкт-Петербург           31856.0   \n",
       "\n",
       "  city_centers_neareast  parks_around3000  parks_nearest  ponds_around3000  \\\n",
       "0               16028.0               1.0          482.0               2.0   \n",
       "1               18603.0               0.0            NaN               0.0   \n",
       "2               13933.0               1.0           90.0               2.0   \n",
       "3                6800.0               2.0           84.0               3.0   \n",
       "4                8098.0               2.0          112.0               1.0   \n",
       "\n",
       "   ponds_nearest  days_exposition  \n",
       "0          755.0              NaN  \n",
       "1            NaN             81.0  \n",
       "2          574.0            558.0  \n",
       "3          234.0            424.0  \n",
       "4           48.0            121.0  \n",
       "\n",
       "[5 rows x 22 columns]"
      ]
     },
     "execution_count": 23,
     "metadata": {},
     "output_type": "execute_result"
    }
   ],
   "source": [
    "print(df.info())\n",
    "df.head()"
   ]
  },
  {
   "cell_type": "markdown",
   "metadata": {},
   "source": [
    "#### Переведём в тип `int`   \n",
    "`airports_nearest`, `balcony`, `city_centers_neareast`, `days_exposition`, `floors_total`, `last_price`, `parks_around3000`, `parks_nearest`, `ponds_around3000`, `ponds_nearest`\n"
   ]
  },
  {
   "cell_type": "code",
   "execution_count": 24,
   "metadata": {},
   "outputs": [],
   "source": [
    "to_int_list = ['airports_nearest', 'balcony', 'city_centers_neareast', \n",
    "               'days_exposition', 'floors_total', 'last_price',\n",
    "               'parks_around3000', 'parks_nearest', 'ponds_around3000', \n",
    "               'ponds_nearest']\n",
    "for column in to_int_list:\n",
    "    df[column] = df[df[column].notnull()][column].astype('int')"
   ]
  },
  {
   "cell_type": "markdown",
   "metadata": {},
   "source": [
    "#### Переведём в тип `datetime`   \n",
    "`first_day_exposition` Оставим только дату, так как время не указано."
   ]
  },
  {
   "cell_type": "code",
   "execution_count": 25,
   "metadata": {},
   "outputs": [],
   "source": [
    "df['first_day_exposition'] = pd.to_datetime(df['first_day_exposition'], format='%Y-%m-%d')"
   ]
  },
  {
   "cell_type": "markdown",
   "metadata": {},
   "source": [
    "#### Окрулим до 1-ого и 2-х знаков после запятой   \n",
    "`ceiling_height`, `kitchen_area`, `living_area`, `total_area`"
   ]
  },
  {
   "cell_type": "code",
   "execution_count": 26,
   "metadata": {},
   "outputs": [],
   "source": [
    "round_to_one = ['kitchen_area', 'living_area', 'total_area']\n",
    "for column in round_to_one:\n",
    "    df[column] = df[df[column].notna()][column].round(1)\n",
    "df['ceiling_height'] = df[df['ceiling_height'].notna()]['ceiling_height'].round(2)"
   ]
  },
  {
   "cell_type": "markdown",
   "metadata": {},
   "source": [
    "Проверим наши результаты"
   ]
  },
  {
   "cell_type": "code",
   "execution_count": 27,
   "metadata": {},
   "outputs": [
    {
     "name": "stdout",
     "output_type": "stream",
     "text": [
      "<class 'pandas.core.frame.DataFrame'>\n",
      "RangeIndex: 23699 entries, 0 to 23698\n",
      "Data columns (total 22 columns):\n",
      " #   Column                 Non-Null Count  Dtype         \n",
      "---  ------                 --------------  -----         \n",
      " 0   total_images           23699 non-null  int64         \n",
      " 1   last_price             23699 non-null  int32         \n",
      " 2   total_area             23699 non-null  float64       \n",
      " 3   first_day_exposition   23699 non-null  datetime64[ns]\n",
      " 4   rooms                  23699 non-null  int64         \n",
      " 5   ceiling_height         23682 non-null  float64       \n",
      " 6   floors_total           23638 non-null  float64       \n",
      " 7   living_area            21796 non-null  float64       \n",
      " 8   floor                  23699 non-null  int64         \n",
      " 9   is_apartment           2775 non-null   object        \n",
      " 10  studio                 23699 non-null  bool          \n",
      " 11  open_plan              23699 non-null  bool          \n",
      " 12  kitchen_area           21421 non-null  float64       \n",
      " 13  balcony                23699 non-null  int32         \n",
      " 14  locality_name          23676 non-null  object        \n",
      " 15  airports_nearest       18157 non-null  float64       \n",
      " 16  city_centers_neareast  23699 non-null  int32         \n",
      " 17  parks_around3000       18181 non-null  float64       \n",
      " 18  parks_nearest          8079 non-null   float64       \n",
      " 19  ponds_around3000       18181 non-null  float64       \n",
      " 20  ponds_nearest          9110 non-null   float64       \n",
      " 21  days_exposition        20518 non-null  float64       \n",
      "dtypes: bool(2), datetime64[ns](1), float64(11), int32(3), int64(3), object(2)\n",
      "memory usage: 3.4+ MB\n",
      "None\n"
     ]
    },
    {
     "data": {
      "text/html": [
       "<div>\n",
       "<style scoped>\n",
       "    .dataframe tbody tr th:only-of-type {\n",
       "        vertical-align: middle;\n",
       "    }\n",
       "\n",
       "    .dataframe tbody tr th {\n",
       "        vertical-align: top;\n",
       "    }\n",
       "\n",
       "    .dataframe thead th {\n",
       "        text-align: right;\n",
       "    }\n",
       "</style>\n",
       "<table border=\"1\" class=\"dataframe\">\n",
       "  <thead>\n",
       "    <tr style=\"text-align: right;\">\n",
       "      <th></th>\n",
       "      <th>total_images</th>\n",
       "      <th>last_price</th>\n",
       "      <th>total_area</th>\n",
       "      <th>first_day_exposition</th>\n",
       "      <th>rooms</th>\n",
       "      <th>ceiling_height</th>\n",
       "      <th>floors_total</th>\n",
       "      <th>living_area</th>\n",
       "      <th>floor</th>\n",
       "      <th>is_apartment</th>\n",
       "      <th>...</th>\n",
       "      <th>kitchen_area</th>\n",
       "      <th>balcony</th>\n",
       "      <th>locality_name</th>\n",
       "      <th>airports_nearest</th>\n",
       "      <th>city_centers_neareast</th>\n",
       "      <th>parks_around3000</th>\n",
       "      <th>parks_nearest</th>\n",
       "      <th>ponds_around3000</th>\n",
       "      <th>ponds_nearest</th>\n",
       "      <th>days_exposition</th>\n",
       "    </tr>\n",
       "  </thead>\n",
       "  <tbody>\n",
       "    <tr>\n",
       "      <th>0</th>\n",
       "      <td>20</td>\n",
       "      <td>13000000</td>\n",
       "      <td>108.0</td>\n",
       "      <td>2019-03-07</td>\n",
       "      <td>3</td>\n",
       "      <td>2.70</td>\n",
       "      <td>16.0</td>\n",
       "      <td>51.0</td>\n",
       "      <td>8</td>\n",
       "      <td>NaN</td>\n",
       "      <td>...</td>\n",
       "      <td>25.0</td>\n",
       "      <td>0</td>\n",
       "      <td>Санкт-Петербург</td>\n",
       "      <td>18863.0</td>\n",
       "      <td>16028</td>\n",
       "      <td>1.0</td>\n",
       "      <td>482.0</td>\n",
       "      <td>2.0</td>\n",
       "      <td>755.0</td>\n",
       "      <td>NaN</td>\n",
       "    </tr>\n",
       "    <tr>\n",
       "      <th>1</th>\n",
       "      <td>7</td>\n",
       "      <td>3350000</td>\n",
       "      <td>40.4</td>\n",
       "      <td>2018-12-04</td>\n",
       "      <td>1</td>\n",
       "      <td>2.65</td>\n",
       "      <td>11.0</td>\n",
       "      <td>18.6</td>\n",
       "      <td>1</td>\n",
       "      <td>NaN</td>\n",
       "      <td>...</td>\n",
       "      <td>11.0</td>\n",
       "      <td>2</td>\n",
       "      <td>посёлок Шушары</td>\n",
       "      <td>12817.0</td>\n",
       "      <td>18603</td>\n",
       "      <td>0.0</td>\n",
       "      <td>NaN</td>\n",
       "      <td>0.0</td>\n",
       "      <td>NaN</td>\n",
       "      <td>81.0</td>\n",
       "    </tr>\n",
       "    <tr>\n",
       "      <th>2</th>\n",
       "      <td>10</td>\n",
       "      <td>5196000</td>\n",
       "      <td>56.0</td>\n",
       "      <td>2015-08-20</td>\n",
       "      <td>2</td>\n",
       "      <td>2.70</td>\n",
       "      <td>5.0</td>\n",
       "      <td>34.3</td>\n",
       "      <td>4</td>\n",
       "      <td>NaN</td>\n",
       "      <td>...</td>\n",
       "      <td>8.3</td>\n",
       "      <td>0</td>\n",
       "      <td>Санкт-Петербург</td>\n",
       "      <td>21741.0</td>\n",
       "      <td>13933</td>\n",
       "      <td>1.0</td>\n",
       "      <td>90.0</td>\n",
       "      <td>2.0</td>\n",
       "      <td>574.0</td>\n",
       "      <td>558.0</td>\n",
       "    </tr>\n",
       "    <tr>\n",
       "      <th>3</th>\n",
       "      <td>0</td>\n",
       "      <td>64900000</td>\n",
       "      <td>159.0</td>\n",
       "      <td>2015-07-24</td>\n",
       "      <td>3</td>\n",
       "      <td>3.00</td>\n",
       "      <td>14.0</td>\n",
       "      <td>NaN</td>\n",
       "      <td>9</td>\n",
       "      <td>NaN</td>\n",
       "      <td>...</td>\n",
       "      <td>NaN</td>\n",
       "      <td>0</td>\n",
       "      <td>Санкт-Петербург</td>\n",
       "      <td>28098.0</td>\n",
       "      <td>6800</td>\n",
       "      <td>2.0</td>\n",
       "      <td>84.0</td>\n",
       "      <td>3.0</td>\n",
       "      <td>234.0</td>\n",
       "      <td>424.0</td>\n",
       "    </tr>\n",
       "    <tr>\n",
       "      <th>4</th>\n",
       "      <td>2</td>\n",
       "      <td>10000000</td>\n",
       "      <td>100.0</td>\n",
       "      <td>2018-06-19</td>\n",
       "      <td>2</td>\n",
       "      <td>3.03</td>\n",
       "      <td>14.0</td>\n",
       "      <td>32.0</td>\n",
       "      <td>13</td>\n",
       "      <td>NaN</td>\n",
       "      <td>...</td>\n",
       "      <td>41.0</td>\n",
       "      <td>0</td>\n",
       "      <td>Санкт-Петербург</td>\n",
       "      <td>31856.0</td>\n",
       "      <td>8098</td>\n",
       "      <td>2.0</td>\n",
       "      <td>112.0</td>\n",
       "      <td>1.0</td>\n",
       "      <td>48.0</td>\n",
       "      <td>121.0</td>\n",
       "    </tr>\n",
       "  </tbody>\n",
       "</table>\n",
       "<p>5 rows × 22 columns</p>\n",
       "</div>"
      ],
      "text/plain": [
       "   total_images  last_price  total_area first_day_exposition  rooms  \\\n",
       "0            20    13000000       108.0           2019-03-07      3   \n",
       "1             7     3350000        40.4           2018-12-04      1   \n",
       "2            10     5196000        56.0           2015-08-20      2   \n",
       "3             0    64900000       159.0           2015-07-24      3   \n",
       "4             2    10000000       100.0           2018-06-19      2   \n",
       "\n",
       "   ceiling_height  floors_total  living_area  floor is_apartment  ...  \\\n",
       "0            2.70          16.0         51.0      8          NaN  ...   \n",
       "1            2.65          11.0         18.6      1          NaN  ...   \n",
       "2            2.70           5.0         34.3      4          NaN  ...   \n",
       "3            3.00          14.0          NaN      9          NaN  ...   \n",
       "4            3.03          14.0         32.0     13          NaN  ...   \n",
       "\n",
       "   kitchen_area  balcony    locality_name  airports_nearest  \\\n",
       "0          25.0        0  Санкт-Петербург           18863.0   \n",
       "1          11.0        2   посёлок Шушары           12817.0   \n",
       "2           8.3        0  Санкт-Петербург           21741.0   \n",
       "3           NaN        0  Санкт-Петербург           28098.0   \n",
       "4          41.0        0  Санкт-Петербург           31856.0   \n",
       "\n",
       "  city_centers_neareast  parks_around3000  parks_nearest  ponds_around3000  \\\n",
       "0                 16028               1.0          482.0               2.0   \n",
       "1                 18603               0.0            NaN               0.0   \n",
       "2                 13933               1.0           90.0               2.0   \n",
       "3                  6800               2.0           84.0               3.0   \n",
       "4                  8098               2.0          112.0               1.0   \n",
       "\n",
       "   ponds_nearest  days_exposition  \n",
       "0          755.0              NaN  \n",
       "1            NaN             81.0  \n",
       "2          574.0            558.0  \n",
       "3          234.0            424.0  \n",
       "4           48.0            121.0  \n",
       "\n",
       "[5 rows x 22 columns]"
      ]
     },
     "execution_count": 27,
     "metadata": {},
     "output_type": "execute_result"
    }
   ],
   "source": [
    "print(df.info())\n",
    "df.head()"
   ]
  },
  {
   "cell_type": "markdown",
   "metadata": {},
   "source": [
    "В столбцах, где были пропуски тип не изменился, что было ожидаемо."
   ]
  },
  {
   "cell_type": "markdown",
   "metadata": {},
   "source": [
    "## Расчёты и добавление результатов в таблицу   \n",
    "Рассчитаем следующие показатели:   \n",
    "- цену квадратного метра;\n",
    "- день недели, месяц и год публикации объявления;\n",
    "- этаж квартиры; варианты — первый, последний, другой;\n",
    "- соотношение жилой и общей площади, а также отношение площади кухни к общей."
   ]
  },
  {
   "cell_type": "markdown",
   "metadata": {},
   "source": [
    "### Расчёт цены квадратного метра"
   ]
  },
  {
   "cell_type": "code",
   "execution_count": 28,
   "metadata": {},
   "outputs": [],
   "source": [
    "df['price_per_square'] = (df['last_price'] / df['total_area']).astype('int')"
   ]
  },
  {
   "cell_type": "markdown",
   "metadata": {},
   "source": [
    "### Добавление дня недели, месяца и года публикации"
   ]
  },
  {
   "cell_type": "code",
   "execution_count": 29,
   "metadata": {},
   "outputs": [
    {
     "data": {
      "text/html": [
       "<div>\n",
       "<style scoped>\n",
       "    .dataframe tbody tr th:only-of-type {\n",
       "        vertical-align: middle;\n",
       "    }\n",
       "\n",
       "    .dataframe tbody tr th {\n",
       "        vertical-align: top;\n",
       "    }\n",
       "\n",
       "    .dataframe thead th {\n",
       "        text-align: right;\n",
       "    }\n",
       "</style>\n",
       "<table border=\"1\" class=\"dataframe\">\n",
       "  <thead>\n",
       "    <tr style=\"text-align: right;\">\n",
       "      <th></th>\n",
       "      <th>total_images</th>\n",
       "      <th>last_price</th>\n",
       "      <th>total_area</th>\n",
       "      <th>first_day_exposition</th>\n",
       "      <th>rooms</th>\n",
       "      <th>ceiling_height</th>\n",
       "      <th>floors_total</th>\n",
       "      <th>living_area</th>\n",
       "      <th>floor</th>\n",
       "      <th>is_apartment</th>\n",
       "      <th>...</th>\n",
       "      <th>city_centers_neareast</th>\n",
       "      <th>parks_around3000</th>\n",
       "      <th>parks_nearest</th>\n",
       "      <th>ponds_around3000</th>\n",
       "      <th>ponds_nearest</th>\n",
       "      <th>days_exposition</th>\n",
       "      <th>price_per_square</th>\n",
       "      <th>weekday_exposition</th>\n",
       "      <th>month_exposition</th>\n",
       "      <th>year_exposition</th>\n",
       "    </tr>\n",
       "  </thead>\n",
       "  <tbody>\n",
       "    <tr>\n",
       "      <th>0</th>\n",
       "      <td>20</td>\n",
       "      <td>13000000</td>\n",
       "      <td>108.0</td>\n",
       "      <td>2019-03-07</td>\n",
       "      <td>3</td>\n",
       "      <td>2.70</td>\n",
       "      <td>16.0</td>\n",
       "      <td>51.0</td>\n",
       "      <td>8</td>\n",
       "      <td>NaN</td>\n",
       "      <td>...</td>\n",
       "      <td>16028</td>\n",
       "      <td>1.0</td>\n",
       "      <td>482.0</td>\n",
       "      <td>2.0</td>\n",
       "      <td>755.0</td>\n",
       "      <td>NaN</td>\n",
       "      <td>120370</td>\n",
       "      <td>четверг</td>\n",
       "      <td>3</td>\n",
       "      <td>2019</td>\n",
       "    </tr>\n",
       "    <tr>\n",
       "      <th>1</th>\n",
       "      <td>7</td>\n",
       "      <td>3350000</td>\n",
       "      <td>40.4</td>\n",
       "      <td>2018-12-04</td>\n",
       "      <td>1</td>\n",
       "      <td>2.65</td>\n",
       "      <td>11.0</td>\n",
       "      <td>18.6</td>\n",
       "      <td>1</td>\n",
       "      <td>NaN</td>\n",
       "      <td>...</td>\n",
       "      <td>18603</td>\n",
       "      <td>0.0</td>\n",
       "      <td>NaN</td>\n",
       "      <td>0.0</td>\n",
       "      <td>NaN</td>\n",
       "      <td>81.0</td>\n",
       "      <td>82920</td>\n",
       "      <td>вторник</td>\n",
       "      <td>12</td>\n",
       "      <td>2018</td>\n",
       "    </tr>\n",
       "    <tr>\n",
       "      <th>2</th>\n",
       "      <td>10</td>\n",
       "      <td>5196000</td>\n",
       "      <td>56.0</td>\n",
       "      <td>2015-08-20</td>\n",
       "      <td>2</td>\n",
       "      <td>2.70</td>\n",
       "      <td>5.0</td>\n",
       "      <td>34.3</td>\n",
       "      <td>4</td>\n",
       "      <td>NaN</td>\n",
       "      <td>...</td>\n",
       "      <td>13933</td>\n",
       "      <td>1.0</td>\n",
       "      <td>90.0</td>\n",
       "      <td>2.0</td>\n",
       "      <td>574.0</td>\n",
       "      <td>558.0</td>\n",
       "      <td>92785</td>\n",
       "      <td>четверг</td>\n",
       "      <td>8</td>\n",
       "      <td>2015</td>\n",
       "    </tr>\n",
       "    <tr>\n",
       "      <th>3</th>\n",
       "      <td>0</td>\n",
       "      <td>64900000</td>\n",
       "      <td>159.0</td>\n",
       "      <td>2015-07-24</td>\n",
       "      <td>3</td>\n",
       "      <td>3.00</td>\n",
       "      <td>14.0</td>\n",
       "      <td>NaN</td>\n",
       "      <td>9</td>\n",
       "      <td>NaN</td>\n",
       "      <td>...</td>\n",
       "      <td>6800</td>\n",
       "      <td>2.0</td>\n",
       "      <td>84.0</td>\n",
       "      <td>3.0</td>\n",
       "      <td>234.0</td>\n",
       "      <td>424.0</td>\n",
       "      <td>408176</td>\n",
       "      <td>пятница</td>\n",
       "      <td>7</td>\n",
       "      <td>2015</td>\n",
       "    </tr>\n",
       "    <tr>\n",
       "      <th>4</th>\n",
       "      <td>2</td>\n",
       "      <td>10000000</td>\n",
       "      <td>100.0</td>\n",
       "      <td>2018-06-19</td>\n",
       "      <td>2</td>\n",
       "      <td>3.03</td>\n",
       "      <td>14.0</td>\n",
       "      <td>32.0</td>\n",
       "      <td>13</td>\n",
       "      <td>NaN</td>\n",
       "      <td>...</td>\n",
       "      <td>8098</td>\n",
       "      <td>2.0</td>\n",
       "      <td>112.0</td>\n",
       "      <td>1.0</td>\n",
       "      <td>48.0</td>\n",
       "      <td>121.0</td>\n",
       "      <td>100000</td>\n",
       "      <td>вторник</td>\n",
       "      <td>6</td>\n",
       "      <td>2018</td>\n",
       "    </tr>\n",
       "  </tbody>\n",
       "</table>\n",
       "<p>5 rows × 26 columns</p>\n",
       "</div>"
      ],
      "text/plain": [
       "   total_images  last_price  total_area first_day_exposition  rooms  \\\n",
       "0            20    13000000       108.0           2019-03-07      3   \n",
       "1             7     3350000        40.4           2018-12-04      1   \n",
       "2            10     5196000        56.0           2015-08-20      2   \n",
       "3             0    64900000       159.0           2015-07-24      3   \n",
       "4             2    10000000       100.0           2018-06-19      2   \n",
       "\n",
       "   ceiling_height  floors_total  living_area  floor is_apartment  ...  \\\n",
       "0            2.70          16.0         51.0      8          NaN  ...   \n",
       "1            2.65          11.0         18.6      1          NaN  ...   \n",
       "2            2.70           5.0         34.3      4          NaN  ...   \n",
       "3            3.00          14.0          NaN      9          NaN  ...   \n",
       "4            3.03          14.0         32.0     13          NaN  ...   \n",
       "\n",
       "   city_centers_neareast  parks_around3000  parks_nearest  ponds_around3000  \\\n",
       "0                  16028               1.0          482.0               2.0   \n",
       "1                  18603               0.0            NaN               0.0   \n",
       "2                  13933               1.0           90.0               2.0   \n",
       "3                   6800               2.0           84.0               3.0   \n",
       "4                   8098               2.0          112.0               1.0   \n",
       "\n",
       "  ponds_nearest  days_exposition  price_per_square  weekday_exposition  \\\n",
       "0         755.0              NaN            120370             четверг   \n",
       "1           NaN             81.0             82920             вторник   \n",
       "2         574.0            558.0             92785             четверг   \n",
       "3         234.0            424.0            408176             пятница   \n",
       "4          48.0            121.0            100000             вторник   \n",
       "\n",
       "   month_exposition  year_exposition  \n",
       "0                 3             2019  \n",
       "1                12             2018  \n",
       "2                 8             2015  \n",
       "3                 7             2015  \n",
       "4                 6             2018  \n",
       "\n",
       "[5 rows x 26 columns]"
      ]
     },
     "execution_count": 29,
     "metadata": {},
     "output_type": "execute_result"
    }
   ],
   "source": [
    "df['weekday_exposition'] = df['first_day_exposition'].dt.weekday\n",
    "#Let's replace weekdays number by name of weekdays\n",
    "weekday_dict = {0: 'понедельник', 1: 'вторник', 2: 'среда', 3: 'четверг', \n",
    "                    4: 'пятница', 5: 'суббота', 6: 'воскресенье'}\n",
    "df['weekday_exposition'] = df['weekday_exposition'].map(weekday_dict)\n",
    "#Creating columns with month and year of ad publishing\n",
    "df['month_exposition'] = df['first_day_exposition'].dt.month\n",
    "df['year_exposition'] = df['first_day_exposition'].dt.year\n",
    "#Checking results\n",
    "df.head()"
   ]
  },
  {
   "cell_type": "markdown",
   "metadata": {},
   "source": [
    "### Добаление категорий этажа квартиры   \n",
    "Для этого напишем функцию, что бы присвоить категорию в зависимости от этажа."
   ]
  },
  {
   "cell_type": "code",
   "execution_count": 30,
   "metadata": {},
   "outputs": [],
   "source": [
    "def floor_categorize(row):\n",
    "    '''The function returns category of floor: firts, last or other'''\n",
    "    floor = row['floor']\n",
    "    last_floor = row['floors_total']\n",
    "    if floor == 1:\n",
    "        return 'первый'\n",
    "    if floor == last_floor:\n",
    "        return 'последний'\n",
    "    if 1 < floor < last_floor:\n",
    "        return 'другой'\n",
    "df['floor_category'] = df.apply(floor_categorize, axis=1)"
   ]
  },
  {
   "cell_type": "markdown",
   "metadata": {},
   "source": [
    "### Добавление соотношения жилой и общей площади, а также отношение площади кухни к общей."
   ]
  },
  {
   "cell_type": "code",
   "execution_count": 31,
   "metadata": {},
   "outputs": [
    {
     "data": {
      "text/html": [
       "<div>\n",
       "<style scoped>\n",
       "    .dataframe tbody tr th:only-of-type {\n",
       "        vertical-align: middle;\n",
       "    }\n",
       "\n",
       "    .dataframe tbody tr th {\n",
       "        vertical-align: top;\n",
       "    }\n",
       "\n",
       "    .dataframe thead th {\n",
       "        text-align: right;\n",
       "    }\n",
       "</style>\n",
       "<table border=\"1\" class=\"dataframe\">\n",
       "  <thead>\n",
       "    <tr style=\"text-align: right;\">\n",
       "      <th></th>\n",
       "      <th>total_images</th>\n",
       "      <th>last_price</th>\n",
       "      <th>total_area</th>\n",
       "      <th>first_day_exposition</th>\n",
       "      <th>rooms</th>\n",
       "      <th>ceiling_height</th>\n",
       "      <th>floors_total</th>\n",
       "      <th>living_area</th>\n",
       "      <th>floor</th>\n",
       "      <th>is_apartment</th>\n",
       "      <th>...</th>\n",
       "      <th>ponds_around3000</th>\n",
       "      <th>ponds_nearest</th>\n",
       "      <th>days_exposition</th>\n",
       "      <th>price_per_square</th>\n",
       "      <th>weekday_exposition</th>\n",
       "      <th>month_exposition</th>\n",
       "      <th>year_exposition</th>\n",
       "      <th>floor_category</th>\n",
       "      <th>living_area_ratio</th>\n",
       "      <th>kitchen_area_ratio</th>\n",
       "    </tr>\n",
       "  </thead>\n",
       "  <tbody>\n",
       "    <tr>\n",
       "      <th>0</th>\n",
       "      <td>20</td>\n",
       "      <td>13000000</td>\n",
       "      <td>108.0</td>\n",
       "      <td>2019-03-07</td>\n",
       "      <td>3</td>\n",
       "      <td>2.70</td>\n",
       "      <td>16.0</td>\n",
       "      <td>51.0</td>\n",
       "      <td>8</td>\n",
       "      <td>NaN</td>\n",
       "      <td>...</td>\n",
       "      <td>2.0</td>\n",
       "      <td>755.0</td>\n",
       "      <td>NaN</td>\n",
       "      <td>120370</td>\n",
       "      <td>четверг</td>\n",
       "      <td>3</td>\n",
       "      <td>2019</td>\n",
       "      <td>другой</td>\n",
       "      <td>0.47</td>\n",
       "      <td>0.23</td>\n",
       "    </tr>\n",
       "    <tr>\n",
       "      <th>1</th>\n",
       "      <td>7</td>\n",
       "      <td>3350000</td>\n",
       "      <td>40.4</td>\n",
       "      <td>2018-12-04</td>\n",
       "      <td>1</td>\n",
       "      <td>2.65</td>\n",
       "      <td>11.0</td>\n",
       "      <td>18.6</td>\n",
       "      <td>1</td>\n",
       "      <td>NaN</td>\n",
       "      <td>...</td>\n",
       "      <td>0.0</td>\n",
       "      <td>NaN</td>\n",
       "      <td>81.0</td>\n",
       "      <td>82920</td>\n",
       "      <td>вторник</td>\n",
       "      <td>12</td>\n",
       "      <td>2018</td>\n",
       "      <td>первый</td>\n",
       "      <td>0.46</td>\n",
       "      <td>0.27</td>\n",
       "    </tr>\n",
       "    <tr>\n",
       "      <th>2</th>\n",
       "      <td>10</td>\n",
       "      <td>5196000</td>\n",
       "      <td>56.0</td>\n",
       "      <td>2015-08-20</td>\n",
       "      <td>2</td>\n",
       "      <td>2.70</td>\n",
       "      <td>5.0</td>\n",
       "      <td>34.3</td>\n",
       "      <td>4</td>\n",
       "      <td>NaN</td>\n",
       "      <td>...</td>\n",
       "      <td>2.0</td>\n",
       "      <td>574.0</td>\n",
       "      <td>558.0</td>\n",
       "      <td>92785</td>\n",
       "      <td>четверг</td>\n",
       "      <td>8</td>\n",
       "      <td>2015</td>\n",
       "      <td>другой</td>\n",
       "      <td>0.61</td>\n",
       "      <td>0.15</td>\n",
       "    </tr>\n",
       "    <tr>\n",
       "      <th>3</th>\n",
       "      <td>0</td>\n",
       "      <td>64900000</td>\n",
       "      <td>159.0</td>\n",
       "      <td>2015-07-24</td>\n",
       "      <td>3</td>\n",
       "      <td>3.00</td>\n",
       "      <td>14.0</td>\n",
       "      <td>NaN</td>\n",
       "      <td>9</td>\n",
       "      <td>NaN</td>\n",
       "      <td>...</td>\n",
       "      <td>3.0</td>\n",
       "      <td>234.0</td>\n",
       "      <td>424.0</td>\n",
       "      <td>408176</td>\n",
       "      <td>пятница</td>\n",
       "      <td>7</td>\n",
       "      <td>2015</td>\n",
       "      <td>другой</td>\n",
       "      <td>NaN</td>\n",
       "      <td>NaN</td>\n",
       "    </tr>\n",
       "    <tr>\n",
       "      <th>4</th>\n",
       "      <td>2</td>\n",
       "      <td>10000000</td>\n",
       "      <td>100.0</td>\n",
       "      <td>2018-06-19</td>\n",
       "      <td>2</td>\n",
       "      <td>3.03</td>\n",
       "      <td>14.0</td>\n",
       "      <td>32.0</td>\n",
       "      <td>13</td>\n",
       "      <td>NaN</td>\n",
       "      <td>...</td>\n",
       "      <td>1.0</td>\n",
       "      <td>48.0</td>\n",
       "      <td>121.0</td>\n",
       "      <td>100000</td>\n",
       "      <td>вторник</td>\n",
       "      <td>6</td>\n",
       "      <td>2018</td>\n",
       "      <td>другой</td>\n",
       "      <td>0.32</td>\n",
       "      <td>0.41</td>\n",
       "    </tr>\n",
       "  </tbody>\n",
       "</table>\n",
       "<p>5 rows × 29 columns</p>\n",
       "</div>"
      ],
      "text/plain": [
       "   total_images  last_price  total_area first_day_exposition  rooms  \\\n",
       "0            20    13000000       108.0           2019-03-07      3   \n",
       "1             7     3350000        40.4           2018-12-04      1   \n",
       "2            10     5196000        56.0           2015-08-20      2   \n",
       "3             0    64900000       159.0           2015-07-24      3   \n",
       "4             2    10000000       100.0           2018-06-19      2   \n",
       "\n",
       "   ceiling_height  floors_total  living_area  floor is_apartment  ...  \\\n",
       "0            2.70          16.0         51.0      8          NaN  ...   \n",
       "1            2.65          11.0         18.6      1          NaN  ...   \n",
       "2            2.70           5.0         34.3      4          NaN  ...   \n",
       "3            3.00          14.0          NaN      9          NaN  ...   \n",
       "4            3.03          14.0         32.0     13          NaN  ...   \n",
       "\n",
       "   ponds_around3000  ponds_nearest  days_exposition  price_per_square  \\\n",
       "0               2.0          755.0              NaN            120370   \n",
       "1               0.0            NaN             81.0             82920   \n",
       "2               2.0          574.0            558.0             92785   \n",
       "3               3.0          234.0            424.0            408176   \n",
       "4               1.0           48.0            121.0            100000   \n",
       "\n",
       "  weekday_exposition  month_exposition  year_exposition  floor_category  \\\n",
       "0            четверг                 3             2019          другой   \n",
       "1            вторник                12             2018          первый   \n",
       "2            четверг                 8             2015          другой   \n",
       "3            пятница                 7             2015          другой   \n",
       "4            вторник                 6             2018          другой   \n",
       "\n",
       "   living_area_ratio  kitchen_area_ratio  \n",
       "0               0.47                0.23  \n",
       "1               0.46                0.27  \n",
       "2               0.61                0.15  \n",
       "3                NaN                 NaN  \n",
       "4               0.32                0.41  \n",
       "\n",
       "[5 rows x 29 columns]"
      ]
     },
     "execution_count": 31,
     "metadata": {},
     "output_type": "execute_result"
    }
   ],
   "source": [
    "df['living_area_ratio'] = (df['living_area'] / df['total_area']).round(2)\n",
    "df['kitchen_area_ratio'] = (df['kitchen_area'] / df['total_area']).round(2)\n",
    "df.head()"
   ]
  },
  {
   "cell_type": "markdown",
   "metadata": {},
   "source": [
    "## Исследовательский анализ данных"
   ]
  },
  {
   "cell_type": "markdown",
   "metadata": {},
   "source": [
    "### Изучение параметров: площадь, цена, число комнат, высота потолков\n",
    "Для начала переведём значения цен в тысячи, для более корректного отображения. "
   ]
  },
  {
   "cell_type": "code",
   "execution_count": 32,
   "metadata": {},
   "outputs": [
    {
     "data": {
      "text/html": [
       "<div>\n",
       "<style scoped>\n",
       "    .dataframe tbody tr th:only-of-type {\n",
       "        vertical-align: middle;\n",
       "    }\n",
       "\n",
       "    .dataframe tbody tr th {\n",
       "        vertical-align: top;\n",
       "    }\n",
       "\n",
       "    .dataframe thead th {\n",
       "        text-align: right;\n",
       "    }\n",
       "</style>\n",
       "<table border=\"1\" class=\"dataframe\">\n",
       "  <thead>\n",
       "    <tr style=\"text-align: right;\">\n",
       "      <th></th>\n",
       "      <th>total_images</th>\n",
       "      <th>last_price</th>\n",
       "      <th>total_area</th>\n",
       "      <th>first_day_exposition</th>\n",
       "      <th>rooms</th>\n",
       "      <th>ceiling_height</th>\n",
       "      <th>floors_total</th>\n",
       "      <th>living_area</th>\n",
       "      <th>floor</th>\n",
       "      <th>is_apartment</th>\n",
       "      <th>...</th>\n",
       "      <th>ponds_around3000</th>\n",
       "      <th>ponds_nearest</th>\n",
       "      <th>days_exposition</th>\n",
       "      <th>price_per_square</th>\n",
       "      <th>weekday_exposition</th>\n",
       "      <th>month_exposition</th>\n",
       "      <th>year_exposition</th>\n",
       "      <th>floor_category</th>\n",
       "      <th>living_area_ratio</th>\n",
       "      <th>kitchen_area_ratio</th>\n",
       "    </tr>\n",
       "  </thead>\n",
       "  <tbody>\n",
       "    <tr>\n",
       "      <th>0</th>\n",
       "      <td>20</td>\n",
       "      <td>13000</td>\n",
       "      <td>108.0</td>\n",
       "      <td>2019-03-07</td>\n",
       "      <td>3</td>\n",
       "      <td>2.70</td>\n",
       "      <td>16.0</td>\n",
       "      <td>51.0</td>\n",
       "      <td>8</td>\n",
       "      <td>NaN</td>\n",
       "      <td>...</td>\n",
       "      <td>2.0</td>\n",
       "      <td>755.0</td>\n",
       "      <td>NaN</td>\n",
       "      <td>120.370</td>\n",
       "      <td>четверг</td>\n",
       "      <td>3</td>\n",
       "      <td>2019</td>\n",
       "      <td>другой</td>\n",
       "      <td>0.47</td>\n",
       "      <td>0.23</td>\n",
       "    </tr>\n",
       "    <tr>\n",
       "      <th>1</th>\n",
       "      <td>7</td>\n",
       "      <td>3350</td>\n",
       "      <td>40.4</td>\n",
       "      <td>2018-12-04</td>\n",
       "      <td>1</td>\n",
       "      <td>2.65</td>\n",
       "      <td>11.0</td>\n",
       "      <td>18.6</td>\n",
       "      <td>1</td>\n",
       "      <td>NaN</td>\n",
       "      <td>...</td>\n",
       "      <td>0.0</td>\n",
       "      <td>NaN</td>\n",
       "      <td>81.0</td>\n",
       "      <td>82.920</td>\n",
       "      <td>вторник</td>\n",
       "      <td>12</td>\n",
       "      <td>2018</td>\n",
       "      <td>первый</td>\n",
       "      <td>0.46</td>\n",
       "      <td>0.27</td>\n",
       "    </tr>\n",
       "    <tr>\n",
       "      <th>2</th>\n",
       "      <td>10</td>\n",
       "      <td>5196</td>\n",
       "      <td>56.0</td>\n",
       "      <td>2015-08-20</td>\n",
       "      <td>2</td>\n",
       "      <td>2.70</td>\n",
       "      <td>5.0</td>\n",
       "      <td>34.3</td>\n",
       "      <td>4</td>\n",
       "      <td>NaN</td>\n",
       "      <td>...</td>\n",
       "      <td>2.0</td>\n",
       "      <td>574.0</td>\n",
       "      <td>558.0</td>\n",
       "      <td>92.785</td>\n",
       "      <td>четверг</td>\n",
       "      <td>8</td>\n",
       "      <td>2015</td>\n",
       "      <td>другой</td>\n",
       "      <td>0.61</td>\n",
       "      <td>0.15</td>\n",
       "    </tr>\n",
       "    <tr>\n",
       "      <th>3</th>\n",
       "      <td>0</td>\n",
       "      <td>64900</td>\n",
       "      <td>159.0</td>\n",
       "      <td>2015-07-24</td>\n",
       "      <td>3</td>\n",
       "      <td>3.00</td>\n",
       "      <td>14.0</td>\n",
       "      <td>NaN</td>\n",
       "      <td>9</td>\n",
       "      <td>NaN</td>\n",
       "      <td>...</td>\n",
       "      <td>3.0</td>\n",
       "      <td>234.0</td>\n",
       "      <td>424.0</td>\n",
       "      <td>408.176</td>\n",
       "      <td>пятница</td>\n",
       "      <td>7</td>\n",
       "      <td>2015</td>\n",
       "      <td>другой</td>\n",
       "      <td>NaN</td>\n",
       "      <td>NaN</td>\n",
       "    </tr>\n",
       "    <tr>\n",
       "      <th>4</th>\n",
       "      <td>2</td>\n",
       "      <td>10000</td>\n",
       "      <td>100.0</td>\n",
       "      <td>2018-06-19</td>\n",
       "      <td>2</td>\n",
       "      <td>3.03</td>\n",
       "      <td>14.0</td>\n",
       "      <td>32.0</td>\n",
       "      <td>13</td>\n",
       "      <td>NaN</td>\n",
       "      <td>...</td>\n",
       "      <td>1.0</td>\n",
       "      <td>48.0</td>\n",
       "      <td>121.0</td>\n",
       "      <td>100.000</td>\n",
       "      <td>вторник</td>\n",
       "      <td>6</td>\n",
       "      <td>2018</td>\n",
       "      <td>другой</td>\n",
       "      <td>0.32</td>\n",
       "      <td>0.41</td>\n",
       "    </tr>\n",
       "  </tbody>\n",
       "</table>\n",
       "<p>5 rows × 29 columns</p>\n",
       "</div>"
      ],
      "text/plain": [
       "   total_images  last_price  total_area first_day_exposition  rooms  \\\n",
       "0            20       13000       108.0           2019-03-07      3   \n",
       "1             7        3350        40.4           2018-12-04      1   \n",
       "2            10        5196        56.0           2015-08-20      2   \n",
       "3             0       64900       159.0           2015-07-24      3   \n",
       "4             2       10000       100.0           2018-06-19      2   \n",
       "\n",
       "   ceiling_height  floors_total  living_area  floor is_apartment  ...  \\\n",
       "0            2.70          16.0         51.0      8          NaN  ...   \n",
       "1            2.65          11.0         18.6      1          NaN  ...   \n",
       "2            2.70           5.0         34.3      4          NaN  ...   \n",
       "3            3.00          14.0          NaN      9          NaN  ...   \n",
       "4            3.03          14.0         32.0     13          NaN  ...   \n",
       "\n",
       "   ponds_around3000  ponds_nearest  days_exposition  price_per_square  \\\n",
       "0               2.0          755.0              NaN           120.370   \n",
       "1               0.0            NaN             81.0            82.920   \n",
       "2               2.0          574.0            558.0            92.785   \n",
       "3               3.0          234.0            424.0           408.176   \n",
       "4               1.0           48.0            121.0           100.000   \n",
       "\n",
       "  weekday_exposition  month_exposition  year_exposition  floor_category  \\\n",
       "0            четверг                 3             2019          другой   \n",
       "1            вторник                12             2018          первый   \n",
       "2            четверг                 8             2015          другой   \n",
       "3            пятница                 7             2015          другой   \n",
       "4            вторник                 6             2018          другой   \n",
       "\n",
       "   living_area_ratio  kitchen_area_ratio  \n",
       "0               0.47                0.23  \n",
       "1               0.46                0.27  \n",
       "2               0.61                0.15  \n",
       "3                NaN                 NaN  \n",
       "4               0.32                0.41  \n",
       "\n",
       "[5 rows x 29 columns]"
      ]
     },
     "execution_count": 32,
     "metadata": {},
     "output_type": "execute_result"
    }
   ],
   "source": [
    "df['last_price'] = (df['last_price'] / 1000).astype('int')\n",
    "df['price_per_square'] = (df['price_per_square'] / 1000).round(3)\n",
    "df.head()"
   ]
  },
  {
   "cell_type": "markdown",
   "metadata": {},
   "source": [
    "Теперь вызовем метод `.describe()` для этих стоблцов и посмотрим значения.  "
   ]
  },
  {
   "cell_type": "code",
   "execution_count": 33,
   "metadata": {},
   "outputs": [
    {
     "data": {
      "text/html": [
       "<div>\n",
       "<style scoped>\n",
       "    .dataframe tbody tr th:only-of-type {\n",
       "        vertical-align: middle;\n",
       "    }\n",
       "\n",
       "    .dataframe tbody tr th {\n",
       "        vertical-align: top;\n",
       "    }\n",
       "\n",
       "    .dataframe thead th {\n",
       "        text-align: right;\n",
       "    }\n",
       "</style>\n",
       "<table border=\"1\" class=\"dataframe\">\n",
       "  <thead>\n",
       "    <tr style=\"text-align: right;\">\n",
       "      <th></th>\n",
       "      <th>total_area</th>\n",
       "      <th>last_price</th>\n",
       "      <th>rooms</th>\n",
       "      <th>ceiling_height</th>\n",
       "    </tr>\n",
       "  </thead>\n",
       "  <tbody>\n",
       "    <tr>\n",
       "      <th>count</th>\n",
       "      <td>23699.000000</td>\n",
       "      <td>23699.000000</td>\n",
       "      <td>23699.000000</td>\n",
       "      <td>23682.000000</td>\n",
       "    </tr>\n",
       "    <tr>\n",
       "      <th>mean</th>\n",
       "      <td>60.348635</td>\n",
       "      <td>6541.532723</td>\n",
       "      <td>2.070636</td>\n",
       "      <td>2.742229</td>\n",
       "    </tr>\n",
       "    <tr>\n",
       "      <th>std</th>\n",
       "      <td>35.654086</td>\n",
       "      <td>10887.008378</td>\n",
       "      <td>1.078405</td>\n",
       "      <td>1.048725</td>\n",
       "    </tr>\n",
       "    <tr>\n",
       "      <th>min</th>\n",
       "      <td>12.000000</td>\n",
       "      <td>12.000000</td>\n",
       "      <td>0.000000</td>\n",
       "      <td>1.000000</td>\n",
       "    </tr>\n",
       "    <tr>\n",
       "      <th>25%</th>\n",
       "      <td>40.000000</td>\n",
       "      <td>3400.000000</td>\n",
       "      <td>1.000000</td>\n",
       "      <td>2.550000</td>\n",
       "    </tr>\n",
       "    <tr>\n",
       "      <th>50%</th>\n",
       "      <td>52.000000</td>\n",
       "      <td>4650.000000</td>\n",
       "      <td>2.000000</td>\n",
       "      <td>2.650000</td>\n",
       "    </tr>\n",
       "    <tr>\n",
       "      <th>75%</th>\n",
       "      <td>69.900000</td>\n",
       "      <td>6800.000000</td>\n",
       "      <td>3.000000</td>\n",
       "      <td>2.750000</td>\n",
       "    </tr>\n",
       "    <tr>\n",
       "      <th>max</th>\n",
       "      <td>900.000000</td>\n",
       "      <td>763000.000000</td>\n",
       "      <td>19.000000</td>\n",
       "      <td>100.000000</td>\n",
       "    </tr>\n",
       "  </tbody>\n",
       "</table>\n",
       "</div>"
      ],
      "text/plain": [
       "         total_area     last_price         rooms  ceiling_height\n",
       "count  23699.000000   23699.000000  23699.000000    23682.000000\n",
       "mean      60.348635    6541.532723      2.070636        2.742229\n",
       "std       35.654086   10887.008378      1.078405        1.048725\n",
       "min       12.000000      12.000000      0.000000        1.000000\n",
       "25%       40.000000    3400.000000      1.000000        2.550000\n",
       "50%       52.000000    4650.000000      2.000000        2.650000\n",
       "75%       69.900000    6800.000000      3.000000        2.750000\n",
       "max      900.000000  763000.000000     19.000000      100.000000"
      ]
     },
     "execution_count": 33,
     "metadata": {},
     "output_type": "execute_result"
    }
   ],
   "source": [
    "df[['total_area', 'last_price', 'rooms', 'ceiling_height']].describe()"
   ]
  },
  {
   "cell_type": "markdown",
   "metadata": {},
   "source": [
    "Предварительно можно сказать следующее:   \n",
    "Площадь имеет выбросы до максимальных 900 м² и минимальную 12 м², но среднее 60 м² и медиана 52 м², что выглядит правдободобным.   \n",
    "Цена имеет разброс от 12 тыся до 763 млн, но среденее и медина выглядят правдоподобно.   \n",
    "Кол-во комнат от 0(студии) и максимально может быть 19 комнат (возможно это большой дом или не жилое помещение).   \n",
    "Высота потолков так же имеет выбросы 1 м и 100 м, среднее 2,74 м и медиану 2,65 м, что похоже на действительное.   \n",
    "\n",
    "Далее построим диаграммы размаха по этим параметрам, чтобы оценить границы нормальных значений."
   ]
  },
  {
   "cell_type": "code",
   "execution_count": 34,
   "metadata": {},
   "outputs": [
    {
     "data": {
      "image/png": "[encoded data removed]",
      "text/plain": [
       "<Figure size 432x288 with 1 Axes>"
      ]
     },
     "metadata": {
      "needs_background": "light"
     },
     "output_type": "display_data"
    },
    {
     "data": {
      "image/png": "[encoded data removed]",
      "text/plain": [
       "<Figure size 432x288 with 1 Axes>"
      ]
     },
     "metadata": {
      "needs_background": "light"
     },
     "output_type": "display_data"
    },
    {
     "data": {
      "image/png": "[encoded data removed]",
      "text/plain": [
       "<Figure size 432x288 with 1 Axes>"
      ]
     },
     "metadata": {
      "needs_background": "light"
     },
     "output_type": "display_data"
    },
    {
     "data": {
      "image/png": "[encoded data removed]",
      "text/plain": [
       "<Figure size 432x288 with 1 Axes>"
      ]
     },
     "metadata": {
      "needs_background": "light"
     },
     "output_type": "display_data"
    }
   ],
   "source": [
    "column_list = ['total_area', 'last_price', 'rooms', 'ceiling_height']\n",
    "ylims = [300, 13000, 10, 5]\n",
    "\n",
    "for i in range(len(ylims)):\n",
    "    df.boxplot(column_list[i], fontsize=14)\n",
    "    plt.ylim(0, ylims[i])\n",
    "    plt.show()"
   ]
  },
  {
   "cell_type": "markdown",
   "metadata": {},
   "source": [
    "Здесь мы можем определить примерные границы нормальных значений:   \n",
    "- `total_area` - 18 - 130 м²\n",
    "- `last_price` - 0 - 12 млн р.\n",
    "- `rooms` - 0 - 6 комнат\n",
    "- `ceiling_height` - 2,3 - 3,3 м   \n",
    "\n",
    "Построим гистограммы по этим столбцам"
   ]
  },
  {
   "cell_type": "markdown",
   "metadata": {},
   "source": [
    "#### Гистограмма распределения значений площади"
   ]
  },
  {
   "cell_type": "code",
   "execution_count": 35,
   "metadata": {},
   "outputs": [
    {
     "data": {
      "image/png": "[encoded data removed]",
      "text/plain": [
       "<Figure size 1008x360 with 1 Axes>"
      ]
     },
     "metadata": {
      "needs_background": "light"
     },
     "output_type": "display_data"
    }
   ],
   "source": [
    "df.plot(y = 'total_area', kind = 'hist', bins = 30, grid=True, figsize = (14,5), range=(18,130));"
   ]
  },
  {
   "cell_type": "markdown",
   "metadata": {},
   "source": [
    "Больше всего квартир с площадью от 40 до 50 м²"
   ]
  },
  {
   "cell_type": "markdown",
   "metadata": {},
   "source": [
    "#### Гистограмма распределения значений цены"
   ]
  },
  {
   "cell_type": "code",
   "execution_count": 36,
   "metadata": {},
   "outputs": [
    {
     "data": {
      "image/png": "[encoded data removed]",
      "text/plain": [
       "<Figure size 1008x360 with 1 Axes>"
      ]
     },
     "metadata": {
      "needs_background": "light"
     },
     "output_type": "display_data"
    }
   ],
   "source": [
    "df.plot(y = 'last_price', kind = 'hist', bins = 30, grid=True, figsize = (14,5), range=(0,13000));"
   ]
  },
  {
   "cell_type": "markdown",
   "metadata": {},
   "source": [
    "В данной выборке больше всего квартир с ценой в районе 4 млн.р."
   ]
  },
  {
   "cell_type": "markdown",
   "metadata": {},
   "source": [
    "#### Гистограмма распределения значений кол-ва комнат"
   ]
  },
  {
   "cell_type": "code",
   "execution_count": 37,
   "metadata": {},
   "outputs": [
    {
     "data": {
      "image/png": "[encoded data removed]",
      "text/plain": [
       "<Figure size 1008x360 with 1 Axes>"
      ]
     },
     "metadata": {
      "needs_background": "light"
     },
     "output_type": "display_data"
    }
   ],
   "source": [
    "df.plot(y = 'rooms', kind = 'hist', bins = 8, grid=True, figsize = (14,5), range=(0,7));"
   ]
  },
  {
   "cell_type": "markdown",
   "metadata": {},
   "source": [
    "В нашей выборке больше квартир с одной и двумя комнатами."
   ]
  },
  {
   "cell_type": "markdown",
   "metadata": {},
   "source": [
    "#### Гистограмма распределения значений высоты потолков"
   ]
  },
  {
   "cell_type": "code",
   "execution_count": 38,
   "metadata": {},
   "outputs": [
    {
     "data": {
      "image/png": "[encoded data removed]",
      "text/plain": [
       "<Figure size 1008x360 with 1 Axes>"
      ]
     },
     "metadata": {
      "needs_background": "light"
     },
     "output_type": "display_data"
    }
   ],
   "source": [
    "df.plot(y = 'ceiling_height', kind = 'hist', bins = 10, grid=True, figsize = (14,5), range=(2.3, 3.3));"
   ]
  },
  {
   "cell_type": "markdown",
   "metadata": {},
   "source": [
    "Чаще всего в нашей выборке встречаются квартиры с высотой потолков 2,5-2,6 м"
   ]
  },
  {
   "cell_type": "markdown",
   "metadata": {},
   "source": [
    "#### Вывод   \n",
    "1. **Гистограмма распределения значений площади** - Основная доля квартир имеет метраж от 30 до 80 м², пик приходится на 45 м². Есть квартиры и по 800м, но это единичные выбросы.   \n",
    "2. **Гистограмма распределения значений цены** - Цены варьируются в пределах от 3 до 12 млн.р. Чаще всего квартиры имеют стоимость от 3 до 6 млн.р.   \n",
    "3. **Гистограмма распределения значений кол-ва комнат** - В выборке имеются квартиры 0(студии) до 19 комнат. Чаще всего встречаются 1 и 2-х комнатные квартиры.   \n",
    "4. **Гистограмма распределения значений высоты потолков** - Чаще всего встречаются квартиры с потолками от 2,5 до 3,2, остальные можно считать экслюзивными."
   ]
  },
  {
   "cell_type": "markdown",
   "metadata": {},
   "source": [
    "### Изучение времени продажи квартиры   \n",
    "Изучим данные и построим гистограмму по времени продажи квартир."
   ]
  },
  {
   "cell_type": "code",
   "execution_count": 39,
   "metadata": {},
   "outputs": [
    {
     "name": "stdout",
     "output_type": "stream",
     "text": [
      "count    20518.000000\n",
      "mean       180.888634\n",
      "std        219.727988\n",
      "min          1.000000\n",
      "25%         45.000000\n",
      "50%         95.000000\n",
      "75%        232.000000\n",
      "max       1580.000000\n",
      "Name: days_exposition, dtype: float64\n"
     ]
    },
    {
     "data": {
      "image/png": "[encoded data removed]",
      "text/plain": [
       "<Figure size 1008x360 with 1 Axes>"
      ]
     },
     "metadata": {
      "needs_background": "light"
     },
     "output_type": "display_data"
    }
   ],
   "source": [
    "print(df['days_exposition'].describe())\n",
    "df['days_exposition'].hist(bins=100, figsize=(14, 5), ec='black');"
   ]
  },
  {
   "cell_type": "markdown",
   "metadata": {},
   "source": [
    "Здесь мы видим что основная часть квартир продавалась примерно до 100 дней. Медианой является 95 дней, в то время как среднее 180 дней.   \n",
    "Построим диаграмму размаха для кол-ва дней, ограничив максимальное значение в 600 дней."
   ]
  },
  {
   "cell_type": "code",
   "execution_count": 40,
   "metadata": {},
   "outputs": [
    {
     "data": {
      "text/plain": [
       "(0.0, 600.0)"
      ]
     },
     "execution_count": 40,
     "metadata": {},
     "output_type": "execute_result"
    },
    {
     "data": {
      "image/png": "[encoded data removed]",
      "text/plain": [
       "<Figure size 432x288 with 1 Axes>"
      ]
     },
     "metadata": {
      "needs_background": "light"
     },
     "output_type": "display_data"
    }
   ],
   "source": [
    "df.boxplot('days_exposition');\n",
    "plt.ylim(0, 600)"
   ]
  },
  {
   "cell_type": "markdown",
   "metadata": {},
   "source": [
    "По диаграмме размаха можно сказать что квартиры в соновном продаются от 45 до 250 дней.   \n",
    "Ограничим данные для гисторгаммы в 500 дней, что бы убрать выбросы и более детально рассмотреть гистограмму."
   ]
  },
  {
   "cell_type": "code",
   "execution_count": 41,
   "metadata": {},
   "outputs": [
    {
     "data": {
      "image/png": "[encoded data removed]",
      "text/plain": [
       "<Figure size 1008x360 with 1 Axes>"
      ]
     },
     "metadata": {
      "needs_background": "light"
     },
     "output_type": "display_data"
    }
   ],
   "source": [
    "df.query('days_exposition < 500')['days_exposition'].hist(bins=100, figsize=(14, 5), ec='black');"
   ]
  },
  {
   "cell_type": "markdown",
   "metadata": {},
   "source": [
    "Видны некоторые выбросы в райное 50, 60, и 90 дней. Рассмотрим детальнее эти значения."
   ]
  },
  {
   "cell_type": "code",
   "execution_count": 42,
   "metadata": {},
   "outputs": [
    {
     "data": {
      "image/png": "[encoded data removed]",
      "text/plain": [
       "<Figure size 1008x360 with 1 Axes>"
      ]
     },
     "metadata": {
      "needs_background": "light"
     },
     "output_type": "display_data"
    }
   ],
   "source": [
    "df.query('40 < days_exposition < 100')['days_exposition'].hist(bins=60, figsize=(14, 5), ec='black');"
   ]
  },
  {
   "cell_type": "markdown",
   "metadata": {},
   "source": [
    "**Вывод**   \n",
    "На графике видны выборсы на 45, 60 и 90 дней. Возможно это автоматическое снятие объявления или что-то в этом роде. В любом случае в дальнейшем это лучше уточнить у тех кто собирает эти данные. Сейчас же мы будем убирать эти данные из исследования, что бы сделать выборку правдободобной.   "
   ]
  },
  {
   "cell_type": "markdown",
   "metadata": {},
   "source": [
    "### Редкие и выбивающиеся значения времени продажи квартиры    \n",
    "В предыдущем пункте мы вявили выбросы на 45, 60 и 90 дней. Удалим эти значения из выборки и создадим новый датафрейм, так как фактической продажи квартир в эти сроки скорее всего не было в таком кол-ве."
   ]
  },
  {
   "cell_type": "code",
   "execution_count": 43,
   "metadata": {},
   "outputs": [],
   "source": [
    "good_df = df.query('days_exposition != 45 and days_exposition != 60 and days_exposition != 90')"
   ]
  },
  {
   "cell_type": "markdown",
   "metadata": {},
   "source": [
    "Построим диаграмму размаха, гистограмму и вызовем метод `.describe()` что бы изучить данные после удаления выбросов."
   ]
  },
  {
   "cell_type": "code",
   "execution_count": 44,
   "metadata": {},
   "outputs": [
    {
     "name": "stdout",
     "output_type": "stream",
     "text": [
      "count    18896.000000\n",
      "mean       191.640188\n",
      "std        225.707795\n",
      "min          1.000000\n",
      "25%         41.000000\n",
      "50%        110.000000\n",
      "75%        252.000000\n",
      "max       1580.000000\n",
      "Name: days_exposition, dtype: float64\n"
     ]
    },
    {
     "data": {
      "image/png": "[encoded data removed]",
      "text/plain": [
       "<Figure size 1008x360 with 1 Axes>"
      ]
     },
     "metadata": {
      "needs_background": "light"
     },
     "output_type": "display_data"
    },
    {
     "data": {
      "text/plain": [
       "(0.0, 600.0)"
      ]
     },
     "execution_count": 44,
     "metadata": {},
     "output_type": "execute_result"
    },
    {
     "data": {
      "image/png": "[encoded data removed]",
      "text/plain": [
       "<Figure size 432x288 with 1 Axes>"
      ]
     },
     "metadata": {
      "needs_background": "light"
     },
     "output_type": "display_data"
    }
   ],
   "source": [
    "print(good_df['days_exposition'].describe())\n",
    "good_df.query('days_exposition < 500')['days_exposition'].hist(bins=100, figsize=(14, 5), ec='black');\n",
    "plt.show()\n",
    "good_df.boxplot('days_exposition');\n",
    "plt.ylim(0, 600)"
   ]
  },
  {
   "cell_type": "markdown",
   "metadata": {},
   "source": [
    "**Вывод**   \n",
    "Мы видим что медиана сместилась к 110 дням, среднее к 191 дню. Верхние \"усы\" теперь расположены ближе к 600 дням, что говорит о том что квартиры в основном продаются максимум за 600 дней и минимум за 2-3 дня. "
   ]
  },
  {
   "cell_type": "markdown",
   "metadata": {},
   "source": [
    "### Факторы влияющие на стоимость квартиры   \n",
    "Изучим, зависит ли цена от площади, числа комнат, удалённости от центра. Изучим зависимость цены от того, на каком этаже расположена квартира: первом, последнем или другом. Также изучим зависимость от даты размещения: дня недели, месяца и года."
   ]
  },
  {
   "cell_type": "markdown",
   "metadata": {},
   "source": [
    "#### Зависимость цены от площади   \n",
    "Перед построением графика вспомним диапазоны нормальных значений полученные из графиков размаха:\n",
    "- `total_area` - 18 - 130 м²\n",
    "- `last_price` - 0 - 12 млн р.   \n",
    "Используем эти диапазоны для исследования зависимости"
   ]
  },
  {
   "cell_type": "code",
   "execution_count": 45,
   "metadata": {},
   "outputs": [
    {
     "name": "stdout",
     "output_type": "stream",
     "text": [
      "Значение корреляции Пирсона 0.65\n"
     ]
    },
    {
     "data": {
      "image/png": "[encoded data removed]",
      "text/plain": [
       "<Figure size 1008x360 with 1 Axes>"
      ]
     },
     "metadata": {
      "needs_background": "light"
     },
     "output_type": "display_data"
    }
   ],
   "source": [
    "print('Значение корреляции Пирсона', df['total_area'].corr(df['last_price']).round(2))\n",
    "(\n",
    "    df.query('18 < total_area < 130 and last_price < 12000')\n",
    "    .groupby('total_area').median()['last_price'].reset_index().sort_values(by='total_area')\n",
    "    .plot(\n",
    "        x='total_area', \n",
    "        y='last_price', \n",
    "        figsize=(14,5), \n",
    "        title='Зависимость стоимости квартиры от её площади')\n",
    ");"
   ]
  },
  {
   "cell_type": "markdown",
   "metadata": {},
   "source": [
    "**Вывод**   \n",
    "Значение корреляции Пирсона 0,65. Что так же подтверждается графиком. С увеличением площади квартиры её стоимсоть увеличивается."
   ]
  },
  {
   "cell_type": "markdown",
   "metadata": {},
   "source": [
    "#### Зависимость цены от числа комнат   \n",
    "Перед построением графика вспомним диапазоны нормальных значений полученные из графиков размаха:\n",
    "- `last_price` - 0 - 12 млн р. \n",
    "- `rooms` - 0 - 6 комнат   \n",
    "Используем эти диапазоны для исследования зависимости"
   ]
  },
  {
   "cell_type": "code",
   "execution_count": 46,
   "metadata": {},
   "outputs": [
    {
     "name": "stdout",
     "output_type": "stream",
     "text": [
      "Значение корреляции Пирсона 0.36\n"
     ]
    },
    {
     "data": {
      "image/png": "[encoded data removed]",
      "text/plain": [
       "<Figure size 1008x360 with 1 Axes>"
      ]
     },
     "metadata": {
      "needs_background": "light"
     },
     "output_type": "display_data"
    }
   ],
   "source": [
    "print('Значение корреляции Пирсона', df['rooms'].corr(df['last_price']).round(2))\n",
    "(\n",
    "    df.query('rooms < 6 and last_price < 12000')\n",
    "    .groupby('rooms').median()['last_price'].reset_index().sort_values(by='rooms')\n",
    "    .plot(\n",
    "        x='rooms', \n",
    "        y='last_price', \n",
    "        figsize=(14,5), \n",
    "        title='Зависимость стоимости квартиры от кол-ва комнат', \n",
    "        kind='bar')\n",
    ");"
   ]
  },
  {
   "cell_type": "markdown",
   "metadata": {},
   "source": [
    "**Вывод**   \n",
    "Значение корреляции Пирсона не значительное 0,36. По графику точно можно сказать что с увеличением кол-ва комнат стоимость квартиры растёт."
   ]
  },
  {
   "cell_type": "markdown",
   "metadata": {},
   "source": [
    "#### Зависимость цены от удалённости от центра \n",
    "Перед построением графика вспомним диапазоны нормальных значений полученные из графиков размаха:\n",
    "- `last_price` - 0 - 12 млн р.    \n",
    "Используем эти диапазоны для исследования зависимости"
   ]
  },
  {
   "cell_type": "markdown",
   "metadata": {},
   "source": [
    "Перед построением графика добавим в наш датафрейм столбец значения удалённости от центра в километрах."
   ]
  },
  {
   "cell_type": "code",
   "execution_count": 47,
   "metadata": {},
   "outputs": [],
   "source": [
    "df['city_centers_neareast_km'] = (df['city_centers_neareast'] / 1000).round().astype('int')"
   ]
  },
  {
   "cell_type": "markdown",
   "metadata": {},
   "source": [
    "Теперь построим график рссеивания цен от удалённости от центра в километрах."
   ]
  },
  {
   "cell_type": "code",
   "execution_count": 48,
   "metadata": {},
   "outputs": [
    {
     "name": "stdout",
     "output_type": "stream",
     "text": [
      "Значение корреляции Пирсона -0.27\n"
     ]
    },
    {
     "data": {
      "image/png": "[encoded data removed]",
      "text/plain": [
       "<Figure size 1008x360 with 1 Axes>"
      ]
     },
     "metadata": {
      "needs_background": "light"
     },
     "output_type": "display_data"
    }
   ],
   "source": [
    "print('Значение корреляции Пирсона', df['city_centers_neareast_km'].corr(df['last_price']).round(2))\n",
    "(\n",
    "    df.query('last_price < 12000')\n",
    "    .groupby('city_centers_neareast_km').median()['last_price'].reset_index().sort_values(by='city_centers_neareast_km')\n",
    "    .plot(\n",
    "        x='city_centers_neareast_km', \n",
    "        y='last_price', \n",
    "        figsize=(14,5), \n",
    "        title='Зависимость стоимости квартиры от удалённости от центра', \n",
    "        kind='scatter')\n",
    ");"
   ]
  },
  {
   "cell_type": "markdown",
   "metadata": {},
   "source": [
    "**Вывод**   \n",
    "Значение корреляции Пирсона не значительное -0,27. По графику можно сказать что чем дальше от центра, тем дешевле квартиры. Имеются так же некотрые выбросы в стоимости примерно в 43 и 55 км от центра, возможно это коттеджи или что-то в этом роде."
   ]
  },
  {
   "cell_type": "markdown",
   "metadata": {},
   "source": [
    "#### Зависимость цены от этажа квартиры   \n",
    "Перед построением графика вспомним диапазоны нормальных значений полученные из графиков размаха:\n",
    "- `last_price` - 0 - 12 млн р.    \n",
    "Используем эти диапазоны для исследования зависимости"
   ]
  },
  {
   "cell_type": "code",
   "execution_count": 49,
   "metadata": {},
   "outputs": [
    {
     "data": {
      "image/png": "[encoded data removed]",
      "text/plain": [
       "<Figure size 1008x360 with 1 Axes>"
      ]
     },
     "metadata": {
      "needs_background": "light"
     },
     "output_type": "display_data"
    }
   ],
   "source": [
    "(\n",
    "    df.query('last_price < 12000')\n",
    "    .groupby('floor_category').median()['last_price'].reset_index().sort_values(by='last_price')\n",
    "    .plot(\n",
    "        x='floor_category', \n",
    "        y='last_price', \n",
    "        figsize=(14,5), \n",
    "        title='Зависимость стоимости квартиры от этажа', \n",
    "        kind='bar')\n",
    ");"
   ]
  },
  {
   "cell_type": "markdown",
   "metadata": {},
   "source": [
    "**Вывод**   \n",
    "Здесь можем сказать что квартиры на первом этаже самые дешёвые, на последнем этаже чуть дороже но всё же дешевле чем на остальных."
   ]
  },
  {
   "cell_type": "markdown",
   "metadata": {},
   "source": [
    "#### Зависимость цены от даты размещения   \n",
    "Перед построением графиков вспомним диапазон нормальных значений полученные из графиков размаха:\n",
    "- `last_price` - 0 - 12 млн р.    \n",
    "Используем этот диапазон для исследования зависимости "
   ]
  },
  {
   "cell_type": "code",
   "execution_count": 50,
   "metadata": {},
   "outputs": [
    {
     "data": {
      "image/png": "[encoded data removed]",
      "text/plain": [
       "<Figure size 1008x360 with 1 Axes>"
      ]
     },
     "metadata": {
      "needs_background": "light"
     },
     "output_type": "display_data"
    },
    {
     "data": {
      "image/png": "[encoded data removed]",
      "text/plain": [
       "<Figure size 1008x360 with 1 Axes>"
      ]
     },
     "metadata": {
      "needs_background": "light"
     },
     "output_type": "display_data"
    },
    {
     "data": {
      "image/png": "[encoded data removed]",
      "text/plain": [
       "<Figure size 1008x360 with 1 Axes>"
      ]
     },
     "metadata": {
      "needs_background": "light"
     },
     "output_type": "display_data"
    }
   ],
   "source": [
    "(\n",
    "    df.query('last_price < 12000')\n",
    "    .groupby('weekday_exposition').median()['last_price'].reset_index().sort_values(by='last_price')\n",
    "    .plot(\n",
    "        x='weekday_exposition', \n",
    "        y='last_price', \n",
    "        figsize=(14,5), \n",
    "        title='Зависимость стоимости квартиры от дня размещения объявления', \n",
    "        kind='bar', ylim=(4000,4600), grid=True)\n",
    ");\n",
    "(\n",
    "    df.query('last_price < 12000')\n",
    "    .groupby('month_exposition').median()['last_price'].reset_index().sort_values(by='month_exposition')\n",
    "    .plot(\n",
    "        x='month_exposition', \n",
    "        y='last_price', \n",
    "        figsize=(14,5), \n",
    "        title='Зависимость стоимости квартиры от месяца размещения объявления', \n",
    "        kind='bar', ylim=(4000,4600), grid=True)\n",
    ");\n",
    "(\n",
    "    df.query('last_price < 12000')\n",
    "    .groupby('year_exposition').median()['last_price'].reset_index().sort_values(by='year_exposition')\n",
    "    .plot(\n",
    "        x='year_exposition', \n",
    "        y='last_price', \n",
    "        figsize=(14,5), \n",
    "        title='Зависимость стоимости квартиры от года размещения объявления', \n",
    "        kind='bar', ylim=(4000, 6000), grid=True)\n",
    ");"
   ]
  },
  {
   "cell_type": "markdown",
   "metadata": {},
   "source": [
    "**Вывод**   \n",
    "- Зависимость цены от ***дня недели*** не ярко выражена. Можно лишь сказать что стоимость квартир выложенных в будние дни чуть выше, чем в выходные. Возможно это связано с тем что в будние дни объявления добавляются в основном риелторами, котрые ориентируются в ценах несколько лучше и имеют в этом финансовый интерес.   \n",
    "- Зависимость цены от ***месяца*** подачи объявления имеется. Здесь мы скорее всего видим сезонность. К лету стоимость квартир несколько ниже, так как ниже и спрос. В середине лета спрос начинает восстанавливаться и стоимость квартир повышается. В начале года квартиры имеют меньшую стоимость по сравнению с концом года.   \n",
    "- Зависимость цены от ***года*** подачи объявления так же имеется. Здесь мы наблюдаем спад стоимости недвижимости в 2016-2017 годах. В 2018-2019 стоимость вновь начала подниматься. Это могло быть связано с разными факторами в экономике и спросом на вторичную недвижимость."
   ]
  },
  {
   "cell_type": "markdown",
   "metadata": {},
   "source": [
    "### Срез по 10 населённым пунктам с наибольшим числом объявлений. \n",
    "Посчитаем среднюю цену квадратного метра в этих населённых пунктах. Выделим населённые пункты с самой высокой и низкой стоимостью жилья.   \n",
    "Посмотрим какие населённые пункты, которые входят в топ 10 по кол-ву объявлений."
   ]
  },
  {
   "cell_type": "code",
   "execution_count": 51,
   "metadata": {},
   "outputs": [
    {
     "data": {
      "text/plain": [
       "Санкт-Петербург      15747\n",
       "посёлок Мурино         522\n",
       "посёлок Шушары         440\n",
       "Всеволожск             398\n",
       "Пушкин                 369\n",
       "Колпино                338\n",
       "посёлок Парголово      327\n",
       "Гатчина                307\n",
       "деревня Кудрово        299\n",
       "Выборг                 237\n",
       "Name: locality_name, dtype: int64"
      ]
     },
     "execution_count": 51,
     "metadata": {},
     "output_type": "execute_result"
    }
   ],
   "source": [
    "df['locality_name'].value_counts().head(10)"
   ]
  },
  {
   "cell_type": "markdown",
   "metadata": {},
   "source": [
    "Создадим сводную таблицу по этим 10 населённым пунктам."
   ]
  },
  {
   "cell_type": "code",
   "execution_count": 52,
   "metadata": {},
   "outputs": [
    {
     "data": {
      "text/html": [
       "<div>\n",
       "<style scoped>\n",
       "    .dataframe tbody tr th:only-of-type {\n",
       "        vertical-align: middle;\n",
       "    }\n",
       "\n",
       "    .dataframe tbody tr th {\n",
       "        vertical-align: top;\n",
       "    }\n",
       "\n",
       "    .dataframe thead th {\n",
       "        text-align: right;\n",
       "    }\n",
       "</style>\n",
       "<table border=\"1\" class=\"dataframe\">\n",
       "  <thead>\n",
       "    <tr style=\"text-align: right;\">\n",
       "      <th></th>\n",
       "      <th>last_price</th>\n",
       "      <th>price_per_square</th>\n",
       "    </tr>\n",
       "    <tr>\n",
       "      <th>locality_name</th>\n",
       "      <th></th>\n",
       "      <th></th>\n",
       "    </tr>\n",
       "  </thead>\n",
       "  <tbody>\n",
       "    <tr>\n",
       "      <th>Выборг</th>\n",
       "      <td>2897</td>\n",
       "      <td>58.1580</td>\n",
       "    </tr>\n",
       "    <tr>\n",
       "      <th>Гатчина</th>\n",
       "      <td>3100</td>\n",
       "      <td>67.7960</td>\n",
       "    </tr>\n",
       "    <tr>\n",
       "      <th>посёлок Мурино</th>\n",
       "      <td>3400</td>\n",
       "      <td>85.8900</td>\n",
       "    </tr>\n",
       "    <tr>\n",
       "      <th>Всеволожск</th>\n",
       "      <td>3450</td>\n",
       "      <td>65.7890</td>\n",
       "    </tr>\n",
       "    <tr>\n",
       "      <th>Колпино</th>\n",
       "      <td>3600</td>\n",
       "      <td>74.7235</td>\n",
       "    </tr>\n",
       "    <tr>\n",
       "      <th>деревня Кудрово</th>\n",
       "      <td>3790</td>\n",
       "      <td>91.8600</td>\n",
       "    </tr>\n",
       "    <tr>\n",
       "      <th>посёлок Шушары</th>\n",
       "      <td>3950</td>\n",
       "      <td>76.8760</td>\n",
       "    </tr>\n",
       "    <tr>\n",
       "      <th>посёлок Парголово</th>\n",
       "      <td>4100</td>\n",
       "      <td>91.6420</td>\n",
       "    </tr>\n",
       "    <tr>\n",
       "      <th>Пушкин</th>\n",
       "      <td>5180</td>\n",
       "      <td>100.0000</td>\n",
       "    </tr>\n",
       "    <tr>\n",
       "      <th>Санкт-Петербург</th>\n",
       "      <td>5500</td>\n",
       "      <td>104.7610</td>\n",
       "    </tr>\n",
       "  </tbody>\n",
       "</table>\n",
       "</div>"
      ],
      "text/plain": [
       "                   last_price  price_per_square\n",
       "locality_name                                  \n",
       "Выборг                   2897           58.1580\n",
       "Гатчина                  3100           67.7960\n",
       "посёлок Мурино           3400           85.8900\n",
       "Всеволожск               3450           65.7890\n",
       "Колпино                  3600           74.7235\n",
       "деревня Кудрово          3790           91.8600\n",
       "посёлок Шушары           3950           76.8760\n",
       "посёлок Парголово        4100           91.6420\n",
       "Пушкин                   5180          100.0000\n",
       "Санкт-Петербург          5500          104.7610"
      ]
     },
     "execution_count": 52,
     "metadata": {},
     "output_type": "execute_result"
    }
   ],
   "source": [
    "top10 = df['locality_name'].value_counts().head(10).index.tolist()\n",
    "(\n",
    "    df.query('locality_name in @top10')\n",
    "    .pivot_table(\n",
    "        index='locality_name', \n",
    "        values=['price_per_square', 'last_price'], \n",
    "        aggfunc='median')\n",
    "    .sort_values(by='last_price')\n",
    ")"
   ]
  },
  {
   "cell_type": "markdown",
   "metadata": {},
   "source": [
    "**Вывод**   \n",
    "Самые дорогие квартиры расположены в Санкт-Петербурге и Пушкине, самые дешёвые в Выборге и Гатчине. Медианная цена за квадратный метр имеет несколько другие значения, но лидеры остаются прежними."
   ]
  },
  {
   "cell_type": "markdown",
   "metadata": {},
   "source": [
    "### Выделение квартир в Санкт-Петербурге   \n",
    "Здесь мы выясним, какая область входит в центр. Посчитаем среднюю цену для каждого километра. Построим график: как цена зависит от удалённости от центра. Определим границу, где график сильно меняется, — это и будет центральная зона.   \n",
    "Для начала построим график для всех цен в выборке для города Санкт-Петербург"
   ]
  },
  {
   "cell_type": "code",
   "execution_count": 53,
   "metadata": {},
   "outputs": [
    {
     "data": {
      "text/html": [
       "<div>\n",
       "<style scoped>\n",
       "    .dataframe tbody tr th:only-of-type {\n",
       "        vertical-align: middle;\n",
       "    }\n",
       "\n",
       "    .dataframe tbody tr th {\n",
       "        vertical-align: top;\n",
       "    }\n",
       "\n",
       "    .dataframe thead th {\n",
       "        text-align: right;\n",
       "    }\n",
       "</style>\n",
       "<table border=\"1\" class=\"dataframe\">\n",
       "  <thead>\n",
       "    <tr style=\"text-align: right;\">\n",
       "      <th></th>\n",
       "      <th>city_centers_neareast_km</th>\n",
       "      <th>last_price</th>\n",
       "    </tr>\n",
       "  </thead>\n",
       "  <tbody>\n",
       "    <tr>\n",
       "      <th>0</th>\n",
       "      <td>0</td>\n",
       "      <td>17900.0</td>\n",
       "    </tr>\n",
       "    <tr>\n",
       "      <th>1</th>\n",
       "      <td>1</td>\n",
       "      <td>11490.0</td>\n",
       "    </tr>\n",
       "    <tr>\n",
       "      <th>2</th>\n",
       "      <td>2</td>\n",
       "      <td>10000.0</td>\n",
       "    </tr>\n",
       "    <tr>\n",
       "      <th>3</th>\n",
       "      <td>3</td>\n",
       "      <td>8409.0</td>\n",
       "    </tr>\n",
       "    <tr>\n",
       "      <th>4</th>\n",
       "      <td>4</td>\n",
       "      <td>9200.0</td>\n",
       "    </tr>\n",
       "    <tr>\n",
       "      <th>5</th>\n",
       "      <td>5</td>\n",
       "      <td>9490.0</td>\n",
       "    </tr>\n",
       "    <tr>\n",
       "      <th>6</th>\n",
       "      <td>6</td>\n",
       "      <td>8900.0</td>\n",
       "    </tr>\n",
       "    <tr>\n",
       "      <th>7</th>\n",
       "      <td>7</td>\n",
       "      <td>7800.0</td>\n",
       "    </tr>\n",
       "    <tr>\n",
       "      <th>8</th>\n",
       "      <td>8</td>\n",
       "      <td>7440.0</td>\n",
       "    </tr>\n",
       "    <tr>\n",
       "      <th>9</th>\n",
       "      <td>9</td>\n",
       "      <td>5300.0</td>\n",
       "    </tr>\n",
       "    <tr>\n",
       "      <th>10</th>\n",
       "      <td>10</td>\n",
       "      <td>5000.0</td>\n",
       "    </tr>\n",
       "    <tr>\n",
       "      <th>11</th>\n",
       "      <td>11</td>\n",
       "      <td>5095.0</td>\n",
       "    </tr>\n",
       "    <tr>\n",
       "      <th>12</th>\n",
       "      <td>12</td>\n",
       "      <td>5000.0</td>\n",
       "    </tr>\n",
       "    <tr>\n",
       "      <th>13</th>\n",
       "      <td>13</td>\n",
       "      <td>5200.0</td>\n",
       "    </tr>\n",
       "    <tr>\n",
       "      <th>14</th>\n",
       "      <td>14</td>\n",
       "      <td>4870.0</td>\n",
       "    </tr>\n",
       "    <tr>\n",
       "      <th>15</th>\n",
       "      <td>15</td>\n",
       "      <td>4900.0</td>\n",
       "    </tr>\n",
       "    <tr>\n",
       "      <th>16</th>\n",
       "      <td>16</td>\n",
       "      <td>4750.0</td>\n",
       "    </tr>\n",
       "    <tr>\n",
       "      <th>17</th>\n",
       "      <td>17</td>\n",
       "      <td>4580.0</td>\n",
       "    </tr>\n",
       "    <tr>\n",
       "      <th>18</th>\n",
       "      <td>18</td>\n",
       "      <td>4300.0</td>\n",
       "    </tr>\n",
       "    <tr>\n",
       "      <th>19</th>\n",
       "      <td>19</td>\n",
       "      <td>4500.0</td>\n",
       "    </tr>\n",
       "    <tr>\n",
       "      <th>20</th>\n",
       "      <td>20</td>\n",
       "      <td>5550.0</td>\n",
       "    </tr>\n",
       "    <tr>\n",
       "      <th>21</th>\n",
       "      <td>21</td>\n",
       "      <td>5289.0</td>\n",
       "    </tr>\n",
       "    <tr>\n",
       "      <th>22</th>\n",
       "      <td>22</td>\n",
       "      <td>4925.0</td>\n",
       "    </tr>\n",
       "    <tr>\n",
       "      <th>23</th>\n",
       "      <td>23</td>\n",
       "      <td>4500.0</td>\n",
       "    </tr>\n",
       "    <tr>\n",
       "      <th>24</th>\n",
       "      <td>24</td>\n",
       "      <td>3480.0</td>\n",
       "    </tr>\n",
       "    <tr>\n",
       "      <th>25</th>\n",
       "      <td>25</td>\n",
       "      <td>3794.5</td>\n",
       "    </tr>\n",
       "    <tr>\n",
       "      <th>26</th>\n",
       "      <td>26</td>\n",
       "      <td>3320.0</td>\n",
       "    </tr>\n",
       "    <tr>\n",
       "      <th>27</th>\n",
       "      <td>27</td>\n",
       "      <td>8300.0</td>\n",
       "    </tr>\n",
       "    <tr>\n",
       "      <th>28</th>\n",
       "      <td>28</td>\n",
       "      <td>4990.0</td>\n",
       "    </tr>\n",
       "    <tr>\n",
       "      <th>29</th>\n",
       "      <td>29</td>\n",
       "      <td>4535.0</td>\n",
       "    </tr>\n",
       "  </tbody>\n",
       "</table>\n",
       "</div>"
      ],
      "text/plain": [
       "    city_centers_neareast_km  last_price\n",
       "0                          0     17900.0\n",
       "1                          1     11490.0\n",
       "2                          2     10000.0\n",
       "3                          3      8409.0\n",
       "4                          4      9200.0\n",
       "5                          5      9490.0\n",
       "6                          6      8900.0\n",
       "7                          7      7800.0\n",
       "8                          8      7440.0\n",
       "9                          9      5300.0\n",
       "10                        10      5000.0\n",
       "11                        11      5095.0\n",
       "12                        12      5000.0\n",
       "13                        13      5200.0\n",
       "14                        14      4870.0\n",
       "15                        15      4900.0\n",
       "16                        16      4750.0\n",
       "17                        17      4580.0\n",
       "18                        18      4300.0\n",
       "19                        19      4500.0\n",
       "20                        20      5550.0\n",
       "21                        21      5289.0\n",
       "22                        22      4925.0\n",
       "23                        23      4500.0\n",
       "24                        24      3480.0\n",
       "25                        25      3794.5\n",
       "26                        26      3320.0\n",
       "27                        27      8300.0\n",
       "28                        28      4990.0\n",
       "29                        29      4535.0"
      ]
     },
     "metadata": {},
     "output_type": "display_data"
    },
    {
     "data": {
      "image/png": "[encoded data removed]",
      "text/plain": [
       "<Figure size 1008x360 with 1 Axes>"
      ]
     },
     "metadata": {
      "needs_background": "light"
     },
     "output_type": "display_data"
    }
   ],
   "source": [
    "display(df.query('locality_name == \"Санкт-Петербург\"')\n",
    "        .groupby('city_centers_neareast_km').median()['last_price'].reset_index())\n",
    "(\n",
    "    df.query('locality_name == \"Санкт-Петербург\"')\n",
    "    .groupby('city_centers_neareast_km').median()['last_price'].reset_index()\n",
    "    .sort_values(by='city_centers_neareast_km')\n",
    "    .plot(\n",
    "        x='city_centers_neareast_km', \n",
    "        y='last_price', \n",
    "        figsize=(14,5), \n",
    "        title='Зависимость стоимости квартиры от удалённости от центра', \n",
    "        kind='bar', \n",
    "        grid=True)\n",
    ");"
   ]
  },
  {
   "cell_type": "markdown",
   "metadata": {},
   "source": [
    "**Вывод**   \n",
    "Самые дорогие квартиры расположеные в центре Санкт-Петербурга находятся в радиусе 8 км. На графике виден отчётливый перепад для 8 км от центра в ~2 млн.р."
   ]
  },
  {
   "cell_type": "markdown",
   "metadata": {},
   "source": [
    "### Исследование сегмента квартир в центре Санкт-Петербурга\n",
    "Изучим следующие параметры: площадь, цена, число комнат, высота потолков.   \n",
    "Также выделим факторы, которые влияют на стоимость квартиры в центре Санкт-Петербурга: число комнат, этаж, удалённость от центра, дата размещения объявления.   \n",
    "Для начала сделаем срез наших данных по квартирам в центре города Санкт-Петербурга"
   ]
  },
  {
   "cell_type": "code",
   "execution_count": 54,
   "metadata": {},
   "outputs": [],
   "source": [
    "spb_center = df.query('locality_name == \"Санкт-Петербург\" and city_centers_neareast_km <= 8')"
   ]
  },
  {
   "cell_type": "markdown",
   "metadata": {},
   "source": [
    "#### Площадь, цена, число комнат и высота потолков в центре Санкт-Петербурга   \n",
    "Вызовем метод `describe()` и построим диаграммы размаха для этих параметров."
   ]
  },
  {
   "cell_type": "code",
   "execution_count": 55,
   "metadata": {},
   "outputs": [
    {
     "data": {
      "text/html": [
       "<div>\n",
       "<style scoped>\n",
       "    .dataframe tbody tr th:only-of-type {\n",
       "        vertical-align: middle;\n",
       "    }\n",
       "\n",
       "    .dataframe tbody tr th {\n",
       "        vertical-align: top;\n",
       "    }\n",
       "\n",
       "    .dataframe thead th {\n",
       "        text-align: right;\n",
       "    }\n",
       "</style>\n",
       "<table border=\"1\" class=\"dataframe\">\n",
       "  <thead>\n",
       "    <tr style=\"text-align: right;\">\n",
       "      <th></th>\n",
       "      <th>total_area</th>\n",
       "      <th>last_price</th>\n",
       "      <th>rooms</th>\n",
       "      <th>ceiling_height</th>\n",
       "    </tr>\n",
       "  </thead>\n",
       "  <tbody>\n",
       "    <tr>\n",
       "      <th>count</th>\n",
       "      <td>4140.000000</td>\n",
       "      <td>4140.000000</td>\n",
       "      <td>4140.000000</td>\n",
       "      <td>4133.000000</td>\n",
       "    </tr>\n",
       "    <tr>\n",
       "      <th>mean</th>\n",
       "      <td>90.282126</td>\n",
       "      <td>14157.877536</td>\n",
       "      <td>2.757971</td>\n",
       "      <td>3.043247</td>\n",
       "    </tr>\n",
       "    <tr>\n",
       "      <th>std</th>\n",
       "      <td>58.791793</td>\n",
       "      <td>23534.202297</td>\n",
       "      <td>1.424214</td>\n",
       "      <td>1.764267</td>\n",
       "    </tr>\n",
       "    <tr>\n",
       "      <th>min</th>\n",
       "      <td>12.000000</td>\n",
       "      <td>1600.000000</td>\n",
       "      <td>0.000000</td>\n",
       "      <td>2.000000</td>\n",
       "    </tr>\n",
       "    <tr>\n",
       "      <th>25%</th>\n",
       "      <td>55.000000</td>\n",
       "      <td>6450.000000</td>\n",
       "      <td>2.000000</td>\n",
       "      <td>2.700000</td>\n",
       "    </tr>\n",
       "    <tr>\n",
       "      <th>50%</th>\n",
       "      <td>76.000000</td>\n",
       "      <td>8950.000000</td>\n",
       "      <td>3.000000</td>\n",
       "      <td>3.000000</td>\n",
       "    </tr>\n",
       "    <tr>\n",
       "      <th>75%</th>\n",
       "      <td>107.000000</td>\n",
       "      <td>13900.000000</td>\n",
       "      <td>3.000000</td>\n",
       "      <td>3.200000</td>\n",
       "    </tr>\n",
       "    <tr>\n",
       "      <th>max</th>\n",
       "      <td>900.000000</td>\n",
       "      <td>763000.000000</td>\n",
       "      <td>19.000000</td>\n",
       "      <td>100.000000</td>\n",
       "    </tr>\n",
       "  </tbody>\n",
       "</table>\n",
       "</div>"
      ],
      "text/plain": [
       "        total_area     last_price        rooms  ceiling_height\n",
       "count  4140.000000    4140.000000  4140.000000     4133.000000\n",
       "mean     90.282126   14157.877536     2.757971        3.043247\n",
       "std      58.791793   23534.202297     1.424214        1.764267\n",
       "min      12.000000    1600.000000     0.000000        2.000000\n",
       "25%      55.000000    6450.000000     2.000000        2.700000\n",
       "50%      76.000000    8950.000000     3.000000        3.000000\n",
       "75%     107.000000   13900.000000     3.000000        3.200000\n",
       "max     900.000000  763000.000000    19.000000      100.000000"
      ]
     },
     "metadata": {},
     "output_type": "display_data"
    },
    {
     "data": {
      "image/png": "[encoded data removed]",
      "text/plain": [
       "<Figure size 432x288 with 1 Axes>"
      ]
     },
     "metadata": {
      "needs_background": "light"
     },
     "output_type": "display_data"
    },
    {
     "data": {
      "image/png": "[encoded data removed]",
      "text/plain": [
       "<Figure size 432x288 with 1 Axes>"
      ]
     },
     "metadata": {
      "needs_background": "light"
     },
     "output_type": "display_data"
    },
    {
     "data": {
      "image/png": "[encoded data removed]",
      "text/plain": [
       "<Figure size 432x288 with 1 Axes>"
      ]
     },
     "metadata": {
      "needs_background": "light"
     },
     "output_type": "display_data"
    },
    {
     "data": {
      "image/png": "[encoded data removed]",
      "text/plain": [
       "<Figure size 432x288 with 1 Axes>"
      ]
     },
     "metadata": {
      "needs_background": "light"
     },
     "output_type": "display_data"
    }
   ],
   "source": [
    "display(spb_center[['total_area', 'last_price', 'rooms', 'ceiling_height']].describe())\n",
    "column_list = ['total_area', 'last_price', 'rooms', 'ceiling_height']\n",
    "ylims = [300, 30000, 10, 5]\n",
    "\n",
    "for i in range(len(ylims)):\n",
    "    spb_center.boxplot(column_list[i], fontsize=14)\n",
    "    plt.ylim(0, ylims[i])\n",
    "    plt.show()"
   ]
  },
  {
   "cell_type": "markdown",
   "metadata": {},
   "source": [
    "Здесь мы можем определить примерные границы нормальных значений и посмотреть как они отличались для квартир из всей выборки:   \n",
    "- `total_area` - Для Санкт-Петербурга: 18 - 180 м², для всей выборки: 18 - 130 м²;\n",
    "- `last_price` - Для Санкт-Петербурга: 2,5 - 25 млн.р., для всей выборки: 0 - 12 млн р.;\n",
    "- `rooms` - Для Санкт-Петербурга: 1 - 4 комнат, для всей выборки: 0 - 6 комнат;\n",
    "- `ceiling_height` -  Для Санкт-Петербурга: 2,4 - 4 м, для всей выборки: 2,3 - 3,3 м. \n",
    "\n",
    "Построим гистограммы по этим столбцам"
   ]
  },
  {
   "cell_type": "code",
   "execution_count": 56,
   "metadata": {},
   "outputs": [
    {
     "data": {
      "image/png": "[encoded data removed]",
      "text/plain": [
       "<Figure size 1008x360 with 1 Axes>"
      ]
     },
     "metadata": {
      "needs_background": "light"
     },
     "output_type": "display_data"
    },
    {
     "data": {
      "image/png": "[encoded data removed]",
      "text/plain": [
       "<Figure size 1008x360 with 1 Axes>"
      ]
     },
     "metadata": {
      "needs_background": "light"
     },
     "output_type": "display_data"
    },
    {
     "data": {
      "image/png": "[encoded data removed]",
      "text/plain": [
       "<Figure size 1008x360 with 1 Axes>"
      ]
     },
     "metadata": {
      "needs_background": "light"
     },
     "output_type": "display_data"
    },
    {
     "data": {
      "image/png": "[encoded data removed]",
      "text/plain": [
       "<Figure size 1008x360 with 1 Axes>"
      ]
     },
     "metadata": {
      "needs_background": "light"
     },
     "output_type": "display_data"
    }
   ],
   "source": [
    "spb_center.plot(y = 'total_area', kind = 'hist', bins = 50, grid=True, figsize = (14,5), range=(18,180), title='Гистограмма распределения значений площади');\n",
    "spb_center.plot(y = 'last_price', kind = 'hist', bins = 30, grid=True, figsize = (14,5), range=(2500,25000), title='Гистограмма распределения значений цены');\n",
    "spb_center.plot(y = 'rooms', kind = 'hist', bins = 7, grid=True, figsize = (14,5), range=(1,7), title='Гистограмма распределения значений кол-ва комнат');\n",
    "spb_center.plot(y = 'ceiling_height', kind = 'hist', bins = 10, grid=True, figsize = (14,5), range=(2.4, 3.9), title='Гистограмма распределения значений высоты потолков');"
   ]
  },
  {
   "cell_type": "markdown",
   "metadata": {},
   "source": [
    "**Вывод**   \n",
    "1. **Гистограмма распределения значений площади** - Основная доля квартир имеет метраж от 40 до 100 м², пик приходится на 70 м². Квартиры в центре Санкт-Петербурга явно больше по площади чем в целом по области.\n",
    "2. **Гистограмма распределения значений цены** - Цены варьируются в пределах от 2.5 до 25 млн.р. Чаще всего квартиры имеют стоимость от 5 до 9 млн.р. Квартиры в центре Санкт-Петербурга дороже чем в среднем по области.   \n",
    "3. **Гистограмма распределения значений кол-ва комнат** - Чаще всего встречаются 2-х и 3-х комнатные квартиры, по области чаще встречались 1 и 2-х комнатные квартиры.   \n",
    "4. **Гистограмма распределения значений высоты потолков** - Чаще всего встречаются квартиры с потолками от 2,8 до 3,4 м, по области чаще встречались потолки 2,5 до 3,2 м."
   ]
  },
  {
   "cell_type": "markdown",
   "metadata": {},
   "source": [
    "#### Факторы влияющие на стоимость квартиры   \n",
    "Изучим, зависит ли цена от площади, числа комнат, удалённости от центра. Изучим зависимость цены от того, на каком этаже расположена квартира: первом, последнем или другом. Также изучим зависимость от даты размещения: дня недели, месяца и года."
   ]
  },
  {
   "cell_type": "markdown",
   "metadata": {},
   "source": [
    "##### Зависимость цены от площади   \n",
    "Перед построением графика вспомним диапазоны нормальных значений полученные из графиков размаха:\n",
    "- `total_area` - 18 - 130 м²\n",
    "- `last_price` - 2,5 - 25 млн р.   \n",
    "Используем эти диапазоны для исследования зависимости"
   ]
  },
  {
   "cell_type": "code",
   "execution_count": 57,
   "metadata": {
    "scrolled": false
   },
   "outputs": [
    {
     "name": "stdout",
     "output_type": "stream",
     "text": [
      "Значение корреляции Пирсона 0.65\n"
     ]
    },
    {
     "data": {
      "image/png": "[encoded data removed]",
      "text/plain": [
       "<Figure size 1008x360 with 1 Axes>"
      ]
     },
     "metadata": {
      "needs_background": "light"
     },
     "output_type": "display_data"
    }
   ],
   "source": [
    "print('Значение корреляции Пирсона', df['total_area'].corr(df['last_price']).round(2))\n",
    "(\n",
    "    spb_center.query('18 < total_area < 180 and last_price < 25000')\n",
    "    .groupby('total_area').median()['last_price'].reset_index().sort_values(by='total_area')\n",
    "    .plot(\n",
    "        x='total_area', \n",
    "        y='last_price', \n",
    "        figsize=(14,5), \n",
    "        title='Зависимость стоимости квартиры от её площади')\n",
    ");"
   ]
  },
  {
   "cell_type": "markdown",
   "metadata": {},
   "source": [
    "**Вывод**   \n",
    "Всё так же как и для всей выборки. Значение корреляции Пирсона 0,65. Что так же подтверждается графиком. С увеличением площади квартиры её стоимсоть увеличивается."
   ]
  },
  {
   "cell_type": "markdown",
   "metadata": {},
   "source": [
    "##### Зависимость цены от числа комнат   \n",
    "Перед построением графика вспомним диапазоны нормальных значений полученные из графиков размаха:\n",
    "- `last_price` - 2.5 - 25 млн р. \n",
    "- `rooms` - 1 - 4 комнат   \n",
    "Используем эти диапазоны для исследования зависимости"
   ]
  },
  {
   "cell_type": "code",
   "execution_count": 58,
   "metadata": {},
   "outputs": [
    {
     "name": "stdout",
     "output_type": "stream",
     "text": [
      "Значение корреляции Пирсона 0.36\n"
     ]
    },
    {
     "data": {
      "image/png": "[encoded data removed]",
      "text/plain": [
       "<Figure size 1008x360 with 1 Axes>"
      ]
     },
     "metadata": {
      "needs_background": "light"
     },
     "output_type": "display_data"
    }
   ],
   "source": [
    "print('Значение корреляции Пирсона', df['rooms'].corr(df['last_price']).round(2))\n",
    "(\n",
    "    spb_center.query('rooms < 6 and last_price < 25000')\n",
    "    .groupby('rooms').median()['last_price'].reset_index().sort_values(by='rooms')\n",
    "    .plot(\n",
    "        x='rooms', \n",
    "        y='last_price', \n",
    "        figsize=(14,5), \n",
    "        title='Зависимость стоимости квартиры от кол-ва комнат', \n",
    "        kind='bar')\n",
    ");"
   ]
  },
  {
   "cell_type": "markdown",
   "metadata": {},
   "source": [
    "**Вывод**   \n",
    "Всё так же как и для всей выборки. Значение корреляции Пирсона не значительное 0,36. По графику точно можно сказать что с увеличением кол-ва комнат стоимость квартиры растёт."
   ]
  },
  {
   "cell_type": "markdown",
   "metadata": {},
   "source": [
    "##### Зависимость цены от удалённости от центра \n",
    "Перед построением графика вспомним диапазоны нормальных значений полученные из графиков размаха:\n",
    "- `last_price` - 2.5 - 25 млн р.    \n",
    "Используем эти диапазоны для исследования зависимости"
   ]
  },
  {
   "cell_type": "code",
   "execution_count": 59,
   "metadata": {},
   "outputs": [
    {
     "name": "stdout",
     "output_type": "stream",
     "text": [
      "Значение корреляции Пирсона -0.27\n"
     ]
    },
    {
     "data": {
      "image/png": "[encoded data removed]",
      "text/plain": [
       "<Figure size 1008x360 with 1 Axes>"
      ]
     },
     "metadata": {
      "needs_background": "light"
     },
     "output_type": "display_data"
    }
   ],
   "source": [
    "print('Значение корреляции Пирсона', df['city_centers_neareast_km'].corr(df['last_price']).round(2))\n",
    "(\n",
    "    spb_center.query('last_price < 25000')\n",
    "    .groupby('city_centers_neareast_km').median()['last_price'].reset_index().sort_values(by='city_centers_neareast_km')\n",
    "    .plot(\n",
    "        x='city_centers_neareast_km', \n",
    "        y='last_price', \n",
    "        figsize=(14,5), \n",
    "        title='Зависимость стоимости квартиры от удалённости от центра')\n",
    ");"
   ]
  },
  {
   "cell_type": "markdown",
   "metadata": {},
   "source": [
    "**Вывод**   \n",
    "Всё так же как и для всей выборки. Значение корреляции Пирсона не значительное -0,27. По графику можно сказать что чем дальше от центра, тем дешевле квартиры."
   ]
  },
  {
   "cell_type": "markdown",
   "metadata": {},
   "source": [
    "##### Зависимость цены от этажа квартиры   \n",
    "Перед построением графика вспомним диапазоны нормальных значений полученные из графиков размаха:\n",
    "- `last_price` - 2.5 - 25 млн р.    \n",
    "Используем эти диапазоны для исследования зависимости"
   ]
  },
  {
   "cell_type": "code",
   "execution_count": 60,
   "metadata": {},
   "outputs": [
    {
     "data": {
      "image/png": "[encoded data removed]",
      "text/plain": [
       "<Figure size 1008x360 with 1 Axes>"
      ]
     },
     "metadata": {
      "needs_background": "light"
     },
     "output_type": "display_data"
    }
   ],
   "source": [
    "(\n",
    "    spb_center.query('last_price < 25000')\n",
    "    .groupby('floor_category').median()['last_price'].reset_index().sort_values(by='last_price')\n",
    "    .plot(\n",
    "        x='floor_category', \n",
    "        y='last_price', \n",
    "        figsize=(14,5), \n",
    "        title='Зависимость стоимости квартиры от этажа', \n",
    "        kind='bar',\n",
    "        grid=True)\n",
    ");"
   ]
  },
  {
   "cell_type": "markdown",
   "metadata": {},
   "source": [
    "**Вывод**   \n",
    "Здесь мы видим некотрое различие. Квартиры на первом этаже всё так же дешевле, но разница между квартирами на последнем и других этажах минимальна. Вполне возможно что здесь включены модные лофты Санкт-Петербурга."
   ]
  },
  {
   "cell_type": "markdown",
   "metadata": {},
   "source": [
    "##### Зависимость цены от даты размещения   \n",
    "Перед построением графиков вспомним диапазон нормальных значений полученные из графиков размаха:\n",
    "- `last_price` - 2,5 - 25 млн р.    \n",
    "Используем этот диапазон для исследования зависимости "
   ]
  },
  {
   "cell_type": "code",
   "execution_count": 61,
   "metadata": {},
   "outputs": [
    {
     "data": {
      "image/png": "[encoded data removed]",
      "text/plain": [
       "<Figure size 1008x360 with 1 Axes>"
      ]
     },
     "metadata": {
      "needs_background": "light"
     },
     "output_type": "display_data"
    },
    {
     "data": {
      "image/png": "[encoded data removed]",
      "text/plain": [
       "<Figure size 1008x360 with 1 Axes>"
      ]
     },
     "metadata": {
      "needs_background": "light"
     },
     "output_type": "display_data"
    },
    {
     "data": {
      "image/png": "[encoded data removed]",
      "text/plain": [
       "<Figure size 1008x360 with 1 Axes>"
      ]
     },
     "metadata": {
      "needs_background": "light"
     },
     "output_type": "display_data"
    }
   ],
   "source": [
    "(\n",
    "    spb_center.query('last_price < 25000')\n",
    "    .groupby('weekday_exposition').median()['last_price'].reset_index().sort_values(by='last_price')\n",
    "    .plot(\n",
    "        x='weekday_exposition', \n",
    "        y='last_price', \n",
    "        figsize=(14,5), \n",
    "        title='Зависимость стоимости квартиры от дня размещения объявления', \n",
    "        kind='bar', ylim=(5000, 10000), grid=True)\n",
    ");\n",
    "(\n",
    "    spb_center.query('last_price < 25000')\n",
    "    .groupby('month_exposition').median()['last_price'].reset_index().sort_values(by='month_exposition')\n",
    "    .plot(\n",
    "        x='month_exposition', \n",
    "        y='last_price', \n",
    "        figsize=(14,5), \n",
    "        title='Зависимость стоимости квартиры от месяца размещения объявления', \n",
    "        kind='bar', ylim=(5000, 10000), grid=True)\n",
    ");\n",
    "(\n",
    "    spb_center.query('last_price < 25000')\n",
    "    .groupby('year_exposition').median()['last_price'].reset_index().sort_values(by='year_exposition')\n",
    "    .plot(\n",
    "        x='year_exposition', \n",
    "        y='last_price', \n",
    "        figsize=(14,5), \n",
    "        title='Зависимость стоимости квартиры от года размещения объявления', \n",
    "        kind='bar', ylim=(5000, 15000), grid=True)\n",
    ");"
   ]
  },
  {
   "cell_type": "markdown",
   "metadata": {},
   "source": [
    "**Вывод**   \n",
    "- Зависимость цены от ***дня недели*** имеет некоторое отличие. В воскресенье стоимость самая высокая, но в субботу всё так же самая низкая.   \n",
    "- Зависимость цены от ***месяца*** здесь мы уже не видим такой же сезонности и стоимость квартир в начале года больше чем с концом года, противоположенно тому, что мы наблюдали для всей выборки.  \n",
    "- Зависимость цены от ***года*** Здесь мы так же наблюдаем спад стоимости недвижимости, но уже 2017-2018 годах. В 2019 стоимость вновь начала подниматься. Так же мы видим возможный резкий спад после 2014 года, но утверждать пока не будем. Посмотрим что входило в этот 2014 год. "
   ]
  },
  {
   "cell_type": "markdown",
   "metadata": {},
   "source": [
    "Для начала просто изучим что нам даст метод `.describe()`"
   ]
  },
  {
   "cell_type": "code",
   "execution_count": 62,
   "metadata": {},
   "outputs": [
    {
     "data": {
      "text/html": [
       "<div>\n",
       "<style scoped>\n",
       "    .dataframe tbody tr th:only-of-type {\n",
       "        vertical-align: middle;\n",
       "    }\n",
       "\n",
       "    .dataframe tbody tr th {\n",
       "        vertical-align: top;\n",
       "    }\n",
       "\n",
       "    .dataframe thead th {\n",
       "        text-align: right;\n",
       "    }\n",
       "</style>\n",
       "<table border=\"1\" class=\"dataframe\">\n",
       "  <thead>\n",
       "    <tr style=\"text-align: right;\">\n",
       "      <th></th>\n",
       "      <th>last_price</th>\n",
       "      <th>city_centers_neareast_km</th>\n",
       "    </tr>\n",
       "  </thead>\n",
       "  <tbody>\n",
       "    <tr>\n",
       "      <th>count</th>\n",
       "      <td>34.000000</td>\n",
       "      <td>34.000000</td>\n",
       "    </tr>\n",
       "    <tr>\n",
       "      <th>mean</th>\n",
       "      <td>23163.588235</td>\n",
       "      <td>5.029412</td>\n",
       "    </tr>\n",
       "    <tr>\n",
       "      <th>std</th>\n",
       "      <td>19104.927741</td>\n",
       "      <td>2.138894</td>\n",
       "    </tr>\n",
       "    <tr>\n",
       "      <th>min</th>\n",
       "      <td>5350.000000</td>\n",
       "      <td>0.000000</td>\n",
       "    </tr>\n",
       "    <tr>\n",
       "      <th>25%</th>\n",
       "      <td>9025.000000</td>\n",
       "      <td>4.000000</td>\n",
       "    </tr>\n",
       "    <tr>\n",
       "      <th>50%</th>\n",
       "      <td>17300.000000</td>\n",
       "      <td>5.000000</td>\n",
       "    </tr>\n",
       "    <tr>\n",
       "      <th>75%</th>\n",
       "      <td>27762.250000</td>\n",
       "      <td>6.000000</td>\n",
       "    </tr>\n",
       "    <tr>\n",
       "      <th>max</th>\n",
       "      <td>79339.000000</td>\n",
       "      <td>8.000000</td>\n",
       "    </tr>\n",
       "  </tbody>\n",
       "</table>\n",
       "</div>"
      ],
      "text/plain": [
       "         last_price  city_centers_neareast_km\n",
       "count     34.000000                 34.000000\n",
       "mean   23163.588235                  5.029412\n",
       "std    19104.927741                  2.138894\n",
       "min     5350.000000                  0.000000\n",
       "25%     9025.000000                  4.000000\n",
       "50%    17300.000000                  5.000000\n",
       "75%    27762.250000                  6.000000\n",
       "max    79339.000000                  8.000000"
      ]
     },
     "execution_count": 62,
     "metadata": {},
     "output_type": "execute_result"
    }
   ],
   "source": [
    "spb_center.query('year_exposition == 2014')[['last_price', 'city_centers_neareast_km']].describe()"
   ]
  },
  {
   "cell_type": "markdown",
   "metadata": {},
   "source": [
    "Теперь всё встало на свои места. Это не квартиры стоили дороже в 2014 году, а в 2014 году в записях всего 34 дорогих квартиры из центра Сакт-Петербурга. "
   ]
  },
  {
   "cell_type": "markdown",
   "metadata": {},
   "source": [
    "## Общий вывод"
   ]
  },
  {
   "cell_type": "markdown",
   "metadata": {},
   "source": [
    "Перед написанием общего вывода выведем тепловую карту корреляции цены к другим параметрам."
   ]
  },
  {
   "cell_type": "code",
   "execution_count": 63,
   "metadata": {},
   "outputs": [
    {
     "data": {
      "image/png": "[encoded data removed]",
      "text/plain": [
       "<Figure size 72x576 with 2 Axes>"
      ]
     },
     "metadata": {
      "needs_background": "light"
     },
     "output_type": "display_data"
    }
   ],
   "source": [
    "plt.figure(figsize=(1,8))\n",
    "sns.heatmap(abs(df.corr()[['last_price']]).sort_values(by='last_price', ascending=False), annot=True);"
   ]
  },
  {
   "cell_type": "markdown",
   "metadata": {},
   "source": [
    "Сведём результаты в таблицу:"
   ]
  },
  {
   "cell_type": "markdown",
   "metadata": {},
   "source": [
    "<table><tbody>\n",
    "    <tr>\n",
    "        <td><b>Параметры</b></td>\n",
    "        <td><b>Зависимость</b></td>\n",
    "    </tr>\n",
    "    <tr>\n",
    "        <td>Площадь</td>\n",
    "        <td>Чем больше площадь, тем выше стоимость</td>\n",
    "    </tr>\n",
    "    <tr>\n",
    "        <td>Кол-во комнат</td>\n",
    "        <td>Чем больше комнат, тем выше стоимость</td>\n",
    "    </tr>\n",
    "    <tr>\n",
    "        <td>Удаленность от центра</td>\n",
    "        <td>Чем ближе к центру, тем выше стоимость</td>\n",
    "    </tr>\n",
    "    <tr>\n",
    "        <td>День размещения объявления</td>\n",
    "        <td>В будние дни квартиры стоят чуть дороже</td>\n",
    "    </tr>\n",
    "    <tr>\n",
    "        <td>Месяц размещения объявления</td>\n",
    "        <td>Наблюдается сезонность.<div>Ближе к лету начинается спад спроса,<div>а соответсвенно и цен на недвижимость</td>\n",
    "    </tr>\n",
    "    <tr>\n",
    "        <td>Год размещения объявления</td>\n",
    "        <td>Дешевле всего квартиры стояли в 2017 году</td>\n",
    "    </tr></tbody>\n",
    "</table>"
   ]
  },
  {
   "cell_type": "markdown",
   "metadata": {},
   "source": [
    "Многие из этих параметров имеют довольно слабую зависимость, но если их объединить по группам, то, наверняка, можно построить довольно хорошую систему определения рыночной стоимости объектов недвижимости"
   ]
  }
 ],
 "metadata": {
  "ExecuteTimeLog": [
   {
    "duration": 85,
    "start_time": "2022-03-06T18:26:29.670Z"
   },
   {
    "duration": 85,
    "start_time": "2022-03-06T18:37:55.897Z"
   },
   {
    "duration": 93,
    "start_time": "2022-03-06T18:44:12.277Z"
   },
   {
    "duration": 86,
    "start_time": "2022-03-06T19:02:33.027Z"
   },
   {
    "duration": 74,
    "start_time": "2022-03-11T19:14:18.634Z"
   },
   {
    "duration": 259,
    "start_time": "2022-03-11T19:28:44.485Z"
   },
   {
    "duration": 1194,
    "start_time": "2022-03-11T19:28:53.176Z"
   },
   {
    "duration": 94,
    "start_time": "2022-03-11T19:28:54.372Z"
   },
   {
    "duration": 12,
    "start_time": "2022-03-11T19:28:54.468Z"
   },
   {
    "duration": 87,
    "start_time": "2022-03-11T19:28:54.482Z"
   },
   {
    "duration": 10,
    "start_time": "2022-03-11T19:28:54.571Z"
   },
   {
    "duration": 28,
    "start_time": "2022-03-11T19:28:54.582Z"
   },
   {
    "duration": 7,
    "start_time": "2022-03-11T19:28:54.612Z"
   },
   {
    "duration": 10,
    "start_time": "2022-03-11T19:28:54.622Z"
   },
   {
    "duration": 84,
    "start_time": "2022-03-11T19:28:54.634Z"
   },
   {
    "duration": 10,
    "start_time": "2022-03-11T19:28:54.720Z"
   },
   {
    "duration": 16,
    "start_time": "2022-03-11T19:28:54.731Z"
   },
   {
    "duration": 10,
    "start_time": "2022-03-11T19:28:54.748Z"
   },
   {
    "duration": 41,
    "start_time": "2022-03-11T19:28:54.760Z"
   },
   {
    "duration": 7,
    "start_time": "2022-03-11T19:28:54.804Z"
   },
   {
    "duration": 13,
    "start_time": "2022-03-11T19:28:54.812Z"
   },
   {
    "duration": 6,
    "start_time": "2022-03-11T19:28:54.827Z"
   },
   {
    "duration": 85,
    "start_time": "2022-03-11T19:28:54.835Z"
   },
   {
    "duration": 21,
    "start_time": "2022-03-11T19:28:54.922Z"
   },
   {
    "duration": 12,
    "start_time": "2022-03-11T19:28:54.945Z"
   },
   {
    "duration": 18,
    "start_time": "2022-03-11T19:28:54.958Z"
   },
   {
    "duration": 97,
    "start_time": "2022-03-11T19:28:54.978Z"
   },
   {
    "duration": 30,
    "start_time": "2022-03-11T19:28:55.077Z"
   },
   {
    "duration": 42,
    "start_time": "2022-03-11T19:28:55.112Z"
   },
   {
    "duration": 9,
    "start_time": "2022-03-11T19:28:55.157Z"
   },
   {
    "duration": 42,
    "start_time": "2022-03-11T19:28:55.168Z"
   },
   {
    "duration": 30,
    "start_time": "2022-03-11T19:28:55.212Z"
   },
   {
    "duration": 5,
    "start_time": "2022-03-11T19:28:55.244Z"
   },
   {
    "duration": 56,
    "start_time": "2022-03-11T19:28:55.250Z"
   },
   {
    "duration": 501,
    "start_time": "2022-03-11T19:28:55.308Z"
   },
   {
    "duration": 27,
    "start_time": "2022-03-11T19:28:55.811Z"
   },
   {
    "duration": 26,
    "start_time": "2022-03-11T19:28:55.840Z"
   },
   {
    "duration": 49,
    "start_time": "2022-03-11T19:28:55.868Z"
   },
   {
    "duration": 558,
    "start_time": "2022-03-11T19:28:55.919Z"
   },
   {
    "duration": 355,
    "start_time": "2022-03-11T19:28:56.479Z"
   },
   {
    "duration": 329,
    "start_time": "2022-03-11T19:28:56.836Z"
   },
   {
    "duration": 272,
    "start_time": "2022-03-11T19:28:57.167Z"
   },
   {
    "duration": 270,
    "start_time": "2022-03-11T19:28:57.441Z"
   },
   {
    "duration": 505,
    "start_time": "2022-03-11T19:28:57.713Z"
   },
   {
    "duration": 157,
    "start_time": "2022-03-11T19:28:58.219Z"
   },
   {
    "duration": 395,
    "start_time": "2022-03-11T19:28:58.378Z"
   },
   {
    "duration": 328,
    "start_time": "2022-03-11T19:28:58.775Z"
   },
   {
    "duration": 12,
    "start_time": "2022-03-11T19:28:59.106Z"
   },
   {
    "duration": 644,
    "start_time": "2022-03-11T19:28:59.119Z"
   },
   {
    "duration": 293,
    "start_time": "2022-03-11T19:28:59.765Z"
   },
   {
    "duration": 251,
    "start_time": "2022-03-11T19:29:00.061Z"
   },
   {
    "duration": 6,
    "start_time": "2022-03-11T19:29:00.315Z"
   },
   {
    "duration": 378,
    "start_time": "2022-03-11T19:29:00.323Z"
   },
   {
    "duration": 254,
    "start_time": "2022-03-11T19:29:00.703Z"
   },
   {
    "duration": 881,
    "start_time": "2022-03-11T19:29:00.959Z"
   },
   {
    "duration": 10,
    "start_time": "2022-03-11T19:29:01.842Z"
   },
   {
    "duration": 67,
    "start_time": "2022-03-11T19:29:01.854Z"
   },
   {
    "duration": 460,
    "start_time": "2022-03-11T19:29:01.923Z"
   },
   {
    "duration": 21,
    "start_time": "2022-03-11T19:29:02.385Z"
   },
   {
    "duration": 642,
    "start_time": "2022-03-11T19:29:02.409Z"
   },
   {
    "duration": 1311,
    "start_time": "2022-03-11T19:29:03.053Z"
   },
   {
    "duration": 304,
    "start_time": "2022-03-11T19:29:04.365Z"
   },
   {
    "duration": 252,
    "start_time": "2022-03-11T19:29:04.671Z"
   },
   {
    "duration": 375,
    "start_time": "2022-03-11T19:29:04.926Z"
   },
   {
    "duration": 223,
    "start_time": "2022-03-11T19:29:05.303Z"
   },
   {
    "duration": 855,
    "start_time": "2022-03-11T19:29:05.528Z"
   },
   {
    "duration": 25,
    "start_time": "2022-03-11T19:29:06.384Z"
   },
   {
    "duration": 608,
    "start_time": "2022-03-11T19:29:06.411Z"
   },
   {
    "duration": 12,
    "start_time": "2022-03-11T19:29:07.021Z"
   },
   {
    "duration": 18,
    "start_time": "2022-03-11T19:32:18.361Z"
   },
   {
    "duration": 19,
    "start_time": "2022-03-11T19:32:38.490Z"
   },
   {
    "duration": 309,
    "start_time": "2022-03-11T19:33:33.524Z"
   },
   {
    "duration": 308,
    "start_time": "2022-03-11T19:33:41.972Z"
   },
   {
    "duration": 21,
    "start_time": "2022-03-11T19:34:17.779Z"
   },
   {
    "duration": 6,
    "start_time": "2022-03-11T19:34:19.357Z"
   },
   {
    "duration": 202,
    "start_time": "2022-03-11T19:34:31.999Z"
   },
   {
    "duration": 309,
    "start_time": "2022-03-11T19:34:48.710Z"
   },
   {
    "duration": 168,
    "start_time": "2022-03-11T19:34:58.191Z"
   },
   {
    "duration": 212,
    "start_time": "2022-03-11T19:35:54.116Z"
   },
   {
    "duration": 211,
    "start_time": "2022-03-11T19:36:05.523Z"
   },
   {
    "duration": 8150,
    "start_time": "2022-03-11T19:36:27.754Z"
   },
   {
    "duration": 12916,
    "start_time": "2022-03-11T19:37:12.995Z"
   },
   {
    "duration": 79,
    "start_time": "2022-03-11T19:39:19.368Z"
   },
   {
    "duration": 1188,
    "start_time": "2022-03-11T19:40:25.185Z"
   },
   {
    "duration": 100,
    "start_time": "2022-03-11T19:40:26.375Z"
   },
   {
    "duration": 12,
    "start_time": "2022-03-11T19:40:26.477Z"
   },
   {
    "duration": 83,
    "start_time": "2022-03-11T19:40:26.491Z"
   },
   {
    "duration": 31,
    "start_time": "2022-03-11T19:40:26.576Z"
   },
   {
    "duration": 17,
    "start_time": "2022-03-11T19:40:26.609Z"
   },
   {
    "duration": 8,
    "start_time": "2022-03-11T19:40:26.628Z"
   },
   {
    "duration": 12,
    "start_time": "2022-03-11T19:40:26.639Z"
   },
   {
    "duration": 93,
    "start_time": "2022-03-11T19:40:26.653Z"
   },
   {
    "duration": 12,
    "start_time": "2022-03-11T19:40:26.748Z"
   },
   {
    "duration": 22,
    "start_time": "2022-03-11T19:40:26.762Z"
   },
   {
    "duration": 23,
    "start_time": "2022-03-11T19:40:26.786Z"
   },
   {
    "duration": 9,
    "start_time": "2022-03-11T19:40:26.811Z"
   },
   {
    "duration": 7,
    "start_time": "2022-03-11T19:40:26.822Z"
   },
   {
    "duration": 16,
    "start_time": "2022-03-11T19:40:26.830Z"
   },
   {
    "duration": 8,
    "start_time": "2022-03-11T19:40:26.848Z"
   },
   {
    "duration": 92,
    "start_time": "2022-03-11T19:40:26.858Z"
   },
   {
    "duration": 19,
    "start_time": "2022-03-11T19:40:26.952Z"
   },
   {
    "duration": 31,
    "start_time": "2022-03-11T19:40:26.973Z"
   },
   {
    "duration": 11,
    "start_time": "2022-03-11T19:40:27.006Z"
   },
   {
    "duration": 19,
    "start_time": "2022-03-11T19:40:27.019Z"
   },
   {
    "duration": 67,
    "start_time": "2022-03-11T19:40:27.040Z"
   },
   {
    "duration": 44,
    "start_time": "2022-03-11T19:40:27.112Z"
   },
   {
    "duration": 8,
    "start_time": "2022-03-11T19:40:27.159Z"
   },
   {
    "duration": 42,
    "start_time": "2022-03-11T19:40:27.169Z"
   },
   {
    "duration": 32,
    "start_time": "2022-03-11T19:40:27.214Z"
   },
   {
    "duration": 5,
    "start_time": "2022-03-11T19:40:27.248Z"
   },
   {
    "duration": 58,
    "start_time": "2022-03-11T19:40:27.255Z"
   },
   {
    "duration": 524,
    "start_time": "2022-03-11T19:40:27.315Z"
   },
   {
    "duration": 27,
    "start_time": "2022-03-11T19:40:27.841Z"
   },
   {
    "duration": 47,
    "start_time": "2022-03-11T19:40:27.870Z"
   },
   {
    "duration": 29,
    "start_time": "2022-03-11T19:40:27.919Z"
   },
   {
    "duration": 560,
    "start_time": "2022-03-11T19:40:27.950Z"
   },
   {
    "duration": 355,
    "start_time": "2022-03-11T19:40:28.512Z"
   },
   {
    "duration": 399,
    "start_time": "2022-03-11T19:40:28.870Z"
   },
   {
    "duration": 274,
    "start_time": "2022-03-11T19:40:29.271Z"
   },
   {
    "duration": 262,
    "start_time": "2022-03-11T19:40:29.546Z"
   },
   {
    "duration": 412,
    "start_time": "2022-03-11T19:40:29.810Z"
   },
   {
    "duration": 163,
    "start_time": "2022-03-11T19:40:30.224Z"
   },
   {
    "duration": 395,
    "start_time": "2022-03-11T19:40:30.389Z"
   },
   {
    "duration": 334,
    "start_time": "2022-03-11T19:40:30.787Z"
   },
   {
    "duration": 13,
    "start_time": "2022-03-11T19:40:31.124Z"
   },
   {
    "duration": 664,
    "start_time": "2022-03-11T19:40:31.139Z"
   },
   {
    "duration": 317,
    "start_time": "2022-03-11T19:40:31.805Z"
   },
   {
    "duration": 269,
    "start_time": "2022-03-11T19:40:32.125Z"
   },
   {
    "duration": 7,
    "start_time": "2022-03-11T19:40:32.402Z"
   },
   {
    "duration": 395,
    "start_time": "2022-03-11T19:40:32.411Z"
   },
   {
    "duration": 241,
    "start_time": "2022-03-11T19:40:32.808Z"
   },
   {
    "duration": 857,
    "start_time": "2022-03-11T19:40:33.051Z"
   },
   {
    "duration": 10,
    "start_time": "2022-03-11T19:40:33.910Z"
   },
   {
    "duration": 31,
    "start_time": "2022-03-11T19:40:33.922Z"
   },
   {
    "duration": 437,
    "start_time": "2022-03-11T19:40:33.955Z"
   },
   {
    "duration": 14,
    "start_time": "2022-03-11T19:40:34.394Z"
   },
   {
    "duration": 647,
    "start_time": "2022-03-11T19:40:34.411Z"
   },
   {
    "duration": 1177,
    "start_time": "2022-03-11T19:40:35.059Z"
   },
   {
    "duration": 295,
    "start_time": "2022-03-11T19:40:36.238Z"
   },
   {
    "duration": 237,
    "start_time": "2022-03-11T19:40:36.535Z"
   },
   {
    "duration": 277,
    "start_time": "2022-03-11T19:40:36.774Z"
   },
   {
    "duration": 224,
    "start_time": "2022-03-11T19:40:37.053Z"
   },
   {
    "duration": 850,
    "start_time": "2022-03-11T19:40:37.279Z"
   },
   {
    "duration": 19,
    "start_time": "2022-03-11T19:40:38.131Z"
   },
   {
    "duration": 625,
    "start_time": "2022-03-11T19:40:38.152Z"
   },
   {
    "duration": 195,
    "start_time": "2022-03-11T19:40:38.779Z"
   },
   {
    "duration": 13109,
    "start_time": "2022-03-11T19:40:38.976Z"
   }
  ],
  "kernelspec": {
   "display_name": "Python 3 (ipykernel)",
   "language": "python",
   "name": "python3"
  },
  "language_info": {
   "codemirror_mode": {
    "name": "ipython",
    "version": 3
   },
   "file_extension": ".py",
   "mimetype": "text/x-python",
   "name": "python",
   "nbconvert_exporter": "python",
   "pygments_lexer": "ipython3",
   "version": "3.7.8"
  },
  "toc": {
   "base_numbering": 1,
   "nav_menu": {},
   "number_sections": true,
   "sideBar": true,
   "skip_h1_title": true,
   "title_cell": "Содержание",
   "title_sidebar": "Contents",
   "toc_cell": true,
   "toc_position": {
    "height": "calc(100% - 180px)",
    "left": "10px",
    "top": "150px",
    "width": "479px"
   },
   "toc_section_display": true,
   "toc_window_display": true
  }
 },
 "nbformat": 4,
 "nbformat_minor": 4
}
