{
 "cells": [
  {
   "cell_type": "markdown",
   "metadata": {
    "id": "9RzR5Jorx1Nb"
   },
   "source": [
    "# Оптимизациия энергопотребления на этапе обработки стали."
   ]
  },
  {
   "cell_type": "markdown",
   "metadata": {
    "id": "dkMr17od051V"
   },
   "source": [
    "Чтобы оптимизировать производственные расходы, металлургический комбинат ООО «Так закаляем сталь» решил уменьшить потребление электроэнергии на этапе обработки стали. Вам предстоит построить модель, которая предскажет температуру стали."
   ]
  },
  {
   "cell_type": "markdown",
   "metadata": {
    "id": "FwycctoB09YW"
   },
   "source": [
    "**Описание этапа обработки**\n",
    "\n",
    "Сталь обрабатывают в металлическом ковше вместимостью около 100 тонн. Чтобы ковш выдерживал высокие температуры, изнутри его облицовывают огнеупорным кирпичом. Расплавленную сталь заливают в ковш и подогревают до нужной температуры графитовыми электродами. Они установлены в крышке ковша. \n",
    "\n",
    "Из сплава выводится сера (десульфурация), добавлением примесей корректируется химический состав и отбираются пробы. Сталь легируют — изменяют её состав — подавая куски сплава из бункера для сыпучих материалов или проволоку через специальный трайб-аппарат (англ. tribe, «масса»).\n",
    "\n",
    "Перед тем как первый раз ввести легирующие добавки, измеряют температуру стали и производят её химический анализ. Потом температуру на несколько минут повышают, добавляют легирующие материалы и продувают сплав инертным газом. Затем его перемешивают и снова проводят измерения. Такой цикл повторяется до достижения целевого химического состава и оптимальной температуры плавки.\n",
    "\n",
    "Тогда расплавленная сталь отправляется на доводку металла или поступает в машину непрерывной разливки. Оттуда готовый продукт выходит в виде заготовок-слябов (англ. *slab*, «плита»).\n",
    "\n",
    "\n",
    "**Описание данных**\n",
    "\n",
    "Данные состоят из файлов, полученных из разных источников:\n",
    "\n",
    "- `data_arc.csv` — данные об электродах;\n",
    "- `data_bulk.csv` — данные о подаче сыпучих материалов (объём);\n",
    "- `data_bulk_time.csv` *—* данные о подаче сыпучих материалов (время);\n",
    "- `data_gas.csv` — данные о продувке сплава газом;\n",
    "- `data_temp.csv` — результаты измерения температуры;\n",
    "- `data_wire.csv` — данные о проволочных материалах (объём);\n",
    "- `data_wire_time.csv` — данные о проволочных материалах (время).\n",
    "\n",
    "Во всех файлах столбец `key` содержит номер партии. В файлах может быть несколько строк с одинаковым значением `key`: они соответствуют разным итерациям обработки."
   ]
  },
  {
   "cell_type": "markdown",
   "metadata": {
    "id": "QU6yZhyU0-Sa"
   },
   "source": [
    "# План решения задачи\n",
    "\n",
    "Решение задачи пройдёт в четыре основных этапа:\n",
    "1. Загрузка и исследование данных\n",
    " - Поиск аномалий\n",
    " - Поиск пропусков\n",
    "2. Предобработка данных\n",
    " - Обработка пропусков\n",
    " - Удаление аномалий\n",
    " - Пдготовка признаков\n",
    " - Объединение таблиц\n",
    " - Проверка на мультиколлинеарность\n",
    " - Разделение данных на выборки\n",
    "3. Построение моделей машинного обучения\n",
    " - LightGBM\n",
    " - CatBoost\n",
    " - LinearRegression\n",
    " - Ridge Regression\n",
    "4. Анализ работы моделей и подготовка отчёта\n",
    " - Сравнение моделей\n",
    " - Проверка модели на тестовой выборке\n",
    " - Значимость признаков\n",
    " - Отчёт по решению"
   ]
  },
  {
   "cell_type": "markdown",
   "metadata": {
    "toc": true
   },
   "source": [
    "<h1>Содержание<span class=\"tocSkip\"></span></h1>\n",
    "<div class=\"toc\"><ul class=\"toc-item\"><li><span><a href=\"#Загрузка-необходимых-библиотек-и-данных\" data-toc-modified-id=\"Загрузка-необходимых-библиотек-и-данных-1\"><span class=\"toc-item-num\">1&nbsp;&nbsp;</span>Загрузка необходимых библиотек и данных</a></span><ul class=\"toc-item\"><li><span><a href=\"#Загрузка-библиотек\" data-toc-modified-id=\"Загрузка-библиотек-1.1\"><span class=\"toc-item-num\">1.1&nbsp;&nbsp;</span>Загрузка библиотек</a></span></li><li><span><a href=\"#Загрузка-и-исследование-данных\" data-toc-modified-id=\"Загрузка-и-исследование-данных-1.2\"><span class=\"toc-item-num\">1.2&nbsp;&nbsp;</span>Загрузка и исследование данных</a></span><ul class=\"toc-item\"><li><span><a href=\"#Данные-об-электродах\" data-toc-modified-id=\"Данные-об-электродах-1.2.1\"><span class=\"toc-item-num\">1.2.1&nbsp;&nbsp;</span>Данные об электродах</a></span></li><li><span><a href=\"#Данные-о-подаче-сыпучих-материалов-(объём)\" data-toc-modified-id=\"Данные-о-подаче-сыпучих-материалов-(объём)-1.2.2\"><span class=\"toc-item-num\">1.2.2&nbsp;&nbsp;</span>Данные о подаче сыпучих материалов (объём)</a></span></li><li><span><a href=\"#Данные-о-подаче-сыпучих-материалов-(время)\" data-toc-modified-id=\"Данные-о-подаче-сыпучих-материалов-(время)-1.2.3\"><span class=\"toc-item-num\">1.2.3&nbsp;&nbsp;</span>Данные о подаче сыпучих материалов (время)</a></span></li><li><span><a href=\"#Данные-о-продувке-сплава-газом\" data-toc-modified-id=\"Данные-о-продувке-сплава-газом-1.2.4\"><span class=\"toc-item-num\">1.2.4&nbsp;&nbsp;</span>Данные о продувке сплава газом</a></span></li><li><span><a href=\"#Результаты-измерения-температуры\" data-toc-modified-id=\"Результаты-измерения-температуры-1.2.5\"><span class=\"toc-item-num\">1.2.5&nbsp;&nbsp;</span>Результаты измерения температуры</a></span></li><li><span><a href=\"#Данные-о-проволочных-материалах-(объём)\" data-toc-modified-id=\"Данные-о-проволочных-материалах-(объём)-1.2.6\"><span class=\"toc-item-num\">1.2.6&nbsp;&nbsp;</span>Данные о проволочных материалах (объём)</a></span></li><li><span><a href=\"#Данные-о-проволочных-материалах-(время)\" data-toc-modified-id=\"Данные-о-проволочных-материалах-(время)-1.2.7\"><span class=\"toc-item-num\">1.2.7&nbsp;&nbsp;</span>Данные о проволочных материалах (время)</a></span></li></ul></li></ul></li><li><span><a href=\"#Предобработка-данных\" data-toc-modified-id=\"Предобработка-данных-2\"><span class=\"toc-item-num\">2&nbsp;&nbsp;</span>Предобработка данных</a></span><ul class=\"toc-item\"><li><span><a href=\"#Обработка-пропусков,-удаление-аномалий,-подготовка-признаков\" data-toc-modified-id=\"Обработка-пропусков,-удаление-аномалий,-подготовка-признаков-2.1\"><span class=\"toc-item-num\">2.1&nbsp;&nbsp;</span>Обработка пропусков, удаление аномалий, подготовка признаков</a></span></li><li><span><a href=\"#Объединение-таблиц\" data-toc-modified-id=\"Объединение-таблиц-2.2\"><span class=\"toc-item-num\">2.2&nbsp;&nbsp;</span>Объединение таблиц</a></span></li><li><span><a href=\"#Проверка-на-мультиколлинеарность\" data-toc-modified-id=\"Проверка-на-мультиколлинеарность-2.3\"><span class=\"toc-item-num\">2.3&nbsp;&nbsp;</span>Проверка на мультиколлинеарность</a></span></li><li><span><a href=\"#Разделение-данных-на-выборки\" data-toc-modified-id=\"Разделение-данных-на-выборки-2.4\"><span class=\"toc-item-num\">2.4&nbsp;&nbsp;</span>Разделение данных на выборки</a></span></li></ul></li><li><span><a href=\"#Построение-моделей-машинного-обучения\" data-toc-modified-id=\"Построение-моделей-машинного-обучения-3\"><span class=\"toc-item-num\">3&nbsp;&nbsp;</span>Построение моделей машинного обучения</a></span><ul class=\"toc-item\"><li><span><a href=\"#LGBMRegressor\" data-toc-modified-id=\"LGBMRegressor-3.1\"><span class=\"toc-item-num\">3.1&nbsp;&nbsp;</span>LGBMRegressor</a></span></li><li><span><a href=\"#CatBoostRegressor\" data-toc-modified-id=\"CatBoostRegressor-3.2\"><span class=\"toc-item-num\">3.2&nbsp;&nbsp;</span>CatBoostRegressor</a></span></li><li><span><a href=\"#LinearRegression\" data-toc-modified-id=\"LinearRegression-3.3\"><span class=\"toc-item-num\">3.3&nbsp;&nbsp;</span>LinearRegression</a></span></li><li><span><a href=\"#Ridge-Regression\" data-toc-modified-id=\"Ridge-Regression-3.4\"><span class=\"toc-item-num\">3.4&nbsp;&nbsp;</span>Ridge Regression</a></span></li></ul></li><li><span><a href=\"#Анализ-работы-моделей-и-подготовка-отчёта\" data-toc-modified-id=\"Анализ-работы-моделей-и-подготовка-отчёта-4\"><span class=\"toc-item-num\">4&nbsp;&nbsp;</span>Анализ работы моделей и подготовка отчёта</a></span><ul class=\"toc-item\"><li><span><a href=\"#Сравнение-моделей\" data-toc-modified-id=\"Сравнение-моделей-4.1\"><span class=\"toc-item-num\">4.1&nbsp;&nbsp;</span>Сравнение моделей</a></span></li><li><span><a href=\"#Проверка-модели-на-тестовой-выборке\" data-toc-modified-id=\"Проверка-модели-на-тестовой-выборке-4.2\"><span class=\"toc-item-num\">4.2&nbsp;&nbsp;</span>Проверка модели на тестовой выборке</a></span></li><li><span><a href=\"#Значимость-признаков\" data-toc-modified-id=\"Значимость-признаков-4.3\"><span class=\"toc-item-num\">4.3&nbsp;&nbsp;</span>Значимость признаков</a></span></li><li><span><a href=\"#Отчёт-по-решению\" data-toc-modified-id=\"Отчёт-по-решению-4.4\"><span class=\"toc-item-num\">4.4&nbsp;&nbsp;</span>Отчёт по решению</a></span></li></ul></li></ul></div>"
   ]
  },
  {
   "cell_type": "markdown",
   "metadata": {
    "id": "VPPkUcAa0-kk"
   },
   "source": [
    "## Загрузка необходимых библиотек и данных"
   ]
  },
  {
   "cell_type": "code",
   "execution_count": null,
   "metadata": {
    "id": "E_tIfCXVSBXZ"
   },
   "outputs": [],
   "source": [
    "%%capture\n",
    "! pip install phik\n",
    "! pip install catboost"
   ]
  },
  {
   "cell_type": "markdown",
   "metadata": {
    "id": "bq-T7cxJ8s9h"
   },
   "source": [
    "### Загрузка библиотек"
   ]
  },
  {
   "cell_type": "code",
   "execution_count": null,
   "metadata": {
    "colab": {
     "base_uri": "https://localhost:8080/"
    },
    "id": "4_JFJcR809H2",
    "outputId": "f7470d3c-26ec-435f-cf96-3b73223d33f4"
   },
   "outputs": [
    {
     "name": "stdout",
     "output_type": "stream",
     "text": [
      "Setup complete\n"
     ]
    }
   ],
   "source": [
    "import pandas as pd\n",
    "import numpy as np\n",
    "import phik\n",
    "\n",
    "# vizualization\n",
    "%matplotlib inline\n",
    "import matplotlib.pyplot as plt\n",
    "import seaborn as sns\n",
    "import plotly.express as px\n",
    "plt.style.use('seaborn-whitegrid')\n",
    "\n",
    "# ml\n",
    "from sklearn.metrics import mean_absolute_error\n",
    "from sklearn.model_selection import GridSearchCV, train_test_split, cross_val_score, KFold\n",
    "from sklearn.linear_model import LinearRegression, Ridge\n",
    "import lightgbm as lgb\n",
    "from catboost import CatBoostRegressor\n",
    "\n",
    "# options\n",
    "pd.options.display.float_format = '{:,.4f}'.format\n",
    "import warnings\n",
    "warnings.filterwarnings(\"ignore\")\n",
    "\n",
    "# seed freezing\n",
    "seed = 29082022\n",
    "np.random.seed(seed)\n",
    "\n",
    "print('Setup complete')"
   ]
  },
  {
   "cell_type": "markdown",
   "metadata": {
    "id": "ymM8_4XY8zEU"
   },
   "source": [
    "### Загрузка и исследование данных"
   ]
  },
  {
   "cell_type": "code",
   "execution_count": null,
   "metadata": {
    "colab": {
     "base_uri": "https://localhost:8080/"
    },
    "id": "NmyVi6G7RHQh",
    "outputId": "696f798f-3921-4ef8-9e84-1f6f2217c8de"
   },
   "outputs": [
    {
     "name": "stdout",
     "output_type": "stream",
     "text": [
      "/bin/bash: gdown: command not found\r\n"
     ]
    }
   ],
   "source": [
    "! gdown 1wRLJFGINGdu7RdQEc88Avghz8yyHN_O2"
   ]
  },
  {
   "cell_type": "code",
   "execution_count": null,
   "metadata": {
    "colab": {
     "base_uri": "https://localhost:8080/"
    },
    "id": "7i8mXbZfAn5x",
    "outputId": "1d64c5ee-e5f7-4880-f070-d59745cbc040"
   },
   "outputs": [
    {
     "name": "stdout",
     "output_type": "stream",
     "text": [
      "/bin/bash: unzip: command not found\r\n"
     ]
    }
   ],
   "source": [
    "! unzip -o /content/final_steel.zip"
   ]
  },
  {
   "cell_type": "markdown",
   "metadata": {
    "id": "HbHSuFoUA2FG"
   },
   "source": []
  },
  {
   "cell_type": "code",
   "execution_count": null,
   "metadata": {
    "id": "FrjuVdSAWLfp"
   },
   "outputs": [],
   "source": [
    "try:\n",
    "  data_arc = pd.read_csv('final_steel/data_arc.csv')\n",
    "  data_wire = pd.read_csv('final_steel/data_wire.csv')\n",
    "  data_temp = pd.read_csv('final_steel/data_temp.csv')\n",
    "  data_gas = pd.read_csv('final_steel/data_gas.csv')\n",
    "  data_bulk = pd.read_csv('final_steel/data_bulk.csv')\n",
    "  data_wire_time = pd.read_csv('final_steel/data_wire_time.csv')\n",
    "  data_bulk_time = pd.read_csv('final_steel/data_bulk_time.csv')\n",
    "except:\n",
    "  data_arc = pd.read_csv('/datasets/final_steel/data_arc.csv')\n",
    "  data_bulk = pd.read_csv('/datasets/final_steel/data_bulk.csv')\n",
    "  data_bulk_time = pd.read_csv('/datasets/final_steel/data_bulk_time.csv')\n",
    "  data_gas = pd.read_csv('/datasets/final_steel/data_gas.csv')\n",
    "  data_temp = pd.read_csv('/datasets/final_steel/data_temp.csv')\n",
    "  data_wire = pd.read_csv('/datasets/final_steel/data_wire.csv')\n",
    "  data_wire_time = pd.read_csv('/datasets/final_steel/data_wire_time.csv')"
   ]
  },
  {
   "cell_type": "code",
   "execution_count": null,
   "metadata": {
    "id": "Nxco1mrDBDBk"
   },
   "outputs": [],
   "source": [
    "def get_info(df):\n",
    "  display(df.head(), df.info(), df.describe(include = 'all').T)\n",
    "  print('Процент пропусков:\\n', df.isna().mean().sort_values(ascending=False)*100)"
   ]
  },
  {
   "cell_type": "markdown",
   "metadata": {
    "id": "8Cz91qIB17Xb"
   },
   "source": [
    "Посмотрим каждый дадасет по отдельности.   "
   ]
  },
  {
   "cell_type": "code",
   "execution_count": null,
   "metadata": {
    "id": "73ElXZ-8xj3-"
   },
   "outputs": [],
   "source": [
    "def vizualize(df, column):\n",
    "  plt.figure(figsize=(10,5))\n",
    "  df[column].hist(bins=100, ec='black')\n",
    "  plt.title('Распределение ' + str(column), size=20)\n",
    "  plt.show()\n",
    "  print('')\n",
    "  plt.figure(figsize=(10,5))\n",
    "  sns.boxplot(df[column]);"
   ]
  },
  {
   "cell_type": "markdown",
   "metadata": {
    "id": "bK2K1jDVAVT3"
   },
   "source": [
    "#### Данные об электродах"
   ]
  },
  {
   "cell_type": "code",
   "execution_count": null,
   "metadata": {
    "colab": {
     "base_uri": "https://localhost:8080/",
     "height": 743
    },
    "id": "edcArb5QBL6J",
    "outputId": "15f4968f-0102-4577-bf8c-3b4a1aa40aab"
   },
   "outputs": [
    {
     "name": "stdout",
     "output_type": "stream",
     "text": [
      "<class 'pandas.core.frame.DataFrame'>\n",
      "RangeIndex: 14876 entries, 0 to 14875\n",
      "Data columns (total 5 columns):\n",
      " #   Column                Non-Null Count  Dtype  \n",
      "---  ------                --------------  -----  \n",
      " 0   key                   14876 non-null  int64  \n",
      " 1   Начало нагрева дугой  14876 non-null  object \n",
      " 2   Конец нагрева дугой   14876 non-null  object \n",
      " 3   Активная мощность     14876 non-null  float64\n",
      " 4   Реактивная мощность   14876 non-null  float64\n",
      "dtypes: float64(2), int64(1), object(2)\n",
      "memory usage: 581.2+ KB\n"
     ]
    },
    {
     "data": {
      "text/html": [
       "<div>\n",
       "<style scoped>\n",
       "    .dataframe tbody tr th:only-of-type {\n",
       "        vertical-align: middle;\n",
       "    }\n",
       "\n",
       "    .dataframe tbody tr th {\n",
       "        vertical-align: top;\n",
       "    }\n",
       "\n",
       "    .dataframe thead th {\n",
       "        text-align: right;\n",
       "    }\n",
       "</style>\n",
       "<table border=\"1\" class=\"dataframe\">\n",
       "  <thead>\n",
       "    <tr style=\"text-align: right;\">\n",
       "      <th></th>\n",
       "      <th>key</th>\n",
       "      <th>Начало нагрева дугой</th>\n",
       "      <th>Конец нагрева дугой</th>\n",
       "      <th>Активная мощность</th>\n",
       "      <th>Реактивная мощность</th>\n",
       "    </tr>\n",
       "  </thead>\n",
       "  <tbody>\n",
       "    <tr>\n",
       "      <th>0</th>\n",
       "      <td>1</td>\n",
       "      <td>2019-05-03 11:02:14</td>\n",
       "      <td>2019-05-03 11:06:02</td>\n",
       "      <td>0.9761</td>\n",
       "      <td>0.6871</td>\n",
       "    </tr>\n",
       "    <tr>\n",
       "      <th>1</th>\n",
       "      <td>1</td>\n",
       "      <td>2019-05-03 11:07:28</td>\n",
       "      <td>2019-05-03 11:10:33</td>\n",
       "      <td>0.8056</td>\n",
       "      <td>0.5203</td>\n",
       "    </tr>\n",
       "    <tr>\n",
       "      <th>2</th>\n",
       "      <td>1</td>\n",
       "      <td>2019-05-03 11:11:44</td>\n",
       "      <td>2019-05-03 11:14:36</td>\n",
       "      <td>0.7444</td>\n",
       "      <td>0.4988</td>\n",
       "    </tr>\n",
       "    <tr>\n",
       "      <th>3</th>\n",
       "      <td>1</td>\n",
       "      <td>2019-05-03 11:18:14</td>\n",
       "      <td>2019-05-03 11:24:19</td>\n",
       "      <td>1.6594</td>\n",
       "      <td>1.0627</td>\n",
       "    </tr>\n",
       "    <tr>\n",
       "      <th>4</th>\n",
       "      <td>1</td>\n",
       "      <td>2019-05-03 11:26:09</td>\n",
       "      <td>2019-05-03 11:28:37</td>\n",
       "      <td>0.6928</td>\n",
       "      <td>0.4144</td>\n",
       "    </tr>\n",
       "  </tbody>\n",
       "</table>\n",
       "</div>"
      ],
      "text/plain": [
       "   key Начало нагрева дугой  Конец нагрева дугой  Активная мощность  \\\n",
       "0    1  2019-05-03 11:02:14  2019-05-03 11:06:02             0.9761   \n",
       "1    1  2019-05-03 11:07:28  2019-05-03 11:10:33             0.8056   \n",
       "2    1  2019-05-03 11:11:44  2019-05-03 11:14:36             0.7444   \n",
       "3    1  2019-05-03 11:18:14  2019-05-03 11:24:19             1.6594   \n",
       "4    1  2019-05-03 11:26:09  2019-05-03 11:28:37             0.6928   \n",
       "\n",
       "   Реактивная мощность  \n",
       "0               0.6871  \n",
       "1               0.5203  \n",
       "2               0.4988  \n",
       "3               1.0627  \n",
       "4               0.4144  "
      ]
     },
     "metadata": {},
     "output_type": "display_data"
    },
    {
     "data": {
      "text/plain": [
       "None"
      ]
     },
     "metadata": {},
     "output_type": "display_data"
    },
    {
     "data": {
      "text/html": [
       "<div>\n",
       "<style scoped>\n",
       "    .dataframe tbody tr th:only-of-type {\n",
       "        vertical-align: middle;\n",
       "    }\n",
       "\n",
       "    .dataframe tbody tr th {\n",
       "        vertical-align: top;\n",
       "    }\n",
       "\n",
       "    .dataframe thead th {\n",
       "        text-align: right;\n",
       "    }\n",
       "</style>\n",
       "<table border=\"1\" class=\"dataframe\">\n",
       "  <thead>\n",
       "    <tr style=\"text-align: right;\">\n",
       "      <th></th>\n",
       "      <th>count</th>\n",
       "      <th>unique</th>\n",
       "      <th>top</th>\n",
       "      <th>freq</th>\n",
       "      <th>mean</th>\n",
       "      <th>std</th>\n",
       "      <th>min</th>\n",
       "      <th>25%</th>\n",
       "      <th>50%</th>\n",
       "      <th>75%</th>\n",
       "      <th>max</th>\n",
       "    </tr>\n",
       "  </thead>\n",
       "  <tbody>\n",
       "    <tr>\n",
       "      <th>key</th>\n",
       "      <td>14,876.0000</td>\n",
       "      <td>NaN</td>\n",
       "      <td>NaN</td>\n",
       "      <td>NaN</td>\n",
       "      <td>1,615.2204</td>\n",
       "      <td>934.5715</td>\n",
       "      <td>1.0000</td>\n",
       "      <td>806.0000</td>\n",
       "      <td>1,617.0000</td>\n",
       "      <td>2,429.0000</td>\n",
       "      <td>3,241.0000</td>\n",
       "    </tr>\n",
       "    <tr>\n",
       "      <th>Начало нагрева дугой</th>\n",
       "      <td>14876</td>\n",
       "      <td>14875</td>\n",
       "      <td>2019-06-10 22:02:03</td>\n",
       "      <td>2</td>\n",
       "      <td>NaN</td>\n",
       "      <td>NaN</td>\n",
       "      <td>NaN</td>\n",
       "      <td>NaN</td>\n",
       "      <td>NaN</td>\n",
       "      <td>NaN</td>\n",
       "      <td>NaN</td>\n",
       "    </tr>\n",
       "    <tr>\n",
       "      <th>Конец нагрева дугой</th>\n",
       "      <td>14876</td>\n",
       "      <td>14876</td>\n",
       "      <td>2019-05-25 11:33:25</td>\n",
       "      <td>1</td>\n",
       "      <td>NaN</td>\n",
       "      <td>NaN</td>\n",
       "      <td>NaN</td>\n",
       "      <td>NaN</td>\n",
       "      <td>NaN</td>\n",
       "      <td>NaN</td>\n",
       "      <td>NaN</td>\n",
       "    </tr>\n",
       "    <tr>\n",
       "      <th>Активная мощность</th>\n",
       "      <td>14,876.0000</td>\n",
       "      <td>NaN</td>\n",
       "      <td>NaN</td>\n",
       "      <td>NaN</td>\n",
       "      <td>0.6704</td>\n",
       "      <td>0.4082</td>\n",
       "      <td>0.0300</td>\n",
       "      <td>0.3953</td>\n",
       "      <td>0.5555</td>\n",
       "      <td>0.8570</td>\n",
       "      <td>3.7316</td>\n",
       "    </tr>\n",
       "    <tr>\n",
       "      <th>Реактивная мощность</th>\n",
       "      <td>14,876.0000</td>\n",
       "      <td>NaN</td>\n",
       "      <td>NaN</td>\n",
       "      <td>NaN</td>\n",
       "      <td>0.4526</td>\n",
       "      <td>5.8787</td>\n",
       "      <td>-715.5049</td>\n",
       "      <td>0.2910</td>\n",
       "      <td>0.4160</td>\n",
       "      <td>0.6374</td>\n",
       "      <td>2.6764</td>\n",
       "    </tr>\n",
       "  </tbody>\n",
       "</table>\n",
       "</div>"
      ],
      "text/plain": [
       "                           count unique                  top freq       mean  \\\n",
       "key                  14,876.0000    NaN                  NaN  NaN 1,615.2204   \n",
       "Начало нагрева дугой       14876  14875  2019-06-10 22:02:03    2        NaN   \n",
       "Конец нагрева дугой        14876  14876  2019-05-25 11:33:25    1        NaN   \n",
       "Активная мощность    14,876.0000    NaN                  NaN  NaN     0.6704   \n",
       "Реактивная мощность  14,876.0000    NaN                  NaN  NaN     0.4526   \n",
       "\n",
       "                          std       min      25%        50%        75%  \\\n",
       "key                  934.5715    1.0000 806.0000 1,617.0000 2,429.0000   \n",
       "Начало нагрева дугой      NaN       NaN      NaN        NaN        NaN   \n",
       "Конец нагрева дугой       NaN       NaN      NaN        NaN        NaN   \n",
       "Активная мощность      0.4082    0.0300   0.3953     0.5555     0.8570   \n",
       "Реактивная мощность    5.8787 -715.5049   0.2910     0.4160     0.6374   \n",
       "\n",
       "                            max  \n",
       "key                  3,241.0000  \n",
       "Начало нагрева дугой        NaN  \n",
       "Конец нагрева дугой         NaN  \n",
       "Активная мощность        3.7316  \n",
       "Реактивная мощность      2.6764  "
      ]
     },
     "metadata": {},
     "output_type": "display_data"
    },
    {
     "name": "stdout",
     "output_type": "stream",
     "text": [
      "Процент пропусков:\n",
      " key                    0.0000\n",
      "Начало нагрева дугой   0.0000\n",
      "Конец нагрева дугой    0.0000\n",
      "Активная мощность      0.0000\n",
      "Реактивная мощность    0.0000\n",
      "dtype: float64\n"
     ]
    }
   ],
   "source": [
    "get_info(data_arc)"
   ]
  },
  {
   "cell_type": "code",
   "execution_count": null,
   "metadata": {
    "colab": {
     "base_uri": "https://localhost:8080/"
    },
    "id": "WGFw3SpTBNe8",
    "outputId": "4599d559-6bc2-4b98-83a0-27840da330d0"
   },
   "outputs": [
    {
     "data": {
      "text/plain": [
       "-715.5049    1\n",
       "Name: Реактивная мощность, dtype: int64"
      ]
     },
     "execution_count": 9,
     "metadata": {},
     "output_type": "execute_result"
    }
   ],
   "source": [
    "data_arc[data_arc['Реактивная мощность'] < 0]['Реактивная мощность'].value_counts()"
   ]
  },
  {
   "cell_type": "markdown",
   "metadata": {
    "id": "3gLkQFl9_SDH"
   },
   "source": [
    "Посмотрим на распределение кол-ва итераций для каждой партии"
   ]
  },
  {
   "cell_type": "code",
   "execution_count": null,
   "metadata": {
    "colab": {
     "base_uri": "https://localhost:8080/",
     "height": 262
    },
    "id": "ii4eKxI3-fdo",
    "outputId": "6407db71-ff13-45e5-a4ab-d8113cd0c100"
   },
   "outputs": [
    {
     "data": {
      "image/png": "[encoded data removed]",
      "text/plain": [
       "<Figure size 432x288 with 1 Axes>"
      ]
     },
     "metadata": {},
     "output_type": "display_data"
    }
   ],
   "source": [
    "data_arc['key'].value_counts().hist(bins=16, ec='black')\n",
    "plt.xticks(range(1,17));"
   ]
  },
  {
   "cell_type": "markdown",
   "metadata": {
    "id": "YytXHu1R4A92"
   },
   "source": [
    "Здесь можем выделить следующие моменты:\n",
    "- Дату и время следует привести к правильному формату\n",
    "- Названия столбцов следует исправить\n",
    "- Реактивная мощность имеет одно сильно отличающееся отрицательное значение (Необходимо уточнить у заказчика природу таких значений, а это будем удалять или попытаемся посчитать)\n",
    "- В основном партии требуется пройти 3-5 итераций"
   ]
  },
  {
   "cell_type": "markdown",
   "metadata": {
    "id": "IGX8kylIAcp7"
   },
   "source": [
    "#### Данные о подаче сыпучих материалов (объём)"
   ]
  },
  {
   "cell_type": "code",
   "execution_count": null,
   "metadata": {
    "colab": {
     "base_uri": "https://localhost:8080/",
     "height": 1000
    },
    "id": "zrWDnS91-xUn",
    "outputId": "b1e36cf1-86b8-487a-e4e0-3f5a63327ada"
   },
   "outputs": [
    {
     "name": "stdout",
     "output_type": "stream",
     "text": [
      "<class 'pandas.core.frame.DataFrame'>\n",
      "RangeIndex: 3129 entries, 0 to 3128\n",
      "Data columns (total 16 columns):\n",
      " #   Column   Non-Null Count  Dtype  \n",
      "---  ------   --------------  -----  \n",
      " 0   key      3129 non-null   int64  \n",
      " 1   Bulk 1   252 non-null    float64\n",
      " 2   Bulk 2   22 non-null     float64\n",
      " 3   Bulk 3   1298 non-null   float64\n",
      " 4   Bulk 4   1014 non-null   float64\n",
      " 5   Bulk 5   77 non-null     float64\n",
      " 6   Bulk 6   576 non-null    float64\n",
      " 7   Bulk 7   25 non-null     float64\n",
      " 8   Bulk 8   1 non-null      float64\n",
      " 9   Bulk 9   19 non-null     float64\n",
      " 10  Bulk 10  176 non-null    float64\n",
      " 11  Bulk 11  177 non-null    float64\n",
      " 12  Bulk 12  2450 non-null   float64\n",
      " 13  Bulk 13  18 non-null     float64\n",
      " 14  Bulk 14  2806 non-null   float64\n",
      " 15  Bulk 15  2248 non-null   float64\n",
      "dtypes: float64(15), int64(1)\n",
      "memory usage: 391.2 KB\n"
     ]
    },
    {
     "data": {
      "text/html": [
       "<div>\n",
       "<style scoped>\n",
       "    .dataframe tbody tr th:only-of-type {\n",
       "        vertical-align: middle;\n",
       "    }\n",
       "\n",
       "    .dataframe tbody tr th {\n",
       "        vertical-align: top;\n",
       "    }\n",
       "\n",
       "    .dataframe thead th {\n",
       "        text-align: right;\n",
       "    }\n",
       "</style>\n",
       "<table border=\"1\" class=\"dataframe\">\n",
       "  <thead>\n",
       "    <tr style=\"text-align: right;\">\n",
       "      <th></th>\n",
       "      <th>key</th>\n",
       "      <th>Bulk 1</th>\n",
       "      <th>Bulk 2</th>\n",
       "      <th>Bulk 3</th>\n",
       "      <th>Bulk 4</th>\n",
       "      <th>Bulk 5</th>\n",
       "      <th>Bulk 6</th>\n",
       "      <th>Bulk 7</th>\n",
       "      <th>Bulk 8</th>\n",
       "      <th>Bulk 9</th>\n",
       "      <th>Bulk 10</th>\n",
       "      <th>Bulk 11</th>\n",
       "      <th>Bulk 12</th>\n",
       "      <th>Bulk 13</th>\n",
       "      <th>Bulk 14</th>\n",
       "      <th>Bulk 15</th>\n",
       "    </tr>\n",
       "  </thead>\n",
       "  <tbody>\n",
       "    <tr>\n",
       "      <th>0</th>\n",
       "      <td>1</td>\n",
       "      <td>NaN</td>\n",
       "      <td>NaN</td>\n",
       "      <td>NaN</td>\n",
       "      <td>43.0000</td>\n",
       "      <td>NaN</td>\n",
       "      <td>NaN</td>\n",
       "      <td>NaN</td>\n",
       "      <td>NaN</td>\n",
       "      <td>NaN</td>\n",
       "      <td>NaN</td>\n",
       "      <td>NaN</td>\n",
       "      <td>206.0000</td>\n",
       "      <td>NaN</td>\n",
       "      <td>150.0000</td>\n",
       "      <td>154.0000</td>\n",
       "    </tr>\n",
       "    <tr>\n",
       "      <th>1</th>\n",
       "      <td>2</td>\n",
       "      <td>NaN</td>\n",
       "      <td>NaN</td>\n",
       "      <td>NaN</td>\n",
       "      <td>73.0000</td>\n",
       "      <td>NaN</td>\n",
       "      <td>NaN</td>\n",
       "      <td>NaN</td>\n",
       "      <td>NaN</td>\n",
       "      <td>NaN</td>\n",
       "      <td>NaN</td>\n",
       "      <td>NaN</td>\n",
       "      <td>206.0000</td>\n",
       "      <td>NaN</td>\n",
       "      <td>149.0000</td>\n",
       "      <td>154.0000</td>\n",
       "    </tr>\n",
       "    <tr>\n",
       "      <th>2</th>\n",
       "      <td>3</td>\n",
       "      <td>NaN</td>\n",
       "      <td>NaN</td>\n",
       "      <td>NaN</td>\n",
       "      <td>34.0000</td>\n",
       "      <td>NaN</td>\n",
       "      <td>NaN</td>\n",
       "      <td>NaN</td>\n",
       "      <td>NaN</td>\n",
       "      <td>NaN</td>\n",
       "      <td>NaN</td>\n",
       "      <td>NaN</td>\n",
       "      <td>205.0000</td>\n",
       "      <td>NaN</td>\n",
       "      <td>152.0000</td>\n",
       "      <td>153.0000</td>\n",
       "    </tr>\n",
       "    <tr>\n",
       "      <th>3</th>\n",
       "      <td>4</td>\n",
       "      <td>NaN</td>\n",
       "      <td>NaN</td>\n",
       "      <td>NaN</td>\n",
       "      <td>81.0000</td>\n",
       "      <td>NaN</td>\n",
       "      <td>NaN</td>\n",
       "      <td>NaN</td>\n",
       "      <td>NaN</td>\n",
       "      <td>NaN</td>\n",
       "      <td>NaN</td>\n",
       "      <td>NaN</td>\n",
       "      <td>207.0000</td>\n",
       "      <td>NaN</td>\n",
       "      <td>153.0000</td>\n",
       "      <td>154.0000</td>\n",
       "    </tr>\n",
       "    <tr>\n",
       "      <th>4</th>\n",
       "      <td>5</td>\n",
       "      <td>NaN</td>\n",
       "      <td>NaN</td>\n",
       "      <td>NaN</td>\n",
       "      <td>78.0000</td>\n",
       "      <td>NaN</td>\n",
       "      <td>NaN</td>\n",
       "      <td>NaN</td>\n",
       "      <td>NaN</td>\n",
       "      <td>NaN</td>\n",
       "      <td>NaN</td>\n",
       "      <td>NaN</td>\n",
       "      <td>203.0000</td>\n",
       "      <td>NaN</td>\n",
       "      <td>151.0000</td>\n",
       "      <td>152.0000</td>\n",
       "    </tr>\n",
       "  </tbody>\n",
       "</table>\n",
       "</div>"
      ],
      "text/plain": [
       "   key  Bulk 1  Bulk 2  Bulk 3  Bulk 4  Bulk 5  Bulk 6  Bulk 7  Bulk 8  \\\n",
       "0    1     NaN     NaN     NaN 43.0000     NaN     NaN     NaN     NaN   \n",
       "1    2     NaN     NaN     NaN 73.0000     NaN     NaN     NaN     NaN   \n",
       "2    3     NaN     NaN     NaN 34.0000     NaN     NaN     NaN     NaN   \n",
       "3    4     NaN     NaN     NaN 81.0000     NaN     NaN     NaN     NaN   \n",
       "4    5     NaN     NaN     NaN 78.0000     NaN     NaN     NaN     NaN   \n",
       "\n",
       "   Bulk 9  Bulk 10  Bulk 11  Bulk 12  Bulk 13  Bulk 14  Bulk 15  \n",
       "0     NaN      NaN      NaN 206.0000      NaN 150.0000 154.0000  \n",
       "1     NaN      NaN      NaN 206.0000      NaN 149.0000 154.0000  \n",
       "2     NaN      NaN      NaN 205.0000      NaN 152.0000 153.0000  \n",
       "3     NaN      NaN      NaN 207.0000      NaN 153.0000 154.0000  \n",
       "4     NaN      NaN      NaN 203.0000      NaN 151.0000 152.0000  "
      ]
     },
     "metadata": {},
     "output_type": "display_data"
    },
    {
     "data": {
      "text/plain": [
       "None"
      ]
     },
     "metadata": {},
     "output_type": "display_data"
    },
    {
     "data": {
      "text/html": [
       "<div>\n",
       "<style scoped>\n",
       "    .dataframe tbody tr th:only-of-type {\n",
       "        vertical-align: middle;\n",
       "    }\n",
       "\n",
       "    .dataframe tbody tr th {\n",
       "        vertical-align: top;\n",
       "    }\n",
       "\n",
       "    .dataframe thead th {\n",
       "        text-align: right;\n",
       "    }\n",
       "</style>\n",
       "<table border=\"1\" class=\"dataframe\">\n",
       "  <thead>\n",
       "    <tr style=\"text-align: right;\">\n",
       "      <th></th>\n",
       "      <th>count</th>\n",
       "      <th>mean</th>\n",
       "      <th>std</th>\n",
       "      <th>min</th>\n",
       "      <th>25%</th>\n",
       "      <th>50%</th>\n",
       "      <th>75%</th>\n",
       "      <th>max</th>\n",
       "    </tr>\n",
       "  </thead>\n",
       "  <tbody>\n",
       "    <tr>\n",
       "      <th>key</th>\n",
       "      <td>3,129.0000</td>\n",
       "      <td>1,624.3835</td>\n",
       "      <td>933.3376</td>\n",
       "      <td>1.0000</td>\n",
       "      <td>816.0000</td>\n",
       "      <td>1,622.0000</td>\n",
       "      <td>2,431.0000</td>\n",
       "      <td>3,241.0000</td>\n",
       "    </tr>\n",
       "    <tr>\n",
       "      <th>Bulk 1</th>\n",
       "      <td>252.0000</td>\n",
       "      <td>39.2421</td>\n",
       "      <td>18.2777</td>\n",
       "      <td>10.0000</td>\n",
       "      <td>27.0000</td>\n",
       "      <td>31.0000</td>\n",
       "      <td>46.0000</td>\n",
       "      <td>185.0000</td>\n",
       "    </tr>\n",
       "    <tr>\n",
       "      <th>Bulk 2</th>\n",
       "      <td>22.0000</td>\n",
       "      <td>253.0455</td>\n",
       "      <td>21.1806</td>\n",
       "      <td>228.0000</td>\n",
       "      <td>242.0000</td>\n",
       "      <td>251.5000</td>\n",
       "      <td>257.7500</td>\n",
       "      <td>325.0000</td>\n",
       "    </tr>\n",
       "    <tr>\n",
       "      <th>Bulk 3</th>\n",
       "      <td>1,298.0000</td>\n",
       "      <td>113.8790</td>\n",
       "      <td>75.4835</td>\n",
       "      <td>6.0000</td>\n",
       "      <td>58.0000</td>\n",
       "      <td>97.5000</td>\n",
       "      <td>152.0000</td>\n",
       "      <td>454.0000</td>\n",
       "    </tr>\n",
       "    <tr>\n",
       "      <th>Bulk 4</th>\n",
       "      <td>1,014.0000</td>\n",
       "      <td>104.3945</td>\n",
       "      <td>48.1841</td>\n",
       "      <td>12.0000</td>\n",
       "      <td>72.0000</td>\n",
       "      <td>102.0000</td>\n",
       "      <td>133.0000</td>\n",
       "      <td>281.0000</td>\n",
       "    </tr>\n",
       "    <tr>\n",
       "      <th>Bulk 5</th>\n",
       "      <td>77.0000</td>\n",
       "      <td>107.0260</td>\n",
       "      <td>81.7906</td>\n",
       "      <td>11.0000</td>\n",
       "      <td>70.0000</td>\n",
       "      <td>86.0000</td>\n",
       "      <td>132.0000</td>\n",
       "      <td>603.0000</td>\n",
       "    </tr>\n",
       "    <tr>\n",
       "      <th>Bulk 6</th>\n",
       "      <td>576.0000</td>\n",
       "      <td>118.9253</td>\n",
       "      <td>72.0578</td>\n",
       "      <td>17.0000</td>\n",
       "      <td>69.7500</td>\n",
       "      <td>100.0000</td>\n",
       "      <td>157.0000</td>\n",
       "      <td>503.0000</td>\n",
       "    </tr>\n",
       "    <tr>\n",
       "      <th>Bulk 7</th>\n",
       "      <td>25.0000</td>\n",
       "      <td>305.6000</td>\n",
       "      <td>191.0229</td>\n",
       "      <td>47.0000</td>\n",
       "      <td>155.0000</td>\n",
       "      <td>298.0000</td>\n",
       "      <td>406.0000</td>\n",
       "      <td>772.0000</td>\n",
       "    </tr>\n",
       "    <tr>\n",
       "      <th>Bulk 8</th>\n",
       "      <td>1.0000</td>\n",
       "      <td>49.0000</td>\n",
       "      <td>NaN</td>\n",
       "      <td>49.0000</td>\n",
       "      <td>49.0000</td>\n",
       "      <td>49.0000</td>\n",
       "      <td>49.0000</td>\n",
       "      <td>49.0000</td>\n",
       "    </tr>\n",
       "    <tr>\n",
       "      <th>Bulk 9</th>\n",
       "      <td>19.0000</td>\n",
       "      <td>76.3158</td>\n",
       "      <td>21.7206</td>\n",
       "      <td>63.0000</td>\n",
       "      <td>66.0000</td>\n",
       "      <td>68.0000</td>\n",
       "      <td>70.5000</td>\n",
       "      <td>147.0000</td>\n",
       "    </tr>\n",
       "    <tr>\n",
       "      <th>Bulk 10</th>\n",
       "      <td>176.0000</td>\n",
       "      <td>83.2841</td>\n",
       "      <td>26.0603</td>\n",
       "      <td>24.0000</td>\n",
       "      <td>64.0000</td>\n",
       "      <td>86.5000</td>\n",
       "      <td>102.0000</td>\n",
       "      <td>159.0000</td>\n",
       "    </tr>\n",
       "    <tr>\n",
       "      <th>Bulk 11</th>\n",
       "      <td>177.0000</td>\n",
       "      <td>76.8192</td>\n",
       "      <td>59.6554</td>\n",
       "      <td>8.0000</td>\n",
       "      <td>25.0000</td>\n",
       "      <td>64.0000</td>\n",
       "      <td>106.0000</td>\n",
       "      <td>313.0000</td>\n",
       "    </tr>\n",
       "    <tr>\n",
       "      <th>Bulk 12</th>\n",
       "      <td>2,450.0000</td>\n",
       "      <td>260.4710</td>\n",
       "      <td>120.6493</td>\n",
       "      <td>53.0000</td>\n",
       "      <td>204.0000</td>\n",
       "      <td>208.0000</td>\n",
       "      <td>316.0000</td>\n",
       "      <td>1,849.0000</td>\n",
       "    </tr>\n",
       "    <tr>\n",
       "      <th>Bulk 13</th>\n",
       "      <td>18.0000</td>\n",
       "      <td>181.1111</td>\n",
       "      <td>46.0880</td>\n",
       "      <td>151.0000</td>\n",
       "      <td>153.2500</td>\n",
       "      <td>155.5000</td>\n",
       "      <td>203.5000</td>\n",
       "      <td>305.0000</td>\n",
       "    </tr>\n",
       "    <tr>\n",
       "      <th>Bulk 14</th>\n",
       "      <td>2,806.0000</td>\n",
       "      <td>170.2847</td>\n",
       "      <td>65.8687</td>\n",
       "      <td>16.0000</td>\n",
       "      <td>119.0000</td>\n",
       "      <td>151.0000</td>\n",
       "      <td>205.7500</td>\n",
       "      <td>636.0000</td>\n",
       "    </tr>\n",
       "    <tr>\n",
       "      <th>Bulk 15</th>\n",
       "      <td>2,248.0000</td>\n",
       "      <td>160.5133</td>\n",
       "      <td>51.7653</td>\n",
       "      <td>1.0000</td>\n",
       "      <td>105.0000</td>\n",
       "      <td>160.0000</td>\n",
       "      <td>205.0000</td>\n",
       "      <td>405.0000</td>\n",
       "    </tr>\n",
       "  </tbody>\n",
       "</table>\n",
       "</div>"
      ],
      "text/plain": [
       "             count       mean      std      min      25%        50%  \\\n",
       "key     3,129.0000 1,624.3835 933.3376   1.0000 816.0000 1,622.0000   \n",
       "Bulk 1    252.0000    39.2421  18.2777  10.0000  27.0000    31.0000   \n",
       "Bulk 2     22.0000   253.0455  21.1806 228.0000 242.0000   251.5000   \n",
       "Bulk 3  1,298.0000   113.8790  75.4835   6.0000  58.0000    97.5000   \n",
       "Bulk 4  1,014.0000   104.3945  48.1841  12.0000  72.0000   102.0000   \n",
       "Bulk 5     77.0000   107.0260  81.7906  11.0000  70.0000    86.0000   \n",
       "Bulk 6    576.0000   118.9253  72.0578  17.0000  69.7500   100.0000   \n",
       "Bulk 7     25.0000   305.6000 191.0229  47.0000 155.0000   298.0000   \n",
       "Bulk 8      1.0000    49.0000      NaN  49.0000  49.0000    49.0000   \n",
       "Bulk 9     19.0000    76.3158  21.7206  63.0000  66.0000    68.0000   \n",
       "Bulk 10   176.0000    83.2841  26.0603  24.0000  64.0000    86.5000   \n",
       "Bulk 11   177.0000    76.8192  59.6554   8.0000  25.0000    64.0000   \n",
       "Bulk 12 2,450.0000   260.4710 120.6493  53.0000 204.0000   208.0000   \n",
       "Bulk 13    18.0000   181.1111  46.0880 151.0000 153.2500   155.5000   \n",
       "Bulk 14 2,806.0000   170.2847  65.8687  16.0000 119.0000   151.0000   \n",
       "Bulk 15 2,248.0000   160.5133  51.7653   1.0000 105.0000   160.0000   \n",
       "\n",
       "               75%        max  \n",
       "key     2,431.0000 3,241.0000  \n",
       "Bulk 1     46.0000   185.0000  \n",
       "Bulk 2    257.7500   325.0000  \n",
       "Bulk 3    152.0000   454.0000  \n",
       "Bulk 4    133.0000   281.0000  \n",
       "Bulk 5    132.0000   603.0000  \n",
       "Bulk 6    157.0000   503.0000  \n",
       "Bulk 7    406.0000   772.0000  \n",
       "Bulk 8     49.0000    49.0000  \n",
       "Bulk 9     70.5000   147.0000  \n",
       "Bulk 10   102.0000   159.0000  \n",
       "Bulk 11   106.0000   313.0000  \n",
       "Bulk 12   316.0000 1,849.0000  \n",
       "Bulk 13   203.5000   305.0000  \n",
       "Bulk 14   205.7500   636.0000  \n",
       "Bulk 15   205.0000   405.0000  "
      ]
     },
     "metadata": {},
     "output_type": "display_data"
    },
    {
     "name": "stdout",
     "output_type": "stream",
     "text": [
      "Процент пропусков:\n",
      " Bulk 8    99.9680\n",
      "Bulk 13   99.4247\n",
      "Bulk 9    99.3928\n",
      "Bulk 2    99.2969\n",
      "Bulk 7    99.2010\n",
      "Bulk 5    97.5391\n",
      "Bulk 10   94.3752\n",
      "Bulk 11   94.3432\n",
      "Bulk 1    91.9463\n",
      "Bulk 6    81.5916\n",
      "Bulk 4    67.5935\n",
      "Bulk 3    58.5171\n",
      "Bulk 15   28.1560\n",
      "Bulk 12   21.7002\n",
      "Bulk 14   10.3228\n",
      "key        0.0000\n",
      "dtype: float64\n"
     ]
    }
   ],
   "source": [
    "get_info(data_bulk)"
   ]
  },
  {
   "cell_type": "markdown",
   "metadata": {
    "id": "j9HlbhrTB2FG"
   },
   "source": [
    "Здесь мы видим большое количество пропусков, скорее всего это говорит о том, что легирующие элементы не добавлялись, поэтому пропуски можно заменить нулями."
   ]
  },
  {
   "cell_type": "markdown",
   "metadata": {
    "id": "sGCztptdC1a7"
   },
   "source": [
    "#### Данные о подаче сыпучих материалов (время)"
   ]
  },
  {
   "cell_type": "code",
   "execution_count": null,
   "metadata": {
    "colab": {
     "base_uri": "https://localhost:8080/",
     "height": 1000
    },
    "id": "UNxsbwR_AuE0",
    "outputId": "40f288df-7514-47e7-8071-8b5189afad55"
   },
   "outputs": [
    {
     "name": "stdout",
     "output_type": "stream",
     "text": [
      "<class 'pandas.core.frame.DataFrame'>\n",
      "RangeIndex: 3129 entries, 0 to 3128\n",
      "Data columns (total 16 columns):\n",
      " #   Column   Non-Null Count  Dtype \n",
      "---  ------   --------------  ----- \n",
      " 0   key      3129 non-null   int64 \n",
      " 1   Bulk 1   252 non-null    object\n",
      " 2   Bulk 2   22 non-null     object\n",
      " 3   Bulk 3   1298 non-null   object\n",
      " 4   Bulk 4   1014 non-null   object\n",
      " 5   Bulk 5   77 non-null     object\n",
      " 6   Bulk 6   576 non-null    object\n",
      " 7   Bulk 7   25 non-null     object\n",
      " 8   Bulk 8   1 non-null      object\n",
      " 9   Bulk 9   19 non-null     object\n",
      " 10  Bulk 10  176 non-null    object\n",
      " 11  Bulk 11  177 non-null    object\n",
      " 12  Bulk 12  2450 non-null   object\n",
      " 13  Bulk 13  18 non-null     object\n",
      " 14  Bulk 14  2806 non-null   object\n",
      " 15  Bulk 15  2248 non-null   object\n",
      "dtypes: int64(1), object(15)\n",
      "memory usage: 391.2+ KB\n"
     ]
    },
    {
     "data": {
      "text/html": [
       "<div>\n",
       "<style scoped>\n",
       "    .dataframe tbody tr th:only-of-type {\n",
       "        vertical-align: middle;\n",
       "    }\n",
       "\n",
       "    .dataframe tbody tr th {\n",
       "        vertical-align: top;\n",
       "    }\n",
       "\n",
       "    .dataframe thead th {\n",
       "        text-align: right;\n",
       "    }\n",
       "</style>\n",
       "<table border=\"1\" class=\"dataframe\">\n",
       "  <thead>\n",
       "    <tr style=\"text-align: right;\">\n",
       "      <th></th>\n",
       "      <th>key</th>\n",
       "      <th>Bulk 1</th>\n",
       "      <th>Bulk 2</th>\n",
       "      <th>Bulk 3</th>\n",
       "      <th>Bulk 4</th>\n",
       "      <th>Bulk 5</th>\n",
       "      <th>Bulk 6</th>\n",
       "      <th>Bulk 7</th>\n",
       "      <th>Bulk 8</th>\n",
       "      <th>Bulk 9</th>\n",
       "      <th>Bulk 10</th>\n",
       "      <th>Bulk 11</th>\n",
       "      <th>Bulk 12</th>\n",
       "      <th>Bulk 13</th>\n",
       "      <th>Bulk 14</th>\n",
       "      <th>Bulk 15</th>\n",
       "    </tr>\n",
       "  </thead>\n",
       "  <tbody>\n",
       "    <tr>\n",
       "      <th>0</th>\n",
       "      <td>1</td>\n",
       "      <td>NaN</td>\n",
       "      <td>NaN</td>\n",
       "      <td>NaN</td>\n",
       "      <td>2019-05-03 11:21:30</td>\n",
       "      <td>NaN</td>\n",
       "      <td>NaN</td>\n",
       "      <td>NaN</td>\n",
       "      <td>NaN</td>\n",
       "      <td>NaN</td>\n",
       "      <td>NaN</td>\n",
       "      <td>NaN</td>\n",
       "      <td>2019-05-03 11:03:52</td>\n",
       "      <td>NaN</td>\n",
       "      <td>2019-05-03 11:03:52</td>\n",
       "      <td>2019-05-03 11:03:52</td>\n",
       "    </tr>\n",
       "    <tr>\n",
       "      <th>1</th>\n",
       "      <td>2</td>\n",
       "      <td>NaN</td>\n",
       "      <td>NaN</td>\n",
       "      <td>NaN</td>\n",
       "      <td>2019-05-03 11:46:38</td>\n",
       "      <td>NaN</td>\n",
       "      <td>NaN</td>\n",
       "      <td>NaN</td>\n",
       "      <td>NaN</td>\n",
       "      <td>NaN</td>\n",
       "      <td>NaN</td>\n",
       "      <td>NaN</td>\n",
       "      <td>2019-05-03 11:40:20</td>\n",
       "      <td>NaN</td>\n",
       "      <td>2019-05-03 11:40:20</td>\n",
       "      <td>2019-05-03 11:40:20</td>\n",
       "    </tr>\n",
       "    <tr>\n",
       "      <th>2</th>\n",
       "      <td>3</td>\n",
       "      <td>NaN</td>\n",
       "      <td>NaN</td>\n",
       "      <td>NaN</td>\n",
       "      <td>2019-05-03 12:31:06</td>\n",
       "      <td>NaN</td>\n",
       "      <td>NaN</td>\n",
       "      <td>NaN</td>\n",
       "      <td>NaN</td>\n",
       "      <td>NaN</td>\n",
       "      <td>NaN</td>\n",
       "      <td>NaN</td>\n",
       "      <td>2019-05-03 12:09:40</td>\n",
       "      <td>NaN</td>\n",
       "      <td>2019-05-03 12:09:40</td>\n",
       "      <td>2019-05-03 12:09:40</td>\n",
       "    </tr>\n",
       "    <tr>\n",
       "      <th>3</th>\n",
       "      <td>4</td>\n",
       "      <td>NaN</td>\n",
       "      <td>NaN</td>\n",
       "      <td>NaN</td>\n",
       "      <td>2019-05-03 12:48:43</td>\n",
       "      <td>NaN</td>\n",
       "      <td>NaN</td>\n",
       "      <td>NaN</td>\n",
       "      <td>NaN</td>\n",
       "      <td>NaN</td>\n",
       "      <td>NaN</td>\n",
       "      <td>NaN</td>\n",
       "      <td>2019-05-03 12:41:24</td>\n",
       "      <td>NaN</td>\n",
       "      <td>2019-05-03 12:41:24</td>\n",
       "      <td>2019-05-03 12:41:24</td>\n",
       "    </tr>\n",
       "    <tr>\n",
       "      <th>4</th>\n",
       "      <td>5</td>\n",
       "      <td>NaN</td>\n",
       "      <td>NaN</td>\n",
       "      <td>NaN</td>\n",
       "      <td>2019-05-03 13:18:50</td>\n",
       "      <td>NaN</td>\n",
       "      <td>NaN</td>\n",
       "      <td>NaN</td>\n",
       "      <td>NaN</td>\n",
       "      <td>NaN</td>\n",
       "      <td>NaN</td>\n",
       "      <td>NaN</td>\n",
       "      <td>2019-05-03 13:12:56</td>\n",
       "      <td>NaN</td>\n",
       "      <td>2019-05-03 13:12:56</td>\n",
       "      <td>2019-05-03 13:12:56</td>\n",
       "    </tr>\n",
       "  </tbody>\n",
       "</table>\n",
       "</div>"
      ],
      "text/plain": [
       "   key Bulk 1 Bulk 2 Bulk 3               Bulk 4 Bulk 5 Bulk 6 Bulk 7 Bulk 8  \\\n",
       "0    1    NaN    NaN    NaN  2019-05-03 11:21:30    NaN    NaN    NaN    NaN   \n",
       "1    2    NaN    NaN    NaN  2019-05-03 11:46:38    NaN    NaN    NaN    NaN   \n",
       "2    3    NaN    NaN    NaN  2019-05-03 12:31:06    NaN    NaN    NaN    NaN   \n",
       "3    4    NaN    NaN    NaN  2019-05-03 12:48:43    NaN    NaN    NaN    NaN   \n",
       "4    5    NaN    NaN    NaN  2019-05-03 13:18:50    NaN    NaN    NaN    NaN   \n",
       "\n",
       "  Bulk 9 Bulk 10 Bulk 11              Bulk 12 Bulk 13              Bulk 14  \\\n",
       "0    NaN     NaN     NaN  2019-05-03 11:03:52     NaN  2019-05-03 11:03:52   \n",
       "1    NaN     NaN     NaN  2019-05-03 11:40:20     NaN  2019-05-03 11:40:20   \n",
       "2    NaN     NaN     NaN  2019-05-03 12:09:40     NaN  2019-05-03 12:09:40   \n",
       "3    NaN     NaN     NaN  2019-05-03 12:41:24     NaN  2019-05-03 12:41:24   \n",
       "4    NaN     NaN     NaN  2019-05-03 13:12:56     NaN  2019-05-03 13:12:56   \n",
       "\n",
       "               Bulk 15  \n",
       "0  2019-05-03 11:03:52  \n",
       "1  2019-05-03 11:40:20  \n",
       "2  2019-05-03 12:09:40  \n",
       "3  2019-05-03 12:41:24  \n",
       "4  2019-05-03 13:12:56  "
      ]
     },
     "metadata": {},
     "output_type": "display_data"
    },
    {
     "data": {
      "text/plain": [
       "None"
      ]
     },
     "metadata": {},
     "output_type": "display_data"
    },
    {
     "data": {
      "text/html": [
       "<div>\n",
       "<style scoped>\n",
       "    .dataframe tbody tr th:only-of-type {\n",
       "        vertical-align: middle;\n",
       "    }\n",
       "\n",
       "    .dataframe tbody tr th {\n",
       "        vertical-align: top;\n",
       "    }\n",
       "\n",
       "    .dataframe thead th {\n",
       "        text-align: right;\n",
       "    }\n",
       "</style>\n",
       "<table border=\"1\" class=\"dataframe\">\n",
       "  <thead>\n",
       "    <tr style=\"text-align: right;\">\n",
       "      <th></th>\n",
       "      <th>count</th>\n",
       "      <th>unique</th>\n",
       "      <th>top</th>\n",
       "      <th>freq</th>\n",
       "      <th>mean</th>\n",
       "      <th>std</th>\n",
       "      <th>min</th>\n",
       "      <th>25%</th>\n",
       "      <th>50%</th>\n",
       "      <th>75%</th>\n",
       "      <th>max</th>\n",
       "    </tr>\n",
       "  </thead>\n",
       "  <tbody>\n",
       "    <tr>\n",
       "      <th>key</th>\n",
       "      <td>3,129.0000</td>\n",
       "      <td>NaN</td>\n",
       "      <td>NaN</td>\n",
       "      <td>NaN</td>\n",
       "      <td>1,624.3835</td>\n",
       "      <td>933.3376</td>\n",
       "      <td>1.0000</td>\n",
       "      <td>816.0000</td>\n",
       "      <td>1,622.0000</td>\n",
       "      <td>2,431.0000</td>\n",
       "      <td>3,241.0000</td>\n",
       "    </tr>\n",
       "    <tr>\n",
       "      <th>Bulk 1</th>\n",
       "      <td>252</td>\n",
       "      <td>252</td>\n",
       "      <td>2019-06-26 23:51:04</td>\n",
       "      <td>1</td>\n",
       "      <td>NaN</td>\n",
       "      <td>NaN</td>\n",
       "      <td>NaN</td>\n",
       "      <td>NaN</td>\n",
       "      <td>NaN</td>\n",
       "      <td>NaN</td>\n",
       "      <td>NaN</td>\n",
       "    </tr>\n",
       "    <tr>\n",
       "      <th>Bulk 2</th>\n",
       "      <td>22</td>\n",
       "      <td>22</td>\n",
       "      <td>2019-08-08 14:33:22</td>\n",
       "      <td>1</td>\n",
       "      <td>NaN</td>\n",
       "      <td>NaN</td>\n",
       "      <td>NaN</td>\n",
       "      <td>NaN</td>\n",
       "      <td>NaN</td>\n",
       "      <td>NaN</td>\n",
       "      <td>NaN</td>\n",
       "    </tr>\n",
       "    <tr>\n",
       "      <th>Bulk 3</th>\n",
       "      <td>1298</td>\n",
       "      <td>1298</td>\n",
       "      <td>2019-05-08 05:42:08</td>\n",
       "      <td>1</td>\n",
       "      <td>NaN</td>\n",
       "      <td>NaN</td>\n",
       "      <td>NaN</td>\n",
       "      <td>NaN</td>\n",
       "      <td>NaN</td>\n",
       "      <td>NaN</td>\n",
       "      <td>NaN</td>\n",
       "    </tr>\n",
       "    <tr>\n",
       "      <th>Bulk 4</th>\n",
       "      <td>1014</td>\n",
       "      <td>1014</td>\n",
       "      <td>2019-08-06 00:12:53</td>\n",
       "      <td>1</td>\n",
       "      <td>NaN</td>\n",
       "      <td>NaN</td>\n",
       "      <td>NaN</td>\n",
       "      <td>NaN</td>\n",
       "      <td>NaN</td>\n",
       "      <td>NaN</td>\n",
       "      <td>NaN</td>\n",
       "    </tr>\n",
       "    <tr>\n",
       "      <th>Bulk 5</th>\n",
       "      <td>77</td>\n",
       "      <td>77</td>\n",
       "      <td>2019-08-12 11:31:20</td>\n",
       "      <td>1</td>\n",
       "      <td>NaN</td>\n",
       "      <td>NaN</td>\n",
       "      <td>NaN</td>\n",
       "      <td>NaN</td>\n",
       "      <td>NaN</td>\n",
       "      <td>NaN</td>\n",
       "      <td>NaN</td>\n",
       "    </tr>\n",
       "    <tr>\n",
       "      <th>Bulk 6</th>\n",
       "      <td>576</td>\n",
       "      <td>576</td>\n",
       "      <td>2019-08-19 06:44:11</td>\n",
       "      <td>1</td>\n",
       "      <td>NaN</td>\n",
       "      <td>NaN</td>\n",
       "      <td>NaN</td>\n",
       "      <td>NaN</td>\n",
       "      <td>NaN</td>\n",
       "      <td>NaN</td>\n",
       "      <td>NaN</td>\n",
       "    </tr>\n",
       "    <tr>\n",
       "      <th>Bulk 7</th>\n",
       "      <td>25</td>\n",
       "      <td>25</td>\n",
       "      <td>2019-08-08 14:45:03</td>\n",
       "      <td>1</td>\n",
       "      <td>NaN</td>\n",
       "      <td>NaN</td>\n",
       "      <td>NaN</td>\n",
       "      <td>NaN</td>\n",
       "      <td>NaN</td>\n",
       "      <td>NaN</td>\n",
       "      <td>NaN</td>\n",
       "    </tr>\n",
       "    <tr>\n",
       "      <th>Bulk 8</th>\n",
       "      <td>1</td>\n",
       "      <td>1</td>\n",
       "      <td>2019-07-05 17:46:11</td>\n",
       "      <td>1</td>\n",
       "      <td>NaN</td>\n",
       "      <td>NaN</td>\n",
       "      <td>NaN</td>\n",
       "      <td>NaN</td>\n",
       "      <td>NaN</td>\n",
       "      <td>NaN</td>\n",
       "      <td>NaN</td>\n",
       "    </tr>\n",
       "    <tr>\n",
       "      <th>Bulk 9</th>\n",
       "      <td>19</td>\n",
       "      <td>19</td>\n",
       "      <td>2019-08-11 13:20:19</td>\n",
       "      <td>1</td>\n",
       "      <td>NaN</td>\n",
       "      <td>NaN</td>\n",
       "      <td>NaN</td>\n",
       "      <td>NaN</td>\n",
       "      <td>NaN</td>\n",
       "      <td>NaN</td>\n",
       "      <td>NaN</td>\n",
       "    </tr>\n",
       "    <tr>\n",
       "      <th>Bulk 10</th>\n",
       "      <td>176</td>\n",
       "      <td>176</td>\n",
       "      <td>2019-08-27 22:33:52</td>\n",
       "      <td>1</td>\n",
       "      <td>NaN</td>\n",
       "      <td>NaN</td>\n",
       "      <td>NaN</td>\n",
       "      <td>NaN</td>\n",
       "      <td>NaN</td>\n",
       "      <td>NaN</td>\n",
       "      <td>NaN</td>\n",
       "    </tr>\n",
       "    <tr>\n",
       "      <th>Bulk 11</th>\n",
       "      <td>177</td>\n",
       "      <td>177</td>\n",
       "      <td>2019-07-30 06:00:56</td>\n",
       "      <td>1</td>\n",
       "      <td>NaN</td>\n",
       "      <td>NaN</td>\n",
       "      <td>NaN</td>\n",
       "      <td>NaN</td>\n",
       "      <td>NaN</td>\n",
       "      <td>NaN</td>\n",
       "      <td>NaN</td>\n",
       "    </tr>\n",
       "    <tr>\n",
       "      <th>Bulk 12</th>\n",
       "      <td>2450</td>\n",
       "      <td>2450</td>\n",
       "      <td>2019-07-20 07:10:28</td>\n",
       "      <td>1</td>\n",
       "      <td>NaN</td>\n",
       "      <td>NaN</td>\n",
       "      <td>NaN</td>\n",
       "      <td>NaN</td>\n",
       "      <td>NaN</td>\n",
       "      <td>NaN</td>\n",
       "      <td>NaN</td>\n",
       "    </tr>\n",
       "    <tr>\n",
       "      <th>Bulk 13</th>\n",
       "      <td>18</td>\n",
       "      <td>18</td>\n",
       "      <td>2019-08-17 18:32:34</td>\n",
       "      <td>1</td>\n",
       "      <td>NaN</td>\n",
       "      <td>NaN</td>\n",
       "      <td>NaN</td>\n",
       "      <td>NaN</td>\n",
       "      <td>NaN</td>\n",
       "      <td>NaN</td>\n",
       "      <td>NaN</td>\n",
       "    </tr>\n",
       "    <tr>\n",
       "      <th>Bulk 14</th>\n",
       "      <td>2806</td>\n",
       "      <td>2806</td>\n",
       "      <td>2019-08-18 20:11:15</td>\n",
       "      <td>1</td>\n",
       "      <td>NaN</td>\n",
       "      <td>NaN</td>\n",
       "      <td>NaN</td>\n",
       "      <td>NaN</td>\n",
       "      <td>NaN</td>\n",
       "      <td>NaN</td>\n",
       "      <td>NaN</td>\n",
       "    </tr>\n",
       "    <tr>\n",
       "      <th>Bulk 15</th>\n",
       "      <td>2248</td>\n",
       "      <td>2248</td>\n",
       "      <td>2019-07-20 07:10:28</td>\n",
       "      <td>1</td>\n",
       "      <td>NaN</td>\n",
       "      <td>NaN</td>\n",
       "      <td>NaN</td>\n",
       "      <td>NaN</td>\n",
       "      <td>NaN</td>\n",
       "      <td>NaN</td>\n",
       "      <td>NaN</td>\n",
       "    </tr>\n",
       "  </tbody>\n",
       "</table>\n",
       "</div>"
      ],
      "text/plain": [
       "             count unique                  top freq       mean      std  \\\n",
       "key     3,129.0000    NaN                  NaN  NaN 1,624.3835 933.3376   \n",
       "Bulk 1         252    252  2019-06-26 23:51:04    1        NaN      NaN   \n",
       "Bulk 2          22     22  2019-08-08 14:33:22    1        NaN      NaN   \n",
       "Bulk 3        1298   1298  2019-05-08 05:42:08    1        NaN      NaN   \n",
       "Bulk 4        1014   1014  2019-08-06 00:12:53    1        NaN      NaN   \n",
       "Bulk 5          77     77  2019-08-12 11:31:20    1        NaN      NaN   \n",
       "Bulk 6         576    576  2019-08-19 06:44:11    1        NaN      NaN   \n",
       "Bulk 7          25     25  2019-08-08 14:45:03    1        NaN      NaN   \n",
       "Bulk 8           1      1  2019-07-05 17:46:11    1        NaN      NaN   \n",
       "Bulk 9          19     19  2019-08-11 13:20:19    1        NaN      NaN   \n",
       "Bulk 10        176    176  2019-08-27 22:33:52    1        NaN      NaN   \n",
       "Bulk 11        177    177  2019-07-30 06:00:56    1        NaN      NaN   \n",
       "Bulk 12       2450   2450  2019-07-20 07:10:28    1        NaN      NaN   \n",
       "Bulk 13         18     18  2019-08-17 18:32:34    1        NaN      NaN   \n",
       "Bulk 14       2806   2806  2019-08-18 20:11:15    1        NaN      NaN   \n",
       "Bulk 15       2248   2248  2019-07-20 07:10:28    1        NaN      NaN   \n",
       "\n",
       "           min      25%        50%        75%        max  \n",
       "key     1.0000 816.0000 1,622.0000 2,431.0000 3,241.0000  \n",
       "Bulk 1     NaN      NaN        NaN        NaN        NaN  \n",
       "Bulk 2     NaN      NaN        NaN        NaN        NaN  \n",
       "Bulk 3     NaN      NaN        NaN        NaN        NaN  \n",
       "Bulk 4     NaN      NaN        NaN        NaN        NaN  \n",
       "Bulk 5     NaN      NaN        NaN        NaN        NaN  \n",
       "Bulk 6     NaN      NaN        NaN        NaN        NaN  \n",
       "Bulk 7     NaN      NaN        NaN        NaN        NaN  \n",
       "Bulk 8     NaN      NaN        NaN        NaN        NaN  \n",
       "Bulk 9     NaN      NaN        NaN        NaN        NaN  \n",
       "Bulk 10    NaN      NaN        NaN        NaN        NaN  \n",
       "Bulk 11    NaN      NaN        NaN        NaN        NaN  \n",
       "Bulk 12    NaN      NaN        NaN        NaN        NaN  \n",
       "Bulk 13    NaN      NaN        NaN        NaN        NaN  \n",
       "Bulk 14    NaN      NaN        NaN        NaN        NaN  \n",
       "Bulk 15    NaN      NaN        NaN        NaN        NaN  "
      ]
     },
     "metadata": {},
     "output_type": "display_data"
    },
    {
     "name": "stdout",
     "output_type": "stream",
     "text": [
      "Процент пропусков:\n",
      " Bulk 8    99.9680\n",
      "Bulk 13   99.4247\n",
      "Bulk 9    99.3928\n",
      "Bulk 2    99.2969\n",
      "Bulk 7    99.2010\n",
      "Bulk 5    97.5391\n",
      "Bulk 10   94.3752\n",
      "Bulk 11   94.3432\n",
      "Bulk 1    91.9463\n",
      "Bulk 6    81.5916\n",
      "Bulk 4    67.5935\n",
      "Bulk 3    58.5171\n",
      "Bulk 15   28.1560\n",
      "Bulk 12   21.7002\n",
      "Bulk 14   10.3228\n",
      "key        0.0000\n",
      "dtype: float64\n"
     ]
    }
   ],
   "source": [
    "get_info(data_bulk_time)"
   ]
  },
  {
   "cell_type": "markdown",
   "metadata": {
    "id": "hNy__WxgDKSw"
   },
   "source": [
    "Здесь, как мы уже отметили ранее, пропущенные значения говорят о том легирующих элементов не добавлялось. Дату и время так же следует привести к правильному формату."
   ]
  },
  {
   "cell_type": "markdown",
   "metadata": {
    "id": "2YLxvmFKFIK4"
   },
   "source": [
    "#### Данные о продувке сплава газом"
   ]
  },
  {
   "cell_type": "code",
   "execution_count": null,
   "metadata": {
    "colab": {
     "base_uri": "https://localhost:8080/",
     "height": 544
    },
    "id": "p3fWCvpLDi5G",
    "outputId": "676ce1e8-3584-4f89-f29e-e4fe3eb71bfa"
   },
   "outputs": [
    {
     "name": "stdout",
     "output_type": "stream",
     "text": [
      "<class 'pandas.core.frame.DataFrame'>\n",
      "RangeIndex: 3239 entries, 0 to 3238\n",
      "Data columns (total 2 columns):\n",
      " #   Column  Non-Null Count  Dtype  \n",
      "---  ------  --------------  -----  \n",
      " 0   key     3239 non-null   int64  \n",
      " 1   Газ 1   3239 non-null   float64\n",
      "dtypes: float64(1), int64(1)\n",
      "memory usage: 50.7 KB\n"
     ]
    },
    {
     "data": {
      "text/html": [
       "<div>\n",
       "<style scoped>\n",
       "    .dataframe tbody tr th:only-of-type {\n",
       "        vertical-align: middle;\n",
       "    }\n",
       "\n",
       "    .dataframe tbody tr th {\n",
       "        vertical-align: top;\n",
       "    }\n",
       "\n",
       "    .dataframe thead th {\n",
       "        text-align: right;\n",
       "    }\n",
       "</style>\n",
       "<table border=\"1\" class=\"dataframe\">\n",
       "  <thead>\n",
       "    <tr style=\"text-align: right;\">\n",
       "      <th></th>\n",
       "      <th>key</th>\n",
       "      <th>Газ 1</th>\n",
       "    </tr>\n",
       "  </thead>\n",
       "  <tbody>\n",
       "    <tr>\n",
       "      <th>0</th>\n",
       "      <td>1</td>\n",
       "      <td>29.7500</td>\n",
       "    </tr>\n",
       "    <tr>\n",
       "      <th>1</th>\n",
       "      <td>2</td>\n",
       "      <td>12.5556</td>\n",
       "    </tr>\n",
       "    <tr>\n",
       "      <th>2</th>\n",
       "      <td>3</td>\n",
       "      <td>28.5548</td>\n",
       "    </tr>\n",
       "    <tr>\n",
       "      <th>3</th>\n",
       "      <td>4</td>\n",
       "      <td>18.8412</td>\n",
       "    </tr>\n",
       "    <tr>\n",
       "      <th>4</th>\n",
       "      <td>5</td>\n",
       "      <td>5.4137</td>\n",
       "    </tr>\n",
       "  </tbody>\n",
       "</table>\n",
       "</div>"
      ],
      "text/plain": [
       "   key   Газ 1\n",
       "0    1 29.7500\n",
       "1    2 12.5556\n",
       "2    3 28.5548\n",
       "3    4 18.8412\n",
       "4    5  5.4137"
      ]
     },
     "metadata": {},
     "output_type": "display_data"
    },
    {
     "data": {
      "text/plain": [
       "None"
      ]
     },
     "metadata": {},
     "output_type": "display_data"
    },
    {
     "data": {
      "text/html": [
       "<div>\n",
       "<style scoped>\n",
       "    .dataframe tbody tr th:only-of-type {\n",
       "        vertical-align: middle;\n",
       "    }\n",
       "\n",
       "    .dataframe tbody tr th {\n",
       "        vertical-align: top;\n",
       "    }\n",
       "\n",
       "    .dataframe thead th {\n",
       "        text-align: right;\n",
       "    }\n",
       "</style>\n",
       "<table border=\"1\" class=\"dataframe\">\n",
       "  <thead>\n",
       "    <tr style=\"text-align: right;\">\n",
       "      <th></th>\n",
       "      <th>count</th>\n",
       "      <th>mean</th>\n",
       "      <th>std</th>\n",
       "      <th>min</th>\n",
       "      <th>25%</th>\n",
       "      <th>50%</th>\n",
       "      <th>75%</th>\n",
       "      <th>max</th>\n",
       "    </tr>\n",
       "  </thead>\n",
       "  <tbody>\n",
       "    <tr>\n",
       "      <th>key</th>\n",
       "      <td>3,239.0000</td>\n",
       "      <td>1,621.8614</td>\n",
       "      <td>935.3863</td>\n",
       "      <td>1.0000</td>\n",
       "      <td>812.5000</td>\n",
       "      <td>1,622.0000</td>\n",
       "      <td>2,431.5000</td>\n",
       "      <td>3,241.0000</td>\n",
       "    </tr>\n",
       "    <tr>\n",
       "      <th>Газ 1</th>\n",
       "      <td>3,239.0000</td>\n",
       "      <td>11.0021</td>\n",
       "      <td>6.2203</td>\n",
       "      <td>0.0084</td>\n",
       "      <td>7.0431</td>\n",
       "      <td>9.8363</td>\n",
       "      <td>13.7699</td>\n",
       "      <td>77.9950</td>\n",
       "    </tr>\n",
       "  </tbody>\n",
       "</table>\n",
       "</div>"
      ],
      "text/plain": [
       "           count       mean      std    min      25%        50%        75%  \\\n",
       "key   3,239.0000 1,621.8614 935.3863 1.0000 812.5000 1,622.0000 2,431.5000   \n",
       "Газ 1 3,239.0000    11.0021   6.2203 0.0084   7.0431     9.8363    13.7699   \n",
       "\n",
       "             max  \n",
       "key   3,241.0000  \n",
       "Газ 1    77.9950  "
      ]
     },
     "metadata": {},
     "output_type": "display_data"
    },
    {
     "name": "stdout",
     "output_type": "stream",
     "text": [
      "Процент пропусков:\n",
      " key     0.0000\n",
      "Газ 1   0.0000\n",
      "dtype: float64\n"
     ]
    }
   ],
   "source": [
    "get_info(data_gas)"
   ]
  },
  {
   "cell_type": "code",
   "execution_count": null,
   "metadata": {
    "colab": {
     "base_uri": "https://localhost:8080/",
     "height": 667
    },
    "id": "_RfMFY3YFVMH",
    "outputId": "4edc4ca7-aee0-492a-800c-b5a4f67205da"
   },
   "outputs": [
    {
     "data": {
      "image/png": "[encoded data removed]",
      "text/plain": [
       "<Figure size 720x360 with 1 Axes>"
      ]
     },
     "metadata": {},
     "output_type": "display_data"
    },
    {
     "name": "stdout",
     "output_type": "stream",
     "text": [
      "\n"
     ]
    },
    {
     "data": {
      "image/png": "[encoded data removed]",
      "text/plain": [
       "<Figure size 720x360 with 1 Axes>"
      ]
     },
     "metadata": {},
     "output_type": "display_data"
    }
   ],
   "source": [
    "vizualize(data_gas, 'Газ 1')"
   ]
  },
  {
   "cell_type": "markdown",
   "metadata": {
    "id": "25DvFz-uZzIl"
   },
   "source": [
    "Посмотрим на пределы нормальных значений"
   ]
  },
  {
   "cell_type": "code",
   "execution_count": null,
   "metadata": {
    "colab": {
     "base_uri": "https://localhost:8080/"
    },
    "id": "1rL23UOPZz58",
    "outputId": "ca360f21-0826-41bd-cfef-0ac7cd11ad45"
   },
   "outputs": [
    {
     "name": "stdout",
     "output_type": "stream",
     "text": [
      "25% -  7.04308867105 75% -  13.7699154369\n",
      "Верхний порог 33.95039573445\n",
      "Кол-во партий с аномально большим объёмом 18\n"
     ]
    }
   ],
   "source": [
    "q25 = np.array(data_gas['Газ 1'].quantile(0.25))\n",
    "q75 = np.array(data_gas['Газ 1'].quantile(0.75))\n",
    "print('25% - ',q25, '75% - ', q75)\n",
    "print('Верхний порог', q75+3*(q75-q25))\n",
    "print('Кол-во партий с аномально большим объёмом', data_gas[data_gas['Газ 1'] > q75+3*(q75-q25)]['key'].count())"
   ]
  },
  {
   "cell_type": "markdown",
   "metadata": {
    "id": "BS5sqtqULl8i"
   },
   "source": [
    "Здесь можно выделить маленькие значения близкие к нулю и некотрые выбросы в большую сторону. Следуют уточнить как собираются эти данные, что бы понять природу таких значений. Нормальные значения расположены в диапазоне *7,04 - 13,77*. Верхний порог, за которым скорее всего расположены выбросы *33,95*, но не смотря на то что таких значений всего *18*, трогать их без согласования с заказчиком не будем. Так же следует уточнить как разделить имеющиеся данные по газу на кол-во итераций при легировании."
   ]
  },
  {
   "cell_type": "markdown",
   "metadata": {
    "id": "VDiJHlVKPExp"
   },
   "source": [
    "#### Результаты измерения температуры"
   ]
  },
  {
   "cell_type": "code",
   "execution_count": null,
   "metadata": {
    "colab": {
     "base_uri": "https://localhost:8080/",
     "height": 610
    },
    "id": "4elbSB1hL_Rr",
    "outputId": "67442858-53c5-4882-9cc1-0824fc23d276"
   },
   "outputs": [
    {
     "name": "stdout",
     "output_type": "stream",
     "text": [
      "<class 'pandas.core.frame.DataFrame'>\n",
      "RangeIndex: 15907 entries, 0 to 15906\n",
      "Data columns (total 3 columns):\n",
      " #   Column        Non-Null Count  Dtype  \n",
      "---  ------        --------------  -----  \n",
      " 0   key           15907 non-null  int64  \n",
      " 1   Время замера  15907 non-null  object \n",
      " 2   Температура   13006 non-null  float64\n",
      "dtypes: float64(1), int64(1), object(1)\n",
      "memory usage: 372.9+ KB\n"
     ]
    },
    {
     "data": {
      "text/html": [
       "<div>\n",
       "<style scoped>\n",
       "    .dataframe tbody tr th:only-of-type {\n",
       "        vertical-align: middle;\n",
       "    }\n",
       "\n",
       "    .dataframe tbody tr th {\n",
       "        vertical-align: top;\n",
       "    }\n",
       "\n",
       "    .dataframe thead th {\n",
       "        text-align: right;\n",
       "    }\n",
       "</style>\n",
       "<table border=\"1\" class=\"dataframe\">\n",
       "  <thead>\n",
       "    <tr style=\"text-align: right;\">\n",
       "      <th></th>\n",
       "      <th>key</th>\n",
       "      <th>Время замера</th>\n",
       "      <th>Температура</th>\n",
       "    </tr>\n",
       "  </thead>\n",
       "  <tbody>\n",
       "    <tr>\n",
       "      <th>0</th>\n",
       "      <td>1</td>\n",
       "      <td>2019-05-03 11:16:18</td>\n",
       "      <td>1,571.0000</td>\n",
       "    </tr>\n",
       "    <tr>\n",
       "      <th>1</th>\n",
       "      <td>1</td>\n",
       "      <td>2019-05-03 11:25:53</td>\n",
       "      <td>1,604.0000</td>\n",
       "    </tr>\n",
       "    <tr>\n",
       "      <th>2</th>\n",
       "      <td>1</td>\n",
       "      <td>2019-05-03 11:29:11</td>\n",
       "      <td>1,618.0000</td>\n",
       "    </tr>\n",
       "    <tr>\n",
       "      <th>3</th>\n",
       "      <td>1</td>\n",
       "      <td>2019-05-03 11:30:01</td>\n",
       "      <td>1,601.0000</td>\n",
       "    </tr>\n",
       "    <tr>\n",
       "      <th>4</th>\n",
       "      <td>1</td>\n",
       "      <td>2019-05-03 11:30:39</td>\n",
       "      <td>1,613.0000</td>\n",
       "    </tr>\n",
       "  </tbody>\n",
       "</table>\n",
       "</div>"
      ],
      "text/plain": [
       "   key         Время замера  Температура\n",
       "0    1  2019-05-03 11:16:18   1,571.0000\n",
       "1    1  2019-05-03 11:25:53   1,604.0000\n",
       "2    1  2019-05-03 11:29:11   1,618.0000\n",
       "3    1  2019-05-03 11:30:01   1,601.0000\n",
       "4    1  2019-05-03 11:30:39   1,613.0000"
      ]
     },
     "metadata": {},
     "output_type": "display_data"
    },
    {
     "data": {
      "text/plain": [
       "None"
      ]
     },
     "metadata": {},
     "output_type": "display_data"
    },
    {
     "data": {
      "text/html": [
       "<div>\n",
       "<style scoped>\n",
       "    .dataframe tbody tr th:only-of-type {\n",
       "        vertical-align: middle;\n",
       "    }\n",
       "\n",
       "    .dataframe tbody tr th {\n",
       "        vertical-align: top;\n",
       "    }\n",
       "\n",
       "    .dataframe thead th {\n",
       "        text-align: right;\n",
       "    }\n",
       "</style>\n",
       "<table border=\"1\" class=\"dataframe\">\n",
       "  <thead>\n",
       "    <tr style=\"text-align: right;\">\n",
       "      <th></th>\n",
       "      <th>count</th>\n",
       "      <th>unique</th>\n",
       "      <th>top</th>\n",
       "      <th>freq</th>\n",
       "      <th>mean</th>\n",
       "      <th>std</th>\n",
       "      <th>min</th>\n",
       "      <th>25%</th>\n",
       "      <th>50%</th>\n",
       "      <th>75%</th>\n",
       "      <th>max</th>\n",
       "    </tr>\n",
       "  </thead>\n",
       "  <tbody>\n",
       "    <tr>\n",
       "      <th>key</th>\n",
       "      <td>15,907.0000</td>\n",
       "      <td>NaN</td>\n",
       "      <td>NaN</td>\n",
       "      <td>NaN</td>\n",
       "      <td>1,607.8809</td>\n",
       "      <td>942.2121</td>\n",
       "      <td>1.0000</td>\n",
       "      <td>790.0000</td>\n",
       "      <td>1,618.0000</td>\n",
       "      <td>2,427.0000</td>\n",
       "      <td>3,241.0000</td>\n",
       "    </tr>\n",
       "    <tr>\n",
       "      <th>Время замера</th>\n",
       "      <td>15907</td>\n",
       "      <td>15907</td>\n",
       "      <td>2019-06-12 02:29:53</td>\n",
       "      <td>1</td>\n",
       "      <td>NaN</td>\n",
       "      <td>NaN</td>\n",
       "      <td>NaN</td>\n",
       "      <td>NaN</td>\n",
       "      <td>NaN</td>\n",
       "      <td>NaN</td>\n",
       "      <td>NaN</td>\n",
       "    </tr>\n",
       "    <tr>\n",
       "      <th>Температура</th>\n",
       "      <td>13,006.0000</td>\n",
       "      <td>NaN</td>\n",
       "      <td>NaN</td>\n",
       "      <td>NaN</td>\n",
       "      <td>1,591.8409</td>\n",
       "      <td>21.3759</td>\n",
       "      <td>1,191.0000</td>\n",
       "      <td>1,581.0000</td>\n",
       "      <td>1,591.0000</td>\n",
       "      <td>1,601.0000</td>\n",
       "      <td>1,705.0000</td>\n",
       "    </tr>\n",
       "  </tbody>\n",
       "</table>\n",
       "</div>"
      ],
      "text/plain": [
       "                   count unique                  top freq       mean      std  \\\n",
       "key          15,907.0000    NaN                  NaN  NaN 1,607.8809 942.2121   \n",
       "Время замера       15907  15907  2019-06-12 02:29:53    1        NaN      NaN   \n",
       "Температура  13,006.0000    NaN                  NaN  NaN 1,591.8409  21.3759   \n",
       "\n",
       "                    min        25%        50%        75%        max  \n",
       "key              1.0000   790.0000 1,618.0000 2,427.0000 3,241.0000  \n",
       "Время замера        NaN        NaN        NaN        NaN        NaN  \n",
       "Температура  1,191.0000 1,581.0000 1,591.0000 1,601.0000 1,705.0000  "
      ]
     },
     "metadata": {},
     "output_type": "display_data"
    },
    {
     "name": "stdout",
     "output_type": "stream",
     "text": [
      "Процент пропусков:\n",
      " Температура    18.2373\n",
      "key             0.0000\n",
      "Время замера    0.0000\n",
      "dtype: float64\n"
     ]
    }
   ],
   "source": [
    "get_info(data_temp)"
   ]
  },
  {
   "cell_type": "code",
   "execution_count": null,
   "metadata": {
    "colab": {
     "base_uri": "https://localhost:8080/",
     "height": 667
    },
    "id": "VhWL8wwfyqTx",
    "outputId": "41ec1ba9-5c90-4bb6-b04c-6c32676cca40"
   },
   "outputs": [
    {
     "data": {
      "image/png": "[encoded data removed]",
      "text/plain": [
       "<Figure size 720x360 with 1 Axes>"
      ]
     },
     "metadata": {},
     "output_type": "display_data"
    },
    {
     "name": "stdout",
     "output_type": "stream",
     "text": [
      "\n"
     ]
    },
    {
     "data": {
      "image/png": "[encoded data removed]",
      "text/plain": [
       "<Figure size 720x360 with 1 Axes>"
      ]
     },
     "metadata": {},
     "output_type": "display_data"
    }
   ],
   "source": [
    "vizualize(data_temp, 'Температура')"
   ]
  },
  {
   "cell_type": "markdown",
   "metadata": {
    "id": "J-zFv1QMSBMV"
   },
   "source": [
    "Здесь следует отметить наличие пропусков в значениях температуры 18,24% от всех данных. Есть выбросы в минимальную сторону, по паспорту минимальная температура 1400 градусов. Дату и время так же следует привести к праввильному формату."
   ]
  },
  {
   "cell_type": "markdown",
   "metadata": {
    "id": "UaGP3lvjS1g2"
   },
   "source": [
    "#### Данные о проволочных материалах (объём)"
   ]
  },
  {
   "cell_type": "code",
   "execution_count": null,
   "metadata": {
    "colab": {
     "base_uri": "https://localhost:8080/",
     "height": 1000
    },
    "id": "ka5hfqr6PRPT",
    "outputId": "398787aa-06d3-4cac-efdc-f00ba2a864e3"
   },
   "outputs": [
    {
     "name": "stdout",
     "output_type": "stream",
     "text": [
      "<class 'pandas.core.frame.DataFrame'>\n",
      "RangeIndex: 3081 entries, 0 to 3080\n",
      "Data columns (total 10 columns):\n",
      " #   Column  Non-Null Count  Dtype  \n",
      "---  ------  --------------  -----  \n",
      " 0   key     3081 non-null   int64  \n",
      " 1   Wire 1  3055 non-null   float64\n",
      " 2   Wire 2  1079 non-null   float64\n",
      " 3   Wire 3  63 non-null     float64\n",
      " 4   Wire 4  14 non-null     float64\n",
      " 5   Wire 5  1 non-null      float64\n",
      " 6   Wire 6  73 non-null     float64\n",
      " 7   Wire 7  11 non-null     float64\n",
      " 8   Wire 8  19 non-null     float64\n",
      " 9   Wire 9  29 non-null     float64\n",
      "dtypes: float64(9), int64(1)\n",
      "memory usage: 240.8 KB\n"
     ]
    },
    {
     "data": {
      "text/html": [
       "<div>\n",
       "<style scoped>\n",
       "    .dataframe tbody tr th:only-of-type {\n",
       "        vertical-align: middle;\n",
       "    }\n",
       "\n",
       "    .dataframe tbody tr th {\n",
       "        vertical-align: top;\n",
       "    }\n",
       "\n",
       "    .dataframe thead th {\n",
       "        text-align: right;\n",
       "    }\n",
       "</style>\n",
       "<table border=\"1\" class=\"dataframe\">\n",
       "  <thead>\n",
       "    <tr style=\"text-align: right;\">\n",
       "      <th></th>\n",
       "      <th>key</th>\n",
       "      <th>Wire 1</th>\n",
       "      <th>Wire 2</th>\n",
       "      <th>Wire 3</th>\n",
       "      <th>Wire 4</th>\n",
       "      <th>Wire 5</th>\n",
       "      <th>Wire 6</th>\n",
       "      <th>Wire 7</th>\n",
       "      <th>Wire 8</th>\n",
       "      <th>Wire 9</th>\n",
       "    </tr>\n",
       "  </thead>\n",
       "  <tbody>\n",
       "    <tr>\n",
       "      <th>0</th>\n",
       "      <td>1</td>\n",
       "      <td>60.0600</td>\n",
       "      <td>NaN</td>\n",
       "      <td>NaN</td>\n",
       "      <td>NaN</td>\n",
       "      <td>NaN</td>\n",
       "      <td>NaN</td>\n",
       "      <td>NaN</td>\n",
       "      <td>NaN</td>\n",
       "      <td>NaN</td>\n",
       "    </tr>\n",
       "    <tr>\n",
       "      <th>1</th>\n",
       "      <td>2</td>\n",
       "      <td>96.0523</td>\n",
       "      <td>NaN</td>\n",
       "      <td>NaN</td>\n",
       "      <td>NaN</td>\n",
       "      <td>NaN</td>\n",
       "      <td>NaN</td>\n",
       "      <td>NaN</td>\n",
       "      <td>NaN</td>\n",
       "      <td>NaN</td>\n",
       "    </tr>\n",
       "    <tr>\n",
       "      <th>2</th>\n",
       "      <td>3</td>\n",
       "      <td>91.1602</td>\n",
       "      <td>NaN</td>\n",
       "      <td>NaN</td>\n",
       "      <td>NaN</td>\n",
       "      <td>NaN</td>\n",
       "      <td>NaN</td>\n",
       "      <td>NaN</td>\n",
       "      <td>NaN</td>\n",
       "      <td>NaN</td>\n",
       "    </tr>\n",
       "    <tr>\n",
       "      <th>3</th>\n",
       "      <td>4</td>\n",
       "      <td>89.0635</td>\n",
       "      <td>NaN</td>\n",
       "      <td>NaN</td>\n",
       "      <td>NaN</td>\n",
       "      <td>NaN</td>\n",
       "      <td>NaN</td>\n",
       "      <td>NaN</td>\n",
       "      <td>NaN</td>\n",
       "      <td>NaN</td>\n",
       "    </tr>\n",
       "    <tr>\n",
       "      <th>4</th>\n",
       "      <td>5</td>\n",
       "      <td>89.2382</td>\n",
       "      <td>9.1146</td>\n",
       "      <td>NaN</td>\n",
       "      <td>NaN</td>\n",
       "      <td>NaN</td>\n",
       "      <td>NaN</td>\n",
       "      <td>NaN</td>\n",
       "      <td>NaN</td>\n",
       "      <td>NaN</td>\n",
       "    </tr>\n",
       "  </tbody>\n",
       "</table>\n",
       "</div>"
      ],
      "text/plain": [
       "   key  Wire 1  Wire 2  Wire 3  Wire 4  Wire 5  Wire 6  Wire 7  Wire 8  Wire 9\n",
       "0    1 60.0600     NaN     NaN     NaN     NaN     NaN     NaN     NaN     NaN\n",
       "1    2 96.0523     NaN     NaN     NaN     NaN     NaN     NaN     NaN     NaN\n",
       "2    3 91.1602     NaN     NaN     NaN     NaN     NaN     NaN     NaN     NaN\n",
       "3    4 89.0635     NaN     NaN     NaN     NaN     NaN     NaN     NaN     NaN\n",
       "4    5 89.2382  9.1146     NaN     NaN     NaN     NaN     NaN     NaN     NaN"
      ]
     },
     "metadata": {},
     "output_type": "display_data"
    },
    {
     "data": {
      "text/plain": [
       "None"
      ]
     },
     "metadata": {},
     "output_type": "display_data"
    },
    {
     "data": {
      "text/html": [
       "<div>\n",
       "<style scoped>\n",
       "    .dataframe tbody tr th:only-of-type {\n",
       "        vertical-align: middle;\n",
       "    }\n",
       "\n",
       "    .dataframe tbody tr th {\n",
       "        vertical-align: top;\n",
       "    }\n",
       "\n",
       "    .dataframe thead th {\n",
       "        text-align: right;\n",
       "    }\n",
       "</style>\n",
       "<table border=\"1\" class=\"dataframe\">\n",
       "  <thead>\n",
       "    <tr style=\"text-align: right;\">\n",
       "      <th></th>\n",
       "      <th>count</th>\n",
       "      <th>mean</th>\n",
       "      <th>std</th>\n",
       "      <th>min</th>\n",
       "      <th>25%</th>\n",
       "      <th>50%</th>\n",
       "      <th>75%</th>\n",
       "      <th>max</th>\n",
       "    </tr>\n",
       "  </thead>\n",
       "  <tbody>\n",
       "    <tr>\n",
       "      <th>key</th>\n",
       "      <td>3,081.0000</td>\n",
       "      <td>1,623.4265</td>\n",
       "      <td>932.9967</td>\n",
       "      <td>1.0000</td>\n",
       "      <td>823.0000</td>\n",
       "      <td>1,619.0000</td>\n",
       "      <td>2,434.0000</td>\n",
       "      <td>3,241.0000</td>\n",
       "    </tr>\n",
       "    <tr>\n",
       "      <th>Wire 1</th>\n",
       "      <td>3,055.0000</td>\n",
       "      <td>100.8959</td>\n",
       "      <td>42.0125</td>\n",
       "      <td>1.9188</td>\n",
       "      <td>72.1157</td>\n",
       "      <td>100.1582</td>\n",
       "      <td>126.0605</td>\n",
       "      <td>330.3144</td>\n",
       "    </tr>\n",
       "    <tr>\n",
       "      <th>Wire 2</th>\n",
       "      <td>1,079.0000</td>\n",
       "      <td>50.5773</td>\n",
       "      <td>39.3202</td>\n",
       "      <td>0.0302</td>\n",
       "      <td>20.1937</td>\n",
       "      <td>40.1430</td>\n",
       "      <td>70.2276</td>\n",
       "      <td>282.7802</td>\n",
       "    </tr>\n",
       "    <tr>\n",
       "      <th>Wire 3</th>\n",
       "      <td>63.0000</td>\n",
       "      <td>189.4827</td>\n",
       "      <td>99.5134</td>\n",
       "      <td>0.1441</td>\n",
       "      <td>95.1350</td>\n",
       "      <td>235.1950</td>\n",
       "      <td>276.2520</td>\n",
       "      <td>385.0087</td>\n",
       "    </tr>\n",
       "    <tr>\n",
       "      <th>Wire 4</th>\n",
       "      <td>14.0000</td>\n",
       "      <td>57.4428</td>\n",
       "      <td>28.8247</td>\n",
       "      <td>24.1488</td>\n",
       "      <td>40.8070</td>\n",
       "      <td>45.2343</td>\n",
       "      <td>76.1246</td>\n",
       "      <td>113.2310</td>\n",
       "    </tr>\n",
       "    <tr>\n",
       "      <th>Wire 5</th>\n",
       "      <td>1.0000</td>\n",
       "      <td>15.1320</td>\n",
       "      <td>NaN</td>\n",
       "      <td>15.1320</td>\n",
       "      <td>15.1320</td>\n",
       "      <td>15.1320</td>\n",
       "      <td>15.1320</td>\n",
       "      <td>15.1320</td>\n",
       "    </tr>\n",
       "    <tr>\n",
       "      <th>Wire 6</th>\n",
       "      <td>73.0000</td>\n",
       "      <td>48.0170</td>\n",
       "      <td>33.9198</td>\n",
       "      <td>0.0343</td>\n",
       "      <td>25.0536</td>\n",
       "      <td>42.0763</td>\n",
       "      <td>64.2127</td>\n",
       "      <td>180.4546</td>\n",
       "    </tr>\n",
       "    <tr>\n",
       "      <th>Wire 7</th>\n",
       "      <td>11.0000</td>\n",
       "      <td>10.0390</td>\n",
       "      <td>8.6106</td>\n",
       "      <td>0.2342</td>\n",
       "      <td>6.7628</td>\n",
       "      <td>9.0170</td>\n",
       "      <td>11.8861</td>\n",
       "      <td>32.8477</td>\n",
       "    </tr>\n",
       "    <tr>\n",
       "      <th>Wire 8</th>\n",
       "      <td>19.0000</td>\n",
       "      <td>53.6252</td>\n",
       "      <td>16.8817</td>\n",
       "      <td>45.0767</td>\n",
       "      <td>46.0949</td>\n",
       "      <td>46.2800</td>\n",
       "      <td>48.0896</td>\n",
       "      <td>102.7624</td>\n",
       "    </tr>\n",
       "    <tr>\n",
       "      <th>Wire 9</th>\n",
       "      <td>29.0000</td>\n",
       "      <td>34.1558</td>\n",
       "      <td>19.9316</td>\n",
       "      <td>4.6228</td>\n",
       "      <td>22.0584</td>\n",
       "      <td>30.0664</td>\n",
       "      <td>43.8620</td>\n",
       "      <td>90.0536</td>\n",
       "    </tr>\n",
       "  </tbody>\n",
       "</table>\n",
       "</div>"
      ],
      "text/plain": [
       "            count       mean      std     min      25%        50%        75%  \\\n",
       "key    3,081.0000 1,623.4265 932.9967  1.0000 823.0000 1,619.0000 2,434.0000   \n",
       "Wire 1 3,055.0000   100.8959  42.0125  1.9188  72.1157   100.1582   126.0605   \n",
       "Wire 2 1,079.0000    50.5773  39.3202  0.0302  20.1937    40.1430    70.2276   \n",
       "Wire 3    63.0000   189.4827  99.5134  0.1441  95.1350   235.1950   276.2520   \n",
       "Wire 4    14.0000    57.4428  28.8247 24.1488  40.8070    45.2343    76.1246   \n",
       "Wire 5     1.0000    15.1320      NaN 15.1320  15.1320    15.1320    15.1320   \n",
       "Wire 6    73.0000    48.0170  33.9198  0.0343  25.0536    42.0763    64.2127   \n",
       "Wire 7    11.0000    10.0390   8.6106  0.2342   6.7628     9.0170    11.8861   \n",
       "Wire 8    19.0000    53.6252  16.8817 45.0767  46.0949    46.2800    48.0896   \n",
       "Wire 9    29.0000    34.1558  19.9316  4.6228  22.0584    30.0664    43.8620   \n",
       "\n",
       "              max  \n",
       "key    3,241.0000  \n",
       "Wire 1   330.3144  \n",
       "Wire 2   282.7802  \n",
       "Wire 3   385.0087  \n",
       "Wire 4   113.2310  \n",
       "Wire 5    15.1320  \n",
       "Wire 6   180.4546  \n",
       "Wire 7    32.8477  \n",
       "Wire 8   102.7624  \n",
       "Wire 9    90.0536  "
      ]
     },
     "metadata": {},
     "output_type": "display_data"
    },
    {
     "name": "stdout",
     "output_type": "stream",
     "text": [
      "Процент пропусков:\n",
      " Wire 5   99.9675\n",
      "Wire 7   99.6430\n",
      "Wire 4   99.5456\n",
      "Wire 8   99.3833\n",
      "Wire 9   99.0587\n",
      "Wire 3   97.9552\n",
      "Wire 6   97.6306\n",
      "Wire 2   64.9789\n",
      "Wire 1    0.8439\n",
      "key       0.0000\n",
      "dtype: float64\n"
     ]
    }
   ],
   "source": [
    "get_info(data_wire)"
   ]
  },
  {
   "cell_type": "markdown",
   "metadata": {
    "id": "mq3r196sTvN_"
   },
   "source": [
    "Здесь не видно ничего подозрительного, стоит только отметить что проволка первого типа добавляется практически в 99% случаях. Пропущенные значения можно заменить нулями."
   ]
  },
  {
   "cell_type": "markdown",
   "metadata": {
    "id": "qfhv2naaUeJH"
   },
   "source": [
    "#### Данные о проволочных материалах (время)"
   ]
  },
  {
   "cell_type": "code",
   "execution_count": null,
   "metadata": {
    "colab": {
     "base_uri": "https://localhost:8080/",
     "height": 1000
    },
    "id": "-_O4ZTzFTjlx",
    "outputId": "d75a5628-7ab5-4780-d8e1-a69a6bad975b"
   },
   "outputs": [
    {
     "name": "stdout",
     "output_type": "stream",
     "text": [
      "<class 'pandas.core.frame.DataFrame'>\n",
      "RangeIndex: 3081 entries, 0 to 3080\n",
      "Data columns (total 10 columns):\n",
      " #   Column  Non-Null Count  Dtype \n",
      "---  ------  --------------  ----- \n",
      " 0   key     3081 non-null   int64 \n",
      " 1   Wire 1  3055 non-null   object\n",
      " 2   Wire 2  1079 non-null   object\n",
      " 3   Wire 3  63 non-null     object\n",
      " 4   Wire 4  14 non-null     object\n",
      " 5   Wire 5  1 non-null      object\n",
      " 6   Wire 6  73 non-null     object\n",
      " 7   Wire 7  11 non-null     object\n",
      " 8   Wire 8  19 non-null     object\n",
      " 9   Wire 9  29 non-null     object\n",
      "dtypes: int64(1), object(9)\n",
      "memory usage: 240.8+ KB\n"
     ]
    },
    {
     "data": {
      "text/html": [
       "<div>\n",
       "<style scoped>\n",
       "    .dataframe tbody tr th:only-of-type {\n",
       "        vertical-align: middle;\n",
       "    }\n",
       "\n",
       "    .dataframe tbody tr th {\n",
       "        vertical-align: top;\n",
       "    }\n",
       "\n",
       "    .dataframe thead th {\n",
       "        text-align: right;\n",
       "    }\n",
       "</style>\n",
       "<table border=\"1\" class=\"dataframe\">\n",
       "  <thead>\n",
       "    <tr style=\"text-align: right;\">\n",
       "      <th></th>\n",
       "      <th>key</th>\n",
       "      <th>Wire 1</th>\n",
       "      <th>Wire 2</th>\n",
       "      <th>Wire 3</th>\n",
       "      <th>Wire 4</th>\n",
       "      <th>Wire 5</th>\n",
       "      <th>Wire 6</th>\n",
       "      <th>Wire 7</th>\n",
       "      <th>Wire 8</th>\n",
       "      <th>Wire 9</th>\n",
       "    </tr>\n",
       "  </thead>\n",
       "  <tbody>\n",
       "    <tr>\n",
       "      <th>0</th>\n",
       "      <td>1</td>\n",
       "      <td>2019-05-03 11:11:41</td>\n",
       "      <td>NaN</td>\n",
       "      <td>NaN</td>\n",
       "      <td>NaN</td>\n",
       "      <td>NaN</td>\n",
       "      <td>NaN</td>\n",
       "      <td>NaN</td>\n",
       "      <td>NaN</td>\n",
       "      <td>NaN</td>\n",
       "    </tr>\n",
       "    <tr>\n",
       "      <th>1</th>\n",
       "      <td>2</td>\n",
       "      <td>2019-05-03 11:46:10</td>\n",
       "      <td>NaN</td>\n",
       "      <td>NaN</td>\n",
       "      <td>NaN</td>\n",
       "      <td>NaN</td>\n",
       "      <td>NaN</td>\n",
       "      <td>NaN</td>\n",
       "      <td>NaN</td>\n",
       "      <td>NaN</td>\n",
       "    </tr>\n",
       "    <tr>\n",
       "      <th>2</th>\n",
       "      <td>3</td>\n",
       "      <td>2019-05-03 12:13:47</td>\n",
       "      <td>NaN</td>\n",
       "      <td>NaN</td>\n",
       "      <td>NaN</td>\n",
       "      <td>NaN</td>\n",
       "      <td>NaN</td>\n",
       "      <td>NaN</td>\n",
       "      <td>NaN</td>\n",
       "      <td>NaN</td>\n",
       "    </tr>\n",
       "    <tr>\n",
       "      <th>3</th>\n",
       "      <td>4</td>\n",
       "      <td>2019-05-03 12:48:05</td>\n",
       "      <td>NaN</td>\n",
       "      <td>NaN</td>\n",
       "      <td>NaN</td>\n",
       "      <td>NaN</td>\n",
       "      <td>NaN</td>\n",
       "      <td>NaN</td>\n",
       "      <td>NaN</td>\n",
       "      <td>NaN</td>\n",
       "    </tr>\n",
       "    <tr>\n",
       "      <th>4</th>\n",
       "      <td>5</td>\n",
       "      <td>2019-05-03 13:18:15</td>\n",
       "      <td>2019-05-03 13:32:06</td>\n",
       "      <td>NaN</td>\n",
       "      <td>NaN</td>\n",
       "      <td>NaN</td>\n",
       "      <td>NaN</td>\n",
       "      <td>NaN</td>\n",
       "      <td>NaN</td>\n",
       "      <td>NaN</td>\n",
       "    </tr>\n",
       "  </tbody>\n",
       "</table>\n",
       "</div>"
      ],
      "text/plain": [
       "   key               Wire 1               Wire 2 Wire 3 Wire 4 Wire 5 Wire 6  \\\n",
       "0    1  2019-05-03 11:11:41                  NaN    NaN    NaN    NaN    NaN   \n",
       "1    2  2019-05-03 11:46:10                  NaN    NaN    NaN    NaN    NaN   \n",
       "2    3  2019-05-03 12:13:47                  NaN    NaN    NaN    NaN    NaN   \n",
       "3    4  2019-05-03 12:48:05                  NaN    NaN    NaN    NaN    NaN   \n",
       "4    5  2019-05-03 13:18:15  2019-05-03 13:32:06    NaN    NaN    NaN    NaN   \n",
       "\n",
       "  Wire 7 Wire 8 Wire 9  \n",
       "0    NaN    NaN    NaN  \n",
       "1    NaN    NaN    NaN  \n",
       "2    NaN    NaN    NaN  \n",
       "3    NaN    NaN    NaN  \n",
       "4    NaN    NaN    NaN  "
      ]
     },
     "metadata": {},
     "output_type": "display_data"
    },
    {
     "data": {
      "text/plain": [
       "None"
      ]
     },
     "metadata": {},
     "output_type": "display_data"
    },
    {
     "data": {
      "text/html": [
       "<div>\n",
       "<style scoped>\n",
       "    .dataframe tbody tr th:only-of-type {\n",
       "        vertical-align: middle;\n",
       "    }\n",
       "\n",
       "    .dataframe tbody tr th {\n",
       "        vertical-align: top;\n",
       "    }\n",
       "\n",
       "    .dataframe thead th {\n",
       "        text-align: right;\n",
       "    }\n",
       "</style>\n",
       "<table border=\"1\" class=\"dataframe\">\n",
       "  <thead>\n",
       "    <tr style=\"text-align: right;\">\n",
       "      <th></th>\n",
       "      <th>count</th>\n",
       "      <th>unique</th>\n",
       "      <th>top</th>\n",
       "      <th>freq</th>\n",
       "      <th>mean</th>\n",
       "      <th>std</th>\n",
       "      <th>min</th>\n",
       "      <th>25%</th>\n",
       "      <th>50%</th>\n",
       "      <th>75%</th>\n",
       "      <th>max</th>\n",
       "    </tr>\n",
       "  </thead>\n",
       "  <tbody>\n",
       "    <tr>\n",
       "      <th>key</th>\n",
       "      <td>3,081.0000</td>\n",
       "      <td>NaN</td>\n",
       "      <td>NaN</td>\n",
       "      <td>NaN</td>\n",
       "      <td>1,623.4265</td>\n",
       "      <td>932.9967</td>\n",
       "      <td>1.0000</td>\n",
       "      <td>823.0000</td>\n",
       "      <td>1,619.0000</td>\n",
       "      <td>2,434.0000</td>\n",
       "      <td>3,241.0000</td>\n",
       "    </tr>\n",
       "    <tr>\n",
       "      <th>Wire 1</th>\n",
       "      <td>3055</td>\n",
       "      <td>3055</td>\n",
       "      <td>2019-05-25 02:06:31</td>\n",
       "      <td>1</td>\n",
       "      <td>NaN</td>\n",
       "      <td>NaN</td>\n",
       "      <td>NaN</td>\n",
       "      <td>NaN</td>\n",
       "      <td>NaN</td>\n",
       "      <td>NaN</td>\n",
       "      <td>NaN</td>\n",
       "    </tr>\n",
       "    <tr>\n",
       "      <th>Wire 2</th>\n",
       "      <td>1079</td>\n",
       "      <td>1079</td>\n",
       "      <td>2019-06-04 06:29:52</td>\n",
       "      <td>1</td>\n",
       "      <td>NaN</td>\n",
       "      <td>NaN</td>\n",
       "      <td>NaN</td>\n",
       "      <td>NaN</td>\n",
       "      <td>NaN</td>\n",
       "      <td>NaN</td>\n",
       "      <td>NaN</td>\n",
       "    </tr>\n",
       "    <tr>\n",
       "      <th>Wire 3</th>\n",
       "      <td>63</td>\n",
       "      <td>63</td>\n",
       "      <td>2019-06-12 01:29:02</td>\n",
       "      <td>1</td>\n",
       "      <td>NaN</td>\n",
       "      <td>NaN</td>\n",
       "      <td>NaN</td>\n",
       "      <td>NaN</td>\n",
       "      <td>NaN</td>\n",
       "      <td>NaN</td>\n",
       "      <td>NaN</td>\n",
       "    </tr>\n",
       "    <tr>\n",
       "      <th>Wire 4</th>\n",
       "      <td>14</td>\n",
       "      <td>14</td>\n",
       "      <td>2019-07-17 11:25:32</td>\n",
       "      <td>1</td>\n",
       "      <td>NaN</td>\n",
       "      <td>NaN</td>\n",
       "      <td>NaN</td>\n",
       "      <td>NaN</td>\n",
       "      <td>NaN</td>\n",
       "      <td>NaN</td>\n",
       "      <td>NaN</td>\n",
       "    </tr>\n",
       "    <tr>\n",
       "      <th>Wire 5</th>\n",
       "      <td>1</td>\n",
       "      <td>1</td>\n",
       "      <td>2019-08-08 16:01:07</td>\n",
       "      <td>1</td>\n",
       "      <td>NaN</td>\n",
       "      <td>NaN</td>\n",
       "      <td>NaN</td>\n",
       "      <td>NaN</td>\n",
       "      <td>NaN</td>\n",
       "      <td>NaN</td>\n",
       "      <td>NaN</td>\n",
       "    </tr>\n",
       "    <tr>\n",
       "      <th>Wire 6</th>\n",
       "      <td>73</td>\n",
       "      <td>73</td>\n",
       "      <td>2019-05-07 11:38:44</td>\n",
       "      <td>1</td>\n",
       "      <td>NaN</td>\n",
       "      <td>NaN</td>\n",
       "      <td>NaN</td>\n",
       "      <td>NaN</td>\n",
       "      <td>NaN</td>\n",
       "      <td>NaN</td>\n",
       "      <td>NaN</td>\n",
       "    </tr>\n",
       "    <tr>\n",
       "      <th>Wire 7</th>\n",
       "      <td>11</td>\n",
       "      <td>11</td>\n",
       "      <td>2019-07-23 12:08:44</td>\n",
       "      <td>1</td>\n",
       "      <td>NaN</td>\n",
       "      <td>NaN</td>\n",
       "      <td>NaN</td>\n",
       "      <td>NaN</td>\n",
       "      <td>NaN</td>\n",
       "      <td>NaN</td>\n",
       "      <td>NaN</td>\n",
       "    </tr>\n",
       "    <tr>\n",
       "      <th>Wire 8</th>\n",
       "      <td>19</td>\n",
       "      <td>19</td>\n",
       "      <td>2019-05-14 01:08:35</td>\n",
       "      <td>1</td>\n",
       "      <td>NaN</td>\n",
       "      <td>NaN</td>\n",
       "      <td>NaN</td>\n",
       "      <td>NaN</td>\n",
       "      <td>NaN</td>\n",
       "      <td>NaN</td>\n",
       "      <td>NaN</td>\n",
       "    </tr>\n",
       "    <tr>\n",
       "      <th>Wire 9</th>\n",
       "      <td>29</td>\n",
       "      <td>29</td>\n",
       "      <td>2019-06-01 02:25:26</td>\n",
       "      <td>1</td>\n",
       "      <td>NaN</td>\n",
       "      <td>NaN</td>\n",
       "      <td>NaN</td>\n",
       "      <td>NaN</td>\n",
       "      <td>NaN</td>\n",
       "      <td>NaN</td>\n",
       "      <td>NaN</td>\n",
       "    </tr>\n",
       "  </tbody>\n",
       "</table>\n",
       "</div>"
      ],
      "text/plain": [
       "            count unique                  top freq       mean      std    min  \\\n",
       "key    3,081.0000    NaN                  NaN  NaN 1,623.4265 932.9967 1.0000   \n",
       "Wire 1       3055   3055  2019-05-25 02:06:31    1        NaN      NaN    NaN   \n",
       "Wire 2       1079   1079  2019-06-04 06:29:52    1        NaN      NaN    NaN   \n",
       "Wire 3         63     63  2019-06-12 01:29:02    1        NaN      NaN    NaN   \n",
       "Wire 4         14     14  2019-07-17 11:25:32    1        NaN      NaN    NaN   \n",
       "Wire 5          1      1  2019-08-08 16:01:07    1        NaN      NaN    NaN   \n",
       "Wire 6         73     73  2019-05-07 11:38:44    1        NaN      NaN    NaN   \n",
       "Wire 7         11     11  2019-07-23 12:08:44    1        NaN      NaN    NaN   \n",
       "Wire 8         19     19  2019-05-14 01:08:35    1        NaN      NaN    NaN   \n",
       "Wire 9         29     29  2019-06-01 02:25:26    1        NaN      NaN    NaN   \n",
       "\n",
       "            25%        50%        75%        max  \n",
       "key    823.0000 1,619.0000 2,434.0000 3,241.0000  \n",
       "Wire 1      NaN        NaN        NaN        NaN  \n",
       "Wire 2      NaN        NaN        NaN        NaN  \n",
       "Wire 3      NaN        NaN        NaN        NaN  \n",
       "Wire 4      NaN        NaN        NaN        NaN  \n",
       "Wire 5      NaN        NaN        NaN        NaN  \n",
       "Wire 6      NaN        NaN        NaN        NaN  \n",
       "Wire 7      NaN        NaN        NaN        NaN  \n",
       "Wire 8      NaN        NaN        NaN        NaN  \n",
       "Wire 9      NaN        NaN        NaN        NaN  "
      ]
     },
     "metadata": {},
     "output_type": "display_data"
    },
    {
     "name": "stdout",
     "output_type": "stream",
     "text": [
      "Процент пропусков:\n",
      " Wire 5   99.9675\n",
      "Wire 7   99.6430\n",
      "Wire 4   99.5456\n",
      "Wire 8   99.3833\n",
      "Wire 9   99.0587\n",
      "Wire 3   97.9552\n",
      "Wire 6   97.6306\n",
      "Wire 2   64.9789\n",
      "Wire 1    0.8439\n",
      "key       0.0000\n",
      "dtype: float64\n"
     ]
    }
   ],
   "source": [
    "get_info(data_wire_time)"
   ]
  },
  {
   "cell_type": "markdown",
   "metadata": {
    "id": "sb-qm80xU2wT"
   },
   "source": [
    "Здесь так же стоит привести все столбцы к нужному формату."
   ]
  },
  {
   "cell_type": "markdown",
   "metadata": {},
   "source": [
    "## Предобработка данных"
   ]
  },
  {
   "cell_type": "markdown",
   "metadata": {
    "id": "YYNkbPUjLuA7"
   },
   "source": [
    "### Обработка пропусков, удаление аномалий, подготовка признаков"
   ]
  },
  {
   "cell_type": "markdown",
   "metadata": {
    "id": "jibu6rRPVr2x"
   },
   "source": [
    "Приведём наши данные в некоторый порядок\n",
    "- `data_arc` - Переименуем столбцы, посчитаем и заменим аномальное значение, посчитаем полную мощность, энергию и время нагрева.\n",
    "- `data_bulk` - Преименуем столбцы, заполним пропуски нулями\n",
    "- `data_bulk_time` - эти данные не будем использовать, так как они имеют ошибочные значения\n",
    "- `data_gas` - Переименуем столбец\n",
    "- `data_temp` - Нас интересует только начальная температура для кажой партии. её будем и оставлять как признак, конечная температура является нашим целевым признаком.\n",
    "- `data_wire` - Преименуем столбцы, заполним пропуски нулями\n",
    "- `data_wire_time` - эти данные не будем использовать, так как они имеют ошибочные значения "
   ]
  },
  {
   "cell_type": "code",
   "execution_count": null,
   "metadata": {
    "id": "v3pb7Ad-Fo9c"
   },
   "outputs": [],
   "source": [
    "# delete unnecessary data\n",
    "\n",
    "del data_wire_time, data_bulk_time"
   ]
  },
  {
   "cell_type": "code",
   "execution_count": null,
   "metadata": {
    "id": "W3ECS8D1UwZ7"
   },
   "outputs": [],
   "source": [
    "# Let's name column in snake_registry\n",
    "data_arc.columns = ['key', 'start_heating', 'finish_heating', 'active_power', 'reactive_power']\n",
    "# datetime\n",
    "data_arc[['start_heating', 'finish_heating']] = data_arc[['start_heating', 'finish_heating']].astype('datetime64')"
   ]
  },
  {
   "cell_type": "markdown",
   "metadata": {
    "id": "scNRi_waZ65q"
   },
   "source": [
    "Посмотрим на аномальное значение реактивной мощности"
   ]
  },
  {
   "cell_type": "code",
   "execution_count": null,
   "metadata": {
    "colab": {
     "base_uri": "https://localhost:8080/",
     "height": 81
    },
    "id": "CqhHQukKV9OO",
    "outputId": "de26da33-7c61-4b0a-91bb-de04e3e99717"
   },
   "outputs": [
    {
     "data": {
      "text/html": [
       "<div>\n",
       "<style scoped>\n",
       "    .dataframe tbody tr th:only-of-type {\n",
       "        vertical-align: middle;\n",
       "    }\n",
       "\n",
       "    .dataframe tbody tr th {\n",
       "        vertical-align: top;\n",
       "    }\n",
       "\n",
       "    .dataframe thead th {\n",
       "        text-align: right;\n",
       "    }\n",
       "</style>\n",
       "<table border=\"1\" class=\"dataframe\">\n",
       "  <thead>\n",
       "    <tr style=\"text-align: right;\">\n",
       "      <th></th>\n",
       "      <th>key</th>\n",
       "      <th>start_heating</th>\n",
       "      <th>finish_heating</th>\n",
       "      <th>active_power</th>\n",
       "      <th>reactive_power</th>\n",
       "    </tr>\n",
       "  </thead>\n",
       "  <tbody>\n",
       "    <tr>\n",
       "      <th>9780</th>\n",
       "      <td>2116</td>\n",
       "      <td>2019-07-24 00:44:48</td>\n",
       "      <td>2019-07-24 00:46:37</td>\n",
       "      <td>0.4958</td>\n",
       "      <td>-715.5049</td>\n",
       "    </tr>\n",
       "  </tbody>\n",
       "</table>\n",
       "</div>"
      ],
      "text/plain": [
       "       key       start_heating      finish_heating  active_power  \\\n",
       "9780  2116 2019-07-24 00:44:48 2019-07-24 00:46:37        0.4958   \n",
       "\n",
       "      reactive_power  \n",
       "9780       -715.5049  "
      ]
     },
     "execution_count": 22,
     "metadata": {},
     "output_type": "execute_result"
    }
   ],
   "source": [
    "data_arc[data_arc['reactive_power'] < 0]"
   ]
  },
  {
   "cell_type": "markdown",
   "metadata": {
    "id": "d0Hzfqfkad7m"
   },
   "source": [
    "Посмотрим какие значения имеются для партии 2116"
   ]
  },
  {
   "cell_type": "code",
   "execution_count": null,
   "metadata": {
    "colab": {
     "base_uri": "https://localhost:8080/",
     "height": 175
    },
    "id": "clIYzC_YaWxg",
    "outputId": "85051bc2-bb15-47d7-bc3f-f03b1500fbd7"
   },
   "outputs": [
    {
     "data": {
      "text/html": [
       "<div>\n",
       "<style scoped>\n",
       "    .dataframe tbody tr th:only-of-type {\n",
       "        vertical-align: middle;\n",
       "    }\n",
       "\n",
       "    .dataframe tbody tr th {\n",
       "        vertical-align: top;\n",
       "    }\n",
       "\n",
       "    .dataframe thead th {\n",
       "        text-align: right;\n",
       "    }\n",
       "</style>\n",
       "<table border=\"1\" class=\"dataframe\">\n",
       "  <thead>\n",
       "    <tr style=\"text-align: right;\">\n",
       "      <th></th>\n",
       "      <th>key</th>\n",
       "      <th>start_heating</th>\n",
       "      <th>finish_heating</th>\n",
       "      <th>active_power</th>\n",
       "      <th>reactive_power</th>\n",
       "    </tr>\n",
       "  </thead>\n",
       "  <tbody>\n",
       "    <tr>\n",
       "      <th>9778</th>\n",
       "      <td>2116</td>\n",
       "      <td>2019-07-24 00:29:52</td>\n",
       "      <td>2019-07-24 00:31:54</td>\n",
       "      <td>0.4333</td>\n",
       "      <td>0.3061</td>\n",
       "    </tr>\n",
       "    <tr>\n",
       "      <th>9779</th>\n",
       "      <td>2116</td>\n",
       "      <td>2019-07-24 00:35:50</td>\n",
       "      <td>2019-07-24 00:38:05</td>\n",
       "      <td>0.6203</td>\n",
       "      <td>0.4084</td>\n",
       "    </tr>\n",
       "    <tr>\n",
       "      <th>9780</th>\n",
       "      <td>2116</td>\n",
       "      <td>2019-07-24 00:44:48</td>\n",
       "      <td>2019-07-24 00:46:37</td>\n",
       "      <td>0.4958</td>\n",
       "      <td>-715.5049</td>\n",
       "    </tr>\n",
       "    <tr>\n",
       "      <th>9781</th>\n",
       "      <td>2116</td>\n",
       "      <td>2019-07-24 00:51:51</td>\n",
       "      <td>2019-07-24 00:52:58</td>\n",
       "      <td>0.2994</td>\n",
       "      <td>0.1988</td>\n",
       "    </tr>\n",
       "  </tbody>\n",
       "</table>\n",
       "</div>"
      ],
      "text/plain": [
       "       key       start_heating      finish_heating  active_power  \\\n",
       "9778  2116 2019-07-24 00:29:52 2019-07-24 00:31:54        0.4333   \n",
       "9779  2116 2019-07-24 00:35:50 2019-07-24 00:38:05        0.6203   \n",
       "9780  2116 2019-07-24 00:44:48 2019-07-24 00:46:37        0.4958   \n",
       "9781  2116 2019-07-24 00:51:51 2019-07-24 00:52:58        0.2994   \n",
       "\n",
       "      reactive_power  \n",
       "9778          0.3061  \n",
       "9779          0.4084  \n",
       "9780       -715.5049  \n",
       "9781          0.1988  "
      ]
     },
     "execution_count": 23,
     "metadata": {},
     "output_type": "execute_result"
    }
   ],
   "source": [
    "data_arc[data_arc['key'] == 2116]"
   ]
  },
  {
   "cell_type": "markdown",
   "metadata": {
    "id": "8jbjRrzIazGa"
   },
   "source": [
    "У нас выбивается только одно значение из партии, лучше заменить его на какое-то значение. Посмотрим есть ли кореляция между активной и реактивной мощностями и сможем ли мы рассчитать рективную мощьность по активной."
   ]
  },
  {
   "cell_type": "code",
   "execution_count": null,
   "metadata": {
    "colab": {
     "base_uri": "https://localhost:8080/"
    },
    "id": "xcipHFY5auXG",
    "outputId": "ac84df83-a528-4c71-e365-640460a60361"
   },
   "outputs": [
    {
     "name": "stdout",
     "output_type": "stream",
     "text": [
      "                            OLS Regression Results                            \n",
      "==============================================================================\n",
      "Dep. Variable:                      y   R-squared:                       0.988\n",
      "Model:                            OLS   Adj. R-squared:                  0.976\n",
      "Method:                 Least Squares   F-statistic:                     82.90\n",
      "Date:                Tue, 06 Sep 2022   Prob (F-statistic):             0.0696\n",
      "Time:                        05:07:18   Log-Likelihood:                 9.7633\n",
      "No. Observations:                   3   AIC:                            -15.53\n",
      "Df Residuals:                       1   BIC:                            -17.33\n",
      "Df Model:                           1                                         \n",
      "Covariance Type:            nonrobust                                         \n",
      "==============================================================================\n",
      "                 coef    std err          t      P>|t|      [0.025      0.975]\n",
      "------------------------------------------------------------------------------\n",
      "const          0.0130      0.033      0.390      0.763      -0.411       0.437\n",
      "x1             0.6463      0.071      9.105      0.070      -0.256       1.548\n",
      "==============================================================================\n",
      "Omnibus:                          nan   Durbin-Watson:                   2.982\n",
      "Prob(Omnibus):                    nan   Jarque-Bera (JB):                0.511\n",
      "Skew:                           0.678   Prob(JB):                        0.774\n",
      "Kurtosis:                       1.500   Cond. No.                         9.17\n",
      "==============================================================================\n",
      "\n",
      "Notes:\n",
      "[1] Standard Errors assume that the covariance matrix of the errors is correctly specified.\n"
     ]
    },
    {
     "name": "stderr",
     "output_type": "stream",
     "text": [
      "/opt/conda/lib/python3.9/site-packages/statsmodels/stats/stattools.py:74: ValueWarning:\n",
      "\n",
      "omni_normtest is not valid with less than 8 observations; 3 samples were given.\n",
      "\n"
     ]
    }
   ],
   "source": [
    "fig = px.scatter(data_arc.query(\"key == 2116 and reactive_power > 0\"), \n",
    "                 x=\"active_power\", \n",
    "                 y=\"reactive_power\",\n",
    "                 trendline=\"ols\",)\n",
    "\n",
    "#fig.show()\n",
    "results = px.get_trendline_results(fig)\n",
    "print(results.px_fit_results.iloc[0].summary())"
   ]
  },
  {
   "cell_type": "markdown",
   "metadata": {
    "id": "_6jQLT7NeVzb"
   },
   "source": [
    "Есть зависимость такого вида active_power * 0.6463 + 0.0130. Для замены одного значения вполне сгодится."
   ]
  },
  {
   "cell_type": "code",
   "execution_count": null,
   "metadata": {
    "colab": {
     "base_uri": "https://localhost:8080/",
     "height": 175
    },
    "id": "aeEkgN6SdTOX",
    "outputId": "39f6f3cc-41ed-40fb-f320-4a47c7edcdd3"
   },
   "outputs": [
    {
     "data": {
      "text/html": [
       "<div>\n",
       "<style scoped>\n",
       "    .dataframe tbody tr th:only-of-type {\n",
       "        vertical-align: middle;\n",
       "    }\n",
       "\n",
       "    .dataframe tbody tr th {\n",
       "        vertical-align: top;\n",
       "    }\n",
       "\n",
       "    .dataframe thead th {\n",
       "        text-align: right;\n",
       "    }\n",
       "</style>\n",
       "<table border=\"1\" class=\"dataframe\">\n",
       "  <thead>\n",
       "    <tr style=\"text-align: right;\">\n",
       "      <th></th>\n",
       "      <th>key</th>\n",
       "      <th>start_heating</th>\n",
       "      <th>finish_heating</th>\n",
       "      <th>active_power</th>\n",
       "      <th>reactive_power</th>\n",
       "    </tr>\n",
       "  </thead>\n",
       "  <tbody>\n",
       "    <tr>\n",
       "      <th>9778</th>\n",
       "      <td>2116</td>\n",
       "      <td>2019-07-24 00:29:52</td>\n",
       "      <td>2019-07-24 00:31:54</td>\n",
       "      <td>0.4333</td>\n",
       "      <td>0.3061</td>\n",
       "    </tr>\n",
       "    <tr>\n",
       "      <th>9779</th>\n",
       "      <td>2116</td>\n",
       "      <td>2019-07-24 00:35:50</td>\n",
       "      <td>2019-07-24 00:38:05</td>\n",
       "      <td>0.6203</td>\n",
       "      <td>0.4084</td>\n",
       "    </tr>\n",
       "    <tr>\n",
       "      <th>9780</th>\n",
       "      <td>2116</td>\n",
       "      <td>2019-07-24 00:44:48</td>\n",
       "      <td>2019-07-24 00:46:37</td>\n",
       "      <td>0.4958</td>\n",
       "      <td>0.3334</td>\n",
       "    </tr>\n",
       "    <tr>\n",
       "      <th>9781</th>\n",
       "      <td>2116</td>\n",
       "      <td>2019-07-24 00:51:51</td>\n",
       "      <td>2019-07-24 00:52:58</td>\n",
       "      <td>0.2994</td>\n",
       "      <td>0.1988</td>\n",
       "    </tr>\n",
       "  </tbody>\n",
       "</table>\n",
       "</div>"
      ],
      "text/plain": [
       "       key       start_heating      finish_heating  active_power  \\\n",
       "9778  2116 2019-07-24 00:29:52 2019-07-24 00:31:54        0.4333   \n",
       "9779  2116 2019-07-24 00:35:50 2019-07-24 00:38:05        0.6203   \n",
       "9780  2116 2019-07-24 00:44:48 2019-07-24 00:46:37        0.4958   \n",
       "9781  2116 2019-07-24 00:51:51 2019-07-24 00:52:58        0.2994   \n",
       "\n",
       "      reactive_power  \n",
       "9778          0.3061  \n",
       "9779          0.4084  \n",
       "9780          0.3334  \n",
       "9781          0.1988  "
      ]
     },
     "execution_count": 25,
     "metadata": {},
     "output_type": "execute_result"
    }
   ],
   "source": [
    "data_arc.at[9780, 'reactive_power'] = data_arc.iloc[9780].active_power*0.6463 + 0.0130\n",
    "data_arc[data_arc['key'] == 2116]"
   ]
  },
  {
   "cell_type": "markdown",
   "metadata": {
    "id": "PzLF7sEzk6Os"
   },
   "source": [
    "Напишем функцию для подсчёта полной мощности, энергии и время нагрева. Так же объединим данные по значению `key` просуммировав значения."
   ]
  },
  {
   "cell_type": "code",
   "execution_count": null,
   "metadata": {
    "id": "LsHqyTjClPQK"
   },
   "outputs": [],
   "source": [
    "def new_features_arc(df):\n",
    "  # Count apparent_power, duration_heating, energy\n",
    "  df['apparent_power'] = (df['active_power']**2 + df['reactive_power']**2)**0.5\n",
    "  df['duration_heating'] = (df['finish_heating'] - df['start_heating']) / np.timedelta64(1, 'm')\n",
    "  df['energy'] = df['apparent_power'] * df['duration_heating']\n",
    "  \n",
    "  \n",
    "\n",
    "  # Group by 'key'\n",
    "  df = df.groupby('key').agg({'start_heating': 'min',\n",
    "                              'finish_heating': 'max',\n",
    "                              'active_power': 'sum',\n",
    "                              'reactive_power': 'sum',\n",
    "                              'apparent_power': 'sum',\n",
    "                              'duration_heating': 'sum',\n",
    "                              'energy': 'sum',\n",
    "                              'key': 'count'\n",
    "                              })\n",
    "  \n",
    "  # rename colum, reset indexes and drop datatime columns\n",
    "  df = df.rename(columns={'key': 'qty_iterations'})\n",
    "  df.reset_index(inplace=True)\n",
    "  \n",
    "  # Date features\n",
    "  df['weekday'] = df['start_heating'].dt.weekday\n",
    "  df['month'] = df['start_heating'].dt.month\n",
    "  df['hour'] = df['start_heating'].dt.hour\n",
    "\n",
    "  df = df.drop(['start_heating', 'finish_heating'], axis=1)\n",
    "\n",
    "  return df"
   ]
  },
  {
   "cell_type": "code",
   "execution_count": null,
   "metadata": {
    "colab": {
     "base_uri": "https://localhost:8080/",
     "height": 206
    },
    "id": "36XQM82XJxBd",
    "outputId": "69baef06-3efc-4dbd-b458-e08a45bed635"
   },
   "outputs": [
    {
     "data": {
      "text/html": [
       "<div>\n",
       "<style scoped>\n",
       "    .dataframe tbody tr th:only-of-type {\n",
       "        vertical-align: middle;\n",
       "    }\n",
       "\n",
       "    .dataframe tbody tr th {\n",
       "        vertical-align: top;\n",
       "    }\n",
       "\n",
       "    .dataframe thead th {\n",
       "        text-align: right;\n",
       "    }\n",
       "</style>\n",
       "<table border=\"1\" class=\"dataframe\">\n",
       "  <thead>\n",
       "    <tr style=\"text-align: right;\">\n",
       "      <th></th>\n",
       "      <th>key</th>\n",
       "      <th>active_power</th>\n",
       "      <th>reactive_power</th>\n",
       "      <th>apparent_power</th>\n",
       "      <th>duration_heating</th>\n",
       "      <th>energy</th>\n",
       "      <th>qty_iterations</th>\n",
       "      <th>weekday</th>\n",
       "      <th>month</th>\n",
       "      <th>hour</th>\n",
       "    </tr>\n",
       "  </thead>\n",
       "  <tbody>\n",
       "    <tr>\n",
       "      <th>0</th>\n",
       "      <td>1</td>\n",
       "      <td>4.8781</td>\n",
       "      <td>3.1832</td>\n",
       "      <td>5.8264</td>\n",
       "      <td>18.3000</td>\n",
       "      <td>24.0396</td>\n",
       "      <td>5</td>\n",
       "      <td>4</td>\n",
       "      <td>5</td>\n",
       "      <td>11</td>\n",
       "    </tr>\n",
       "    <tr>\n",
       "      <th>1</th>\n",
       "      <td>2</td>\n",
       "      <td>3.0526</td>\n",
       "      <td>1.9981</td>\n",
       "      <td>3.6492</td>\n",
       "      <td>13.5167</td>\n",
       "      <td>14.6872</td>\n",
       "      <td>4</td>\n",
       "      <td>4</td>\n",
       "      <td>5</td>\n",
       "      <td>11</td>\n",
       "    </tr>\n",
       "    <tr>\n",
       "      <th>2</th>\n",
       "      <td>3</td>\n",
       "      <td>2.5259</td>\n",
       "      <td>1.5991</td>\n",
       "      <td>2.9895</td>\n",
       "      <td>10.9167</td>\n",
       "      <td>8.7511</td>\n",
       "      <td>5</td>\n",
       "      <td>4</td>\n",
       "      <td>5</td>\n",
       "      <td>12</td>\n",
       "    </tr>\n",
       "    <tr>\n",
       "      <th>3</th>\n",
       "      <td>4</td>\n",
       "      <td>3.2093</td>\n",
       "      <td>2.0603</td>\n",
       "      <td>3.8150</td>\n",
       "      <td>12.3500</td>\n",
       "      <td>13.2819</td>\n",
       "      <td>4</td>\n",
       "      <td>4</td>\n",
       "      <td>5</td>\n",
       "      <td>12</td>\n",
       "    </tr>\n",
       "    <tr>\n",
       "      <th>4</th>\n",
       "      <td>5</td>\n",
       "      <td>3.3472</td>\n",
       "      <td>2.2526</td>\n",
       "      <td>4.0358</td>\n",
       "      <td>14.4833</td>\n",
       "      <td>19.9856</td>\n",
       "      <td>4</td>\n",
       "      <td>4</td>\n",
       "      <td>5</td>\n",
       "      <td>13</td>\n",
       "    </tr>\n",
       "  </tbody>\n",
       "</table>\n",
       "</div>"
      ],
      "text/plain": [
       "   key  active_power  reactive_power  apparent_power  duration_heating  \\\n",
       "0    1        4.8781          3.1832          5.8264           18.3000   \n",
       "1    2        3.0526          1.9981          3.6492           13.5167   \n",
       "2    3        2.5259          1.5991          2.9895           10.9167   \n",
       "3    4        3.2093          2.0603          3.8150           12.3500   \n",
       "4    5        3.3472          2.2526          4.0358           14.4833   \n",
       "\n",
       "   energy  qty_iterations  weekday  month  hour  \n",
       "0 24.0396               5        4      5    11  \n",
       "1 14.6872               4        4      5    11  \n",
       "2  8.7511               5        4      5    12  \n",
       "3 13.2819               4        4      5    12  \n",
       "4 19.9856               4        4      5    13  "
      ]
     },
     "execution_count": 27,
     "metadata": {},
     "output_type": "execute_result"
    }
   ],
   "source": [
    "data_arc = new_features_arc(data_arc)\n",
    "data_arc.head()"
   ]
  },
  {
   "cell_type": "markdown",
   "metadata": {
    "id": "gyBEKrEuq5d1"
   },
   "source": [
    "Посмотрим на распределение продолжительности нагрева."
   ]
  },
  {
   "cell_type": "code",
   "execution_count": null,
   "metadata": {
    "colab": {
     "base_uri": "https://localhost:8080/",
     "height": 667
    },
    "id": "7eWaehDjcFVD",
    "outputId": "7b00aa60-1000-484b-a9b8-242f87d30d39"
   },
   "outputs": [
    {
     "data": {
      "image/png": "[encoded data removed]",
      "text/plain": [
       "<Figure size 720x360 with 1 Axes>"
      ]
     },
     "metadata": {},
     "output_type": "display_data"
    },
    {
     "name": "stdout",
     "output_type": "stream",
     "text": [
      "\n"
     ]
    },
    {
     "data": {
      "image/png": "[encoded data removed]",
      "text/plain": [
       "<Figure size 720x360 with 1 Axes>"
      ]
     },
     "metadata": {},
     "output_type": "display_data"
    }
   ],
   "source": [
    "vizualize(data_arc, 'duration_heating')"
   ]
  },
  {
   "cell_type": "markdown",
   "metadata": {
    "id": "Ryu9RgFxua7H"
   },
   "source": [
    "Здесь так же видны выбросы в большую сторону, но пока их трогать без согласования с заказчиком не будем."
   ]
  },
  {
   "cell_type": "markdown",
   "metadata": {
    "id": "Mc0DeVB7kS3v"
   },
   "source": [
    "Напишем функцию для перевода столбцов к змеиному регистру, заменим пропуски нулями в этих таблицах, посчитаем сумму легирующих элементов и их кол-во."
   ]
  },
  {
   "cell_type": "code",
   "execution_count": null,
   "metadata": {
    "id": "YeshqJDOWLf-"
   },
   "outputs": [],
   "source": [
    "def bulk_and_wire_prep(df):\n",
    "  # snake_register\n",
    "  correct_columns = []\n",
    "  for column in df.columns:\n",
    "    snake_register = ''\n",
    "    sep = '_'\n",
    "    for i in column:\n",
    "      if i.isupper():\n",
    "        snake_register += sep + i.lower()\n",
    "      else:\n",
    "        snake_register += i\n",
    "    snake_register = snake_register.replace(' ', '_')\n",
    "    correct_columns.append(snake_register.lstrip(sep))\n",
    "  df.columns = correct_columns\n",
    "\n",
    "  # Group by 'key', count sum and qty\n",
    "  df[correct_columns[1].rstrip('1') + 'sum'] = df.drop('key', axis=1).sum(axis=1).values\n",
    "  df[correct_columns[1].rstrip('1') + 'count'] = df.notnull().drop('key', axis=1).sum(axis=1).values - 1\n",
    "\n",
    "  # Fill nan\n",
    "  df.fillna(0, inplace=True)\n",
    "\n",
    "  return df"
   ]
  },
  {
   "cell_type": "code",
   "execution_count": null,
   "metadata": {
    "colab": {
     "base_uri": "https://localhost:8080/",
     "height": 206
    },
    "id": "6fN5u5ephcJb",
    "outputId": "99653753-e0d7-48d6-e5fa-882b4bad1418"
   },
   "outputs": [
    {
     "data": {
      "text/html": [
       "<div>\n",
       "<style scoped>\n",
       "    .dataframe tbody tr th:only-of-type {\n",
       "        vertical-align: middle;\n",
       "    }\n",
       "\n",
       "    .dataframe tbody tr th {\n",
       "        vertical-align: top;\n",
       "    }\n",
       "\n",
       "    .dataframe thead th {\n",
       "        text-align: right;\n",
       "    }\n",
       "</style>\n",
       "<table border=\"1\" class=\"dataframe\">\n",
       "  <thead>\n",
       "    <tr style=\"text-align: right;\">\n",
       "      <th></th>\n",
       "      <th>key</th>\n",
       "      <th>bulk_1</th>\n",
       "      <th>bulk_2</th>\n",
       "      <th>bulk_3</th>\n",
       "      <th>bulk_4</th>\n",
       "      <th>bulk_5</th>\n",
       "      <th>bulk_6</th>\n",
       "      <th>bulk_7</th>\n",
       "      <th>bulk_8</th>\n",
       "      <th>bulk_9</th>\n",
       "      <th>bulk_10</th>\n",
       "      <th>bulk_11</th>\n",
       "      <th>bulk_12</th>\n",
       "      <th>bulk_13</th>\n",
       "      <th>bulk_14</th>\n",
       "      <th>bulk_15</th>\n",
       "      <th>bulk_sum</th>\n",
       "      <th>bulk_count</th>\n",
       "    </tr>\n",
       "  </thead>\n",
       "  <tbody>\n",
       "    <tr>\n",
       "      <th>0</th>\n",
       "      <td>1</td>\n",
       "      <td>0.0000</td>\n",
       "      <td>0.0000</td>\n",
       "      <td>0.0000</td>\n",
       "      <td>43.0000</td>\n",
       "      <td>0.0000</td>\n",
       "      <td>0.0000</td>\n",
       "      <td>0.0000</td>\n",
       "      <td>0.0000</td>\n",
       "      <td>0.0000</td>\n",
       "      <td>0.0000</td>\n",
       "      <td>0.0000</td>\n",
       "      <td>206.0000</td>\n",
       "      <td>0.0000</td>\n",
       "      <td>150.0000</td>\n",
       "      <td>154.0000</td>\n",
       "      <td>553.0000</td>\n",
       "      <td>4</td>\n",
       "    </tr>\n",
       "    <tr>\n",
       "      <th>1</th>\n",
       "      <td>2</td>\n",
       "      <td>0.0000</td>\n",
       "      <td>0.0000</td>\n",
       "      <td>0.0000</td>\n",
       "      <td>73.0000</td>\n",
       "      <td>0.0000</td>\n",
       "      <td>0.0000</td>\n",
       "      <td>0.0000</td>\n",
       "      <td>0.0000</td>\n",
       "      <td>0.0000</td>\n",
       "      <td>0.0000</td>\n",
       "      <td>0.0000</td>\n",
       "      <td>206.0000</td>\n",
       "      <td>0.0000</td>\n",
       "      <td>149.0000</td>\n",
       "      <td>154.0000</td>\n",
       "      <td>582.0000</td>\n",
       "      <td>4</td>\n",
       "    </tr>\n",
       "    <tr>\n",
       "      <th>2</th>\n",
       "      <td>3</td>\n",
       "      <td>0.0000</td>\n",
       "      <td>0.0000</td>\n",
       "      <td>0.0000</td>\n",
       "      <td>34.0000</td>\n",
       "      <td>0.0000</td>\n",
       "      <td>0.0000</td>\n",
       "      <td>0.0000</td>\n",
       "      <td>0.0000</td>\n",
       "      <td>0.0000</td>\n",
       "      <td>0.0000</td>\n",
       "      <td>0.0000</td>\n",
       "      <td>205.0000</td>\n",
       "      <td>0.0000</td>\n",
       "      <td>152.0000</td>\n",
       "      <td>153.0000</td>\n",
       "      <td>544.0000</td>\n",
       "      <td>4</td>\n",
       "    </tr>\n",
       "    <tr>\n",
       "      <th>3</th>\n",
       "      <td>4</td>\n",
       "      <td>0.0000</td>\n",
       "      <td>0.0000</td>\n",
       "      <td>0.0000</td>\n",
       "      <td>81.0000</td>\n",
       "      <td>0.0000</td>\n",
       "      <td>0.0000</td>\n",
       "      <td>0.0000</td>\n",
       "      <td>0.0000</td>\n",
       "      <td>0.0000</td>\n",
       "      <td>0.0000</td>\n",
       "      <td>0.0000</td>\n",
       "      <td>207.0000</td>\n",
       "      <td>0.0000</td>\n",
       "      <td>153.0000</td>\n",
       "      <td>154.0000</td>\n",
       "      <td>595.0000</td>\n",
       "      <td>4</td>\n",
       "    </tr>\n",
       "    <tr>\n",
       "      <th>4</th>\n",
       "      <td>5</td>\n",
       "      <td>0.0000</td>\n",
       "      <td>0.0000</td>\n",
       "      <td>0.0000</td>\n",
       "      <td>78.0000</td>\n",
       "      <td>0.0000</td>\n",
       "      <td>0.0000</td>\n",
       "      <td>0.0000</td>\n",
       "      <td>0.0000</td>\n",
       "      <td>0.0000</td>\n",
       "      <td>0.0000</td>\n",
       "      <td>0.0000</td>\n",
       "      <td>203.0000</td>\n",
       "      <td>0.0000</td>\n",
       "      <td>151.0000</td>\n",
       "      <td>152.0000</td>\n",
       "      <td>584.0000</td>\n",
       "      <td>4</td>\n",
       "    </tr>\n",
       "  </tbody>\n",
       "</table>\n",
       "</div>"
      ],
      "text/plain": [
       "   key  bulk_1  bulk_2  bulk_3  bulk_4  bulk_5  bulk_6  bulk_7  bulk_8  \\\n",
       "0    1  0.0000  0.0000  0.0000 43.0000  0.0000  0.0000  0.0000  0.0000   \n",
       "1    2  0.0000  0.0000  0.0000 73.0000  0.0000  0.0000  0.0000  0.0000   \n",
       "2    3  0.0000  0.0000  0.0000 34.0000  0.0000  0.0000  0.0000  0.0000   \n",
       "3    4  0.0000  0.0000  0.0000 81.0000  0.0000  0.0000  0.0000  0.0000   \n",
       "4    5  0.0000  0.0000  0.0000 78.0000  0.0000  0.0000  0.0000  0.0000   \n",
       "\n",
       "   bulk_9  bulk_10  bulk_11  bulk_12  bulk_13  bulk_14  bulk_15  bulk_sum  \\\n",
       "0  0.0000   0.0000   0.0000 206.0000   0.0000 150.0000 154.0000  553.0000   \n",
       "1  0.0000   0.0000   0.0000 206.0000   0.0000 149.0000 154.0000  582.0000   \n",
       "2  0.0000   0.0000   0.0000 205.0000   0.0000 152.0000 153.0000  544.0000   \n",
       "3  0.0000   0.0000   0.0000 207.0000   0.0000 153.0000 154.0000  595.0000   \n",
       "4  0.0000   0.0000   0.0000 203.0000   0.0000 151.0000 152.0000  584.0000   \n",
       "\n",
       "   bulk_count  \n",
       "0           4  \n",
       "1           4  \n",
       "2           4  \n",
       "3           4  \n",
       "4           4  "
      ]
     },
     "execution_count": 30,
     "metadata": {},
     "output_type": "execute_result"
    }
   ],
   "source": [
    "data_bulk = bulk_and_wire_prep(data_bulk)\n",
    "data_wire = bulk_and_wire_prep(data_wire)\n",
    "data_bulk.head()"
   ]
  },
  {
   "cell_type": "markdown",
   "metadata": {
    "id": "z_d_xvjRK7aP"
   },
   "source": [
    "Переименуем столбец в таблице `data_gas`"
   ]
  },
  {
   "cell_type": "code",
   "execution_count": null,
   "metadata": {
    "id": "jvJHQQjrKpLs"
   },
   "outputs": [],
   "source": [
    "data_gas.columns = ['key', 'gas_1']"
   ]
  },
  {
   "cell_type": "markdown",
   "metadata": {
    "id": "yTXuchfzLS0h"
   },
   "source": [
    "В таблице `data_temp` нас интересуют только первые (начальное значение температуры) и последние (конечное значение - целевой признак) значения температуры для каждой партии.   \n",
    "Для преоборазования данной таблицы напишем функцию. Считаем что последняя температура не обязательно максимальная. "
   ]
  },
  {
   "cell_type": "code",
   "execution_count": null,
   "metadata": {
    "id": "rzTYV0rgM4mQ"
   },
   "outputs": [],
   "source": [
    "def temp_preparation(df):\n",
    "  # Create new DataFrame\n",
    "  new_df = pd.DataFrame()\n",
    "\n",
    "  # Drop \"key\" that has nan in temperature\n",
    "  keys_wo_temp = list(df[df['Температура'].isna()]['key'])\n",
    "  df = df.query('key != @keys_wo_temp')\n",
    "\n",
    "  # Creating the table with first and last measurement time\n",
    "  df_agg = df.groupby(by='key').agg({'Время замера': ['min', 'max']}).droplevel(0, axis=1)\n",
    "\n",
    "  # Add to a new DataFrame key, first and last(our target) temperature\n",
    "  new_df[['key', 'start_temp']] = df[df['Время замера'].isin(df_agg.iloc[:,0])][['key', 'Температура']]\n",
    "  new_df['target'] = df[df['Время замера'].isin(df_agg.iloc[:,1])]['Температура'].values\n",
    "  \n",
    "  return new_df"
   ]
  },
  {
   "cell_type": "code",
   "execution_count": null,
   "metadata": {
    "colab": {
     "base_uri": "https://localhost:8080/",
     "height": 206
    },
    "id": "Tjz6ftzAsK-S",
    "outputId": "c783fe6c-5ccb-43d3-954f-3ecc620ef9ad"
   },
   "outputs": [
    {
     "data": {
      "text/html": [
       "<div>\n",
       "<style scoped>\n",
       "    .dataframe tbody tr th:only-of-type {\n",
       "        vertical-align: middle;\n",
       "    }\n",
       "\n",
       "    .dataframe tbody tr th {\n",
       "        vertical-align: top;\n",
       "    }\n",
       "\n",
       "    .dataframe thead th {\n",
       "        text-align: right;\n",
       "    }\n",
       "</style>\n",
       "<table border=\"1\" class=\"dataframe\">\n",
       "  <thead>\n",
       "    <tr style=\"text-align: right;\">\n",
       "      <th></th>\n",
       "      <th>key</th>\n",
       "      <th>start_temp</th>\n",
       "      <th>target</th>\n",
       "    </tr>\n",
       "  </thead>\n",
       "  <tbody>\n",
       "    <tr>\n",
       "      <th>0</th>\n",
       "      <td>1</td>\n",
       "      <td>1,571.0000</td>\n",
       "      <td>1,613.0000</td>\n",
       "    </tr>\n",
       "    <tr>\n",
       "      <th>5</th>\n",
       "      <td>2</td>\n",
       "      <td>1,581.0000</td>\n",
       "      <td>1,602.0000</td>\n",
       "    </tr>\n",
       "    <tr>\n",
       "      <th>11</th>\n",
       "      <td>3</td>\n",
       "      <td>1,596.0000</td>\n",
       "      <td>1,599.0000</td>\n",
       "    </tr>\n",
       "    <tr>\n",
       "      <th>16</th>\n",
       "      <td>4</td>\n",
       "      <td>1,601.0000</td>\n",
       "      <td>1,625.0000</td>\n",
       "    </tr>\n",
       "    <tr>\n",
       "      <th>19</th>\n",
       "      <td>5</td>\n",
       "      <td>1,576.0000</td>\n",
       "      <td>1,602.0000</td>\n",
       "    </tr>\n",
       "  </tbody>\n",
       "</table>\n",
       "</div>"
      ],
      "text/plain": [
       "    key  start_temp     target\n",
       "0     1  1,571.0000 1,613.0000\n",
       "5     2  1,581.0000 1,602.0000\n",
       "11    3  1,596.0000 1,599.0000\n",
       "16    4  1,601.0000 1,625.0000\n",
       "19    5  1,576.0000 1,602.0000"
      ]
     },
     "execution_count": 33,
     "metadata": {},
     "output_type": "execute_result"
    }
   ],
   "source": [
    "data_temp = temp_preparation(data_temp)\n",
    "data_temp.head()"
   ]
  },
  {
   "cell_type": "markdown",
   "metadata": {
    "id": "WaqakkY5OPka"
   },
   "source": [
    "### Объединение таблиц\n",
    "\n",
    "Что бы к нам не попапли данные без записей, объединять будем с параметром `inner`"
   ]
  },
  {
   "cell_type": "code",
   "execution_count": null,
   "metadata": {
    "id": "YhgNFCChGPbO"
   },
   "outputs": [],
   "source": [
    "data_full = (data_temp.merge(data_arc, on='key', how='inner').\n",
    "             merge(data_bulk, on='key', how='inner').\n",
    "             merge(data_wire, on='key', how='inner').\n",
    "             merge(data_gas, on='key', how='inner'))"
   ]
  },
  {
   "cell_type": "code",
   "execution_count": null,
   "metadata": {
    "colab": {
     "base_uri": "https://localhost:8080/",
     "height": 288
    },
    "id": "pUPli7YDH7_6",
    "outputId": "eeb20809-74fb-49fb-f08c-8cc1d7a20a40"
   },
   "outputs": [
    {
     "data": {
      "text/html": [
       "<div>\n",
       "<style scoped>\n",
       "    .dataframe tbody tr th:only-of-type {\n",
       "        vertical-align: middle;\n",
       "    }\n",
       "\n",
       "    .dataframe tbody tr th {\n",
       "        vertical-align: top;\n",
       "    }\n",
       "\n",
       "    .dataframe thead th {\n",
       "        text-align: right;\n",
       "    }\n",
       "</style>\n",
       "<table border=\"1\" class=\"dataframe\">\n",
       "  <thead>\n",
       "    <tr style=\"text-align: right;\">\n",
       "      <th></th>\n",
       "      <th>key</th>\n",
       "      <th>start_temp</th>\n",
       "      <th>target</th>\n",
       "      <th>active_power</th>\n",
       "      <th>reactive_power</th>\n",
       "      <th>apparent_power</th>\n",
       "      <th>duration_heating</th>\n",
       "      <th>energy</th>\n",
       "      <th>qty_iterations</th>\n",
       "      <th>weekday</th>\n",
       "      <th>...</th>\n",
       "      <th>wire_3</th>\n",
       "      <th>wire_4</th>\n",
       "      <th>wire_5</th>\n",
       "      <th>wire_6</th>\n",
       "      <th>wire_7</th>\n",
       "      <th>wire_8</th>\n",
       "      <th>wire_9</th>\n",
       "      <th>wire_sum</th>\n",
       "      <th>wire_count</th>\n",
       "      <th>gas_1</th>\n",
       "    </tr>\n",
       "  </thead>\n",
       "  <tbody>\n",
       "    <tr>\n",
       "      <th>0</th>\n",
       "      <td>1</td>\n",
       "      <td>1,571.0000</td>\n",
       "      <td>1,613.0000</td>\n",
       "      <td>4.8781</td>\n",
       "      <td>3.1832</td>\n",
       "      <td>5.8264</td>\n",
       "      <td>18.3000</td>\n",
       "      <td>24.0396</td>\n",
       "      <td>5</td>\n",
       "      <td>4</td>\n",
       "      <td>...</td>\n",
       "      <td>0.0000</td>\n",
       "      <td>0.0000</td>\n",
       "      <td>0.0000</td>\n",
       "      <td>0.0000</td>\n",
       "      <td>0.0000</td>\n",
       "      <td>0.0000</td>\n",
       "      <td>0.0000</td>\n",
       "      <td>60.0600</td>\n",
       "      <td>1</td>\n",
       "      <td>29.7500</td>\n",
       "    </tr>\n",
       "    <tr>\n",
       "      <th>1</th>\n",
       "      <td>2</td>\n",
       "      <td>1,581.0000</td>\n",
       "      <td>1,602.0000</td>\n",
       "      <td>3.0526</td>\n",
       "      <td>1.9981</td>\n",
       "      <td>3.6492</td>\n",
       "      <td>13.5167</td>\n",
       "      <td>14.6872</td>\n",
       "      <td>4</td>\n",
       "      <td>4</td>\n",
       "      <td>...</td>\n",
       "      <td>0.0000</td>\n",
       "      <td>0.0000</td>\n",
       "      <td>0.0000</td>\n",
       "      <td>0.0000</td>\n",
       "      <td>0.0000</td>\n",
       "      <td>0.0000</td>\n",
       "      <td>0.0000</td>\n",
       "      <td>96.0523</td>\n",
       "      <td>1</td>\n",
       "      <td>12.5556</td>\n",
       "    </tr>\n",
       "    <tr>\n",
       "      <th>2</th>\n",
       "      <td>3</td>\n",
       "      <td>1,596.0000</td>\n",
       "      <td>1,599.0000</td>\n",
       "      <td>2.5259</td>\n",
       "      <td>1.5991</td>\n",
       "      <td>2.9895</td>\n",
       "      <td>10.9167</td>\n",
       "      <td>8.7511</td>\n",
       "      <td>5</td>\n",
       "      <td>4</td>\n",
       "      <td>...</td>\n",
       "      <td>0.0000</td>\n",
       "      <td>0.0000</td>\n",
       "      <td>0.0000</td>\n",
       "      <td>0.0000</td>\n",
       "      <td>0.0000</td>\n",
       "      <td>0.0000</td>\n",
       "      <td>0.0000</td>\n",
       "      <td>91.1602</td>\n",
       "      <td>1</td>\n",
       "      <td>28.5548</td>\n",
       "    </tr>\n",
       "    <tr>\n",
       "      <th>3</th>\n",
       "      <td>4</td>\n",
       "      <td>1,601.0000</td>\n",
       "      <td>1,625.0000</td>\n",
       "      <td>3.2093</td>\n",
       "      <td>2.0603</td>\n",
       "      <td>3.8150</td>\n",
       "      <td>12.3500</td>\n",
       "      <td>13.2819</td>\n",
       "      <td>4</td>\n",
       "      <td>4</td>\n",
       "      <td>...</td>\n",
       "      <td>0.0000</td>\n",
       "      <td>0.0000</td>\n",
       "      <td>0.0000</td>\n",
       "      <td>0.0000</td>\n",
       "      <td>0.0000</td>\n",
       "      <td>0.0000</td>\n",
       "      <td>0.0000</td>\n",
       "      <td>89.0635</td>\n",
       "      <td>1</td>\n",
       "      <td>18.8412</td>\n",
       "    </tr>\n",
       "    <tr>\n",
       "      <th>4</th>\n",
       "      <td>5</td>\n",
       "      <td>1,576.0000</td>\n",
       "      <td>1,602.0000</td>\n",
       "      <td>3.3472</td>\n",
       "      <td>2.2526</td>\n",
       "      <td>4.0358</td>\n",
       "      <td>14.4833</td>\n",
       "      <td>19.9856</td>\n",
       "      <td>4</td>\n",
       "      <td>4</td>\n",
       "      <td>...</td>\n",
       "      <td>0.0000</td>\n",
       "      <td>0.0000</td>\n",
       "      <td>0.0000</td>\n",
       "      <td>0.0000</td>\n",
       "      <td>0.0000</td>\n",
       "      <td>0.0000</td>\n",
       "      <td>0.0000</td>\n",
       "      <td>98.3528</td>\n",
       "      <td>2</td>\n",
       "      <td>5.4137</td>\n",
       "    </tr>\n",
       "  </tbody>\n",
       "</table>\n",
       "<p>5 rows × 41 columns</p>\n",
       "</div>"
      ],
      "text/plain": [
       "   key  start_temp     target  active_power  reactive_power  apparent_power  \\\n",
       "0    1  1,571.0000 1,613.0000        4.8781          3.1832          5.8264   \n",
       "1    2  1,581.0000 1,602.0000        3.0526          1.9981          3.6492   \n",
       "2    3  1,596.0000 1,599.0000        2.5259          1.5991          2.9895   \n",
       "3    4  1,601.0000 1,625.0000        3.2093          2.0603          3.8150   \n",
       "4    5  1,576.0000 1,602.0000        3.3472          2.2526          4.0358   \n",
       "\n",
       "   duration_heating  energy  qty_iterations  weekday  ...  wire_3  wire_4  \\\n",
       "0           18.3000 24.0396               5        4  ...  0.0000  0.0000   \n",
       "1           13.5167 14.6872               4        4  ...  0.0000  0.0000   \n",
       "2           10.9167  8.7511               5        4  ...  0.0000  0.0000   \n",
       "3           12.3500 13.2819               4        4  ...  0.0000  0.0000   \n",
       "4           14.4833 19.9856               4        4  ...  0.0000  0.0000   \n",
       "\n",
       "   wire_5  wire_6  wire_7  wire_8  wire_9  wire_sum  wire_count   gas_1  \n",
       "0  0.0000  0.0000  0.0000  0.0000  0.0000   60.0600           1 29.7500  \n",
       "1  0.0000  0.0000  0.0000  0.0000  0.0000   96.0523           1 12.5556  \n",
       "2  0.0000  0.0000  0.0000  0.0000  0.0000   91.1602           1 28.5548  \n",
       "3  0.0000  0.0000  0.0000  0.0000  0.0000   89.0635           1 18.8412  \n",
       "4  0.0000  0.0000  0.0000  0.0000  0.0000   98.3528           2  5.4137  \n",
       "\n",
       "[5 rows x 41 columns]"
      ]
     },
     "metadata": {},
     "output_type": "display_data"
    },
    {
     "data": {
      "text/plain": [
       "(2329, 41)"
      ]
     },
     "execution_count": 35,
     "metadata": {},
     "output_type": "execute_result"
    }
   ],
   "source": [
    "display(data_full.head())\n",
    "data_full.shape"
   ]
  },
  {
   "cell_type": "markdown",
   "metadata": {
    "id": "jiku_FdPmwQI"
   },
   "source": [
    "Удалим данные с начальной температурой ниже 1400 градусов."
   ]
  },
  {
   "cell_type": "code",
   "execution_count": null,
   "metadata": {
    "id": "JzFEqxBXcxln"
   },
   "outputs": [],
   "source": [
    "data_full = data_full[data_full['start_temp'] > 1400]"
   ]
  },
  {
   "cell_type": "markdown",
   "metadata": {
    "id": "3Fw1W03BIba0"
   },
   "source": [
    "### Проверка на мультиколлинеарность"
   ]
  },
  {
   "cell_type": "markdown",
   "metadata": {
    "id": "APSy8eiLP7DH"
   },
   "source": [
    "Посмотрим на тепловую карту корреляции."
   ]
  },
  {
   "cell_type": "code",
   "execution_count": null,
   "metadata": {
    "colab": {
     "base_uri": "https://localhost:8080/",
     "height": 928
    },
    "id": "KxAlVBfsIP4P",
    "outputId": "a2baf8a3-9312-4db7-f922-a6e431c31f3c"
   },
   "outputs": [
    {
     "data": {
      "image/png": "[encoded data removed]",
      "text/plain": [
       "<Figure size 1080x1080 with 2 Axes>"
      ]
     },
     "metadata": {},
     "output_type": "display_data"
    }
   ],
   "source": [
    "plt.figure(figsize=(15,15))\n",
    "sns.heatmap(data_full.corr(), annot=False, cmap='Blues');"
   ]
  },
  {
   "cell_type": "markdown",
   "metadata": {
    "id": "WIuMPdh2QCjR"
   },
   "source": [
    "Здесь мы видим что признаки энергии и мощностей сильно коррелируют относительно друг друга. А так же отсутсвие корреляции `wire_5` (содержит только нулевые значения). Посмотрим поближе."
   ]
  },
  {
   "cell_type": "markdown",
   "metadata": {
    "id": "y0M8ydnvx07d"
   },
   "source": [
    "Посмотрим на на данные, где корреляция больше 0,9"
   ]
  },
  {
   "cell_type": "code",
   "execution_count": null,
   "metadata": {
    "id": "sDygusSpojek"
   },
   "outputs": [],
   "source": [
    "def corr_more_09(df):\n",
    "  df = df.corr()\n",
    "  df = df[((df != 1) & (df > 0.9))]\n",
    "\n",
    "  for column in df.columns:\n",
    "    if df[column].notna().sum() == 0:\n",
    "      df = df.drop(column, axis=1)\n",
    "\n",
    "  for idx in df.index:\n",
    "    if df.loc[idx,:].notna().sum() == 0:\n",
    "      df = df.drop(idx)\n",
    "\n",
    "  return df"
   ]
  },
  {
   "cell_type": "code",
   "execution_count": null,
   "metadata": {
    "colab": {
     "base_uri": "https://localhost:8080/",
     "height": 326
    },
    "id": "JKSIcQL7u5WI",
    "outputId": "c245b0b6-1f11-490d-df41-b34a4b8fc48e"
   },
   "outputs": [
    {
     "data": {
      "image/png": "[encoded data removed]",
      "text/plain": [
       "<Figure size 432x288 with 2 Axes>"
      ]
     },
     "metadata": {},
     "output_type": "display_data"
    }
   ],
   "source": [
    "df_new = corr_more_09(data_full).fillna(0)\n",
    "sns.heatmap(df_new, annot=True, cmap='Blues');"
   ]
  },
  {
   "cell_type": "markdown",
   "metadata": {
    "id": "0z9ulgHNZ4q1"
   },
   "source": [
    "Посмотрим на корреляцию признаков к целевому признаку."
   ]
  },
  {
   "cell_type": "code",
   "execution_count": null,
   "metadata": {
    "colab": {
     "base_uri": "https://localhost:8080/",
     "height": 625
    },
    "id": "wUFuLl56TIiD",
    "outputId": "f72d176f-345f-463a-bc67-9196ee47d317"
   },
   "outputs": [
    {
     "name": "stdout",
     "output_type": "stream",
     "text": [
      "interval columns not set, guessing: ['key', 'start_temp', 'target', 'active_power', 'reactive_power', 'apparent_power', 'duration_heating', 'energy', 'qty_iterations', 'weekday', 'month', 'hour', 'bulk_1', 'bulk_2', 'bulk_3', 'bulk_4', 'bulk_5', 'bulk_6', 'bulk_7', 'bulk_8', 'bulk_9', 'bulk_10', 'bulk_11', 'bulk_12', 'bulk_13', 'bulk_14', 'bulk_15', 'bulk_sum', 'bulk_count', 'wire_1', 'wire_2', 'wire_3', 'wire_4', 'wire_5', 'wire_6', 'wire_7', 'wire_8', 'wire_9', 'wire_sum', 'wire_count', 'gas_1']\n"
     ]
    },
    {
     "data": {
      "image/png": "[encoded data removed]",
      "text/plain": [
       "<Figure size 144x720 with 2 Axes>"
      ]
     },
     "metadata": {},
     "output_type": "display_data"
    }
   ],
   "source": [
    "phik_matrix = data_full.phik_matrix();\n",
    "plt.figure(figsize=(2,10))\n",
    "sns.heatmap(phik_matrix['target'].sort_values(ascending=False).to_frame(), annot=True, cmap='Blues');"
   ]
  },
  {
   "cell_type": "markdown",
   "metadata": {
    "id": "RsjreO_qTP24"
   },
   "source": [
    "Следует удалить признаки, коррелирующие между собой, но оставить признаки, которые больше всего оказывают влияние на конечную температуру. Удалим следующие столбцы: `wire_5`, `reactive_power`, `apparent_power`, `energy`, `duration_heating`, `bulk_9`. Так же удалим `key`, так как это не признак. Остальные пока оставим и вернёмся к ним, если модель будет плохо обучаться и целевая метрика не будет достигнута."
   ]
  },
  {
   "cell_type": "code",
   "execution_count": null,
   "metadata": {
    "colab": {
     "base_uri": "https://localhost:8080/"
    },
    "id": "RGlOG4ZKfLzA",
    "outputId": "c600d720-285e-4135-fa76-6d7a45a0385f"
   },
   "outputs": [
    {
     "data": {
      "text/plain": [
       "(2325, 34)"
      ]
     },
     "execution_count": 41,
     "metadata": {},
     "output_type": "execute_result"
    }
   ],
   "source": [
    "data_full = data_full.drop(['wire_5', 'reactive_power', 'apparent_power', 'energy', 'key', 'duration_heating', 'bulk_9'], axis=1)\n",
    "data_full.shape"
   ]
  },
  {
   "cell_type": "code",
   "execution_count": null,
   "metadata": {
    "colab": {
     "base_uri": "https://localhost:8080/",
     "height": 488
    },
    "id": "1gHO2wjlZ4q2",
    "outputId": "06c65ed5-7a96-417b-d22b-8c03ef51f606"
   },
   "outputs": [
    {
     "data": {
      "text/html": [
       "<div>\n",
       "<style scoped>\n",
       "    .dataframe tbody tr th:only-of-type {\n",
       "        vertical-align: middle;\n",
       "    }\n",
       "\n",
       "    .dataframe tbody tr th {\n",
       "        vertical-align: top;\n",
       "    }\n",
       "\n",
       "    .dataframe thead th {\n",
       "        text-align: right;\n",
       "    }\n",
       "</style>\n",
       "<table border=\"1\" class=\"dataframe\">\n",
       "  <thead>\n",
       "    <tr style=\"text-align: right;\">\n",
       "      <th></th>\n",
       "      <th>start_temp</th>\n",
       "      <th>target</th>\n",
       "      <th>active_power</th>\n",
       "      <th>qty_iterations</th>\n",
       "      <th>weekday</th>\n",
       "      <th>month</th>\n",
       "      <th>hour</th>\n",
       "      <th>bulk_1</th>\n",
       "      <th>bulk_2</th>\n",
       "      <th>bulk_3</th>\n",
       "      <th>bulk_4</th>\n",
       "      <th>bulk_5</th>\n",
       "      <th>bulk_6</th>\n",
       "      <th>bulk_7</th>\n",
       "      <th>bulk_8</th>\n",
       "      <th>bulk_10</th>\n",
       "      <th>bulk_11</th>\n",
       "      <th>bulk_12</th>\n",
       "      <th>bulk_13</th>\n",
       "      <th>bulk_14</th>\n",
       "      <th>bulk_15</th>\n",
       "      <th>bulk_sum</th>\n",
       "      <th>bulk_count</th>\n",
       "      <th>wire_1</th>\n",
       "      <th>wire_2</th>\n",
       "      <th>wire_3</th>\n",
       "      <th>wire_4</th>\n",
       "      <th>wire_6</th>\n",
       "      <th>wire_7</th>\n",
       "      <th>wire_8</th>\n",
       "      <th>wire_9</th>\n",
       "      <th>wire_sum</th>\n",
       "      <th>wire_count</th>\n",
       "      <th>gas_1</th>\n",
       "    </tr>\n",
       "  </thead>\n",
       "  <tbody>\n",
       "    <tr>\n",
       "      <th>0</th>\n",
       "      <td>1,571.0000</td>\n",
       "      <td>1,613.0000</td>\n",
       "      <td>4.8781</td>\n",
       "      <td>5</td>\n",
       "      <td>4</td>\n",
       "      <td>5</td>\n",
       "      <td>11</td>\n",
       "      <td>0.0000</td>\n",
       "      <td>0.0000</td>\n",
       "      <td>0.0000</td>\n",
       "      <td>43.0000</td>\n",
       "      <td>0.0000</td>\n",
       "      <td>0.0000</td>\n",
       "      <td>0.0000</td>\n",
       "      <td>0.0000</td>\n",
       "      <td>0.0000</td>\n",
       "      <td>0.0000</td>\n",
       "      <td>206.0000</td>\n",
       "      <td>0.0000</td>\n",
       "      <td>150.0000</td>\n",
       "      <td>154.0000</td>\n",
       "      <td>553.0000</td>\n",
       "      <td>4</td>\n",
       "      <td>60.0600</td>\n",
       "      <td>0.0000</td>\n",
       "      <td>0.0000</td>\n",
       "      <td>0.0000</td>\n",
       "      <td>0.0000</td>\n",
       "      <td>0.0000</td>\n",
       "      <td>0.0000</td>\n",
       "      <td>0.0000</td>\n",
       "      <td>60.0600</td>\n",
       "      <td>1</td>\n",
       "      <td>29.7500</td>\n",
       "    </tr>\n",
       "    <tr>\n",
       "      <th>1</th>\n",
       "      <td>1,581.0000</td>\n",
       "      <td>1,602.0000</td>\n",
       "      <td>3.0526</td>\n",
       "      <td>4</td>\n",
       "      <td>4</td>\n",
       "      <td>5</td>\n",
       "      <td>11</td>\n",
       "      <td>0.0000</td>\n",
       "      <td>0.0000</td>\n",
       "      <td>0.0000</td>\n",
       "      <td>73.0000</td>\n",
       "      <td>0.0000</td>\n",
       "      <td>0.0000</td>\n",
       "      <td>0.0000</td>\n",
       "      <td>0.0000</td>\n",
       "      <td>0.0000</td>\n",
       "      <td>0.0000</td>\n",
       "      <td>206.0000</td>\n",
       "      <td>0.0000</td>\n",
       "      <td>149.0000</td>\n",
       "      <td>154.0000</td>\n",
       "      <td>582.0000</td>\n",
       "      <td>4</td>\n",
       "      <td>96.0523</td>\n",
       "      <td>0.0000</td>\n",
       "      <td>0.0000</td>\n",
       "      <td>0.0000</td>\n",
       "      <td>0.0000</td>\n",
       "      <td>0.0000</td>\n",
       "      <td>0.0000</td>\n",
       "      <td>0.0000</td>\n",
       "      <td>96.0523</td>\n",
       "      <td>1</td>\n",
       "      <td>12.5556</td>\n",
       "    </tr>\n",
       "    <tr>\n",
       "      <th>2</th>\n",
       "      <td>1,596.0000</td>\n",
       "      <td>1,599.0000</td>\n",
       "      <td>2.5259</td>\n",
       "      <td>5</td>\n",
       "      <td>4</td>\n",
       "      <td>5</td>\n",
       "      <td>12</td>\n",
       "      <td>0.0000</td>\n",
       "      <td>0.0000</td>\n",
       "      <td>0.0000</td>\n",
       "      <td>34.0000</td>\n",
       "      <td>0.0000</td>\n",
       "      <td>0.0000</td>\n",
       "      <td>0.0000</td>\n",
       "      <td>0.0000</td>\n",
       "      <td>0.0000</td>\n",
       "      <td>0.0000</td>\n",
       "      <td>205.0000</td>\n",
       "      <td>0.0000</td>\n",
       "      <td>152.0000</td>\n",
       "      <td>153.0000</td>\n",
       "      <td>544.0000</td>\n",
       "      <td>4</td>\n",
       "      <td>91.1602</td>\n",
       "      <td>0.0000</td>\n",
       "      <td>0.0000</td>\n",
       "      <td>0.0000</td>\n",
       "      <td>0.0000</td>\n",
       "      <td>0.0000</td>\n",
       "      <td>0.0000</td>\n",
       "      <td>0.0000</td>\n",
       "      <td>91.1602</td>\n",
       "      <td>1</td>\n",
       "      <td>28.5548</td>\n",
       "    </tr>\n",
       "    <tr>\n",
       "      <th>3</th>\n",
       "      <td>1,601.0000</td>\n",
       "      <td>1,625.0000</td>\n",
       "      <td>3.2093</td>\n",
       "      <td>4</td>\n",
       "      <td>4</td>\n",
       "      <td>5</td>\n",
       "      <td>12</td>\n",
       "      <td>0.0000</td>\n",
       "      <td>0.0000</td>\n",
       "      <td>0.0000</td>\n",
       "      <td>81.0000</td>\n",
       "      <td>0.0000</td>\n",
       "      <td>0.0000</td>\n",
       "      <td>0.0000</td>\n",
       "      <td>0.0000</td>\n",
       "      <td>0.0000</td>\n",
       "      <td>0.0000</td>\n",
       "      <td>207.0000</td>\n",
       "      <td>0.0000</td>\n",
       "      <td>153.0000</td>\n",
       "      <td>154.0000</td>\n",
       "      <td>595.0000</td>\n",
       "      <td>4</td>\n",
       "      <td>89.0635</td>\n",
       "      <td>0.0000</td>\n",
       "      <td>0.0000</td>\n",
       "      <td>0.0000</td>\n",
       "      <td>0.0000</td>\n",
       "      <td>0.0000</td>\n",
       "      <td>0.0000</td>\n",
       "      <td>0.0000</td>\n",
       "      <td>89.0635</td>\n",
       "      <td>1</td>\n",
       "      <td>18.8412</td>\n",
       "    </tr>\n",
       "    <tr>\n",
       "      <th>4</th>\n",
       "      <td>1,576.0000</td>\n",
       "      <td>1,602.0000</td>\n",
       "      <td>3.3472</td>\n",
       "      <td>4</td>\n",
       "      <td>4</td>\n",
       "      <td>5</td>\n",
       "      <td>13</td>\n",
       "      <td>0.0000</td>\n",
       "      <td>0.0000</td>\n",
       "      <td>0.0000</td>\n",
       "      <td>78.0000</td>\n",
       "      <td>0.0000</td>\n",
       "      <td>0.0000</td>\n",
       "      <td>0.0000</td>\n",
       "      <td>0.0000</td>\n",
       "      <td>0.0000</td>\n",
       "      <td>0.0000</td>\n",
       "      <td>203.0000</td>\n",
       "      <td>0.0000</td>\n",
       "      <td>151.0000</td>\n",
       "      <td>152.0000</td>\n",
       "      <td>584.0000</td>\n",
       "      <td>4</td>\n",
       "      <td>89.2382</td>\n",
       "      <td>9.1146</td>\n",
       "      <td>0.0000</td>\n",
       "      <td>0.0000</td>\n",
       "      <td>0.0000</td>\n",
       "      <td>0.0000</td>\n",
       "      <td>0.0000</td>\n",
       "      <td>0.0000</td>\n",
       "      <td>98.3528</td>\n",
       "      <td>2</td>\n",
       "      <td>5.4137</td>\n",
       "    </tr>\n",
       "    <tr>\n",
       "      <th>...</th>\n",
       "      <td>...</td>\n",
       "      <td>...</td>\n",
       "      <td>...</td>\n",
       "      <td>...</td>\n",
       "      <td>...</td>\n",
       "      <td>...</td>\n",
       "      <td>...</td>\n",
       "      <td>...</td>\n",
       "      <td>...</td>\n",
       "      <td>...</td>\n",
       "      <td>...</td>\n",
       "      <td>...</td>\n",
       "      <td>...</td>\n",
       "      <td>...</td>\n",
       "      <td>...</td>\n",
       "      <td>...</td>\n",
       "      <td>...</td>\n",
       "      <td>...</td>\n",
       "      <td>...</td>\n",
       "      <td>...</td>\n",
       "      <td>...</td>\n",
       "      <td>...</td>\n",
       "      <td>...</td>\n",
       "      <td>...</td>\n",
       "      <td>...</td>\n",
       "      <td>...</td>\n",
       "      <td>...</td>\n",
       "      <td>...</td>\n",
       "      <td>...</td>\n",
       "      <td>...</td>\n",
       "      <td>...</td>\n",
       "      <td>...</td>\n",
       "      <td>...</td>\n",
       "      <td>...</td>\n",
       "    </tr>\n",
       "    <tr>\n",
       "      <th>2324</th>\n",
       "      <td>1,570.0000</td>\n",
       "      <td>1,591.0000</td>\n",
       "      <td>3.2107</td>\n",
       "      <td>4</td>\n",
       "      <td>1</td>\n",
       "      <td>8</td>\n",
       "      <td>0</td>\n",
       "      <td>0.0000</td>\n",
       "      <td>0.0000</td>\n",
       "      <td>21.0000</td>\n",
       "      <td>0.0000</td>\n",
       "      <td>0.0000</td>\n",
       "      <td>0.0000</td>\n",
       "      <td>0.0000</td>\n",
       "      <td>0.0000</td>\n",
       "      <td>90.0000</td>\n",
       "      <td>0.0000</td>\n",
       "      <td>256.0000</td>\n",
       "      <td>0.0000</td>\n",
       "      <td>129.0000</td>\n",
       "      <td>223.0000</td>\n",
       "      <td>719.0000</td>\n",
       "      <td>5</td>\n",
       "      <td>89.1509</td>\n",
       "      <td>0.0000</td>\n",
       "      <td>0.0000</td>\n",
       "      <td>0.0000</td>\n",
       "      <td>0.0000</td>\n",
       "      <td>0.0000</td>\n",
       "      <td>0.0000</td>\n",
       "      <td>0.0000</td>\n",
       "      <td>89.1509</td>\n",
       "      <td>1</td>\n",
       "      <td>7.1257</td>\n",
       "    </tr>\n",
       "    <tr>\n",
       "      <th>2325</th>\n",
       "      <td>1,554.0000</td>\n",
       "      <td>1,591.0000</td>\n",
       "      <td>4.2031</td>\n",
       "      <td>6</td>\n",
       "      <td>1</td>\n",
       "      <td>8</td>\n",
       "      <td>1</td>\n",
       "      <td>0.0000</td>\n",
       "      <td>0.0000</td>\n",
       "      <td>0.0000</td>\n",
       "      <td>63.0000</td>\n",
       "      <td>0.0000</td>\n",
       "      <td>0.0000</td>\n",
       "      <td>0.0000</td>\n",
       "      <td>0.0000</td>\n",
       "      <td>122.0000</td>\n",
       "      <td>0.0000</td>\n",
       "      <td>256.0000</td>\n",
       "      <td>0.0000</td>\n",
       "      <td>129.0000</td>\n",
       "      <td>226.0000</td>\n",
       "      <td>796.0000</td>\n",
       "      <td>5</td>\n",
       "      <td>114.1795</td>\n",
       "      <td>0.0000</td>\n",
       "      <td>0.0000</td>\n",
       "      <td>0.0000</td>\n",
       "      <td>0.0000</td>\n",
       "      <td>0.0000</td>\n",
       "      <td>0.0000</td>\n",
       "      <td>0.0000</td>\n",
       "      <td>114.1795</td>\n",
       "      <td>1</td>\n",
       "      <td>9.4126</td>\n",
       "    </tr>\n",
       "    <tr>\n",
       "      <th>2326</th>\n",
       "      <td>1,571.0000</td>\n",
       "      <td>1,589.0000</td>\n",
       "      <td>2.2124</td>\n",
       "      <td>3</td>\n",
       "      <td>1</td>\n",
       "      <td>8</td>\n",
       "      <td>1</td>\n",
       "      <td>0.0000</td>\n",
       "      <td>0.0000</td>\n",
       "      <td>0.0000</td>\n",
       "      <td>85.0000</td>\n",
       "      <td>0.0000</td>\n",
       "      <td>0.0000</td>\n",
       "      <td>0.0000</td>\n",
       "      <td>0.0000</td>\n",
       "      <td>0.0000</td>\n",
       "      <td>0.0000</td>\n",
       "      <td>230.0000</td>\n",
       "      <td>0.0000</td>\n",
       "      <td>124.0000</td>\n",
       "      <td>226.0000</td>\n",
       "      <td>665.0000</td>\n",
       "      <td>4</td>\n",
       "      <td>94.0867</td>\n",
       "      <td>9.0480</td>\n",
       "      <td>0.0000</td>\n",
       "      <td>0.0000</td>\n",
       "      <td>0.0000</td>\n",
       "      <td>0.0000</td>\n",
       "      <td>0.0000</td>\n",
       "      <td>0.0000</td>\n",
       "      <td>103.1347</td>\n",
       "      <td>2</td>\n",
       "      <td>6.2717</td>\n",
       "    </tr>\n",
       "    <tr>\n",
       "      <th>2327</th>\n",
       "      <td>1,591.0000</td>\n",
       "      <td>1,594.0000</td>\n",
       "      <td>3.4087</td>\n",
       "      <td>5</td>\n",
       "      <td>1</td>\n",
       "      <td>8</td>\n",
       "      <td>1</td>\n",
       "      <td>0.0000</td>\n",
       "      <td>0.0000</td>\n",
       "      <td>90.0000</td>\n",
       "      <td>0.0000</td>\n",
       "      <td>0.0000</td>\n",
       "      <td>0.0000</td>\n",
       "      <td>0.0000</td>\n",
       "      <td>0.0000</td>\n",
       "      <td>101.0000</td>\n",
       "      <td>0.0000</td>\n",
       "      <td>206.0000</td>\n",
       "      <td>0.0000</td>\n",
       "      <td>129.0000</td>\n",
       "      <td>207.0000</td>\n",
       "      <td>733.0000</td>\n",
       "      <td>5</td>\n",
       "      <td>118.1107</td>\n",
       "      <td>0.0000</td>\n",
       "      <td>0.0000</td>\n",
       "      <td>0.0000</td>\n",
       "      <td>0.0000</td>\n",
       "      <td>0.0000</td>\n",
       "      <td>0.0000</td>\n",
       "      <td>0.0000</td>\n",
       "      <td>118.1107</td>\n",
       "      <td>1</td>\n",
       "      <td>14.9537</td>\n",
       "    </tr>\n",
       "    <tr>\n",
       "      <th>2328</th>\n",
       "      <td>1,569.0000</td>\n",
       "      <td>1,603.0000</td>\n",
       "      <td>4.0984</td>\n",
       "      <td>4</td>\n",
       "      <td>1</td>\n",
       "      <td>8</td>\n",
       "      <td>2</td>\n",
       "      <td>0.0000</td>\n",
       "      <td>0.0000</td>\n",
       "      <td>47.0000</td>\n",
       "      <td>0.0000</td>\n",
       "      <td>0.0000</td>\n",
       "      <td>0.0000</td>\n",
       "      <td>0.0000</td>\n",
       "      <td>0.0000</td>\n",
       "      <td>0.0000</td>\n",
       "      <td>0.0000</td>\n",
       "      <td>233.0000</td>\n",
       "      <td>0.0000</td>\n",
       "      <td>126.0000</td>\n",
       "      <td>227.0000</td>\n",
       "      <td>633.0000</td>\n",
       "      <td>4</td>\n",
       "      <td>110.1610</td>\n",
       "      <td>50.0053</td>\n",
       "      <td>0.0000</td>\n",
       "      <td>0.0000</td>\n",
       "      <td>0.0000</td>\n",
       "      <td>0.0000</td>\n",
       "      <td>0.0000</td>\n",
       "      <td>0.0000</td>\n",
       "      <td>160.1662</td>\n",
       "      <td>2</td>\n",
       "      <td>11.3362</td>\n",
       "    </tr>\n",
       "  </tbody>\n",
       "</table>\n",
       "<p>2325 rows × 34 columns</p>\n",
       "</div>"
      ],
      "text/plain": [
       "      start_temp     target  active_power  qty_iterations  weekday  month  \\\n",
       "0     1,571.0000 1,613.0000        4.8781               5        4      5   \n",
       "1     1,581.0000 1,602.0000        3.0526               4        4      5   \n",
       "2     1,596.0000 1,599.0000        2.5259               5        4      5   \n",
       "3     1,601.0000 1,625.0000        3.2093               4        4      5   \n",
       "4     1,576.0000 1,602.0000        3.3472               4        4      5   \n",
       "...          ...        ...           ...             ...      ...    ...   \n",
       "2324  1,570.0000 1,591.0000        3.2107               4        1      8   \n",
       "2325  1,554.0000 1,591.0000        4.2031               6        1      8   \n",
       "2326  1,571.0000 1,589.0000        2.2124               3        1      8   \n",
       "2327  1,591.0000 1,594.0000        3.4087               5        1      8   \n",
       "2328  1,569.0000 1,603.0000        4.0984               4        1      8   \n",
       "\n",
       "      hour  bulk_1  bulk_2  bulk_3  bulk_4  bulk_5  bulk_6  bulk_7  bulk_8  \\\n",
       "0       11  0.0000  0.0000  0.0000 43.0000  0.0000  0.0000  0.0000  0.0000   \n",
       "1       11  0.0000  0.0000  0.0000 73.0000  0.0000  0.0000  0.0000  0.0000   \n",
       "2       12  0.0000  0.0000  0.0000 34.0000  0.0000  0.0000  0.0000  0.0000   \n",
       "3       12  0.0000  0.0000  0.0000 81.0000  0.0000  0.0000  0.0000  0.0000   \n",
       "4       13  0.0000  0.0000  0.0000 78.0000  0.0000  0.0000  0.0000  0.0000   \n",
       "...    ...     ...     ...     ...     ...     ...     ...     ...     ...   \n",
       "2324     0  0.0000  0.0000 21.0000  0.0000  0.0000  0.0000  0.0000  0.0000   \n",
       "2325     1  0.0000  0.0000  0.0000 63.0000  0.0000  0.0000  0.0000  0.0000   \n",
       "2326     1  0.0000  0.0000  0.0000 85.0000  0.0000  0.0000  0.0000  0.0000   \n",
       "2327     1  0.0000  0.0000 90.0000  0.0000  0.0000  0.0000  0.0000  0.0000   \n",
       "2328     2  0.0000  0.0000 47.0000  0.0000  0.0000  0.0000  0.0000  0.0000   \n",
       "\n",
       "      bulk_10  bulk_11  bulk_12  bulk_13  bulk_14  bulk_15  bulk_sum  \\\n",
       "0      0.0000   0.0000 206.0000   0.0000 150.0000 154.0000  553.0000   \n",
       "1      0.0000   0.0000 206.0000   0.0000 149.0000 154.0000  582.0000   \n",
       "2      0.0000   0.0000 205.0000   0.0000 152.0000 153.0000  544.0000   \n",
       "3      0.0000   0.0000 207.0000   0.0000 153.0000 154.0000  595.0000   \n",
       "4      0.0000   0.0000 203.0000   0.0000 151.0000 152.0000  584.0000   \n",
       "...       ...      ...      ...      ...      ...      ...       ...   \n",
       "2324  90.0000   0.0000 256.0000   0.0000 129.0000 223.0000  719.0000   \n",
       "2325 122.0000   0.0000 256.0000   0.0000 129.0000 226.0000  796.0000   \n",
       "2326   0.0000   0.0000 230.0000   0.0000 124.0000 226.0000  665.0000   \n",
       "2327 101.0000   0.0000 206.0000   0.0000 129.0000 207.0000  733.0000   \n",
       "2328   0.0000   0.0000 233.0000   0.0000 126.0000 227.0000  633.0000   \n",
       "\n",
       "      bulk_count   wire_1  wire_2  wire_3  wire_4  wire_6  wire_7  wire_8  \\\n",
       "0              4  60.0600  0.0000  0.0000  0.0000  0.0000  0.0000  0.0000   \n",
       "1              4  96.0523  0.0000  0.0000  0.0000  0.0000  0.0000  0.0000   \n",
       "2              4  91.1602  0.0000  0.0000  0.0000  0.0000  0.0000  0.0000   \n",
       "3              4  89.0635  0.0000  0.0000  0.0000  0.0000  0.0000  0.0000   \n",
       "4              4  89.2382  9.1146  0.0000  0.0000  0.0000  0.0000  0.0000   \n",
       "...          ...      ...     ...     ...     ...     ...     ...     ...   \n",
       "2324           5  89.1509  0.0000  0.0000  0.0000  0.0000  0.0000  0.0000   \n",
       "2325           5 114.1795  0.0000  0.0000  0.0000  0.0000  0.0000  0.0000   \n",
       "2326           4  94.0867  9.0480  0.0000  0.0000  0.0000  0.0000  0.0000   \n",
       "2327           5 118.1107  0.0000  0.0000  0.0000  0.0000  0.0000  0.0000   \n",
       "2328           4 110.1610 50.0053  0.0000  0.0000  0.0000  0.0000  0.0000   \n",
       "\n",
       "      wire_9  wire_sum  wire_count   gas_1  \n",
       "0     0.0000   60.0600           1 29.7500  \n",
       "1     0.0000   96.0523           1 12.5556  \n",
       "2     0.0000   91.1602           1 28.5548  \n",
       "3     0.0000   89.0635           1 18.8412  \n",
       "4     0.0000   98.3528           2  5.4137  \n",
       "...      ...       ...         ...     ...  \n",
       "2324  0.0000   89.1509           1  7.1257  \n",
       "2325  0.0000  114.1795           1  9.4126  \n",
       "2326  0.0000  103.1347           2  6.2717  \n",
       "2327  0.0000  118.1107           1 14.9537  \n",
       "2328  0.0000  160.1662           2 11.3362  \n",
       "\n",
       "[2325 rows x 34 columns]"
      ]
     },
     "execution_count": 42,
     "metadata": {},
     "output_type": "execute_result"
    }
   ],
   "source": [
    "pd.set_option('display.max_columns', 150)\n",
    "data_full"
   ]
  },
  {
   "cell_type": "markdown",
   "metadata": {
    "id": "ocKNMjUZH-6z"
   },
   "source": [
    "### Разделение данных на выборки"
   ]
  },
  {
   "cell_type": "code",
   "execution_count": null,
   "metadata": {
    "colab": {
     "base_uri": "https://localhost:8080/"
    },
    "id": "3HQAvOQI3mXR",
    "outputId": "4bb715d4-e558-4b4f-b623-d0dc0dd5cd68"
   },
   "outputs": [
    {
     "data": {
      "text/plain": [
       "((1860, 33), (465, 33), (1860,), (465,))"
      ]
     },
     "execution_count": 43,
     "metadata": {},
     "output_type": "execute_result"
    }
   ],
   "source": [
    "x_train, x_test, y_train, y_test = train_test_split(data_full.drop('target', axis=1), data_full['target'], test_size=.2, random_state=seed)\n",
    "x_train.shape, x_test.shape, y_train.shape, y_test.shape"
   ]
  },
  {
   "cell_type": "markdown",
   "metadata": {
    "id": "LwIjhsdx7Tq4"
   },
   "source": [
    "## Построение моделей машинного обучения "
   ]
  },
  {
   "cell_type": "markdown",
   "metadata": {
    "id": "A6jW3EnyHDuC"
   },
   "source": [
    "Обучим следующие модели:   \n",
    "- LightGBM\n",
    "- CatBoost\n",
    "- LinearRegression\n",
    "- Ridge\n",
    "\n",
    "Записывать результаты будем в талицу."
   ]
  },
  {
   "cell_type": "code",
   "execution_count": null,
   "metadata": {
    "id": "5JhlFYdoQ3RE"
   },
   "outputs": [],
   "source": [
    "models = []\n",
    "scores = []"
   ]
  },
  {
   "cell_type": "markdown",
   "metadata": {
    "id": "fhsOM5YPlikh"
   },
   "source": [
    "### LGBMRegressor"
   ]
  },
  {
   "cell_type": "markdown",
   "metadata": {
    "id": "Stwu2Qu0lrcq"
   },
   "source": [
    "Оценивать модель будем кросс-валидацией"
   ]
  },
  {
   "cell_type": "code",
   "execution_count": null,
   "metadata": {
    "id": "ZR19Pem_qxbw"
   },
   "outputs": [],
   "source": [
    "gbm_params = {\n",
    "    'learning_rate': [0.01, 0.1, 1],\n",
    "    'n_estimators': range(100,220,10)\n",
    "}\n",
    "\n",
    "gbm_model = lgb.LGBMRegressor(random_state=seed)\n",
    "\n",
    "grid_gbm = GridSearchCV(gbm_model, gbm_params, scoring='neg_mean_absolute_error', cv=5)"
   ]
  },
  {
   "cell_type": "code",
   "execution_count": null,
   "metadata": {
    "id": "tYZTD9EGHgvy"
   },
   "outputs": [],
   "source": [
    "%%time\n",
    "grid_gbm.fit(x_train, y_train)"
   ]
  },
  {
   "cell_type": "code",
   "execution_count": null,
   "metadata": {
    "id": "5oAMkXOfqAE0"
   },
   "outputs": [],
   "source": [
    "print('MAE кросс-валидации лучшей модели', abs(round(grid_gbm.best_score_, 2)))"
   ]
  },
  {
   "cell_type": "markdown",
   "metadata": {
    "id": "BW49oBeYsz3C"
   },
   "source": [
    "Не плохой результат, запишем модель и результат."
   ]
  },
  {
   "cell_type": "code",
   "execution_count": null,
   "metadata": {
    "colab": {
     "base_uri": "https://localhost:8080/"
    },
    "id": "gRZiekj-R2Wo",
    "outputId": "8f95d6bd-149c-4e87-c44d-6d7220fc5b1d"
   },
   "outputs": [
    {
     "data": {
      "text/plain": [
       "LGBMRegressor(random_state=29082022)"
      ]
     },
     "execution_count": 625,
     "metadata": {},
     "output_type": "execute_result"
    }
   ],
   "source": [
    "models.append('LGBMRegressor')\n",
    "scores.append(abs(round(grid_gbm.best_score_, 2)))\n",
    "gbm_model = grid_gbm.best_estimator_\n",
    "grid_gbm.best_estimator_"
   ]
  },
  {
   "cell_type": "code",
   "execution_count": null,
   "metadata": {
    "colab": {
     "base_uri": "https://localhost:8080/",
     "height": 617
    },
    "id": "WKbXij_sddqU",
    "outputId": "bcd2979e-02e6-4911-cccc-c3dbf2197867"
   },
   "outputs": [
    {
     "data": {
      "image/png": "[encoded data removed]",
      "text/plain": [
       "<Figure size 720x720 with 1 Axes>"
      ]
     },
     "metadata": {},
     "output_type": "display_data"
    }
   ],
   "source": [
    "lgb.plot_importance(gbm_model, height=.5, figsize=(10,10));"
   ]
  },
  {
   "cell_type": "markdown",
   "metadata": {
    "id": "gD8cX4YqR7zp"
   },
   "source": [
    "### CatBoostRegressor"
   ]
  },
  {
   "cell_type": "code",
   "execution_count": null,
   "metadata": {
    "id": "iuiKQSPrTY5f"
   },
   "outputs": [],
   "source": [
    "cat_params = {'learning_rate': [0.01, 0.1, 0.2]}\n",
    "\n",
    "cat_model = CatBoostRegressor(random_state=seed, loss_function='MAE', verbose=0)\n",
    "grid_cat = GridSearchCV(cat_model, cat_params, scoring='neg_mean_absolute_error', cv=5)"
   ]
  },
  {
   "cell_type": "code",
   "execution_count": null,
   "metadata": {
    "colab": {
     "base_uri": "https://localhost:8080/"
    },
    "id": "Hdn4g_bUW4B1",
    "outputId": "fda72c7d-76e6-44ec-bd48-355ba6f46d3e"
   },
   "outputs": [
    {
     "name": "stdout",
     "output_type": "stream",
     "text": [
      "CPU times: user 2min 6s, sys: 6.58 s, total: 2min 13s\n",
      "Wall time: 1min 12s\n"
     ]
    },
    {
     "data": {
      "text/plain": [
       "GridSearchCV(cv=5,\n",
       "             estimator=<catboost.core.CatBoostRegressor object at 0x7f2a5ad47750>,\n",
       "             param_grid={'learning_rate': [0.01, 0.1, 0.2]},\n",
       "             scoring='neg_mean_absolute_error')"
      ]
     },
     "execution_count": 628,
     "metadata": {},
     "output_type": "execute_result"
    }
   ],
   "source": [
    "%%time\n",
    "grid_cat.fit(x_train, y_train)"
   ]
  },
  {
   "cell_type": "code",
   "execution_count": null,
   "metadata": {
    "colab": {
     "base_uri": "https://localhost:8080/"
    },
    "id": "64Ecmof1W8W1",
    "outputId": "027c9a29-e0ec-46ad-b9ba-3353625202b2"
   },
   "outputs": [
    {
     "name": "stdout",
     "output_type": "stream",
     "text": [
      "MAE кросс-валидации лучшей модели 5.88\n"
     ]
    }
   ],
   "source": [
    "print('MAE кросс-валидации лучшей модели', abs(round(grid_cat.best_score_, 2)))"
   ]
  },
  {
   "cell_type": "markdown",
   "metadata": {
    "id": "fnTIP08UXqtZ"
   },
   "source": [
    "Результат чуть лучше, запишем модель и результат."
   ]
  },
  {
   "cell_type": "code",
   "execution_count": null,
   "metadata": {
    "colab": {
     "base_uri": "https://localhost:8080/"
    },
    "id": "UtLIBOMkXZ04",
    "outputId": "fcfb0a25-493a-40fc-fae6-d698857a0ab1"
   },
   "outputs": [
    {
     "data": {
      "text/plain": [
       "<catboost.core.CatBoostRegressor at 0x7f2a5b6dde50>"
      ]
     },
     "execution_count": 630,
     "metadata": {},
     "output_type": "execute_result"
    }
   ],
   "source": [
    "models.append('CatBoostRegressor')\n",
    "scores.append(abs(round(grid_cat.best_score_, 2)))\n",
    "cat_model = grid_cat.best_estimator_\n",
    "grid_cat.best_estimator_"
   ]
  },
  {
   "cell_type": "markdown",
   "metadata": {
    "id": "xtDliYhBYCXu"
   },
   "source": [
    "### LinearRegression"
   ]
  },
  {
   "cell_type": "code",
   "execution_count": null,
   "metadata": {
    "id": "kL2RW1XUZBtj"
   },
   "outputs": [],
   "source": [
    "lr_params = {'normalize': [True, False],\n",
    "           'copy_X': [True, False],\n",
    "           'fit_intercept': [True, False]}\n",
    "\n",
    "lr_model = LinearRegression()\n",
    "grid_lr = GridSearchCV(lr_model, lr_params, scoring='neg_mean_absolute_error', cv=5, verbose=1)"
   ]
  },
  {
   "cell_type": "code",
   "execution_count": null,
   "metadata": {
    "colab": {
     "base_uri": "https://localhost:8080/"
    },
    "id": "cUuFZYqzZsCE",
    "outputId": "1ad18e63-7747-4991-a0b2-340aa10a638d"
   },
   "outputs": [
    {
     "name": "stdout",
     "output_type": "stream",
     "text": [
      "Fitting 5 folds for each of 8 candidates, totalling 40 fits\n",
      "CPU times: user 1.1 s, sys: 3.42 s, total: 4.51 s\n",
      "Wall time: 4.49 s\n"
     ]
    },
    {
     "data": {
      "text/plain": [
       "GridSearchCV(cv=5, estimator=LinearRegression(),\n",
       "             param_grid={'copy_X': [True, False],\n",
       "                         'fit_intercept': [True, False],\n",
       "                         'normalize': [True, False]},\n",
       "             scoring='neg_mean_absolute_error', verbose=1)"
      ]
     },
     "execution_count": 49,
     "metadata": {},
     "output_type": "execute_result"
    }
   ],
   "source": [
    "%%time\n",
    "grid_lr.fit(x_train, y_train)"
   ]
  },
  {
   "cell_type": "code",
   "execution_count": null,
   "metadata": {
    "colab": {
     "base_uri": "https://localhost:8080/"
    },
    "id": "wr_ig3ZgZ_Z2",
    "outputId": "5413adf1-8948-425c-d831-ffd485cc6c19"
   },
   "outputs": [
    {
     "name": "stdout",
     "output_type": "stream",
     "text": [
      "MAE кросс-валидации лучшей модели 6.27\n"
     ]
    }
   ],
   "source": [
    "print('MAE кросс-валидации лучшей модели', abs(round(grid_lr.best_score_, 2)))"
   ]
  },
  {
   "cell_type": "code",
   "execution_count": null,
   "metadata": {
    "colab": {
     "base_uri": "https://localhost:8080/"
    },
    "id": "69w_yk7aaW0q",
    "outputId": "07c795d3-e06b-4ea5-d005-fb9d2ce657e9"
   },
   "outputs": [
    {
     "data": {
      "text/plain": [
       "LinearRegression()"
      ]
     },
     "execution_count": 51,
     "metadata": {},
     "output_type": "execute_result"
    }
   ],
   "source": [
    "models.append('LinearRegression')\n",
    "scores.append(abs(round(grid_lr.best_score_, 2)))\n",
    "lr_model = grid_lr.best_estimator_\n",
    "grid_lr.best_estimator_"
   ]
  },
  {
   "cell_type": "markdown",
   "metadata": {
    "id": "CV1jnpC8e-P4"
   },
   "source": [
    "### Ridge Regression"
   ]
  },
  {
   "cell_type": "code",
   "execution_count": null,
   "metadata": {
    "id": "XAlknQRV-PO1"
   },
   "outputs": [],
   "source": [
    "rr_params = {'solver': ['auto', 'svd', 'cholesky', 'saga', 'lbfgs'],\n",
    "             'alpha': range(0, 20)}\n",
    "\n",
    "rr_model = Ridge(random_state=seed)\n",
    "grid_rr = GridSearchCV(rr_model, rr_params, scoring='neg_mean_absolute_error', cv=5, verbose=1)"
   ]
  },
  {
   "cell_type": "code",
   "execution_count": null,
   "metadata": {
    "colab": {
     "base_uri": "https://localhost:8080/"
    },
    "id": "jLezLt0E_Vqt",
    "outputId": "a9e1f6e3-4539-4c68-e0eb-74a15cd9aed9"
   },
   "outputs": [
    {
     "name": "stdout",
     "output_type": "stream",
     "text": [
      "Fitting 5 folds for each of 10 candidates, totalling 50 fits\n",
      "CPU times: user 6.57 s, sys: 3.38 s, total: 9.95 s\n",
      "Wall time: 9.86 s\n"
     ]
    },
    {
     "data": {
      "text/plain": [
       "GridSearchCV(cv=5, estimator=Ridge(random_state=29082022),\n",
       "             param_grid={'alpha': range(18, 20),\n",
       "                         'solver': ['auto', 'svd', 'cholesky', 'saga',\n",
       "                                    'lbfgs']},\n",
       "             scoring='neg_mean_absolute_error', verbose=1)"
      ]
     },
     "execution_count": 53,
     "metadata": {},
     "output_type": "execute_result"
    }
   ],
   "source": [
    "%%time\n",
    "grid_rr.fit(x_train, y_train)"
   ]
  },
  {
   "cell_type": "code",
   "execution_count": null,
   "metadata": {
    "colab": {
     "base_uri": "https://localhost:8080/"
    },
    "id": "jQXqH6sbAAM3",
    "outputId": "d8fb8e91-b007-490c-d912-750fc01e2757"
   },
   "outputs": [
    {
     "name": "stdout",
     "output_type": "stream",
     "text": [
      "MAE кросс-валидации лучшей модели 6.05\n"
     ]
    }
   ],
   "source": [
    "print('MAE кросс-валидации лучшей модели', abs(round(grid_rr.best_score_, 2)))"
   ]
  },
  {
   "cell_type": "code",
   "execution_count": null,
   "metadata": {
    "colab": {
     "base_uri": "https://localhost:8080/"
    },
    "id": "AWQw2b4AAJT9",
    "outputId": "5692a63e-6a10-477c-ee9b-1a481903612c"
   },
   "outputs": [
    {
     "data": {
      "text/plain": [
       "Ridge(alpha=19, random_state=29082022)"
      ]
     },
     "execution_count": 55,
     "metadata": {},
     "output_type": "execute_result"
    }
   ],
   "source": [
    "models.append('RidgeRegression')\n",
    "scores.append(abs(round(grid_rr.best_score_, 2)))\n",
    "rr_model = grid_rr.best_estimator_\n",
    "grid_rr.best_estimator_"
   ]
  },
  {
   "cell_type": "markdown",
   "metadata": {
    "id": "T4URq-hUOpCL"
   },
   "source": [
    "## Анализ работы моделей и подготовка отчёта"
   ]
  },
  {
   "cell_type": "markdown",
   "metadata": {
    "id": "JCsQ1HUhQp5W"
   },
   "source": [
    "### Сравнение моделей"
   ]
  },
  {
   "cell_type": "markdown",
   "metadata": {
    "id": "-CI2vHEBJWy-"
   },
   "source": [
    "Запишем наши результаты в таблицу"
   ]
  },
  {
   "cell_type": "code",
   "execution_count": null,
   "metadata": {
    "colab": {
     "base_uri": "https://localhost:8080/",
     "height": 175
    },
    "id": "z73-YMeCJXHv",
    "outputId": "1b3b8259-740c-4bc4-918b-51aa939b6f72"
   },
   "outputs": [
    {
     "data": {
      "text/html": [
       "\n",
       "  <div id=\"df-d42a8c81-36d7-492f-afd8-32ef1e8f2537\">\n",
       "    <div class=\"colab-df-container\">\n",
       "      <div>\n",
       "<style scoped>\n",
       "    .dataframe tbody tr th:only-of-type {\n",
       "        vertical-align: middle;\n",
       "    }\n",
       "\n",
       "    .dataframe tbody tr th {\n",
       "        vertical-align: top;\n",
       "    }\n",
       "\n",
       "    .dataframe thead th {\n",
       "        text-align: right;\n",
       "    }\n",
       "</style>\n",
       "<table border=\"1\" class=\"dataframe\">\n",
       "  <thead>\n",
       "    <tr style=\"text-align: right;\">\n",
       "      <th></th>\n",
       "      <th>MAE_scores_cv</th>\n",
       "    </tr>\n",
       "  </thead>\n",
       "  <tbody>\n",
       "    <tr>\n",
       "      <th>CatBoostRegressor</th>\n",
       "      <td>5.8800</td>\n",
       "    </tr>\n",
       "    <tr>\n",
       "      <th>RidgeRegression</th>\n",
       "      <td>6.0500</td>\n",
       "    </tr>\n",
       "    <tr>\n",
       "      <th>LGBMRegressor</th>\n",
       "      <td>6.0800</td>\n",
       "    </tr>\n",
       "    <tr>\n",
       "      <th>LinearRegression</th>\n",
       "      <td>6.2700</td>\n",
       "    </tr>\n",
       "  </tbody>\n",
       "</table>\n",
       "</div>\n",
       "      <button class=\"colab-df-convert\" onclick=\"convertToInteractive('df-d42a8c81-36d7-492f-afd8-32ef1e8f2537')\"\n",
       "              title=\"Convert this dataframe to an interactive table.\"\n",
       "              style=\"display:none;\">\n",
       "        \n",
       "  <svg xmlns=\"http://www.w3.org/2000/svg\" height=\"24px\"viewBox=\"0 0 24 24\"\n",
       "       width=\"24px\">\n",
       "    <path d=\"M0 0h24v24H0V0z\" fill=\"none\"/>\n",
       "    <path d=\"M18.56 5.44l.94 2.06.94-2.06 2.06-.94-2.06-.94-.94-2.06-.94 2.06-2.06.94zm-11 1L8.5 8.5l.94-2.06 2.06-.94-2.06-.94L8.5 2.5l-.94 2.06-2.06.94zm10 10l.94 2.06.94-2.06 2.06-.94-2.06-.94-.94-2.06-.94 2.06-2.06.94z\"/><path d=\"M17.41 7.96l-1.37-1.37c-.4-.4-.92-.59-1.43-.59-.52 0-1.04.2-1.43.59L10.3 9.45l-7.72 7.72c-.78.78-.78 2.05 0 2.83L4 21.41c.39.39.9.59 1.41.59.51 0 1.02-.2 1.41-.59l7.78-7.78 2.81-2.81c.8-.78.8-2.07 0-2.86zM5.41 20L4 18.59l7.72-7.72 1.47 1.35L5.41 20z\"/>\n",
       "  </svg>\n",
       "      </button>\n",
       "      \n",
       "  <style>\n",
       "    .colab-df-container {\n",
       "      display:flex;\n",
       "      flex-wrap:wrap;\n",
       "      gap: 12px;\n",
       "    }\n",
       "\n",
       "    .colab-df-convert {\n",
       "      background-color: #E8F0FE;\n",
       "      border: none;\n",
       "      border-radius: 50%;\n",
       "      cursor: pointer;\n",
       "      display: none;\n",
       "      fill: #1967D2;\n",
       "      height: 32px;\n",
       "      padding: 0 0 0 0;\n",
       "      width: 32px;\n",
       "    }\n",
       "\n",
       "    .colab-df-convert:hover {\n",
       "      background-color: #E2EBFA;\n",
       "      box-shadow: 0px 1px 2px rgba(60, 64, 67, 0.3), 0px 1px 3px 1px rgba(60, 64, 67, 0.15);\n",
       "      fill: #174EA6;\n",
       "    }\n",
       "\n",
       "    [theme=dark] .colab-df-convert {\n",
       "      background-color: #3B4455;\n",
       "      fill: #D2E3FC;\n",
       "    }\n",
       "\n",
       "    [theme=dark] .colab-df-convert:hover {\n",
       "      background-color: #434B5C;\n",
       "      box-shadow: 0px 1px 3px 1px rgba(0, 0, 0, 0.15);\n",
       "      filter: drop-shadow(0px 1px 2px rgba(0, 0, 0, 0.3));\n",
       "      fill: #FFFFFF;\n",
       "    }\n",
       "  </style>\n",
       "\n",
       "      <script>\n",
       "        const buttonEl =\n",
       "          document.querySelector('#df-d42a8c81-36d7-492f-afd8-32ef1e8f2537 button.colab-df-convert');\n",
       "        buttonEl.style.display =\n",
       "          google.colab.kernel.accessAllowed ? 'block' : 'none';\n",
       "\n",
       "        async function convertToInteractive(key) {\n",
       "          const element = document.querySelector('#df-d42a8c81-36d7-492f-afd8-32ef1e8f2537');\n",
       "          const dataTable =\n",
       "            await google.colab.kernel.invokeFunction('convertToInteractive',\n",
       "                                                     [key], {});\n",
       "          if (!dataTable) return;\n",
       "\n",
       "          const docLinkHtml = 'Like what you see? Visit the ' +\n",
       "            '<a target=\"_blank\" href=https://colab.research.google.com/notebooks/data_table.ipynb>data table notebook</a>'\n",
       "            + ' to learn more about interactive tables.';\n",
       "          element.innerHTML = '';\n",
       "          dataTable['output_type'] = 'display_data';\n",
       "          await google.colab.output.renderOutput(dataTable, element);\n",
       "          const docLink = document.createElement('div');\n",
       "          docLink.innerHTML = docLinkHtml;\n",
       "          element.appendChild(docLink);\n",
       "        }\n",
       "      </script>\n",
       "    </div>\n",
       "  </div>\n",
       "  "
      ],
      "text/plain": [
       "                   MAE_scores_cv\n",
       "CatBoostRegressor         5.8800\n",
       "RidgeRegression           6.0500\n",
       "LGBMRegressor             6.0800\n",
       "LinearRegression          6.2700"
      ]
     },
     "execution_count": 640,
     "metadata": {},
     "output_type": "execute_result"
    }
   ],
   "source": [
    "report = pd.DataFrame({'MAE_scores_cv': scores}, index=models).sort_values('MAE_scores_cv')\n",
    "report"
   ]
  },
  {
   "cell_type": "markdown",
   "metadata": {
    "id": "nPQK4iZQKhyQ"
   },
   "source": [
    "На кросс-валидации у нас лучшие результаты показал CatBoostRegressor с параметрами    \n",
    "`learning_rate=0.1, loss_function='MAE`"
   ]
  },
  {
   "cell_type": "markdown",
   "metadata": {
    "id": "oQqlzH5KM_BM"
   },
   "source": [
    "### Проверка модели на тестовой выборке"
   ]
  },
  {
   "cell_type": "markdown",
   "metadata": {
    "id": "kYw75RyfQzZv"
   },
   "source": [
    "Посмотрим результат лучшей модели на тестовой выборке"
   ]
  },
  {
   "cell_type": "code",
   "execution_count": null,
   "metadata": {
    "colab": {
     "base_uri": "https://localhost:8080/"
    },
    "id": "Sqb1wSy5ru9E",
    "outputId": "32da4db1-ea53-4636-d10c-e86385c7a30a"
   },
   "outputs": [
    {
     "name": "stdout",
     "output_type": "stream",
     "text": [
      "MAE на тестовой выборке 5.997065831012037\n"
     ]
    }
   ],
   "source": [
    "print('MAE на тестовой выборке', mean_absolute_error(y_test, cat_model.predict(x_test)))"
   ]
  },
  {
   "cell_type": "markdown",
   "metadata": {
    "id": "l2DdVpqJ_5as"
   },
   "source": [
    "MAE > 8.7 — 0 sp   \n",
    "   \t7.6 < MAE ≤ 8.7 — 4 sp   \n",
    "   \t6.8 < MAE ≤ 7.6 — 4.5 sp  \n",
    "   \t6.3 < MAE ≤ 6.8 — 5 sp  \n",
    "   \t6.0 < MAE ≤ 6.3 — 5.5 sp  \n",
    "   \t**MAE ≤ 6.0 — 6 sp**\n",
    "\n",
    "Модель можно считать успешной"
   ]
  },
  {
   "cell_type": "markdown",
   "metadata": {
    "id": "YuvCOwdh8DsV"
   },
   "source": [
    "### Значимость признаков"
   ]
  },
  {
   "cell_type": "markdown",
   "metadata": {
    "id": "l6TkCsu3Auhw"
   },
   "source": [
    "Оценим значимость признаков для нашей лучшей модели"
   ]
  },
  {
   "cell_type": "code",
   "execution_count": null,
   "metadata": {
    "colab": {
     "base_uri": "https://localhost:8080/",
     "height": 609
    },
    "id": "9JQ4rbF6A3K6",
    "outputId": "1af40e8c-2b19-4b9e-dd9c-740320e6b0e2"
   },
   "outputs": [
    {
     "data": {
      "image/png": "[encoded data removed]",
      "text/plain": [
       "<Figure size 1080x720 with 1 Axes>"
      ]
     },
     "metadata": {},
     "output_type": "display_data"
    }
   ],
   "source": [
    "feature_importance = cat_model.feature_importances_\n",
    "sorted_idx = np.argsort(feature_importance)\n",
    "fig = plt.figure(figsize=(15, 10))\n",
    "plt.barh(range(len(sorted_idx)), feature_importance[sorted_idx], align='center')\n",
    "plt.yticks(range(len(sorted_idx)), np.array(x_test.columns)[sorted_idx])\n",
    "plt.title('Feature Importance', size=20);"
   ]
  },
  {
   "cell_type": "markdown",
   "metadata": {
    "id": "oES-qkCjDdu2"
   },
   "source": [
    "Здесь как и ожидалось на первом месте активная мощность (сколько потребовалось мощности, до такой температуры и нагревали) далее идёт начальная температура, что тоже логично. Основными факторами, требующих дополнительного нагрева, а следовательно и энергии являются:   \n",
    "- Легирующий элемент в проволочном виде №1,\n",
    "- Объём потребляемого газа (вероятнее всего чем больше подаётся газа, тем больше требуется нагревать сплав)\n",
    "- Легирующий элемент в сыпучем виде №6 (возможно элемент является тугоплавким и для его расплавления требуется больше нагрева --> энергии)\n",
    "- Далее существует зависимость от часа времени суток. Возможно это связанно со сменностью или какими ещё другими факторами, происходящими в течении дня. Этот вопрос следует изучить глубже."
   ]
  },
  {
   "cell_type": "markdown",
   "metadata": {
    "id": "w1yB3tV5C2UU"
   },
   "source": [
    "### Отчёт по решению"
   ]
  },
  {
   "cell_type": "markdown",
   "metadata": {
    "id": "leHliDqrON1a"
   },
   "source": [
    "Перед нами стояла задача построить модель, которая предскажет температуру стали. В будующем такая модель должна помочь оптимизировать затраты на этапе обработки стали.\n",
    "\n",
    "Нами были изучены данные и выявлены некоторые аномалии:\n",
    "- Одно значение реактивной мощности было аномально отрицательным (заменено расчётным значением)\n",
    "- Большое кол-во итераций нагрева сплава до 16 (возможно это другой сплав) (не удалено)\n",
    "- Большой объём затрачиваемого газа при перемешивании (возможно связано с техническими неполадками) (не удалено)\n",
    "- Низкая температура плавления ниже 1400 градусов (возможно это другой сплав) (удалено)\n",
    "- Большая длительность нагрева сплава (возможно это другой сплав) (не удалено)\n",
    "\n",
    "Были созданы следующие дополнительные признаки:\n",
    "- Начальная температура\n",
    "- Час начала нагрева\n",
    "- День недели   \n",
    "\n",
    "Были так же добавлены признаки связанные с мощностью и энергией, которые в последствии были удалены из-за мультиколлинеарности. Был оставлен только признак `active_power` Так же был удалён признак легирующего элемента `wire_5`, так как он не использовался во время сбора данных и ключ `key`, так как не имеет технологической значимости.\n",
    "\n",
    "Все данные были объеденены в одну таблицу по ключу `key` (значения просуммированы) и переданы следующим моделям для обучения:\n",
    "- LGBMRegressor\n",
    "- CatBoostRegressor\n",
    "- LinearRegression\n",
    "- Ridge\n",
    "\n",
    "Лучшие результаты средней абсолютной ошибки (МАЕ) кросс-валидации получила модель *CatBoostRegressor* с параметрами *learning_rate=0.1, loss_function='MAE'*. На тесте эта модель получила значение **МАЕ = 5.997**.\n",
    "\n",
    "Следует отметить значимость признака часа суток для данной модели. Вероятнее всего здесь есть зависимость от смены или другого признака связанного со временем проведения обработки и для этого потребуются дополнительные исследования. Так же стоит отметить что есть и малозначимые признаки из нескольких легирующих элементов."
   ]
  }
 ],
 "metadata": {
  "ExecuteTimeLog": [
   {
    "duration": 3612,
    "start_time": "2022-08-31T09:26:51.216Z"
   },
   {
    "duration": 162,
    "start_time": "2022-08-31T09:26:56.865Z"
   },
   {
    "duration": 418,
    "start_time": "2022-08-31T09:27:11.469Z"
   },
   {
    "duration": 388,
    "start_time": "2022-08-31T09:27:14.648Z"
   },
   {
    "duration": 53,
    "start_time": "2022-08-31T09:27:17.168Z"
   },
   {
    "duration": 199,
    "start_time": "2022-08-31T09:28:07.846Z"
   },
   {
    "duration": 10,
    "start_time": "2022-08-31T10:10:09.883Z"
   },
   {
    "duration": 3,
    "start_time": "2022-08-31T10:10:11.247Z"
   },
   {
    "duration": 95,
    "start_time": "2022-08-31T10:10:13.119Z"
   },
   {
    "duration": 8,
    "start_time": "2022-08-31T10:10:18.819Z"
   },
   {
    "duration": 191,
    "start_time": "2022-08-31T10:10:19.800Z"
   },
   {
    "duration": 79,
    "start_time": "2022-08-31T10:11:27.135Z"
   },
   {
    "duration": 13,
    "start_time": "2022-08-31T10:11:51.301Z"
   },
   {
    "duration": 206,
    "start_time": "2022-08-31T10:12:11.271Z"
   },
   {
    "duration": 85,
    "start_time": "2022-08-31T10:12:20.046Z"
   },
   {
    "duration": 28,
    "start_time": "2022-08-31T10:13:01.051Z"
   },
   {
    "duration": 396,
    "start_time": "2022-08-31T10:13:02.009Z"
   },
   {
    "duration": 48,
    "start_time": "2022-08-31T10:13:40.322Z"
   },
   {
    "duration": 483,
    "start_time": "2022-08-31T10:13:41.027Z"
   },
   {
    "duration": 49,
    "start_time": "2022-08-31T10:14:04.110Z"
   },
   {
    "duration": 54,
    "start_time": "2022-08-31T10:14:30.415Z"
   },
   {
    "duration": 54,
    "start_time": "2022-08-31T10:14:50.369Z"
   },
   {
    "duration": 19,
    "start_time": "2022-08-31T10:15:18.784Z"
   },
   {
    "duration": 10,
    "start_time": "2022-08-31T10:15:19.599Z"
   },
   {
    "duration": 18,
    "start_time": "2022-08-31T10:15:20.576Z"
   },
   {
    "duration": 3049,
    "start_time": "2022-08-31T10:15:21.026Z"
   },
   {
    "duration": 23,
    "start_time": "2022-08-31T10:15:24.077Z"
   },
   {
    "duration": 4721,
    "start_time": "2022-09-03T18:53:17.937Z"
   },
   {
    "duration": 1977,
    "start_time": "2022-09-03T18:53:25.541Z"
   },
   {
    "duration": 539,
    "start_time": "2022-09-03T18:53:42.470Z"
   },
   {
    "duration": 542,
    "start_time": "2022-09-03T18:53:46.641Z"
   },
   {
    "duration": 205,
    "start_time": "2022-09-03T18:53:51.100Z"
   },
   {
    "duration": 3,
    "start_time": "2022-09-03T18:53:55.533Z"
   },
   {
    "duration": 3,
    "start_time": "2022-09-03T18:54:01.356Z"
   },
   {
    "duration": 61,
    "start_time": "2022-09-03T18:54:02.033Z"
   },
   {
    "duration": 8,
    "start_time": "2022-09-03T18:54:12.406Z"
   },
   {
    "duration": 164,
    "start_time": "2022-09-03T18:54:13.390Z"
   },
   {
    "duration": 112,
    "start_time": "2022-09-03T18:54:17.259Z"
   },
   {
    "duration": 57,
    "start_time": "2022-09-03T18:54:19.261Z"
   },
   {
    "duration": 26,
    "start_time": "2022-09-03T18:54:24.459Z"
   },
   {
    "duration": 316,
    "start_time": "2022-09-03T18:54:25.068Z"
   },
   {
    "duration": 10,
    "start_time": "2022-09-03T18:54:26.862Z"
   },
   {
    "duration": 41,
    "start_time": "2022-09-03T18:54:45.990Z"
   },
   {
    "duration": 300,
    "start_time": "2022-09-03T18:54:46.812Z"
   },
   {
    "duration": 40,
    "start_time": "2022-09-03T18:54:49.339Z"
   },
   {
    "duration": 44,
    "start_time": "2022-09-03T18:54:51.331Z"
   },
   {
    "duration": 3,
    "start_time": "2022-09-03T18:55:03.494Z"
   },
   {
    "duration": 10,
    "start_time": "2022-09-03T18:55:04.199Z"
   },
   {
    "duration": 9,
    "start_time": "2022-09-03T18:55:05.555Z"
   },
   {
    "duration": 8,
    "start_time": "2022-09-03T18:55:06.381Z"
   },
   {
    "duration": 438,
    "start_time": "2022-09-03T18:55:07.350Z"
   },
   {
    "duration": 4,
    "start_time": "2022-09-03T18:55:19.648Z"
   },
   {
    "duration": 17,
    "start_time": "2022-09-03T18:55:20.197Z"
   },
   {
    "duration": 316,
    "start_time": "2022-09-03T18:55:23.507Z"
   },
   {
    "duration": 5,
    "start_time": "2022-09-03T18:55:26.238Z"
   },
   {
    "duration": 19,
    "start_time": "2022-09-03T18:55:27.533Z"
   },
   {
    "duration": 3,
    "start_time": "2022-09-03T18:55:35.134Z"
   },
   {
    "duration": 5,
    "start_time": "2022-09-03T18:55:36.133Z"
   },
   {
    "duration": 365,
    "start_time": "2022-09-03T18:55:36.703Z"
   },
   {
    "duration": 17,
    "start_time": "2022-09-03T18:55:39.083Z"
   },
   {
    "duration": 18,
    "start_time": "2022-09-03T18:55:39.746Z"
   },
   {
    "duration": 3,
    "start_time": "2022-09-03T18:55:44.657Z"
   },
   {
    "duration": 1077,
    "start_time": "2022-09-03T19:02:47.892Z"
   },
   {
    "duration": 558,
    "start_time": "2022-09-03T19:02:53.761Z"
   },
   {
    "duration": 3217,
    "start_time": "2022-09-03T19:03:31.882Z"
   },
   {
    "duration": 6,
    "start_time": "2022-09-03T19:03:36.153Z"
   },
   {
    "duration": 7,
    "start_time": "2022-09-03T19:04:56.741Z"
   },
   {
    "duration": 3,
    "start_time": "2022-09-03T19:10:32.058Z"
   },
   {
    "duration": 3,
    "start_time": "2022-09-03T19:10:36.569Z"
   },
   {
    "duration": 333848,
    "start_time": "2022-09-03T19:10:45.504Z"
   },
   {
    "duration": 4,
    "start_time": "2022-09-03T19:16:19.353Z"
   },
   {
    "duration": 85,
    "start_time": "2022-09-03T19:16:19.358Z"
   },
   {
    "duration": 3,
    "start_time": "2022-09-03T19:21:15.670Z"
   },
   {
    "duration": 70939,
    "start_time": "2022-09-03T19:21:20.544Z"
   },
   {
    "duration": 3,
    "start_time": "2022-09-03T19:22:31.485Z"
   },
   {
    "duration": 29,
    "start_time": "2022-09-03T19:22:31.489Z"
   },
   {
    "duration": 23,
    "start_time": "2022-09-03T19:36:20.969Z"
   },
   {
    "duration": 24,
    "start_time": "2022-09-03T19:36:46.644Z"
   },
   {
    "duration": 4384,
    "start_time": "2022-09-06T05:06:18.740Z"
   },
   {
    "duration": 3698,
    "start_time": "2022-09-06T05:06:44.465Z"
   },
   {
    "duration": 404,
    "start_time": "2022-09-06T05:06:54.665Z"
   },
   {
    "duration": 396,
    "start_time": "2022-09-06T05:06:55.245Z"
   },
   {
    "duration": 487,
    "start_time": "2022-09-06T05:06:57.149Z"
   },
   {
    "duration": 3,
    "start_time": "2022-09-06T05:07:03.060Z"
   },
   {
    "duration": 4,
    "start_time": "2022-09-06T05:07:03.782Z"
   },
   {
    "duration": 59,
    "start_time": "2022-09-06T05:07:04.355Z"
   },
   {
    "duration": 7,
    "start_time": "2022-09-06T05:07:04.543Z"
   },
   {
    "duration": 208,
    "start_time": "2022-09-06T05:07:05.315Z"
   },
   {
    "duration": 144,
    "start_time": "2022-09-06T05:07:06.058Z"
   },
   {
    "duration": 83,
    "start_time": "2022-09-06T05:07:06.843Z"
   },
   {
    "duration": 36,
    "start_time": "2022-09-06T05:07:07.592Z"
   },
   {
    "duration": 371,
    "start_time": "2022-09-06T05:07:07.812Z"
   },
   {
    "duration": 8,
    "start_time": "2022-09-06T05:07:08.185Z"
   },
   {
    "duration": 60,
    "start_time": "2022-09-06T05:07:12.642Z"
   },
   {
    "duration": 344,
    "start_time": "2022-09-06T05:07:12.843Z"
   },
   {
    "duration": 49,
    "start_time": "2022-09-06T05:07:13.619Z"
   },
   {
    "duration": 50,
    "start_time": "2022-09-06T05:07:14.356Z"
   },
   {
    "duration": 3,
    "start_time": "2022-09-06T05:07:16.002Z"
   },
   {
    "duration": 10,
    "start_time": "2022-09-06T05:07:16.209Z"
   },
   {
    "duration": 10,
    "start_time": "2022-09-06T05:07:17.054Z"
   },
   {
    "duration": 10,
    "start_time": "2022-09-06T05:07:17.444Z"
   },
   {
    "duration": 1051,
    "start_time": "2022-09-06T05:07:17.844Z"
   },
   {
    "duration": 10,
    "start_time": "2022-09-06T05:07:18.897Z"
   },
   {
    "duration": 5,
    "start_time": "2022-09-06T05:07:23.749Z"
   },
   {
    "duration": 22,
    "start_time": "2022-09-06T05:07:24.844Z"
   },
   {
    "duration": 366,
    "start_time": "2022-09-06T05:07:25.655Z"
   },
   {
    "duration": 4,
    "start_time": "2022-09-06T05:07:26.590Z"
   },
   {
    "duration": 21,
    "start_time": "2022-09-06T05:07:26.803Z"
   },
   {
    "duration": 3,
    "start_time": "2022-09-06T05:07:27.168Z"
   },
   {
    "duration": 5,
    "start_time": "2022-09-06T05:07:27.743Z"
   },
   {
    "duration": 346,
    "start_time": "2022-09-06T05:07:28.192Z"
   },
   {
    "duration": 17,
    "start_time": "2022-09-06T05:07:29.844Z"
   },
   {
    "duration": 21,
    "start_time": "2022-09-06T05:07:31.016Z"
   },
   {
    "duration": 6,
    "start_time": "2022-09-06T05:07:33.291Z"
   },
   {
    "duration": 1327,
    "start_time": "2022-09-06T05:07:34.538Z"
   },
   {
    "duration": 4,
    "start_time": "2022-09-06T05:07:35.868Z"
   },
   {
    "duration": 948,
    "start_time": "2022-09-06T05:07:35.873Z"
   },
   {
    "duration": 5371,
    "start_time": "2022-09-06T05:07:36.823Z"
   },
   {
    "duration": 7,
    "start_time": "2022-09-06T05:07:42.196Z"
   },
   {
    "duration": 37,
    "start_time": "2022-09-06T05:07:42.205Z"
   },
   {
    "duration": 18,
    "start_time": "2022-09-06T05:07:42.244Z"
   },
   {
    "duration": 6,
    "start_time": "2022-09-06T05:07:42.263Z"
   },
   {
    "duration": 4,
    "start_time": "2022-09-06T05:07:53.859Z"
   },
   {
    "duration": 692245,
    "start_time": "2022-09-06T05:07:54.077Z"
   },
   {
    "duration": 11,
    "start_time": "2022-09-06T05:19:26.324Z"
   },
   {
    "duration": 3,
    "start_time": "2022-09-06T05:19:51.337Z"
   },
   {
    "duration": 4502,
    "start_time": "2022-09-06T05:19:52.070Z"
   },
   {
    "duration": 8,
    "start_time": "2022-09-06T05:19:56.576Z"
   },
   {
    "duration": 5,
    "start_time": "2022-09-06T05:19:56.838Z"
   },
   {
    "duration": 3,
    "start_time": "2022-09-06T05:20:24.540Z"
   },
   {
    "duration": 9947,
    "start_time": "2022-09-06T05:20:25.311Z"
   },
   {
    "duration": 6,
    "start_time": "2022-09-06T05:20:35.264Z"
   },
   {
    "duration": 127,
    "start_time": "2022-09-06T05:20:35.275Z"
   }
  ],
  "colab": {
   "collapsed_sections": [],
   "provenance": [],
   "toc_visible": true
  },
  "gpuClass": "standard",
  "kernelspec": {
   "display_name": "Python 3 (ipykernel)",
   "language": "python",
   "name": "python3"
  },
  "language_info": {
   "codemirror_mode": {
    "name": "ipython",
    "version": 3
   },
   "file_extension": ".py",
   "mimetype": "text/x-python",
   "name": "python",
   "nbconvert_exporter": "python",
   "pygments_lexer": "ipython3",
   "version": "3.9.12"
  },
  "toc": {
   "base_numbering": 1,
   "nav_menu": {},
   "number_sections": true,
   "sideBar": true,
   "skip_h1_title": true,
   "title_cell": "Содержание",
   "title_sidebar": "Contents",
   "toc_cell": true,
   "toc_position": {
    "height": "calc(100% - 180px)",
    "left": "10px",
    "top": "150px",
    "width": "238.188px"
   },
   "toc_section_display": true,
   "toc_window_display": true
  }
 },
 "nbformat": 4,
 "nbformat_minor": 1
}
