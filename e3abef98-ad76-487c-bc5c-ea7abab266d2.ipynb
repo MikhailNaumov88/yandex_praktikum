{
 "cells": [
  {
   "cell_type": "markdown",
   "id": "4bc73484",
   "metadata": {},
   "source": [
    "# Исследование надежности заемщиков.\n",
    "\n",
    "**Цель исследования** — ответить на четыре вопроса, которые будут учтены при построении модели системы оценивающей способность потенциального заёмщика вернуть кредит банку:\n",
    "\n",
    "1. Есть ли зависимость между количеством детей и возвратом кредита в срок?\n",
    "2. Есть ли зависимость между семейным положением и возвратом кредита в срок?\n",
    "3. Есть ли зависимость между уровнем дохода и возвратом кредита в срок?\n",
    "4. Как разные цели кредита влияют на его возврат в срок?\n",
    "\n",
    "**Ход исследования**\n",
    "\n",
    "Входные данные от банка — статистика о платёжеспособности клиентов, мы получим из файла `data.csv`. О качестве данных ничего не известно. Поэтому перед исследованием понадобится обзор данных.\n",
    "\n",
    "*Описание данных:*\n",
    "- `children` — количество детей в семье\n",
    "- `days_employed` — общий трудовой стаж в днях\n",
    "- `dob_years` — возраст клиента в годах\n",
    "- `education` — уровень образования клиента\n",
    "- `education_id` — идентификатор уровня образования\n",
    "- `family_status` — семейное положение\n",
    "- `family_status_id` — идентификатор семейного положения\n",
    "- `gender` — пол клиента\n",
    "- `income_type` — тип занятости\n",
    "- `debt` — имел ли задолженность по возврату кредитов\n",
    "- `total_income` — ежемесячный доход\n",
    "- `purpose` — цель получения кредита\n",
    " \n",
    "Исследование пройдёт в четыре основных этапа:\n",
    "\n",
    "1. Обзор данных.\n",
    "2. Предобработка данных.\n",
    "3. Декомпозиция исходного датафрейма. Категоризация данных.\n",
    "4. Ответы на вопросы."
   ]
  },
  {
   "cell_type": "markdown",
   "id": "ef34d462",
   "metadata": {},
   "source": [
    "## Обзор данных"
   ]
  },
  {
   "cell_type": "markdown",
   "id": "b2689c83",
   "metadata": {},
   "source": [
    "Загрузим необходимые для анализа библиотеки."
   ]
  },
  {
   "cell_type": "code",
   "execution_count": 242,
   "id": "dbb1e0f1",
   "metadata": {},
   "outputs": [],
   "source": [
    "import pandas as pd\n",
    "import seaborn as sns"
   ]
  },
  {
   "cell_type": "markdown",
   "id": "2383dba5",
   "metadata": {},
   "source": [
    "Прочитаем файл, запишем его в переменную `df` и выведем первые 15 строк."
   ]
  },
  {
   "cell_type": "code",
   "execution_count": 243,
   "id": "ee885301",
   "metadata": {
    "scrolled": false
   },
   "outputs": [
    {
     "data": {
      "text/html": [
       "<div>\n",
       "<style scoped>\n",
       "    .dataframe tbody tr th:only-of-type {\n",
       "        vertical-align: middle;\n",
       "    }\n",
       "\n",
       "    .dataframe tbody tr th {\n",
       "        vertical-align: top;\n",
       "    }\n",
       "\n",
       "    .dataframe thead th {\n",
       "        text-align: right;\n",
       "    }\n",
       "</style>\n",
       "<table border=\"1\" class=\"dataframe\">\n",
       "  <thead>\n",
       "    <tr style=\"text-align: right;\">\n",
       "      <th></th>\n",
       "      <th>children</th>\n",
       "      <th>days_employed</th>\n",
       "      <th>dob_years</th>\n",
       "      <th>education</th>\n",
       "      <th>education_id</th>\n",
       "      <th>family_status</th>\n",
       "      <th>family_status_id</th>\n",
       "      <th>gender</th>\n",
       "      <th>income_type</th>\n",
       "      <th>debt</th>\n",
       "      <th>total_income</th>\n",
       "      <th>purpose</th>\n",
       "    </tr>\n",
       "  </thead>\n",
       "  <tbody>\n",
       "    <tr>\n",
       "      <td>0</td>\n",
       "      <td>1</td>\n",
       "      <td>-8437.673028</td>\n",
       "      <td>42</td>\n",
       "      <td>высшее</td>\n",
       "      <td>0</td>\n",
       "      <td>женат / замужем</td>\n",
       "      <td>0</td>\n",
       "      <td>F</td>\n",
       "      <td>сотрудник</td>\n",
       "      <td>0</td>\n",
       "      <td>253875.639453</td>\n",
       "      <td>покупка жилья</td>\n",
       "    </tr>\n",
       "    <tr>\n",
       "      <td>1</td>\n",
       "      <td>1</td>\n",
       "      <td>-4024.803754</td>\n",
       "      <td>36</td>\n",
       "      <td>среднее</td>\n",
       "      <td>1</td>\n",
       "      <td>женат / замужем</td>\n",
       "      <td>0</td>\n",
       "      <td>F</td>\n",
       "      <td>сотрудник</td>\n",
       "      <td>0</td>\n",
       "      <td>112080.014102</td>\n",
       "      <td>приобретение автомобиля</td>\n",
       "    </tr>\n",
       "    <tr>\n",
       "      <td>2</td>\n",
       "      <td>0</td>\n",
       "      <td>-5623.422610</td>\n",
       "      <td>33</td>\n",
       "      <td>Среднее</td>\n",
       "      <td>1</td>\n",
       "      <td>женат / замужем</td>\n",
       "      <td>0</td>\n",
       "      <td>M</td>\n",
       "      <td>сотрудник</td>\n",
       "      <td>0</td>\n",
       "      <td>145885.952297</td>\n",
       "      <td>покупка жилья</td>\n",
       "    </tr>\n",
       "    <tr>\n",
       "      <td>3</td>\n",
       "      <td>3</td>\n",
       "      <td>-4124.747207</td>\n",
       "      <td>32</td>\n",
       "      <td>среднее</td>\n",
       "      <td>1</td>\n",
       "      <td>женат / замужем</td>\n",
       "      <td>0</td>\n",
       "      <td>M</td>\n",
       "      <td>сотрудник</td>\n",
       "      <td>0</td>\n",
       "      <td>267628.550329</td>\n",
       "      <td>дополнительное образование</td>\n",
       "    </tr>\n",
       "    <tr>\n",
       "      <td>4</td>\n",
       "      <td>0</td>\n",
       "      <td>340266.072047</td>\n",
       "      <td>53</td>\n",
       "      <td>среднее</td>\n",
       "      <td>1</td>\n",
       "      <td>гражданский брак</td>\n",
       "      <td>1</td>\n",
       "      <td>F</td>\n",
       "      <td>пенсионер</td>\n",
       "      <td>0</td>\n",
       "      <td>158616.077870</td>\n",
       "      <td>сыграть свадьбу</td>\n",
       "    </tr>\n",
       "    <tr>\n",
       "      <td>5</td>\n",
       "      <td>0</td>\n",
       "      <td>-926.185831</td>\n",
       "      <td>27</td>\n",
       "      <td>высшее</td>\n",
       "      <td>0</td>\n",
       "      <td>гражданский брак</td>\n",
       "      <td>1</td>\n",
       "      <td>M</td>\n",
       "      <td>компаньон</td>\n",
       "      <td>0</td>\n",
       "      <td>255763.565419</td>\n",
       "      <td>покупка жилья</td>\n",
       "    </tr>\n",
       "    <tr>\n",
       "      <td>6</td>\n",
       "      <td>0</td>\n",
       "      <td>-2879.202052</td>\n",
       "      <td>43</td>\n",
       "      <td>высшее</td>\n",
       "      <td>0</td>\n",
       "      <td>женат / замужем</td>\n",
       "      <td>0</td>\n",
       "      <td>F</td>\n",
       "      <td>компаньон</td>\n",
       "      <td>0</td>\n",
       "      <td>240525.971920</td>\n",
       "      <td>операции с жильем</td>\n",
       "    </tr>\n",
       "    <tr>\n",
       "      <td>7</td>\n",
       "      <td>0</td>\n",
       "      <td>-152.779569</td>\n",
       "      <td>50</td>\n",
       "      <td>СРЕДНЕЕ</td>\n",
       "      <td>1</td>\n",
       "      <td>женат / замужем</td>\n",
       "      <td>0</td>\n",
       "      <td>M</td>\n",
       "      <td>сотрудник</td>\n",
       "      <td>0</td>\n",
       "      <td>135823.934197</td>\n",
       "      <td>образование</td>\n",
       "    </tr>\n",
       "    <tr>\n",
       "      <td>8</td>\n",
       "      <td>2</td>\n",
       "      <td>-6929.865299</td>\n",
       "      <td>35</td>\n",
       "      <td>ВЫСШЕЕ</td>\n",
       "      <td>0</td>\n",
       "      <td>гражданский брак</td>\n",
       "      <td>1</td>\n",
       "      <td>F</td>\n",
       "      <td>сотрудник</td>\n",
       "      <td>0</td>\n",
       "      <td>95856.832424</td>\n",
       "      <td>на проведение свадьбы</td>\n",
       "    </tr>\n",
       "    <tr>\n",
       "      <td>9</td>\n",
       "      <td>0</td>\n",
       "      <td>-2188.756445</td>\n",
       "      <td>41</td>\n",
       "      <td>среднее</td>\n",
       "      <td>1</td>\n",
       "      <td>женат / замужем</td>\n",
       "      <td>0</td>\n",
       "      <td>M</td>\n",
       "      <td>сотрудник</td>\n",
       "      <td>0</td>\n",
       "      <td>144425.938277</td>\n",
       "      <td>покупка жилья для семьи</td>\n",
       "    </tr>\n",
       "    <tr>\n",
       "      <td>10</td>\n",
       "      <td>2</td>\n",
       "      <td>-4171.483647</td>\n",
       "      <td>36</td>\n",
       "      <td>высшее</td>\n",
       "      <td>0</td>\n",
       "      <td>женат / замужем</td>\n",
       "      <td>0</td>\n",
       "      <td>M</td>\n",
       "      <td>компаньон</td>\n",
       "      <td>0</td>\n",
       "      <td>113943.491460</td>\n",
       "      <td>покупка недвижимости</td>\n",
       "    </tr>\n",
       "    <tr>\n",
       "      <td>11</td>\n",
       "      <td>0</td>\n",
       "      <td>-792.701887</td>\n",
       "      <td>40</td>\n",
       "      <td>среднее</td>\n",
       "      <td>1</td>\n",
       "      <td>женат / замужем</td>\n",
       "      <td>0</td>\n",
       "      <td>F</td>\n",
       "      <td>сотрудник</td>\n",
       "      <td>0</td>\n",
       "      <td>77069.234271</td>\n",
       "      <td>покупка коммерческой недвижимости</td>\n",
       "    </tr>\n",
       "    <tr>\n",
       "      <td>12</td>\n",
       "      <td>0</td>\n",
       "      <td>NaN</td>\n",
       "      <td>65</td>\n",
       "      <td>среднее</td>\n",
       "      <td>1</td>\n",
       "      <td>гражданский брак</td>\n",
       "      <td>1</td>\n",
       "      <td>M</td>\n",
       "      <td>пенсионер</td>\n",
       "      <td>0</td>\n",
       "      <td>NaN</td>\n",
       "      <td>сыграть свадьбу</td>\n",
       "    </tr>\n",
       "    <tr>\n",
       "      <td>13</td>\n",
       "      <td>0</td>\n",
       "      <td>-1846.641941</td>\n",
       "      <td>54</td>\n",
       "      <td>неоконченное высшее</td>\n",
       "      <td>2</td>\n",
       "      <td>женат / замужем</td>\n",
       "      <td>0</td>\n",
       "      <td>F</td>\n",
       "      <td>сотрудник</td>\n",
       "      <td>0</td>\n",
       "      <td>130458.228857</td>\n",
       "      <td>приобретение автомобиля</td>\n",
       "    </tr>\n",
       "    <tr>\n",
       "      <td>14</td>\n",
       "      <td>0</td>\n",
       "      <td>-1844.956182</td>\n",
       "      <td>56</td>\n",
       "      <td>высшее</td>\n",
       "      <td>0</td>\n",
       "      <td>гражданский брак</td>\n",
       "      <td>1</td>\n",
       "      <td>F</td>\n",
       "      <td>компаньон</td>\n",
       "      <td>1</td>\n",
       "      <td>165127.911772</td>\n",
       "      <td>покупка жилой недвижимости</td>\n",
       "    </tr>\n",
       "  </tbody>\n",
       "</table>\n",
       "</div>"
      ],
      "text/plain": [
       "    children  days_employed  dob_years            education  education_id  \\\n",
       "0          1   -8437.673028         42               высшее             0   \n",
       "1          1   -4024.803754         36              среднее             1   \n",
       "2          0   -5623.422610         33              Среднее             1   \n",
       "3          3   -4124.747207         32              среднее             1   \n",
       "4          0  340266.072047         53              среднее             1   \n",
       "5          0    -926.185831         27               высшее             0   \n",
       "6          0   -2879.202052         43               высшее             0   \n",
       "7          0    -152.779569         50              СРЕДНЕЕ             1   \n",
       "8          2   -6929.865299         35               ВЫСШЕЕ             0   \n",
       "9          0   -2188.756445         41              среднее             1   \n",
       "10         2   -4171.483647         36               высшее             0   \n",
       "11         0    -792.701887         40              среднее             1   \n",
       "12         0            NaN         65              среднее             1   \n",
       "13         0   -1846.641941         54  неоконченное высшее             2   \n",
       "14         0   -1844.956182         56               высшее             0   \n",
       "\n",
       "       family_status  family_status_id gender income_type  debt  \\\n",
       "0    женат / замужем                 0      F   сотрудник     0   \n",
       "1    женат / замужем                 0      F   сотрудник     0   \n",
       "2    женат / замужем                 0      M   сотрудник     0   \n",
       "3    женат / замужем                 0      M   сотрудник     0   \n",
       "4   гражданский брак                 1      F   пенсионер     0   \n",
       "5   гражданский брак                 1      M   компаньон     0   \n",
       "6    женат / замужем                 0      F   компаньон     0   \n",
       "7    женат / замужем                 0      M   сотрудник     0   \n",
       "8   гражданский брак                 1      F   сотрудник     0   \n",
       "9    женат / замужем                 0      M   сотрудник     0   \n",
       "10   женат / замужем                 0      M   компаньон     0   \n",
       "11   женат / замужем                 0      F   сотрудник     0   \n",
       "12  гражданский брак                 1      M   пенсионер     0   \n",
       "13   женат / замужем                 0      F   сотрудник     0   \n",
       "14  гражданский брак                 1      F   компаньон     1   \n",
       "\n",
       "     total_income                            purpose  \n",
       "0   253875.639453                      покупка жилья  \n",
       "1   112080.014102            приобретение автомобиля  \n",
       "2   145885.952297                      покупка жилья  \n",
       "3   267628.550329         дополнительное образование  \n",
       "4   158616.077870                    сыграть свадьбу  \n",
       "5   255763.565419                      покупка жилья  \n",
       "6   240525.971920                  операции с жильем  \n",
       "7   135823.934197                        образование  \n",
       "8    95856.832424              на проведение свадьбы  \n",
       "9   144425.938277            покупка жилья для семьи  \n",
       "10  113943.491460               покупка недвижимости  \n",
       "11   77069.234271  покупка коммерческой недвижимости  \n",
       "12            NaN                    сыграть свадьбу  \n",
       "13  130458.228857            приобретение автомобиля  \n",
       "14  165127.911772         покупка жилой недвижимости  "
      ]
     },
     "metadata": {},
     "output_type": "display_data"
    }
   ],
   "source": [
    "df = pd.read_csv('/datasets/data.csv')\n",
    "display(df.head(15))"
   ]
  },
  {
   "cell_type": "markdown",
   "id": "9744aa23",
   "metadata": {},
   "source": [
    "Полуим получим информацию о данных."
   ]
  },
  {
   "cell_type": "code",
   "execution_count": 244,
   "id": "a7e7f0e4",
   "metadata": {},
   "outputs": [
    {
     "name": "stdout",
     "output_type": "stream",
     "text": [
      "<class 'pandas.core.frame.DataFrame'>\n",
      "RangeIndex: 21525 entries, 0 to 21524\n",
      "Data columns (total 12 columns):\n",
      "children            21525 non-null int64\n",
      "days_employed       19351 non-null float64\n",
      "dob_years           21525 non-null int64\n",
      "education           21525 non-null object\n",
      "education_id        21525 non-null int64\n",
      "family_status       21525 non-null object\n",
      "family_status_id    21525 non-null int64\n",
      "gender              21525 non-null object\n",
      "income_type         21525 non-null object\n",
      "debt                21525 non-null int64\n",
      "total_income        19351 non-null float64\n",
      "purpose             21525 non-null object\n",
      "dtypes: float64(2), int64(5), object(5)\n",
      "memory usage: 2.0+ MB\n"
     ]
    }
   ],
   "source": [
    "df.info()"
   ]
  },
  {
   "cell_type": "markdown",
   "id": "7585046a",
   "metadata": {},
   "source": [
    "**Вывод**\n",
    "\n",
    "Встречаются пропуски в значениях стажа и дохода. В значениях стажа присутсвуют отрицательные значения и вещественный формат чисел. В обозначении оборазования встречаются повторы из-за использования разного регистра."
   ]
  },
  {
   "cell_type": "markdown",
   "id": "e036aeef",
   "metadata": {},
   "source": [
    "## Предобработка данных"
   ]
  },
  {
   "cell_type": "markdown",
   "id": "3e491a85",
   "metadata": {},
   "source": [
    "### Проверка данных на аномалии и исправления.\n",
    "Заменим уже найденную ошибку в данных и переведём отрицательные значения в столбце `days_employed` в положительные. Выведем первые 5 строк таблицы с отсортированными по возрастанию значениями в столбце `days_employed`."
   ]
  },
  {
   "cell_type": "code",
   "execution_count": 245,
   "id": "9d739b82",
   "metadata": {},
   "outputs": [
    {
     "data": {
      "text/html": [
       "<div>\n",
       "<style scoped>\n",
       "    .dataframe tbody tr th:only-of-type {\n",
       "        vertical-align: middle;\n",
       "    }\n",
       "\n",
       "    .dataframe tbody tr th {\n",
       "        vertical-align: top;\n",
       "    }\n",
       "\n",
       "    .dataframe thead th {\n",
       "        text-align: right;\n",
       "    }\n",
       "</style>\n",
       "<table border=\"1\" class=\"dataframe\">\n",
       "  <thead>\n",
       "    <tr style=\"text-align: right;\">\n",
       "      <th></th>\n",
       "      <th>children</th>\n",
       "      <th>days_employed</th>\n",
       "      <th>dob_years</th>\n",
       "      <th>education</th>\n",
       "      <th>education_id</th>\n",
       "      <th>family_status</th>\n",
       "      <th>family_status_id</th>\n",
       "      <th>gender</th>\n",
       "      <th>income_type</th>\n",
       "      <th>debt</th>\n",
       "      <th>total_income</th>\n",
       "      <th>purpose</th>\n",
       "    </tr>\n",
       "  </thead>\n",
       "  <tbody>\n",
       "    <tr>\n",
       "      <td>6954</td>\n",
       "      <td>0</td>\n",
       "      <td>401755.400475</td>\n",
       "      <td>56</td>\n",
       "      <td>среднее</td>\n",
       "      <td>1</td>\n",
       "      <td>вдовец / вдова</td>\n",
       "      <td>2</td>\n",
       "      <td>F</td>\n",
       "      <td>пенсионер</td>\n",
       "      <td>0</td>\n",
       "      <td>176278.441171</td>\n",
       "      <td>ремонт жилью</td>\n",
       "    </tr>\n",
       "    <tr>\n",
       "      <td>10006</td>\n",
       "      <td>0</td>\n",
       "      <td>401715.811749</td>\n",
       "      <td>69</td>\n",
       "      <td>высшее</td>\n",
       "      <td>0</td>\n",
       "      <td>Не женат / не замужем</td>\n",
       "      <td>4</td>\n",
       "      <td>F</td>\n",
       "      <td>пенсионер</td>\n",
       "      <td>0</td>\n",
       "      <td>57390.256908</td>\n",
       "      <td>получение образования</td>\n",
       "    </tr>\n",
       "    <tr>\n",
       "      <td>7664</td>\n",
       "      <td>1</td>\n",
       "      <td>401675.093434</td>\n",
       "      <td>61</td>\n",
       "      <td>среднее</td>\n",
       "      <td>1</td>\n",
       "      <td>женат / замужем</td>\n",
       "      <td>0</td>\n",
       "      <td>F</td>\n",
       "      <td>пенсионер</td>\n",
       "      <td>0</td>\n",
       "      <td>126214.519212</td>\n",
       "      <td>операции с жильем</td>\n",
       "    </tr>\n",
       "    <tr>\n",
       "      <td>2156</td>\n",
       "      <td>0</td>\n",
       "      <td>401674.466633</td>\n",
       "      <td>60</td>\n",
       "      <td>среднее</td>\n",
       "      <td>1</td>\n",
       "      <td>женат / замужем</td>\n",
       "      <td>0</td>\n",
       "      <td>M</td>\n",
       "      <td>пенсионер</td>\n",
       "      <td>0</td>\n",
       "      <td>325395.724541</td>\n",
       "      <td>автомобили</td>\n",
       "    </tr>\n",
       "    <tr>\n",
       "      <td>7794</td>\n",
       "      <td>0</td>\n",
       "      <td>401663.850046</td>\n",
       "      <td>61</td>\n",
       "      <td>среднее</td>\n",
       "      <td>1</td>\n",
       "      <td>гражданский брак</td>\n",
       "      <td>1</td>\n",
       "      <td>F</td>\n",
       "      <td>пенсионер</td>\n",
       "      <td>0</td>\n",
       "      <td>48286.441362</td>\n",
       "      <td>свадьба</td>\n",
       "    </tr>\n",
       "  </tbody>\n",
       "</table>\n",
       "</div>"
      ],
      "text/plain": [
       "       children  days_employed  dob_years education  education_id  \\\n",
       "6954          0  401755.400475         56   среднее             1   \n",
       "10006         0  401715.811749         69    высшее             0   \n",
       "7664          1  401675.093434         61   среднее             1   \n",
       "2156          0  401674.466633         60   среднее             1   \n",
       "7794          0  401663.850046         61   среднее             1   \n",
       "\n",
       "               family_status  family_status_id gender income_type  debt  \\\n",
       "6954          вдовец / вдова                 2      F   пенсионер     0   \n",
       "10006  Не женат / не замужем                 4      F   пенсионер     0   \n",
       "7664         женат / замужем                 0      F   пенсионер     0   \n",
       "2156         женат / замужем                 0      M   пенсионер     0   \n",
       "7794        гражданский брак                 1      F   пенсионер     0   \n",
       "\n",
       "        total_income                purpose  \n",
       "6954   176278.441171           ремонт жилью  \n",
       "10006   57390.256908  получение образования  \n",
       "7664   126214.519212      операции с жильем  \n",
       "2156   325395.724541             автомобили  \n",
       "7794    48286.441362                свадьба  "
      ]
     },
     "metadata": {},
     "output_type": "display_data"
    }
   ],
   "source": [
    "df['days_employed'] = abs(df['days_employed'])\n",
    "display(df.sort_values('days_employed', ascending=False).head())"
   ]
  },
  {
   "cell_type": "markdown",
   "id": "02e92cf6",
   "metadata": {},
   "source": [
    "Значения имеют большую величину, преположительно данные имеют анамолии. Построим график для удобства анализа."
   ]
  },
  {
   "cell_type": "code",
   "execution_count": 246,
   "id": "70652f0e",
   "metadata": {},
   "outputs": [
    {
     "data": {
      "text/plain": [
       "<matplotlib.axes._subplots.AxesSubplot at 0x7fab3bf2ab50>"
      ]
     },
     "execution_count": 246,
     "metadata": {},
     "output_type": "execute_result"
    },
    {
     "data": {
      "image/png": "[encoded data removed]",
      "text/plain": [
       "<Figure size 432x288 with 1 Axes>"
      ]
     },
     "metadata": {
      "needs_background": "light"
     },
     "output_type": "display_data"
    }
   ],
   "source": [
    "sns.lineplot(data=df, x='dob_years', y='days_employed')"
   ]
  },
  {
   "cell_type": "markdown",
   "id": "eb97bce2",
   "metadata": {},
   "source": [
    "На графике видны анамолии в столбце стажа для пенсионеров. Значения в трудовом стаже явно превышают возраст клиента. Оставим эти значения без обработки, так как они не участвуют в дальнейшем исследовании."
   ]
  },
  {
   "cell_type": "markdown",
   "id": "c7dc8a63",
   "metadata": {},
   "source": [
    "Приведём все значения столбца `education` к маленькому регистру. Выведем количество всех уникальных значений столбца `education`."
   ]
  },
  {
   "cell_type": "code",
   "execution_count": 247,
   "id": "448dc24d",
   "metadata": {},
   "outputs": [
    {
     "data": {
      "text/plain": [
       "среднее                15233\n",
       "высшее                  5260\n",
       "неоконченное высшее      744\n",
       "начальное                282\n",
       "ученая степень             6\n",
       "Name: education, dtype: int64"
      ]
     },
     "execution_count": 247,
     "metadata": {},
     "output_type": "execute_result"
    }
   ],
   "source": [
    "df['education'] = df['education'].str.lower()\n",
    "df['education'].value_counts()"
   ]
  },
  {
   "cell_type": "markdown",
   "id": "e579b1d6",
   "metadata": {},
   "source": [
    "Проверим количество каждого уникального значения в столбце `children`, нужные нам для ответа на один из вопросов."
   ]
  },
  {
   "cell_type": "code",
   "execution_count": 248,
   "id": "ae1e51d3",
   "metadata": {},
   "outputs": [
    {
     "data": {
      "text/plain": [
       " 0     14149\n",
       " 1      4818\n",
       " 2      2055\n",
       " 3       330\n",
       " 20       76\n",
       "-1        47\n",
       " 4        41\n",
       " 5         9\n",
       "Name: children, dtype: int64"
      ]
     },
     "execution_count": 248,
     "metadata": {},
     "output_type": "execute_result"
    }
   ],
   "source": [
    "df['children'].value_counts()"
   ]
  },
  {
   "cell_type": "markdown",
   "id": "6c88e6fa",
   "metadata": {},
   "source": [
    "Здесь мы видим два значения, которые не соостветсвуют действительности ***-1*** и ***20***.   \n",
    "Проверим их процентное соотношение ко всем значениям."
   ]
  },
  {
   "cell_type": "code",
   "execution_count": 249,
   "id": "0e11d09e",
   "metadata": {},
   "outputs": [
    {
     "name": "stdout",
     "output_type": "stream",
     "text": [
      "0.6% значений имеют аномальное значение количества детей.\n"
     ]
    }
   ],
   "source": [
    "print('{:.1%} значений имеют аномальное значение количества детей.'.format(df[(df['children'] == 20) | \n",
    "                                                                     (df['children'] == -1)]['education'].count() / \n",
    "                                                                  df.shape[0]))"
   ]
  },
  {
   "cell_type": "markdown",
   "id": "499b908d",
   "metadata": {},
   "source": [
    "Удалим эти значения из нашей таблицы, так как 0,6% не окажут существенного влияния на результат исследования. Перепроверим результат."
   ]
  },
  {
   "cell_type": "code",
   "execution_count": 250,
   "id": "c629cc12",
   "metadata": {},
   "outputs": [
    {
     "data": {
      "text/plain": [
       "0    14149\n",
       "1     4818\n",
       "2     2055\n",
       "3      330\n",
       "4       41\n",
       "5        9\n",
       "Name: children, dtype: int64"
      ]
     },
     "execution_count": 250,
     "metadata": {},
     "output_type": "execute_result"
    }
   ],
   "source": [
    "df = df.loc[(df['children'] != 20) & (df['children'] != -1)]\n",
    "df['children'].value_counts()"
   ]
  },
  {
   "cell_type": "markdown",
   "id": "d9abf995",
   "metadata": {},
   "source": [
    "**Вывод**   \n",
    "Значения в стоблцах стажа и количества детей имели отрицательные и аномальные значения. Привести значения стажа приблежённо к действительности не удалось. Данные значения не будут использованы в исселедовании, поэтому оставим только изменение на положительные значения. Заменили значения в стоблце образование приведя их к одному регистру и удалили аномальные значения из столбца кол-ва детей. Так же имеются не верные значения в указание пола ***'XNA'*** и возраста ***'0'***, которые мы так же оставим без изменения."
   ]
  },
  {
   "cell_type": "markdown",
   "id": "3b35b9e2",
   "metadata": {},
   "source": [
    "### Заполнение пропусков\n",
    "Заполним пропущенные значения в стлобцах `days_employed` и `total_income` меданными значениями.\n",
    "\n",
    "Посчитаем кол-во пропущеных значений в каждом столбце."
   ]
  },
  {
   "cell_type": "code",
   "execution_count": 251,
   "id": "d1c13ba0",
   "metadata": {
    "scrolled": true
   },
   "outputs": [
    {
     "data": {
      "text/plain": [
       "children               0\n",
       "days_employed       2162\n",
       "dob_years              0\n",
       "education              0\n",
       "education_id           0\n",
       "family_status          0\n",
       "family_status_id       0\n",
       "gender                 0\n",
       "income_type            0\n",
       "debt                   0\n",
       "total_income        2162\n",
       "purpose                0\n",
       "dtype: int64"
      ]
     },
     "execution_count": 251,
     "metadata": {},
     "output_type": "execute_result"
    }
   ],
   "source": [
    "df.isna().sum()"
   ]
  },
  {
   "cell_type": "markdown",
   "id": "81e00c1c",
   "metadata": {},
   "source": [
    "В столбцах `days_employed` и `total_income` пропущено по 2162 значения.   \n",
    "Проверим сколько процентов от общего объёма пропущено."
   ]
  },
  {
   "cell_type": "code",
   "execution_count": 252,
   "id": "6929cd39",
   "metadata": {},
   "outputs": [
    {
     "name": "stdout",
     "output_type": "stream",
     "text": [
      "Пропущено 10.1% значений.\n"
     ]
    }
   ],
   "source": [
    "print('Пропущено {:.1%} значений.'.format(df['total_income'].isna().sum() / df.shape[0]))"
   ]
  },
  {
   "cell_type": "markdown",
   "id": "a3b2a97f",
   "metadata": {},
   "source": [
    "Посмотрим на первые 10 строк с пропущенными значениями"
   ]
  },
  {
   "cell_type": "code",
   "execution_count": 253,
   "id": "9493ee6c",
   "metadata": {},
   "outputs": [
    {
     "data": {
      "text/html": [
       "<div>\n",
       "<style scoped>\n",
       "    .dataframe tbody tr th:only-of-type {\n",
       "        vertical-align: middle;\n",
       "    }\n",
       "\n",
       "    .dataframe tbody tr th {\n",
       "        vertical-align: top;\n",
       "    }\n",
       "\n",
       "    .dataframe thead th {\n",
       "        text-align: right;\n",
       "    }\n",
       "</style>\n",
       "<table border=\"1\" class=\"dataframe\">\n",
       "  <thead>\n",
       "    <tr style=\"text-align: right;\">\n",
       "      <th></th>\n",
       "      <th>children</th>\n",
       "      <th>days_employed</th>\n",
       "      <th>dob_years</th>\n",
       "      <th>education</th>\n",
       "      <th>education_id</th>\n",
       "      <th>family_status</th>\n",
       "      <th>family_status_id</th>\n",
       "      <th>gender</th>\n",
       "      <th>income_type</th>\n",
       "      <th>debt</th>\n",
       "      <th>total_income</th>\n",
       "      <th>purpose</th>\n",
       "    </tr>\n",
       "  </thead>\n",
       "  <tbody>\n",
       "    <tr>\n",
       "      <td>12</td>\n",
       "      <td>0</td>\n",
       "      <td>NaN</td>\n",
       "      <td>65</td>\n",
       "      <td>среднее</td>\n",
       "      <td>1</td>\n",
       "      <td>гражданский брак</td>\n",
       "      <td>1</td>\n",
       "      <td>M</td>\n",
       "      <td>пенсионер</td>\n",
       "      <td>0</td>\n",
       "      <td>NaN</td>\n",
       "      <td>сыграть свадьбу</td>\n",
       "    </tr>\n",
       "    <tr>\n",
       "      <td>26</td>\n",
       "      <td>0</td>\n",
       "      <td>NaN</td>\n",
       "      <td>41</td>\n",
       "      <td>среднее</td>\n",
       "      <td>1</td>\n",
       "      <td>женат / замужем</td>\n",
       "      <td>0</td>\n",
       "      <td>M</td>\n",
       "      <td>госслужащий</td>\n",
       "      <td>0</td>\n",
       "      <td>NaN</td>\n",
       "      <td>образование</td>\n",
       "    </tr>\n",
       "    <tr>\n",
       "      <td>29</td>\n",
       "      <td>0</td>\n",
       "      <td>NaN</td>\n",
       "      <td>63</td>\n",
       "      <td>среднее</td>\n",
       "      <td>1</td>\n",
       "      <td>Не женат / не замужем</td>\n",
       "      <td>4</td>\n",
       "      <td>F</td>\n",
       "      <td>пенсионер</td>\n",
       "      <td>0</td>\n",
       "      <td>NaN</td>\n",
       "      <td>строительство жилой недвижимости</td>\n",
       "    </tr>\n",
       "    <tr>\n",
       "      <td>41</td>\n",
       "      <td>0</td>\n",
       "      <td>NaN</td>\n",
       "      <td>50</td>\n",
       "      <td>среднее</td>\n",
       "      <td>1</td>\n",
       "      <td>женат / замужем</td>\n",
       "      <td>0</td>\n",
       "      <td>F</td>\n",
       "      <td>госслужащий</td>\n",
       "      <td>0</td>\n",
       "      <td>NaN</td>\n",
       "      <td>сделка с подержанным автомобилем</td>\n",
       "    </tr>\n",
       "    <tr>\n",
       "      <td>55</td>\n",
       "      <td>0</td>\n",
       "      <td>NaN</td>\n",
       "      <td>54</td>\n",
       "      <td>среднее</td>\n",
       "      <td>1</td>\n",
       "      <td>гражданский брак</td>\n",
       "      <td>1</td>\n",
       "      <td>F</td>\n",
       "      <td>пенсионер</td>\n",
       "      <td>1</td>\n",
       "      <td>NaN</td>\n",
       "      <td>сыграть свадьбу</td>\n",
       "    </tr>\n",
       "    <tr>\n",
       "      <td>65</td>\n",
       "      <td>0</td>\n",
       "      <td>NaN</td>\n",
       "      <td>21</td>\n",
       "      <td>среднее</td>\n",
       "      <td>1</td>\n",
       "      <td>Не женат / не замужем</td>\n",
       "      <td>4</td>\n",
       "      <td>M</td>\n",
       "      <td>компаньон</td>\n",
       "      <td>0</td>\n",
       "      <td>NaN</td>\n",
       "      <td>операции с коммерческой недвижимостью</td>\n",
       "    </tr>\n",
       "    <tr>\n",
       "      <td>67</td>\n",
       "      <td>0</td>\n",
       "      <td>NaN</td>\n",
       "      <td>52</td>\n",
       "      <td>высшее</td>\n",
       "      <td>0</td>\n",
       "      <td>женат / замужем</td>\n",
       "      <td>0</td>\n",
       "      <td>F</td>\n",
       "      <td>пенсионер</td>\n",
       "      <td>0</td>\n",
       "      <td>NaN</td>\n",
       "      <td>покупка жилья для семьи</td>\n",
       "    </tr>\n",
       "    <tr>\n",
       "      <td>72</td>\n",
       "      <td>1</td>\n",
       "      <td>NaN</td>\n",
       "      <td>32</td>\n",
       "      <td>высшее</td>\n",
       "      <td>0</td>\n",
       "      <td>женат / замужем</td>\n",
       "      <td>0</td>\n",
       "      <td>M</td>\n",
       "      <td>госслужащий</td>\n",
       "      <td>0</td>\n",
       "      <td>NaN</td>\n",
       "      <td>операции с коммерческой недвижимостью</td>\n",
       "    </tr>\n",
       "    <tr>\n",
       "      <td>82</td>\n",
       "      <td>2</td>\n",
       "      <td>NaN</td>\n",
       "      <td>50</td>\n",
       "      <td>высшее</td>\n",
       "      <td>0</td>\n",
       "      <td>женат / замужем</td>\n",
       "      <td>0</td>\n",
       "      <td>F</td>\n",
       "      <td>сотрудник</td>\n",
       "      <td>0</td>\n",
       "      <td>NaN</td>\n",
       "      <td>жилье</td>\n",
       "    </tr>\n",
       "    <tr>\n",
       "      <td>83</td>\n",
       "      <td>0</td>\n",
       "      <td>NaN</td>\n",
       "      <td>52</td>\n",
       "      <td>среднее</td>\n",
       "      <td>1</td>\n",
       "      <td>женат / замужем</td>\n",
       "      <td>0</td>\n",
       "      <td>M</td>\n",
       "      <td>сотрудник</td>\n",
       "      <td>0</td>\n",
       "      <td>NaN</td>\n",
       "      <td>жилье</td>\n",
       "    </tr>\n",
       "  </tbody>\n",
       "</table>\n",
       "</div>"
      ],
      "text/plain": [
       "    children  days_employed  dob_years education  education_id  \\\n",
       "12         0            NaN         65   среднее             1   \n",
       "26         0            NaN         41   среднее             1   \n",
       "29         0            NaN         63   среднее             1   \n",
       "41         0            NaN         50   среднее             1   \n",
       "55         0            NaN         54   среднее             1   \n",
       "65         0            NaN         21   среднее             1   \n",
       "67         0            NaN         52    высшее             0   \n",
       "72         1            NaN         32    высшее             0   \n",
       "82         2            NaN         50    высшее             0   \n",
       "83         0            NaN         52   среднее             1   \n",
       "\n",
       "            family_status  family_status_id gender  income_type  debt  \\\n",
       "12       гражданский брак                 1      M    пенсионер     0   \n",
       "26        женат / замужем                 0      M  госслужащий     0   \n",
       "29  Не женат / не замужем                 4      F    пенсионер     0   \n",
       "41        женат / замужем                 0      F  госслужащий     0   \n",
       "55       гражданский брак                 1      F    пенсионер     1   \n",
       "65  Не женат / не замужем                 4      M    компаньон     0   \n",
       "67        женат / замужем                 0      F    пенсионер     0   \n",
       "72        женат / замужем                 0      M  госслужащий     0   \n",
       "82        женат / замужем                 0      F    сотрудник     0   \n",
       "83        женат / замужем                 0      M    сотрудник     0   \n",
       "\n",
       "    total_income                                purpose  \n",
       "12           NaN                        сыграть свадьбу  \n",
       "26           NaN                            образование  \n",
       "29           NaN       строительство жилой недвижимости  \n",
       "41           NaN       сделка с подержанным автомобилем  \n",
       "55           NaN                        сыграть свадьбу  \n",
       "65           NaN  операции с коммерческой недвижимостью  \n",
       "67           NaN                покупка жилья для семьи  \n",
       "72           NaN  операции с коммерческой недвижимостью  \n",
       "82           NaN                                  жилье  \n",
       "83           NaN                                  жилье  "
      ]
     },
     "metadata": {},
     "output_type": "display_data"
    }
   ],
   "source": [
    "display(df[df['days_employed'].isna()].head(10))"
   ]
  },
  {
   "cell_type": "markdown",
   "id": "ed9596af",
   "metadata": {},
   "source": [
    "Найденные пропущенные имеются во всех типах занятости.   \n",
    "Заполним пропущенные значения в стлобце `days_employed` медианными значениями по всему столбцу, и в столбце `total_income` медианными значениями в зависимости от образования и типа занятости."
   ]
  },
  {
   "cell_type": "code",
   "execution_count": 254,
   "id": "76ea9fee",
   "metadata": {},
   "outputs": [],
   "source": [
    "# Filling in missed values in column \"total_income\" with median value\n",
    "# depending on the values in the columns \"education\" and \"income_type\"\n",
    "df['total_income'] = df['total_income'].fillna(df.groupby(['education', 'income_type'])\n",
    "                                               ['total_income'].transform('median'))\n",
    "# Filling in missed values in column \"days_employed\" with median value \n",
    "df['days_employed'] = df['days_employed'].fillna(df['days_employed'].median())"
   ]
  },
  {
   "cell_type": "markdown",
   "id": "ccfe00f3",
   "metadata": {},
   "source": [
    "Проверим количество пропущенных значений в каждом стоблце ещё раз."
   ]
  },
  {
   "cell_type": "code",
   "execution_count": 255,
   "id": "9d027cbe",
   "metadata": {},
   "outputs": [
    {
     "data": {
      "text/plain": [
       "children            0\n",
       "days_employed       0\n",
       "dob_years           0\n",
       "education           0\n",
       "education_id        0\n",
       "family_status       0\n",
       "family_status_id    0\n",
       "gender              0\n",
       "income_type         0\n",
       "debt                0\n",
       "total_income        0\n",
       "purpose             0\n",
       "dtype: int64"
      ]
     },
     "execution_count": 255,
     "metadata": {},
     "output_type": "execute_result"
    }
   ],
   "source": [
    "df.isna().sum()"
   ]
  },
  {
   "cell_type": "markdown",
   "id": "4567db9f",
   "metadata": {},
   "source": [
    "**Вывод**\n",
    "\n",
    "Были выявлены пропущенные значения фотмата `NaN` в столбцах `days_employed` и `total_income`. Пропущенные значения составляли 10,1% от всех значений.   \n",
    "Заполнение пропущенных значений медианой позволяет исключить из расчётов возможные экстремумы и аномалии.   "
   ]
  },
  {
   "cell_type": "markdown",
   "id": "dedf63cf",
   "metadata": {},
   "source": [
    "### Изменение типов данных.\n",
    "Заменим тип данных в столбцах `days_employed` и `income_type` с вещественного на целочисленный.   \n",
    "Выведем первые 10 строк таблицы."
   ]
  },
  {
   "cell_type": "code",
   "execution_count": 272,
   "id": "cb829f9f",
   "metadata": {},
   "outputs": [
    {
     "data": {
      "text/html": [
       "<div>\n",
       "<style scoped>\n",
       "    .dataframe tbody tr th:only-of-type {\n",
       "        vertical-align: middle;\n",
       "    }\n",
       "\n",
       "    .dataframe tbody tr th {\n",
       "        vertical-align: top;\n",
       "    }\n",
       "\n",
       "    .dataframe thead th {\n",
       "        text-align: right;\n",
       "    }\n",
       "</style>\n",
       "<table border=\"1\" class=\"dataframe\">\n",
       "  <thead>\n",
       "    <tr style=\"text-align: right;\">\n",
       "      <th></th>\n",
       "      <th>children</th>\n",
       "      <th>days_employed</th>\n",
       "      <th>dob_years</th>\n",
       "      <th>education_id</th>\n",
       "      <th>family_status_id</th>\n",
       "      <th>gender</th>\n",
       "      <th>income_type</th>\n",
       "      <th>debt</th>\n",
       "      <th>total_income</th>\n",
       "      <th>purpose</th>\n",
       "      <th>total_income_category</th>\n",
       "      <th>purpose_category</th>\n",
       "    </tr>\n",
       "  </thead>\n",
       "  <tbody>\n",
       "    <tr>\n",
       "      <td>0</td>\n",
       "      <td>1</td>\n",
       "      <td>8437</td>\n",
       "      <td>42</td>\n",
       "      <td>0</td>\n",
       "      <td>0</td>\n",
       "      <td>F</td>\n",
       "      <td>сотрудник</td>\n",
       "      <td>0</td>\n",
       "      <td>253875</td>\n",
       "      <td>покупка жилья</td>\n",
       "      <td>B</td>\n",
       "      <td>операции с недвижимостью</td>\n",
       "    </tr>\n",
       "    <tr>\n",
       "      <td>1</td>\n",
       "      <td>1</td>\n",
       "      <td>4024</td>\n",
       "      <td>36</td>\n",
       "      <td>1</td>\n",
       "      <td>0</td>\n",
       "      <td>F</td>\n",
       "      <td>сотрудник</td>\n",
       "      <td>0</td>\n",
       "      <td>112080</td>\n",
       "      <td>приобретение автомобиля</td>\n",
       "      <td>C</td>\n",
       "      <td>операции с автомобилем</td>\n",
       "    </tr>\n",
       "    <tr>\n",
       "      <td>2</td>\n",
       "      <td>0</td>\n",
       "      <td>5623</td>\n",
       "      <td>33</td>\n",
       "      <td>1</td>\n",
       "      <td>0</td>\n",
       "      <td>M</td>\n",
       "      <td>сотрудник</td>\n",
       "      <td>0</td>\n",
       "      <td>145885</td>\n",
       "      <td>покупка жилья</td>\n",
       "      <td>C</td>\n",
       "      <td>операции с недвижимостью</td>\n",
       "    </tr>\n",
       "    <tr>\n",
       "      <td>3</td>\n",
       "      <td>3</td>\n",
       "      <td>4124</td>\n",
       "      <td>32</td>\n",
       "      <td>1</td>\n",
       "      <td>0</td>\n",
       "      <td>M</td>\n",
       "      <td>сотрудник</td>\n",
       "      <td>0</td>\n",
       "      <td>267628</td>\n",
       "      <td>дополнительное образование</td>\n",
       "      <td>B</td>\n",
       "      <td>получение образования</td>\n",
       "    </tr>\n",
       "    <tr>\n",
       "      <td>4</td>\n",
       "      <td>0</td>\n",
       "      <td>340266</td>\n",
       "      <td>53</td>\n",
       "      <td>1</td>\n",
       "      <td>1</td>\n",
       "      <td>F</td>\n",
       "      <td>пенсионер</td>\n",
       "      <td>0</td>\n",
       "      <td>158616</td>\n",
       "      <td>сыграть свадьбу</td>\n",
       "      <td>C</td>\n",
       "      <td>проведение свадьбы</td>\n",
       "    </tr>\n",
       "    <tr>\n",
       "      <td>5</td>\n",
       "      <td>0</td>\n",
       "      <td>926</td>\n",
       "      <td>27</td>\n",
       "      <td>0</td>\n",
       "      <td>1</td>\n",
       "      <td>M</td>\n",
       "      <td>компаньон</td>\n",
       "      <td>0</td>\n",
       "      <td>255763</td>\n",
       "      <td>покупка жилья</td>\n",
       "      <td>B</td>\n",
       "      <td>операции с недвижимостью</td>\n",
       "    </tr>\n",
       "    <tr>\n",
       "      <td>6</td>\n",
       "      <td>0</td>\n",
       "      <td>2879</td>\n",
       "      <td>43</td>\n",
       "      <td>0</td>\n",
       "      <td>0</td>\n",
       "      <td>F</td>\n",
       "      <td>компаньон</td>\n",
       "      <td>0</td>\n",
       "      <td>240525</td>\n",
       "      <td>операции с жильем</td>\n",
       "      <td>B</td>\n",
       "      <td>операции с недвижимостью</td>\n",
       "    </tr>\n",
       "    <tr>\n",
       "      <td>7</td>\n",
       "      <td>0</td>\n",
       "      <td>152</td>\n",
       "      <td>50</td>\n",
       "      <td>1</td>\n",
       "      <td>0</td>\n",
       "      <td>M</td>\n",
       "      <td>сотрудник</td>\n",
       "      <td>0</td>\n",
       "      <td>135823</td>\n",
       "      <td>образование</td>\n",
       "      <td>C</td>\n",
       "      <td>получение образования</td>\n",
       "    </tr>\n",
       "    <tr>\n",
       "      <td>8</td>\n",
       "      <td>2</td>\n",
       "      <td>6929</td>\n",
       "      <td>35</td>\n",
       "      <td>0</td>\n",
       "      <td>1</td>\n",
       "      <td>F</td>\n",
       "      <td>сотрудник</td>\n",
       "      <td>0</td>\n",
       "      <td>95856</td>\n",
       "      <td>на проведение свадьбы</td>\n",
       "      <td>C</td>\n",
       "      <td>проведение свадьбы</td>\n",
       "    </tr>\n",
       "    <tr>\n",
       "      <td>9</td>\n",
       "      <td>0</td>\n",
       "      <td>2188</td>\n",
       "      <td>41</td>\n",
       "      <td>1</td>\n",
       "      <td>0</td>\n",
       "      <td>M</td>\n",
       "      <td>сотрудник</td>\n",
       "      <td>0</td>\n",
       "      <td>144425</td>\n",
       "      <td>покупка жилья для семьи</td>\n",
       "      <td>C</td>\n",
       "      <td>операции с недвижимостью</td>\n",
       "    </tr>\n",
       "  </tbody>\n",
       "</table>\n",
       "</div>"
      ],
      "text/plain": [
       "   children  days_employed  dob_years  education_id  family_status_id gender  \\\n",
       "0         1           8437         42             0                 0      F   \n",
       "1         1           4024         36             1                 0      F   \n",
       "2         0           5623         33             1                 0      M   \n",
       "3         3           4124         32             1                 0      M   \n",
       "4         0         340266         53             1                 1      F   \n",
       "5         0            926         27             0                 1      M   \n",
       "6         0           2879         43             0                 0      F   \n",
       "7         0            152         50             1                 0      M   \n",
       "8         2           6929         35             0                 1      F   \n",
       "9         0           2188         41             1                 0      M   \n",
       "\n",
       "  income_type  debt  total_income                     purpose  \\\n",
       "0   сотрудник     0        253875               покупка жилья   \n",
       "1   сотрудник     0        112080     приобретение автомобиля   \n",
       "2   сотрудник     0        145885               покупка жилья   \n",
       "3   сотрудник     0        267628  дополнительное образование   \n",
       "4   пенсионер     0        158616             сыграть свадьбу   \n",
       "5   компаньон     0        255763               покупка жилья   \n",
       "6   компаньон     0        240525           операции с жильем   \n",
       "7   сотрудник     0        135823                 образование   \n",
       "8   сотрудник     0         95856       на проведение свадьбы   \n",
       "9   сотрудник     0        144425     покупка жилья для семьи   \n",
       "\n",
       "  total_income_category          purpose_category  \n",
       "0                     B  операции с недвижимостью  \n",
       "1                     C    операции с автомобилем  \n",
       "2                     C  операции с недвижимостью  \n",
       "3                     B     получение образования  \n",
       "4                     C        проведение свадьбы  \n",
       "5                     B  операции с недвижимостью  \n",
       "6                     B  операции с недвижимостью  \n",
       "7                     C     получение образования  \n",
       "8                     C        проведение свадьбы  \n",
       "9                     C  операции с недвижимостью  "
      ]
     },
     "execution_count": 272,
     "metadata": {},
     "output_type": "execute_result"
    }
   ],
   "source": [
    "try:\n",
    "    df['total_income'] = df['total_income'].astype('int')\n",
    "    df['days_employed'] = df['days_employed'].astype('int')\n",
    "except:\n",
    "    print('В данных имеются не корретные значения')\n",
    "df.head(10)"
   ]
  },
  {
   "cell_type": "markdown",
   "id": "a253e0b0",
   "metadata": {},
   "source": [
    "### Удаление дубликатов.\n",
    "Удалим явные дубликаты методом `drop_duplicates`, предварительно посчитав и оценив кол-во явных дубликатов."
   ]
  },
  {
   "cell_type": "code",
   "execution_count": 257,
   "id": "c1d5ef43",
   "metadata": {},
   "outputs": [
    {
     "data": {
      "text/html": [
       "<div>\n",
       "<style scoped>\n",
       "    .dataframe tbody tr th:only-of-type {\n",
       "        vertical-align: middle;\n",
       "    }\n",
       "\n",
       "    .dataframe tbody tr th {\n",
       "        vertical-align: top;\n",
       "    }\n",
       "\n",
       "    .dataframe thead th {\n",
       "        text-align: right;\n",
       "    }\n",
       "</style>\n",
       "<table border=\"1\" class=\"dataframe\">\n",
       "  <thead>\n",
       "    <tr style=\"text-align: right;\">\n",
       "      <th></th>\n",
       "      <th>children</th>\n",
       "      <th>days_employed</th>\n",
       "      <th>dob_years</th>\n",
       "      <th>education</th>\n",
       "      <th>education_id</th>\n",
       "      <th>family_status</th>\n",
       "      <th>family_status_id</th>\n",
       "      <th>gender</th>\n",
       "      <th>income_type</th>\n",
       "      <th>debt</th>\n",
       "      <th>total_income</th>\n",
       "      <th>purpose</th>\n",
       "    </tr>\n",
       "  </thead>\n",
       "  <tbody>\n",
       "    <tr>\n",
       "      <td>2849</td>\n",
       "      <td>0</td>\n",
       "      <td>2195</td>\n",
       "      <td>41</td>\n",
       "      <td>среднее</td>\n",
       "      <td>1</td>\n",
       "      <td>женат / замужем</td>\n",
       "      <td>0</td>\n",
       "      <td>F</td>\n",
       "      <td>сотрудник</td>\n",
       "      <td>0</td>\n",
       "      <td>136496</td>\n",
       "      <td>покупка жилья для семьи</td>\n",
       "    </tr>\n",
       "    <tr>\n",
       "      <td>3290</td>\n",
       "      <td>0</td>\n",
       "      <td>2195</td>\n",
       "      <td>58</td>\n",
       "      <td>среднее</td>\n",
       "      <td>1</td>\n",
       "      <td>гражданский брак</td>\n",
       "      <td>1</td>\n",
       "      <td>F</td>\n",
       "      <td>пенсионер</td>\n",
       "      <td>0</td>\n",
       "      <td>114816</td>\n",
       "      <td>сыграть свадьбу</td>\n",
       "    </tr>\n",
       "    <tr>\n",
       "      <td>4182</td>\n",
       "      <td>1</td>\n",
       "      <td>2195</td>\n",
       "      <td>34</td>\n",
       "      <td>высшее</td>\n",
       "      <td>0</td>\n",
       "      <td>гражданский брак</td>\n",
       "      <td>1</td>\n",
       "      <td>F</td>\n",
       "      <td>сотрудник</td>\n",
       "      <td>0</td>\n",
       "      <td>166117</td>\n",
       "      <td>свадьба</td>\n",
       "    </tr>\n",
       "    <tr>\n",
       "      <td>4851</td>\n",
       "      <td>0</td>\n",
       "      <td>2195</td>\n",
       "      <td>60</td>\n",
       "      <td>среднее</td>\n",
       "      <td>1</td>\n",
       "      <td>гражданский брак</td>\n",
       "      <td>1</td>\n",
       "      <td>F</td>\n",
       "      <td>пенсионер</td>\n",
       "      <td>0</td>\n",
       "      <td>114816</td>\n",
       "      <td>свадьба</td>\n",
       "    </tr>\n",
       "    <tr>\n",
       "      <td>5557</td>\n",
       "      <td>0</td>\n",
       "      <td>2195</td>\n",
       "      <td>58</td>\n",
       "      <td>среднее</td>\n",
       "      <td>1</td>\n",
       "      <td>гражданский брак</td>\n",
       "      <td>1</td>\n",
       "      <td>F</td>\n",
       "      <td>пенсионер</td>\n",
       "      <td>0</td>\n",
       "      <td>114816</td>\n",
       "      <td>сыграть свадьбу</td>\n",
       "    </tr>\n",
       "    <tr>\n",
       "      <td>...</td>\n",
       "      <td>...</td>\n",
       "      <td>...</td>\n",
       "      <td>...</td>\n",
       "      <td>...</td>\n",
       "      <td>...</td>\n",
       "      <td>...</td>\n",
       "      <td>...</td>\n",
       "      <td>...</td>\n",
       "      <td>...</td>\n",
       "      <td>...</td>\n",
       "      <td>...</td>\n",
       "      <td>...</td>\n",
       "    </tr>\n",
       "    <tr>\n",
       "      <td>20702</td>\n",
       "      <td>0</td>\n",
       "      <td>2195</td>\n",
       "      <td>64</td>\n",
       "      <td>среднее</td>\n",
       "      <td>1</td>\n",
       "      <td>женат / замужем</td>\n",
       "      <td>0</td>\n",
       "      <td>F</td>\n",
       "      <td>пенсионер</td>\n",
       "      <td>0</td>\n",
       "      <td>114816</td>\n",
       "      <td>дополнительное образование</td>\n",
       "    </tr>\n",
       "    <tr>\n",
       "      <td>21032</td>\n",
       "      <td>0</td>\n",
       "      <td>2195</td>\n",
       "      <td>60</td>\n",
       "      <td>среднее</td>\n",
       "      <td>1</td>\n",
       "      <td>женат / замужем</td>\n",
       "      <td>0</td>\n",
       "      <td>F</td>\n",
       "      <td>пенсионер</td>\n",
       "      <td>0</td>\n",
       "      <td>114816</td>\n",
       "      <td>заняться образованием</td>\n",
       "    </tr>\n",
       "    <tr>\n",
       "      <td>21132</td>\n",
       "      <td>0</td>\n",
       "      <td>2195</td>\n",
       "      <td>47</td>\n",
       "      <td>среднее</td>\n",
       "      <td>1</td>\n",
       "      <td>женат / замужем</td>\n",
       "      <td>0</td>\n",
       "      <td>F</td>\n",
       "      <td>сотрудник</td>\n",
       "      <td>0</td>\n",
       "      <td>136496</td>\n",
       "      <td>ремонт жилью</td>\n",
       "    </tr>\n",
       "    <tr>\n",
       "      <td>21281</td>\n",
       "      <td>1</td>\n",
       "      <td>2195</td>\n",
       "      <td>30</td>\n",
       "      <td>высшее</td>\n",
       "      <td>0</td>\n",
       "      <td>женат / замужем</td>\n",
       "      <td>0</td>\n",
       "      <td>F</td>\n",
       "      <td>сотрудник</td>\n",
       "      <td>0</td>\n",
       "      <td>166117</td>\n",
       "      <td>покупка коммерческой недвижимости</td>\n",
       "    </tr>\n",
       "    <tr>\n",
       "      <td>21415</td>\n",
       "      <td>0</td>\n",
       "      <td>2195</td>\n",
       "      <td>54</td>\n",
       "      <td>среднее</td>\n",
       "      <td>1</td>\n",
       "      <td>женат / замужем</td>\n",
       "      <td>0</td>\n",
       "      <td>F</td>\n",
       "      <td>пенсионер</td>\n",
       "      <td>0</td>\n",
       "      <td>114816</td>\n",
       "      <td>операции с жильем</td>\n",
       "    </tr>\n",
       "  </tbody>\n",
       "</table>\n",
       "<p>71 rows × 12 columns</p>\n",
       "</div>"
      ],
      "text/plain": [
       "       children  days_employed  dob_years education  education_id  \\\n",
       "2849          0           2195         41   среднее             1   \n",
       "3290          0           2195         58   среднее             1   \n",
       "4182          1           2195         34    высшее             0   \n",
       "4851          0           2195         60   среднее             1   \n",
       "5557          0           2195         58   среднее             1   \n",
       "...         ...            ...        ...       ...           ...   \n",
       "20702         0           2195         64   среднее             1   \n",
       "21032         0           2195         60   среднее             1   \n",
       "21132         0           2195         47   среднее             1   \n",
       "21281         1           2195         30    высшее             0   \n",
       "21415         0           2195         54   среднее             1   \n",
       "\n",
       "          family_status  family_status_id gender income_type  debt  \\\n",
       "2849    женат / замужем                 0      F   сотрудник     0   \n",
       "3290   гражданский брак                 1      F   пенсионер     0   \n",
       "4182   гражданский брак                 1      F   сотрудник     0   \n",
       "4851   гражданский брак                 1      F   пенсионер     0   \n",
       "5557   гражданский брак                 1      F   пенсионер     0   \n",
       "...                 ...               ...    ...         ...   ...   \n",
       "20702   женат / замужем                 0      F   пенсионер     0   \n",
       "21032   женат / замужем                 0      F   пенсионер     0   \n",
       "21132   женат / замужем                 0      F   сотрудник     0   \n",
       "21281   женат / замужем                 0      F   сотрудник     0   \n",
       "21415   женат / замужем                 0      F   пенсионер     0   \n",
       "\n",
       "       total_income                            purpose  \n",
       "2849         136496            покупка жилья для семьи  \n",
       "3290         114816                    сыграть свадьбу  \n",
       "4182         166117                            свадьба  \n",
       "4851         114816                            свадьба  \n",
       "5557         114816                    сыграть свадьбу  \n",
       "...             ...                                ...  \n",
       "20702        114816         дополнительное образование  \n",
       "21032        114816              заняться образованием  \n",
       "21132        136496                       ремонт жилью  \n",
       "21281        166117  покупка коммерческой недвижимости  \n",
       "21415        114816                  операции с жильем  \n",
       "\n",
       "[71 rows x 12 columns]"
      ]
     },
     "execution_count": 257,
     "metadata": {},
     "output_type": "execute_result"
    }
   ],
   "source": [
    "df[df.duplicated()]"
   ]
  },
  {
   "cell_type": "markdown",
   "id": "a09fe034",
   "metadata": {},
   "source": [
    "Всего 71 явных дубликатов, что составляет примерно 0,3%.   \n",
    "Удалим явные дубликаты, обновив индексы датафрейма."
   ]
  },
  {
   "cell_type": "code",
   "execution_count": 258,
   "id": "cdcce68f",
   "metadata": {},
   "outputs": [],
   "source": [
    "df = df.drop_duplicates().reset_index(drop=True)"
   ]
  },
  {
   "cell_type": "markdown",
   "id": "b77436a6",
   "metadata": {},
   "source": [
    "**Вывод**   \n",
    "Были удалены явные дубликаты в кол-ве 71 шт.   \n",
    "Все дубликаты имели пропущенные значения, котрые мы заменили медианными."
   ]
  },
  {
   "cell_type": "markdown",
   "id": "a2a43038",
   "metadata": {},
   "source": [
    "## Декомпозиция исходного датафрейма. Категоризация данных."
   ]
  },
  {
   "cell_type": "markdown",
   "id": "897f7711",
   "metadata": {},
   "source": [
    "### Формирование дополнительных датафреймов словарей, декомпозиция исходного датафрейма.\n",
    "\n",
    "Создадим \"словари\", к которым мы сможем обращаться по идентификатору."
   ]
  },
  {
   "cell_type": "code",
   "execution_count": 259,
   "id": "7817d8b4",
   "metadata": {
    "scrolled": true
   },
   "outputs": [
    {
     "name": "stdout",
     "output_type": "stream",
     "text": [
      "   family_status_id          family_status\n",
      "0                 0        женат / замужем\n",
      "1                 1       гражданский брак\n",
      "2                 2         вдовец / вдова\n",
      "3                 3              в разводе\n",
      "4                 4  Не женат / не замужем\n",
      "   education_id            education\n",
      "0             0               высшее\n",
      "1             1              среднее\n",
      "2             2  неоконченное высшее\n",
      "3             3            начальное\n",
      "4             4       ученая степень\n"
     ]
    }
   ],
   "source": [
    "# Creating \"family_satus\" \"dictionary\" that possible to indetfy \"family_satus\" by \"family_satus_id\"\n",
    "family_status_dict = df[['family_status_id', 'family_status']].drop_duplicates().reset_index(drop=True).sort_values('family_status_id')\n",
    "\n",
    "# Creating \"education\" 'dictionary' that possible to indetfy \"education\" by \"education_id\"\n",
    "education_dict = df[['education_id', 'education']].drop_duplicates().reset_index(drop=True).sort_values('education_id')\n",
    "\n",
    "# Let's print both \"dictionaries\"\n",
    "print(family_status_dict, education_dict, sep='\\n')"
   ]
  },
  {
   "cell_type": "markdown",
   "id": "132a2b54",
   "metadata": {},
   "source": [
    "После того как мы создали словари `family_status_dict` и `education_dict` можем удалить из таблицы столбцы `family_status` и `education`"
   ]
  },
  {
   "cell_type": "code",
   "execution_count": 260,
   "id": "5659af96",
   "metadata": {},
   "outputs": [],
   "source": [
    "# Dropping 'family_status' and 'education' coulumns\n",
    "df = df.drop(['family_status', 'education'], axis=1)"
   ]
  },
  {
   "cell_type": "markdown",
   "id": "177ff9d6",
   "metadata": {},
   "source": [
    "Выведем первые 5 строк для проверки."
   ]
  },
  {
   "cell_type": "code",
   "execution_count": 261,
   "id": "73246a77",
   "metadata": {},
   "outputs": [
    {
     "data": {
      "text/html": [
       "<div>\n",
       "<style scoped>\n",
       "    .dataframe tbody tr th:only-of-type {\n",
       "        vertical-align: middle;\n",
       "    }\n",
       "\n",
       "    .dataframe tbody tr th {\n",
       "        vertical-align: top;\n",
       "    }\n",
       "\n",
       "    .dataframe thead th {\n",
       "        text-align: right;\n",
       "    }\n",
       "</style>\n",
       "<table border=\"1\" class=\"dataframe\">\n",
       "  <thead>\n",
       "    <tr style=\"text-align: right;\">\n",
       "      <th></th>\n",
       "      <th>children</th>\n",
       "      <th>days_employed</th>\n",
       "      <th>dob_years</th>\n",
       "      <th>education_id</th>\n",
       "      <th>family_status_id</th>\n",
       "      <th>gender</th>\n",
       "      <th>income_type</th>\n",
       "      <th>debt</th>\n",
       "      <th>total_income</th>\n",
       "      <th>purpose</th>\n",
       "    </tr>\n",
       "  </thead>\n",
       "  <tbody>\n",
       "    <tr>\n",
       "      <td>0</td>\n",
       "      <td>1</td>\n",
       "      <td>8437</td>\n",
       "      <td>42</td>\n",
       "      <td>0</td>\n",
       "      <td>0</td>\n",
       "      <td>F</td>\n",
       "      <td>сотрудник</td>\n",
       "      <td>0</td>\n",
       "      <td>253875</td>\n",
       "      <td>покупка жилья</td>\n",
       "    </tr>\n",
       "    <tr>\n",
       "      <td>1</td>\n",
       "      <td>1</td>\n",
       "      <td>4024</td>\n",
       "      <td>36</td>\n",
       "      <td>1</td>\n",
       "      <td>0</td>\n",
       "      <td>F</td>\n",
       "      <td>сотрудник</td>\n",
       "      <td>0</td>\n",
       "      <td>112080</td>\n",
       "      <td>приобретение автомобиля</td>\n",
       "    </tr>\n",
       "    <tr>\n",
       "      <td>2</td>\n",
       "      <td>0</td>\n",
       "      <td>5623</td>\n",
       "      <td>33</td>\n",
       "      <td>1</td>\n",
       "      <td>0</td>\n",
       "      <td>M</td>\n",
       "      <td>сотрудник</td>\n",
       "      <td>0</td>\n",
       "      <td>145885</td>\n",
       "      <td>покупка жилья</td>\n",
       "    </tr>\n",
       "    <tr>\n",
       "      <td>3</td>\n",
       "      <td>3</td>\n",
       "      <td>4124</td>\n",
       "      <td>32</td>\n",
       "      <td>1</td>\n",
       "      <td>0</td>\n",
       "      <td>M</td>\n",
       "      <td>сотрудник</td>\n",
       "      <td>0</td>\n",
       "      <td>267628</td>\n",
       "      <td>дополнительное образование</td>\n",
       "    </tr>\n",
       "    <tr>\n",
       "      <td>4</td>\n",
       "      <td>0</td>\n",
       "      <td>340266</td>\n",
       "      <td>53</td>\n",
       "      <td>1</td>\n",
       "      <td>1</td>\n",
       "      <td>F</td>\n",
       "      <td>пенсионер</td>\n",
       "      <td>0</td>\n",
       "      <td>158616</td>\n",
       "      <td>сыграть свадьбу</td>\n",
       "    </tr>\n",
       "  </tbody>\n",
       "</table>\n",
       "</div>"
      ],
      "text/plain": [
       "   children  days_employed  dob_years  education_id  family_status_id gender  \\\n",
       "0         1           8437         42             0                 0      F   \n",
       "1         1           4024         36             1                 0      F   \n",
       "2         0           5623         33             1                 0      M   \n",
       "3         3           4124         32             1                 0      M   \n",
       "4         0         340266         53             1                 1      F   \n",
       "\n",
       "  income_type  debt  total_income                     purpose  \n",
       "0   сотрудник     0        253875               покупка жилья  \n",
       "1   сотрудник     0        112080     приобретение автомобиля  \n",
       "2   сотрудник     0        145885               покупка жилья  \n",
       "3   сотрудник     0        267628  дополнительное образование  \n",
       "4   пенсионер     0        158616             сыграть свадьбу  "
      ]
     },
     "metadata": {},
     "output_type": "display_data"
    }
   ],
   "source": [
    "display(df.head())"
   ]
  },
  {
   "cell_type": "markdown",
   "id": "51842b95",
   "metadata": {},
   "source": [
    "### Категоризация дохода.\n",
    "Добавим категоризацию клиентов банка по уровню дохода. Для этого напишем функцию, которая оценит значение уровня дохода и присвоет категорию в новом столбце `total_income_category` с категориями:\n",
    "- 0–30000 — 'E';\n",
    "- 30001–50000 — 'D';\n",
    "- 50001–200000 — 'C';\n",
    "- 200001–1000000 — 'B';\n",
    "- 1000001 и выше — 'A'."
   ]
  },
  {
   "cell_type": "code",
   "execution_count": 262,
   "id": "5d0007b7",
   "metadata": {},
   "outputs": [],
   "source": [
    "def income_categorize(row):\n",
    "    '''\n",
    "    The function returns assignation catogory of customers in\n",
    "    depending to their total_income.\n",
    "    - 0–30000 - \"E\";\n",
    "    - 30001–50000 - \"D\";\n",
    "    - 50001–200000 - \"C\";\n",
    "    - 200001–1000000 - \"B\";\n",
    "    - 1000001 and above - \"A\"\n",
    "    '''\n",
    "    income = row['total_income']\n",
    "    try:\n",
    "        if income <= 30000:\n",
    "            return 'E'\n",
    "        if 30001 <= income <= 50000:\n",
    "            return 'D'\n",
    "        if 50001 <= income <= 200000:\n",
    "            return 'C'\n",
    "        if 200001 <= income <= 1000000:\n",
    "            return 'B'\n",
    "        if income >= 10000001:\n",
    "            return 'A'\n",
    "    except:\n",
    "        return 'Не верное значение дохода'\n",
    "    "
   ]
  },
  {
   "cell_type": "markdown",
   "id": "9a242272",
   "metadata": {},
   "source": [
    "Назначим новый столбец `total_income_category` и применим данную функцию к нашей таблице методом `.apply()`.   \n",
    "Выведем первые 5 строк таблицы."
   ]
  },
  {
   "cell_type": "code",
   "execution_count": 263,
   "id": "4d0bd438",
   "metadata": {},
   "outputs": [
    {
     "data": {
      "text/html": [
       "<div>\n",
       "<style scoped>\n",
       "    .dataframe tbody tr th:only-of-type {\n",
       "        vertical-align: middle;\n",
       "    }\n",
       "\n",
       "    .dataframe tbody tr th {\n",
       "        vertical-align: top;\n",
       "    }\n",
       "\n",
       "    .dataframe thead th {\n",
       "        text-align: right;\n",
       "    }\n",
       "</style>\n",
       "<table border=\"1\" class=\"dataframe\">\n",
       "  <thead>\n",
       "    <tr style=\"text-align: right;\">\n",
       "      <th></th>\n",
       "      <th>children</th>\n",
       "      <th>days_employed</th>\n",
       "      <th>dob_years</th>\n",
       "      <th>education_id</th>\n",
       "      <th>family_status_id</th>\n",
       "      <th>gender</th>\n",
       "      <th>income_type</th>\n",
       "      <th>debt</th>\n",
       "      <th>total_income</th>\n",
       "      <th>purpose</th>\n",
       "      <th>total_income_category</th>\n",
       "    </tr>\n",
       "  </thead>\n",
       "  <tbody>\n",
       "    <tr>\n",
       "      <td>0</td>\n",
       "      <td>1</td>\n",
       "      <td>8437</td>\n",
       "      <td>42</td>\n",
       "      <td>0</td>\n",
       "      <td>0</td>\n",
       "      <td>F</td>\n",
       "      <td>сотрудник</td>\n",
       "      <td>0</td>\n",
       "      <td>253875</td>\n",
       "      <td>покупка жилья</td>\n",
       "      <td>B</td>\n",
       "    </tr>\n",
       "    <tr>\n",
       "      <td>1</td>\n",
       "      <td>1</td>\n",
       "      <td>4024</td>\n",
       "      <td>36</td>\n",
       "      <td>1</td>\n",
       "      <td>0</td>\n",
       "      <td>F</td>\n",
       "      <td>сотрудник</td>\n",
       "      <td>0</td>\n",
       "      <td>112080</td>\n",
       "      <td>приобретение автомобиля</td>\n",
       "      <td>C</td>\n",
       "    </tr>\n",
       "    <tr>\n",
       "      <td>2</td>\n",
       "      <td>0</td>\n",
       "      <td>5623</td>\n",
       "      <td>33</td>\n",
       "      <td>1</td>\n",
       "      <td>0</td>\n",
       "      <td>M</td>\n",
       "      <td>сотрудник</td>\n",
       "      <td>0</td>\n",
       "      <td>145885</td>\n",
       "      <td>покупка жилья</td>\n",
       "      <td>C</td>\n",
       "    </tr>\n",
       "    <tr>\n",
       "      <td>3</td>\n",
       "      <td>3</td>\n",
       "      <td>4124</td>\n",
       "      <td>32</td>\n",
       "      <td>1</td>\n",
       "      <td>0</td>\n",
       "      <td>M</td>\n",
       "      <td>сотрудник</td>\n",
       "      <td>0</td>\n",
       "      <td>267628</td>\n",
       "      <td>дополнительное образование</td>\n",
       "      <td>B</td>\n",
       "    </tr>\n",
       "    <tr>\n",
       "      <td>4</td>\n",
       "      <td>0</td>\n",
       "      <td>340266</td>\n",
       "      <td>53</td>\n",
       "      <td>1</td>\n",
       "      <td>1</td>\n",
       "      <td>F</td>\n",
       "      <td>пенсионер</td>\n",
       "      <td>0</td>\n",
       "      <td>158616</td>\n",
       "      <td>сыграть свадьбу</td>\n",
       "      <td>C</td>\n",
       "    </tr>\n",
       "  </tbody>\n",
       "</table>\n",
       "</div>"
      ],
      "text/plain": [
       "   children  days_employed  dob_years  education_id  family_status_id gender  \\\n",
       "0         1           8437         42             0                 0      F   \n",
       "1         1           4024         36             1                 0      F   \n",
       "2         0           5623         33             1                 0      M   \n",
       "3         3           4124         32             1                 0      M   \n",
       "4         0         340266         53             1                 1      F   \n",
       "\n",
       "  income_type  debt  total_income                     purpose  \\\n",
       "0   сотрудник     0        253875               покупка жилья   \n",
       "1   сотрудник     0        112080     приобретение автомобиля   \n",
       "2   сотрудник     0        145885               покупка жилья   \n",
       "3   сотрудник     0        267628  дополнительное образование   \n",
       "4   пенсионер     0        158616             сыграть свадьбу   \n",
       "\n",
       "  total_income_category  \n",
       "0                     B  \n",
       "1                     C  \n",
       "2                     C  \n",
       "3                     B  \n",
       "4                     C  "
      ]
     },
     "execution_count": 263,
     "metadata": {},
     "output_type": "execute_result"
    }
   ],
   "source": [
    "df['total_income_category'] = df.apply(income_categorize, axis=1)\n",
    "df.head()"
   ]
  },
  {
   "cell_type": "markdown",
   "id": "9d7a87c5",
   "metadata": {},
   "source": [
    "### Категоризация целей кредита.\n",
    "Добавим категоризацию клиентов банка по целям кредита. Для этого напишем функцию, которая оценит цель кредита в стоблце `purpose` и присвоет категорию в новом столбце `purpose_category`, в который войдут следующие категории:\n",
    "- 'операции с автомобилем',\n",
    "- 'операции с недвижимостью',\n",
    "- 'проведение свадьбы',\n",
    "- 'получение образования'.\n",
    "\n",
    "Перед написанием функции посмотрим все уникальные значения столбца `purpose`."
   ]
  },
  {
   "cell_type": "code",
   "execution_count": 264,
   "id": "52e8b81c",
   "metadata": {
    "scrolled": true
   },
   "outputs": [
    {
     "data": {
      "text/plain": [
       "array(['покупка жилья', 'приобретение автомобиля',\n",
       "       'дополнительное образование', 'сыграть свадьбу',\n",
       "       'операции с жильем', 'образование', 'на проведение свадьбы',\n",
       "       'покупка жилья для семьи', 'покупка недвижимости',\n",
       "       'покупка коммерческой недвижимости', 'покупка жилой недвижимости',\n",
       "       'строительство собственной недвижимости', 'недвижимость',\n",
       "       'строительство недвижимости', 'на покупку подержанного автомобиля',\n",
       "       'на покупку своего автомобиля',\n",
       "       'операции с коммерческой недвижимостью',\n",
       "       'строительство жилой недвижимости', 'жилье',\n",
       "       'операции со своей недвижимостью', 'автомобили',\n",
       "       'заняться образованием', 'сделка с подержанным автомобилем',\n",
       "       'получение образования', 'автомобиль', 'свадьба',\n",
       "       'получение дополнительного образования', 'покупка своего жилья',\n",
       "       'операции с недвижимостью', 'получение высшего образования',\n",
       "       'свой автомобиль', 'сделка с автомобилем',\n",
       "       'профильное образование', 'высшее образование',\n",
       "       'покупка жилья для сдачи', 'на покупку автомобиля', 'ремонт жилью',\n",
       "       'заняться высшим образованием'], dtype=object)"
      ]
     },
     "execution_count": 264,
     "metadata": {},
     "output_type": "execute_result"
    }
   ],
   "source": [
    "df['purpose'].unique()"
   ]
  },
  {
   "cell_type": "markdown",
   "id": "4ee992e6",
   "metadata": {},
   "source": [
    "Напишем саму функцию, которая объединит значения в категории."
   ]
  },
  {
   "cell_type": "code",
   "execution_count": 265,
   "id": "6e5dcbce",
   "metadata": {},
   "outputs": [],
   "source": [
    "def purpose_categorize(row):\n",
    "    '''\n",
    "    The function returns assignation catogory of customers in\n",
    "    depending to their purpose.\n",
    "    '''\n",
    "    purpose = row['purpose']\n",
    "    if ('недвиж' in purpose) or ('жил' in purpose):\n",
    "        return 'операции с недвижимостью'\n",
    "    if 'авто' in purpose:\n",
    "        return 'операции с автомобилем'\n",
    "    if 'образов' in purpose:\n",
    "        return 'получение образования'\n",
    "    if 'свад' in purpose:\n",
    "        return 'проведение свадьбы'\n",
    "    return 'unknown_category'"
   ]
  },
  {
   "cell_type": "markdown",
   "id": "23c7e9d2",
   "metadata": {},
   "source": [
    "Назначим новый столбец `purpose_category` и применим данную функцию к нашей таблице методом `.apply()`. Выведем кол-во  по каждой категории."
   ]
  },
  {
   "cell_type": "code",
   "execution_count": 266,
   "id": "396f0ebc",
   "metadata": {},
   "outputs": [
    {
     "data": {
      "text/plain": [
       "операции с недвижимостью    10751\n",
       "операции с автомобилем       4279\n",
       "получение образования        3988\n",
       "проведение свадьбы           2313\n",
       "Name: purpose_category, dtype: int64"
      ]
     },
     "execution_count": 266,
     "metadata": {},
     "output_type": "execute_result"
    }
   ],
   "source": [
    "df['purpose_category'] = df.apply(purpose_categorize, axis=1)\n",
    "df['purpose_category'].value_counts()"
   ]
  },
  {
   "cell_type": "markdown",
   "id": "a5e65f31",
   "metadata": {},
   "source": [
    "## Ответы на вопросы."
   ]
  },
  {
   "cell_type": "markdown",
   "id": "af385c93",
   "metadata": {},
   "source": [
    "### Зависимость между количеством детей и возвратом кредита в срок."
   ]
  },
  {
   "cell_type": "markdown",
   "id": "b9a95d92",
   "metadata": {},
   "source": [
    "Построим сводную таблицу зависимости количества детей и среднем значением из столбца значения возврата кредита в срок."
   ]
  },
  {
   "cell_type": "code",
   "execution_count": 267,
   "id": "839537e0",
   "metadata": {},
   "outputs": [
    {
     "data": {
      "text/html": [
       "<div>\n",
       "<style scoped>\n",
       "    .dataframe tbody tr th:only-of-type {\n",
       "        vertical-align: middle;\n",
       "    }\n",
       "\n",
       "    .dataframe tbody tr th {\n",
       "        vertical-align: top;\n",
       "    }\n",
       "\n",
       "    .dataframe thead th {\n",
       "        text-align: right;\n",
       "    }\n",
       "</style>\n",
       "<table border=\"1\" class=\"dataframe\">\n",
       "  <thead>\n",
       "    <tr style=\"text-align: right;\">\n",
       "      <th></th>\n",
       "      <th>debt</th>\n",
       "    </tr>\n",
       "    <tr>\n",
       "      <th>children</th>\n",
       "      <th></th>\n",
       "    </tr>\n",
       "  </thead>\n",
       "  <tbody>\n",
       "    <tr>\n",
       "      <td>4</td>\n",
       "      <td>0.097561</td>\n",
       "    </tr>\n",
       "    <tr>\n",
       "      <td>2</td>\n",
       "      <td>0.094542</td>\n",
       "    </tr>\n",
       "    <tr>\n",
       "      <td>1</td>\n",
       "      <td>0.092346</td>\n",
       "    </tr>\n",
       "    <tr>\n",
       "      <td>3</td>\n",
       "      <td>0.081818</td>\n",
       "    </tr>\n",
       "    <tr>\n",
       "      <td>0</td>\n",
       "      <td>0.075438</td>\n",
       "    </tr>\n",
       "    <tr>\n",
       "      <td>5</td>\n",
       "      <td>0.000000</td>\n",
       "    </tr>\n",
       "  </tbody>\n",
       "</table>\n",
       "</div>"
      ],
      "text/plain": [
       "              debt\n",
       "children          \n",
       "4         0.097561\n",
       "2         0.094542\n",
       "1         0.092346\n",
       "3         0.081818\n",
       "0         0.075438\n",
       "5         0.000000"
      ]
     },
     "metadata": {},
     "output_type": "display_data"
    },
    {
     "data": {
      "text/plain": [
       "<matplotlib.axes._subplots.AxesSubplot at 0x7fab3bebd310>"
      ]
     },
     "execution_count": 267,
     "metadata": {},
     "output_type": "execute_result"
    },
    {
     "data": {
      "image/png": "[encoded data removed]",
      "text/plain": [
       "<Figure size 432x288 with 1 Axes>"
      ]
     },
     "metadata": {
      "needs_background": "light"
     },
     "output_type": "display_data"
    }
   ],
   "source": [
    "debt_from_children = df.pivot_table(index='children', \n",
    "                                    values='debt', \n",
    "                                    aggfunc='mean').sort_values('debt', ascending = False)\n",
    "display(debt_from_children)\n",
    "sns.barplot(data=debt_from_children.reset_index(), x='children', y='debt')"
   ]
  },
  {
   "cell_type": "markdown",
   "id": "e57c91f1",
   "metadata": {},
   "source": [
    "**Вывод**    \n",
    "С увеличением количества детей мы видим увеличение количества просроченных задолженностей. Но люди с 3-мя детьми чаще платят в срок чем люди с 1-им ребенком, тогда как люди с 5-ю детьми не имеют задолженностей вовсе. Бездетные, как правило реже просрачивают оплату по кредиту, чем люди с детьми."
   ]
  },
  {
   "cell_type": "markdown",
   "id": "58c99c81",
   "metadata": {},
   "source": [
    "### Зависимость между семейным положением и возвратом кредита в срок."
   ]
  },
  {
   "cell_type": "markdown",
   "id": "92fc01b3",
   "metadata": {},
   "source": [
    "Построим сводную таблицу зависимости семейного положения и среднем значением из столбца значения возврата кредита в срок. Для этого нам потребуется обратиться к созданному ранее словарю категорий семейного статуса `family_status_dict`. "
   ]
  },
  {
   "cell_type": "code",
   "execution_count": 268,
   "id": "1645b336",
   "metadata": {},
   "outputs": [
    {
     "data": {
      "text/html": [
       "<div>\n",
       "<style scoped>\n",
       "    .dataframe tbody tr th:only-of-type {\n",
       "        vertical-align: middle;\n",
       "    }\n",
       "\n",
       "    .dataframe tbody tr th {\n",
       "        vertical-align: top;\n",
       "    }\n",
       "\n",
       "    .dataframe thead th {\n",
       "        text-align: right;\n",
       "    }\n",
       "</style>\n",
       "<table border=\"1\" class=\"dataframe\">\n",
       "  <thead>\n",
       "    <tr style=\"text-align: right;\">\n",
       "      <th></th>\n",
       "      <th>family_status_id</th>\n",
       "      <th>debt</th>\n",
       "    </tr>\n",
       "    <tr>\n",
       "      <th>family_status</th>\n",
       "      <th></th>\n",
       "      <th></th>\n",
       "    </tr>\n",
       "  </thead>\n",
       "  <tbody>\n",
       "    <tr>\n",
       "      <td>Не женат / не замужем</td>\n",
       "      <td>4</td>\n",
       "      <td>0.097639</td>\n",
       "    </tr>\n",
       "    <tr>\n",
       "      <td>гражданский брак</td>\n",
       "      <td>1</td>\n",
       "      <td>0.093130</td>\n",
       "    </tr>\n",
       "    <tr>\n",
       "      <td>женат / замужем</td>\n",
       "      <td>0</td>\n",
       "      <td>0.075606</td>\n",
       "    </tr>\n",
       "    <tr>\n",
       "      <td>в разводе</td>\n",
       "      <td>3</td>\n",
       "      <td>0.070648</td>\n",
       "    </tr>\n",
       "    <tr>\n",
       "      <td>вдовец / вдова</td>\n",
       "      <td>2</td>\n",
       "      <td>0.066246</td>\n",
       "    </tr>\n",
       "  </tbody>\n",
       "</table>\n",
       "</div>"
      ],
      "text/plain": [
       "                       family_status_id      debt\n",
       "family_status                                    \n",
       "Не женат / не замужем                 4  0.097639\n",
       "гражданский брак                      1  0.093130\n",
       "женат / замужем                       0  0.075606\n",
       "в разводе                             3  0.070648\n",
       "вдовец / вдова                        2  0.066246"
      ]
     },
     "metadata": {},
     "output_type": "display_data"
    },
    {
     "data": {
      "text/plain": [
       "<matplotlib.axes._subplots.AxesSubplot at 0x7fab3bcf0110>"
      ]
     },
     "execution_count": 268,
     "metadata": {},
     "output_type": "execute_result"
    },
    {
     "data": {
      "image/png": "[encoded data removed]",
      "text/plain": [
       "<Figure size 432x288 with 1 Axes>"
      ]
     },
     "metadata": {
      "needs_background": "light"
     },
     "output_type": "display_data"
    }
   ],
   "source": [
    "debt_from_family_status = df.pivot_table(index='family_status_id', \n",
    "                                    values='debt', \n",
    "                                    aggfunc='mean').sort_values('debt', ascending = False)\n",
    "# Merging new dataframe with family_status_dict\n",
    "debt_from_family_status = debt_from_family_status.merge(family_status_dict, on='family_status_id')\n",
    "display(debt_from_family_status.set_index('family_status'))\n",
    "sns.barplot(data=debt_from_family_status, x='family_status_id', y='debt')"
   ]
  },
  {
   "cell_type": "markdown",
   "id": "277bb6ab",
   "metadata": {},
   "source": [
    "**Вывод**   \n",
    "Здесь мы видим зависимость: люди не в браке имеют больший процент невозвратов в срок. Но люди находящиеся в разводе или овдовевшие платят в срок чаще, чем люди находящиеся в браке."
   ]
  },
  {
   "cell_type": "markdown",
   "id": "e5684206",
   "metadata": {},
   "source": [
    "### Зависимость между уровнем дохода и возвратом кредита в срок.\n",
    "Построим сводную таблицу зависимости уровня дохода и среднем значением из столбца значения возврата кредита в срок. Для этого нам потребуется обратиться к созданным ранее категориям дохода в столбце `total_income_category`. Вспомним эти категории:   \n",
    "- 0–30000 — 'E';\n",
    "- 30001–50000 — 'D';\n",
    "- 50001–200000 — 'C';\n",
    "- 200001–1000000 — 'B';\n",
    "- 1000001 и выше — 'A'."
   ]
  },
  {
   "cell_type": "code",
   "execution_count": 269,
   "id": "6ff30368",
   "metadata": {},
   "outputs": [
    {
     "data": {
      "text/html": [
       "<div>\n",
       "<style scoped>\n",
       "    .dataframe tbody tr th:only-of-type {\n",
       "        vertical-align: middle;\n",
       "    }\n",
       "\n",
       "    .dataframe tbody tr th {\n",
       "        vertical-align: top;\n",
       "    }\n",
       "\n",
       "    .dataframe thead th {\n",
       "        text-align: right;\n",
       "    }\n",
       "</style>\n",
       "<table border=\"1\" class=\"dataframe\">\n",
       "  <thead>\n",
       "    <tr style=\"text-align: right;\">\n",
       "      <th></th>\n",
       "      <th>debt</th>\n",
       "    </tr>\n",
       "    <tr>\n",
       "      <th>total_income_category</th>\n",
       "      <th></th>\n",
       "    </tr>\n",
       "  </thead>\n",
       "  <tbody>\n",
       "    <tr>\n",
       "      <td>E</td>\n",
       "      <td>0.090909</td>\n",
       "    </tr>\n",
       "    <tr>\n",
       "      <td>C</td>\n",
       "      <td>0.085467</td>\n",
       "    </tr>\n",
       "    <tr>\n",
       "      <td>B</td>\n",
       "      <td>0.069642</td>\n",
       "    </tr>\n",
       "    <tr>\n",
       "      <td>D</td>\n",
       "      <td>0.060172</td>\n",
       "    </tr>\n",
       "  </tbody>\n",
       "</table>\n",
       "</div>"
      ],
      "text/plain": [
       "                           debt\n",
       "total_income_category          \n",
       "E                      0.090909\n",
       "C                      0.085467\n",
       "B                      0.069642\n",
       "D                      0.060172"
      ]
     },
     "metadata": {},
     "output_type": "display_data"
    },
    {
     "data": {
      "text/plain": [
       "<matplotlib.axes._subplots.AxesSubplot at 0x7fab3bf238d0>"
      ]
     },
     "execution_count": 269,
     "metadata": {},
     "output_type": "execute_result"
    },
    {
     "data": {
      "image/png": "[encoded data removed]",
      "text/plain": [
       "<Figure size 432x288 with 1 Axes>"
      ]
     },
     "metadata": {
      "needs_background": "light"
     },
     "output_type": "display_data"
    }
   ],
   "source": [
    "debt_from_income = df.pivot_table(index='total_income_category', \n",
    "                                    values='debt', \n",
    "                                    aggfunc='mean').sort_values('debt', ascending = False)\n",
    "display(debt_from_income)\n",
    "sns.barplot(data=debt_from_income.reset_index(), x='total_income_category', y='debt')"
   ]
  },
  {
   "cell_type": "markdown",
   "id": "58111ec5",
   "metadata": {},
   "source": [
    "Прежде чем приступить к выводам, посмотрим количество значений по каждой категории"
   ]
  },
  {
   "cell_type": "code",
   "execution_count": 270,
   "id": "8b3af8c2",
   "metadata": {},
   "outputs": [
    {
     "data": {
      "text/plain": [
       "C    15737\n",
       "B     5198\n",
       "D      349\n",
       "E       22\n",
       "Name: total_income_category, dtype: int64"
      ]
     },
     "execution_count": 270,
     "metadata": {},
     "output_type": "execute_result"
    }
   ],
   "source": [
    "df['total_income_category'].value_counts()"
   ]
  },
  {
   "cell_type": "markdown",
   "id": "3f727ead",
   "metadata": {},
   "source": [
    "**Вывод**   \n",
    "Имеющаяся выборка не является репрезентативной, так как 2/3 все выборки это одна категория. Но исходя из имеющихся данных можно сказать, что люди со среднем (категория \"С\") и низким (категория \"Е\") заработком чаще имеют задолженности по кредиту."
   ]
  },
  {
   "cell_type": "markdown",
   "id": "d76c0f45",
   "metadata": {},
   "source": [
    "### Влияние разных целей кредита на его возврат в срок."
   ]
  },
  {
   "cell_type": "markdown",
   "id": "33d61f79",
   "metadata": {},
   "source": [
    "Построим сводную таблицу зависимости целей кредита и среднем значением из столбца значения возврата кредита в срок."
   ]
  },
  {
   "cell_type": "code",
   "execution_count": 271,
   "id": "8999b872",
   "metadata": {},
   "outputs": [
    {
     "data": {
      "text/html": [
       "<div>\n",
       "<style scoped>\n",
       "    .dataframe tbody tr th:only-of-type {\n",
       "        vertical-align: middle;\n",
       "    }\n",
       "\n",
       "    .dataframe tbody tr th {\n",
       "        vertical-align: top;\n",
       "    }\n",
       "\n",
       "    .dataframe thead th {\n",
       "        text-align: right;\n",
       "    }\n",
       "</style>\n",
       "<table border=\"1\" class=\"dataframe\">\n",
       "  <thead>\n",
       "    <tr style=\"text-align: right;\">\n",
       "      <th></th>\n",
       "      <th>debt</th>\n",
       "    </tr>\n",
       "    <tr>\n",
       "      <th>purpose_category</th>\n",
       "      <th></th>\n",
       "    </tr>\n",
       "  </thead>\n",
       "  <tbody>\n",
       "    <tr>\n",
       "      <td>операции с автомобилем</td>\n",
       "      <td>0.093480</td>\n",
       "    </tr>\n",
       "    <tr>\n",
       "      <td>получение образования</td>\n",
       "      <td>0.092528</td>\n",
       "    </tr>\n",
       "    <tr>\n",
       "      <td>проведение свадьбы</td>\n",
       "      <td>0.079118</td>\n",
       "    </tr>\n",
       "    <tr>\n",
       "      <td>операции с недвижимостью</td>\n",
       "      <td>0.072551</td>\n",
       "    </tr>\n",
       "  </tbody>\n",
       "</table>\n",
       "</div>"
      ],
      "text/plain": [
       "                              debt\n",
       "purpose_category                  \n",
       "операции с автомобилем    0.093480\n",
       "получение образования     0.092528\n",
       "проведение свадьбы        0.079118\n",
       "операции с недвижимостью  0.072551"
      ]
     },
     "metadata": {},
     "output_type": "display_data"
    },
    {
     "data": {
      "image/png": "[encoded data removed]",
      "text/plain": [
       "<Figure size 720x360 with 1 Axes>"
      ]
     },
     "metadata": {
      "needs_background": "light"
     },
     "output_type": "display_data"
    }
   ],
   "source": [
    "debt_from_purpose = df.pivot_table(index='purpose_category', \n",
    "                                    values='debt', \n",
    "                                    aggfunc='mean').sort_values('debt', ascending = False)\n",
    "display(debt_from_purpose)\n",
    "g = sns.barplot(data=debt_from_purpose.reset_index(), x='purpose_category', y='debt')\n",
    "g.figure.set_figwidth(10)\n",
    "g.figure.set_figheight(5) "
   ]
  },
  {
   "cell_type": "markdown",
   "id": "78792eae",
   "metadata": {},
   "source": [
    "**Вывод**   \n",
    "Среди наши 4-х категорий чаще всего имеют задолженности по кредиту на авто и образование. Реже всего имеют задолженности с целью кредита недвижимость, так же примерно как и на проведение свадьбы."
   ]
  },
  {
   "cell_type": "markdown",
   "id": "36de6cb3",
   "metadata": {},
   "source": [
    "## Общий вывод:"
   ]
  },
  {
   "cell_type": "markdown",
   "id": "2b32aac0",
   "metadata": {},
   "source": [
    "Семейный статус влияет на вероятность платежей по кредиту в срок - люди, бывший в браке чаще плятят в срок чем те, кто не бывали в браке, причем разведенные и овдовевшие платят в срок чаще, чем люди в браке. Чем больше детей, тем чаще имеются задолженности по кредиту, бездетные реже имеют задолженности. Кредиты взятые на недвижимость и проведение свадьбы реже возвращают позже срока, чем кредиты на авто и образование."
   ]
  }
 ],
 "metadata": {
  "ExecuteTimeLog": [
   {
    "duration": 916,
    "start_time": "2022-02-02T09:05:56.005Z"
   },
   {
    "duration": 65,
    "start_time": "2022-02-02T09:06:17.969Z"
   },
   {
    "duration": 64,
    "start_time": "2022-02-02T09:46:55.522Z"
   },
   {
    "duration": 3,
    "start_time": "2022-02-02T09:49:16.909Z"
   },
   {
    "duration": 3,
    "start_time": "2022-02-02T09:49:24.789Z"
   },
   {
    "duration": 63,
    "start_time": "2022-02-02T12:40:34.359Z"
   },
   {
    "duration": 15,
    "start_time": "2022-02-02T12:44:51.147Z"
   },
   {
    "duration": 67,
    "start_time": "2022-02-02T12:50:25.955Z"
   },
   {
    "duration": 78,
    "start_time": "2022-02-02T13:24:39.241Z"
   },
   {
    "duration": 74,
    "start_time": "2022-02-02T13:25:18.751Z"
   },
   {
    "duration": 298,
    "start_time": "2022-02-02T13:46:02.416Z"
   },
   {
    "duration": 211,
    "start_time": "2022-02-02T13:46:16.501Z"
   },
   {
    "duration": 19,
    "start_time": "2022-02-02T13:46:36.008Z"
   },
   {
    "duration": 74,
    "start_time": "2022-02-02T13:51:25.897Z"
   },
   {
    "duration": 8,
    "start_time": "2022-02-02T13:54:44.338Z"
   },
   {
    "duration": 6,
    "start_time": "2022-02-02T13:55:15.366Z"
   },
   {
    "duration": 9,
    "start_time": "2022-02-02T13:55:23.951Z"
   },
   {
    "duration": 10,
    "start_time": "2022-02-02T13:56:03.691Z"
   },
   {
    "duration": 10,
    "start_time": "2022-02-02T13:57:34.211Z"
   },
   {
    "duration": 18,
    "start_time": "2022-02-02T14:09:27.508Z"
   },
   {
    "duration": 250,
    "start_time": "2022-02-02T14:11:40.378Z"
   },
   {
    "duration": 373,
    "start_time": "2022-02-02T14:12:10.627Z"
   },
   {
    "duration": 32,
    "start_time": "2022-02-02T14:17:04.056Z"
   },
   {
    "duration": 19,
    "start_time": "2022-02-02T14:17:10.071Z"
   },
   {
    "duration": 5691,
    "start_time": "2022-02-02T14:39:43.189Z"
   },
   {
    "duration": 72,
    "start_time": "2022-02-02T14:41:20.441Z"
   },
   {
    "duration": 5470,
    "start_time": "2022-02-02T14:41:31.495Z"
   },
   {
    "duration": 231,
    "start_time": "2022-02-02T14:47:49.447Z"
   },
   {
    "duration": 6,
    "start_time": "2022-02-02T14:48:04.122Z"
   },
   {
    "duration": 217,
    "start_time": "2022-02-02T15:06:15.440Z"
   },
   {
    "duration": 11,
    "start_time": "2022-02-02T15:06:56.577Z"
   },
   {
    "duration": 11,
    "start_time": "2022-02-02T15:07:17.362Z"
   },
   {
    "duration": 16,
    "start_time": "2022-02-02T15:07:28.061Z"
   },
   {
    "duration": 16,
    "start_time": "2022-02-02T15:07:45.284Z"
   },
   {
    "duration": 17,
    "start_time": "2022-02-02T15:27:00.755Z"
   },
   {
    "duration": 269,
    "start_time": "2022-02-03T07:52:18.513Z"
   },
   {
    "duration": 559,
    "start_time": "2022-02-03T07:52:27.469Z"
   },
   {
    "duration": 66,
    "start_time": "2022-02-03T07:52:28.030Z"
   },
   {
    "duration": 1507,
    "start_time": "2022-02-03T07:53:25.162Z"
   },
   {
    "duration": 4,
    "start_time": "2022-02-03T08:51:52.978Z"
   },
   {
    "duration": 22,
    "start_time": "2022-02-03T08:52:07.562Z"
   },
   {
    "duration": 4,
    "start_time": "2022-02-03T08:52:31.361Z"
   },
   {
    "duration": 3,
    "start_time": "2022-02-03T08:56:19.864Z"
   },
   {
    "duration": 25,
    "start_time": "2022-02-03T08:57:18.891Z"
   },
   {
    "duration": 27,
    "start_time": "2022-02-03T08:57:35.732Z"
   },
   {
    "duration": 17,
    "start_time": "2022-02-03T08:58:17.699Z"
   },
   {
    "duration": 20,
    "start_time": "2022-02-03T08:58:46.670Z"
   },
   {
    "duration": 17,
    "start_time": "2022-02-03T09:04:54.244Z"
   },
   {
    "duration": 17,
    "start_time": "2022-02-03T09:05:05.184Z"
   },
   {
    "duration": 5,
    "start_time": "2022-02-03T09:14:25.913Z"
   },
   {
    "duration": 287,
    "start_time": "2022-02-03T09:14:44.331Z"
   },
   {
    "duration": 4,
    "start_time": "2022-02-03T09:14:54.751Z"
   },
   {
    "duration": 3,
    "start_time": "2022-02-03T09:15:09.183Z"
   },
   {
    "duration": 18,
    "start_time": "2022-02-03T09:15:13.738Z"
   },
   {
    "duration": 16,
    "start_time": "2022-02-03T09:15:54.236Z"
   },
   {
    "duration": 18,
    "start_time": "2022-02-03T09:15:58.079Z"
   },
   {
    "duration": 17,
    "start_time": "2022-02-03T09:16:08.630Z"
   },
   {
    "duration": 18,
    "start_time": "2022-02-03T09:16:12.746Z"
   },
   {
    "duration": 2,
    "start_time": "2022-02-03T09:16:21.538Z"
   },
   {
    "duration": 60,
    "start_time": "2022-02-03T09:16:21.542Z"
   },
   {
    "duration": 10,
    "start_time": "2022-02-03T09:16:21.604Z"
   },
   {
    "duration": 17,
    "start_time": "2022-02-03T09:16:21.616Z"
   },
   {
    "duration": 16,
    "start_time": "2022-02-03T09:16:27.311Z"
   },
   {
    "duration": 17,
    "start_time": "2022-02-03T09:16:41.029Z"
   },
   {
    "duration": 17,
    "start_time": "2022-02-03T09:17:49.946Z"
   },
   {
    "duration": 20,
    "start_time": "2022-02-03T09:18:00.278Z"
   },
   {
    "duration": 17,
    "start_time": "2022-02-03T09:18:40.496Z"
   },
   {
    "duration": 17,
    "start_time": "2022-02-03T09:19:36.606Z"
   },
   {
    "duration": 2,
    "start_time": "2022-02-03T09:19:43.308Z"
   },
   {
    "duration": 55,
    "start_time": "2022-02-03T09:19:43.313Z"
   },
   {
    "duration": 11,
    "start_time": "2022-02-03T09:19:43.370Z"
   },
   {
    "duration": 30,
    "start_time": "2022-02-03T09:19:43.383Z"
   },
   {
    "duration": 18,
    "start_time": "2022-02-03T09:19:46.191Z"
   },
   {
    "duration": 788,
    "start_time": "2022-02-03T09:42:58.920Z"
   },
   {
    "duration": 7,
    "start_time": "2022-02-03T09:43:36.151Z"
   },
   {
    "duration": 252,
    "start_time": "2022-02-03T09:44:32.737Z"
   },
   {
    "duration": 247,
    "start_time": "2022-02-03T09:44:37.781Z"
   },
   {
    "duration": 263,
    "start_time": "2022-02-03T09:44:59.299Z"
   },
   {
    "duration": 4,
    "start_time": "2022-02-03T09:46:05.593Z"
   },
   {
    "duration": 78,
    "start_time": "2022-02-03T09:46:05.599Z"
   },
   {
    "duration": 11,
    "start_time": "2022-02-03T09:46:05.679Z"
   },
   {
    "duration": 31,
    "start_time": "2022-02-03T09:46:05.692Z"
   },
   {
    "duration": 227,
    "start_time": "2022-02-03T09:46:14.203Z"
   },
   {
    "duration": 239,
    "start_time": "2022-02-03T09:47:42.786Z"
   },
   {
    "duration": 733,
    "start_time": "2022-02-03T09:47:46.995Z"
   },
   {
    "duration": 768,
    "start_time": "2022-02-03T09:48:01.325Z"
   },
   {
    "duration": 6,
    "start_time": "2022-02-03T09:48:17.232Z"
   },
   {
    "duration": 244,
    "start_time": "2022-02-03T10:07:29.235Z"
   },
   {
    "duration": 437,
    "start_time": "2022-02-03T10:07:38.202Z"
   },
   {
    "duration": 59,
    "start_time": "2022-02-03T10:07:38.640Z"
   },
   {
    "duration": 11,
    "start_time": "2022-02-03T10:07:38.701Z"
   },
   {
    "duration": 16,
    "start_time": "2022-02-03T10:07:38.714Z"
   },
   {
    "duration": 1513,
    "start_time": "2022-02-03T10:07:38.732Z"
   },
   {
    "duration": 259,
    "start_time": "2022-02-03T10:09:13.215Z"
   },
   {
    "duration": 1554,
    "start_time": "2022-02-03T10:09:22.645Z"
   },
   {
    "duration": 2251,
    "start_time": "2022-02-03T10:10:10.374Z"
   },
   {
    "duration": 1568,
    "start_time": "2022-02-03T10:16:13.044Z"
   },
   {
    "duration": 234,
    "start_time": "2022-02-03T10:25:27.831Z"
   },
   {
    "duration": 12,
    "start_time": "2022-02-03T10:27:02.249Z"
   },
   {
    "duration": 17,
    "start_time": "2022-02-03T10:28:57.129Z"
   },
   {
    "duration": 29,
    "start_time": "2022-02-03T10:35:13.207Z"
   },
   {
    "duration": 20,
    "start_time": "2022-02-03T11:32:01.142Z"
   },
   {
    "duration": 8,
    "start_time": "2022-02-03T11:32:22.285Z"
   },
   {
    "duration": 16,
    "start_time": "2022-02-03T11:32:57.146Z"
   },
   {
    "duration": 10,
    "start_time": "2022-02-03T11:36:22.197Z"
   },
   {
    "duration": 15,
    "start_time": "2022-02-03T11:37:46.451Z"
   },
   {
    "duration": 23,
    "start_time": "2022-02-03T11:37:51.388Z"
   },
   {
    "duration": 11,
    "start_time": "2022-02-03T11:38:10.289Z"
   },
   {
    "duration": 16,
    "start_time": "2022-02-03T11:38:22.074Z"
   },
   {
    "duration": 11,
    "start_time": "2022-02-03T12:13:40.780Z"
   },
   {
    "duration": 10,
    "start_time": "2022-02-03T12:13:49.046Z"
   },
   {
    "duration": 5,
    "start_time": "2022-02-03T12:17:43.317Z"
   },
   {
    "duration": 9,
    "start_time": "2022-02-03T12:17:56.185Z"
   },
   {
    "duration": 69,
    "start_time": "2022-02-03T12:18:23.025Z"
   },
   {
    "duration": 111,
    "start_time": "2022-02-03T12:19:05.147Z"
   },
   {
    "duration": 76,
    "start_time": "2022-02-03T12:19:37.085Z"
   },
   {
    "duration": 5,
    "start_time": "2022-02-03T12:19:50.736Z"
   },
   {
    "duration": 4,
    "start_time": "2022-02-03T12:19:58.957Z"
   },
   {
    "duration": 4,
    "start_time": "2022-02-03T12:20:03.705Z"
   },
   {
    "duration": 115,
    "start_time": "2022-02-03T12:21:22.400Z"
   },
   {
    "duration": 3,
    "start_time": "2022-02-03T12:21:33.170Z"
   },
   {
    "duration": 60,
    "start_time": "2022-02-03T12:21:33.174Z"
   },
   {
    "duration": 11,
    "start_time": "2022-02-03T12:21:33.237Z"
   },
   {
    "duration": 17,
    "start_time": "2022-02-03T12:21:33.251Z"
   },
   {
    "duration": 1544,
    "start_time": "2022-02-03T12:21:33.270Z"
   },
   {
    "duration": 18,
    "start_time": "2022-02-03T12:21:34.816Z"
   },
   {
    "duration": 17,
    "start_time": "2022-02-03T12:21:34.835Z"
   },
   {
    "duration": 5,
    "start_time": "2022-02-03T12:22:37.267Z"
   },
   {
    "duration": 6,
    "start_time": "2022-02-03T12:22:44.074Z"
   },
   {
    "duration": 6,
    "start_time": "2022-02-03T12:23:04.466Z"
   },
   {
    "duration": 5,
    "start_time": "2022-02-03T12:23:12.825Z"
   },
   {
    "duration": 6,
    "start_time": "2022-02-03T12:23:26.060Z"
   },
   {
    "duration": 4,
    "start_time": "2022-02-03T12:23:57.787Z"
   },
   {
    "duration": 5,
    "start_time": "2022-02-03T12:24:05.954Z"
   },
   {
    "duration": 20,
    "start_time": "2022-02-03T12:32:10.455Z"
   },
   {
    "duration": 17,
    "start_time": "2022-02-03T12:32:28.109Z"
   },
   {
    "duration": 269,
    "start_time": "2022-02-03T12:32:37.262Z"
   },
   {
    "duration": 225,
    "start_time": "2022-02-03T12:32:54.131Z"
   },
   {
    "duration": 19,
    "start_time": "2022-02-03T12:33:00.612Z"
   },
   {
    "duration": 16,
    "start_time": "2022-02-03T12:33:06.364Z"
   },
   {
    "duration": 244,
    "start_time": "2022-02-03T13:16:26.712Z"
   },
   {
    "duration": 17,
    "start_time": "2022-02-03T13:16:39.521Z"
   },
   {
    "duration": 5876,
    "start_time": "2022-02-03T13:17:56.444Z"
   },
   {
    "duration": 6014,
    "start_time": "2022-02-03T13:18:22.049Z"
   },
   {
    "duration": 20,
    "start_time": "2022-02-03T13:19:04.920Z"
   },
   {
    "duration": 20,
    "start_time": "2022-02-03T13:21:33.992Z"
   },
   {
    "duration": 18,
    "start_time": "2022-02-03T13:24:27.348Z"
   },
   {
    "duration": 24,
    "start_time": "2022-02-03T13:30:19.259Z"
   },
   {
    "duration": 100,
    "start_time": "2022-02-03T13:36:19.311Z"
   },
   {
    "duration": 115,
    "start_time": "2022-02-03T13:36:56.277Z"
   },
   {
    "duration": 76,
    "start_time": "2022-02-03T13:37:01.501Z"
   },
   {
    "duration": 17,
    "start_time": "2022-02-03T13:37:38.309Z"
   },
   {
    "duration": 299,
    "start_time": "2022-02-03T13:42:50.411Z"
   },
   {
    "duration": 409,
    "start_time": "2022-02-03T13:43:02.317Z"
   },
   {
    "duration": 454,
    "start_time": "2022-02-03T13:44:01.360Z"
   },
   {
    "duration": 409,
    "start_time": "2022-02-03T13:44:39.155Z"
   },
   {
    "duration": 17,
    "start_time": "2022-02-03T13:45:42.118Z"
   },
   {
    "duration": 242,
    "start_time": "2022-02-03T13:46:02.342Z"
   },
   {
    "duration": 282,
    "start_time": "2022-02-03T13:46:13.901Z"
   },
   {
    "duration": 17,
    "start_time": "2022-02-03T13:46:30.942Z"
   },
   {
    "duration": 19,
    "start_time": "2022-02-03T13:46:48.162Z"
   },
   {
    "duration": 247,
    "start_time": "2022-02-03T13:47:57.889Z"
   },
   {
    "duration": 22,
    "start_time": "2022-02-03T13:48:11.357Z"
   },
   {
    "duration": 250,
    "start_time": "2022-02-03T13:49:20.280Z"
   },
   {
    "duration": 248,
    "start_time": "2022-02-03T13:51:49.020Z"
   },
   {
    "duration": 258,
    "start_time": "2022-02-03T13:53:30.536Z"
   },
   {
    "duration": 17,
    "start_time": "2022-02-03T14:00:04.653Z"
   },
   {
    "duration": 17,
    "start_time": "2022-02-03T14:00:14.928Z"
   },
   {
    "duration": 16,
    "start_time": "2022-02-03T14:00:20.396Z"
   },
   {
    "duration": 17,
    "start_time": "2022-02-03T14:00:37.347Z"
   },
   {
    "duration": 265,
    "start_time": "2022-02-03T14:00:47.157Z"
   },
   {
    "duration": 15,
    "start_time": "2022-02-03T14:00:58.866Z"
   },
   {
    "duration": 21,
    "start_time": "2022-02-03T14:01:26.372Z"
   },
   {
    "duration": 16,
    "start_time": "2022-02-03T14:01:48.121Z"
   },
   {
    "duration": 18,
    "start_time": "2022-02-03T14:01:58.617Z"
   },
   {
    "duration": 16,
    "start_time": "2022-02-03T14:02:05.136Z"
   },
   {
    "duration": 18,
    "start_time": "2022-02-03T14:02:50.707Z"
   },
   {
    "duration": 17,
    "start_time": "2022-02-03T14:04:45.131Z"
   },
   {
    "duration": 422,
    "start_time": "2022-02-03T14:05:20.080Z"
   },
   {
    "duration": 455,
    "start_time": "2022-02-03T14:07:01.280Z"
   },
   {
    "duration": 400,
    "start_time": "2022-02-03T14:07:56.777Z"
   },
   {
    "duration": 403,
    "start_time": "2022-02-03T14:08:02.033Z"
   },
   {
    "duration": 417,
    "start_time": "2022-02-03T14:08:28.758Z"
   },
   {
    "duration": 475,
    "start_time": "2022-02-03T14:13:42.323Z"
   },
   {
    "duration": 18,
    "start_time": "2022-02-03T14:14:28.803Z"
   },
   {
    "duration": 19,
    "start_time": "2022-02-03T14:14:38.271Z"
   },
   {
    "duration": 50900,
    "start_time": "2022-02-03T14:15:07.805Z"
   },
   {
    "duration": 1196,
    "start_time": "2022-02-03T14:16:44.536Z"
   },
   {
    "duration": 3015,
    "start_time": "2022-02-03T14:21:17.043Z"
   },
   {
    "duration": 3,
    "start_time": "2022-02-03T14:21:26.730Z"
   },
   {
    "duration": 66,
    "start_time": "2022-02-03T14:21:26.735Z"
   },
   {
    "duration": 12,
    "start_time": "2022-02-03T14:21:26.804Z"
   },
   {
    "duration": 22,
    "start_time": "2022-02-03T14:21:26.818Z"
   },
   {
    "duration": 1548,
    "start_time": "2022-02-03T14:21:26.841Z"
   },
   {
    "duration": 25,
    "start_time": "2022-02-03T14:21:28.391Z"
   },
   {
    "duration": 14,
    "start_time": "2022-02-03T14:21:28.418Z"
   },
   {
    "duration": 4,
    "start_time": "2022-02-03T14:21:37.117Z"
   },
   {
    "duration": 17,
    "start_time": "2022-02-03T14:36:48.290Z"
   },
   {
    "duration": 239792,
    "start_time": "2022-02-03T14:38:32.239Z"
   },
   {
    "duration": 15,
    "start_time": "2022-02-03T15:05:50.533Z"
   },
   {
    "duration": 8,
    "start_time": "2022-02-03T15:08:25.838Z"
   },
   {
    "duration": 6,
    "start_time": "2022-02-03T15:08:51.924Z"
   },
   {
    "duration": 6,
    "start_time": "2022-02-03T15:09:08.156Z"
   },
   {
    "duration": 6,
    "start_time": "2022-02-03T15:09:18.640Z"
   },
   {
    "duration": 6,
    "start_time": "2022-02-03T15:16:21.994Z"
   },
   {
    "duration": 72,
    "start_time": "2022-02-03T15:16:37.001Z"
   },
   {
    "duration": 6,
    "start_time": "2022-02-03T15:16:48.931Z"
   },
   {
    "duration": 2,
    "start_time": "2022-02-03T15:16:54.762Z"
   },
   {
    "duration": 61,
    "start_time": "2022-02-03T15:16:54.766Z"
   },
   {
    "duration": 11,
    "start_time": "2022-02-03T15:16:54.829Z"
   },
   {
    "duration": 17,
    "start_time": "2022-02-03T15:16:54.841Z"
   },
   {
    "duration": 1509,
    "start_time": "2022-02-03T15:16:54.860Z"
   },
   {
    "duration": 19,
    "start_time": "2022-02-03T15:16:56.371Z"
   },
   {
    "duration": 27,
    "start_time": "2022-02-03T15:16:56.392Z"
   },
   {
    "duration": 4,
    "start_time": "2022-02-03T15:16:56.421Z"
   },
   {
    "duration": 16,
    "start_time": "2022-02-03T15:16:56.426Z"
   },
   {
    "duration": 7,
    "start_time": "2022-02-03T15:16:59.546Z"
   },
   {
    "duration": 6,
    "start_time": "2022-02-03T15:18:23.094Z"
   },
   {
    "duration": 6,
    "start_time": "2022-02-03T15:18:44.359Z"
   },
   {
    "duration": 8,
    "start_time": "2022-02-03T15:18:54.922Z"
   },
   {
    "duration": 10,
    "start_time": "2022-02-03T15:19:04.717Z"
   },
   {
    "duration": 3,
    "start_time": "2022-02-03T15:19:12.949Z"
   },
   {
    "duration": 60,
    "start_time": "2022-02-03T15:19:12.954Z"
   },
   {
    "duration": 11,
    "start_time": "2022-02-03T15:19:13.016Z"
   },
   {
    "duration": 17,
    "start_time": "2022-02-03T15:19:13.028Z"
   },
   {
    "duration": 1629,
    "start_time": "2022-02-03T15:19:13.047Z"
   },
   {
    "duration": 17,
    "start_time": "2022-02-03T15:19:14.678Z"
   },
   {
    "duration": 20,
    "start_time": "2022-02-03T15:19:14.696Z"
   },
   {
    "duration": 4,
    "start_time": "2022-02-03T15:19:14.718Z"
   },
   {
    "duration": 17,
    "start_time": "2022-02-03T15:19:21.425Z"
   },
   {
    "duration": 15,
    "start_time": "2022-02-03T15:19:39.677Z"
   },
   {
    "duration": 8,
    "start_time": "2022-02-03T15:19:56.054Z"
   },
   {
    "duration": 6,
    "start_time": "2022-02-03T15:20:03.058Z"
   },
   {
    "duration": 7,
    "start_time": "2022-02-03T15:21:54.507Z"
   },
   {
    "duration": 9,
    "start_time": "2022-02-03T15:38:43.725Z"
   },
   {
    "duration": 3,
    "start_time": "2022-02-03T15:39:05.751Z"
   },
   {
    "duration": 67,
    "start_time": "2022-02-03T15:39:05.756Z"
   },
   {
    "duration": 11,
    "start_time": "2022-02-03T15:39:05.825Z"
   },
   {
    "duration": 19,
    "start_time": "2022-02-03T15:39:05.837Z"
   },
   {
    "duration": 1535,
    "start_time": "2022-02-03T15:39:05.858Z"
   },
   {
    "duration": 21,
    "start_time": "2022-02-03T15:39:07.394Z"
   },
   {
    "duration": 10,
    "start_time": "2022-02-03T15:39:07.417Z"
   },
   {
    "duration": 4,
    "start_time": "2022-02-03T15:39:07.430Z"
   },
   {
    "duration": 18,
    "start_time": "2022-02-03T15:39:11.812Z"
   },
   {
    "duration": 15,
    "start_time": "2022-02-03T15:53:41.697Z"
   },
   {
    "duration": 251,
    "start_time": "2022-02-03T15:54:26.424Z"
   },
   {
    "duration": 249,
    "start_time": "2022-02-03T15:55:12.855Z"
   },
   {
    "duration": 251,
    "start_time": "2022-02-03T15:55:35.848Z"
   },
   {
    "duration": 4,
    "start_time": "2022-02-03T15:58:27.211Z"
   },
   {
    "duration": 3,
    "start_time": "2022-02-03T15:58:35.832Z"
   },
   {
    "duration": 925,
    "start_time": "2022-02-03T15:58:41.737Z"
   },
   {
    "duration": 15,
    "start_time": "2022-02-03T15:59:50.756Z"
   },
   {
    "duration": 17,
    "start_time": "2022-02-03T16:00:04.011Z"
   },
   {
    "duration": 3,
    "start_time": "2022-02-03T16:00:18.905Z"
   },
   {
    "duration": 62,
    "start_time": "2022-02-03T16:00:18.909Z"
   },
   {
    "duration": 10,
    "start_time": "2022-02-03T16:00:18.973Z"
   },
   {
    "duration": 29,
    "start_time": "2022-02-03T16:00:18.985Z"
   },
   {
    "duration": 1515,
    "start_time": "2022-02-03T16:00:19.015Z"
   },
   {
    "duration": 16,
    "start_time": "2022-02-03T16:00:20.532Z"
   },
   {
    "duration": 13,
    "start_time": "2022-02-03T16:00:20.550Z"
   },
   {
    "duration": 6,
    "start_time": "2022-02-03T16:00:20.564Z"
   },
   {
    "duration": 17,
    "start_time": "2022-02-03T16:00:20.572Z"
   },
   {
    "duration": 8,
    "start_time": "2022-02-03T16:00:20.612Z"
   },
   {
    "duration": 16,
    "start_time": "2022-02-03T16:00:24.324Z"
   },
   {
    "duration": 1028,
    "start_time": "2022-02-03T16:00:38.569Z"
   },
   {
    "duration": 17,
    "start_time": "2022-02-03T16:01:06.139Z"
   },
   {
    "duration": 1023,
    "start_time": "2022-02-03T16:02:29.514Z"
   },
   {
    "duration": 1008,
    "start_time": "2022-02-03T16:02:38.548Z"
   },
   {
    "duration": 5,
    "start_time": "2022-02-03T16:03:55.602Z"
   },
   {
    "duration": 17,
    "start_time": "2022-02-03T16:04:08.003Z"
   },
   {
    "duration": 14,
    "start_time": "2022-02-03T16:07:01.709Z"
   },
   {
    "duration": 11,
    "start_time": "2022-02-03T16:08:47.415Z"
   },
   {
    "duration": 8,
    "start_time": "2022-02-03T16:11:58.846Z"
   },
   {
    "duration": 17,
    "start_time": "2022-02-03T16:14:36.781Z"
   },
   {
    "duration": 16,
    "start_time": "2022-02-03T16:14:51.824Z"
   },
   {
    "duration": 16,
    "start_time": "2022-02-03T16:15:56.087Z"
   },
   {
    "duration": 32,
    "start_time": "2022-02-03T16:17:47.273Z"
   },
   {
    "duration": 18,
    "start_time": "2022-02-03T16:18:44.548Z"
   },
   {
    "duration": 20,
    "start_time": "2022-02-03T16:19:11.254Z"
   },
   {
    "duration": 18,
    "start_time": "2022-02-03T16:19:26.018Z"
   },
   {
    "duration": 3,
    "start_time": "2022-02-03T16:19:37.953Z"
   },
   {
    "duration": 63,
    "start_time": "2022-02-03T16:19:37.958Z"
   },
   {
    "duration": 10,
    "start_time": "2022-02-03T16:19:38.023Z"
   },
   {
    "duration": 17,
    "start_time": "2022-02-03T16:19:38.035Z"
   },
   {
    "duration": 1531,
    "start_time": "2022-02-03T16:19:38.054Z"
   },
   {
    "duration": 27,
    "start_time": "2022-02-03T16:19:39.586Z"
   },
   {
    "duration": 10,
    "start_time": "2022-02-03T16:19:39.614Z"
   },
   {
    "duration": 14,
    "start_time": "2022-02-03T16:19:39.627Z"
   },
   {
    "duration": 20,
    "start_time": "2022-02-03T16:19:39.643Z"
   },
   {
    "duration": 7,
    "start_time": "2022-02-03T16:19:39.665Z"
   },
   {
    "duration": 10,
    "start_time": "2022-02-03T16:19:39.674Z"
   },
   {
    "duration": 35,
    "start_time": "2022-02-03T16:19:39.686Z"
   },
   {
    "duration": 16,
    "start_time": "2022-02-03T16:19:39.723Z"
   },
   {
    "duration": 17,
    "start_time": "2022-02-03T16:19:39.740Z"
   },
   {
    "duration": 12,
    "start_time": "2022-02-03T16:33:38.260Z"
   },
   {
    "duration": 11,
    "start_time": "2022-02-03T16:34:14.690Z"
   },
   {
    "duration": 12,
    "start_time": "2022-02-03T16:34:20.819Z"
   },
   {
    "duration": 10,
    "start_time": "2022-02-03T16:38:37.960Z"
   },
   {
    "duration": 9,
    "start_time": "2022-02-03T16:39:15.789Z"
   },
   {
    "duration": 12,
    "start_time": "2022-02-03T16:39:36.337Z"
   },
   {
    "duration": 4,
    "start_time": "2022-02-03T16:40:10.807Z"
   },
   {
    "duration": 5,
    "start_time": "2022-02-03T16:40:24.936Z"
   },
   {
    "duration": 11,
    "start_time": "2022-02-03T16:40:37.950Z"
   },
   {
    "duration": 2,
    "start_time": "2022-02-03T16:48:35.319Z"
   },
   {
    "duration": 9,
    "start_time": "2022-02-03T16:49:01.111Z"
   },
   {
    "duration": 9,
    "start_time": "2022-02-03T16:49:06.803Z"
   },
   {
    "duration": 9,
    "start_time": "2022-02-03T16:49:14.078Z"
   },
   {
    "duration": 11,
    "start_time": "2022-02-03T16:49:29.707Z"
   },
   {
    "duration": 3,
    "start_time": "2022-02-03T16:49:40.189Z"
   },
   {
    "duration": 58,
    "start_time": "2022-02-03T16:49:40.193Z"
   },
   {
    "duration": 10,
    "start_time": "2022-02-03T16:49:40.254Z"
   },
   {
    "duration": 17,
    "start_time": "2022-02-03T16:49:40.267Z"
   },
   {
    "duration": 1507,
    "start_time": "2022-02-03T16:49:40.286Z"
   },
   {
    "duration": 27,
    "start_time": "2022-02-03T16:49:41.795Z"
   },
   {
    "duration": 11,
    "start_time": "2022-02-03T16:49:41.824Z"
   },
   {
    "duration": 5,
    "start_time": "2022-02-03T16:49:41.837Z"
   },
   {
    "duration": 14,
    "start_time": "2022-02-03T16:49:41.845Z"
   },
   {
    "duration": 3,
    "start_time": "2022-02-03T16:49:41.861Z"
   },
   {
    "duration": 12,
    "start_time": "2022-02-03T16:49:45.009Z"
   },
   {
    "duration": 12,
    "start_time": "2022-02-03T16:49:58.444Z"
   },
   {
    "duration": 9,
    "start_time": "2022-02-03T16:50:00.780Z"
   },
   {
    "duration": 15,
    "start_time": "2022-02-03T16:50:55.514Z"
   },
   {
    "duration": 18,
    "start_time": "2022-02-03T16:51:13.180Z"
   },
   {
    "duration": 16,
    "start_time": "2022-02-03T16:55:10.245Z"
   },
   {
    "duration": 9,
    "start_time": "2022-02-03T16:55:19.121Z"
   },
   {
    "duration": 20,
    "start_time": "2022-02-03T16:55:26.343Z"
   },
   {
    "duration": 18,
    "start_time": "2022-02-03T16:56:02.127Z"
   },
   {
    "duration": 10,
    "start_time": "2022-02-03T16:56:13.140Z"
   },
   {
    "duration": 15,
    "start_time": "2022-02-03T16:57:48.217Z"
   },
   {
    "duration": 10,
    "start_time": "2022-02-03T16:57:51.064Z"
   },
   {
    "duration": 14,
    "start_time": "2022-02-03T16:58:00.728Z"
   },
   {
    "duration": 92,
    "start_time": "2022-02-03T16:58:07.454Z"
   },
   {
    "duration": 3,
    "start_time": "2022-02-03T16:58:18.574Z"
   },
   {
    "duration": 62,
    "start_time": "2022-02-03T16:58:18.579Z"
   },
   {
    "duration": 11,
    "start_time": "2022-02-03T16:58:18.643Z"
   },
   {
    "duration": 17,
    "start_time": "2022-02-03T16:58:18.655Z"
   },
   {
    "duration": 1527,
    "start_time": "2022-02-03T16:58:18.673Z"
   },
   {
    "duration": 20,
    "start_time": "2022-02-03T16:58:20.201Z"
   },
   {
    "duration": 10,
    "start_time": "2022-02-03T16:58:20.223Z"
   },
   {
    "duration": 14,
    "start_time": "2022-02-03T16:58:20.234Z"
   },
   {
    "duration": 15,
    "start_time": "2022-02-03T16:58:20.250Z"
   },
   {
    "duration": 17,
    "start_time": "2022-02-03T16:58:20.266Z"
   },
   {
    "duration": 29,
    "start_time": "2022-02-03T16:58:20.284Z"
   },
   {
    "duration": 14,
    "start_time": "2022-02-03T16:58:20.315Z"
   },
   {
    "duration": 15,
    "start_time": "2022-02-03T16:58:20.330Z"
   },
   {
    "duration": 267,
    "start_time": "2022-02-04T09:13:44.915Z"
   },
   {
    "duration": 1158,
    "start_time": "2022-02-04T09:14:37.703Z"
   },
   {
    "duration": 62,
    "start_time": "2022-02-04T09:14:38.863Z"
   },
   {
    "duration": 11,
    "start_time": "2022-02-04T09:14:38.927Z"
   },
   {
    "duration": 16,
    "start_time": "2022-02-04T09:14:38.940Z"
   },
   {
    "duration": 1519,
    "start_time": "2022-02-04T09:14:38.957Z"
   },
   {
    "duration": 17,
    "start_time": "2022-02-04T09:14:40.477Z"
   },
   {
    "duration": 26,
    "start_time": "2022-02-04T09:14:40.495Z"
   },
   {
    "duration": 11,
    "start_time": "2022-02-04T09:14:40.523Z"
   },
   {
    "duration": 25,
    "start_time": "2022-02-04T09:14:40.536Z"
   },
   {
    "duration": 13,
    "start_time": "2022-02-04T09:14:44.902Z"
   },
   {
    "duration": 11,
    "start_time": "2022-02-04T09:14:48.911Z"
   },
   {
    "duration": 10,
    "start_time": "2022-02-04T09:17:06.306Z"
   },
   {
    "duration": 5,
    "start_time": "2022-02-04T09:18:22.866Z"
   },
   {
    "duration": 13,
    "start_time": "2022-02-04T09:27:59.543Z"
   },
   {
    "duration": 12,
    "start_time": "2022-02-04T09:28:24.336Z"
   },
   {
    "duration": 11,
    "start_time": "2022-02-04T09:28:42.270Z"
   },
   {
    "duration": 13,
    "start_time": "2022-02-04T09:29:41.923Z"
   },
   {
    "duration": 2,
    "start_time": "2022-02-04T09:31:42.894Z"
   },
   {
    "duration": 9,
    "start_time": "2022-02-04T09:31:48.203Z"
   },
   {
    "duration": 3,
    "start_time": "2022-02-04T09:31:54.679Z"
   },
   {
    "duration": 68,
    "start_time": "2022-02-04T09:31:54.684Z"
   },
   {
    "duration": 11,
    "start_time": "2022-02-04T09:31:54.754Z"
   },
   {
    "duration": 19,
    "start_time": "2022-02-04T09:31:54.766Z"
   },
   {
    "duration": 1592,
    "start_time": "2022-02-04T09:31:54.786Z"
   },
   {
    "duration": 17,
    "start_time": "2022-02-04T09:31:56.379Z"
   },
   {
    "duration": 23,
    "start_time": "2022-02-04T09:31:56.397Z"
   },
   {
    "duration": 7,
    "start_time": "2022-02-04T09:31:56.422Z"
   },
   {
    "duration": 18,
    "start_time": "2022-02-04T09:31:56.430Z"
   },
   {
    "duration": 13,
    "start_time": "2022-02-04T09:39:36.877Z"
   },
   {
    "duration": 24,
    "start_time": "2022-02-04T09:40:06.254Z"
   },
   {
    "duration": 17,
    "start_time": "2022-02-04T09:40:36.431Z"
   },
   {
    "duration": 18,
    "start_time": "2022-02-04T09:43:41.406Z"
   },
   {
    "duration": 33,
    "start_time": "2022-02-04T09:44:01.022Z"
   },
   {
    "duration": 25,
    "start_time": "2022-02-04T09:44:30.269Z"
   },
   {
    "duration": 32,
    "start_time": "2022-02-04T09:45:23.370Z"
   },
   {
    "duration": 17,
    "start_time": "2022-02-04T09:47:50.490Z"
   },
   {
    "duration": 32,
    "start_time": "2022-02-04T09:49:12.511Z"
   },
   {
    "duration": 3,
    "start_time": "2022-02-04T09:49:23.191Z"
   },
   {
    "duration": 70,
    "start_time": "2022-02-04T09:49:23.195Z"
   },
   {
    "duration": 10,
    "start_time": "2022-02-04T09:49:23.267Z"
   },
   {
    "duration": 20,
    "start_time": "2022-02-04T09:49:23.279Z"
   },
   {
    "duration": 1535,
    "start_time": "2022-02-04T09:49:23.301Z"
   },
   {
    "duration": 20,
    "start_time": "2022-02-04T09:49:24.838Z"
   },
   {
    "duration": 14,
    "start_time": "2022-02-04T09:49:24.860Z"
   },
   {
    "duration": 8,
    "start_time": "2022-02-04T09:49:24.876Z"
   },
   {
    "duration": 34,
    "start_time": "2022-02-04T09:49:27.607Z"
   },
   {
    "duration": 30,
    "start_time": "2022-02-04T09:50:11.446Z"
   },
   {
    "duration": 33,
    "start_time": "2022-02-04T09:50:52.142Z"
   },
   {
    "duration": 16,
    "start_time": "2022-02-04T09:52:33.155Z"
   },
   {
    "duration": 41,
    "start_time": "2022-02-04T09:54:30.009Z"
   },
   {
    "duration": 34,
    "start_time": "2022-02-04T09:54:42.315Z"
   },
   {
    "duration": 4,
    "start_time": "2022-02-04T09:55:16.274Z"
   },
   {
    "duration": 90,
    "start_time": "2022-02-04T09:55:16.280Z"
   },
   {
    "duration": 13,
    "start_time": "2022-02-04T09:55:16.373Z"
   },
   {
    "duration": 41,
    "start_time": "2022-02-04T09:55:16.388Z"
   },
   {
    "duration": 1619,
    "start_time": "2022-02-04T09:55:16.431Z"
   },
   {
    "duration": 19,
    "start_time": "2022-02-04T09:55:18.053Z"
   },
   {
    "duration": 35,
    "start_time": "2022-02-04T09:55:18.075Z"
   },
   {
    "duration": 33,
    "start_time": "2022-02-04T09:55:18.112Z"
   },
   {
    "duration": 47,
    "start_time": "2022-02-04T09:55:18.148Z"
   },
   {
    "duration": 36,
    "start_time": "2022-02-04T09:55:18.197Z"
   },
   {
    "duration": 22,
    "start_time": "2022-02-04T09:55:18.235Z"
   },
   {
    "duration": 37,
    "start_time": "2022-02-04T09:55:18.259Z"
   },
   {
    "duration": 52,
    "start_time": "2022-02-04T09:55:18.297Z"
   },
   {
    "duration": 20,
    "start_time": "2022-02-04T09:55:18.350Z"
   },
   {
    "duration": 4,
    "start_time": "2022-02-04T10:20:58.898Z"
   },
   {
    "duration": 5,
    "start_time": "2022-02-04T10:21:12.150Z"
   },
   {
    "duration": 4,
    "start_time": "2022-02-04T10:21:26.267Z"
   },
   {
    "duration": 7,
    "start_time": "2022-02-04T10:22:42.540Z"
   },
   {
    "duration": 3,
    "start_time": "2022-02-04T10:22:55.123Z"
   },
   {
    "duration": 7,
    "start_time": "2022-02-04T10:23:06.402Z"
   },
   {
    "duration": 7,
    "start_time": "2022-02-04T10:24:15.455Z"
   },
   {
    "duration": 286,
    "start_time": "2022-02-04T10:24:52.413Z"
   },
   {
    "duration": 229,
    "start_time": "2022-02-04T10:31:36.864Z"
   },
   {
    "duration": 217,
    "start_time": "2022-02-04T10:31:54.256Z"
   },
   {
    "duration": 16,
    "start_time": "2022-02-04T10:32:00.334Z"
   },
   {
    "duration": 20,
    "start_time": "2022-02-04T10:34:41.918Z"
   },
   {
    "duration": 17,
    "start_time": "2022-02-04T10:34:53.603Z"
   },
   {
    "duration": 28,
    "start_time": "2022-02-04T10:35:39.938Z"
   },
   {
    "duration": 222,
    "start_time": "2022-02-04T10:36:22.222Z"
   },
   {
    "duration": 610,
    "start_time": "2022-02-04T10:36:32.829Z"
   },
   {
    "duration": 5269,
    "start_time": "2022-02-04T10:37:38.017Z"
   },
   {
    "duration": 6,
    "start_time": "2022-02-04T10:37:52.607Z"
   },
   {
    "duration": 6294,
    "start_time": "2022-02-04T10:41:23.144Z"
   },
   {
    "duration": 5,
    "start_time": "2022-02-04T10:42:12.348Z"
   },
   {
    "duration": 10,
    "start_time": "2022-02-04T10:42:45.036Z"
   },
   {
    "duration": 11,
    "start_time": "2022-02-04T10:43:04.499Z"
   },
   {
    "duration": 11,
    "start_time": "2022-02-04T10:45:00.499Z"
   },
   {
    "duration": 215,
    "start_time": "2022-02-04T10:47:54.831Z"
   },
   {
    "duration": 16,
    "start_time": "2022-02-04T10:48:04.779Z"
   },
   {
    "duration": 234,
    "start_time": "2022-02-04T10:49:09.793Z"
   },
   {
    "duration": 296,
    "start_time": "2022-02-04T10:49:17.503Z"
   },
   {
    "duration": 72,
    "start_time": "2022-02-04T10:49:27.470Z"
   },
   {
    "duration": 81,
    "start_time": "2022-02-04T10:49:59.930Z"
   },
   {
    "duration": 88,
    "start_time": "2022-02-04T10:50:08.607Z"
   },
   {
    "duration": 17,
    "start_time": "2022-02-04T10:50:16.501Z"
   },
   {
    "duration": 18,
    "start_time": "2022-02-04T10:50:36.006Z"
   },
   {
    "duration": 22,
    "start_time": "2022-02-04T10:50:56.268Z"
   },
   {
    "duration": 260,
    "start_time": "2022-02-04T10:51:07.148Z"
   },
   {
    "duration": 78,
    "start_time": "2022-02-04T10:51:16.013Z"
   },
   {
    "duration": 68,
    "start_time": "2022-02-04T10:51:28.327Z"
   },
   {
    "duration": 73,
    "start_time": "2022-02-04T10:51:30.968Z"
   },
   {
    "duration": 18,
    "start_time": "2022-02-04T10:51:41.936Z"
   },
   {
    "duration": 18,
    "start_time": "2022-02-04T10:51:51.082Z"
   },
   {
    "duration": 2,
    "start_time": "2022-02-04T10:57:44.788Z"
   },
   {
    "duration": 4,
    "start_time": "2022-02-04T10:58:02.769Z"
   },
   {
    "duration": 18,
    "start_time": "2022-02-04T10:59:35.785Z"
   },
   {
    "duration": 5,
    "start_time": "2022-02-04T11:00:54.917Z"
   },
   {
    "duration": 215,
    "start_time": "2022-02-04T11:01:12.399Z"
   },
   {
    "duration": 3,
    "start_time": "2022-02-04T11:01:23.902Z"
   },
   {
    "duration": 68,
    "start_time": "2022-02-04T11:01:23.907Z"
   },
   {
    "duration": 12,
    "start_time": "2022-02-04T11:01:23.978Z"
   },
   {
    "duration": 26,
    "start_time": "2022-02-04T11:01:23.992Z"
   },
   {
    "duration": 1597,
    "start_time": "2022-02-04T11:01:24.020Z"
   },
   {
    "duration": 19,
    "start_time": "2022-02-04T11:01:25.618Z"
   },
   {
    "duration": 17,
    "start_time": "2022-02-04T11:01:25.638Z"
   },
   {
    "duration": 7,
    "start_time": "2022-02-04T11:01:25.656Z"
   },
   {
    "duration": 16,
    "start_time": "2022-02-04T11:01:25.666Z"
   },
   {
    "duration": 12,
    "start_time": "2022-02-04T11:01:25.684Z"
   },
   {
    "duration": 11,
    "start_time": "2022-02-04T11:01:25.719Z"
   },
   {
    "duration": 17,
    "start_time": "2022-02-04T11:01:25.732Z"
   },
   {
    "duration": 31,
    "start_time": "2022-02-04T11:01:25.750Z"
   },
   {
    "duration": 45,
    "start_time": "2022-02-04T11:01:25.783Z"
   },
   {
    "duration": 18,
    "start_time": "2022-02-04T11:01:25.829Z"
   },
   {
    "duration": 6,
    "start_time": "2022-02-04T11:01:28.101Z"
   },
   {
    "duration": 257,
    "start_time": "2022-02-04T11:09:52.415Z"
   },
   {
    "duration": 3,
    "start_time": "2022-02-04T11:09:59.262Z"
   },
   {
    "duration": 70,
    "start_time": "2022-02-04T11:09:59.268Z"
   },
   {
    "duration": 11,
    "start_time": "2022-02-04T11:09:59.340Z"
   },
   {
    "duration": 26,
    "start_time": "2022-02-04T11:09:59.353Z"
   },
   {
    "duration": 1756,
    "start_time": "2022-02-04T11:09:59.381Z"
   },
   {
    "duration": 18,
    "start_time": "2022-02-04T11:10:01.139Z"
   },
   {
    "duration": 18,
    "start_time": "2022-02-04T11:10:01.160Z"
   },
   {
    "duration": 12,
    "start_time": "2022-02-04T11:10:01.180Z"
   },
   {
    "duration": 31,
    "start_time": "2022-02-04T11:10:01.194Z"
   },
   {
    "duration": 16,
    "start_time": "2022-02-04T11:10:01.227Z"
   },
   {
    "duration": 15,
    "start_time": "2022-02-04T11:10:01.245Z"
   },
   {
    "duration": 20,
    "start_time": "2022-02-04T11:10:01.262Z"
   },
   {
    "duration": 49,
    "start_time": "2022-02-04T11:10:01.284Z"
   },
   {
    "duration": 21,
    "start_time": "2022-02-04T11:10:01.335Z"
   },
   {
    "duration": 24,
    "start_time": "2022-02-04T11:10:01.357Z"
   },
   {
    "duration": 6,
    "start_time": "2022-02-04T11:10:03.921Z"
   },
   {
    "duration": 11,
    "start_time": "2022-02-04T11:10:25.051Z"
   },
   {
    "duration": 11,
    "start_time": "2022-02-04T11:10:35.429Z"
   },
   {
    "duration": 281,
    "start_time": "2022-02-04T12:07:13.422Z"
   },
   {
    "duration": 4,
    "start_time": "2022-02-04T12:07:19.306Z"
   },
   {
    "duration": 505,
    "start_time": "2022-02-04T12:07:21.964Z"
   },
   {
    "duration": 5,
    "start_time": "2022-02-04T12:07:39.549Z"
   },
   {
    "duration": 465,
    "start_time": "2022-02-04T12:07:41.947Z"
   },
   {
    "duration": 238,
    "start_time": "2022-02-04T12:07:53.064Z"
   },
   {
    "duration": 243,
    "start_time": "2022-02-04T12:13:02.795Z"
   },
   {
    "duration": 7,
    "start_time": "2022-02-04T14:11:48.601Z"
   },
   {
    "duration": 205,
    "start_time": "2022-02-04T14:12:11.982Z"
   },
   {
    "duration": 6,
    "start_time": "2022-02-04T14:12:18.645Z"
   },
   {
    "duration": 8,
    "start_time": "2022-02-04T14:12:33.261Z"
   },
   {
    "duration": 6,
    "start_time": "2022-02-04T14:15:55.307Z"
   },
   {
    "duration": 3,
    "start_time": "2022-02-04T14:38:34.302Z"
   },
   {
    "duration": 250,
    "start_time": "2022-02-04T14:40:23.663Z"
   },
   {
    "duration": 229,
    "start_time": "2022-02-04T14:40:49.014Z"
   },
   {
    "duration": 236,
    "start_time": "2022-02-04T14:41:08.594Z"
   },
   {
    "duration": 5,
    "start_time": "2022-02-04T14:42:14.183Z"
   },
   {
    "duration": 230,
    "start_time": "2022-02-04T14:42:17.109Z"
   },
   {
    "duration": 3,
    "start_time": "2022-02-04T14:42:26.819Z"
   },
   {
    "duration": 65,
    "start_time": "2022-02-04T14:42:26.824Z"
   },
   {
    "duration": 12,
    "start_time": "2022-02-04T14:42:26.891Z"
   },
   {
    "duration": 29,
    "start_time": "2022-02-04T14:42:26.905Z"
   },
   {
    "duration": 1489,
    "start_time": "2022-02-04T14:42:26.935Z"
   },
   {
    "duration": 16,
    "start_time": "2022-02-04T14:42:28.425Z"
   },
   {
    "duration": 11,
    "start_time": "2022-02-04T14:42:28.443Z"
   },
   {
    "duration": 4,
    "start_time": "2022-02-04T14:42:28.457Z"
   },
   {
    "duration": 17,
    "start_time": "2022-02-04T14:42:28.463Z"
   },
   {
    "duration": 43,
    "start_time": "2022-02-04T14:42:28.482Z"
   },
   {
    "duration": 11,
    "start_time": "2022-02-04T14:42:28.527Z"
   },
   {
    "duration": 13,
    "start_time": "2022-02-04T14:42:28.540Z"
   },
   {
    "duration": 31,
    "start_time": "2022-02-04T14:42:28.555Z"
   },
   {
    "duration": 48,
    "start_time": "2022-02-04T14:42:28.587Z"
   },
   {
    "duration": 16,
    "start_time": "2022-02-04T14:42:28.636Z"
   },
   {
    "duration": 5,
    "start_time": "2022-02-04T14:42:28.654Z"
   },
   {
    "duration": 13,
    "start_time": "2022-02-04T14:42:28.660Z"
   },
   {
    "duration": 4,
    "start_time": "2022-02-04T14:42:28.675Z"
   },
   {
    "duration": 263,
    "start_time": "2022-02-04T14:42:28.681Z"
   },
   {
    "duration": 6,
    "start_time": "2022-02-04T14:42:28.945Z"
   },
   {
    "duration": 7,
    "start_time": "2022-02-04T14:42:28.952Z"
   },
   {
    "duration": 242,
    "start_time": "2022-02-04T14:42:32.786Z"
   },
   {
    "duration": 249,
    "start_time": "2022-02-04T14:42:39.078Z"
   },
   {
    "duration": 504,
    "start_time": "2022-02-04T14:42:46.959Z"
   },
   {
    "duration": 202,
    "start_time": "2022-02-04T14:43:09.510Z"
   },
   {
    "duration": 8,
    "start_time": "2022-02-04T14:43:28.596Z"
   },
   {
    "duration": 11,
    "start_time": "2022-02-04T14:43:33.378Z"
   },
   {
    "duration": 4,
    "start_time": "2022-02-04T14:44:00.914Z"
   },
   {
    "duration": 11,
    "start_time": "2022-02-04T14:44:03.220Z"
   },
   {
    "duration": 3,
    "start_time": "2022-02-04T14:44:10.454Z"
   },
   {
    "duration": 65,
    "start_time": "2022-02-04T14:44:10.459Z"
   },
   {
    "duration": 11,
    "start_time": "2022-02-04T14:44:10.527Z"
   },
   {
    "duration": 19,
    "start_time": "2022-02-04T14:44:10.540Z"
   },
   {
    "duration": 1619,
    "start_time": "2022-02-04T14:44:10.561Z"
   },
   {
    "duration": 18,
    "start_time": "2022-02-04T14:44:12.182Z"
   },
   {
    "duration": 23,
    "start_time": "2022-02-04T14:44:12.201Z"
   },
   {
    "duration": 5,
    "start_time": "2022-02-04T14:44:12.226Z"
   },
   {
    "duration": 14,
    "start_time": "2022-02-04T14:44:12.233Z"
   },
   {
    "duration": 12,
    "start_time": "2022-02-04T14:44:12.249Z"
   },
   {
    "duration": 10,
    "start_time": "2022-02-04T14:44:12.262Z"
   },
   {
    "duration": 47,
    "start_time": "2022-02-04T14:44:12.273Z"
   },
   {
    "duration": 29,
    "start_time": "2022-02-04T14:44:12.322Z"
   },
   {
    "duration": 18,
    "start_time": "2022-02-04T14:44:12.353Z"
   },
   {
    "duration": 16,
    "start_time": "2022-02-04T14:44:12.372Z"
   },
   {
    "duration": 30,
    "start_time": "2022-02-04T14:44:12.390Z"
   },
   {
    "duration": 11,
    "start_time": "2022-02-04T14:44:12.422Z"
   },
   {
    "duration": 5,
    "start_time": "2022-02-04T14:44:12.434Z"
   },
   {
    "duration": 253,
    "start_time": "2022-02-04T14:44:12.441Z"
   },
   {
    "duration": 5,
    "start_time": "2022-02-04T14:44:12.696Z"
   },
   {
    "duration": 3,
    "start_time": "2022-02-04T14:44:12.703Z"
   },
   {
    "duration": 11,
    "start_time": "2022-02-04T14:44:15.372Z"
   },
   {
    "duration": 4,
    "start_time": "2022-02-04T14:47:05.747Z"
   },
   {
    "duration": 242,
    "start_time": "2022-02-04T14:47:08.134Z"
   },
   {
    "duration": 500,
    "start_time": "2022-02-04T14:47:37.496Z"
   },
   {
    "duration": 242,
    "start_time": "2022-02-04T14:47:50.715Z"
   },
   {
    "duration": 237,
    "start_time": "2022-02-04T14:48:30.463Z"
   },
   {
    "duration": 3,
    "start_time": "2022-02-04T14:49:27.331Z"
   },
   {
    "duration": 231,
    "start_time": "2022-02-04T14:49:43.351Z"
   },
   {
    "duration": 4,
    "start_time": "2022-02-04T14:51:56.347Z"
   },
   {
    "duration": 241,
    "start_time": "2022-02-04T14:52:00.028Z"
   },
   {
    "duration": 2,
    "start_time": "2022-02-04T14:52:39.198Z"
   },
   {
    "duration": 66,
    "start_time": "2022-02-04T14:52:39.202Z"
   },
   {
    "duration": 10,
    "start_time": "2022-02-04T14:52:39.270Z"
   },
   {
    "duration": 18,
    "start_time": "2022-02-04T14:52:39.282Z"
   },
   {
    "duration": 1653,
    "start_time": "2022-02-04T14:52:39.302Z"
   },
   {
    "duration": 18,
    "start_time": "2022-02-04T14:52:40.957Z"
   },
   {
    "duration": 15,
    "start_time": "2022-02-04T14:52:40.976Z"
   },
   {
    "duration": 25,
    "start_time": "2022-02-04T14:52:40.993Z"
   },
   {
    "duration": 21,
    "start_time": "2022-02-04T14:52:41.022Z"
   },
   {
    "duration": 13,
    "start_time": "2022-02-04T14:52:41.046Z"
   },
   {
    "duration": 10,
    "start_time": "2022-02-04T14:52:41.061Z"
   },
   {
    "duration": 15,
    "start_time": "2022-02-04T14:52:41.073Z"
   },
   {
    "duration": 35,
    "start_time": "2022-02-04T14:52:41.118Z"
   },
   {
    "duration": 22,
    "start_time": "2022-02-04T14:52:41.155Z"
   },
   {
    "duration": 39,
    "start_time": "2022-02-04T14:52:41.179Z"
   },
   {
    "duration": 5,
    "start_time": "2022-02-04T14:52:41.221Z"
   },
   {
    "duration": 16,
    "start_time": "2022-02-04T14:52:41.228Z"
   },
   {
    "duration": 5,
    "start_time": "2022-02-04T14:52:41.246Z"
   },
   {
    "duration": 291,
    "start_time": "2022-02-04T14:52:41.253Z"
   },
   {
    "duration": 7,
    "start_time": "2022-02-04T14:52:41.546Z"
   },
   {
    "duration": 5,
    "start_time": "2022-02-04T14:52:41.555Z"
   },
   {
    "duration": 264,
    "start_time": "2022-02-04T14:52:41.562Z"
   },
   {
    "duration": 3,
    "start_time": "2022-02-04T14:55:50.171Z"
   },
   {
    "duration": 229,
    "start_time": "2022-02-04T14:55:52.084Z"
   },
   {
    "duration": 4,
    "start_time": "2022-02-04T14:56:08.010Z"
   },
   {
    "duration": 234,
    "start_time": "2022-02-04T14:56:09.053Z"
   },
   {
    "duration": 3,
    "start_time": "2022-02-04T14:56:31.879Z"
   },
   {
    "duration": 240,
    "start_time": "2022-02-04T14:56:32.805Z"
   },
   {
    "duration": 4,
    "start_time": "2022-02-04T14:57:05.118Z"
   },
   {
    "duration": 225,
    "start_time": "2022-02-04T14:57:06.226Z"
   },
   {
    "duration": 4,
    "start_time": "2022-02-04T14:57:31.366Z"
   },
   {
    "duration": 236,
    "start_time": "2022-02-04T14:57:32.910Z"
   },
   {
    "duration": 4,
    "start_time": "2022-02-04T14:58:33.620Z"
   },
   {
    "duration": 243,
    "start_time": "2022-02-04T14:58:34.685Z"
   },
   {
    "duration": 4,
    "start_time": "2022-02-04T14:59:30.213Z"
   },
   {
    "duration": 230,
    "start_time": "2022-02-04T14:59:31.517Z"
   },
   {
    "duration": 3,
    "start_time": "2022-02-04T14:59:56.392Z"
   },
   {
    "duration": 69,
    "start_time": "2022-02-04T14:59:56.397Z"
   },
   {
    "duration": 11,
    "start_time": "2022-02-04T14:59:56.468Z"
   },
   {
    "duration": 18,
    "start_time": "2022-02-04T14:59:56.481Z"
   },
   {
    "duration": 1482,
    "start_time": "2022-02-04T14:59:56.500Z"
   },
   {
    "duration": 17,
    "start_time": "2022-02-04T14:59:57.984Z"
   },
   {
    "duration": 11,
    "start_time": "2022-02-04T14:59:58.018Z"
   },
   {
    "duration": 6,
    "start_time": "2022-02-04T14:59:58.032Z"
   },
   {
    "duration": 18,
    "start_time": "2022-02-04T14:59:58.039Z"
   },
   {
    "duration": 12,
    "start_time": "2022-02-04T14:59:58.058Z"
   },
   {
    "duration": 9,
    "start_time": "2022-02-04T14:59:58.072Z"
   },
   {
    "duration": 42,
    "start_time": "2022-02-04T14:59:58.082Z"
   },
   {
    "duration": 30,
    "start_time": "2022-02-04T14:59:58.125Z"
   },
   {
    "duration": 18,
    "start_time": "2022-02-04T14:59:58.157Z"
   },
   {
    "duration": 16,
    "start_time": "2022-02-04T14:59:58.177Z"
   },
   {
    "duration": 5,
    "start_time": "2022-02-04T14:59:58.218Z"
   },
   {
    "duration": 12,
    "start_time": "2022-02-04T14:59:58.225Z"
   },
   {
    "duration": 5,
    "start_time": "2022-02-04T14:59:58.239Z"
   },
   {
    "duration": 253,
    "start_time": "2022-02-04T14:59:58.246Z"
   },
   {
    "duration": 247,
    "start_time": "2022-02-04T15:06:07.407Z"
   },
   {
    "duration": 234,
    "start_time": "2022-02-04T15:06:11.983Z"
   },
   {
    "duration": 303,
    "start_time": "2022-02-07T07:49:19.743Z"
   },
   {
    "duration": 1028,
    "start_time": "2022-02-07T07:49:39.478Z"
   },
   {
    "duration": 57,
    "start_time": "2022-02-07T07:49:40.508Z"
   },
   {
    "duration": 9,
    "start_time": "2022-02-07T07:49:40.567Z"
   },
   {
    "duration": 14,
    "start_time": "2022-02-07T07:49:40.578Z"
   },
   {
    "duration": 634,
    "start_time": "2022-02-07T07:49:40.594Z"
   },
   {
    "duration": 15,
    "start_time": "2022-02-07T07:49:41.230Z"
   },
   {
    "duration": 9,
    "start_time": "2022-02-07T07:49:41.246Z"
   },
   {
    "duration": 4,
    "start_time": "2022-02-07T07:49:41.257Z"
   },
   {
    "duration": 18,
    "start_time": "2022-02-07T07:49:41.262Z"
   },
   {
    "duration": 10,
    "start_time": "2022-02-07T07:49:41.282Z"
   },
   {
    "duration": 35,
    "start_time": "2022-02-07T07:49:41.293Z"
   },
   {
    "duration": 12,
    "start_time": "2022-02-07T07:49:41.329Z"
   },
   {
    "duration": 26,
    "start_time": "2022-02-07T07:49:41.343Z"
   },
   {
    "duration": 15,
    "start_time": "2022-02-07T07:49:41.370Z"
   },
   {
    "duration": 14,
    "start_time": "2022-02-07T07:49:41.387Z"
   },
   {
    "duration": 27,
    "start_time": "2022-02-07T07:49:41.403Z"
   },
   {
    "duration": 11,
    "start_time": "2022-02-07T07:49:41.432Z"
   },
   {
    "duration": 4,
    "start_time": "2022-02-07T07:49:41.445Z"
   },
   {
    "duration": 222,
    "start_time": "2022-02-07T07:49:41.451Z"
   },
   {
    "duration": 5,
    "start_time": "2022-02-07T07:49:41.674Z"
   },
   {
    "duration": 4,
    "start_time": "2022-02-07T07:49:41.680Z"
   },
   {
    "duration": 215,
    "start_time": "2022-02-07T07:49:41.685Z"
   },
   {
    "duration": 653,
    "start_time": "2022-02-07T07:50:15.755Z"
   },
   {
    "duration": 621,
    "start_time": "2022-02-07T07:51:52.836Z"
   },
   {
    "duration": 47321,
    "start_time": "2022-02-07T07:53:07.411Z"
   },
   {
    "duration": 691,
    "start_time": "2022-02-07T07:54:17.115Z"
   },
   {
    "duration": 1129,
    "start_time": "2022-02-07T07:56:25.775Z"
   },
   {
    "duration": 1336,
    "start_time": "2022-02-07T07:56:42.742Z"
   },
   {
    "duration": 1460,
    "start_time": "2022-02-07T07:59:05.787Z"
   },
   {
    "duration": 24,
    "start_time": "2022-02-07T08:12:44.427Z"
   },
   {
    "duration": 6,
    "start_time": "2022-02-07T08:16:21.973Z"
   },
   {
    "duration": 5,
    "start_time": "2022-02-07T08:18:28.661Z"
   },
   {
    "duration": 6853,
    "start_time": "2022-02-07T08:25:24.413Z"
   },
   {
    "duration": 7294,
    "start_time": "2022-02-07T08:25:46.491Z"
   },
   {
    "duration": 6857,
    "start_time": "2022-02-07T08:26:12.065Z"
   },
   {
    "duration": 7084,
    "start_time": "2022-02-07T08:34:02.423Z"
   },
   {
    "duration": 3,
    "start_time": "2022-02-07T08:34:19.717Z"
   },
   {
    "duration": 59,
    "start_time": "2022-02-07T08:34:19.722Z"
   },
   {
    "duration": 13,
    "start_time": "2022-02-07T08:34:19.783Z"
   },
   {
    "duration": 19,
    "start_time": "2022-02-07T08:34:19.799Z"
   },
   {
    "duration": 1358,
    "start_time": "2022-02-07T08:34:19.820Z"
   },
   {
    "duration": 15,
    "start_time": "2022-02-07T08:34:21.179Z"
   },
   {
    "duration": 9,
    "start_time": "2022-02-07T08:34:21.195Z"
   },
   {
    "duration": 7829,
    "start_time": "2022-02-07T08:34:49.606Z"
   },
   {
    "duration": 22995,
    "start_time": "2022-02-07T08:35:01.580Z"
   },
   {
    "duration": 3,
    "start_time": "2022-02-07T08:36:30.961Z"
   },
   {
    "duration": 7,
    "start_time": "2022-02-07T08:37:05.239Z"
   },
   {
    "duration": 6,
    "start_time": "2022-02-07T08:37:12.608Z"
   },
   {
    "duration": 5,
    "start_time": "2022-02-07T08:37:18.133Z"
   },
   {
    "duration": 293,
    "start_time": "2022-02-07T08:38:59.919Z"
   },
   {
    "duration": 6,
    "start_time": "2022-02-07T08:39:29.299Z"
   },
   {
    "duration": 11,
    "start_time": "2022-02-07T08:40:38.633Z"
   },
   {
    "duration": 6,
    "start_time": "2022-02-07T08:41:28.803Z"
   },
   {
    "duration": 5,
    "start_time": "2022-02-07T08:42:00.480Z"
   },
   {
    "duration": 6,
    "start_time": "2022-02-07T08:42:44.681Z"
   },
   {
    "duration": 5,
    "start_time": "2022-02-07T08:43:20.813Z"
   },
   {
    "duration": 6,
    "start_time": "2022-02-07T08:43:38.747Z"
   },
   {
    "duration": 7,
    "start_time": "2022-02-07T08:43:44.998Z"
   },
   {
    "duration": 6,
    "start_time": "2022-02-07T08:44:05.226Z"
   },
   {
    "duration": 6,
    "start_time": "2022-02-07T08:44:17.999Z"
   },
   {
    "duration": 297,
    "start_time": "2022-02-07T08:46:38.859Z"
   },
   {
    "duration": 4,
    "start_time": "2022-02-07T08:47:02.812Z"
   },
   {
    "duration": 279,
    "start_time": "2022-02-07T08:59:00.306Z"
   },
   {
    "duration": 94,
    "start_time": "2022-02-07T08:59:25.438Z"
   },
   {
    "duration": 98,
    "start_time": "2022-02-07T08:59:36.763Z"
   },
   {
    "duration": 96,
    "start_time": "2022-02-07T08:59:50.680Z"
   },
   {
    "duration": 20,
    "start_time": "2022-02-07T09:04:10.547Z"
   },
   {
    "duration": 20,
    "start_time": "2022-02-07T09:04:25.971Z"
   },
   {
    "duration": 6,
    "start_time": "2022-02-07T09:04:40.658Z"
   },
   {
    "duration": 7,
    "start_time": "2022-02-07T09:05:08.459Z"
   },
   {
    "duration": 9,
    "start_time": "2022-02-07T09:05:20.250Z"
   },
   {
    "duration": 13,
    "start_time": "2022-02-07T09:05:43.091Z"
   },
   {
    "duration": 3,
    "start_time": "2022-02-07T09:05:48.112Z"
   },
   {
    "duration": 54,
    "start_time": "2022-02-07T09:05:48.116Z"
   },
   {
    "duration": 9,
    "start_time": "2022-02-07T09:05:48.172Z"
   },
   {
    "duration": 14,
    "start_time": "2022-02-07T09:05:48.182Z"
   },
   {
    "duration": 1426,
    "start_time": "2022-02-07T09:05:48.198Z"
   },
   {
    "duration": 15,
    "start_time": "2022-02-07T09:05:49.625Z"
   },
   {
    "duration": 6,
    "start_time": "2022-02-07T09:05:49.641Z"
   },
   {
    "duration": 5,
    "start_time": "2022-02-07T09:05:49.649Z"
   },
   {
    "duration": 11,
    "start_time": "2022-02-07T09:05:49.655Z"
   },
   {
    "duration": 8,
    "start_time": "2022-02-07T09:07:17.554Z"
   },
   {
    "duration": 274,
    "start_time": "2022-02-07T09:07:47.710Z"
   },
   {
    "duration": 9,
    "start_time": "2022-02-07T09:08:07.647Z"
   },
   {
    "duration": 8,
    "start_time": "2022-02-07T09:08:16.411Z"
   },
   {
    "duration": 2,
    "start_time": "2022-02-07T09:08:24.997Z"
   },
   {
    "duration": 60,
    "start_time": "2022-02-07T09:08:25.001Z"
   },
   {
    "duration": 9,
    "start_time": "2022-02-07T09:08:25.063Z"
   },
   {
    "duration": 14,
    "start_time": "2022-02-07T09:08:25.074Z"
   },
   {
    "duration": 1400,
    "start_time": "2022-02-07T09:08:25.090Z"
   },
   {
    "duration": 15,
    "start_time": "2022-02-07T09:08:26.491Z"
   },
   {
    "duration": 8,
    "start_time": "2022-02-07T09:08:26.508Z"
   },
   {
    "duration": 14,
    "start_time": "2022-02-07T09:08:26.517Z"
   },
   {
    "duration": 10,
    "start_time": "2022-02-07T09:08:26.532Z"
   },
   {
    "duration": 10,
    "start_time": "2022-02-07T09:08:39.328Z"
   },
   {
    "duration": 9,
    "start_time": "2022-02-07T09:12:30.618Z"
   },
   {
    "duration": 3,
    "start_time": "2022-02-07T09:14:36.781Z"
   },
   {
    "duration": 57,
    "start_time": "2022-02-07T09:14:36.785Z"
   },
   {
    "duration": 8,
    "start_time": "2022-02-07T09:14:36.844Z"
   },
   {
    "duration": 13,
    "start_time": "2022-02-07T09:14:36.854Z"
   },
   {
    "duration": 1343,
    "start_time": "2022-02-07T09:14:36.868Z"
   },
   {
    "duration": 21,
    "start_time": "2022-02-07T09:14:38.212Z"
   },
   {
    "duration": 5,
    "start_time": "2022-02-07T09:14:38.234Z"
   },
   {
    "duration": 8,
    "start_time": "2022-02-07T09:14:38.241Z"
   },
   {
    "duration": 10,
    "start_time": "2022-02-07T09:14:38.251Z"
   },
   {
    "duration": 9,
    "start_time": "2022-02-07T09:14:38.262Z"
   },
   {
    "duration": 3,
    "start_time": "2022-02-07T09:14:38.273Z"
   },
   {
    "duration": 13,
    "start_time": "2022-02-07T09:14:38.277Z"
   },
   {
    "duration": 43,
    "start_time": "2022-02-07T09:14:38.292Z"
   },
   {
    "duration": 8,
    "start_time": "2022-02-07T09:14:38.337Z"
   },
   {
    "duration": 12,
    "start_time": "2022-02-07T09:14:38.346Z"
   },
   {
    "duration": 25,
    "start_time": "2022-02-07T09:14:38.360Z"
   },
   {
    "duration": 43,
    "start_time": "2022-02-07T09:14:38.386Z"
   },
   {
    "duration": 13,
    "start_time": "2022-02-07T09:14:38.431Z"
   },
   {
    "duration": 3,
    "start_time": "2022-02-07T09:14:38.446Z"
   },
   {
    "duration": 9,
    "start_time": "2022-02-07T09:14:38.451Z"
   },
   {
    "duration": 3,
    "start_time": "2022-02-07T09:14:38.462Z"
   },
   {
    "duration": 214,
    "start_time": "2022-02-07T09:14:38.466Z"
   },
   {
    "duration": 5,
    "start_time": "2022-02-07T09:14:38.682Z"
   },
   {
    "duration": 5,
    "start_time": "2022-02-07T09:14:38.689Z"
   },
   {
    "duration": 212,
    "start_time": "2022-02-07T09:14:38.695Z"
   },
   {
    "duration": 28,
    "start_time": "2022-02-07T09:14:38.908Z"
   },
   {
    "duration": 25,
    "start_time": "2022-02-07T09:32:01.130Z"
   },
   {
    "duration": 24,
    "start_time": "2022-02-07T09:32:07.418Z"
   },
   {
    "duration": 32,
    "start_time": "2022-02-07T09:35:24.315Z"
   },
   {
    "duration": 16,
    "start_time": "2022-02-07T09:35:47.053Z"
   },
   {
    "duration": 341,
    "start_time": "2022-02-07T09:36:46.872Z"
   },
   {
    "duration": 426,
    "start_time": "2022-02-07T09:37:14.251Z"
   },
   {
    "duration": 778,
    "start_time": "2022-02-07T09:37:36.860Z"
   },
   {
    "duration": 11,
    "start_time": "2022-02-07T09:37:48.359Z"
   },
   {
    "duration": 13,
    "start_time": "2022-02-07T09:39:06.435Z"
   },
   {
    "duration": 13,
    "start_time": "2022-02-07T09:42:00.034Z"
   },
   {
    "duration": 280,
    "start_time": "2022-02-07T09:42:29.026Z"
   },
   {
    "duration": 11,
    "start_time": "2022-02-07T09:42:36.301Z"
   },
   {
    "duration": 90,
    "start_time": "2022-02-07T09:43:24.591Z"
   },
   {
    "duration": 326,
    "start_time": "2022-02-07T09:43:29.414Z"
   },
   {
    "duration": 12,
    "start_time": "2022-02-07T09:43:39.338Z"
   },
   {
    "duration": 665,
    "start_time": "2022-02-07T09:44:30.279Z"
   },
   {
    "duration": 12,
    "start_time": "2022-02-07T09:44:37.417Z"
   },
   {
    "duration": 11,
    "start_time": "2022-02-07T09:44:58.499Z"
   },
   {
    "duration": 12,
    "start_time": "2022-02-07T09:48:44.700Z"
   },
   {
    "duration": 12,
    "start_time": "2022-02-07T09:52:04.536Z"
   },
   {
    "duration": 4475,
    "start_time": "2022-02-07T09:52:23.082Z"
   },
   {
    "duration": 12,
    "start_time": "2022-02-07T09:52:37.346Z"
   },
   {
    "duration": 13,
    "start_time": "2022-02-07T09:52:43.723Z"
   },
   {
    "duration": 16,
    "start_time": "2022-02-07T09:52:50.730Z"
   },
   {
    "duration": 15,
    "start_time": "2022-02-07T09:53:22.816Z"
   },
   {
    "duration": 14,
    "start_time": "2022-02-07T10:01:38.298Z"
   },
   {
    "duration": 333,
    "start_time": "2022-02-07T10:03:38.772Z"
   },
   {
    "duration": 303,
    "start_time": "2022-02-07T10:04:21.967Z"
   },
   {
    "duration": 123,
    "start_time": "2022-02-07T10:05:19.940Z"
   },
   {
    "duration": 317,
    "start_time": "2022-02-07T10:05:43.693Z"
   },
   {
    "duration": 19,
    "start_time": "2022-02-07T10:09:22.537Z"
   },
   {
    "duration": 18,
    "start_time": "2022-02-07T10:16:26.404Z"
   },
   {
    "duration": 18,
    "start_time": "2022-02-07T10:24:10.370Z"
   },
   {
    "duration": 11,
    "start_time": "2022-02-07T10:24:21.419Z"
   },
   {
    "duration": 11,
    "start_time": "2022-02-07T10:24:32.950Z"
   },
   {
    "duration": 12,
    "start_time": "2022-02-07T10:25:19.766Z"
   },
   {
    "duration": 13,
    "start_time": "2022-02-07T10:25:37.155Z"
   },
   {
    "duration": 17,
    "start_time": "2022-02-07T10:28:09.075Z"
   },
   {
    "duration": 10,
    "start_time": "2022-02-07T10:28:29.499Z"
   },
   {
    "duration": 14,
    "start_time": "2022-02-07T10:28:35.852Z"
   },
   {
    "duration": 137,
    "start_time": "2022-02-07T10:29:48.762Z"
   },
   {
    "duration": 146,
    "start_time": "2022-02-07T10:30:26.339Z"
   },
   {
    "duration": 141,
    "start_time": "2022-02-07T10:35:05.404Z"
   },
   {
    "duration": 144,
    "start_time": "2022-02-07T10:37:52.066Z"
   },
   {
    "duration": 137,
    "start_time": "2022-02-07T10:38:20.970Z"
   },
   {
    "duration": 283,
    "start_time": "2022-02-07T10:38:52.752Z"
   },
   {
    "duration": 137,
    "start_time": "2022-02-07T10:38:59.024Z"
   },
   {
    "duration": 134,
    "start_time": "2022-02-07T11:06:18.224Z"
   },
   {
    "duration": 152,
    "start_time": "2022-02-07T11:07:01.500Z"
   },
   {
    "duration": 154,
    "start_time": "2022-02-07T11:07:31.232Z"
   },
   {
    "duration": 143,
    "start_time": "2022-02-07T11:08:22.233Z"
   },
   {
    "duration": 145,
    "start_time": "2022-02-07T11:08:37.781Z"
   },
   {
    "duration": 144,
    "start_time": "2022-02-07T11:26:05.777Z"
   },
   {
    "duration": 145,
    "start_time": "2022-02-07T11:26:36.809Z"
   },
   {
    "duration": 145,
    "start_time": "2022-02-07T11:27:18.608Z"
   },
   {
    "duration": 149,
    "start_time": "2022-02-07T11:27:46.793Z"
   },
   {
    "duration": 145,
    "start_time": "2022-02-07T11:28:02.947Z"
   },
   {
    "duration": 285,
    "start_time": "2022-02-07T11:29:27.691Z"
   },
   {
    "duration": 303,
    "start_time": "2022-02-07T11:29:54.646Z"
   },
   {
    "duration": 326,
    "start_time": "2022-02-07T11:30:11.430Z"
   },
   {
    "duration": 303,
    "start_time": "2022-02-07T11:30:29.940Z"
   },
   {
    "duration": 142,
    "start_time": "2022-02-07T11:30:50.342Z"
   },
   {
    "duration": 145,
    "start_time": "2022-02-07T11:30:54.551Z"
   },
   {
    "duration": 286,
    "start_time": "2022-02-07T11:31:01.508Z"
   },
   {
    "duration": 147,
    "start_time": "2022-02-07T11:33:05.282Z"
   },
   {
    "duration": 149,
    "start_time": "2022-02-07T11:33:36.015Z"
   },
   {
    "duration": 143,
    "start_time": "2022-02-07T11:33:44.602Z"
   },
   {
    "duration": 147,
    "start_time": "2022-02-07T11:37:23.988Z"
   },
   {
    "duration": 1197,
    "start_time": "2022-02-07T11:40:12.978Z"
   },
   {
    "duration": 880,
    "start_time": "2022-02-07T11:40:27.211Z"
   },
   {
    "duration": 309,
    "start_time": "2022-02-07T11:41:15.818Z"
   },
   {
    "duration": 349,
    "start_time": "2022-02-07T11:41:43.014Z"
   },
   {
    "duration": 293,
    "start_time": "2022-02-07T11:41:52.972Z"
   },
   {
    "duration": 148,
    "start_time": "2022-02-07T11:42:08.672Z"
   },
   {
    "duration": 145,
    "start_time": "2022-02-07T11:42:15.091Z"
   },
   {
    "duration": 415,
    "start_time": "2022-02-07T11:46:13.056Z"
   },
   {
    "duration": 152,
    "start_time": "2022-02-07T11:46:30.931Z"
   },
   {
    "duration": 355,
    "start_time": "2022-02-07T11:50:24.586Z"
   },
   {
    "duration": 147,
    "start_time": "2022-02-07T11:50:35.234Z"
   },
   {
    "duration": 145,
    "start_time": "2022-02-07T11:50:42.018Z"
   },
   {
    "duration": 145,
    "start_time": "2022-02-07T11:51:14.013Z"
   },
   {
    "duration": 141,
    "start_time": "2022-02-07T11:52:53.518Z"
   },
   {
    "duration": 278,
    "start_time": "2022-02-07T12:04:09.481Z"
   },
   {
    "duration": 9,
    "start_time": "2022-02-07T12:06:03.075Z"
   },
   {
    "duration": 13,
    "start_time": "2022-02-07T12:06:16.095Z"
   },
   {
    "duration": 16,
    "start_time": "2022-02-07T12:10:54.049Z"
   },
   {
    "duration": 409,
    "start_time": "2022-02-07T12:10:57.486Z"
   },
   {
    "duration": 133,
    "start_time": "2022-02-07T12:11:25.794Z"
   },
   {
    "duration": 6,
    "start_time": "2022-02-07T12:18:21.620Z"
   },
   {
    "duration": 10,
    "start_time": "2022-02-07T12:21:43.570Z"
   },
   {
    "duration": 17,
    "start_time": "2022-02-07T12:23:54.261Z"
   },
   {
    "duration": 7,
    "start_time": "2022-02-07T12:24:49.827Z"
   },
   {
    "duration": 6,
    "start_time": "2022-02-07T12:28:54.967Z"
   },
   {
    "duration": 7,
    "start_time": "2022-02-07T12:38:12.795Z"
   },
   {
    "duration": 6,
    "start_time": "2022-02-07T12:38:19.099Z"
   },
   {
    "duration": 7,
    "start_time": "2022-02-07T12:38:23.116Z"
   },
   {
    "duration": 276,
    "start_time": "2022-02-07T12:39:11.874Z"
   },
   {
    "duration": 300,
    "start_time": "2022-02-07T12:39:32.964Z"
   },
   {
    "duration": 8,
    "start_time": "2022-02-07T12:40:26.160Z"
   },
   {
    "duration": 9,
    "start_time": "2022-02-07T12:40:39.534Z"
   },
   {
    "duration": 7,
    "start_time": "2022-02-07T12:41:23.693Z"
   },
   {
    "duration": 6,
    "start_time": "2022-02-07T13:02:55.420Z"
   },
   {
    "duration": 7,
    "start_time": "2022-02-07T13:03:38.228Z"
   },
   {
    "duration": 303,
    "start_time": "2022-02-07T13:08:33.032Z"
   },
   {
    "duration": 289,
    "start_time": "2022-02-07T13:08:45.041Z"
   },
   {
    "duration": 13,
    "start_time": "2022-02-07T13:09:11.413Z"
   },
   {
    "duration": 18,
    "start_time": "2022-02-07T13:09:27.278Z"
   },
   {
    "duration": 280,
    "start_time": "2022-02-07T13:11:44.552Z"
   },
   {
    "duration": 335,
    "start_time": "2022-02-07T13:12:10.959Z"
   },
   {
    "duration": 305,
    "start_time": "2022-02-07T13:12:46.448Z"
   },
   {
    "duration": 138,
    "start_time": "2022-02-07T13:14:43.378Z"
   },
   {
    "duration": 290,
    "start_time": "2022-02-07T13:20:43.298Z"
   },
   {
    "duration": 248,
    "start_time": "2022-02-07T13:20:52.563Z"
   },
   {
    "duration": 243,
    "start_time": "2022-02-07T13:21:00.124Z"
   },
   {
    "duration": 187,
    "start_time": "2022-02-07T13:21:05.208Z"
   },
   {
    "duration": 157,
    "start_time": "2022-02-07T13:21:12.954Z"
   },
   {
    "duration": 3,
    "start_time": "2022-02-07T13:42:09.244Z"
   },
   {
    "duration": 54,
    "start_time": "2022-02-07T13:42:09.250Z"
   },
   {
    "duration": 10,
    "start_time": "2022-02-07T13:42:09.306Z"
   },
   {
    "duration": 22,
    "start_time": "2022-02-07T13:42:09.318Z"
   },
   {
    "duration": 1376,
    "start_time": "2022-02-07T13:42:09.342Z"
   },
   {
    "duration": 15,
    "start_time": "2022-02-07T13:42:10.720Z"
   },
   {
    "duration": 6,
    "start_time": "2022-02-07T13:42:10.736Z"
   },
   {
    "duration": 18,
    "start_time": "2022-02-07T13:42:10.744Z"
   },
   {
    "duration": 21,
    "start_time": "2022-02-07T13:42:10.763Z"
   },
   {
    "duration": 25,
    "start_time": "2022-02-07T13:42:10.787Z"
   },
   {
    "duration": 9,
    "start_time": "2022-02-07T13:42:10.813Z"
   },
   {
    "duration": 20,
    "start_time": "2022-02-07T13:42:10.824Z"
   },
   {
    "duration": 11,
    "start_time": "2022-02-07T13:42:10.845Z"
   },
   {
    "duration": 24,
    "start_time": "2022-02-07T13:42:10.857Z"
   },
   {
    "duration": 27,
    "start_time": "2022-02-07T13:42:10.883Z"
   },
   {
    "duration": 25,
    "start_time": "2022-02-07T13:42:10.911Z"
   },
   {
    "duration": 15,
    "start_time": "2022-02-07T13:42:10.937Z"
   },
   {
    "duration": 14,
    "start_time": "2022-02-07T13:42:10.953Z"
   },
   {
    "duration": 4,
    "start_time": "2022-02-07T13:42:10.968Z"
   },
   {
    "duration": 31,
    "start_time": "2022-02-07T13:42:10.973Z"
   },
   {
    "duration": 23,
    "start_time": "2022-02-07T13:42:11.006Z"
   },
   {
    "duration": 260,
    "start_time": "2022-02-07T13:42:11.031Z"
   },
   {
    "duration": 6,
    "start_time": "2022-02-07T13:42:11.292Z"
   },
   {
    "duration": 3,
    "start_time": "2022-02-07T13:42:11.299Z"
   },
   {
    "duration": 209,
    "start_time": "2022-02-07T13:42:11.303Z"
   },
   {
    "duration": 153,
    "start_time": "2022-02-07T13:42:11.513Z"
   },
   {
    "duration": 159,
    "start_time": "2022-02-07T13:42:11.668Z"
   },
   {
    "duration": 135,
    "start_time": "2022-02-07T13:42:11.830Z"
   },
   {
    "duration": 7,
    "start_time": "2022-02-07T13:42:11.966Z"
   },
   {
    "duration": 175,
    "start_time": "2022-02-07T13:42:11.975Z"
   },
   {
    "duration": 12,
    "start_time": "2022-02-07T13:47:37.541Z"
   }
  ],
  "kernelspec": {
   "display_name": "Python 3 (ipykernel)",
   "language": "python",
   "name": "python3"
  },
  "language_info": {
   "codemirror_mode": {
    "name": "ipython",
    "version": 3
   },
   "file_extension": ".py",
   "mimetype": "text/x-python",
   "name": "python",
   "nbconvert_exporter": "python",
   "pygments_lexer": "ipython3",
   "version": "3.9.7"
  },
  "toc": {
   "base_numbering": 1,
   "nav_menu": {},
   "number_sections": true,
   "sideBar": true,
   "skip_h1_title": true,
   "title_cell": "Table of Contents",
   "title_sidebar": "Contents",
   "toc_cell": false,
   "toc_position": {
    "height": "calc(100% - 180px)",
    "left": "10px",
    "top": "150px",
    "width": "604.391px"
   },
   "toc_section_display": true,
   "toc_window_display": true
  }
 },
 "nbformat": 4,
 "nbformat_minor": 5
}
