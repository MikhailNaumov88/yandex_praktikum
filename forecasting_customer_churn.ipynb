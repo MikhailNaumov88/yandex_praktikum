{
 "cells": [
  {
   "cell_type": "markdown",
   "id": "185ca29a",
   "metadata": {},
   "source": [
    "# Прогнозирование оттока клиентов банка   \n",
    "Из «Бета-Банка» стали уходить клиенты. Каждый месяц. Немного, но заметно. Банковские маркетологи посчитали: сохранять текущих клиентов дешевле, чем привлекать новых.   \n",
    "Нам нужно построить модель, которая поможет спрогнозировать, уйдёт клиент из банка в ближайшее время или нет. Нам предоставлены исторические данные о поведении клиентов и расторжении договоров с банком.\n",
    "\n",
    "**Ход исследования**\n",
    "\n",
    "Входные данные — исторические данные о поведении клиентов и расторжении договоров с банком, мы получим из файла `Churn.csv`. О качестве данных ничего не известно. Поэтому перед исследованием понадобится обзор данных.\n",
    "\n",
    "*Описание данных:*\n",
    "*Признаки*\n",
    "\n",
    "- `RowNumber` — индекс строки в данных\n",
    "- `CustomerId` — уникальный идентификатор клиента\n",
    "- `Surname` — фамилия\n",
    "- `CreditScore` — кредитный рейтинг\n",
    "- `Geography` — страна проживания\n",
    "- `Gender` — пол\n",
    "- `Age` — возраст\n",
    "- `Tenure` — сколько лет человек является клиентом банка\n",
    "- `Balance` — баланс на счёте\n",
    "- `NumOfProducts` — количество продуктов банка, используемых клиентом\n",
    "- `HasCrCard` — наличие кредитной карты\n",
    "- `IsActiveMember` — активность клиента\n",
    "- `EstimatedSalary` — предполагаемая зарплата\n",
    "\n",
    "*Целевой признак*\n",
    "- `Exited` — факт ухода клиента\n",
    " \n",
    "Подготовка модели пройдёт в пять основных этапов:\n",
    "\n",
    "1. Обзор данных.\n",
    "2. Предобработка данных.\n",
    "3. Исследование задачи.\n",
    "4. Борьба с дисбалансом.\n",
    "5. Тестирование моделей и проверка на адекватность."
   ]
  },
  {
   "cell_type": "markdown",
   "id": "bf187b75",
   "metadata": {
    "toc": true
   },
   "source": [
    "<h1>Содержание<span class=\"tocSkip\"></span></h1>\n",
    "<div class=\"toc\"><ul class=\"toc-item\"><li><span><a href=\"#Обзор-данных\" data-toc-modified-id=\"Обзор-данных-1\"><span class=\"toc-item-num\">1&nbsp;&nbsp;</span>Обзор данных</a></span></li><li><span><a href=\"#Предобработка-данных\" data-toc-modified-id=\"Предобработка-данных-2\"><span class=\"toc-item-num\">2&nbsp;&nbsp;</span>Предобработка данных</a></span></li><li><span><a href=\"#Исследование-задачи\" data-toc-modified-id=\"Исследование-задачи-3\"><span class=\"toc-item-num\">3&nbsp;&nbsp;</span>Исследование задачи</a></span><ul class=\"toc-item\"><li><span><a href=\"#Подготовка-признаков\" data-toc-modified-id=\"Подготовка-признаков-3.1\"><span class=\"toc-item-num\">3.1&nbsp;&nbsp;</span>Подготовка признаков</a></span><ul class=\"toc-item\"><li><span><a href=\"#One-hot-Encoding\" data-toc-modified-id=\"One-hot-Encoding-3.1.1\"><span class=\"toc-item-num\">3.1.1&nbsp;&nbsp;</span>One-hot Encoding</a></span></li><li><span><a href=\"#Разделение-выборки\" data-toc-modified-id=\"Разделение-выборки-3.1.2\"><span class=\"toc-item-num\">3.1.2&nbsp;&nbsp;</span>Разделение выборки</a></span></li><li><span><a href=\"#Масштабирование-признаков\" data-toc-modified-id=\"Масштабирование-признаков-3.1.3\"><span class=\"toc-item-num\">3.1.3&nbsp;&nbsp;</span>Масштабирование признаков</a></span></li></ul></li><li><span><a href=\"#Пробное-обучение-моделей-без-учета-дисбаланса-классов\" data-toc-modified-id=\"Пробное-обучение-моделей-без-учета-дисбаланса-классов-3.2\"><span class=\"toc-item-num\">3.2&nbsp;&nbsp;</span>Пробное обучение моделей без учета дисбаланса классов</a></span><ul class=\"toc-item\"><li><span><a href=\"#Дерево-решений\" data-toc-modified-id=\"Дерево-решений-3.2.1\"><span class=\"toc-item-num\">3.2.1&nbsp;&nbsp;</span>Дерево решений</a></span></li><li><span><a href=\"#Случайный-лес\" data-toc-modified-id=\"Случайный-лес-3.2.2\"><span class=\"toc-item-num\">3.2.2&nbsp;&nbsp;</span>Случайный лес</a></span></li><li><span><a href=\"#Логистическая-регрессия\" data-toc-modified-id=\"Логистическая-регрессия-3.2.3\"><span class=\"toc-item-num\">3.2.3&nbsp;&nbsp;</span>Логистическая регрессия</a></span></li></ul></li><li><span><a href=\"#Вывод\" data-toc-modified-id=\"Вывод-3.3\"><span class=\"toc-item-num\">3.3&nbsp;&nbsp;</span>Вывод</a></span></li></ul></li><li><span><a href=\"#Борьба-с-дисбалансом\" data-toc-modified-id=\"Борьба-с-дисбалансом-4\"><span class=\"toc-item-num\">4&nbsp;&nbsp;</span>Борьба с дисбалансом</a></span><ul class=\"toc-item\"><li><span><a href=\"#Увеличение-выборки\" data-toc-modified-id=\"Увеличение-выборки-4.1\"><span class=\"toc-item-num\">4.1&nbsp;&nbsp;</span>Увеличение выборки</a></span><ul class=\"toc-item\"><li><span><a href=\"#Дерево-решений\" data-toc-modified-id=\"Дерево-решений-4.1.1\"><span class=\"toc-item-num\">4.1.1&nbsp;&nbsp;</span>Дерево решений</a></span></li><li><span><a href=\"#Случайный-лес\" data-toc-modified-id=\"Случайный-лес-4.1.2\"><span class=\"toc-item-num\">4.1.2&nbsp;&nbsp;</span>Случайный лес</a></span></li><li><span><a href=\"#Логистическая-регрессия\" data-toc-modified-id=\"Логистическая-регрессия-4.1.3\"><span class=\"toc-item-num\">4.1.3&nbsp;&nbsp;</span>Логистическая регрессия</a></span></li></ul></li><li><span><a href=\"#Уменьшение-выборки\" data-toc-modified-id=\"Уменьшение-выборки-4.2\"><span class=\"toc-item-num\">4.2&nbsp;&nbsp;</span>Уменьшение выборки</a></span><ul class=\"toc-item\"><li><span><a href=\"#Дерево-решений\" data-toc-modified-id=\"Дерево-решений-4.2.1\"><span class=\"toc-item-num\">4.2.1&nbsp;&nbsp;</span>Дерево решений</a></span></li><li><span><a href=\"#Случайный-лес\" data-toc-modified-id=\"Случайный-лес-4.2.2\"><span class=\"toc-item-num\">4.2.2&nbsp;&nbsp;</span>Случайный лес</a></span></li><li><span><a href=\"#Логистическая-регрессия\" data-toc-modified-id=\"Логистическая-регрессия-4.2.3\"><span class=\"toc-item-num\">4.2.3&nbsp;&nbsp;</span>Логистическая регрессия</a></span></li></ul></li><li><span><a href=\"#Изменение-порога\" data-toc-modified-id=\"Изменение-порога-4.3\"><span class=\"toc-item-num\">4.3&nbsp;&nbsp;</span>Изменение порога</a></span><ul class=\"toc-item\"><li><span><a href=\"#Дерево-решений\" data-toc-modified-id=\"Дерево-решений-4.3.1\"><span class=\"toc-item-num\">4.3.1&nbsp;&nbsp;</span>Дерево решений</a></span></li><li><span><a href=\"#Случайный-лес\" data-toc-modified-id=\"Случайный-лес-4.3.2\"><span class=\"toc-item-num\">4.3.2&nbsp;&nbsp;</span>Случайный лес</a></span></li><li><span><a href=\"#Логистическая-регрессия\" data-toc-modified-id=\"Логистическая-регрессия-4.3.3\"><span class=\"toc-item-num\">4.3.3&nbsp;&nbsp;</span>Логистическая регрессия</a></span></li></ul></li></ul></li><li><span><a href=\"#Тестирование-модели-и-проверка-на-адекватность\" data-toc-modified-id=\"Тестирование-модели-и-проверка-на-адекватность-5\"><span class=\"toc-item-num\">5&nbsp;&nbsp;</span>Тестирование модели и проверка на адекватность</a></span></li><li><span><a href=\"#Общий-вывод\" data-toc-modified-id=\"Общий-вывод-6\"><span class=\"toc-item-num\">6&nbsp;&nbsp;</span>Общий вывод</a></span></li></ul></div>"
   ]
  },
  {
   "cell_type": "markdown",
   "id": "a2dbd90c",
   "metadata": {},
   "source": [
    "## Обзор данных   \n",
    "Загрузим необходимые для нас библиотеки, модели и метрики."
   ]
  },
  {
   "cell_type": "code",
   "execution_count": 1,
   "id": "a11325ab",
   "metadata": {},
   "outputs": [
    {
     "name": "stdout",
     "output_type": "stream",
     "text": [
      "Setup complete\n"
     ]
    }
   ],
   "source": [
    "import pandas as pd\n",
    "import numpy as np\n",
    "\n",
    "%matplotlib inline\n",
    "import matplotlib.pyplot as plt\n",
    "import seaborn as sns\n",
    "plt.style.use('seaborn-whitegrid')\n",
    "\n",
    "from sklearn.linear_model import LogisticRegression\n",
    "from sklearn.ensemble import RandomForestClassifier\n",
    "from sklearn.tree import DecisionTreeClassifier\n",
    "\n",
    "from sklearn.metrics import f1_score, roc_auc_score, roc_curve, precision_score, recall_score, r2_score\n",
    "from sklearn.metrics import precision_recall_curve, accuracy_score, confusion_matrix, mean_squared_error, mean_absolute_error\n",
    "\n",
    "from sklearn.model_selection import train_test_split, GridSearchCV\n",
    "from sklearn.preprocessing import StandardScaler, OrdinalEncoder\n",
    "from sklearn.utils import shuffle\n",
    "\n",
    "pd.options.mode.chained_assignment = None\n",
    "pd.options.display.float_format = '{:,.2f}'.format\n",
    "\n",
    "print('Setup complete')"
   ]
  },
  {
   "cell_type": "markdown",
   "id": "d04192e2",
   "metadata": {},
   "source": [
    "Теперь загрузим и изучим имеющиеся данные."
   ]
  },
  {
   "cell_type": "code",
   "execution_count": 2,
   "id": "99c1f06a",
   "metadata": {},
   "outputs": [
    {
     "name": "stdout",
     "output_type": "stream",
     "text": [
      "<class 'pandas.core.frame.DataFrame'>\n",
      "RangeIndex: 10000 entries, 0 to 9999\n",
      "Data columns (total 14 columns):\n",
      " #   Column           Non-Null Count  Dtype  \n",
      "---  ------           --------------  -----  \n",
      " 0   RowNumber        10000 non-null  int64  \n",
      " 1   CustomerId       10000 non-null  int64  \n",
      " 2   Surname          10000 non-null  object \n",
      " 3   CreditScore      10000 non-null  int64  \n",
      " 4   Geography        10000 non-null  object \n",
      " 5   Gender           10000 non-null  object \n",
      " 6   Age              10000 non-null  int64  \n",
      " 7   Tenure           9091 non-null   float64\n",
      " 8   Balance          10000 non-null  float64\n",
      " 9   NumOfProducts    10000 non-null  int64  \n",
      " 10  HasCrCard        10000 non-null  int64  \n",
      " 11  IsActiveMember   10000 non-null  int64  \n",
      " 12  EstimatedSalary  10000 non-null  float64\n",
      " 13  Exited           10000 non-null  int64  \n",
      "dtypes: float64(3), int64(8), object(3)\n",
      "memory usage: 1.1+ MB\n"
     ]
    },
    {
     "data": {
      "text/html": [
       "<div>\n",
       "<style scoped>\n",
       "    .dataframe tbody tr th:only-of-type {\n",
       "        vertical-align: middle;\n",
       "    }\n",
       "\n",
       "    .dataframe tbody tr th {\n",
       "        vertical-align: top;\n",
       "    }\n",
       "\n",
       "    .dataframe thead th {\n",
       "        text-align: right;\n",
       "    }\n",
       "</style>\n",
       "<table border=\"1\" class=\"dataframe\">\n",
       "  <thead>\n",
       "    <tr style=\"text-align: right;\">\n",
       "      <th></th>\n",
       "      <th>RowNumber</th>\n",
       "      <th>CustomerId</th>\n",
       "      <th>Surname</th>\n",
       "      <th>CreditScore</th>\n",
       "      <th>Geography</th>\n",
       "      <th>Gender</th>\n",
       "      <th>Age</th>\n",
       "      <th>Tenure</th>\n",
       "      <th>Balance</th>\n",
       "      <th>NumOfProducts</th>\n",
       "      <th>HasCrCard</th>\n",
       "      <th>IsActiveMember</th>\n",
       "      <th>EstimatedSalary</th>\n",
       "      <th>Exited</th>\n",
       "    </tr>\n",
       "  </thead>\n",
       "  <tbody>\n",
       "    <tr>\n",
       "      <th>0</th>\n",
       "      <td>1</td>\n",
       "      <td>15634602</td>\n",
       "      <td>Hargrave</td>\n",
       "      <td>619</td>\n",
       "      <td>France</td>\n",
       "      <td>Female</td>\n",
       "      <td>42</td>\n",
       "      <td>2.00</td>\n",
       "      <td>0.00</td>\n",
       "      <td>1</td>\n",
       "      <td>1</td>\n",
       "      <td>1</td>\n",
       "      <td>101,348.88</td>\n",
       "      <td>1</td>\n",
       "    </tr>\n",
       "    <tr>\n",
       "      <th>1</th>\n",
       "      <td>2</td>\n",
       "      <td>15647311</td>\n",
       "      <td>Hill</td>\n",
       "      <td>608</td>\n",
       "      <td>Spain</td>\n",
       "      <td>Female</td>\n",
       "      <td>41</td>\n",
       "      <td>1.00</td>\n",
       "      <td>83,807.86</td>\n",
       "      <td>1</td>\n",
       "      <td>0</td>\n",
       "      <td>1</td>\n",
       "      <td>112,542.58</td>\n",
       "      <td>0</td>\n",
       "    </tr>\n",
       "    <tr>\n",
       "      <th>2</th>\n",
       "      <td>3</td>\n",
       "      <td>15619304</td>\n",
       "      <td>Onio</td>\n",
       "      <td>502</td>\n",
       "      <td>France</td>\n",
       "      <td>Female</td>\n",
       "      <td>42</td>\n",
       "      <td>8.00</td>\n",
       "      <td>159,660.80</td>\n",
       "      <td>3</td>\n",
       "      <td>1</td>\n",
       "      <td>0</td>\n",
       "      <td>113,931.57</td>\n",
       "      <td>1</td>\n",
       "    </tr>\n",
       "    <tr>\n",
       "      <th>3</th>\n",
       "      <td>4</td>\n",
       "      <td>15701354</td>\n",
       "      <td>Boni</td>\n",
       "      <td>699</td>\n",
       "      <td>France</td>\n",
       "      <td>Female</td>\n",
       "      <td>39</td>\n",
       "      <td>1.00</td>\n",
       "      <td>0.00</td>\n",
       "      <td>2</td>\n",
       "      <td>0</td>\n",
       "      <td>0</td>\n",
       "      <td>93,826.63</td>\n",
       "      <td>0</td>\n",
       "    </tr>\n",
       "    <tr>\n",
       "      <th>4</th>\n",
       "      <td>5</td>\n",
       "      <td>15737888</td>\n",
       "      <td>Mitchell</td>\n",
       "      <td>850</td>\n",
       "      <td>Spain</td>\n",
       "      <td>Female</td>\n",
       "      <td>43</td>\n",
       "      <td>2.00</td>\n",
       "      <td>125,510.82</td>\n",
       "      <td>1</td>\n",
       "      <td>1</td>\n",
       "      <td>1</td>\n",
       "      <td>79,084.10</td>\n",
       "      <td>0</td>\n",
       "    </tr>\n",
       "    <tr>\n",
       "      <th>5</th>\n",
       "      <td>6</td>\n",
       "      <td>15574012</td>\n",
       "      <td>Chu</td>\n",
       "      <td>645</td>\n",
       "      <td>Spain</td>\n",
       "      <td>Male</td>\n",
       "      <td>44</td>\n",
       "      <td>8.00</td>\n",
       "      <td>113,755.78</td>\n",
       "      <td>2</td>\n",
       "      <td>1</td>\n",
       "      <td>0</td>\n",
       "      <td>149,756.71</td>\n",
       "      <td>1</td>\n",
       "    </tr>\n",
       "    <tr>\n",
       "      <th>6</th>\n",
       "      <td>7</td>\n",
       "      <td>15592531</td>\n",
       "      <td>Bartlett</td>\n",
       "      <td>822</td>\n",
       "      <td>France</td>\n",
       "      <td>Male</td>\n",
       "      <td>50</td>\n",
       "      <td>7.00</td>\n",
       "      <td>0.00</td>\n",
       "      <td>2</td>\n",
       "      <td>1</td>\n",
       "      <td>1</td>\n",
       "      <td>10,062.80</td>\n",
       "      <td>0</td>\n",
       "    </tr>\n",
       "    <tr>\n",
       "      <th>7</th>\n",
       "      <td>8</td>\n",
       "      <td>15656148</td>\n",
       "      <td>Obinna</td>\n",
       "      <td>376</td>\n",
       "      <td>Germany</td>\n",
       "      <td>Female</td>\n",
       "      <td>29</td>\n",
       "      <td>4.00</td>\n",
       "      <td>115,046.74</td>\n",
       "      <td>4</td>\n",
       "      <td>1</td>\n",
       "      <td>0</td>\n",
       "      <td>119,346.88</td>\n",
       "      <td>1</td>\n",
       "    </tr>\n",
       "    <tr>\n",
       "      <th>8</th>\n",
       "      <td>9</td>\n",
       "      <td>15792365</td>\n",
       "      <td>He</td>\n",
       "      <td>501</td>\n",
       "      <td>France</td>\n",
       "      <td>Male</td>\n",
       "      <td>44</td>\n",
       "      <td>4.00</td>\n",
       "      <td>142,051.07</td>\n",
       "      <td>2</td>\n",
       "      <td>0</td>\n",
       "      <td>1</td>\n",
       "      <td>74,940.50</td>\n",
       "      <td>0</td>\n",
       "    </tr>\n",
       "    <tr>\n",
       "      <th>9</th>\n",
       "      <td>10</td>\n",
       "      <td>15592389</td>\n",
       "      <td>H?</td>\n",
       "      <td>684</td>\n",
       "      <td>France</td>\n",
       "      <td>Male</td>\n",
       "      <td>27</td>\n",
       "      <td>2.00</td>\n",
       "      <td>134,603.88</td>\n",
       "      <td>1</td>\n",
       "      <td>1</td>\n",
       "      <td>1</td>\n",
       "      <td>71,725.73</td>\n",
       "      <td>0</td>\n",
       "    </tr>\n",
       "  </tbody>\n",
       "</table>\n",
       "</div>"
      ],
      "text/plain": [
       "   RowNumber  CustomerId   Surname  CreditScore Geography  Gender  Age  \\\n",
       "0          1    15634602  Hargrave          619    France  Female   42   \n",
       "1          2    15647311      Hill          608     Spain  Female   41   \n",
       "2          3    15619304      Onio          502    France  Female   42   \n",
       "3          4    15701354      Boni          699    France  Female   39   \n",
       "4          5    15737888  Mitchell          850     Spain  Female   43   \n",
       "5          6    15574012       Chu          645     Spain    Male   44   \n",
       "6          7    15592531  Bartlett          822    France    Male   50   \n",
       "7          8    15656148    Obinna          376   Germany  Female   29   \n",
       "8          9    15792365        He          501    France    Male   44   \n",
       "9         10    15592389        H?          684    France    Male   27   \n",
       "\n",
       "   Tenure    Balance  NumOfProducts  HasCrCard  IsActiveMember  \\\n",
       "0    2.00       0.00              1          1               1   \n",
       "1    1.00  83,807.86              1          0               1   \n",
       "2    8.00 159,660.80              3          1               0   \n",
       "3    1.00       0.00              2          0               0   \n",
       "4    2.00 125,510.82              1          1               1   \n",
       "5    8.00 113,755.78              2          1               0   \n",
       "6    7.00       0.00              2          1               1   \n",
       "7    4.00 115,046.74              4          1               0   \n",
       "8    4.00 142,051.07              2          0               1   \n",
       "9    2.00 134,603.88              1          1               1   \n",
       "\n",
       "   EstimatedSalary  Exited  \n",
       "0       101,348.88       1  \n",
       "1       112,542.58       0  \n",
       "2       113,931.57       1  \n",
       "3        93,826.63       0  \n",
       "4        79,084.10       0  \n",
       "5       149,756.71       1  \n",
       "6        10,062.80       0  \n",
       "7       119,346.88       1  \n",
       "8        74,940.50       0  \n",
       "9        71,725.73       0  "
      ]
     },
     "metadata": {},
     "output_type": "display_data"
    },
    {
     "data": {
      "text/plain": [
       "None"
      ]
     },
     "metadata": {},
     "output_type": "display_data"
    },
    {
     "data": {
      "text/html": [
       "<div>\n",
       "<style scoped>\n",
       "    .dataframe tbody tr th:only-of-type {\n",
       "        vertical-align: middle;\n",
       "    }\n",
       "\n",
       "    .dataframe tbody tr th {\n",
       "        vertical-align: top;\n",
       "    }\n",
       "\n",
       "    .dataframe thead th {\n",
       "        text-align: right;\n",
       "    }\n",
       "</style>\n",
       "<table border=\"1\" class=\"dataframe\">\n",
       "  <thead>\n",
       "    <tr style=\"text-align: right;\">\n",
       "      <th></th>\n",
       "      <th>count</th>\n",
       "      <th>mean</th>\n",
       "      <th>std</th>\n",
       "      <th>min</th>\n",
       "      <th>25%</th>\n",
       "      <th>50%</th>\n",
       "      <th>75%</th>\n",
       "      <th>max</th>\n",
       "    </tr>\n",
       "  </thead>\n",
       "  <tbody>\n",
       "    <tr>\n",
       "      <th>RowNumber</th>\n",
       "      <td>10,000.00</td>\n",
       "      <td>5,000.50</td>\n",
       "      <td>2,886.90</td>\n",
       "      <td>1.00</td>\n",
       "      <td>2,500.75</td>\n",
       "      <td>5,000.50</td>\n",
       "      <td>7,500.25</td>\n",
       "      <td>10,000.00</td>\n",
       "    </tr>\n",
       "    <tr>\n",
       "      <th>CustomerId</th>\n",
       "      <td>10,000.00</td>\n",
       "      <td>15,690,940.57</td>\n",
       "      <td>71,936.19</td>\n",
       "      <td>15,565,701.00</td>\n",
       "      <td>15,628,528.25</td>\n",
       "      <td>15,690,738.00</td>\n",
       "      <td>15,753,233.75</td>\n",
       "      <td>15,815,690.00</td>\n",
       "    </tr>\n",
       "    <tr>\n",
       "      <th>CreditScore</th>\n",
       "      <td>10,000.00</td>\n",
       "      <td>650.53</td>\n",
       "      <td>96.65</td>\n",
       "      <td>350.00</td>\n",
       "      <td>584.00</td>\n",
       "      <td>652.00</td>\n",
       "      <td>718.00</td>\n",
       "      <td>850.00</td>\n",
       "    </tr>\n",
       "    <tr>\n",
       "      <th>Age</th>\n",
       "      <td>10,000.00</td>\n",
       "      <td>38.92</td>\n",
       "      <td>10.49</td>\n",
       "      <td>18.00</td>\n",
       "      <td>32.00</td>\n",
       "      <td>37.00</td>\n",
       "      <td>44.00</td>\n",
       "      <td>92.00</td>\n",
       "    </tr>\n",
       "    <tr>\n",
       "      <th>Tenure</th>\n",
       "      <td>9,091.00</td>\n",
       "      <td>5.00</td>\n",
       "      <td>2.89</td>\n",
       "      <td>0.00</td>\n",
       "      <td>2.00</td>\n",
       "      <td>5.00</td>\n",
       "      <td>7.00</td>\n",
       "      <td>10.00</td>\n",
       "    </tr>\n",
       "    <tr>\n",
       "      <th>Balance</th>\n",
       "      <td>10,000.00</td>\n",
       "      <td>76,485.89</td>\n",
       "      <td>62,397.41</td>\n",
       "      <td>0.00</td>\n",
       "      <td>0.00</td>\n",
       "      <td>97,198.54</td>\n",
       "      <td>127,644.24</td>\n",
       "      <td>250,898.09</td>\n",
       "    </tr>\n",
       "    <tr>\n",
       "      <th>NumOfProducts</th>\n",
       "      <td>10,000.00</td>\n",
       "      <td>1.53</td>\n",
       "      <td>0.58</td>\n",
       "      <td>1.00</td>\n",
       "      <td>1.00</td>\n",
       "      <td>1.00</td>\n",
       "      <td>2.00</td>\n",
       "      <td>4.00</td>\n",
       "    </tr>\n",
       "    <tr>\n",
       "      <th>HasCrCard</th>\n",
       "      <td>10,000.00</td>\n",
       "      <td>0.71</td>\n",
       "      <td>0.46</td>\n",
       "      <td>0.00</td>\n",
       "      <td>0.00</td>\n",
       "      <td>1.00</td>\n",
       "      <td>1.00</td>\n",
       "      <td>1.00</td>\n",
       "    </tr>\n",
       "    <tr>\n",
       "      <th>IsActiveMember</th>\n",
       "      <td>10,000.00</td>\n",
       "      <td>0.52</td>\n",
       "      <td>0.50</td>\n",
       "      <td>0.00</td>\n",
       "      <td>0.00</td>\n",
       "      <td>1.00</td>\n",
       "      <td>1.00</td>\n",
       "      <td>1.00</td>\n",
       "    </tr>\n",
       "    <tr>\n",
       "      <th>EstimatedSalary</th>\n",
       "      <td>10,000.00</td>\n",
       "      <td>100,090.24</td>\n",
       "      <td>57,510.49</td>\n",
       "      <td>11.58</td>\n",
       "      <td>51,002.11</td>\n",
       "      <td>100,193.91</td>\n",
       "      <td>149,388.25</td>\n",
       "      <td>199,992.48</td>\n",
       "    </tr>\n",
       "    <tr>\n",
       "      <th>Exited</th>\n",
       "      <td>10,000.00</td>\n",
       "      <td>0.20</td>\n",
       "      <td>0.40</td>\n",
       "      <td>0.00</td>\n",
       "      <td>0.00</td>\n",
       "      <td>0.00</td>\n",
       "      <td>0.00</td>\n",
       "      <td>1.00</td>\n",
       "    </tr>\n",
       "  </tbody>\n",
       "</table>\n",
       "</div>"
      ],
      "text/plain": [
       "                    count          mean       std           min           25%  \\\n",
       "RowNumber       10,000.00      5,000.50  2,886.90          1.00      2,500.75   \n",
       "CustomerId      10,000.00 15,690,940.57 71,936.19 15,565,701.00 15,628,528.25   \n",
       "CreditScore     10,000.00        650.53     96.65        350.00        584.00   \n",
       "Age             10,000.00         38.92     10.49         18.00         32.00   \n",
       "Tenure           9,091.00          5.00      2.89          0.00          2.00   \n",
       "Balance         10,000.00     76,485.89 62,397.41          0.00          0.00   \n",
       "NumOfProducts   10,000.00          1.53      0.58          1.00          1.00   \n",
       "HasCrCard       10,000.00          0.71      0.46          0.00          0.00   \n",
       "IsActiveMember  10,000.00          0.52      0.50          0.00          0.00   \n",
       "EstimatedSalary 10,000.00    100,090.24 57,510.49         11.58     51,002.11   \n",
       "Exited          10,000.00          0.20      0.40          0.00          0.00   \n",
       "\n",
       "                          50%           75%           max  \n",
       "RowNumber            5,000.50      7,500.25     10,000.00  \n",
       "CustomerId      15,690,738.00 15,753,233.75 15,815,690.00  \n",
       "CreditScore            652.00        718.00        850.00  \n",
       "Age                     37.00         44.00         92.00  \n",
       "Tenure                   5.00          7.00         10.00  \n",
       "Balance             97,198.54    127,644.24    250,898.09  \n",
       "NumOfProducts            1.00          2.00          4.00  \n",
       "HasCrCard                1.00          1.00          1.00  \n",
       "IsActiveMember           1.00          1.00          1.00  \n",
       "EstimatedSalary    100,193.91    149,388.25    199,992.48  \n",
       "Exited                   0.00          0.00          1.00  "
      ]
     },
     "metadata": {},
     "output_type": "display_data"
    },
    {
     "name": "stdout",
     "output_type": "stream",
     "text": [
      "Процент пропусков:\n",
      " RowNumber         0.00\n",
      "CustomerId        0.00\n",
      "Surname           0.00\n",
      "CreditScore       0.00\n",
      "Geography         0.00\n",
      "Gender            0.00\n",
      "Age               0.00\n",
      "Tenure            9.09\n",
      "Balance           0.00\n",
      "NumOfProducts     0.00\n",
      "HasCrCard         0.00\n",
      "IsActiveMember    0.00\n",
      "EstimatedSalary   0.00\n",
      "Exited            0.00\n",
      "dtype: float64\n",
      "\n",
      "Кол-во дубликатов: 0\n"
     ]
    }
   ],
   "source": [
    "try:\n",
    "    df = pd.read_csv('/datasets/Churn.csv')\n",
    "except:\n",
    "    df = pd.read_csv('datasets/Churn.csv')\n",
    "display(df.head(10), df.info(), df.describe().T)\n",
    "print('Процент пропусков:\\n', df.isna().mean()*100)\n",
    "print()\n",
    "print('Кол-во дубликатов:', df.duplicated().sum())"
   ]
  },
  {
   "cell_type": "markdown",
   "id": "96d596a1",
   "metadata": {},
   "source": [
    "Исходя из первого просмотра данных можно увидеть пропуски в столбце `Tenure` 9,09% и нулевые значения, котрые скорее всего говорят о том, что клиент пользуется улугами компании меньше года. А так же формат данных можно заменить на целочисленный.   \n",
    "Имеются так же нулевые значения в столбце `Balance`, которые могут говорить как о том, что клиент уже перестал пользоваться улугами банка, так и о том что планирует это сделать.   \n",
    "Наименования столбцов следовало бы было привести к змеиному регистру."
   ]
  },
  {
   "cell_type": "markdown",
   "id": "2349ad89",
   "metadata": {},
   "source": [
    "Посмотрим на распеределение целевого признака в данных."
   ]
  },
  {
   "cell_type": "code",
   "execution_count": 3,
   "id": "c1bbb83b",
   "metadata": {},
   "outputs": [
    {
     "data": {
      "image/png": "[encoded data removed]",
      "text/plain": [
       "<Figure size 576x576 with 1 Axes>"
      ]
     },
     "metadata": {},
     "output_type": "display_data"
    }
   ],
   "source": [
    "df['Exited'].value_counts().plot(kind='pie', figsize=(8,8), autopct='%1.1f%%', fontsize=20, shadow=True)\n",
    "plt.legend(['Остался клиентом банка', 'Перестал быть клиентом банка'], fontsize=12)\n",
    "plt.title('Распеределение факта ухода клиента', fontsize=20)\n",
    "plt.axis('off');"
   ]
  },
  {
   "cell_type": "markdown",
   "id": "fea280c6",
   "metadata": {},
   "source": [
    "В выборке представлены клиенты, где у 79.6% - остались с банком, а 20.4% ушли от банка, что говорит нам о том, что данные довольно несбалансированы.   \n",
    "Посмотрим на распеределение клиентов по странам."
   ]
  },
  {
   "cell_type": "code",
   "execution_count": 4,
   "id": "169c4b3a",
   "metadata": {},
   "outputs": [
    {
     "data": {
      "image/png": "[encoded data removed]",
      "text/plain": [
       "<Figure size 576x576 with 1 Axes>"
      ]
     },
     "metadata": {},
     "output_type": "display_data"
    }
   ],
   "source": [
    "df['Geography'].value_counts().plot(kind='pie', figsize=(8,8), autopct='%1.1f%%', fontsize=20, shadow=True)\n",
    "plt.title('Распеределение клиентов по странам', fontsize=20)\n",
    "plt.axis('off');"
   ]
  },
  {
   "cell_type": "markdown",
   "id": "03298363",
   "metadata": {},
   "source": [
    "**Здесь можем сделать первые выводы перед тем как приступить к предобработке данных.**"
   ]
  },
  {
   "cell_type": "markdown",
   "id": "a10a476f",
   "metadata": {},
   "source": [
    "1. В выборке представлены клиенты, где у 79.6% - остались с банком, а 20.4% ушли от банка, что говорит нам о том, что данные довольно несбалансированы.\n",
    "2. Пропущенные значения лежат в столбце `Tenure`, который говорит о том, сколько времени клиент пользуется услугами банка. Соответственно данный показатель слишком индивидуальный, а так же, вероятно, имеет вес в нашем дальнейшем обучении моделей, поэтому будет принято решение о том, что данный показатель мы уберём. С точки зрения скорости это самый приемлимый вариант. Заменять значения чем-либо другим не самый лучший вариант.\n",
    "3. Так же обратим внимание, что клиентами банка являются жители стран Франции (50% в выборке), Германии (25%) и Испании (25%).\n",
    "4. Признаки в столбцах `RowNumber`, `CustomerId` и `Surname` не несут никакой информации для наших будущих моделей, скорее наоборот. Так что избавимся от них в дальнейшем.\n",
    "5. Так же заметим, что клиенты банка могут иметь всего 4 продукта от этого банка.\n",
    "6. Так же в столбце `CreditScore` распределены люди с разным уровнем кредитного рейтинга, но в среднем имеют хорошую оценку."
   ]
  },
  {
   "cell_type": "markdown",
   "id": "a6429007",
   "metadata": {},
   "source": [
    "## Предобработка данных   \n",
    "Удалим столбцы `RowNumber`, `CustomerId` и `Surname`."
   ]
  },
  {
   "cell_type": "code",
   "execution_count": 5,
   "id": "652ec20d",
   "metadata": {},
   "outputs": [
    {
     "data": {
      "text/html": [
       "<div>\n",
       "<style scoped>\n",
       "    .dataframe tbody tr th:only-of-type {\n",
       "        vertical-align: middle;\n",
       "    }\n",
       "\n",
       "    .dataframe tbody tr th {\n",
       "        vertical-align: top;\n",
       "    }\n",
       "\n",
       "    .dataframe thead th {\n",
       "        text-align: right;\n",
       "    }\n",
       "</style>\n",
       "<table border=\"1\" class=\"dataframe\">\n",
       "  <thead>\n",
       "    <tr style=\"text-align: right;\">\n",
       "      <th></th>\n",
       "      <th>CreditScore</th>\n",
       "      <th>Geography</th>\n",
       "      <th>Gender</th>\n",
       "      <th>Age</th>\n",
       "      <th>Tenure</th>\n",
       "      <th>Balance</th>\n",
       "      <th>NumOfProducts</th>\n",
       "      <th>HasCrCard</th>\n",
       "      <th>IsActiveMember</th>\n",
       "      <th>EstimatedSalary</th>\n",
       "      <th>Exited</th>\n",
       "    </tr>\n",
       "  </thead>\n",
       "  <tbody>\n",
       "    <tr>\n",
       "      <th>0</th>\n",
       "      <td>619</td>\n",
       "      <td>France</td>\n",
       "      <td>Female</td>\n",
       "      <td>42</td>\n",
       "      <td>2.00</td>\n",
       "      <td>0.00</td>\n",
       "      <td>1</td>\n",
       "      <td>1</td>\n",
       "      <td>1</td>\n",
       "      <td>101,348.88</td>\n",
       "      <td>1</td>\n",
       "    </tr>\n",
       "    <tr>\n",
       "      <th>1</th>\n",
       "      <td>608</td>\n",
       "      <td>Spain</td>\n",
       "      <td>Female</td>\n",
       "      <td>41</td>\n",
       "      <td>1.00</td>\n",
       "      <td>83,807.86</td>\n",
       "      <td>1</td>\n",
       "      <td>0</td>\n",
       "      <td>1</td>\n",
       "      <td>112,542.58</td>\n",
       "      <td>0</td>\n",
       "    </tr>\n",
       "    <tr>\n",
       "      <th>2</th>\n",
       "      <td>502</td>\n",
       "      <td>France</td>\n",
       "      <td>Female</td>\n",
       "      <td>42</td>\n",
       "      <td>8.00</td>\n",
       "      <td>159,660.80</td>\n",
       "      <td>3</td>\n",
       "      <td>1</td>\n",
       "      <td>0</td>\n",
       "      <td>113,931.57</td>\n",
       "      <td>1</td>\n",
       "    </tr>\n",
       "    <tr>\n",
       "      <th>3</th>\n",
       "      <td>699</td>\n",
       "      <td>France</td>\n",
       "      <td>Female</td>\n",
       "      <td>39</td>\n",
       "      <td>1.00</td>\n",
       "      <td>0.00</td>\n",
       "      <td>2</td>\n",
       "      <td>0</td>\n",
       "      <td>0</td>\n",
       "      <td>93,826.63</td>\n",
       "      <td>0</td>\n",
       "    </tr>\n",
       "    <tr>\n",
       "      <th>4</th>\n",
       "      <td>850</td>\n",
       "      <td>Spain</td>\n",
       "      <td>Female</td>\n",
       "      <td>43</td>\n",
       "      <td>2.00</td>\n",
       "      <td>125,510.82</td>\n",
       "      <td>1</td>\n",
       "      <td>1</td>\n",
       "      <td>1</td>\n",
       "      <td>79,084.10</td>\n",
       "      <td>0</td>\n",
       "    </tr>\n",
       "  </tbody>\n",
       "</table>\n",
       "</div>"
      ],
      "text/plain": [
       "   CreditScore Geography  Gender  Age  Tenure    Balance  NumOfProducts  \\\n",
       "0          619    France  Female   42    2.00       0.00              1   \n",
       "1          608     Spain  Female   41    1.00  83,807.86              1   \n",
       "2          502    France  Female   42    8.00 159,660.80              3   \n",
       "3          699    France  Female   39    1.00       0.00              2   \n",
       "4          850     Spain  Female   43    2.00 125,510.82              1   \n",
       "\n",
       "   HasCrCard  IsActiveMember  EstimatedSalary  Exited  \n",
       "0          1               1       101,348.88       1  \n",
       "1          0               1       112,542.58       0  \n",
       "2          1               0       113,931.57       1  \n",
       "3          0               0        93,826.63       0  \n",
       "4          1               1        79,084.10       0  "
      ]
     },
     "execution_count": 5,
     "metadata": {},
     "output_type": "execute_result"
    }
   ],
   "source": [
    "try:\n",
    "    df = df.drop(['RowNumber', 'CustomerId', 'Surname'], axis=1)\n",
    "except:\n",
    "    print()\n",
    "df.head()"
   ]
  },
  {
   "cell_type": "markdown",
   "id": "194c3985",
   "metadata": {},
   "source": [
    "Приведем столбцы к змеиному регистру"
   ]
  },
  {
   "cell_type": "code",
   "execution_count": 6,
   "id": "41e50680",
   "metadata": {},
   "outputs": [
    {
     "data": {
      "text/html": [
       "<div>\n",
       "<style scoped>\n",
       "    .dataframe tbody tr th:only-of-type {\n",
       "        vertical-align: middle;\n",
       "    }\n",
       "\n",
       "    .dataframe tbody tr th {\n",
       "        vertical-align: top;\n",
       "    }\n",
       "\n",
       "    .dataframe thead th {\n",
       "        text-align: right;\n",
       "    }\n",
       "</style>\n",
       "<table border=\"1\" class=\"dataframe\">\n",
       "  <thead>\n",
       "    <tr style=\"text-align: right;\">\n",
       "      <th></th>\n",
       "      <th>credit_score</th>\n",
       "      <th>geography</th>\n",
       "      <th>gender</th>\n",
       "      <th>age</th>\n",
       "      <th>tenure</th>\n",
       "      <th>balance</th>\n",
       "      <th>num_of_products</th>\n",
       "      <th>has_cr_card</th>\n",
       "      <th>is_active_member</th>\n",
       "      <th>estimated_salary</th>\n",
       "      <th>exited</th>\n",
       "    </tr>\n",
       "  </thead>\n",
       "  <tbody>\n",
       "    <tr>\n",
       "      <th>0</th>\n",
       "      <td>619</td>\n",
       "      <td>France</td>\n",
       "      <td>Female</td>\n",
       "      <td>42</td>\n",
       "      <td>2.00</td>\n",
       "      <td>0.00</td>\n",
       "      <td>1</td>\n",
       "      <td>1</td>\n",
       "      <td>1</td>\n",
       "      <td>101,348.88</td>\n",
       "      <td>1</td>\n",
       "    </tr>\n",
       "    <tr>\n",
       "      <th>1</th>\n",
       "      <td>608</td>\n",
       "      <td>Spain</td>\n",
       "      <td>Female</td>\n",
       "      <td>41</td>\n",
       "      <td>1.00</td>\n",
       "      <td>83,807.86</td>\n",
       "      <td>1</td>\n",
       "      <td>0</td>\n",
       "      <td>1</td>\n",
       "      <td>112,542.58</td>\n",
       "      <td>0</td>\n",
       "    </tr>\n",
       "    <tr>\n",
       "      <th>2</th>\n",
       "      <td>502</td>\n",
       "      <td>France</td>\n",
       "      <td>Female</td>\n",
       "      <td>42</td>\n",
       "      <td>8.00</td>\n",
       "      <td>159,660.80</td>\n",
       "      <td>3</td>\n",
       "      <td>1</td>\n",
       "      <td>0</td>\n",
       "      <td>113,931.57</td>\n",
       "      <td>1</td>\n",
       "    </tr>\n",
       "    <tr>\n",
       "      <th>3</th>\n",
       "      <td>699</td>\n",
       "      <td>France</td>\n",
       "      <td>Female</td>\n",
       "      <td>39</td>\n",
       "      <td>1.00</td>\n",
       "      <td>0.00</td>\n",
       "      <td>2</td>\n",
       "      <td>0</td>\n",
       "      <td>0</td>\n",
       "      <td>93,826.63</td>\n",
       "      <td>0</td>\n",
       "    </tr>\n",
       "    <tr>\n",
       "      <th>4</th>\n",
       "      <td>850</td>\n",
       "      <td>Spain</td>\n",
       "      <td>Female</td>\n",
       "      <td>43</td>\n",
       "      <td>2.00</td>\n",
       "      <td>125,510.82</td>\n",
       "      <td>1</td>\n",
       "      <td>1</td>\n",
       "      <td>1</td>\n",
       "      <td>79,084.10</td>\n",
       "      <td>0</td>\n",
       "    </tr>\n",
       "  </tbody>\n",
       "</table>\n",
       "</div>"
      ],
      "text/plain": [
       "   credit_score geography  gender  age  tenure    balance  num_of_products  \\\n",
       "0           619    France  Female   42    2.00       0.00                1   \n",
       "1           608     Spain  Female   41    1.00  83,807.86                1   \n",
       "2           502    France  Female   42    8.00 159,660.80                3   \n",
       "3           699    France  Female   39    1.00       0.00                2   \n",
       "4           850     Spain  Female   43    2.00 125,510.82                1   \n",
       "\n",
       "   has_cr_card  is_active_member  estimated_salary  exited  \n",
       "0            1                 1        101,348.88       1  \n",
       "1            0                 1        112,542.58       0  \n",
       "2            1                 0        113,931.57       1  \n",
       "3            0                 0         93,826.63       0  \n",
       "4            1                 1         79,084.10       0  "
      ]
     },
     "execution_count": 6,
     "metadata": {},
     "output_type": "execute_result"
    }
   ],
   "source": [
    "correct_columns = []\n",
    "for column in df.columns:\n",
    "    snake_register = ''\n",
    "    sep = '_'\n",
    "    for i in column:\n",
    "        if i.isupper():\n",
    "            snake_register += sep + i.lower()\n",
    "        else:\n",
    "            snake_register += i\n",
    "    correct_columns.append(snake_register.lstrip(sep))\n",
    "df.columns = correct_columns\n",
    "df.head()"
   ]
  },
  {
   "cell_type": "markdown",
   "id": "419ccd56",
   "metadata": {},
   "source": [
    "У нас имеются пропуски в столбце `tenure`. Прежде чем принимать решение об удалении столбца или части данных изучим подробнее эти пропуски."
   ]
  },
  {
   "cell_type": "code",
   "execution_count": 7,
   "id": "82d7f4e0",
   "metadata": {},
   "outputs": [
    {
     "data": {
      "image/png": "[encoded data removed]",
      "text/plain": [
       "<Figure size 576x576 with 1 Axes>"
      ]
     },
     "metadata": {},
     "output_type": "display_data"
    }
   ],
   "source": [
    "df[df['tenure'].isna()]['exited'].value_counts().plot(kind='pie', figsize=(8,8), autopct='%1.1f%%', fontsize=20, shadow=True);"
   ]
  },
  {
   "cell_type": "markdown",
   "id": "36350843",
   "metadata": {},
   "source": [
    "В данных с пропущенным значением такое же соотношение ушедших и оставшихся клиентов что и во всём датасете.   \n",
    "Посморим на распределение признаков в случае данных с пропусками и без что бы убедиться, что мы не потеряем важные для нас данные."
   ]
  },
  {
   "cell_type": "code",
   "execution_count": 8,
   "id": "555411f5",
   "metadata": {
    "scrolled": false
   },
   "outputs": [
    {
     "data": {
      "image/png": "[encoded data removed]",
      "text/plain": [
       "<Figure size 1080x360 with 1 Axes>"
      ]
     },
     "metadata": {},
     "output_type": "display_data"
    },
    {
     "data": {
      "image/png": "[encoded data removed]",
      "text/plain": [
       "<Figure size 1080x360 with 1 Axes>"
      ]
     },
     "metadata": {},
     "output_type": "display_data"
    },
    {
     "data": {
      "image/png": "[encoded data removed]",
      "text/plain": [
       "<Figure size 1080x360 with 1 Axes>"
      ]
     },
     "metadata": {},
     "output_type": "display_data"
    },
    {
     "data": {
      "image/png": "[encoded data removed]",
      "text/plain": [
       "<Figure size 1080x360 with 1 Axes>"
      ]
     },
     "metadata": {},
     "output_type": "display_data"
    },
    {
     "data": {
      "image/png": "[encoded data removed]",
      "text/plain": [
       "<Figure size 1080x360 with 1 Axes>"
      ]
     },
     "metadata": {},
     "output_type": "display_data"
    },
    {
     "data": {
      "image/png": "[encoded data removed]",
      "text/plain": [
       "<Figure size 1080x360 with 1 Axes>"
      ]
     },
     "metadata": {},
     "output_type": "display_data"
    },
    {
     "data": {
      "image/png": "[encoded data removed]",
      "text/plain": [
       "<Figure size 1080x360 with 1 Axes>"
      ]
     },
     "metadata": {},
     "output_type": "display_data"
    }
   ],
   "source": [
    "column_list = ['credit_score',\n",
    "               'age',\n",
    "               'balance',\n",
    "               'num_of_products',\n",
    "               'has_cr_card',\n",
    "               'is_active_member',\n",
    "               'estimated_salary']\n",
    "for column in column_list:\n",
    "    df[column].plot(kind='hist',\n",
    "                                                         label='With NaN',\n",
    "                                                        bins=30,\n",
    "                                                        figsize=(15,5),\n",
    "                   ec='black')\n",
    "    \n",
    "    df.dropna()[column].plot(kind='hist',\n",
    "                                                         label='Without NaN',\n",
    "                                                        bins=30,\n",
    "                                                        figsize=(15,5),\n",
    "                                                        alpha=0.7,\n",
    "                            ec='black')\n",
    "    \n",
    "    plt.title(column, fontsize=20)\n",
    "    plt.legend()\n",
    "    plt.show()"
   ]
  },
  {
   "cell_type": "markdown",
   "id": "5f9e26ec",
   "metadata": {},
   "source": [
    "Здесь можем сделать вывод что в данных с пропущенными занчениями не содержится выбивающихся значений, котрые могли бы значительно повлиять на обучение модели. Удалим строки с пропущенными значениями в столбце `tenure`."
   ]
  },
  {
   "cell_type": "code",
   "execution_count": 9,
   "id": "ec06fd0a",
   "metadata": {},
   "outputs": [],
   "source": [
    "df = df.dropna()"
   ]
  },
  {
   "cell_type": "markdown",
   "id": "d9e4fbbf",
   "metadata": {},
   "source": [
    "**Вывод:**   \n",
    "Отток клиентов – это потеря клиентов, выраженное в отсутствии покупок или платежей в течение определенного периода времени. Показатель оттока крайне важен для компаний с подписной и транзакционной моделью бизнеса, подразумевающих регулярные платежи в сторону компании.\n",
    "\n",
    "Мы предварительно подготовили наш сет данных:\n",
    "\n",
    " - пропуски обнаруженые в одном столбце `tenure` - удалили, т.к. заменить на либое другое значение, в том числе и на 0, здесь видится не правильным, потому что нудлевые значения уже присутсвуют. Необходимо уточнить причину появления таких пропусков.\n",
    " - удалили стобцы `RowNumber`, `CustomerId`, `Surname`.\n",
    " - Привели столбцы к змеиному регистру\n",
    "\n",
    "Можем приступать к подготовке признаков"
   ]
  },
  {
   "cell_type": "markdown",
   "id": "077c40ce",
   "metadata": {},
   "source": [
    "## Исследование задачи   \n",
    "Перед нами стоит задача классификации - необходимо определить - уйдет клиент в ближайшее время или нет. Таким образом, для достижения целей данной задачи предлагаю использовать алгоритмы Логистической регрессии, Случайного леса и Дерева решений.\n",
    "\n",
    "Для оценки моделей будем использовать F1 меру (F1 score), выберем одну с предельно большим значением. Нам необходимо довести мертику до 0,59 на валидационной выборке.\n",
    "\n",
    "Для оценки итоговой модели используем ROC кривую с ее площадью (ROC-AUC).\n",
    "\n",
    "Как мы выяснили, у нас наблюдается дисбаланс классов, правильность (accuracy) нам не подходит"
   ]
  },
  {
   "cell_type": "markdown",
   "id": "1f6154e4",
   "metadata": {},
   "source": [
    "### Подготовка признаков   \n",
    "Посмотрим на наши данные ещё раз"
   ]
  },
  {
   "cell_type": "code",
   "execution_count": 10,
   "id": "4590240f",
   "metadata": {},
   "outputs": [
    {
     "data": {
      "text/html": [
       "<div>\n",
       "<style scoped>\n",
       "    .dataframe tbody tr th:only-of-type {\n",
       "        vertical-align: middle;\n",
       "    }\n",
       "\n",
       "    .dataframe tbody tr th {\n",
       "        vertical-align: top;\n",
       "    }\n",
       "\n",
       "    .dataframe thead th {\n",
       "        text-align: right;\n",
       "    }\n",
       "</style>\n",
       "<table border=\"1\" class=\"dataframe\">\n",
       "  <thead>\n",
       "    <tr style=\"text-align: right;\">\n",
       "      <th></th>\n",
       "      <th>credit_score</th>\n",
       "      <th>geography</th>\n",
       "      <th>gender</th>\n",
       "      <th>age</th>\n",
       "      <th>tenure</th>\n",
       "      <th>balance</th>\n",
       "      <th>num_of_products</th>\n",
       "      <th>has_cr_card</th>\n",
       "      <th>is_active_member</th>\n",
       "      <th>estimated_salary</th>\n",
       "      <th>exited</th>\n",
       "    </tr>\n",
       "  </thead>\n",
       "  <tbody>\n",
       "    <tr>\n",
       "      <th>0</th>\n",
       "      <td>619</td>\n",
       "      <td>France</td>\n",
       "      <td>Female</td>\n",
       "      <td>42</td>\n",
       "      <td>2.00</td>\n",
       "      <td>0.00</td>\n",
       "      <td>1</td>\n",
       "      <td>1</td>\n",
       "      <td>1</td>\n",
       "      <td>101,348.88</td>\n",
       "      <td>1</td>\n",
       "    </tr>\n",
       "    <tr>\n",
       "      <th>1</th>\n",
       "      <td>608</td>\n",
       "      <td>Spain</td>\n",
       "      <td>Female</td>\n",
       "      <td>41</td>\n",
       "      <td>1.00</td>\n",
       "      <td>83,807.86</td>\n",
       "      <td>1</td>\n",
       "      <td>0</td>\n",
       "      <td>1</td>\n",
       "      <td>112,542.58</td>\n",
       "      <td>0</td>\n",
       "    </tr>\n",
       "    <tr>\n",
       "      <th>2</th>\n",
       "      <td>502</td>\n",
       "      <td>France</td>\n",
       "      <td>Female</td>\n",
       "      <td>42</td>\n",
       "      <td>8.00</td>\n",
       "      <td>159,660.80</td>\n",
       "      <td>3</td>\n",
       "      <td>1</td>\n",
       "      <td>0</td>\n",
       "      <td>113,931.57</td>\n",
       "      <td>1</td>\n",
       "    </tr>\n",
       "    <tr>\n",
       "      <th>3</th>\n",
       "      <td>699</td>\n",
       "      <td>France</td>\n",
       "      <td>Female</td>\n",
       "      <td>39</td>\n",
       "      <td>1.00</td>\n",
       "      <td>0.00</td>\n",
       "      <td>2</td>\n",
       "      <td>0</td>\n",
       "      <td>0</td>\n",
       "      <td>93,826.63</td>\n",
       "      <td>0</td>\n",
       "    </tr>\n",
       "    <tr>\n",
       "      <th>4</th>\n",
       "      <td>850</td>\n",
       "      <td>Spain</td>\n",
       "      <td>Female</td>\n",
       "      <td>43</td>\n",
       "      <td>2.00</td>\n",
       "      <td>125,510.82</td>\n",
       "      <td>1</td>\n",
       "      <td>1</td>\n",
       "      <td>1</td>\n",
       "      <td>79,084.10</td>\n",
       "      <td>0</td>\n",
       "    </tr>\n",
       "  </tbody>\n",
       "</table>\n",
       "</div>"
      ],
      "text/plain": [
       "   credit_score geography  gender  age  tenure    balance  num_of_products  \\\n",
       "0           619    France  Female   42    2.00       0.00                1   \n",
       "1           608     Spain  Female   41    1.00  83,807.86                1   \n",
       "2           502    France  Female   42    8.00 159,660.80                3   \n",
       "3           699    France  Female   39    1.00       0.00                2   \n",
       "4           850     Spain  Female   43    2.00 125,510.82                1   \n",
       "\n",
       "   has_cr_card  is_active_member  estimated_salary  exited  \n",
       "0            1                 1        101,348.88       1  \n",
       "1            0                 1        112,542.58       0  \n",
       "2            1                 0        113,931.57       1  \n",
       "3            0                 0         93,826.63       0  \n",
       "4            1                 1         79,084.10       0  "
      ]
     },
     "execution_count": 10,
     "metadata": {},
     "output_type": "execute_result"
    }
   ],
   "source": [
    "df.head()"
   ]
  },
  {
   "cell_type": "markdown",
   "id": "6c0529f4",
   "metadata": {},
   "source": [
    "Здесь можно сказать следующее:   \n",
    "1. Преобразуем категориальные признаки в численные в столбцах `geography` и `gender`\n",
    "2. Разделим на обучающую, валидационнную и тестовую выборки.\n",
    "3. Масштабируем признаки с количественными данными"
   ]
  },
  {
   "cell_type": "markdown",
   "id": "05f783db",
   "metadata": {},
   "source": [
    "#### One-hot Encoding    \n",
    "Категориальные признаки `geography` и `gender` необходимо преобразовать в численные с помощью техники прямого кодирования, или отображения (англ. One-Hot Encoding, OHE). Нам нужны количественные признаки для большей точности."
   ]
  },
  {
   "cell_type": "code",
   "execution_count": 11,
   "id": "a4c3ae52",
   "metadata": {},
   "outputs": [
    {
     "data": {
      "text/html": [
       "<div>\n",
       "<style scoped>\n",
       "    .dataframe tbody tr th:only-of-type {\n",
       "        vertical-align: middle;\n",
       "    }\n",
       "\n",
       "    .dataframe tbody tr th {\n",
       "        vertical-align: top;\n",
       "    }\n",
       "\n",
       "    .dataframe thead th {\n",
       "        text-align: right;\n",
       "    }\n",
       "</style>\n",
       "<table border=\"1\" class=\"dataframe\">\n",
       "  <thead>\n",
       "    <tr style=\"text-align: right;\">\n",
       "      <th></th>\n",
       "      <th>credit_score</th>\n",
       "      <th>age</th>\n",
       "      <th>tenure</th>\n",
       "      <th>balance</th>\n",
       "      <th>num_of_products</th>\n",
       "      <th>has_cr_card</th>\n",
       "      <th>is_active_member</th>\n",
       "      <th>estimated_salary</th>\n",
       "      <th>exited</th>\n",
       "      <th>Male</th>\n",
       "      <th>Germany</th>\n",
       "      <th>Spain</th>\n",
       "    </tr>\n",
       "  </thead>\n",
       "  <tbody>\n",
       "    <tr>\n",
       "      <th>0</th>\n",
       "      <td>619</td>\n",
       "      <td>42</td>\n",
       "      <td>2.00</td>\n",
       "      <td>0.00</td>\n",
       "      <td>1</td>\n",
       "      <td>1</td>\n",
       "      <td>1</td>\n",
       "      <td>101,348.88</td>\n",
       "      <td>1</td>\n",
       "      <td>0</td>\n",
       "      <td>0</td>\n",
       "      <td>0</td>\n",
       "    </tr>\n",
       "    <tr>\n",
       "      <th>1</th>\n",
       "      <td>608</td>\n",
       "      <td>41</td>\n",
       "      <td>1.00</td>\n",
       "      <td>83,807.86</td>\n",
       "      <td>1</td>\n",
       "      <td>0</td>\n",
       "      <td>1</td>\n",
       "      <td>112,542.58</td>\n",
       "      <td>0</td>\n",
       "      <td>0</td>\n",
       "      <td>0</td>\n",
       "      <td>1</td>\n",
       "    </tr>\n",
       "    <tr>\n",
       "      <th>2</th>\n",
       "      <td>502</td>\n",
       "      <td>42</td>\n",
       "      <td>8.00</td>\n",
       "      <td>159,660.80</td>\n",
       "      <td>3</td>\n",
       "      <td>1</td>\n",
       "      <td>0</td>\n",
       "      <td>113,931.57</td>\n",
       "      <td>1</td>\n",
       "      <td>0</td>\n",
       "      <td>0</td>\n",
       "      <td>0</td>\n",
       "    </tr>\n",
       "    <tr>\n",
       "      <th>3</th>\n",
       "      <td>699</td>\n",
       "      <td>39</td>\n",
       "      <td>1.00</td>\n",
       "      <td>0.00</td>\n",
       "      <td>2</td>\n",
       "      <td>0</td>\n",
       "      <td>0</td>\n",
       "      <td>93,826.63</td>\n",
       "      <td>0</td>\n",
       "      <td>0</td>\n",
       "      <td>0</td>\n",
       "      <td>0</td>\n",
       "    </tr>\n",
       "    <tr>\n",
       "      <th>4</th>\n",
       "      <td>850</td>\n",
       "      <td>43</td>\n",
       "      <td>2.00</td>\n",
       "      <td>125,510.82</td>\n",
       "      <td>1</td>\n",
       "      <td>1</td>\n",
       "      <td>1</td>\n",
       "      <td>79,084.10</td>\n",
       "      <td>0</td>\n",
       "      <td>0</td>\n",
       "      <td>0</td>\n",
       "      <td>1</td>\n",
       "    </tr>\n",
       "  </tbody>\n",
       "</table>\n",
       "</div>"
      ],
      "text/plain": [
       "   credit_score  age  tenure    balance  num_of_products  has_cr_card  \\\n",
       "0           619   42    2.00       0.00                1            1   \n",
       "1           608   41    1.00  83,807.86                1            0   \n",
       "2           502   42    8.00 159,660.80                3            1   \n",
       "3           699   39    1.00       0.00                2            0   \n",
       "4           850   43    2.00 125,510.82                1            1   \n",
       "\n",
       "   is_active_member  estimated_salary  exited  Male  Germany  Spain  \n",
       "0                 1        101,348.88       1     0        0      0  \n",
       "1                 1        112,542.58       0     0        0      1  \n",
       "2                 0        113,931.57       1     0        0      0  \n",
       "3                 0         93,826.63       0     0        0      0  \n",
       "4                 1         79,084.10       0     0        0      1  "
      ]
     },
     "execution_count": 11,
     "metadata": {},
     "output_type": "execute_result"
    }
   ],
   "source": [
    "# encoding two features\n",
    "gender_ohe = pd.get_dummies(df['gender'], drop_first=True)\n",
    "country_ohe = pd.get_dummies(df['geography'], drop_first=True)\n",
    "\n",
    "# deleting categorized features\n",
    "df.drop(['gender', 'geography'], axis=1, inplace=True)\n",
    "\n",
    "# adding new columns\n",
    "df_ohe = pd.concat([df, gender_ohe, country_ohe], axis=1)\n",
    "\n",
    "df_ohe.head()"
   ]
  },
  {
   "cell_type": "markdown",
   "id": "ca1449b9",
   "metadata": {},
   "source": [
    "#### Разделение выборки   \n",
    "Мы подготовили наши признаки, осталось только масштабировать числовые, но перед этим разделим наш датасет на обучающую, валидационную и тестовую выборки."
   ]
  },
  {
   "cell_type": "code",
   "execution_count": 12,
   "id": "cfee7969",
   "metadata": {},
   "outputs": [],
   "source": [
    "# Creating features\n",
    "features = df_ohe.drop('exited', axis=1)\n",
    "# Creating targets\n",
    "target = df_ohe['exited']\n",
    "# Selection test sample\n",
    "features_df, features_test, target_df, target_test = train_test_split(\n",
    "    features, target, test_size=0.2, random_state=42)\n",
    "# Selection training and validating samples\n",
    "features_train, features_valid, target_train, target_valid = train_test_split(\n",
    "    features_df, target_df, test_size=0.25, random_state=42)"
   ]
  },
  {
   "cell_type": "markdown",
   "id": "df8b4c79",
   "metadata": {},
   "source": [
    "Посмотрим на наши результаты разделения."
   ]
  },
  {
   "cell_type": "code",
   "execution_count": 13,
   "id": "707b0663",
   "metadata": {},
   "outputs": [
    {
     "name": "stdout",
     "output_type": "stream",
     "text": [
      "Размер обучающей выборки составляет: 60.0%\n",
      "Размер тестовой выборки составляет: 20.0%\n",
      "Размер валидационной выборки составляет: 20.0%\n"
     ]
    }
   ],
   "source": [
    "print(f'Размер обучающей выборки составляет: {features_train.shape[0]  / len(df):.1%}')\n",
    "print(f'Размер тестовой выборки составляет: {features_test.shape[0] / len(df):.1%}')\n",
    "print(f'Размер валидационной выборки составляет: {features_valid.shape[0] / len(df):.1%}')"
   ]
  },
  {
   "cell_type": "markdown",
   "id": "75ef199c",
   "metadata": {},
   "source": [
    "Проверим так же процент ушедших пользователей в наших выборках, он не должен сильно отличаться от первоначальных 20,4%"
   ]
  },
  {
   "cell_type": "code",
   "execution_count": 14,
   "id": "5289dc52",
   "metadata": {},
   "outputs": [
    {
     "name": "stdout",
     "output_type": "stream",
     "text": [
      "Доля ушедших пользователей в обучающей выборке: 20.3%\n",
      "Доля ушедших пользователей в тестовой выборке: 20.6%\n",
      "Доля ушедших пользователей в валидационной выборки: 20.4%\n"
     ]
    }
   ],
   "source": [
    "print(f'Доля ушедших пользователей в обучающей выборке: {(target_train.sum() / len(target_train)):.1%}')\n",
    "print(f'Доля ушедших пользователей в тестовой выборке: {(target_test.sum() / len(target_test)):.1%}')\n",
    "print(f'Доля ушедших пользователей в валидационной выборки: {(target_valid.sum() / len(target_valid)):.1%}')"
   ]
  },
  {
   "cell_type": "markdown",
   "id": "a773099e",
   "metadata": {},
   "source": [
    "Выборки разделены правильно"
   ]
  },
  {
   "cell_type": "markdown",
   "id": "33490da3",
   "metadata": {},
   "source": [
    "#### Масштабирование признаков   \n",
    "Наши количественные признаки имеют различный разброс значений. Мы используем один из методов масштабирования - стандартизацию данных методом `StandardScaler`. Обучим на обучающей выборке."
   ]
  },
  {
   "cell_type": "code",
   "execution_count": 15,
   "id": "d2b7dce0",
   "metadata": {},
   "outputs": [
    {
     "data": {
      "text/html": [
       "<div>\n",
       "<style scoped>\n",
       "    .dataframe tbody tr th:only-of-type {\n",
       "        vertical-align: middle;\n",
       "    }\n",
       "\n",
       "    .dataframe tbody tr th {\n",
       "        vertical-align: top;\n",
       "    }\n",
       "\n",
       "    .dataframe thead th {\n",
       "        text-align: right;\n",
       "    }\n",
       "</style>\n",
       "<table border=\"1\" class=\"dataframe\">\n",
       "  <thead>\n",
       "    <tr style=\"text-align: right;\">\n",
       "      <th></th>\n",
       "      <th>credit_score</th>\n",
       "      <th>age</th>\n",
       "      <th>tenure</th>\n",
       "      <th>balance</th>\n",
       "      <th>num_of_products</th>\n",
       "      <th>has_cr_card</th>\n",
       "      <th>is_active_member</th>\n",
       "      <th>estimated_salary</th>\n",
       "      <th>Male</th>\n",
       "      <th>Germany</th>\n",
       "      <th>Spain</th>\n",
       "    </tr>\n",
       "  </thead>\n",
       "  <tbody>\n",
       "    <tr>\n",
       "      <th>4440</th>\n",
       "      <td>0.65</td>\n",
       "      <td>-0.65</td>\n",
       "      <td>9.00</td>\n",
       "      <td>0.38</td>\n",
       "      <td>1</td>\n",
       "      <td>1</td>\n",
       "      <td>0</td>\n",
       "      <td>1.14</td>\n",
       "      <td>1</td>\n",
       "      <td>0</td>\n",
       "      <td>0</td>\n",
       "    </tr>\n",
       "    <tr>\n",
       "      <th>6866</th>\n",
       "      <td>0.27</td>\n",
       "      <td>-0.65</td>\n",
       "      <td>8.00</td>\n",
       "      <td>1.94</td>\n",
       "      <td>1</td>\n",
       "      <td>1</td>\n",
       "      <td>1</td>\n",
       "      <td>-0.82</td>\n",
       "      <td>1</td>\n",
       "      <td>0</td>\n",
       "      <td>1</td>\n",
       "    </tr>\n",
       "    <tr>\n",
       "      <th>9257</th>\n",
       "      <td>0.30</td>\n",
       "      <td>-0.18</td>\n",
       "      <td>8.00</td>\n",
       "      <td>1.16</td>\n",
       "      <td>2</td>\n",
       "      <td>1</td>\n",
       "      <td>1</td>\n",
       "      <td>-1.36</td>\n",
       "      <td>0</td>\n",
       "      <td>1</td>\n",
       "      <td>0</td>\n",
       "    </tr>\n",
       "    <tr>\n",
       "      <th>3223</th>\n",
       "      <td>1.32</td>\n",
       "      <td>0.01</td>\n",
       "      <td>2.00</td>\n",
       "      <td>0.44</td>\n",
       "      <td>1</td>\n",
       "      <td>0</td>\n",
       "      <td>0</td>\n",
       "      <td>-0.35</td>\n",
       "      <td>1</td>\n",
       "      <td>0</td>\n",
       "      <td>1</td>\n",
       "    </tr>\n",
       "    <tr>\n",
       "      <th>1085</th>\n",
       "      <td>1.61</td>\n",
       "      <td>0.30</td>\n",
       "      <td>5.00</td>\n",
       "      <td>-1.25</td>\n",
       "      <td>1</td>\n",
       "      <td>1</td>\n",
       "      <td>0</td>\n",
       "      <td>1.68</td>\n",
       "      <td>1</td>\n",
       "      <td>0</td>\n",
       "      <td>0</td>\n",
       "    </tr>\n",
       "  </tbody>\n",
       "</table>\n",
       "</div>"
      ],
      "text/plain": [
       "      credit_score   age  tenure  balance  num_of_products  has_cr_card  \\\n",
       "4440          0.65 -0.65    9.00     0.38                1            1   \n",
       "6866          0.27 -0.65    8.00     1.94                1            1   \n",
       "9257          0.30 -0.18    8.00     1.16                2            1   \n",
       "3223          1.32  0.01    2.00     0.44                1            0   \n",
       "1085          1.61  0.30    5.00    -1.25                1            1   \n",
       "\n",
       "      is_active_member  estimated_salary  Male  Germany  Spain  \n",
       "4440                 0              1.14     1        0      0  \n",
       "6866                 1             -0.82     1        0      1  \n",
       "9257                 1             -1.36     0        1      0  \n",
       "3223                 0             -0.35     1        0      1  \n",
       "1085                 0              1.68     1        0      0  "
      ]
     },
     "execution_count": 15,
     "metadata": {},
     "output_type": "execute_result"
    }
   ],
   "source": [
    "# Select columns with numeric data\n",
    "numeric = ['credit_score', 'age', 'balance', 'estimated_salary']\n",
    "scaler = StandardScaler()\n",
    "# Train scaler on training sample\n",
    "scaler.fit(features_train[numeric])\n",
    "# Replace numeric data to scaled one\n",
    "features_train[numeric] = scaler.transform(features_train[numeric])\n",
    "features_train.head()"
   ]
  },
  {
   "cell_type": "markdown",
   "id": "79da2f2e",
   "metadata": {},
   "source": [
    "Выглядит не плохо. Масштабируем таже признаки в вылидационной и тестовой выборках."
   ]
  },
  {
   "cell_type": "code",
   "execution_count": 16,
   "id": "bbbaceda",
   "metadata": {},
   "outputs": [],
   "source": [
    "features_valid[numeric] = scaler.transform(features_valid[numeric])\n",
    "features_test[numeric] = scaler.transform(features_test[numeric])"
   ]
  },
  {
   "cell_type": "markdown",
   "id": "0d66c35a",
   "metadata": {},
   "source": [
    "Теперь можно приступать к обучению моделей без учёта дисбаланса."
   ]
  },
  {
   "cell_type": "markdown",
   "id": "acacf9de",
   "metadata": {},
   "source": [
    "### Пробное обучение моделей без учета дисбаланса классов   \n",
    "Изучим три известные нам на данный момент модели и обучим их:   \n",
    "1. Дерево решений\n",
    "2. Случайный лес\n",
    "3. Логистическая регрессия"
   ]
  },
  {
   "cell_type": "markdown",
   "id": "8c321de2",
   "metadata": {},
   "source": [
    "#### Дерево решений   \n",
    "Обучим первую модель случайного леса и посмотрим значение F1 score"
   ]
  },
  {
   "cell_type": "code",
   "execution_count": 17,
   "id": "2cbe1ece",
   "metadata": {},
   "outputs": [
    {
     "name": "stdout",
     "output_type": "stream",
     "text": [
      "F1 score наилучшей модели на валидационной выборке: 0.5750798722044729 Глубина дерева: 8\n"
     ]
    }
   ],
   "source": [
    "best_dtc_model = None\n",
    "best_result = 0\n",
    "best_depth = 0\n",
    "for depth in range(1, 20):\n",
    "    model = DecisionTreeClassifier(random_state=42, max_depth=depth)\n",
    "    model.fit(features_train, target_train)\n",
    "    predictions_valid = model.predict(features_valid)\n",
    "    result = f1_score(target_valid, predictions_valid)\n",
    "    if result > best_result:\n",
    "        best_dtc_model = model\n",
    "        best_result = result\n",
    "        best_depth = depth\n",
    "        \n",
    "print(\"F1 score наилучшей модели на валидационной выборке:\", best_result, \"Глубина дерева:\", best_depth)"
   ]
  },
  {
   "cell_type": "markdown",
   "id": "73aa0e0a",
   "metadata": {},
   "source": [
    "Посмотрим так же показатели метрики AUC-ROC"
   ]
  },
  {
   "cell_type": "code",
   "execution_count": 18,
   "id": "b25e0054",
   "metadata": {},
   "outputs": [
    {
     "name": "stdout",
     "output_type": "stream",
     "text": [
      "AUC-ROC наилучшей модели на валидационной выборке: 0.7893252514264105\n"
     ]
    }
   ],
   "source": [
    "def auc_roc_score(models):\n",
    "    '''Function returns roc_auc_score of features_valid\n",
    "    and on the enter waits a model.\n",
    "    E.g.\n",
    "    auc_roc_score(DecisionTreeClassifier(random_state=42, max_depth=8))\n",
    "    '''\n",
    "    probabilities_valid = models.predict_proba(features_valid)\n",
    "    probabilities_one_valid = probabilities_valid[:, 1]\n",
    "    return print('AUC-ROC наилучшей модели на валидационной выборке:', roc_auc_score(target_valid, probabilities_one_valid))\n",
    "\n",
    "auc_roc_score(best_dtc_model)"
   ]
  },
  {
   "cell_type": "markdown",
   "id": "e8e85229",
   "metadata": {},
   "source": [
    "Не очень хороший результат тоже результат, но мы уже близки к требуемому значению в 0.59. Не смотря на то что требуемое значение метрики F1 не достингнуто, модель всё же предсказывает лучше случайной: значение AUC ROC = 0.789, что больше 0.5. Пока что продолжим предварительно обучать следующие модели."
   ]
  },
  {
   "cell_type": "markdown",
   "id": "2031f1ea",
   "metadata": {},
   "source": [
    "#### Случайный лес   \n",
    "Обучим модель случайного леса и посмотрим на скоринг."
   ]
  },
  {
   "cell_type": "code",
   "execution_count": 19,
   "id": "9b85c499",
   "metadata": {},
   "outputs": [
    {
     "name": "stdout",
     "output_type": "stream",
     "text": [
      "F1 score наилучшей модели на валидационной выборке: 0.6061588330632092 Количество деревьев: 50 Максимальная глубина: 12\n"
     ]
    }
   ],
   "source": [
    "best_rfc_model = None\n",
    "best_result = 0\n",
    "best_est = 0\n",
    "best_depth = 0\n",
    "for est in range(10, 111, 10):\n",
    "    for depth in range (1, 30):\n",
    "        model = RandomForestClassifier(random_state=42, n_estimators=est, max_depth=depth)\n",
    "        model.fit(features_train, target_train)\n",
    "        predictions_valid = model.predict(features_valid)\n",
    "        result = f1_score(target_valid, predictions_valid)\n",
    "        if result > best_result:\n",
    "            best_rfc_model = model\n",
    "            best_result = result\n",
    "            best_est = est\n",
    "            best_depth = depth\n",
    "\n",
    "print(\"F1 score наилучшей модели на валидационной выборке:\", best_result, \"Количество деревьев:\", best_est, \"Максимальная глубина:\", best_depth)\n"
   ]
  },
  {
   "cell_type": "markdown",
   "id": "46675967",
   "metadata": {},
   "source": [
    "Посмотрим так же показатели метрики AUC-ROC"
   ]
  },
  {
   "cell_type": "code",
   "execution_count": 20,
   "id": "74025fd0",
   "metadata": {},
   "outputs": [
    {
     "name": "stdout",
     "output_type": "stream",
     "text": [
      "AUC-ROC наилучшей модели на валидационной выборке: 0.8662834342640318\n"
     ]
    }
   ],
   "source": [
    "auc_roc_score(best_rfc_model)"
   ]
  },
  {
   "cell_type": "markdown",
   "id": "f2845d45",
   "metadata": {},
   "source": [
    "Уже выше требуемого показателя в 0.59 и AUC-ROC показывает достаточно не плохое значение. Но и дисбаланс мы не трогали пока что."
   ]
  },
  {
   "cell_type": "markdown",
   "id": "f73d6164",
   "metadata": {},
   "source": [
    "#### Логистическая регрессия   \n",
    "Обучим модель логистической регрессии и посмотрим на скоринг"
   ]
  },
  {
   "cell_type": "code",
   "execution_count": 21,
   "id": "2bff334a",
   "metadata": {},
   "outputs": [
    {
     "name": "stdout",
     "output_type": "stream",
     "text": [
      "F1 score модели логистической регрессии на валидационной выборке: 0.34932821497120925\n"
     ]
    }
   ],
   "source": [
    "model_lr = LogisticRegression(random_state=42, solver='liblinear')\n",
    "model_lr.fit(features_train, target_train)\n",
    "\n",
    "predictions_valid = model_lr.predict(features_valid)\n",
    "valid_f1 = f1_score(target_valid, predictions_valid)\n",
    "\n",
    "print(\"F1 score модели логистической регрессии на валидационной выборке:\", valid_f1)"
   ]
  },
  {
   "cell_type": "markdown",
   "id": "981ace02",
   "metadata": {},
   "source": [
    "Достаточно плохой показатель. Попробуем указать `class_weight='balanced'`"
   ]
  },
  {
   "cell_type": "code",
   "execution_count": 22,
   "id": "4d4c9bd2",
   "metadata": {},
   "outputs": [
    {
     "name": "stdout",
     "output_type": "stream",
     "text": [
      "F1 score модели логистической регрессии на валидационной выборке: 0.4847908745247149\n"
     ]
    }
   ],
   "source": [
    "model_lr = LogisticRegression(random_state=42, solver='liblinear', class_weight='balanced')\n",
    "model_lr.fit(features_train, target_train)\n",
    "\n",
    "predictions_valid = model_lr.predict(features_valid)\n",
    "valid_f1 = f1_score(target_valid, predictions_valid)\n",
    "\n",
    "print(\"F1 score модели логистической регрессии на валидационной выборке:\", valid_f1)"
   ]
  },
  {
   "cell_type": "markdown",
   "id": "7e210492",
   "metadata": {},
   "source": [
    "Посмотрим так же показатели метрики AUC-ROC"
   ]
  },
  {
   "cell_type": "code",
   "execution_count": 23,
   "id": "67cd2920",
   "metadata": {},
   "outputs": [
    {
     "name": "stdout",
     "output_type": "stream",
     "text": [
      "AUC-ROC наилучшей модели на валидационной выборке: 0.7737860840441326\n"
     ]
    }
   ],
   "source": [
    "auc_roc_score(model_lr)"
   ]
  },
  {
   "cell_type": "markdown",
   "id": "4de1b34e",
   "metadata": {},
   "source": [
    "Уже лучше, но не достаточно. Хоть и заметно лучше случайной модели. Видимо здесь без устранения дисбаланса никак.   "
   ]
  },
  {
   "cell_type": "markdown",
   "id": "8a6e198b",
   "metadata": {},
   "source": [
    "### Вывод   \n",
    "Мы подготовили все признаки для обучения моделей, категориальные заменили на числовые значения, а колличественные масштабировали методом стандартизации.   \n",
    "Мы провели подбор и обучение моделей, без учёта дисбаланса, Дерева решений, Случайного леса и Логистической регрессии. Результаты довольно плохие, самый лучший результат, который выше 0.59, показал Случайный лес с параметрами: *Количество деревьев: 50 Максимальная глубина: 12*"
   ]
  },
  {
   "cell_type": "markdown",
   "id": "8c0e7a32",
   "metadata": {},
   "source": [
    "## Борьба с дисбалансом\n",
    "Классы не представлены одинаково в нашей задаче, посмотрим еще раз:"
   ]
  },
  {
   "cell_type": "code",
   "execution_count": 24,
   "id": "7bdd0ffd",
   "metadata": {},
   "outputs": [
    {
     "data": {
      "image/png": "[encoded data removed]",
      "text/plain": [
       "<Figure size 360x360 with 1 Axes>"
      ]
     },
     "metadata": {},
     "output_type": "display_data"
    }
   ],
   "source": [
    "df['exited'].value_counts().plot(kind='pie', figsize=(5,5), autopct='%1.1f%%', fontsize=20, shadow=True)\n",
    "plt.axis('off');"
   ]
  },
  {
   "cell_type": "markdown",
   "id": "e3c8f8a3",
   "metadata": {},
   "source": [
    "Будем пробовать решить эту проблему тремя способами:\n",
    "1. Увеличение выборки\n",
    "2. Уменьшение выборки\n",
    "3. Изменение порога"
   ]
  },
  {
   "cell_type": "markdown",
   "id": "59c80007",
   "metadata": {},
   "source": [
    "### Увеличение выборки\n",
    "Напишем функцию для увеличении выборки и применим её к нашей обучающей выборке.\n",
    "- разделим обучающую выборку на отрицательные и положительные объекты\n",
    "- скопируем несколько раз положительные объекты\n",
    "- с учётом полученных данных создадим новую обучающую выборку\n",
    "- перемешаем данные"
   ]
  },
  {
   "cell_type": "code",
   "execution_count": 25,
   "id": "9fc1a566",
   "metadata": {
    "scrolled": true
   },
   "outputs": [
    {
     "name": "stdout",
     "output_type": "stream",
     "text": [
      "(8781, 11)\n"
     ]
    },
    {
     "data": {
      "text/plain": [
       "1   0.51\n",
       "0   0.49\n",
       "Name: exited, dtype: float64"
      ]
     },
     "execution_count": 25,
     "metadata": {},
     "output_type": "execute_result"
    }
   ],
   "source": [
    "def upsample(features, target, repeat):\n",
    "    features_zeros = features[target == 0]\n",
    "    features_ones = features[target == 1]\n",
    "    target_zeros = target[target == 0]\n",
    "    target_ones = target[target == 1]\n",
    "\n",
    "    features_upsampled = pd.concat([features_zeros] + [features_ones] * repeat)\n",
    "    target_upsampled = pd.concat([target_zeros] + [target_ones] * repeat)\n",
    "    \n",
    "    features_upsampled, target_upsampled = shuffle(\n",
    "        features_upsampled, target_upsampled, random_state=42)\n",
    "    \n",
    "    return features_upsampled, target_upsampled\n",
    "\n",
    "features_upsampled, target_upsampled = upsample(features_train, target_train, 4)\n",
    "\n",
    "print(features_upsampled.shape)\n",
    "target_upsampled.value_counts(normalize=True)"
   ]
  },
  {
   "cell_type": "markdown",
   "id": "11a9bda2",
   "metadata": {},
   "source": [
    "Теперь обучающая выборка сбалансирована. Значения практически 50/50.   \n",
    "Наши лучшие модели были сохранены в переменных, вспомним их:   \n",
    " - Дерево решений - `best_dtc_model`\n",
    " - Случайный лес - `best_rfc_model`\n",
    " - Логистическая регрессия - `model_lr` \n",
    " \n",
    "Используем их по очереди и сравним результаты до и после увеличения выборки."
   ]
  },
  {
   "cell_type": "markdown",
   "id": "8032dfac",
   "metadata": {},
   "source": [
    "#### Дерево решений  "
   ]
  },
  {
   "cell_type": "code",
   "execution_count": 26,
   "id": "8a4df689",
   "metadata": {},
   "outputs": [
    {
     "name": "stdout",
     "output_type": "stream",
     "text": [
      "F1: 0.5739130434782609\n"
     ]
    }
   ],
   "source": [
    "best_dtc_model.fit(features_upsampled, target_upsampled)\n",
    "predicted_valid = best_dtc_model.predict(features_valid)\n",
    "\n",
    "print(\"F1:\", f1_score(target_valid, predicted_valid))"
   ]
  },
  {
   "cell_type": "markdown",
   "id": "16444cd7",
   "metadata": {},
   "source": [
    "Правктически такое же значение на выборке с дисбалансом, даже немного хуже. Попробуем указать `class_weight='balanced'`"
   ]
  },
  {
   "cell_type": "code",
   "execution_count": 27,
   "id": "54491a92",
   "metadata": {},
   "outputs": [
    {
     "name": "stdout",
     "output_type": "stream",
     "text": [
      "F1: 0.582608695652174\n"
     ]
    }
   ],
   "source": [
    "model = DecisionTreeClassifier(random_state=42, max_depth=8, class_weight='balanced')\n",
    "model.fit(features_upsampled, target_upsampled)\n",
    "predicted_valid = model.predict(features_valid)\n",
    "\n",
    "print(\"F1:\", f1_score(target_valid, predicted_valid))"
   ]
  },
  {
   "cell_type": "markdown",
   "id": "3ac89d29",
   "metadata": {},
   "source": [
    "Посмотрим так же показатели метрики AUC-ROC"
   ]
  },
  {
   "cell_type": "code",
   "execution_count": 28,
   "id": "270a5af7",
   "metadata": {},
   "outputs": [
    {
     "name": "stdout",
     "output_type": "stream",
     "text": [
      "AUC-ROC наилучшей модели на валидационной выборке: 0.8116988955679285\n"
     ]
    }
   ],
   "source": [
    "auc_roc_score(model)"
   ]
  },
  {
   "cell_type": "markdown",
   "id": "577905c1",
   "metadata": {},
   "source": [
    "Теперь уже немного лучше, но до 0.59 всё так же не дотягивает. AUC-ROC так же показывает рост."
   ]
  },
  {
   "cell_type": "markdown",
   "id": "eda280ee",
   "metadata": {},
   "source": [
    "#### Случайный лес"
   ]
  },
  {
   "cell_type": "code",
   "execution_count": 29,
   "id": "68b2c51b",
   "metadata": {},
   "outputs": [
    {
     "name": "stdout",
     "output_type": "stream",
     "text": [
      "F1: 0.6258148631029987\n"
     ]
    }
   ],
   "source": [
    "model = RandomForestClassifier(random_state=42, n_estimators=50, max_depth=12)\n",
    "model.fit(features_upsampled, target_upsampled)\n",
    "predicted_valid = model.predict(features_valid)\n",
    "\n",
    "print(\"F1:\", f1_score(target_valid, predicted_valid))"
   ]
  },
  {
   "cell_type": "markdown",
   "id": "0681f97e",
   "metadata": {},
   "source": [
    "Посмотрим так же показатели метрики AUC-ROC"
   ]
  },
  {
   "cell_type": "code",
   "execution_count": 30,
   "id": "a15eae35",
   "metadata": {},
   "outputs": [
    {
     "name": "stdout",
     "output_type": "stream",
     "text": [
      "AUC-ROC наилучшей модели на валидационной выборке: 0.8607845584413891\n"
     ]
    }
   ],
   "source": [
    "auc_roc_score(model)"
   ]
  },
  {
   "cell_type": "markdown",
   "id": "60bde6e3",
   "metadata": {},
   "source": [
    "Значение улучшилось по сравнению с первоначальной выборкой. А вот AUC-ROC наоборот незначительно уменьшился."
   ]
  },
  {
   "cell_type": "markdown",
   "id": "b2a55fb4",
   "metadata": {},
   "source": [
    "#### Логистическая регрессия"
   ]
  },
  {
   "cell_type": "code",
   "execution_count": 31,
   "id": "cf4adfd4",
   "metadata": {},
   "outputs": [
    {
     "name": "stdout",
     "output_type": "stream",
     "text": [
      "F1: 0.48387096774193544\n"
     ]
    }
   ],
   "source": [
    "model_lr.fit(features_upsampled, target_upsampled)\n",
    "predicted_valid = model_lr.predict(features_valid)\n",
    "\n",
    "print(\"F1:\", f1_score(target_valid, predicted_valid))"
   ]
  },
  {
   "cell_type": "markdown",
   "id": "075b65c1",
   "metadata": {},
   "source": [
    "Посмотрим так же показатели метрики AUC-ROC"
   ]
  },
  {
   "cell_type": "code",
   "execution_count": 32,
   "id": "34571d27",
   "metadata": {},
   "outputs": [
    {
     "name": "stdout",
     "output_type": "stream",
     "text": [
      "AUC-ROC наилучшей модели на валидационной выборке: 0.7737674564160071\n"
     ]
    }
   ],
   "source": [
    "auc_roc_score(model_lr)"
   ]
  },
  {
   "cell_type": "markdown",
   "id": "1fc5676a",
   "metadata": {},
   "source": [
    "В данном случае увеличение выборки не дала желаемого результата логистической регрессии. AUC-ROC остался без изменений."
   ]
  },
  {
   "cell_type": "markdown",
   "id": "f11e68e0",
   "metadata": {},
   "source": [
    "### Уменьшение выборки   \n",
    "Напишем функцию для уменьшения выборки и применим её к нашей обучающей выборке.   \n",
    "\n",
    "- разделим обучающую выборку на отрицательные и положительные объекты\n",
    "- случайным образом отбросим часть из нулевых объектов\n",
    "- с учётом полученных данных создадим новую обучающую выборку\n",
    "- перемешаем данные"
   ]
  },
  {
   "cell_type": "code",
   "execution_count": 33,
   "id": "f2cef3fc",
   "metadata": {},
   "outputs": [
    {
     "name": "stdout",
     "output_type": "stream",
     "text": [
      "(2217, 11)\n"
     ]
    },
    {
     "data": {
      "text/plain": [
       "1   0.50\n",
       "0   0.50\n",
       "Name: exited, dtype: float64"
      ]
     },
     "execution_count": 33,
     "metadata": {},
     "output_type": "execute_result"
    }
   ],
   "source": [
    "def downsample(features, target, fraction):\n",
    "    features_zeros = features[target == 0]\n",
    "    features_ones = features[target == 1]\n",
    "    target_zeros = target[target == 0]\n",
    "    target_ones = target[target == 1]\n",
    "\n",
    "    features_downsampled = pd.concat(\n",
    "        [features_zeros.sample(frac=fraction, random_state=42)] + [features_ones])\n",
    "    target_downsampled = pd.concat(\n",
    "        [target_zeros.sample(frac=fraction, random_state=42)] + [target_ones])\n",
    "    \n",
    "    features_downsampled, target_downsampled = shuffle(\n",
    "        features_downsampled, target_downsampled, random_state=42)\n",
    "    \n",
    "    return features_downsampled, target_downsampled\n",
    "\n",
    "features_downsampled, target_downsampled = downsample(features_train, target_train, 0.255)\n",
    "\n",
    "print(features_downsampled.shape)\n",
    "target_downsampled.value_counts(normalize=True)"
   ]
  },
  {
   "cell_type": "markdown",
   "id": "c0290173",
   "metadata": {},
   "source": [
    "Теперь обучающая выборка сбалансирована. Значения ровно 50/50.   \n",
    "Проверим наши модели."
   ]
  },
  {
   "cell_type": "markdown",
   "id": "231f25e1",
   "metadata": {},
   "source": [
    "#### Дерево решений"
   ]
  },
  {
   "cell_type": "code",
   "execution_count": 34,
   "id": "ab2c9b8e",
   "metadata": {},
   "outputs": [
    {
     "name": "stdout",
     "output_type": "stream",
     "text": [
      "F1: 0.5260058881256134\n"
     ]
    }
   ],
   "source": [
    "model = DecisionTreeClassifier(random_state=42, max_depth=8, class_weight='balanced')\n",
    "model.fit(features_downsampled, target_downsampled)\n",
    "predicted_valid = model.predict(features_valid)\n",
    "\n",
    "print(\"F1:\", f1_score(target_valid, predicted_valid))"
   ]
  },
  {
   "cell_type": "markdown",
   "id": "c07e425d",
   "metadata": {},
   "source": [
    "Посмотрим так же показатели метрики AUC-ROC"
   ]
  },
  {
   "cell_type": "code",
   "execution_count": 35,
   "id": "4842212d",
   "metadata": {},
   "outputs": [
    {
     "name": "stdout",
     "output_type": "stream",
     "text": [
      "AUC-ROC наилучшей модели на валидационной выборке: 0.7804734025411811\n"
     ]
    }
   ],
   "source": [
    "auc_roc_score(model)"
   ]
  },
  {
   "cell_type": "markdown",
   "id": "36f5e390",
   "metadata": {},
   "source": [
    "Значение F1 и AUC-ROC получилось несколько ниже предыдущих вариантов."
   ]
  },
  {
   "cell_type": "markdown",
   "id": "b56407ee",
   "metadata": {},
   "source": [
    "#### Случайный лес"
   ]
  },
  {
   "cell_type": "code",
   "execution_count": 36,
   "id": "9d352d2c",
   "metadata": {},
   "outputs": [
    {
     "name": "stdout",
     "output_type": "stream",
     "text": [
      "F1: 0.5681581685744016\n"
     ]
    }
   ],
   "source": [
    "model = RandomForestClassifier(random_state=42, n_estimators=50, max_depth=12)\n",
    "model.fit(features_downsampled, target_downsampled)\n",
    "predicted_valid = model.predict(features_valid)\n",
    "\n",
    "print(\"F1:\", f1_score(target_valid, predicted_valid))"
   ]
  },
  {
   "cell_type": "markdown",
   "id": "515829be",
   "metadata": {},
   "source": [
    "Посмотрим так же показатели метрики AUC-ROC"
   ]
  },
  {
   "cell_type": "code",
   "execution_count": 37,
   "id": "7867f2ed",
   "metadata": {},
   "outputs": [
    {
     "name": "stdout",
     "output_type": "stream",
     "text": [
      "AUC-ROC наилучшей модели на валидационной выборке: 0.8515974122499008\n"
     ]
    }
   ],
   "source": [
    "auc_roc_score(model)"
   ]
  },
  {
   "cell_type": "markdown",
   "id": "3271816f",
   "metadata": {},
   "source": [
    "Здесь мы так же имеем снижение значения F1-score и AUC-ROC."
   ]
  },
  {
   "cell_type": "markdown",
   "id": "4c43eaeb",
   "metadata": {},
   "source": [
    "#### Логистическая регрессия"
   ]
  },
  {
   "cell_type": "code",
   "execution_count": 38,
   "id": "757c1bb8",
   "metadata": {},
   "outputs": [
    {
     "name": "stdout",
     "output_type": "stream",
     "text": [
      "F1: 0.4924242424242424\n"
     ]
    }
   ],
   "source": [
    "model_lr.fit(features_downsampled, target_downsampled)\n",
    "predicted_valid = model_lr.predict(features_valid)\n",
    "\n",
    "print(\"F1:\", f1_score(target_valid, predicted_valid))"
   ]
  },
  {
   "cell_type": "markdown",
   "id": "aad3a015",
   "metadata": {},
   "source": [
    "Посмотрим так же показатели метрики AUC-ROC"
   ]
  },
  {
   "cell_type": "code",
   "execution_count": 39,
   "id": "dcd5dd45",
   "metadata": {},
   "outputs": [
    {
     "name": "stdout",
     "output_type": "stream",
     "text": [
      "AUC-ROC наилучшей модели на валидационной выборке: 0.7759152219388753\n"
     ]
    }
   ],
   "source": [
    "auc_roc_score(model_lr)"
   ]
  },
  {
   "cell_type": "markdown",
   "id": "7d1230c0",
   "metadata": {},
   "source": [
    "А вот логистическая регрессия показала результат немного лучше, но всё так же далеко от целевого показателя в 0.59. AUC-ROC так же не значительно увеличился."
   ]
  },
  {
   "cell_type": "markdown",
   "id": "78f74363",
   "metadata": {},
   "source": [
    "### Изменение порога   \n",
    "Для удобства близость к классам переведём в вероятность классов (у нас два класса - 0 и 1). Нам достаточно вероятности класса «1». По умолчанию он равен 0.5 - попробуем разные параметры, например, до 0.95"
   ]
  },
  {
   "cell_type": "markdown",
   "id": "45096a7c",
   "metadata": {},
   "source": [
    "#### Дерево решений"
   ]
  },
  {
   "cell_type": "code",
   "execution_count": 40,
   "id": "4481208a",
   "metadata": {},
   "outputs": [
    {
     "name": "stdout",
     "output_type": "stream",
     "text": [
      "Порог = 0.00 | Точность = 0.200, Полнота = 0.906 | F1-мера = 0.327\n",
      "Порог = 0.05 | Точность = 0.309, Полнота = 0.852 | F1-мера = 0.453\n",
      "Порог = 0.10 | Точность = 0.396, Полнота = 0.768 | F1-мера = 0.523\n",
      "Порог = 0.15 | Точность = 0.417, Полнота = 0.749 | F1-мера = 0.536\n",
      "Порог = 0.20 | Точность = 0.464, Полнота = 0.695 | F1-мера = 0.557\n",
      "Порог = 0.25 | Точность = 0.591, Полнота = 0.628 | F1-мера = 0.609\n",
      "Порог = 0.30 | Точность = 0.591, Полнота = 0.628 | F1-мера = 0.609\n",
      "Порог = 0.35 | Точность = 0.603, Полнота = 0.609 | F1-мера = 0.606\n",
      "Порог = 0.40 | Точность = 0.662, Полнота = 0.550 | F1-мера = 0.601\n",
      "Порог = 0.45 | Точность = 0.701, Полнота = 0.493 | F1-мера = 0.579\n",
      "Порог = 0.50 | Точность = 0.706, Полнота = 0.485 | F1-мера = 0.575\n",
      "Порог = 0.55 | Точность = 0.716, Полнота = 0.447 | F1-мера = 0.551\n",
      "Порог = 0.60 | Точность = 0.720, Полнота = 0.415 | F1-мера = 0.526\n",
      "Порог = 0.65 | Точность = 0.720, Полнота = 0.415 | F1-мера = 0.526\n",
      "Порог = 0.70 | Точность = 0.704, Полнота = 0.372 | F1-мера = 0.487\n",
      "Порог = 0.75 | Точность = 0.730, Полнота = 0.299 | F1-мера = 0.424\n",
      "Порог = 0.80 | Точность = 0.732, Полнота = 0.294 | F1-мера = 0.419\n",
      "Порог = 0.85 | Точность = 0.769, Полнота = 0.251 | F1-мера = 0.378\n",
      "Порог = 0.90 | Точность = 0.769, Полнота = 0.251 | F1-мера = 0.378\n"
     ]
    },
    {
     "data": {
      "image/png": "[encoded data removed]",
      "text/plain": [
       "<Figure size 720x720 with 1 Axes>"
      ]
     },
     "metadata": {},
     "output_type": "display_data"
    }
   ],
   "source": [
    "model = DecisionTreeClassifier(random_state=42, max_depth=8)\n",
    "model.fit(features_train, target_train)\n",
    "probabilities_valid = model.predict_proba(features_valid)\n",
    "probabilities_one_valid = probabilities_valid[:, 1]\n",
    "\n",
    "for threshold in np.arange(0, 0.95, 0.05):\n",
    "    predicted_valid = probabilities_one_valid > threshold\n",
    "    precision = precision_score(target_valid, predicted_valid)\n",
    "    recall = recall_score(target_valid, predicted_valid)\n",
    "    f1 = f1_score(target_valid, predicted_valid)\n",
    "    print(\"Порог = {:.2f} | Точность = {:.3f}, Полнота = {:.3f} | F1-мера = {:.3f}\".format(\n",
    "        threshold, precision, recall, f1))\n",
    "    \n",
    "precision, recall, thresholds = precision_recall_curve(target_valid, probabilities_valid[:, 1])    \n",
    "plt.figure(figsize=(10, 10))\n",
    "plt.step(recall, precision, where='post')\n",
    "plt.xlabel('Recall')\n",
    "plt.ylabel('Precision')\n",
    "plt.ylim([0.0, 1.05])\n",
    "plt.xlim([0.0, 1.0])\n",
    "plt.title('PR кривая')\n",
    "plt.show() "
   ]
  },
  {
   "cell_type": "markdown",
   "id": "8f1a1b3f",
   "metadata": {},
   "source": [
    "Для порога 0 полнота равна 0.906 - почти все ответы положительные. Самый высокий показатель F1 наблюдаем с порогом 0.3"
   ]
  },
  {
   "cell_type": "markdown",
   "id": "e84a0cf3",
   "metadata": {},
   "source": [
    "#### Случайный лес"
   ]
  },
  {
   "cell_type": "code",
   "execution_count": 41,
   "id": "d2d43f8a",
   "metadata": {},
   "outputs": [
    {
     "name": "stdout",
     "output_type": "stream",
     "text": [
      "Порог = 0.00 | Точность = 0.204, Полнота = 1.000 | F1-мера = 0.339\n",
      "Порог = 0.05 | Точность = 0.264, Полнота = 0.973 | F1-мера = 0.416\n",
      "Порог = 0.10 | Точность = 0.333, Полнота = 0.927 | F1-мера = 0.490\n",
      "Порог = 0.15 | Точность = 0.404, Полнота = 0.852 | F1-мера = 0.548\n",
      "Порог = 0.20 | Точность = 0.475, Полнота = 0.803 | F1-мера = 0.597\n",
      "Порог = 0.25 | Точность = 0.533, Полнота = 0.722 | F1-мера = 0.613\n",
      "Порог = 0.30 | Точность = 0.586, Полнота = 0.682 | F1-мера = 0.630\n",
      "Порог = 0.35 | Точность = 0.627, Полнота = 0.617 | F1-мера = 0.622\n",
      "Порог = 0.40 | Точность = 0.673, Полнота = 0.577 | F1-мера = 0.621\n",
      "Порог = 0.45 | Точность = 0.725, Полнота = 0.547 | F1-мера = 0.624\n",
      "Порог = 0.50 | Точность = 0.760, Полнота = 0.504 | F1-мера = 0.606\n",
      "Порог = 0.55 | Точность = 0.786, Полнота = 0.426 | F1-мера = 0.552\n",
      "Порог = 0.60 | Точность = 0.796, Полнота = 0.388 | F1-мера = 0.522\n",
      "Порог = 0.65 | Точность = 0.812, Полнота = 0.337 | F1-мера = 0.476\n",
      "Порог = 0.70 | Точность = 0.858, Полнота = 0.294 | F1-мера = 0.438\n",
      "Порог = 0.75 | Точность = 0.873, Полнота = 0.240 | F1-мера = 0.376\n",
      "Порог = 0.80 | Точность = 0.846, Полнота = 0.178 | F1-мера = 0.294\n",
      "Порог = 0.85 | Точность = 0.867, Полнота = 0.105 | F1-мера = 0.188\n",
      "Порог = 0.90 | Точность = 0.929, Полнота = 0.035 | F1-мера = 0.068\n"
     ]
    },
    {
     "data": {
      "image/png": "[encoded data removed]",
      "text/plain": [
       "<Figure size 720x720 with 1 Axes>"
      ]
     },
     "metadata": {},
     "output_type": "display_data"
    }
   ],
   "source": [
    "model = RandomForestClassifier(random_state=42, n_estimators=50, max_depth=12)\n",
    "model.fit(features_train, target_train)\n",
    "probabilities_valid = model.predict_proba(features_valid)\n",
    "probabilities_one_valid = probabilities_valid[:, 1]\n",
    "\n",
    "for threshold in np.arange(0, 0.95, 0.05):\n",
    "    predicted_valid = probabilities_one_valid > threshold\n",
    "    precision = precision_score(target_valid, predicted_valid)\n",
    "    recall = recall_score(target_valid, predicted_valid)\n",
    "    f1 = f1_score(target_valid, predicted_valid)\n",
    "    print(\"Порог = {:.2f} | Точность = {:.3f}, Полнота = {:.3f} | F1-мера = {:.3f}\".format(\n",
    "        threshold, precision, recall, f1))\n",
    "    \n",
    "precision, recall, thresholds = precision_recall_curve(target_valid, probabilities_valid[:, 1])    \n",
    "plt.figure(figsize=(10, 10))\n",
    "plt.step(recall, precision, where='post')\n",
    "plt.xlabel('Recall')\n",
    "plt.ylabel('Precision')\n",
    "plt.ylim([0.0, 1.05])\n",
    "plt.xlim([0.0, 1.0])\n",
    "plt.title('PR кривая')\n",
    "plt.show() "
   ]
  },
  {
   "cell_type": "markdown",
   "id": "c02f40f3",
   "metadata": {},
   "source": [
    "Здесь мы так же наблюдаем самый высокий показатель F1 в 0.63 с порогом 0.3."
   ]
  },
  {
   "cell_type": "markdown",
   "id": "d323364e",
   "metadata": {},
   "source": [
    "#### Логистическая регрессия"
   ]
  },
  {
   "cell_type": "code",
   "execution_count": 42,
   "id": "31842cba",
   "metadata": {},
   "outputs": [
    {
     "name": "stdout",
     "output_type": "stream",
     "text": [
      "Порог = 0.00 | Точность = 0.204, Полнота = 1.000 | F1-мера = 0.339\n",
      "Порог = 0.05 | Точность = 0.228, Полнота = 0.989 | F1-мера = 0.370\n",
      "Порог = 0.10 | Точность = 0.268, Полнота = 0.895 | F1-мера = 0.413\n",
      "Порог = 0.15 | Точность = 0.323, Полнота = 0.817 | F1-мера = 0.463\n",
      "Порог = 0.20 | Точность = 0.372, Полнота = 0.712 | F1-мера = 0.489\n",
      "Порог = 0.25 | Точность = 0.419, Полнота = 0.609 | F1-мера = 0.497\n",
      "Порог = 0.30 | Точность = 0.452, Полнота = 0.512 | F1-мера = 0.480\n",
      "Порог = 0.35 | Точность = 0.505, Полнота = 0.442 | F1-мера = 0.471\n",
      "Порог = 0.40 | Точность = 0.551, Полнота = 0.367 | F1-мера = 0.440\n",
      "Порог = 0.45 | Точность = 0.580, Полнота = 0.313 | F1-мера = 0.406\n",
      "Порог = 0.50 | Точность = 0.607, Полнота = 0.245 | F1-мера = 0.349\n",
      "Порог = 0.55 | Точность = 0.670, Полнота = 0.181 | F1-мера = 0.285\n",
      "Порог = 0.60 | Точность = 0.694, Полнота = 0.135 | F1-мера = 0.226\n",
      "Порог = 0.65 | Точность = 0.702, Полнота = 0.089 | F1-мера = 0.158\n",
      "Порог = 0.70 | Точность = 0.667, Полнота = 0.054 | F1-мера = 0.100\n",
      "Порог = 0.75 | Точность = 0.632, Полнота = 0.032 | F1-мера = 0.062\n",
      "Порог = 0.80 | Точность = 0.571, Полнота = 0.011 | F1-мера = 0.021\n",
      "Порог = 0.85 | Точность = 0.667, Полнота = 0.005 | F1-мера = 0.011\n",
      "Порог = 0.90 | Точность = 0.000, Полнота = 0.000 | F1-мера = 0.000\n"
     ]
    },
    {
     "data": {
      "image/png": "[encoded data removed]",
      "text/plain": [
       "<Figure size 720x720 with 1 Axes>"
      ]
     },
     "metadata": {},
     "output_type": "display_data"
    }
   ],
   "source": [
    "model = LogisticRegression(random_state=42, solver='liblinear')\n",
    "model.fit(features_train, target_train)\n",
    "probabilities_valid = model.predict_proba(features_valid)\n",
    "probabilities_one_valid = probabilities_valid[:, 1]\n",
    "\n",
    "for threshold in np.arange(0, 0.95, 0.05):\n",
    "    predicted_valid = probabilities_one_valid > threshold\n",
    "    precision = precision_score(target_valid, predicted_valid)\n",
    "    recall = recall_score(target_valid, predicted_valid)\n",
    "    f1 = f1_score(target_valid, predicted_valid)\n",
    "    print(\"Порог = {:.2f} | Точность = {:.3f}, Полнота = {:.3f} | F1-мера = {:.3f}\".format(\n",
    "        threshold, precision, recall, f1))\n",
    "    \n",
    "precision, recall, thresholds = precision_recall_curve(target_valid, probabilities_valid[:, 1])    \n",
    "plt.figure(figsize=(10, 10))\n",
    "plt.step(recall, precision, where='post')\n",
    "plt.xlabel('Recall')\n",
    "plt.ylabel('Precision')\n",
    "plt.ylim([0.0, 1.05])\n",
    "plt.xlim([0.0, 1.0])\n",
    "plt.title('PR кривая')\n",
    "plt.show() "
   ]
  },
  {
   "cell_type": "markdown",
   "id": "ab63187e",
   "metadata": {},
   "source": [
    "Для порога 0 полнота равна 1 - все ответы положительные. При пороге 0.9 модель перестает давать правильные ответы. Самый высокий показатель F1 наблюдаем с порогом 0.25"
   ]
  },
  {
   "cell_type": "markdown",
   "id": "3dd4a726",
   "metadata": {},
   "source": [
    "**Вывод**   \n",
    "Мы опробовали три варианта борьбы с дисбалансом: Увеличение выборки, Уменьшение выборки и Изменение порога. Самым эффективным оказался вариант с увеличеним выборки на модели Случайного леса с параметрами: *Количество деревьев: 50 Максимальная глубина: 12*. Сохраним её на будущее в переменной `best_model` что бы не запоминать параметры."
   ]
  },
  {
   "cell_type": "code",
   "execution_count": 43,
   "id": "fa99c9a5",
   "metadata": {},
   "outputs": [],
   "source": [
    "best_model = RandomForestClassifier(random_state=42, n_estimators=50, max_depth=12)"
   ]
  },
  {
   "cell_type": "markdown",
   "id": "3d5edc5f",
   "metadata": {},
   "source": [
    "## Тестирование модели и проверка на адекватность  \n",
    "Здесь мы обучим нашу модель на увеличенной выборке ещё раз, построим ROC-кривую, чтобы выявить, как сильно наша модель отличается от случайной, посчитаем площадь под ROC-кривой — AUC-ROC, посмотрим на матрицу ошибок и проверим насколько адекватно предсказывает наша модель. Все действия будем проводить на тестовой выборке."
   ]
  },
  {
   "cell_type": "markdown",
   "id": "6c23e538",
   "metadata": {},
   "source": [
    "Построим график"
   ]
  },
  {
   "cell_type": "code",
   "execution_count": 44,
   "id": "24f05d8a",
   "metadata": {},
   "outputs": [
    {
     "data": {
      "image/png": "[encoded data removed]",
      "text/plain": [
       "<Figure size 720x720 with 1 Axes>"
      ]
     },
     "metadata": {},
     "output_type": "display_data"
    }
   ],
   "source": [
    "best_model.fit(features_upsampled, target_upsampled)\n",
    "\n",
    "probabilities_test = best_model.predict_proba(features_test)\n",
    "probabilities_one_test = probabilities_test[:, 1]\n",
    "\n",
    "fpr, tpr, thresholds = roc_curve(target_test, probabilities_one_test)\n",
    "\n",
    "plt.figure(figsize=(10,10))\n",
    "plt.plot(fpr, tpr)\n",
    "plt.plot([0, 1], [0, 1], linestyle='--')\n",
    "plt.xlim([0.0, 1.0])\n",
    "plt.ylim([0.0, 1.0])\n",
    "plt.xlabel('False Positive Rate', fontsize=15)\n",
    "plt.ylabel('True Posiitive Rate', fontsize=15)\n",
    "plt.title('ROC-curve', fontsize=20)\n",
    "plt.show()"
   ]
  },
  {
   "cell_type": "markdown",
   "id": "bbf78e97",
   "metadata": {},
   "source": [
    "Выглядит не так уж и плохо для незнакомых для нашей модели данных.   \n",
    "Теперь посмотрим на метрику AUC-ROC."
   ]
  },
  {
   "cell_type": "code",
   "execution_count": 45,
   "id": "f70f97f6",
   "metadata": {},
   "outputs": [
    {
     "name": "stdout",
     "output_type": "stream",
     "text": [
      "AUC-ROC 0.8426752770941657\n"
     ]
    }
   ],
   "source": [
    "print('AUC-ROC', roc_auc_score(target_test, probabilities_one_test))"
   ]
  },
  {
   "cell_type": "markdown",
   "id": "6090a848",
   "metadata": {},
   "source": [
    "Получили достаточно хорошие результаты на тестовой выборке, AUC-ROC больше 0.5, наша модель лучше случайной.   \n",
    "Теперь посмотрим F1 score метрику"
   ]
  },
  {
   "cell_type": "code",
   "execution_count": 46,
   "id": "aca5f0e8",
   "metadata": {},
   "outputs": [
    {
     "data": {
      "text/plain": [
       "0.6084583901773534"
      ]
     },
     "execution_count": 46,
     "metadata": {},
     "output_type": "execute_result"
    }
   ],
   "source": [
    "predicted_test = best_model.predict(features_test)\n",
    "f1_score(target_test, predicted_test)"
   ]
  },
  {
   "cell_type": "markdown",
   "id": "6b0c267a",
   "metadata": {},
   "source": [
    "И здесь результат нас удовлетворяет.   \n",
    "Посмотрим на матрицу ошибок."
   ]
  },
  {
   "cell_type": "code",
   "execution_count": 47,
   "id": "b7ab36f1",
   "metadata": {},
   "outputs": [
    {
     "data": {
      "image/png": "[encoded data removed]",
      "text/plain": [
       "<Figure size 432x288 with 2 Axes>"
      ]
     },
     "metadata": {},
     "output_type": "display_data"
    }
   ],
   "source": [
    "sns.heatmap(confusion_matrix(target_test, predicted_test),annot=True,fmt='3.0f',cmap=\"ocean_r\")\n",
    "plt.title('Confusion matrix', y=1.05, size=20);"
   ]
  },
  {
   "cell_type": "markdown",
   "id": "2101e008",
   "metadata": {},
   "source": [
    "Здесь так же видим хорошие результаты. Модель чаще предсказывает правильно как 0 так и 1.   \n",
    "Посмотрим какие будут значения точности константной модели и сравним её с нашей."
   ]
  },
  {
   "cell_type": "code",
   "execution_count": 48,
   "id": "d9e9674f",
   "metadata": {},
   "outputs": [
    {
     "name": "stdout",
     "output_type": "stream",
     "text": [
      "Accuracy\n",
      "Model: 0.8422210005497526\n",
      "Constant: 0.794392523364486\n"
     ]
    }
   ],
   "source": [
    "target_const = target_test*0\n",
    "acc_const = accuracy_score(target_test, target_const)\n",
    "acc = accuracy_score(target_test, predicted_test)\n",
    "\n",
    "print(\"Accuracy\")\n",
    "print('Model:', acc)\n",
    "print(\"Constant:\", acc_const)"
   ]
  },
  {
   "cell_type": "markdown",
   "id": "66de00a9",
   "metadata": {},
   "source": [
    "И здесь наша модель выигрывает у константной.   \n",
    "Осталось только сравнить соотношение ушедших клиентов в предсказанной и тестовой выборке."
   ]
  },
  {
   "cell_type": "code",
   "execution_count": 49,
   "id": "3a77006c",
   "metadata": {},
   "outputs": [
    {
     "name": "stdout",
     "output_type": "stream",
     "text": [
      "Доля ушедших клиентов в предсказанных данных:, 19.7%\n",
      "Доля ушедших клиентов в тестовых данных: 20.6%\n"
     ]
    }
   ],
   "source": [
    "print(f'Доля ушедших клиентов в предсказанных данных:, {predicted_test.mean():.1%}')\n",
    "print(f'Доля ушедших клиентов в тестовых данных: {target_test.mean():.1%}')"
   ]
  },
  {
   "cell_type": "markdown",
   "id": "2aa6541f",
   "metadata": {},
   "source": [
    "Не плохой результат, менее 1% не удалось предсказать правильно."
   ]
  },
  {
   "cell_type": "markdown",
   "id": "4276bc58",
   "metadata": {},
   "source": [
    "## Общий вывод"
   ]
  },
  {
   "cell_type": "markdown",
   "id": "fb318967",
   "metadata": {},
   "source": [
    "Для прогнозирования оттока клиентов банка, можно использовать модель на основе алгоритма Случайного леса\n",
    "\n",
    "Нам были предоставлены исторические данные о поведении клиентов и расторжении договоров с банком. На основе этих данных мы сформировали признаки для обучения модели с целью прогнозирования оттока клиентов. Лучших результатов мы достигли с моделью на основе алгоритма Случайного леса на увеличенной обучающей выборке - **F1 мера - 0.60.**   \n",
    "Лучшие параметры Случайного леса: *Количество деревьев: 50 Максимальная глубина: 12*   \n",
    "Метрика AUC-ROC показала нам так же не плохой результат 0.84, что разумеется больше 0.5 для случайной модели. Так же наша модель лучше константной и чаще предсказывает правильно.   \n",
    "\n",
    "Оносительно качества данных следует отметить наличие пропусков в столбце `Tenure` — сколько лет человек является клиентом банка, строки с которыми нам пришлость удалить, так как заменять их на 0 или любое другое значение будет не правильным. Так же в даннах имеетсся большой дисбаланс классов: 79.6% - остались с банком, а 20.4% ушли от банка. Можно было бы достичь лучшего качества модели, если бы данных было больше и баланс классов был близок 1 к 1. Об этом так же говорят результаты F1 метрики на увеличенной выборке."
   ]
  }
 ],
 "metadata": {
  "ExecuteTimeLog": [
   {
    "duration": 2838,
    "start_time": "2022-04-28T15:25:11.699Z"
   },
   {
    "duration": 220,
    "start_time": "2022-04-28T15:25:14.545Z"
   },
   {
    "duration": 702,
    "start_time": "2022-04-28T15:25:14.768Z"
   },
   {
    "duration": 318,
    "start_time": "2022-04-28T15:25:15.474Z"
   },
   {
    "duration": 46,
    "start_time": "2022-04-28T15:25:15.795Z"
   },
   {
    "duration": 30,
    "start_time": "2022-04-28T15:25:15.844Z"
   },
   {
    "duration": 403,
    "start_time": "2022-04-28T15:25:15.877Z"
   },
   {
    "duration": 5003,
    "start_time": "2022-04-28T15:25:16.284Z"
   },
   {
    "duration": 13,
    "start_time": "2022-04-28T15:25:21.290Z"
   },
   {
    "duration": 39,
    "start_time": "2022-04-28T15:25:21.309Z"
   },
   {
    "duration": 55,
    "start_time": "2022-04-28T15:25:21.353Z"
   },
   {
    "duration": 24,
    "start_time": "2022-04-28T15:25:21.425Z"
   },
   {
    "duration": 8,
    "start_time": "2022-04-28T15:25:21.453Z"
   },
   {
    "duration": 10,
    "start_time": "2022-04-28T15:25:21.465Z"
   },
   {
    "duration": 93,
    "start_time": "2022-04-28T15:25:21.480Z"
   },
   {
    "duration": 56,
    "start_time": "2022-04-28T15:25:21.576Z"
   },
   {
    "duration": 821,
    "start_time": "2022-04-28T15:25:21.635Z"
   },
   {
    "duration": 291209,
    "start_time": "2022-04-28T15:25:22.459Z"
   },
   {
    "duration": 82,
    "start_time": "2022-04-28T15:30:13.671Z"
   },
   {
    "duration": 197,
    "start_time": "2022-04-28T15:30:13.835Z"
   },
   {
    "duration": 265,
    "start_time": "2022-04-28T15:30:14.035Z"
   },
   {
    "duration": 44,
    "start_time": "2022-04-28T15:30:14.303Z"
   },
   {
    "duration": 47,
    "start_time": "2022-04-28T15:30:14.349Z"
   },
   {
    "duration": 94,
    "start_time": "2022-04-28T15:30:14.399Z"
   },
   {
    "duration": 889,
    "start_time": "2022-04-28T15:30:14.496Z"
   },
   {
    "duration": 139,
    "start_time": "2022-04-28T15:30:15.388Z"
   },
   {
    "duration": 118,
    "start_time": "2022-04-28T15:30:15.530Z"
   },
   {
    "duration": 42,
    "start_time": "2022-04-28T15:30:15.653Z"
   },
   {
    "duration": 333,
    "start_time": "2022-04-28T15:30:15.697Z"
   },
   {
    "duration": 92,
    "start_time": "2022-04-28T15:30:16.033Z"
   },
   {
    "duration": 541,
    "start_time": "2022-04-28T15:30:16.134Z"
   },
   {
    "duration": 988,
    "start_time": "2022-04-28T15:30:16.678Z"
   },
   {
    "duration": 656,
    "start_time": "2022-04-28T15:30:17.669Z"
   },
   {
    "duration": 11,
    "start_time": "2022-04-28T15:30:18.328Z"
   },
   {
    "duration": 987,
    "start_time": "2022-04-28T15:30:18.342Z"
   },
   {
    "duration": 10,
    "start_time": "2022-04-28T15:30:19.333Z"
   },
   {
    "duration": 44,
    "start_time": "2022-04-28T15:30:19.347Z"
   },
   {
    "duration": 375,
    "start_time": "2022-04-28T15:30:19.394Z"
   },
   {
    "duration": 9,
    "start_time": "2022-04-28T15:30:19.772Z"
   },
   {
    "duration": 11,
    "start_time": "2022-04-28T15:30:19.784Z"
   }
  ],
  "kernelspec": {
   "display_name": "Python 3 (ipykernel)",
   "language": "python",
   "name": "python3"
  },
  "language_info": {
   "codemirror_mode": {
    "name": "ipython",
    "version": 3
   },
   "file_extension": ".py",
   "mimetype": "text/x-python",
   "name": "python",
   "nbconvert_exporter": "python",
   "pygments_lexer": "ipython3",
   "version": "3.7.8"
  },
  "toc": {
   "base_numbering": 1,
   "nav_menu": {},
   "number_sections": true,
   "sideBar": true,
   "skip_h1_title": true,
   "title_cell": "Содержание",
   "title_sidebar": "Contents",
   "toc_cell": true,
   "toc_position": {
    "height": "calc(100% - 180px)",
    "left": "10px",
    "top": "150px",
    "width": "384px"
   },
   "toc_section_display": true,
   "toc_window_display": true
  }
 },
 "nbformat": 4,
 "nbformat_minor": 5
}
