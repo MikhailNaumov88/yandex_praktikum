{
 "cells": [
  {
   "cell_type": "markdown",
   "id": "5593db2d",
   "metadata": {},
   "source": [
    "# Определение перспективного тарифа для телеком-компании"
   ]
  },
  {
   "cell_type": "markdown",
   "id": "1f400e4d",
   "metadata": {},
   "source": [
    "В данном проекте мы определим перспективный тариыфный план для компании \"Мегалайн\".   \n",
    "Клиентам предлагают два тарифных плана: «Смарт» и «Ультра». Чтобы скорректировать рекламный бюджет, коммерческий департамент хочет понять, какой тариф приносит больше денег.   \n",
    "Нам предстоит сделать предварительный анализ тарифов на небольшой выборке клиентов. В нашем распоряжении данные 500 пользователей «Мегалайна»: кто они, откуда, каким тарифом пользуются, сколько звонков и сообщений каждый отправил за 2018 год. Проанализируем поведение клиентов и сделаем вывод — какой тариф лучше.\n",
    "\n",
    "**Описание тарифов**  \n",
    "\n",
    "****Тариф «Смарт»***   \n",
    " 1. Ежемесячная плата: 550 рублей\n",
    " 2. Включено 500 минут разговора, 50 сообщений и 15 Гб интернет-трафика\n",
    " 3. Стоимость услуг сверх тарифного пакета:\n",
    "     - минута разговора: 3 рубля\n",
    "     - сообщение: 3 рубля\n",
    "     - 1 Гб интернет-трафика: 200 рублей   \n",
    "     \n",
    "***Тариф «Ультра»***\n",
    " 1. Ежемесячная плата: 1950 рублей\n",
    " 2. Включено 3000 минут разговора, 1000 сообщений и 30 Гб интернет-трафика\n",
    " 3. Стоимость услуг сверх тарифного пакета:\n",
    "     - минута разговора: 1 рубль\n",
    "     - сообщение: 1 рубль\n",
    "     - 1 Гб интернет-трафика: 150 рублей\n",
    "     \n",
    "`Примечание:\n",
    "«Мегалайн» всегда округляет секунды до минут, а мегабайты — до гигабайт. Каждый звонок округляется отдельно: даже если он длился всего 1 секунду, будет засчитан как 1 минута.\n",
    "Для веб-трафика отдельные сессии не считаются. Вместо этого общая сумма за месяц округляется в бо́льшую сторону. Если абонент использует 1025 мегабайт в этом месяце, с него возьмут плату за 2 гигабайта.`\n",
    "\n",
    "**Ход исследования**\n",
    "\n",
    "Входные данные — данные 500 пользователей \"Мегалайн\". `users` - информация о пользователях, `calls` - информация о звонках, `messages` - информация о сообщениях, `internet` - информация об интернет-сессиях, `tariffs` - информация о тарифах. О качестве данных ничего не известно. Поэтому перед исследованием понадобится обзор данных.\n",
    "\n",
    "*Описание данных:*\n",
    "\n",
    "*Таблица users (информация о пользователях):*\n",
    "\n",
    "`user_id` — уникальный идентификатор пользователя   \n",
    "`first_name` — имя пользователя   \n",
    "`last_name` — фамилия пользователя   \n",
    "`age` — возраст пользователя (годы)   \n",
    "`reg_date` — дата подключения тарифа (день, месяц, год)   \n",
    "`churn_date` — дата прекращения пользования тарифом (если значение пропущено, то тариф ещё действовал на момент выгрузки данных)   \n",
    "`city` — город проживания пользователя   \n",
    "`tariff` — название тарифного плана   \n",
    "\n",
    "*Таблица calls (информация о звонках):*\n",
    "\n",
    "`id` — уникальный номер звонка   \n",
    "`call_date` — дата звонка   \n",
    "`duration` — длительность звонка в минутах   \n",
    "`user_id` — идентификатор пользователя, сделавшего звонок   \n",
    "\n",
    "*Таблица messages (информация о сообщениях):*\n",
    "\n",
    "`id` — уникальный номер сообщения   \n",
    "`message_date` — дата сообщения   \n",
    "`user_id` — идентификатор пользователя, отправившего сообщение   \n",
    "\n",
    "*Таблица internet (информация об интернет-сессиях):*\n",
    "\n",
    "`id` — уникальный номер сессии   \n",
    "`mb_used` — объём потраченного за сессию интернет-трафика (в мегабайтах)   \n",
    "`session_date` — дата интернет-сессии   \n",
    "`user_id `— идентификатор пользователя   \n",
    "\n",
    "*Таблица tariffs (информация о тарифах):*\n",
    "\n",
    "`tariff_name` — название тарифа   \n",
    "`rub_monthly_fee` — ежемесячная абонентская плата в рублях   \n",
    "`minutes_included` — количество минут разговора в месяц, включённых в абонентскую плату   \n",
    "`messages_included` — количество сообщений в месяц, включённых в абонентскую плату   \n",
    "`mb_per_month_included` — объём интернет-трафика, включённого в абонентскую плату (в мегабайтах)   \n",
    "`rub_per_minute` — стоимость минуты разговора сверх тарифного пакета (например, если в тарифе 100 минут разговора в месяц, то со 101 минуты будет взиматься плата)   \n",
    "`rub_per_message` — стоимость отправки сообщения сверх тарифного пакета   \n",
    "`rub_per_gb` — стоимость дополнительного гигабайта интернет-трафика сверх тарифного пакета (1 гигабайт = 1024 мегабайта)   \n",
    "\n",
    "Исследование пройдёт в четыре основных этапа:\n",
    "\n",
    "1. Обзор данных.\n",
    "2. Предобработка данных.\n",
    "3. Анализ данных.\n",
    "4. Проверка гипотез."
   ]
  },
  {
   "cell_type": "markdown",
   "id": "a20c83e8",
   "metadata": {
    "toc": true
   },
   "source": [
    "<h1>Содержание<span class=\"tocSkip\"></span></h1>\n",
    "<div class=\"toc\"><ul class=\"toc-item\"><li><span><a href=\"#Обзор-данных\" data-toc-modified-id=\"Обзор-данных-1\"><span class=\"toc-item-num\">1&nbsp;&nbsp;</span>Обзор данных</a></span></li><li><span><a href=\"#Предобработка-данных\" data-toc-modified-id=\"Предобработка-данных-2\"><span class=\"toc-item-num\">2&nbsp;&nbsp;</span>Предобработка данных</a></span><ul class=\"toc-item\"><li><span><a href=\"#Приведение-данных-к-нужному-типу\" data-toc-modified-id=\"Приведение-данных-к-нужному-типу-2.1\"><span class=\"toc-item-num\">2.1&nbsp;&nbsp;</span>Приведение данных к нужному типу</a></span></li><li><span><a href=\"#Поиск-и-удаление-ошибок-в-данных\" data-toc-modified-id=\"Поиск-и-удаление-ошибок-в-данных-2.2\"><span class=\"toc-item-num\">2.2&nbsp;&nbsp;</span>Поиск и удаление ошибок в данных</a></span></li><li><span><a href=\"#Расчёты-по-каждому-пользователю\" data-toc-modified-id=\"Расчёты-по-каждому-пользователю-2.3\"><span class=\"toc-item-num\">2.3&nbsp;&nbsp;</span>Расчёты по каждому пользователю</a></span><ul class=\"toc-item\"><li><span><a href=\"#Количество-сделанных-звонков-и-израсходованных-минут-разговора-по-месяцам\" data-toc-modified-id=\"Количество-сделанных-звонков-и-израсходованных-минут-разговора-по-месяцам-2.3.1\"><span class=\"toc-item-num\">2.3.1&nbsp;&nbsp;</span>Количество сделанных звонков и израсходованных минут разговора по месяцам</a></span></li><li><span><a href=\"#Количество-отправленных-сообщений-по-месяцам\" data-toc-modified-id=\"Количество-отправленных-сообщений-по-месяцам-2.3.2\"><span class=\"toc-item-num\">2.3.2&nbsp;&nbsp;</span>Количество отправленных сообщений по месяцам</a></span></li><li><span><a href=\"#Объем-израсходованного-интернет-трафика-по-месяцам\" data-toc-modified-id=\"Объем-израсходованного-интернет-трафика-по-месяцам-2.3.3\"><span class=\"toc-item-num\">2.3.3&nbsp;&nbsp;</span>Объем израсходованного интернет-трафика по месяцам</a></span></li><li><span><a href=\"#Помесячная-выручка-с-каждого-пользователя\" data-toc-modified-id=\"Помесячная-выручка-с-каждого-пользователя-2.3.4\"><span class=\"toc-item-num\">2.3.4&nbsp;&nbsp;</span>Помесячная выручка с каждого пользователя</a></span></li></ul></li></ul></li><li><span><a href=\"#Анализ-данных\" data-toc-modified-id=\"Анализ-данных-3\"><span class=\"toc-item-num\">3&nbsp;&nbsp;</span>Анализ данных</a></span></li><li><span><a href=\"#Проверка-гипотез\" data-toc-modified-id=\"Проверка-гипотез-4\"><span class=\"toc-item-num\">4&nbsp;&nbsp;</span>Проверка гипотез</a></span><ul class=\"toc-item\"><li><span><a href=\"#Средняя-выручка-пользователей-тарифов-«Ультра»-и-«Смарт»-различаются\" data-toc-modified-id=\"Средняя-выручка-пользователей-тарифов-«Ультра»-и-«Смарт»-различаются-4.1\"><span class=\"toc-item-num\">4.1&nbsp;&nbsp;</span>Средняя выручка пользователей тарифов «Ультра» и «Смарт» различаются</a></span></li><li><span><a href=\"#Средняя-выручка-пользователей-из-Москвы-отличается-от-выручки-пользователей-из-других-регионов\" data-toc-modified-id=\"Средняя-выручка-пользователей-из-Москвы-отличается-от-выручки-пользователей-из-других-регионов-4.2\"><span class=\"toc-item-num\">4.2&nbsp;&nbsp;</span>Средняя выручка пользователей из Москвы отличается от выручки пользователей из других регионов</a></span></li></ul></li><li><span><a href=\"#Общий-вывод\" data-toc-modified-id=\"Общий-вывод-5\"><span class=\"toc-item-num\">5&nbsp;&nbsp;</span>Общий вывод</a></span></li></ul></div>"
   ]
  },
  {
   "cell_type": "markdown",
   "id": "3ae067bd",
   "metadata": {},
   "source": [
    "## Обзор данных   \n",
    "Загрузим необходимые нам библиотеки"
   ]
  },
  {
   "cell_type": "code",
   "execution_count": 1,
   "id": "7509f889",
   "metadata": {},
   "outputs": [
    {
     "name": "stdout",
     "output_type": "stream",
     "text": [
      "Setup complete\n"
     ]
    }
   ],
   "source": [
    "import pandas as pd\n",
    "import matplotlib.pyplot as plt\n",
    "import seaborn as sns\n",
    "import numpy as np\n",
    "import math as mt\n",
    "from scipy import stats as st\n",
    "pd.options.display.float_format = '{:,.2f}'.format\n",
    "print('Setup complete')"
   ]
  },
  {
   "cell_type": "markdown",
   "id": "c69551df",
   "metadata": {},
   "source": [
    "Загрузим данные и посмотрим на информацию о них."
   ]
  },
  {
   "cell_type": "code",
   "execution_count": 2,
   "id": "59349620",
   "metadata": {},
   "outputs": [
    {
     "name": "stdout",
     "output_type": "stream",
     "text": [
      "<class 'pandas.core.frame.DataFrame'>\n",
      "RangeIndex: 202607 entries, 0 to 202606\n",
      "Data columns (total 4 columns):\n",
      "id           202607 non-null object\n",
      "call_date    202607 non-null object\n",
      "duration     202607 non-null float64\n",
      "user_id      202607 non-null int64\n",
      "dtypes: float64(1), int64(1), object(2)\n",
      "memory usage: 6.2+ MB\n"
     ]
    },
    {
     "data": {
      "text/plain": [
       "None"
      ]
     },
     "metadata": {},
     "output_type": "display_data"
    },
    {
     "name": "stdout",
     "output_type": "stream",
     "text": [
      "<class 'pandas.core.frame.DataFrame'>\n",
      "RangeIndex: 149396 entries, 0 to 149395\n",
      "Data columns (total 5 columns):\n",
      "Unnamed: 0      149396 non-null int64\n",
      "id              149396 non-null object\n",
      "mb_used         149396 non-null float64\n",
      "session_date    149396 non-null object\n",
      "user_id         149396 non-null int64\n",
      "dtypes: float64(1), int64(2), object(2)\n",
      "memory usage: 5.7+ MB\n"
     ]
    },
    {
     "data": {
      "text/plain": [
       "None"
      ]
     },
     "metadata": {},
     "output_type": "display_data"
    },
    {
     "name": "stdout",
     "output_type": "stream",
     "text": [
      "<class 'pandas.core.frame.DataFrame'>\n",
      "RangeIndex: 123036 entries, 0 to 123035\n",
      "Data columns (total 3 columns):\n",
      "id              123036 non-null object\n",
      "message_date    123036 non-null object\n",
      "user_id         123036 non-null int64\n",
      "dtypes: int64(1), object(2)\n",
      "memory usage: 2.8+ MB\n"
     ]
    },
    {
     "data": {
      "text/plain": [
       "None"
      ]
     },
     "metadata": {},
     "output_type": "display_data"
    },
    {
     "name": "stdout",
     "output_type": "stream",
     "text": [
      "<class 'pandas.core.frame.DataFrame'>\n",
      "RangeIndex: 500 entries, 0 to 499\n",
      "Data columns (total 8 columns):\n",
      "user_id       500 non-null int64\n",
      "age           500 non-null int64\n",
      "churn_date    38 non-null object\n",
      "city          500 non-null object\n",
      "first_name    500 non-null object\n",
      "last_name     500 non-null object\n",
      "reg_date      500 non-null object\n",
      "tariff        500 non-null object\n",
      "dtypes: int64(2), object(6)\n",
      "memory usage: 31.4+ KB\n"
     ]
    },
    {
     "data": {
      "text/plain": [
       "None"
      ]
     },
     "metadata": {},
     "output_type": "display_data"
    },
    {
     "name": "stdout",
     "output_type": "stream",
     "text": [
      "<class 'pandas.core.frame.DataFrame'>\n",
      "RangeIndex: 2 entries, 0 to 1\n",
      "Data columns (total 8 columns):\n",
      "messages_included        2 non-null int64\n",
      "mb_per_month_included    2 non-null int64\n",
      "minutes_included         2 non-null int64\n",
      "rub_monthly_fee          2 non-null int64\n",
      "rub_per_gb               2 non-null int64\n",
      "rub_per_message          2 non-null int64\n",
      "rub_per_minute           2 non-null int64\n",
      "tariff_name              2 non-null object\n",
      "dtypes: int64(7), object(1)\n",
      "memory usage: 256.0+ bytes\n"
     ]
    },
    {
     "data": {
      "text/plain": [
       "None"
      ]
     },
     "metadata": {},
     "output_type": "display_data"
    }
   ],
   "source": [
    "try:\n",
    "    calls = pd.read_csv('/datasets/calls.csv')\n",
    "    internet = pd.read_csv('/datasets/internet.csv')\n",
    "    messages = pd.read_csv('/datasets/messages.csv')\n",
    "    tariffs = pd.read_csv('/datasets/tariffs.csv')\n",
    "    users = pd.read_csv('/datasets/users.csv')\n",
    "except:\n",
    "    calls = pd.read_csv('datasets/calls.csv')\n",
    "    internet = pd.read_csv('datasets/internet.csv')\n",
    "    messages = pd.read_csv('datasets/messages.csv')\n",
    "    tariffs = pd.read_csv('datasets/tariffs.csv')\n",
    "    users = pd.read_csv('datasets/users.csv')\n",
    "\n",
    "#for data in [calls, internet, messages, users, tariffs]: print(data.info(), end='\\n\\n')\n",
    "for data in [calls, internet, messages, users, tariffs]: display(data.info())"
   ]
  },
  {
   "cell_type": "markdown",
   "id": "0aacf2f5",
   "metadata": {},
   "source": [
    "Здесь можно сделать первые выводы о данных.   \n",
    "\n",
    "Таблица calls (информация о звонках):   \n",
    "`call_date` - будем переводить в формат `datetime`   \n",
    "\n",
    "Таблица internet (информация об интернет-сессиях):      \n",
    "`session_date` - будем переводить в формат `datetime`  \n",
    "`Unnamed: 0` - неизвестный столбец с данными, о которых нет описания. После просмотра будем принимать решение об удалении.   \n",
    "\n",
    "Таблица messages (информация о сообщениях):   \n",
    "`message_date` - будем переводить в формат `datetime`   \n",
    "\n",
    "Таблица users (информация о пользователях):   \n",
    "`churn_date` - будем переводить в формат `datetime`   \n",
    "`reg_date` - будем переводить в формат `datetime` "
   ]
  },
  {
   "cell_type": "markdown",
   "id": "2ab37088",
   "metadata": {},
   "source": [
    "Проверим наличие дубликатов в каждой таблице."
   ]
  },
  {
   "cell_type": "code",
   "execution_count": 3,
   "id": "029b1946",
   "metadata": {},
   "outputs": [
    {
     "name": "stdout",
     "output_type": "stream",
     "text": [
      "0\n",
      "0\n",
      "0\n",
      "0\n",
      "0\n"
     ]
    }
   ],
   "source": [
    "for data in [calls, internet, messages, users, tariffs]: print(data.duplicated().sum())"
   ]
  },
  {
   "cell_type": "raw",
   "id": "d42a5533",
   "metadata": {},
   "source": [
    "Дубликаты не были найдены."
   ]
  },
  {
   "cell_type": "markdown",
   "id": "c4bfef6b",
   "metadata": {},
   "source": [
    "## Предобработка данных"
   ]
  },
  {
   "cell_type": "markdown",
   "id": "6f05d9cf",
   "metadata": {},
   "source": [
    "### Приведение данных к нужному типу   \n",
    "Заменим тип данных в датах и удалим столбец \"Unnamed: 0\" из таблицы internet"
   ]
  },
  {
   "cell_type": "code",
   "execution_count": 4,
   "id": "2814978e",
   "metadata": {},
   "outputs": [],
   "source": [
    "calls['call_date'] = pd.to_datetime(calls['call_date'], format='%Y-%m-%d')\n",
    "internet['session_date'] = pd.to_datetime(internet['session_date'], format='%Y-%m-%d')\n",
    "try:\n",
    "    internet.drop('Unnamed: 0', axis=1, inplace=True)\n",
    "except:\n",
    "    print('Run all cells, column \"Unnamed: 0\" has been deleted before')\n",
    "\n",
    "messages['message_date'] = pd.to_datetime(messages['message_date'], format='%Y-%m-%d')\n",
    "users['churn_date'] = pd.to_datetime(users['churn_date'], format='%Y-%m-%d')\n",
    "users['reg_date'] = pd.to_datetime(users['reg_date'], format='%Y-%m-%d')"
   ]
  },
  {
   "cell_type": "markdown",
   "id": "e94b5a15",
   "metadata": {},
   "source": [
    "### Поиск и удаление ошибок в данных   \n",
    "Округлим значения потраченных минут в большую сторону через функцию."
   ]
  },
  {
   "cell_type": "code",
   "execution_count": 5,
   "id": "5474e5ff",
   "metadata": {},
   "outputs": [],
   "source": [
    "#calls['duration'] = calls['duration'].apply(np.ceil)\n",
    "#internet['mb_used'] = internet['mb_used'].apply(np.ceil)\n",
    "\n",
    "def round_values(a):\n",
    "    return np.ceil(a)\n",
    "\n",
    "calls['duration'] = round_values(calls['duration'])"
   ]
  },
  {
   "cell_type": "markdown",
   "id": "1da9b6d8",
   "metadata": {},
   "source": [
    "Нулевые значения в полях: длительность звонка или объем интернет сессии не повлияют на наше исследование, так как единственный параметр, который будет изменяться это количество услуг, предоставляемых компанией( например, от таких нулевых значений изменится общее количество звонков) на другие параметры они не повлияют, так как общую статистику мы получаем путем сложения параметров для конкретного абонента в определенный месяц. Количество звонков мы нигде не исследуем, так как нам интереснее не частота, а длительность.   \n",
    "Так как данные значения влияют только на количество звонков, которые мы не исследуем, то дополнительно исключать их из выборки или изменять их значение не имеет смысла."
   ]
  },
  {
   "cell_type": "markdown",
   "id": "5b17df19",
   "metadata": {},
   "source": [
    "### Расчёты по каждому пользователю   \n",
    "Для начала расчётов добавим столбцы с месяцем в данные со звонками, сообщениями и интернет-сессиями."
   ]
  },
  {
   "cell_type": "code",
   "execution_count": 6,
   "id": "d967b3db",
   "metadata": {},
   "outputs": [],
   "source": [
    "internet['month'] = internet['session_date'].dt.month\n",
    "calls['month'] = calls['call_date'].dt.month\n",
    "messages['month'] = messages['message_date'].dt.month"
   ]
  },
  {
   "cell_type": "markdown",
   "id": "48cea28a",
   "metadata": {},
   "source": [
    "Найдем для каждого пользователя:   \n",
    "- количество сделанных звонков и израсходованных минут разговора по месяцам;   \n",
    "- количество отправленных сообщений по месяцам;   \n",
    "- объем израсходованного интернет-трафика по месяцам;   \n",
    "- помесячную выручку с каждого пользователя (вычтите бесплатный лимит из суммарного количества звонков, сообщений и интернет-трафика; остаток умножьте на значение из тарифного плана; прибавьте абонентскую плату, соответствующую тарифному плану).   \n",
    "\n",
    "Для подсчёта значений создадим столбец с уникальным именем пользователя, из значений фамилии, имени и города"
   ]
  },
  {
   "cell_type": "code",
   "execution_count": 7,
   "id": "ae2ee77b",
   "metadata": {},
   "outputs": [],
   "source": [
    "users['uniq_name'] = users['last_name'] + users['first_name'] + users['city']"
   ]
  },
  {
   "cell_type": "markdown",
   "id": "72a96bf3",
   "metadata": {},
   "source": [
    "#### Количество сделанных звонков и израсходованных минут разговора по месяцам   \n",
    "Для подсчёта соединим данные со звонками с данными пользователей и создадим сводную по пользователям и месяцам"
   ]
  },
  {
   "cell_type": "code",
   "execution_count": 8,
   "id": "3cc14c86",
   "metadata": {},
   "outputs": [
    {
     "data": {
      "text/html": [
       "<div>\n",
       "<style scoped>\n",
       "    .dataframe tbody tr th:only-of-type {\n",
       "        vertical-align: middle;\n",
       "    }\n",
       "\n",
       "    .dataframe tbody tr th {\n",
       "        vertical-align: top;\n",
       "    }\n",
       "\n",
       "    .dataframe thead th {\n",
       "        text-align: right;\n",
       "    }\n",
       "</style>\n",
       "<table border=\"1\" class=\"dataframe\">\n",
       "  <thead>\n",
       "    <tr style=\"text-align: right;\">\n",
       "      <th></th>\n",
       "      <th></th>\n",
       "      <th>duration</th>\n",
       "      <th>calls</th>\n",
       "    </tr>\n",
       "    <tr>\n",
       "      <th>user_id</th>\n",
       "      <th>month</th>\n",
       "      <th></th>\n",
       "      <th></th>\n",
       "    </tr>\n",
       "  </thead>\n",
       "  <tbody>\n",
       "    <tr>\n",
       "      <td rowspan=\"5\" valign=\"top\">1000</td>\n",
       "      <td>5</td>\n",
       "      <td>159.00</td>\n",
       "      <td>22</td>\n",
       "    </tr>\n",
       "    <tr>\n",
       "      <td>6</td>\n",
       "      <td>172.00</td>\n",
       "      <td>43</td>\n",
       "    </tr>\n",
       "    <tr>\n",
       "      <td>7</td>\n",
       "      <td>340.00</td>\n",
       "      <td>47</td>\n",
       "    </tr>\n",
       "    <tr>\n",
       "      <td>8</td>\n",
       "      <td>408.00</td>\n",
       "      <td>52</td>\n",
       "    </tr>\n",
       "    <tr>\n",
       "      <td>9</td>\n",
       "      <td>466.00</td>\n",
       "      <td>58</td>\n",
       "    </tr>\n",
       "    <tr>\n",
       "      <td>...</td>\n",
       "      <td>...</td>\n",
       "      <td>...</td>\n",
       "      <td>...</td>\n",
       "    </tr>\n",
       "    <tr>\n",
       "      <td>1498</td>\n",
       "      <td>10</td>\n",
       "      <td>247.00</td>\n",
       "      <td>41</td>\n",
       "    </tr>\n",
       "    <tr>\n",
       "      <td rowspan=\"4\" valign=\"top\">1499</td>\n",
       "      <td>9</td>\n",
       "      <td>70.00</td>\n",
       "      <td>9</td>\n",
       "    </tr>\n",
       "    <tr>\n",
       "      <td>10</td>\n",
       "      <td>449.00</td>\n",
       "      <td>68</td>\n",
       "    </tr>\n",
       "    <tr>\n",
       "      <td>11</td>\n",
       "      <td>612.00</td>\n",
       "      <td>74</td>\n",
       "    </tr>\n",
       "    <tr>\n",
       "      <td>12</td>\n",
       "      <td>492.00</td>\n",
       "      <td>69</td>\n",
       "    </tr>\n",
       "  </tbody>\n",
       "</table>\n",
       "<p>3174 rows × 2 columns</p>\n",
       "</div>"
      ],
      "text/plain": [
       "               duration  calls\n",
       "user_id month                 \n",
       "1000    5        159.00     22\n",
       "        6        172.00     43\n",
       "        7        340.00     47\n",
       "        8        408.00     52\n",
       "        9        466.00     58\n",
       "...                 ...    ...\n",
       "1498    10       247.00     41\n",
       "1499    9         70.00      9\n",
       "        10       449.00     68\n",
       "        11       612.00     74\n",
       "        12       492.00     69\n",
       "\n",
       "[3174 rows x 2 columns]"
      ]
     },
     "execution_count": 8,
     "metadata": {},
     "output_type": "execute_result"
    }
   ],
   "source": [
    "calls_pivot = (\n",
    "    calls\n",
    "    .merge(users, on='user_id', how='inner')\n",
    "    .pivot_table(\n",
    "        values=['uniq_name', 'duration'], \n",
    "        index=['user_id', 'month'], \n",
    "        aggfunc={'uniq_name': 'count', 'duration': 'sum'}\n",
    "    )\n",
    ")\n",
    "calls_pivot.columns = ['duration', 'calls']\n",
    "calls_pivot"
   ]
  },
  {
   "cell_type": "markdown",
   "id": "a9625646",
   "metadata": {},
   "source": [
    "#### Количество отправленных сообщений по месяцам   \n",
    "Здесь сделаем те же самые действия для сообщений."
   ]
  },
  {
   "cell_type": "code",
   "execution_count": 9,
   "id": "3a15303a",
   "metadata": {},
   "outputs": [
    {
     "data": {
      "text/html": [
       "<div>\n",
       "<style scoped>\n",
       "    .dataframe tbody tr th:only-of-type {\n",
       "        vertical-align: middle;\n",
       "    }\n",
       "\n",
       "    .dataframe tbody tr th {\n",
       "        vertical-align: top;\n",
       "    }\n",
       "\n",
       "    .dataframe thead th {\n",
       "        text-align: right;\n",
       "    }\n",
       "</style>\n",
       "<table border=\"1\" class=\"dataframe\">\n",
       "  <thead>\n",
       "    <tr style=\"text-align: right;\">\n",
       "      <th></th>\n",
       "      <th></th>\n",
       "      <th>messages</th>\n",
       "    </tr>\n",
       "    <tr>\n",
       "      <th>user_id</th>\n",
       "      <th>month</th>\n",
       "      <th></th>\n",
       "    </tr>\n",
       "  </thead>\n",
       "  <tbody>\n",
       "    <tr>\n",
       "      <td rowspan=\"5\" valign=\"top\">1000</td>\n",
       "      <td>5</td>\n",
       "      <td>22</td>\n",
       "    </tr>\n",
       "    <tr>\n",
       "      <td>6</td>\n",
       "      <td>60</td>\n",
       "    </tr>\n",
       "    <tr>\n",
       "      <td>7</td>\n",
       "      <td>75</td>\n",
       "    </tr>\n",
       "    <tr>\n",
       "      <td>8</td>\n",
       "      <td>81</td>\n",
       "    </tr>\n",
       "    <tr>\n",
       "      <td>9</td>\n",
       "      <td>57</td>\n",
       "    </tr>\n",
       "    <tr>\n",
       "      <td>...</td>\n",
       "      <td>...</td>\n",
       "      <td>...</td>\n",
       "    </tr>\n",
       "    <tr>\n",
       "      <td>1498</td>\n",
       "      <td>10</td>\n",
       "      <td>42</td>\n",
       "    </tr>\n",
       "    <tr>\n",
       "      <td rowspan=\"4\" valign=\"top\">1499</td>\n",
       "      <td>9</td>\n",
       "      <td>11</td>\n",
       "    </tr>\n",
       "    <tr>\n",
       "      <td>10</td>\n",
       "      <td>48</td>\n",
       "    </tr>\n",
       "    <tr>\n",
       "      <td>11</td>\n",
       "      <td>59</td>\n",
       "    </tr>\n",
       "    <tr>\n",
       "      <td>12</td>\n",
       "      <td>66</td>\n",
       "    </tr>\n",
       "  </tbody>\n",
       "</table>\n",
       "<p>2717 rows × 1 columns</p>\n",
       "</div>"
      ],
      "text/plain": [
       "               messages\n",
       "user_id month          \n",
       "1000    5            22\n",
       "        6            60\n",
       "        7            75\n",
       "        8            81\n",
       "        9            57\n",
       "...                 ...\n",
       "1498    10           42\n",
       "1499    9            11\n",
       "        10           48\n",
       "        11           59\n",
       "        12           66\n",
       "\n",
       "[2717 rows x 1 columns]"
      ]
     },
     "execution_count": 9,
     "metadata": {},
     "output_type": "execute_result"
    }
   ],
   "source": [
    "messages_pivot = (\n",
    "    messages\n",
    "    .merge(users, on='user_id', how='inner')\n",
    "    .pivot_table(\n",
    "        values='uniq_name', \n",
    "        index=['user_id', 'month'], \n",
    "        aggfunc={'uniq_name': 'count'}\n",
    "    )\n",
    ")\n",
    "messages_pivot.columns = ['messages']\n",
    "messages_pivot"
   ]
  },
  {
   "cell_type": "markdown",
   "id": "b9f44be3",
   "metadata": {},
   "source": [
    "#### Объем израсходованного интернет-трафика по месяцам"
   ]
  },
  {
   "cell_type": "code",
   "execution_count": 10,
   "id": "cad1a89b",
   "metadata": {},
   "outputs": [
    {
     "data": {
      "text/html": [
       "<div>\n",
       "<style scoped>\n",
       "    .dataframe tbody tr th:only-of-type {\n",
       "        vertical-align: middle;\n",
       "    }\n",
       "\n",
       "    .dataframe tbody tr th {\n",
       "        vertical-align: top;\n",
       "    }\n",
       "\n",
       "    .dataframe thead th {\n",
       "        text-align: right;\n",
       "    }\n",
       "</style>\n",
       "<table border=\"1\" class=\"dataframe\">\n",
       "  <thead>\n",
       "    <tr style=\"text-align: right;\">\n",
       "      <th></th>\n",
       "      <th></th>\n",
       "      <th>mb_used</th>\n",
       "    </tr>\n",
       "    <tr>\n",
       "      <th>user_id</th>\n",
       "      <th>month</th>\n",
       "      <th></th>\n",
       "    </tr>\n",
       "  </thead>\n",
       "  <tbody>\n",
       "    <tr>\n",
       "      <td rowspan=\"5\" valign=\"top\">1000</td>\n",
       "      <td>5.00</td>\n",
       "      <td>2,253.49</td>\n",
       "    </tr>\n",
       "    <tr>\n",
       "      <td>6.00</td>\n",
       "      <td>23,233.77</td>\n",
       "    </tr>\n",
       "    <tr>\n",
       "      <td>7.00</td>\n",
       "      <td>14,003.64</td>\n",
       "    </tr>\n",
       "    <tr>\n",
       "      <td>8.00</td>\n",
       "      <td>14,055.93</td>\n",
       "    </tr>\n",
       "    <tr>\n",
       "      <td>9.00</td>\n",
       "      <td>14,568.91</td>\n",
       "    </tr>\n",
       "    <tr>\n",
       "      <td>...</td>\n",
       "      <td>...</td>\n",
       "      <td>...</td>\n",
       "    </tr>\n",
       "    <tr>\n",
       "      <td>1498</td>\n",
       "      <td>10.00</td>\n",
       "      <td>20,579.36</td>\n",
       "    </tr>\n",
       "    <tr>\n",
       "      <td rowspan=\"4\" valign=\"top\">1499</td>\n",
       "      <td>9.00</td>\n",
       "      <td>1,845.75</td>\n",
       "    </tr>\n",
       "    <tr>\n",
       "      <td>10.00</td>\n",
       "      <td>17,788.51</td>\n",
       "    </tr>\n",
       "    <tr>\n",
       "      <td>11.00</td>\n",
       "      <td>17,963.31</td>\n",
       "    </tr>\n",
       "    <tr>\n",
       "      <td>12.00</td>\n",
       "      <td>13,055.58</td>\n",
       "    </tr>\n",
       "  </tbody>\n",
       "</table>\n",
       "<p>3203 rows × 1 columns</p>\n",
       "</div>"
      ],
      "text/plain": [
       "                mb_used\n",
       "user_id month          \n",
       "1000    5.00   2,253.49\n",
       "        6.00  23,233.77\n",
       "        7.00  14,003.64\n",
       "        8.00  14,055.93\n",
       "        9.00  14,568.91\n",
       "...                 ...\n",
       "1498    10.00 20,579.36\n",
       "1499    9.00   1,845.75\n",
       "        10.00 17,788.51\n",
       "        11.00 17,963.31\n",
       "        12.00 13,055.58\n",
       "\n",
       "[3203 rows x 1 columns]"
      ]
     },
     "execution_count": 10,
     "metadata": {},
     "output_type": "execute_result"
    }
   ],
   "source": [
    "internet_pivot = (\n",
    "    internet\n",
    "    .merge(users, on='user_id', how='right')\n",
    "    .pivot_table(\n",
    "        values='mb_used', \n",
    "        index=['user_id', 'month'], \n",
    "        aggfunc={'mb_used': 'sum'}\n",
    "    )\n",
    ")\n",
    "internet_pivot.columns = ['mb_used']\n",
    "internet_pivot"
   ]
  },
  {
   "cell_type": "markdown",
   "id": "8f7a912e",
   "metadata": {},
   "source": [
    "#### Помесячная выручка с каждого пользователя   \n",
    "Для подсчёта нам понадобиться объединить наши сводные таблицы в одну."
   ]
  },
  {
   "cell_type": "code",
   "execution_count": 11,
   "id": "2f9fee94",
   "metadata": {},
   "outputs": [
    {
     "data": {
      "text/html": [
       "<div>\n",
       "<style scoped>\n",
       "    .dataframe tbody tr th:only-of-type {\n",
       "        vertical-align: middle;\n",
       "    }\n",
       "\n",
       "    .dataframe tbody tr th {\n",
       "        vertical-align: top;\n",
       "    }\n",
       "\n",
       "    .dataframe thead th {\n",
       "        text-align: right;\n",
       "    }\n",
       "</style>\n",
       "<table border=\"1\" class=\"dataframe\">\n",
       "  <thead>\n",
       "    <tr style=\"text-align: right;\">\n",
       "      <th></th>\n",
       "      <th></th>\n",
       "      <th>duration</th>\n",
       "      <th>calls</th>\n",
       "      <th>messages</th>\n",
       "      <th>mb_used</th>\n",
       "    </tr>\n",
       "    <tr>\n",
       "      <th>user_id</th>\n",
       "      <th>month</th>\n",
       "      <th></th>\n",
       "      <th></th>\n",
       "      <th></th>\n",
       "      <th></th>\n",
       "    </tr>\n",
       "  </thead>\n",
       "  <tbody>\n",
       "    <tr>\n",
       "      <td rowspan=\"5\" valign=\"top\">1000</td>\n",
       "      <td>5</td>\n",
       "      <td>159.00</td>\n",
       "      <td>22.00</td>\n",
       "      <td>22.00</td>\n",
       "      <td>2,253.49</td>\n",
       "    </tr>\n",
       "    <tr>\n",
       "      <td>6</td>\n",
       "      <td>172.00</td>\n",
       "      <td>43.00</td>\n",
       "      <td>60.00</td>\n",
       "      <td>23,233.77</td>\n",
       "    </tr>\n",
       "    <tr>\n",
       "      <td>7</td>\n",
       "      <td>340.00</td>\n",
       "      <td>47.00</td>\n",
       "      <td>75.00</td>\n",
       "      <td>14,003.64</td>\n",
       "    </tr>\n",
       "    <tr>\n",
       "      <td>8</td>\n",
       "      <td>408.00</td>\n",
       "      <td>52.00</td>\n",
       "      <td>81.00</td>\n",
       "      <td>14,055.93</td>\n",
       "    </tr>\n",
       "    <tr>\n",
       "      <td>9</td>\n",
       "      <td>466.00</td>\n",
       "      <td>58.00</td>\n",
       "      <td>57.00</td>\n",
       "      <td>14,568.91</td>\n",
       "    </tr>\n",
       "    <tr>\n",
       "      <td>...</td>\n",
       "      <td>...</td>\n",
       "      <td>...</td>\n",
       "      <td>...</td>\n",
       "      <td>...</td>\n",
       "      <td>...</td>\n",
       "    </tr>\n",
       "    <tr>\n",
       "      <td rowspan=\"4\" valign=\"top\">1489</td>\n",
       "      <td>9</td>\n",
       "      <td>nan</td>\n",
       "      <td>nan</td>\n",
       "      <td>32.00</td>\n",
       "      <td>17,206.30</td>\n",
       "    </tr>\n",
       "    <tr>\n",
       "      <td>10</td>\n",
       "      <td>nan</td>\n",
       "      <td>nan</td>\n",
       "      <td>21.00</td>\n",
       "      <td>19,559.44</td>\n",
       "    </tr>\n",
       "    <tr>\n",
       "      <td>11</td>\n",
       "      <td>nan</td>\n",
       "      <td>nan</td>\n",
       "      <td>20.00</td>\n",
       "      <td>17,491.56</td>\n",
       "    </tr>\n",
       "    <tr>\n",
       "      <td>12</td>\n",
       "      <td>nan</td>\n",
       "      <td>nan</td>\n",
       "      <td>35.00</td>\n",
       "      <td>17,322.51</td>\n",
       "    </tr>\n",
       "    <tr>\n",
       "      <td>1476</td>\n",
       "      <td>4</td>\n",
       "      <td>nan</td>\n",
       "      <td>nan</td>\n",
       "      <td>nan</td>\n",
       "      <td>530.78</td>\n",
       "    </tr>\n",
       "  </tbody>\n",
       "</table>\n",
       "<p>3214 rows × 4 columns</p>\n",
       "</div>"
      ],
      "text/plain": [
       "               duration  calls  messages   mb_used\n",
       "user_id month                                     \n",
       "1000    5        159.00  22.00     22.00  2,253.49\n",
       "        6        172.00  43.00     60.00 23,233.77\n",
       "        7        340.00  47.00     75.00 14,003.64\n",
       "        8        408.00  52.00     81.00 14,055.93\n",
       "        9        466.00  58.00     57.00 14,568.91\n",
       "...                 ...    ...       ...       ...\n",
       "1489    9           nan    nan     32.00 17,206.30\n",
       "        10          nan    nan     21.00 19,559.44\n",
       "        11          nan    nan     20.00 17,491.56\n",
       "        12          nan    nan     35.00 17,322.51\n",
       "1476    4           nan    nan       nan    530.78\n",
       "\n",
       "[3214 rows x 4 columns]"
      ]
     },
     "execution_count": 11,
     "metadata": {},
     "output_type": "execute_result"
    }
   ],
   "source": [
    "grouped_data = calls_pivot.merge(messages_pivot, on=['user_id', 'month'], how='outer')\n",
    "grouped_data = grouped_data.merge(internet_pivot, on=['user_id', 'month'], how='outer')\n",
    "\n",
    "#grouped_data = grouped_data.reset_index().merge(users, on=['user_id'], how='outer')\n",
    "grouped_data"
   ]
  },
  {
   "cell_type": "markdown",
   "id": "c5c600f5",
   "metadata": {},
   "source": [
    "Посчитаем, все ли пользователи на месте."
   ]
  },
  {
   "cell_type": "code",
   "execution_count": 12,
   "id": "23edfc48",
   "metadata": {},
   "outputs": [
    {
     "name": "stdout",
     "output_type": "stream",
     "text": [
      "Было пользователей: 500\n",
      "Стало пользователей: 498\n",
      "Забыли пользователя: 1128\n",
      "Забыли пользователя: 1371\n"
     ]
    }
   ],
   "source": [
    "print('Было пользователей:', len(users['user_id'].unique()))\n",
    "print('Стало пользователей:', len(grouped_data.reset_index()['user_id'].unique()))\n",
    "\n",
    "for user in users['user_id'].unique():\n",
    "    if user not in grouped_data.reset_index()['user_id'].unique():\n",
    "        print('Забыли пользователя:', user)"
   ]
  },
  {
   "cell_type": "markdown",
   "id": "88f9d67e",
   "metadata": {},
   "source": [
    "В действительности мы пропустили двух пользователей. Это произошло из-за отсутсвия информации по этим пользователям в 3-х наших таблицах со звонками, трафиком и сообщениями, но за тариф они по всей видимости платили. Добавим наших двух потеряшек из таблицы с пользователями вместе с тем добавив недостающие данные по наименованию тарифа и города пользователя."
   ]
  },
  {
   "cell_type": "code",
   "execution_count": 13,
   "id": "cc7dfbd1",
   "metadata": {},
   "outputs": [
    {
     "name": "stdout",
     "output_type": "stream",
     "text": [
      "Было пользователей: 500\n",
      "Стало пользователей: 500\n"
     ]
    }
   ],
   "source": [
    "grouped_data = grouped_data.reset_index().merge(users, on=['user_id'], how='outer')\n",
    "print('Было пользователей:', len(users['user_id'].unique()))\n",
    "print('Стало пользователей:', len(grouped_data.reset_index()['user_id'].unique()))"
   ]
  },
  {
   "cell_type": "markdown",
   "id": "9c3a057f",
   "metadata": {},
   "source": [
    "Удалим не нужные нам столбцы."
   ]
  },
  {
   "cell_type": "code",
   "execution_count": 14,
   "id": "c8bed466",
   "metadata": {},
   "outputs": [
    {
     "data": {
      "text/html": [
       "<div>\n",
       "<style scoped>\n",
       "    .dataframe tbody tr th:only-of-type {\n",
       "        vertical-align: middle;\n",
       "    }\n",
       "\n",
       "    .dataframe tbody tr th {\n",
       "        vertical-align: top;\n",
       "    }\n",
       "\n",
       "    .dataframe thead th {\n",
       "        text-align: right;\n",
       "    }\n",
       "</style>\n",
       "<table border=\"1\" class=\"dataframe\">\n",
       "  <thead>\n",
       "    <tr style=\"text-align: right;\">\n",
       "      <th></th>\n",
       "      <th>user_id</th>\n",
       "      <th>month</th>\n",
       "      <th>duration</th>\n",
       "      <th>calls</th>\n",
       "      <th>messages</th>\n",
       "      <th>mb_used</th>\n",
       "      <th>city</th>\n",
       "      <th>tariff</th>\n",
       "    </tr>\n",
       "  </thead>\n",
       "  <tbody>\n",
       "    <tr>\n",
       "      <td>0</td>\n",
       "      <td>1000</td>\n",
       "      <td>5.00</td>\n",
       "      <td>159.00</td>\n",
       "      <td>22.00</td>\n",
       "      <td>22.00</td>\n",
       "      <td>2,253.49</td>\n",
       "      <td>Краснодар</td>\n",
       "      <td>ultra</td>\n",
       "    </tr>\n",
       "    <tr>\n",
       "      <td>1</td>\n",
       "      <td>1000</td>\n",
       "      <td>6.00</td>\n",
       "      <td>172.00</td>\n",
       "      <td>43.00</td>\n",
       "      <td>60.00</td>\n",
       "      <td>23,233.77</td>\n",
       "      <td>Краснодар</td>\n",
       "      <td>ultra</td>\n",
       "    </tr>\n",
       "    <tr>\n",
       "      <td>2</td>\n",
       "      <td>1000</td>\n",
       "      <td>7.00</td>\n",
       "      <td>340.00</td>\n",
       "      <td>47.00</td>\n",
       "      <td>75.00</td>\n",
       "      <td>14,003.64</td>\n",
       "      <td>Краснодар</td>\n",
       "      <td>ultra</td>\n",
       "    </tr>\n",
       "    <tr>\n",
       "      <td>3</td>\n",
       "      <td>1000</td>\n",
       "      <td>8.00</td>\n",
       "      <td>408.00</td>\n",
       "      <td>52.00</td>\n",
       "      <td>81.00</td>\n",
       "      <td>14,055.93</td>\n",
       "      <td>Краснодар</td>\n",
       "      <td>ultra</td>\n",
       "    </tr>\n",
       "    <tr>\n",
       "      <td>4</td>\n",
       "      <td>1000</td>\n",
       "      <td>9.00</td>\n",
       "      <td>466.00</td>\n",
       "      <td>58.00</td>\n",
       "      <td>57.00</td>\n",
       "      <td>14,568.91</td>\n",
       "      <td>Краснодар</td>\n",
       "      <td>ultra</td>\n",
       "    </tr>\n",
       "    <tr>\n",
       "      <td>...</td>\n",
       "      <td>...</td>\n",
       "      <td>...</td>\n",
       "      <td>...</td>\n",
       "      <td>...</td>\n",
       "      <td>...</td>\n",
       "      <td>...</td>\n",
       "      <td>...</td>\n",
       "      <td>...</td>\n",
       "    </tr>\n",
       "    <tr>\n",
       "      <td>3211</td>\n",
       "      <td>1489</td>\n",
       "      <td>10.00</td>\n",
       "      <td>nan</td>\n",
       "      <td>nan</td>\n",
       "      <td>21.00</td>\n",
       "      <td>19,559.44</td>\n",
       "      <td>Санкт-Петербург</td>\n",
       "      <td>smart</td>\n",
       "    </tr>\n",
       "    <tr>\n",
       "      <td>3212</td>\n",
       "      <td>1489</td>\n",
       "      <td>11.00</td>\n",
       "      <td>nan</td>\n",
       "      <td>nan</td>\n",
       "      <td>20.00</td>\n",
       "      <td>17,491.56</td>\n",
       "      <td>Санкт-Петербург</td>\n",
       "      <td>smart</td>\n",
       "    </tr>\n",
       "    <tr>\n",
       "      <td>3213</td>\n",
       "      <td>1489</td>\n",
       "      <td>12.00</td>\n",
       "      <td>nan</td>\n",
       "      <td>nan</td>\n",
       "      <td>35.00</td>\n",
       "      <td>17,322.51</td>\n",
       "      <td>Санкт-Петербург</td>\n",
       "      <td>smart</td>\n",
       "    </tr>\n",
       "    <tr>\n",
       "      <td>3214</td>\n",
       "      <td>1128</td>\n",
       "      <td>nan</td>\n",
       "      <td>nan</td>\n",
       "      <td>nan</td>\n",
       "      <td>nan</td>\n",
       "      <td>nan</td>\n",
       "      <td>Волжский</td>\n",
       "      <td>ultra</td>\n",
       "    </tr>\n",
       "    <tr>\n",
       "      <td>3215</td>\n",
       "      <td>1371</td>\n",
       "      <td>nan</td>\n",
       "      <td>nan</td>\n",
       "      <td>nan</td>\n",
       "      <td>nan</td>\n",
       "      <td>nan</td>\n",
       "      <td>Омск</td>\n",
       "      <td>smart</td>\n",
       "    </tr>\n",
       "  </tbody>\n",
       "</table>\n",
       "<p>3216 rows × 8 columns</p>\n",
       "</div>"
      ],
      "text/plain": [
       "      user_id  month  duration  calls  messages   mb_used             city  \\\n",
       "0        1000   5.00    159.00  22.00     22.00  2,253.49        Краснодар   \n",
       "1        1000   6.00    172.00  43.00     60.00 23,233.77        Краснодар   \n",
       "2        1000   7.00    340.00  47.00     75.00 14,003.64        Краснодар   \n",
       "3        1000   8.00    408.00  52.00     81.00 14,055.93        Краснодар   \n",
       "4        1000   9.00    466.00  58.00     57.00 14,568.91        Краснодар   \n",
       "...       ...    ...       ...    ...       ...       ...              ...   \n",
       "3211     1489  10.00       nan    nan     21.00 19,559.44  Санкт-Петербург   \n",
       "3212     1489  11.00       nan    nan     20.00 17,491.56  Санкт-Петербург   \n",
       "3213     1489  12.00       nan    nan     35.00 17,322.51  Санкт-Петербург   \n",
       "3214     1128    nan       nan    nan       nan       nan         Волжский   \n",
       "3215     1371    nan       nan    nan       nan       nan             Омск   \n",
       "\n",
       "     tariff  \n",
       "0     ultra  \n",
       "1     ultra  \n",
       "2     ultra  \n",
       "3     ultra  \n",
       "4     ultra  \n",
       "...     ...  \n",
       "3211  smart  \n",
       "3212  smart  \n",
       "3213  smart  \n",
       "3214  ultra  \n",
       "3215  smart  \n",
       "\n",
       "[3216 rows x 8 columns]"
      ]
     },
     "execution_count": 14,
     "metadata": {},
     "output_type": "execute_result"
    }
   ],
   "source": [
    "grouped_data.drop(['age', 'churn_date', 'first_name', 'last_name', 'reg_date', 'uniq_name'], axis=1, inplace=True)\n",
    "grouped_data"
   ]
  },
  {
   "cell_type": "markdown",
   "id": "4f026358",
   "metadata": {},
   "source": [
    "Пропущенные значения заменим нулями. Но прежде посчитаем это кол-во пропусков."
   ]
  },
  {
   "cell_type": "code",
   "execution_count": 15,
   "id": "3208f560",
   "metadata": {},
   "outputs": [
    {
     "name": "stdout",
     "output_type": "stream",
     "text": [
      "Кол-во пропусков в продолжительности звонков: 42\n",
      "Кол-во пропусков в кол-ве сообщений: 499\n",
      "Кол-во пропусков в объёме интернет-трафика: 13\n",
      "Кол-во пропусков в кол-ве звонков 42\n"
     ]
    }
   ],
   "source": [
    "print('Кол-во пропусков в продолжительности звонков:', grouped_data['duration'].isna().sum())\n",
    "print('Кол-во пропусков в кол-ве сообщений:', grouped_data['messages'].isna().sum())\n",
    "print('Кол-во пропусков в объёме интернет-трафика:', grouped_data['mb_used'].isna().sum())\n",
    "print('Кол-во пропусков в кол-ве звонков', grouped_data['calls'].isna().sum())"
   ]
  },
  {
   "cell_type": "code",
   "execution_count": 16,
   "id": "dc68737e",
   "metadata": {},
   "outputs": [],
   "source": [
    "grouped_data.loc[grouped_data['duration'].isna(), 'duration'] = 0\n",
    "grouped_data.loc[grouped_data['messages'].isna(), 'messages'] = 0\n",
    "grouped_data.loc[grouped_data['mb_used'].isna(), 'mb_used'] = 0\n",
    "grouped_data.loc[grouped_data['calls'].isna(), 'calls'] = 0"
   ]
  },
  {
   "cell_type": "markdown",
   "id": "9bb1a6c2",
   "metadata": {},
   "source": [
    "Напишем функцию для подсчёта выручки и применим её для нового столбца в сгруппированных данных.\n",
    "Подсчёт потраченных гигабайт будет выполнен согласно тарифного плана."
   ]
  },
  {
   "cell_type": "code",
   "execution_count": 17,
   "id": "babf4d8a",
   "metadata": {},
   "outputs": [
    {
     "data": {
      "text/html": [
       "<div>\n",
       "<style scoped>\n",
       "    .dataframe tbody tr th:only-of-type {\n",
       "        vertical-align: middle;\n",
       "    }\n",
       "\n",
       "    .dataframe tbody tr th {\n",
       "        vertical-align: top;\n",
       "    }\n",
       "\n",
       "    .dataframe thead th {\n",
       "        text-align: right;\n",
       "    }\n",
       "</style>\n",
       "<table border=\"1\" class=\"dataframe\">\n",
       "  <thead>\n",
       "    <tr style=\"text-align: right;\">\n",
       "      <th></th>\n",
       "      <th>user_id</th>\n",
       "      <th>month</th>\n",
       "      <th>duration</th>\n",
       "      <th>calls</th>\n",
       "      <th>messages</th>\n",
       "      <th>mb_used</th>\n",
       "      <th>city</th>\n",
       "      <th>tariff</th>\n",
       "      <th>income</th>\n",
       "    </tr>\n",
       "  </thead>\n",
       "  <tbody>\n",
       "    <tr>\n",
       "      <td>0</td>\n",
       "      <td>1000</td>\n",
       "      <td>5.00</td>\n",
       "      <td>159.00</td>\n",
       "      <td>22.00</td>\n",
       "      <td>22.00</td>\n",
       "      <td>2,253.49</td>\n",
       "      <td>Краснодар</td>\n",
       "      <td>ultra</td>\n",
       "      <td>1950</td>\n",
       "    </tr>\n",
       "    <tr>\n",
       "      <td>1</td>\n",
       "      <td>1000</td>\n",
       "      <td>6.00</td>\n",
       "      <td>172.00</td>\n",
       "      <td>43.00</td>\n",
       "      <td>60.00</td>\n",
       "      <td>23,233.77</td>\n",
       "      <td>Краснодар</td>\n",
       "      <td>ultra</td>\n",
       "      <td>1950</td>\n",
       "    </tr>\n",
       "    <tr>\n",
       "      <td>2</td>\n",
       "      <td>1000</td>\n",
       "      <td>7.00</td>\n",
       "      <td>340.00</td>\n",
       "      <td>47.00</td>\n",
       "      <td>75.00</td>\n",
       "      <td>14,003.64</td>\n",
       "      <td>Краснодар</td>\n",
       "      <td>ultra</td>\n",
       "      <td>1950</td>\n",
       "    </tr>\n",
       "    <tr>\n",
       "      <td>3</td>\n",
       "      <td>1000</td>\n",
       "      <td>8.00</td>\n",
       "      <td>408.00</td>\n",
       "      <td>52.00</td>\n",
       "      <td>81.00</td>\n",
       "      <td>14,055.93</td>\n",
       "      <td>Краснодар</td>\n",
       "      <td>ultra</td>\n",
       "      <td>1950</td>\n",
       "    </tr>\n",
       "    <tr>\n",
       "      <td>4</td>\n",
       "      <td>1000</td>\n",
       "      <td>9.00</td>\n",
       "      <td>466.00</td>\n",
       "      <td>58.00</td>\n",
       "      <td>57.00</td>\n",
       "      <td>14,568.91</td>\n",
       "      <td>Краснодар</td>\n",
       "      <td>ultra</td>\n",
       "      <td>1950</td>\n",
       "    </tr>\n",
       "    <tr>\n",
       "      <td>...</td>\n",
       "      <td>...</td>\n",
       "      <td>...</td>\n",
       "      <td>...</td>\n",
       "      <td>...</td>\n",
       "      <td>...</td>\n",
       "      <td>...</td>\n",
       "      <td>...</td>\n",
       "      <td>...</td>\n",
       "      <td>...</td>\n",
       "    </tr>\n",
       "    <tr>\n",
       "      <td>3211</td>\n",
       "      <td>1489</td>\n",
       "      <td>10.00</td>\n",
       "      <td>0.00</td>\n",
       "      <td>0.00</td>\n",
       "      <td>21.00</td>\n",
       "      <td>19,559.44</td>\n",
       "      <td>Санкт-Петербург</td>\n",
       "      <td>smart</td>\n",
       "      <td>1550</td>\n",
       "    </tr>\n",
       "    <tr>\n",
       "      <td>3212</td>\n",
       "      <td>1489</td>\n",
       "      <td>11.00</td>\n",
       "      <td>0.00</td>\n",
       "      <td>0.00</td>\n",
       "      <td>20.00</td>\n",
       "      <td>17,491.56</td>\n",
       "      <td>Санкт-Петербург</td>\n",
       "      <td>smart</td>\n",
       "      <td>1150</td>\n",
       "    </tr>\n",
       "    <tr>\n",
       "      <td>3213</td>\n",
       "      <td>1489</td>\n",
       "      <td>12.00</td>\n",
       "      <td>0.00</td>\n",
       "      <td>0.00</td>\n",
       "      <td>35.00</td>\n",
       "      <td>17,322.51</td>\n",
       "      <td>Санкт-Петербург</td>\n",
       "      <td>smart</td>\n",
       "      <td>950</td>\n",
       "    </tr>\n",
       "    <tr>\n",
       "      <td>3214</td>\n",
       "      <td>1128</td>\n",
       "      <td>nan</td>\n",
       "      <td>0.00</td>\n",
       "      <td>0.00</td>\n",
       "      <td>0.00</td>\n",
       "      <td>0.00</td>\n",
       "      <td>Волжский</td>\n",
       "      <td>ultra</td>\n",
       "      <td>1950</td>\n",
       "    </tr>\n",
       "    <tr>\n",
       "      <td>3215</td>\n",
       "      <td>1371</td>\n",
       "      <td>nan</td>\n",
       "      <td>0.00</td>\n",
       "      <td>0.00</td>\n",
       "      <td>0.00</td>\n",
       "      <td>0.00</td>\n",
       "      <td>Омск</td>\n",
       "      <td>smart</td>\n",
       "      <td>550</td>\n",
       "    </tr>\n",
       "  </tbody>\n",
       "</table>\n",
       "<p>3216 rows × 9 columns</p>\n",
       "</div>"
      ],
      "text/plain": [
       "      user_id  month  duration  calls  messages   mb_used             city  \\\n",
       "0        1000   5.00    159.00  22.00     22.00  2,253.49        Краснодар   \n",
       "1        1000   6.00    172.00  43.00     60.00 23,233.77        Краснодар   \n",
       "2        1000   7.00    340.00  47.00     75.00 14,003.64        Краснодар   \n",
       "3        1000   8.00    408.00  52.00     81.00 14,055.93        Краснодар   \n",
       "4        1000   9.00    466.00  58.00     57.00 14,568.91        Краснодар   \n",
       "...       ...    ...       ...    ...       ...       ...              ...   \n",
       "3211     1489  10.00      0.00   0.00     21.00 19,559.44  Санкт-Петербург   \n",
       "3212     1489  11.00      0.00   0.00     20.00 17,491.56  Санкт-Петербург   \n",
       "3213     1489  12.00      0.00   0.00     35.00 17,322.51  Санкт-Петербург   \n",
       "3214     1128    nan      0.00   0.00      0.00      0.00         Волжский   \n",
       "3215     1371    nan      0.00   0.00      0.00      0.00             Омск   \n",
       "\n",
       "     tariff  income  \n",
       "0     ultra    1950  \n",
       "1     ultra    1950  \n",
       "2     ultra    1950  \n",
       "3     ultra    1950  \n",
       "4     ultra    1950  \n",
       "...     ...     ...  \n",
       "3211  smart    1550  \n",
       "3212  smart    1150  \n",
       "3213  smart     950  \n",
       "3214  ultra    1950  \n",
       "3215  smart     550  \n",
       "\n",
       "[3216 rows x 9 columns]"
      ]
     },
     "execution_count": 17,
     "metadata": {},
     "output_type": "execute_result"
    }
   ],
   "source": [
    "def get_income(row):\n",
    "    '''The function returns monthly expenses of user'''\n",
    "    messages = row['messages']\n",
    "    duration = row['duration']\n",
    "    mb_used = row['mb_used']\n",
    "    tariff = row['tariff']\n",
    "    \n",
    "    if tariff == 'smart':\n",
    "        extra_duration = duration - tariffs.loc[0, 'minutes_included']\n",
    "        extra_messages = messages - tariffs.loc[0, 'messages_included']\n",
    "        extra_mb = mb_used - tariffs.loc[0, 'mb_per_month_included']\n",
    "        \n",
    "        if extra_duration < 0: extra_duration = 0\n",
    "        if extra_messages < 0: extra_messages = 0\n",
    "        if extra_mb < 0: extra_mb = 0\n",
    "            \n",
    "        return (tariffs.loc[0, 'rub_per_message'] * extra_messages +\n",
    "               tariffs.loc[0, 'rub_per_gb'] * mt.ceil(extra_mb / 1024) +\n",
    "                tariffs.loc[0, 'rub_per_minute'] * extra_duration +\n",
    "                tariffs.loc[0, 'rub_monthly_fee']\n",
    "               )\n",
    "    else:\n",
    "        extra_duration = duration - tariffs.loc[1, 'minutes_included']\n",
    "        extra_messages = messages - tariffs.loc[1, 'messages_included']\n",
    "        extra_mb = mb_used - tariffs.loc[1, 'mb_per_month_included']\n",
    "        \n",
    "        if extra_duration < 0: extra_duration = 0\n",
    "        if extra_messages < 0: extra_messages = 0\n",
    "        if extra_mb < 0: extra_mb = 0\n",
    "            \n",
    "        return (tariffs.loc[1, 'rub_per_message'] * extra_messages +\n",
    "               tariffs.loc[1, 'rub_per_gb'] * mt.ceil(extra_mb / 1024) +\n",
    "                tariffs.loc[1, 'rub_per_minute'] * extra_duration +\n",
    "                tariffs.loc[1, 'rub_monthly_fee']\n",
    "               )\n",
    "grouped_data['income'] = grouped_data.apply(get_income, axis=1).astype('int')\n",
    "grouped_data"
   ]
  },
  {
   "cell_type": "code",
   "execution_count": 18,
   "id": "5b3ca7fe",
   "metadata": {},
   "outputs": [
    {
     "data": {
      "text/plain": [
       "4916951"
      ]
     },
     "execution_count": 18,
     "metadata": {},
     "output_type": "execute_result"
    }
   ],
   "source": [
    "# check\n",
    "\n",
    "grouped_data['income'].sum()"
   ]
  },
  {
   "cell_type": "markdown",
   "id": "84886d60",
   "metadata": {},
   "source": [
    "## Анализ данных   \n",
    "Здесь мы опишем поведение клиентов оператора, исходя из выборки.   \n",
    "Посмотрим сколько минут разговора, сколько сообщений и какой объём интернет-трафика требуется пользователям каждого тарифа в месяц.   \n",
    "Посчитаем среднее количество, дисперсию и стандартное отклонение. Построем гистограммы."
   ]
  },
  {
   "cell_type": "code",
   "execution_count": 19,
   "id": "6cfd7486",
   "metadata": {},
   "outputs": [
    {
     "data": {
      "text/html": [
       "<div>\n",
       "<style scoped>\n",
       "    .dataframe tbody tr th:only-of-type {\n",
       "        vertical-align: middle;\n",
       "    }\n",
       "\n",
       "    .dataframe tbody tr th {\n",
       "        vertical-align: top;\n",
       "    }\n",
       "\n",
       "    .dataframe thead tr th {\n",
       "        text-align: left;\n",
       "    }\n",
       "\n",
       "    .dataframe thead tr:last-of-type th {\n",
       "        text-align: right;\n",
       "    }\n",
       "</style>\n",
       "<table border=\"1\" class=\"dataframe\">\n",
       "  <thead>\n",
       "    <tr>\n",
       "      <th></th>\n",
       "      <th colspan=\"4\" halign=\"left\">median</th>\n",
       "      <th colspan=\"4\" halign=\"left\">mean</th>\n",
       "      <th colspan=\"4\" halign=\"left\">var</th>\n",
       "      <th colspan=\"4\" halign=\"left\">std</th>\n",
       "    </tr>\n",
       "    <tr>\n",
       "      <th></th>\n",
       "      <th>duration</th>\n",
       "      <th>income</th>\n",
       "      <th>mb_used</th>\n",
       "      <th>messages</th>\n",
       "      <th>duration</th>\n",
       "      <th>income</th>\n",
       "      <th>mb_used</th>\n",
       "      <th>messages</th>\n",
       "      <th>duration</th>\n",
       "      <th>income</th>\n",
       "      <th>mb_used</th>\n",
       "      <th>messages</th>\n",
       "      <th>duration</th>\n",
       "      <th>income</th>\n",
       "      <th>mb_used</th>\n",
       "      <th>messages</th>\n",
       "    </tr>\n",
       "    <tr>\n",
       "      <th>tariff</th>\n",
       "      <th></th>\n",
       "      <th></th>\n",
       "      <th></th>\n",
       "      <th></th>\n",
       "      <th></th>\n",
       "      <th></th>\n",
       "      <th></th>\n",
       "      <th></th>\n",
       "      <th></th>\n",
       "      <th></th>\n",
       "      <th></th>\n",
       "      <th></th>\n",
       "      <th></th>\n",
       "      <th></th>\n",
       "      <th></th>\n",
       "      <th></th>\n",
       "    </tr>\n",
       "  </thead>\n",
       "  <tbody>\n",
       "    <tr>\n",
       "      <td>smart</td>\n",
       "      <td>421.50</td>\n",
       "      <td>1021</td>\n",
       "      <td>16,505.47</td>\n",
       "      <td>28.00</td>\n",
       "      <td>417.75</td>\n",
       "      <td>1,289.64</td>\n",
       "      <td>16,201.12</td>\n",
       "      <td>33.37</td>\n",
       "      <td>36,281.39</td>\n",
       "      <td>669,730.76</td>\n",
       "      <td>34,564,843.48</td>\n",
       "      <td>796.96</td>\n",
       "      <td>190.48</td>\n",
       "      <td>818.37</td>\n",
       "      <td>5,879.19</td>\n",
       "      <td>28.23</td>\n",
       "    </tr>\n",
       "    <tr>\n",
       "      <td>ultra</td>\n",
       "      <td>518.00</td>\n",
       "      <td>1950</td>\n",
       "      <td>19,304.02</td>\n",
       "      <td>38.00</td>\n",
       "      <td>526.09</td>\n",
       "      <td>2,070.03</td>\n",
       "      <td>19,449.06</td>\n",
       "      <td>49.31</td>\n",
       "      <td>101,052.49</td>\n",
       "      <td>141,387.71</td>\n",
       "      <td>102,032,129.46</td>\n",
       "      <td>2,285.42</td>\n",
       "      <td>317.89</td>\n",
       "      <td>376.02</td>\n",
       "      <td>10,101.10</td>\n",
       "      <td>47.81</td>\n",
       "    </tr>\n",
       "  </tbody>\n",
       "</table>\n",
       "</div>"
      ],
      "text/plain": [
       "         median                               mean                     \\\n",
       "       duration income   mb_used messages duration   income   mb_used   \n",
       "tariff                                                                  \n",
       "smart    421.50   1021 16,505.47    28.00   417.75 1,289.64 16,201.12   \n",
       "ultra    518.00   1950 19,304.02    38.00   526.09 2,070.03 19,449.06   \n",
       "\n",
       "                       var                                         std         \\\n",
       "       messages   duration     income        mb_used messages duration income   \n",
       "tariff                                                                          \n",
       "smart     33.37  36,281.39 669,730.76  34,564,843.48   796.96   190.48 818.37   \n",
       "ultra     49.31 101,052.49 141,387.71 102,032,129.46 2,285.42   317.89 376.02   \n",
       "\n",
       "                           \n",
       "         mb_used messages  \n",
       "tariff                     \n",
       "smart   5,879.19    28.23  \n",
       "ultra  10,101.10    47.81  "
      ]
     },
     "execution_count": 19,
     "metadata": {},
     "output_type": "execute_result"
    }
   ],
   "source": [
    "grouped_data.pivot_table(index='tariff', values=['duration', 'messages', 'mb_used', 'income'],\n",
    "                                      aggfunc=['median', 'mean', 'var', 'std'])"
   ]
  },
  {
   "cell_type": "markdown",
   "id": "3e099952",
   "metadata": {},
   "source": [
    "Исходя из этих данных можно сделать следующие выводы об использовании пользователями двух тарифов за месяц:   \n",
    "\n",
    "*SMART:*   \n",
    "Средняя продолжительность разговора: 421,5 минуты   \n",
    "Средний объём израсходованного интернет-трафика: 16529 Мб   \n",
    "Среднее кол-во отправленных сообщений: 28   \n",
    "Средняя палата в месяц: 1038 р.\n",
    "\n",
    "*ULTRA:*   \n",
    "Средняя продолжительность разговора: 518 минут   \n",
    "Средний объём израсходованного интернет-трафика: 19320 Мб   \n",
    "Среднее кол-во отправленных сообщений: 38   \n",
    "Средняя палата в месяц: 1950 р."
   ]
  },
  {
   "cell_type": "code",
   "execution_count": 20,
   "id": "94d2f9ce",
   "metadata": {},
   "outputs": [
    {
     "data": {
      "text/plain": [
       "[Text(0.5, 1.0, 'Boxplot Mb used')]"
      ]
     },
     "execution_count": 20,
     "metadata": {},
     "output_type": "execute_result"
    },
    {
     "data": {
      "image/png": "[encoded data removed]",
      "text/plain": [
       "<Figure size 1152x360 with 3 Axes>"
      ]
     },
     "metadata": {
      "needs_background": "light"
     },
     "output_type": "display_data"
    }
   ],
   "source": [
    "fig, axes = plt.subplots(1, 3, figsize=(16,5))\n",
    "\n",
    "sns.boxplot(x=\"tariff\", y='messages', data=grouped_data, orient='v', ax=axes[0]).set_title('Boxplot messages')\n",
    "sns.boxplot(x=\"tariff\", y='duration', data=grouped_data, orient='v', ax=axes[1]).set(title='Boxplot duration')\n",
    "sns.boxplot(x=\"tariff\", y='mb_used', data=grouped_data, orient='v', ax=axes[2]).set(title='Boxplot Mb used')"
   ]
  },
  {
   "cell_type": "markdown",
   "id": "7f0a2a4d",
   "metadata": {},
   "source": [
    "Минуты разговора, число сообщений и объем потраченного интернет-трафика по тарифу «Ультра» имеет большую дисперсию по сравнению с тарифом «Смарт», и медианы по вышеперечисленным признакам также смещены в большую сторону. Кроме того, выбросов в рамках более дешевого тарифа существенно больше.\n",
    "\n",
    "Построим гистограммы."
   ]
  },
  {
   "cell_type": "code",
   "execution_count": 21,
   "id": "137c0500",
   "metadata": {},
   "outputs": [
    {
     "data": {
      "image/png": "[encoded data removed]",
      "text/plain": [
       "<Figure size 1080x360 with 1 Axes>"
      ]
     },
     "metadata": {
      "needs_background": "light"
     },
     "output_type": "display_data"
    },
    {
     "data": {
      "image/png": "[encoded data removed]",
      "text/plain": [
       "<Figure size 1080x360 with 1 Axes>"
      ]
     },
     "metadata": {
      "needs_background": "light"
     },
     "output_type": "display_data"
    },
    {
     "data": {
      "image/png": "[encoded data removed]",
      "text/plain": [
       "<Figure size 1080x360 with 1 Axes>"
      ]
     },
     "metadata": {
      "needs_background": "light"
     },
     "output_type": "display_data"
    },
    {
     "data": {
      "image/png": "[encoded data removed]",
      "text/plain": [
       "<Figure size 1080x360 with 1 Axes>"
      ]
     },
     "metadata": {
      "needs_background": "light"
     },
     "output_type": "display_data"
    }
   ],
   "source": [
    "try:\n",
    "    grouped_data = grouped_data.reset_index()\n",
    "except:\n",
    "    print()\n",
    "\n",
    "column_list = ['messages', 'duration', 'mb_used', 'income']\n",
    "\n",
    "for column in column_list:\n",
    "    grouped_data.query('tariff == \"smart\"')[column].plot(kind='hist',\n",
    "                                                         label='smart',\n",
    "                                                        bins=30,\n",
    "                                                        figsize=(15,5))\n",
    "    \n",
    "    grouped_data.query('tariff == \"ultra\"')[column].plot(kind='hist',\n",
    "                                                         label='ultra',\n",
    "                                                        bins=30,\n",
    "                                                        figsize=(15,5),\n",
    "                                                        alpha=0.7)\n",
    "    \n",
    "    plt.title(column)\n",
    "    plt.legend()\n",
    "    plt.show()"
   ]
  },
  {
   "cell_type": "markdown",
   "id": "da00eb2f",
   "metadata": {},
   "source": [
    "По графикам можно сказать что пользователям тарифа smart чаще всего не хватает услуг в рамках пакета и они переплачивают сверх тарифа. Кроме этого можно заметить, что пользователи тарифа ultra не тратят весь базовый пакет минут и количества смс."
   ]
  },
  {
   "cell_type": "markdown",
   "id": "50cd3ead",
   "metadata": {},
   "source": [
    "## Проверка гипотез   \n",
    "Нам предстроит проверить следующие гипотезы:   \n",
    " - Средняя выручка пользователей тарифов «Ультра» и «Смарт» различаются;   \n",
    " - Средняя выручка пользователей из Москвы отличается от выручки пользователей из других регионов"
   ]
  },
  {
   "cell_type": "markdown",
   "id": "1a8fedac",
   "metadata": {},
   "source": [
    "### Средняя выручка пользователей тарифов «Ультра» и «Смарт» различаются"
   ]
  },
  {
   "cell_type": "markdown",
   "id": "590d8702",
   "metadata": {},
   "source": [
    "Запишем нулевую и альтернативную гипотезы.   \n",
    "$H_0 $ — средняя выручка пользователей тарифа «Ультра» равна средней выручке пользователей тарифа «Смарт».   \n",
    "$H_1 $ — средняя выручка пользователей тарифов «Ультра» и «Смарт» различаются.  \n",
    "$\\alpha = 5\\%$\n",
    "\n",
    "Используем метод `scipy.stats.ttest_ind (array1, array2, equal_var = False)`. `False`, потому что дисперсии наших выборок отличаются."
   ]
  },
  {
   "cell_type": "code",
   "execution_count": 22,
   "id": "a63a4558",
   "metadata": {},
   "outputs": [
    {
     "name": "stdout",
     "output_type": "stream",
     "text": [
      "p-значение: 1.927011394420941e-250\n",
      "Отвергаем нулевую гипотезу\n"
     ]
    }
   ],
   "source": [
    "ultra = grouped_data.query('tariff == \"ultra\"')['income']\n",
    "smart = grouped_data.query('tariff == \"smart\"')['income']\n",
    "\n",
    "alpha = .05\n",
    "\n",
    "results = st.ttest_ind(\n",
    "    ultra, \n",
    "    smart, \n",
    "    equal_var=False)\n",
    "\n",
    "print('p-значение:', results.pvalue)\n",
    "\n",
    "if (results.pvalue < alpha):\n",
    "    print(\"Отвергаем нулевую гипотезу\")\n",
    "else:\n",
    "    print(\"Не получилось отвергнуть нулевую гипотезу\")"
   ]
  },
  {
   "cell_type": "markdown",
   "id": "8c68d429",
   "metadata": {},
   "source": [
    "Всё как и ожидалось. Об этом мы писали в начале анализа данных:   \n",
    "*SMART:*   \n",
    "Средняя палата в месяц: 1038 р.   \n",
    "*ULTRA:*   \n",
    "Средняя палата в месяц: 1950 р.   \n",
    "\n",
    "Перефразировав альтернативную гипотезу, котрую мы принимаем,  можно сказать **, что доходы \"Мегалайна\" с пользователя по тарифу \"Ультра\" действительно отличаются по сравнению с доходами от тарифа \"Смарт\".**"
   ]
  },
  {
   "cell_type": "markdown",
   "id": "7d4ed7c7",
   "metadata": {},
   "source": [
    "Посмотрим в чью сторону у нас имеется перевес по каждому месяцу использования тарифа."
   ]
  },
  {
   "cell_type": "code",
   "execution_count": 23,
   "id": "033993c4",
   "metadata": {},
   "outputs": [
    {
     "name": "stdout",
     "output_type": "stream",
     "text": [
      "Доход тарифа Ультра за анализируеммый период: 2041050\n",
      "Доход тарифа Смарт за анализируеммый период: 2875901\n",
      "Кол-во пользователей тарифа Ульртра в выборке: 149\n",
      "Кол-во пользователей тарифа Смарт в выборке: 351\n"
     ]
    },
    {
     "data": {
      "image/png": "[encoded data removed]",
      "text/plain": [
       "<Figure size 1080x360 with 1 Axes>"
      ]
     },
     "metadata": {
      "needs_background": "light"
     },
     "output_type": "display_data"
    }
   ],
   "source": [
    "grouped_data.query('tariff == \"ultra\"').groupby('month')['income'].sum().plot(label='ultra', figsize=(15,5))\n",
    "grouped_data.query('tariff == \"smart\"').groupby('month')['income'].sum().plot(label='smart')\n",
    "plt.legend();\n",
    "print('Доход тарифа Ультра за анализируеммый период:', ultra.sum())\n",
    "print('Доход тарифа Смарт за анализируеммый период:', smart.sum())\n",
    "print('Кол-во пользователей тарифа Ульртра в выборке:', users.query('tariff == \"ultra\"')['user_id'].count())\n",
    "print('Кол-во пользователей тарифа Смарт в выборке:', users.query('tariff == \"smart\"')['user_id'].count())"
   ]
  },
  {
   "cell_type": "markdown",
   "id": "0198ab6b",
   "metadata": {},
   "source": [
    "**На графике выше видно, что \"дешёвый\" тариф smart приносит больше дохода, который растёт быстрее тарифа ultra. Это прежде всего связано с перевесом кол-ва пользователей тарифа smart в данной выборке - 351 пользователь, против 149 по тарифу ultra. Превес может быть как случайным так и говорить о популярности тарифа smart.**"
   ]
  },
  {
   "cell_type": "markdown",
   "id": "fe3e61c8",
   "metadata": {},
   "source": [
    "### Средняя выручка пользователей из Москвы отличается от выручки пользователей из других регионов   \n",
    "Запишем нулевую и альтернативную гипотезы.   \n",
    "$H_0 $ — средняя выручка пользователей из Москвы равна средней выручке пользователей из других регионов.   \n",
    "$H_1 $ — средняя выручка пользователей из Москвы отличается от средней выручке пользователей из других регионов.   \n",
    "$\\alpha = 5\\%$"
   ]
  },
  {
   "cell_type": "code",
   "execution_count": 24,
   "id": "36df9a23",
   "metadata": {},
   "outputs": [
    {
     "name": "stdout",
     "output_type": "stream",
     "text": [
      "p-значение: 0.5216952110000279\n",
      "Не получилось отвергнуть нулевую гипотезу\n"
     ]
    }
   ],
   "source": [
    "moscow = grouped_data.query('city == \"Москва\"')['income']\n",
    "regions = grouped_data.query('city != \"Москва\"')['income']\n",
    "\n",
    "alpha = .05\n",
    "\n",
    "results = st.ttest_ind(\n",
    "    moscow, \n",
    "    regions, \n",
    "    equal_var=False)\n",
    "\n",
    "print('p-значение:', results.pvalue)\n",
    "\n",
    "if (results.pvalue < alpha):\n",
    "    print(\"Отвергаем нулевую гипотезу\")\n",
    "else:\n",
    "    print(\"Не получилось отвергнуть нулевую гипотезу\")"
   ]
  },
  {
   "cell_type": "markdown",
   "id": "4449ccaa",
   "metadata": {},
   "source": [
    "Р-значение говорит нам о вероятности получить наблюдаемый результат (*средняя выручка пользователей из Москвы равна средней выручке пользователей из других регионов*) при условии, что нулевая гипотеза верна. \n",
    "Данный статистический тест не дал возможности опровергунть исходную гипотезу о том, что доходы от пользователей из Москвы и из других регионов равны. Действительно, **доходы в Московском регионе практически не отличаются от других населенных пунктов.**"
   ]
  },
  {
   "cell_type": "markdown",
   "id": "f329d9ec",
   "metadata": {},
   "source": [
    "## Общий вывод"
   ]
  },
  {
   "cell_type": "markdown",
   "id": "fbb7c28a",
   "metadata": {},
   "source": [
    "По результатам статистического анализа доходы **от тарифа «Смарт» больше, чем от тарифа «Ультра»**: в среднем «Мегалайн» от одного пользователя в месяц получает **1037 рублей и 1950 рублей** соответственно. Из-за перевеса кол-ва пользователей в выборке в сторону тарифа «Смарт» (351 пользователь против 149 у тарифа «Ультра») общий доход за анализируем период будет составлять:\n",
    "\n",
    " - Доход тарифа **«Ультра»** за анализируеммый период: **2 041 950 р.**\n",
    " - Доход тарифа **«Смарт»** за анализируеммый период: **2 886 301 р.**\n",
    "\n",
    "***Особенности использования тарифов заключаются в следующем:***\n",
    "- *Пользователям тарифа «Смарт»* не хватает услуг в рамках тарифного пакета: кроме абонентской платы пользователи *в среднем доплачивают еще 487 рублей ежемесячно (+88,7%)*. \n",
    "- *Пользователи тарифа «Ультра»*, напротив, не используют тарифный пакет в полном объеме.\n",
    "- Средние доходы от пользователей в Москве *не отличаются* от доходов в других населенных пунктах: разница статистически незначима (p-значение: 0,508).\n",
    "\n",
    "***Показатели использования тарифа Смарт в среднем за месяц:***   \n",
    "- Минту разговора 421,5, осталось 78,5 минут - услуга не используется в полном объёме.   \n",
    "- Использование интернет трафика 16,14 Гб, больше пакета на 2 Гб - переплата за тариф около 400р.   \n",
    "- СМС сообщения использовано 28, осталось 22 - услуга не используется в полном объёме, остаётся почти половина.   \n",
    "\n",
    "***Показатели использования тарифа Ультра в среднем за месяц:***   \n",
    "- Минту разговора 518, осталось 2 482 минут - услуга не используется в полном объёме, около 80% остаются не использованными.   \n",
    "- Использование интернет трафика 18,86 Гб, остаётся 11 Гб - услуга не используется в полном объёме, около 40% остаются не использованными.   \n",
    "- СМС сообщения использовано 38, осталось 962 - услуга почти не используется, около 96% остаются не использованными. "
   ]
  }
 ],
 "metadata": {
  "ExecuteTimeLog": [
   {
    "duration": 184,
    "start_time": "2022-04-04T10:37:41.311Z"
   },
   {
    "duration": 140,
    "start_time": "2022-04-04T10:39:33.949Z"
   },
   {
    "duration": 1466,
    "start_time": "2022-04-04T10:41:15.166Z"
   },
   {
    "duration": 490,
    "start_time": "2022-04-04T10:41:16.634Z"
   },
   {
    "duration": 97,
    "start_time": "2022-04-04T10:41:17.126Z"
   },
   {
    "duration": 6,
    "start_time": "2022-04-04T10:41:17.226Z"
   },
   {
    "duration": 72,
    "start_time": "2022-04-04T10:41:17.234Z"
   },
   {
    "duration": 7,
    "start_time": "2022-04-04T10:41:17.308Z"
   },
   {
    "duration": 178,
    "start_time": "2022-04-04T10:41:17.316Z"
   },
   {
    "duration": 109,
    "start_time": "2022-04-04T10:41:17.500Z"
   },
   {
    "duration": 127,
    "start_time": "2022-04-04T10:41:17.611Z"
   },
   {
    "duration": 18,
    "start_time": "2022-04-04T10:41:17.741Z"
   },
   {
    "duration": 2323,
    "start_time": "2022-04-04T10:41:17.761Z"
   },
   {
    "duration": 16,
    "start_time": "2022-04-04T10:41:20.086Z"
   },
   {
    "duration": 271,
    "start_time": "2022-04-04T10:41:20.104Z"
   },
   {
    "duration": 60,
    "start_time": "2022-04-04T10:41:20.376Z"
   },
   {
    "duration": 326,
    "start_time": "2022-04-04T10:41:20.438Z"
   },
   {
    "duration": 1088,
    "start_time": "2022-04-04T10:41:20.765Z"
   },
   {
    "duration": 11,
    "start_time": "2022-04-04T10:41:21.855Z"
   },
   {
    "duration": 11,
    "start_time": "2022-04-04T10:41:21.867Z"
   },
   {
    "duration": 1174,
    "start_time": "2022-04-04T10:41:49.238Z"
   },
   {
    "duration": 468,
    "start_time": "2022-04-04T10:41:50.414Z"
   },
   {
    "duration": 90,
    "start_time": "2022-04-04T10:41:50.884Z"
   },
   {
    "duration": 7,
    "start_time": "2022-04-04T10:41:50.976Z"
   },
   {
    "duration": 63,
    "start_time": "2022-04-04T10:41:50.985Z"
   },
   {
    "duration": 6,
    "start_time": "2022-04-04T10:41:51.050Z"
   },
   {
    "duration": 167,
    "start_time": "2022-04-04T10:41:51.058Z"
   },
   {
    "duration": 104,
    "start_time": "2022-04-04T10:41:51.226Z"
   },
   {
    "duration": 123,
    "start_time": "2022-04-04T10:41:51.331Z"
   },
   {
    "duration": 29,
    "start_time": "2022-04-04T10:41:51.456Z"
   },
   {
    "duration": 3490,
    "start_time": "2022-04-04T10:41:51.487Z"
   },
   {
    "duration": 9,
    "start_time": "2022-04-04T10:41:54.980Z"
   },
   {
    "duration": 441,
    "start_time": "2022-04-04T10:41:55.002Z"
   },
   {
    "duration": 83,
    "start_time": "2022-04-04T10:41:55.446Z"
   },
   {
    "duration": 500,
    "start_time": "2022-04-04T10:41:55.531Z"
   },
   {
    "duration": 1755,
    "start_time": "2022-04-04T10:41:56.034Z"
   },
   {
    "duration": 21,
    "start_time": "2022-04-04T10:41:57.792Z"
   },
   {
    "duration": 15,
    "start_time": "2022-04-04T10:41:57.815Z"
   },
   {
    "duration": 5,
    "start_time": "2022-04-04T10:45:27.678Z"
   },
   {
    "duration": 5,
    "start_time": "2022-04-04T10:45:43.646Z"
   },
   {
    "duration": 147,
    "start_time": "2022-04-04T10:47:51.739Z"
   },
   {
    "duration": 148,
    "start_time": "2022-04-04T10:49:44.559Z"
   },
   {
    "duration": 137,
    "start_time": "2022-04-04T10:50:07.953Z"
   },
   {
    "duration": 141,
    "start_time": "2022-04-04T10:51:49.508Z"
   },
   {
    "duration": 142,
    "start_time": "2022-04-04T10:53:43.497Z"
   },
   {
    "duration": 1252,
    "start_time": "2022-04-04T10:56:38.472Z"
   },
   {
    "duration": 493,
    "start_time": "2022-04-04T10:56:39.726Z"
   },
   {
    "duration": 98,
    "start_time": "2022-04-04T10:56:40.222Z"
   },
   {
    "duration": 6,
    "start_time": "2022-04-04T10:56:40.323Z"
   },
   {
    "duration": 70,
    "start_time": "2022-04-04T10:56:40.331Z"
   },
   {
    "duration": 7,
    "start_time": "2022-04-04T10:56:40.403Z"
   },
   {
    "duration": 170,
    "start_time": "2022-04-04T10:56:40.412Z"
   },
   {
    "duration": 108,
    "start_time": "2022-04-04T10:56:40.584Z"
   },
   {
    "duration": 120,
    "start_time": "2022-04-04T10:56:40.700Z"
   },
   {
    "duration": 29,
    "start_time": "2022-04-04T10:56:40.822Z"
   },
   {
    "duration": 2170,
    "start_time": "2022-04-04T10:56:40.854Z"
   },
   {
    "duration": 8,
    "start_time": "2022-04-04T10:56:43.025Z"
   },
   {
    "duration": 303,
    "start_time": "2022-04-04T10:56:43.035Z"
   },
   {
    "duration": 5,
    "start_time": "2022-04-04T10:56:43.340Z"
   },
   {
    "duration": 66,
    "start_time": "2022-04-04T10:56:43.347Z"
   },
   {
    "duration": 349,
    "start_time": "2022-04-04T10:56:43.415Z"
   },
   {
    "duration": 1148,
    "start_time": "2022-04-04T10:56:43.766Z"
   },
   {
    "duration": 11,
    "start_time": "2022-04-04T10:56:44.916Z"
   },
   {
    "duration": 27,
    "start_time": "2022-04-04T10:56:44.929Z"
   },
   {
    "duration": 1250,
    "start_time": "2022-04-04T10:59:32.283Z"
   },
   {
    "duration": 491,
    "start_time": "2022-04-04T10:59:33.535Z"
   },
   {
    "duration": 107,
    "start_time": "2022-04-04T10:59:34.029Z"
   },
   {
    "duration": 8,
    "start_time": "2022-04-04T10:59:34.138Z"
   },
   {
    "duration": 67,
    "start_time": "2022-04-04T10:59:34.150Z"
   },
   {
    "duration": 8,
    "start_time": "2022-04-04T10:59:34.219Z"
   },
   {
    "duration": 172,
    "start_time": "2022-04-04T10:59:34.229Z"
   },
   {
    "duration": 106,
    "start_time": "2022-04-04T10:59:34.403Z"
   },
   {
    "duration": 119,
    "start_time": "2022-04-04T10:59:34.511Z"
   },
   {
    "duration": 30,
    "start_time": "2022-04-04T10:59:34.632Z"
   },
   {
    "duration": 2254,
    "start_time": "2022-04-04T10:59:34.664Z"
   },
   {
    "duration": 8,
    "start_time": "2022-04-04T10:59:36.921Z"
   },
   {
    "duration": 277,
    "start_time": "2022-04-04T10:59:36.932Z"
   },
   {
    "duration": 4,
    "start_time": "2022-04-04T10:59:37.213Z"
   },
   {
    "duration": 49,
    "start_time": "2022-04-04T10:59:37.219Z"
   },
   {
    "duration": 335,
    "start_time": "2022-04-04T10:59:37.271Z"
   },
   {
    "duration": 1074,
    "start_time": "2022-04-04T10:59:37.608Z"
   },
   {
    "duration": 17,
    "start_time": "2022-04-04T10:59:38.684Z"
   },
   {
    "duration": 24,
    "start_time": "2022-04-04T10:59:38.703Z"
   },
   {
    "duration": 116,
    "start_time": "2022-04-06T08:30:46.924Z"
   },
   {
    "duration": 101,
    "start_time": "2022-04-06T08:37:26.310Z"
   },
   {
    "duration": 178,
    "start_time": "2022-04-06T08:37:31.050Z"
   },
   {
    "duration": 1293,
    "start_time": "2022-04-06T08:43:11.974Z"
   },
   {
    "duration": 455,
    "start_time": "2022-04-06T08:43:13.269Z"
   },
   {
    "duration": 244,
    "start_time": "2022-04-06T08:43:13.725Z"
   },
   {
    "duration": 85,
    "start_time": "2022-04-06T08:43:13.971Z"
   },
   {
    "duration": 5,
    "start_time": "2022-04-06T08:43:14.058Z"
   },
   {
    "duration": 54,
    "start_time": "2022-04-06T08:43:14.065Z"
   },
   {
    "duration": 13,
    "start_time": "2022-04-06T08:43:14.121Z"
   },
   {
    "duration": 155,
    "start_time": "2022-04-06T08:43:14.136Z"
   },
   {
    "duration": 103,
    "start_time": "2022-04-06T08:43:14.293Z"
   },
   {
    "duration": 120,
    "start_time": "2022-04-06T08:43:14.399Z"
   },
   {
    "duration": 27,
    "start_time": "2022-04-06T08:43:14.521Z"
   },
   {
    "duration": 495,
    "start_time": "2022-04-06T08:43:14.549Z"
   },
   {
    "duration": 13,
    "start_time": "2022-04-06T08:43:15.045Z"
   },
   {
    "duration": 18,
    "start_time": "2022-04-06T08:43:15.059Z"
   },
   {
    "duration": 6,
    "start_time": "2022-04-06T08:43:15.078Z"
   },
   {
    "duration": 8,
    "start_time": "2022-04-06T08:43:15.086Z"
   },
   {
    "duration": 270,
    "start_time": "2022-04-06T08:43:15.096Z"
   },
   {
    "duration": 5,
    "start_time": "2022-04-06T08:43:15.368Z"
   },
   {
    "duration": 60,
    "start_time": "2022-04-06T08:43:15.375Z"
   },
   {
    "duration": 301,
    "start_time": "2022-04-06T08:43:15.437Z"
   },
   {
    "duration": 1008,
    "start_time": "2022-04-06T08:43:15.740Z"
   },
   {
    "duration": 10,
    "start_time": "2022-04-06T08:43:16.750Z"
   },
   {
    "duration": 173,
    "start_time": "2022-04-06T08:43:16.761Z"
   },
   {
    "duration": 9,
    "start_time": "2022-04-06T08:43:16.936Z"
   },
   {
    "duration": 339,
    "start_time": "2022-04-06T08:44:17.635Z"
   },
   {
    "duration": 248,
    "start_time": "2022-04-06T08:44:59.669Z"
   },
   {
    "duration": 282,
    "start_time": "2022-04-06T08:45:06.909Z"
   },
   {
    "duration": 270,
    "start_time": "2022-04-06T08:45:47.607Z"
   },
   {
    "duration": 6,
    "start_time": "2022-04-06T08:50:54.786Z"
   },
   {
    "duration": 1145,
    "start_time": "2022-04-06T08:51:01.986Z"
   },
   {
    "duration": 127,
    "start_time": "2022-04-06T08:54:06.713Z"
   },
   {
    "duration": 1191,
    "start_time": "2022-04-06T08:59:49.223Z"
   },
   {
    "duration": 459,
    "start_time": "2022-04-06T08:59:50.416Z"
   },
   {
    "duration": 248,
    "start_time": "2022-04-06T08:59:50.876Z"
   },
   {
    "duration": 81,
    "start_time": "2022-04-06T08:59:51.125Z"
   },
   {
    "duration": 25,
    "start_time": "2022-04-06T08:59:51.208Z"
   },
   {
    "duration": 49,
    "start_time": "2022-04-06T08:59:51.235Z"
   },
   {
    "duration": 6,
    "start_time": "2022-04-06T08:59:51.286Z"
   },
   {
    "duration": 165,
    "start_time": "2022-04-06T08:59:51.294Z"
   },
   {
    "duration": 104,
    "start_time": "2022-04-06T08:59:51.461Z"
   },
   {
    "duration": 119,
    "start_time": "2022-04-06T08:59:51.567Z"
   },
   {
    "duration": 26,
    "start_time": "2022-04-06T08:59:51.688Z"
   },
   {
    "duration": 497,
    "start_time": "2022-04-06T08:59:51.716Z"
   },
   {
    "duration": 22,
    "start_time": "2022-04-06T08:59:52.215Z"
   },
   {
    "duration": 14,
    "start_time": "2022-04-06T08:59:52.241Z"
   },
   {
    "duration": 7,
    "start_time": "2022-04-06T08:59:52.256Z"
   },
   {
    "duration": 11,
    "start_time": "2022-04-06T08:59:52.266Z"
   },
   {
    "duration": 256,
    "start_time": "2022-04-06T08:59:52.279Z"
   },
   {
    "duration": 4,
    "start_time": "2022-04-06T08:59:52.538Z"
   },
   {
    "duration": 40,
    "start_time": "2022-04-06T08:59:52.544Z"
   },
   {
    "duration": 310,
    "start_time": "2022-04-06T08:59:52.586Z"
   },
   {
    "duration": 1009,
    "start_time": "2022-04-06T08:59:52.898Z"
   },
   {
    "duration": 10,
    "start_time": "2022-04-06T08:59:53.908Z"
   },
   {
    "duration": 179,
    "start_time": "2022-04-06T08:59:53.920Z"
   },
   {
    "duration": 10,
    "start_time": "2022-04-06T08:59:54.101Z"
   },
   {
    "duration": 20,
    "start_time": "2022-04-06T08:59:54.112Z"
   }
  ],
  "kernelspec": {
   "display_name": "Python 3 (ipykernel)",
   "language": "python",
   "name": "python3"
  },
  "language_info": {
   "codemirror_mode": {
    "name": "ipython",
    "version": 3
   },
   "file_extension": ".py",
   "mimetype": "text/x-python",
   "name": "python",
   "nbconvert_exporter": "python",
   "pygments_lexer": "ipython3",
   "version": "3.7.8"
  },
  "toc": {
   "base_numbering": 1,
   "nav_menu": {},
   "number_sections": true,
   "sideBar": true,
   "skip_h1_title": true,
   "title_cell": "Содержание",
   "title_sidebar": "Contents",
   "toc_cell": true,
   "toc_position": {
    "height": "calc(100% - 180px)",
    "left": "10px",
    "top": "150px",
    "width": "384px"
   },
   "toc_section_display": true,
   "toc_window_display": true
  }
 },
 "nbformat": 4,
 "nbformat_minor": 5
}
