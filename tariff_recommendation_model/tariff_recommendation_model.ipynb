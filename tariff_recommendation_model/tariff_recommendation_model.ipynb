{
 "cells": [
  {
   "cell_type": "markdown",
   "id": "1f9d9938",
   "metadata": {},
   "source": [
    "# Построение моели рекомендации тарифа"
   ]
  },
  {
   "cell_type": "markdown",
   "id": "c003e763",
   "metadata": {},
   "source": [
    "В вашем распоряжении данные о поведении клиентов, которые уже перешли на тарифы «Смарт» и «Ультра». Нужно построить модель для задачи классификации, которая проанализирует поведение клиентов и предложит пользователям новый тариф: «Смарт» или «Ультра». Нам так же необходимо довести долю правильных ответов по крайней мере до 0.75 на тестовой выборке.\n",
    "\n",
    "*Описание данных:*\n",
    "\n",
    "Каждый объект в наборе данных — это информация о поведении одного пользователя за месяц. Известно:   \n",
    "\n",
    " - `сalls` — количество звонков   \n",
    " - `minutes` — суммарная длительность звонков в минутах   \n",
    " - `messages` — количество sms-сообщений   \n",
    " - `mb_used` — израсходованный интернет-трафик в Мб   \n",
    " - `is_ultra` — каким тарифом пользовался в течение месяца («Ультра» — 1, «Смарт» — 0)."
   ]
  },
  {
   "cell_type": "markdown",
   "id": "19770cc9",
   "metadata": {
    "toc": true
   },
   "source": [
    "<h1>Содержание<span class=\"tocSkip\"></span></h1>\n",
    "<div class=\"toc\"><ul class=\"toc-item\"><li><span><a href=\"#Изучение-данных\" data-toc-modified-id=\"Изучение-данных-1\"><span class=\"toc-item-num\">1&nbsp;&nbsp;</span>Изучение данных</a></span></li><li><span><a href=\"#Разделение-на-выборки\" data-toc-modified-id=\"Разделение-на-выборки-2\"><span class=\"toc-item-num\">2&nbsp;&nbsp;</span>Разделение на выборки</a></span></li><li><span><a href=\"#Исследование-качества-разных-моделей\" data-toc-modified-id=\"Исследование-качества-разных-моделей-3\"><span class=\"toc-item-num\">3&nbsp;&nbsp;</span>Исследование качества разных моделей</a></span><ul class=\"toc-item\"><li><span><a href=\"#Дерево-решений\" data-toc-modified-id=\"Дерево-решений-3.1\"><span class=\"toc-item-num\">3.1&nbsp;&nbsp;</span>Дерево решений</a></span></li><li><span><a href=\"#Случайный-лес\" data-toc-modified-id=\"Случайный-лес-3.2\"><span class=\"toc-item-num\">3.2&nbsp;&nbsp;</span>Случайный лес</a></span></li><li><span><a href=\"#Логистическая-регрессия\" data-toc-modified-id=\"Логистическая-регрессия-3.3\"><span class=\"toc-item-num\">3.3&nbsp;&nbsp;</span>Логистическая регрессия</a></span></li></ul></li><li><span><a href=\"#Проверка-качества-модели-на-тестовой-выборке\" data-toc-modified-id=\"Проверка-качества-модели-на-тестовой-выборке-4\"><span class=\"toc-item-num\">4&nbsp;&nbsp;</span>Проверка качества модели на тестовой выборке</a></span></li><li><span><a href=\"#Проверка-модели-на-вменяемость\" data-toc-modified-id=\"Проверка-модели-на-вменяемость-5\"><span class=\"toc-item-num\">5&nbsp;&nbsp;</span>Проверка модели на вменяемость</a></span></li><li><span><a href=\"#Общий-вывод\" data-toc-modified-id=\"Общий-вывод-6\"><span class=\"toc-item-num\">6&nbsp;&nbsp;</span>Общий вывод</a></span></li></ul></div>"
   ]
  },
  {
   "cell_type": "markdown",
   "id": "c3e5f111",
   "metadata": {},
   "source": [
    "## Изучение данных   \n",
    "Загрузим необходимые для нас библиотеки, а так же загрузим и изучим данные из файла `users_behavior.csv`"
   ]
  },
  {
   "cell_type": "code",
   "execution_count": 1,
   "id": "d3d066f9",
   "metadata": {},
   "outputs": [
    {
     "name": "stdout",
     "output_type": "stream",
     "text": [
      "Setup complete\n"
     ]
    }
   ],
   "source": [
    "import pandas as pd\n",
    "from sklearn.model_selection import train_test_split\n",
    "from sklearn.tree import DecisionTreeClassifier\n",
    "from sklearn.ensemble import RandomForestClassifier\n",
    "from sklearn.linear_model import LogisticRegression\n",
    "from sklearn.metrics import accuracy_score\n",
    "pd.options.display.float_format = '{:,.2f}'.format\n",
    "print('Setup complete')"
   ]
  },
  {
   "cell_type": "code",
   "execution_count": 2,
   "id": "e21c4c93",
   "metadata": {},
   "outputs": [
    {
     "name": "stdout",
     "output_type": "stream",
     "text": [
      "<class 'pandas.core.frame.DataFrame'>\n",
      "RangeIndex: 3214 entries, 0 to 3213\n",
      "Data columns (total 5 columns):\n",
      " #   Column    Non-Null Count  Dtype  \n",
      "---  ------    --------------  -----  \n",
      " 0   calls     3214 non-null   float64\n",
      " 1   minutes   3214 non-null   float64\n",
      " 2   messages  3214 non-null   float64\n",
      " 3   mb_used   3214 non-null   float64\n",
      " 4   is_ultra  3214 non-null   int64  \n",
      "dtypes: float64(4), int64(1)\n",
      "memory usage: 125.7 KB\n"
     ]
    },
    {
     "data": {
      "text/html": [
       "<div>\n",
       "<style scoped>\n",
       "    .dataframe tbody tr th:only-of-type {\n",
       "        vertical-align: middle;\n",
       "    }\n",
       "\n",
       "    .dataframe tbody tr th {\n",
       "        vertical-align: top;\n",
       "    }\n",
       "\n",
       "    .dataframe thead th {\n",
       "        text-align: right;\n",
       "    }\n",
       "</style>\n",
       "<table border=\"1\" class=\"dataframe\">\n",
       "  <thead>\n",
       "    <tr style=\"text-align: right;\">\n",
       "      <th></th>\n",
       "      <th>calls</th>\n",
       "      <th>minutes</th>\n",
       "      <th>messages</th>\n",
       "      <th>mb_used</th>\n",
       "      <th>is_ultra</th>\n",
       "    </tr>\n",
       "  </thead>\n",
       "  <tbody>\n",
       "    <tr>\n",
       "      <th>0</th>\n",
       "      <td>40.00</td>\n",
       "      <td>311.90</td>\n",
       "      <td>83.00</td>\n",
       "      <td>19,915.42</td>\n",
       "      <td>0</td>\n",
       "    </tr>\n",
       "    <tr>\n",
       "      <th>1</th>\n",
       "      <td>85.00</td>\n",
       "      <td>516.75</td>\n",
       "      <td>56.00</td>\n",
       "      <td>22,696.96</td>\n",
       "      <td>0</td>\n",
       "    </tr>\n",
       "    <tr>\n",
       "      <th>2</th>\n",
       "      <td>77.00</td>\n",
       "      <td>467.66</td>\n",
       "      <td>86.00</td>\n",
       "      <td>21,060.45</td>\n",
       "      <td>0</td>\n",
       "    </tr>\n",
       "    <tr>\n",
       "      <th>3</th>\n",
       "      <td>106.00</td>\n",
       "      <td>745.53</td>\n",
       "      <td>81.00</td>\n",
       "      <td>8,437.39</td>\n",
       "      <td>1</td>\n",
       "    </tr>\n",
       "    <tr>\n",
       "      <th>4</th>\n",
       "      <td>66.00</td>\n",
       "      <td>418.74</td>\n",
       "      <td>1.00</td>\n",
       "      <td>14,502.75</td>\n",
       "      <td>0</td>\n",
       "    </tr>\n",
       "  </tbody>\n",
       "</table>\n",
       "</div>"
      ],
      "text/plain": [
       "   calls  minutes  messages   mb_used  is_ultra\n",
       "0  40.00   311.90     83.00 19,915.42         0\n",
       "1  85.00   516.75     56.00 22,696.96         0\n",
       "2  77.00   467.66     86.00 21,060.45         0\n",
       "3 106.00   745.53     81.00  8,437.39         1\n",
       "4  66.00   418.74      1.00 14,502.75         0"
      ]
     },
     "metadata": {},
     "output_type": "display_data"
    },
    {
     "data": {
      "text/plain": [
       "None"
      ]
     },
     "metadata": {},
     "output_type": "display_data"
    },
    {
     "data": {
      "text/html": [
       "<div>\n",
       "<style scoped>\n",
       "    .dataframe tbody tr th:only-of-type {\n",
       "        vertical-align: middle;\n",
       "    }\n",
       "\n",
       "    .dataframe tbody tr th {\n",
       "        vertical-align: top;\n",
       "    }\n",
       "\n",
       "    .dataframe thead th {\n",
       "        text-align: right;\n",
       "    }\n",
       "</style>\n",
       "<table border=\"1\" class=\"dataframe\">\n",
       "  <thead>\n",
       "    <tr style=\"text-align: right;\">\n",
       "      <th></th>\n",
       "      <th>calls</th>\n",
       "      <th>minutes</th>\n",
       "      <th>messages</th>\n",
       "      <th>mb_used</th>\n",
       "      <th>is_ultra</th>\n",
       "    </tr>\n",
       "  </thead>\n",
       "  <tbody>\n",
       "    <tr>\n",
       "      <th>count</th>\n",
       "      <td>3,214.00</td>\n",
       "      <td>3,214.00</td>\n",
       "      <td>3,214.00</td>\n",
       "      <td>3,214.00</td>\n",
       "      <td>3,214.00</td>\n",
       "    </tr>\n",
       "    <tr>\n",
       "      <th>mean</th>\n",
       "      <td>63.04</td>\n",
       "      <td>438.21</td>\n",
       "      <td>38.28</td>\n",
       "      <td>17,207.67</td>\n",
       "      <td>0.31</td>\n",
       "    </tr>\n",
       "    <tr>\n",
       "      <th>std</th>\n",
       "      <td>33.24</td>\n",
       "      <td>234.57</td>\n",
       "      <td>36.15</td>\n",
       "      <td>7,570.97</td>\n",
       "      <td>0.46</td>\n",
       "    </tr>\n",
       "    <tr>\n",
       "      <th>min</th>\n",
       "      <td>0.00</td>\n",
       "      <td>0.00</td>\n",
       "      <td>0.00</td>\n",
       "      <td>0.00</td>\n",
       "      <td>0.00</td>\n",
       "    </tr>\n",
       "    <tr>\n",
       "      <th>25%</th>\n",
       "      <td>40.00</td>\n",
       "      <td>274.58</td>\n",
       "      <td>9.00</td>\n",
       "      <td>12,491.90</td>\n",
       "      <td>0.00</td>\n",
       "    </tr>\n",
       "    <tr>\n",
       "      <th>50%</th>\n",
       "      <td>62.00</td>\n",
       "      <td>430.60</td>\n",
       "      <td>30.00</td>\n",
       "      <td>16,943.24</td>\n",
       "      <td>0.00</td>\n",
       "    </tr>\n",
       "    <tr>\n",
       "      <th>75%</th>\n",
       "      <td>82.00</td>\n",
       "      <td>571.93</td>\n",
       "      <td>57.00</td>\n",
       "      <td>21,424.70</td>\n",
       "      <td>1.00</td>\n",
       "    </tr>\n",
       "    <tr>\n",
       "      <th>max</th>\n",
       "      <td>244.00</td>\n",
       "      <td>1,632.06</td>\n",
       "      <td>224.00</td>\n",
       "      <td>49,745.73</td>\n",
       "      <td>1.00</td>\n",
       "    </tr>\n",
       "  </tbody>\n",
       "</table>\n",
       "</div>"
      ],
      "text/plain": [
       "         calls  minutes  messages   mb_used  is_ultra\n",
       "count 3,214.00 3,214.00  3,214.00  3,214.00  3,214.00\n",
       "mean     63.04   438.21     38.28 17,207.67      0.31\n",
       "std      33.24   234.57     36.15  7,570.97      0.46\n",
       "min       0.00     0.00      0.00      0.00      0.00\n",
       "25%      40.00   274.58      9.00 12,491.90      0.00\n",
       "50%      62.00   430.60     30.00 16,943.24      0.00\n",
       "75%      82.00   571.93     57.00 21,424.70      1.00\n",
       "max     244.00 1,632.06    224.00 49,745.73      1.00"
      ]
     },
     "metadata": {},
     "output_type": "display_data"
    },
    {
     "name": "stdout",
     "output_type": "stream",
     "text": [
      "Кол-во пропусков:\n",
      " calls       0\n",
      "minutes     0\n",
      "messages    0\n",
      "mb_used     0\n",
      "is_ultra    0\n",
      "dtype: int64\n",
      "\n",
      "Кол-во дубликатов: 0\n"
     ]
    }
   ],
   "source": [
    "try:\n",
    "    df = pd.read_csv('/datasets/users_behavior.csv')\n",
    "except:\n",
    "    df = pd.read_csv('datasets/users_behavior.csv')\n",
    "display(df.head(), df.info(), df.describe())\n",
    "print('Кол-во пропусков:\\n', df.isna().sum())\n",
    "print()\n",
    "print('Кол-во дубликатов:', df.duplicated().sum())"
   ]
  },
  {
   "cell_type": "markdown",
   "id": "dcd0f1f3",
   "metadata": {},
   "source": [
    "В данных всё в порядке. Всего имеется 3214 записей, пропуски отсутсвуют, дубликаты отсутсвуют."
   ]
  },
  {
   "cell_type": "markdown",
   "id": "044bfeef",
   "metadata": {},
   "source": [
    "## Разделение на выборки   \n",
    "Нам необходимо разделить нашу выборку на три части: Обучающую, валидационную и тестовую.   \n",
    "Для начала посмотрим на распределение тарифов абонентов в нашей выборке."
   ]
  },
  {
   "cell_type": "code",
   "execution_count": 3,
   "id": "71c583cf",
   "metadata": {},
   "outputs": [
    {
     "name": "stdout",
     "output_type": "stream",
     "text": [
      "Доля абонентов Ультра: 30.6%\n",
      "Доля абонентов Смарт: 69.4%\n"
     ]
    }
   ],
   "source": [
    "print(f'Доля абонентов Ультра: {(len(df.query(\"is_ultra == 1\")) / len(df)):.1%}')\n",
    "print(f'Доля абонентов Смарт: {(len(df.query(\"is_ultra == 0\")) / len(df)):.1%}')"
   ]
  },
  {
   "cell_type": "markdown",
   "id": "00373e3c",
   "metadata": {},
   "source": [
    "Извлечем из наших данных целевой признак и признаки, присвоим им названия `target` и `features` соответсвенно.   \n",
    "Выделим тестовую выборку из датасета. Для удобства сохраним значение `random_state` в переменной `state`."
   ]
  },
  {
   "cell_type": "code",
   "execution_count": 4,
   "id": "2e451290",
   "metadata": {},
   "outputs": [],
   "source": [
    "state = 43\n",
    "features = df.drop('is_ultra', axis=1)\n",
    "target = df['is_ultra']\n",
    "features_df, features_test, target_df, target_test = train_test_split(\n",
    "    features, target, test_size=0.2, random_state=state)"
   ]
  },
  {
   "cell_type": "markdown",
   "id": "7fb47014",
   "metadata": {},
   "source": [
    "Разделим оставшуюся выборку на тренировочную и валидационную."
   ]
  },
  {
   "cell_type": "code",
   "execution_count": 5,
   "id": "5deef7e4",
   "metadata": {},
   "outputs": [],
   "source": [
    "features_train, features_valid, target_train, target_valid = train_test_split(\n",
    "    features_df, target_df, test_size=0.25, random_state=state)"
   ]
  },
  {
   "cell_type": "markdown",
   "id": "cfb1d4bb",
   "metadata": {},
   "source": [
    "Проверим правильность разбиения получившихся выборок."
   ]
  },
  {
   "cell_type": "code",
   "execution_count": 6,
   "id": "6e23d494",
   "metadata": {},
   "outputs": [
    {
     "name": "stdout",
     "output_type": "stream",
     "text": [
      "Размер обучающей выборки составляет: 60.0%\n",
      "Размер тестовой выборки составляет: 20.0%\n",
      "Размер валидационной выборки составляет: 20.0%\n"
     ]
    }
   ],
   "source": [
    "print(f'Размер обучающей выборки составляет: {features_train.shape[0]  / len(df):.1%}')\n",
    "print(f'Размер тестовой выборки составляет: {features_test.shape[0] / len(df):.1%}')\n",
    "print(f'Размер валидационной выборки составляет: {features_valid.shape[0] / len(df):.1%}')"
   ]
  },
  {
   "cell_type": "markdown",
   "id": "57fd4f1f",
   "metadata": {},
   "source": [
    "Проверим так же процент пользователей тарифа Ультра в каждой из полученных выборок."
   ]
  },
  {
   "cell_type": "code",
   "execution_count": 7,
   "id": "a462e13f",
   "metadata": {},
   "outputs": [
    {
     "name": "stdout",
     "output_type": "stream",
     "text": [
      "Доля абонентов Ультра в обучающей выборке: 30.8%\n",
      "Доля абонентов Ультра в тестовой выборке: 31.1%\n",
      "Доля абонентов Ультра в валидационной выборки: 29.9%\n"
     ]
    }
   ],
   "source": [
    "print(f'Доля абонентов Ультра в обучающей выборке: {(target_train.sum() / len(target_train)):.1%}')\n",
    "print(f'Доля абонентов Ультра в тестовой выборке: {(target_test.sum() / len(target_test)):.1%}')\n",
    "print(f'Доля абонентов Ультра в валидационной выборки: {(target_valid.sum() / len(target_valid)):.1%}')"
   ]
  },
  {
   "cell_type": "markdown",
   "id": "e2cde992",
   "metadata": {},
   "source": [
    "Выборки разделены верно 60%, 20%, 20%. Доля абонентов тарифа Ультра примерно во всех выборках одинаковая."
   ]
  },
  {
   "cell_type": "markdown",
   "id": "a09ca710",
   "metadata": {},
   "source": [
    "## Исследование качества разных моделей   \n",
    "Здесь мы исследуем три известных нам модели и выберем наилучшую.   \n",
    "*Исследуемые модели:*   \n",
    " - Дерево решений\n",
    " - Случайный лес\n",
    " - Логистическая регрессия"
   ]
  },
  {
   "cell_type": "markdown",
   "id": "7fe5ea61",
   "metadata": {},
   "source": [
    "### Дерево решений"
   ]
  },
  {
   "cell_type": "code",
   "execution_count": 8,
   "id": "9c24a3c1",
   "metadata": {},
   "outputs": [
    {
     "name": "stdout",
     "output_type": "stream",
     "text": [
      "Accuracy лучшей модели на валидационной выборке: 0.7993779160186625 Глубина дерева: 11\n"
     ]
    }
   ],
   "source": [
    "best_dtc_model = None\n",
    "best_result = 0\n",
    "best_depth = 0\n",
    "for depth in range(1, 20):\n",
    "    model = DecisionTreeClassifier(random_state=state, max_depth=depth)\n",
    "    model.fit(features_train, target_train)\n",
    "    predictions_valid = model.predict(features_valid)\n",
    "    result = accuracy_score(target_valid, predictions_valid)\n",
    "    if result > best_result:\n",
    "        best_dtc_model = model\n",
    "        best_result = result\n",
    "        best_depth = depth\n",
    "        \n",
    "print(\"Accuracy лучшей модели на валидационной выборке:\", best_result, \"Глубина дерева:\", best_depth)"
   ]
  },
  {
   "cell_type": "markdown",
   "id": "c2fdf68c",
   "metadata": {},
   "source": [
    "### Случайный лес"
   ]
  },
  {
   "cell_type": "code",
   "execution_count": 9,
   "id": "411ef57d",
   "metadata": {},
   "outputs": [
    {
     "name": "stdout",
     "output_type": "stream",
     "text": [
      "Accuracy наилучшей модели на валидационной выборке: 0.8227060653188181 Количество деревьев: 47\n"
     ]
    }
   ],
   "source": [
    "best_rfc_model = None\n",
    "best_result = 0\n",
    "best_est = 0\n",
    "for est in range(1, 50):\n",
    "    model = RandomForestClassifier(random_state=state, n_estimators=est) \n",
    "    model.fit(features_train, target_train)\n",
    "    result = model.score(features_valid, target_valid)\n",
    "    if result > best_result:\n",
    "        best_rfc_model = model\n",
    "        best_result = result\n",
    "        best_est = est\n",
    "        \n",
    "print(\"Accuracy наилучшей модели на валидационной выборке:\", best_result, \"Количество деревьев:\", best_est)"
   ]
  },
  {
   "cell_type": "markdown",
   "id": "eedadb99",
   "metadata": {},
   "source": [
    "### Логистическая регрессия"
   ]
  },
  {
   "cell_type": "code",
   "execution_count": 10,
   "id": "f7a3f344",
   "metadata": {},
   "outputs": [
    {
     "name": "stdout",
     "output_type": "stream",
     "text": [
      "Accuracy модели логистической регрессии на валидационной выборке: 0.7465007776049767\n"
     ]
    }
   ],
   "source": [
    "model_lr = LogisticRegression(random_state=state, solver='lbfgs', max_iter=1000)\n",
    "model_lr.fit(features_train, target_train)\n",
    "\n",
    "predictions_valid = model_lr.predict(features_valid)\n",
    "valid_acc = accuracy_score(target_valid, predictions_valid)\n",
    "\n",
    "print(\"Accuracy модели логистической регрессии на валидационной выборке:\", valid_acc)"
   ]
  },
  {
   "cell_type": "markdown",
   "id": "a5ac3e2a",
   "metadata": {},
   "source": [
    "Запишем наши полученные значения:   \n",
    " 1. Лучшая модель дерева решений 0.7993779160186625 Глубина дерева: 11   \n",
    " 2. Лучшая модель случайного леса 0.8227060653188181 Количество деревьев: 47   \n",
    " 3. Логистическая регрессия 0.7465007776049767   \n",
    " \n",
    "Теперь на предстоит проверить наши модели на тестовой выборке."
   ]
  },
  {
   "cell_type": "markdown",
   "id": "b2b12a32",
   "metadata": {},
   "source": [
    "## Проверка качества модели на тестовой выборке\n",
    "Самый лучший результат мы получили на модели случайного леса. Проверим каждую из этих моделей на тестовой выборке."
   ]
  },
  {
   "cell_type": "code",
   "execution_count": 11,
   "id": "20aff53f",
   "metadata": {},
   "outputs": [
    {
     "name": "stdout",
     "output_type": "stream",
     "text": [
      "Accuracy выбранной модели Дерева решений на тестовой выборке: 0.7776049766718507\n",
      "Accuracy выбранной модели Случайного леса на тестовой выборке: 0.8133748055987559\n",
      "Accuracy выбранной модели Логистической регрессии на тестовой выборке: 0.7667185069984448\n"
     ]
    }
   ],
   "source": [
    "models = {best_dtc_model: 'Дерева решений',\n",
    "         best_rfc_model: 'Случайного леса',\n",
    "         model_lr: 'Логистической регрессии'}\n",
    "\n",
    "for model in models:\n",
    "    predictions_test = model.predict(features_test)\n",
    "    result = accuracy_score(target_test, predictions_test)\n",
    "    print(f'Accuracy выбранной модели {models.get(model)} на тестовой выборке: {result}')"
   ]
  },
  {
   "cell_type": "markdown",
   "id": "4245cbb2",
   "metadata": {},
   "source": [
    "Лучшую точность нам показала модель случайного леса 0.81, что хоть и не намного, но всё же больше 0.75."
   ]
  },
  {
   "cell_type": "markdown",
   "id": "a33a8c8e",
   "metadata": {},
   "source": [
    "## Проверка модели на вменяемость   \n",
    "Проверим нашу модель на вменяемость проверив долю пользователей тарифа Ультра в предсказанных значениях."
   ]
  },
  {
   "cell_type": "code",
   "execution_count": 12,
   "id": "139497d4",
   "metadata": {},
   "outputs": [
    {
     "name": "stdout",
     "output_type": "stream",
     "text": [
      "Доля абонентов Ультра в тестовой выборке: 31.1%\n",
      "Доля абонентов Ультра в передсказанной выборке: 24.6%\n"
     ]
    }
   ],
   "source": [
    "predictions_test = best_rfc_model.predict(features_test)\n",
    "print(f'Доля абонентов Ультра в тестовой выборке: {(target_test.sum() / len(target_test)):.1%}')\n",
    "print(f'Доля абонентов Ультра в передсказанной выборке: {(predictions_test.sum() / len(predictions_test)):.1%}')"
   ]
  },
  {
   "cell_type": "markdown",
   "id": "7fad0316",
   "metadata": {},
   "source": [
    "Модель предсказала практически тоже самое кол-во клиентов с тарифом Ультра."
   ]
  },
  {
   "cell_type": "markdown",
   "id": "8afc589a",
   "metadata": {},
   "source": [
    "## Общий вывод   \n",
    "Самой лучшей моделью для данной выборки стал случайный лес, который показал точность тестовой модели в 0.81 и прошёл проверку на вменяемость."
   ]
  }
 ],
 "metadata": {
  "kernelspec": {
   "display_name": "Python 3 (ipykernel)",
   "language": "python",
   "name": "python3"
  },
  "language_info": {
   "codemirror_mode": {
    "name": "ipython",
    "version": 3
   },
   "file_extension": ".py",
   "mimetype": "text/x-python",
   "name": "python",
   "nbconvert_exporter": "python",
   "pygments_lexer": "ipython3",
   "version": "3.7.8"
  },
  "toc": {
   "base_numbering": 1,
   "nav_menu": {},
   "number_sections": true,
   "sideBar": true,
   "skip_h1_title": true,
   "title_cell": "Содержание",
   "title_sidebar": "Contents",
   "toc_cell": true,
   "toc_position": {},
   "toc_section_display": true,
   "toc_window_display": true
  }
 },
 "nbformat": 4,
 "nbformat_minor": 5
}
