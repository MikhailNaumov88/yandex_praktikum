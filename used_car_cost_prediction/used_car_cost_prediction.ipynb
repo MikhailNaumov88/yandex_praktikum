{
 "cells": [
  {
   "cell_type": "markdown",
   "metadata": {},
   "source": [
    "# Определение стоимости автомобилей"
   ]
  },
  {
   "cell_type": "markdown",
   "metadata": {},
   "source": [
    "Сервис по продаже автомобилей с пробегом «Не бит, не крашен» разрабатывает приложение для привлечения новых клиентов. В нём можно быстро узнать рыночную стоимость своего автомобиля. В нашем распоряжении исторические данные: технические характеристики, комплектации и цены автомобилей. Вам нужно построить модель для определения стоимости. \n",
    "\n",
    "Заказчику важны:\n",
    "\n",
    "- качество предсказания;\n",
    "- скорость предсказания;\n",
    "- время обучения.\n",
    "\n",
    "*Описание данных:*\n",
    "\n",
    "Признаки:\n",
    "\n",
    " - `DateCrawled` — дата скачивания анкеты из базы\n",
    " - `VehicleType` — тип автомобильного кузова\n",
    " - `RegistrationYear` — год регистрации автомобиля\n",
    " - `Gearbox` — тип коробки передач\n",
    " - `Power` — мощность (л. с.)\n",
    " - `Model` — модель автомобиля\n",
    " - `Kilometer` — пробег (км)\n",
    " - `RegistrationMonth` — месяц регистрации автомобиля\n",
    " - `FuelType` — тип топлива\n",
    " - `Brand` — марка автомобиля\n",
    " - `NotRepaired` — была машина в ремонте или нет\n",
    " - `DateCreated` — дата создания анкеты\n",
    " - `NumberOfPictures` — количество фотографий автомобиля\n",
    " - `PostalCode` — почтовый индекс владельца анкеты (пользователя)\n",
    " - `LastSeen` — дата последней активности пользователя\n",
    " \n",
    "Целевой признак:\n",
    "\n",
    " - `Price` — цена (евро)\n",
    " \n",
    " \n",
    " **Разработка пройдёт в три основных этапа:**\n",
    "\n",
    "1. Загрузка и подготовка данных.\n",
    "2. Обучение и проверка моделей.\n",
    "3. Анализ моделей."
   ]
  },
  {
   "cell_type": "markdown",
   "metadata": {
    "toc": true
   },
   "source": [
    "<h1>Содержание<span class=\"tocSkip\"></span></h1>\n",
    "<div class=\"toc\"><ul class=\"toc-item\"><li><span><a href=\"#Подготовка-данных\" data-toc-modified-id=\"Подготовка-данных-1\"><span class=\"toc-item-num\">1&nbsp;&nbsp;</span>Подготовка данных</a></span><ul class=\"toc-item\"><li><span><a href=\"#Загрузка-и-обзор-данных\" data-toc-modified-id=\"Загрузка-и-обзор-данных-1.1\"><span class=\"toc-item-num\">1.1&nbsp;&nbsp;</span>Загрузка и обзор данных</a></span></li><li><span><a href=\"#Предобработка-данных\" data-toc-modified-id=\"Предобработка-данных-1.2\"><span class=\"toc-item-num\">1.2&nbsp;&nbsp;</span>Предобработка данных</a></span><ul class=\"toc-item\"><li><span><a href=\"#Обработка-пропусков\" data-toc-modified-id=\"Обработка-пропусков-1.2.1\"><span class=\"toc-item-num\">1.2.1&nbsp;&nbsp;</span>Обработка пропусков</a></span></li><li><span><a href=\"#Выявление--и-обработка-аномалий\" data-toc-modified-id=\"Выявление--и-обработка-аномалий-1.2.2\"><span class=\"toc-item-num\">1.2.2&nbsp;&nbsp;</span>Выявление  и обработка аномалий</a></span></li><li><span><a href=\"#Разделение-и-кодирование-выборок\" data-toc-modified-id=\"Разделение-и-кодирование-выборок-1.2.3\"><span class=\"toc-item-num\">1.2.3&nbsp;&nbsp;</span>Разделение и кодирование выборок</a></span></li></ul></li></ul></li><li><span><a href=\"#Обучение-моделей\" data-toc-modified-id=\"Обучение-моделей-2\"><span class=\"toc-item-num\">2&nbsp;&nbsp;</span>Обучение моделей</a></span><ul class=\"toc-item\"><li><span><a href=\"#LinearRegression\" data-toc-modified-id=\"LinearRegression-2.1\"><span class=\"toc-item-num\">2.1&nbsp;&nbsp;</span>LinearRegression</a></span></li><li><span><a href=\"#ElasticNet\" data-toc-modified-id=\"ElasticNet-2.2\"><span class=\"toc-item-num\">2.2&nbsp;&nbsp;</span>ElasticNet</a></span></li><li><span><a href=\"#SGDRegressor\" data-toc-modified-id=\"SGDRegressor-2.3\"><span class=\"toc-item-num\">2.3&nbsp;&nbsp;</span>SGDRegressor</a></span></li><li><span><a href=\"#RandomForestRegressor\" data-toc-modified-id=\"RandomForestRegressor-2.4\"><span class=\"toc-item-num\">2.4&nbsp;&nbsp;</span>RandomForestRegressor</a></span></li><li><span><a href=\"#CatBoostRegressor\" data-toc-modified-id=\"CatBoostRegressor-2.5\"><span class=\"toc-item-num\">2.5&nbsp;&nbsp;</span>CatBoostRegressor</a></span></li><li><span><a href=\"#LGBMRegressor\" data-toc-modified-id=\"LGBMRegressor-2.6\"><span class=\"toc-item-num\">2.6&nbsp;&nbsp;</span>LGBMRegressor</a></span></li></ul></li><li><span><a href=\"#Анализ-моделей\" data-toc-modified-id=\"Анализ-моделей-3\"><span class=\"toc-item-num\">3&nbsp;&nbsp;</span>Анализ моделей</a></span></li><li><span><a href=\"#Общий-вывод\" data-toc-modified-id=\"Общий-вывод-4\"><span class=\"toc-item-num\">4&nbsp;&nbsp;</span>Общий вывод</a></span></li></ul></div>"
   ]
  },
  {
   "cell_type": "markdown",
   "metadata": {},
   "source": [
    "## Подготовка данных"
   ]
  },
  {
   "cell_type": "markdown",
   "metadata": {},
   "source": [
    "### Загрузка и обзор данных"
   ]
  },
  {
   "cell_type": "markdown",
   "metadata": {},
   "source": [
    "Загрузим необходимые библиотеки и сделаем предварительные настройки."
   ]
  },
  {
   "cell_type": "code",
   "execution_count": 1,
   "metadata": {},
   "outputs": [
    {
     "name": "stdout",
     "output_type": "stream",
     "text": [
      "Setup complete\n"
     ]
    }
   ],
   "source": [
    "import numpy as np\n",
    "import pandas as pd\n",
    "import time\n",
    "\n",
    "%matplotlib inline\n",
    "import matplotlib.pyplot as plt\n",
    "import seaborn as sns\n",
    "plt.style.use('seaborn-whitegrid')\n",
    "\n",
    "from sklearn.linear_model import LinearRegression, ElasticNet, SGDRegressor\n",
    "from sklearn.ensemble import RandomForestRegressor\n",
    "from sklearn.metrics import mean_squared_error, make_scorer\n",
    "from sklearn.model_selection import train_test_split, GridSearchCV\n",
    "from sklearn.preprocessing import StandardScaler, OrdinalEncoder\n",
    "from sklearn.feature_extraction.text import CountVectorizer\n",
    "\n",
    "import lightgbm as lgb\n",
    "from catboost import CatBoostRegressor, cv, Pool\n",
    "\n",
    "pd.options.display.float_format = '{:,.4f}'.format\n",
    "import warnings\n",
    "warnings.filterwarnings(\"ignore\")\n",
    "\n",
    "state = np.random.RandomState(32)\n",
    "\n",
    "print('Setup complete')"
   ]
  },
  {
   "cell_type": "markdown",
   "metadata": {},
   "source": [
    "Теперь загрузим и изучим данные."
   ]
  },
  {
   "cell_type": "code",
   "execution_count": 2,
   "metadata": {},
   "outputs": [],
   "source": [
    "try:\n",
    "    df = pd.read_csv('/datasets/autos.csv')\n",
    "except:\n",
    "    df = pd.read_csv('datasets/autos.csv')"
   ]
  },
  {
   "cell_type": "code",
   "execution_count": 3,
   "metadata": {},
   "outputs": [],
   "source": [
    "def get_info(df):\n",
    "    display(df.head(), df.info(), df.describe().T)\n",
    "    print('Процент пропусков:\\n', df.isna().mean().sort_values(ascending=False)*100)\n",
    "    print()\n",
    "    print('Кол-во дубликатов:', df.duplicated().sum())"
   ]
  },
  {
   "cell_type": "code",
   "execution_count": 4,
   "metadata": {},
   "outputs": [
    {
     "name": "stdout",
     "output_type": "stream",
     "text": [
      "<class 'pandas.core.frame.DataFrame'>\n",
      "RangeIndex: 354369 entries, 0 to 354368\n",
      "Data columns (total 16 columns):\n",
      "DateCrawled          354369 non-null object\n",
      "Price                354369 non-null int64\n",
      "VehicleType          316879 non-null object\n",
      "RegistrationYear     354369 non-null int64\n",
      "Gearbox              334536 non-null object\n",
      "Power                354369 non-null int64\n",
      "Model                334664 non-null object\n",
      "Kilometer            354369 non-null int64\n",
      "RegistrationMonth    354369 non-null int64\n",
      "FuelType             321474 non-null object\n",
      "Brand                354369 non-null object\n",
      "NotRepaired          283215 non-null object\n",
      "DateCreated          354369 non-null object\n",
      "NumberOfPictures     354369 non-null int64\n",
      "PostalCode           354369 non-null int64\n",
      "LastSeen             354369 non-null object\n",
      "dtypes: int64(7), object(9)\n",
      "memory usage: 43.3+ MB\n"
     ]
    },
    {
     "data": {
      "text/html": [
       "<div>\n",
       "<style scoped>\n",
       "    .dataframe tbody tr th:only-of-type {\n",
       "        vertical-align: middle;\n",
       "    }\n",
       "\n",
       "    .dataframe tbody tr th {\n",
       "        vertical-align: top;\n",
       "    }\n",
       "\n",
       "    .dataframe thead th {\n",
       "        text-align: right;\n",
       "    }\n",
       "</style>\n",
       "<table border=\"1\" class=\"dataframe\">\n",
       "  <thead>\n",
       "    <tr style=\"text-align: right;\">\n",
       "      <th></th>\n",
       "      <th>DateCrawled</th>\n",
       "      <th>Price</th>\n",
       "      <th>VehicleType</th>\n",
       "      <th>RegistrationYear</th>\n",
       "      <th>Gearbox</th>\n",
       "      <th>Power</th>\n",
       "      <th>Model</th>\n",
       "      <th>Kilometer</th>\n",
       "      <th>RegistrationMonth</th>\n",
       "      <th>FuelType</th>\n",
       "      <th>Brand</th>\n",
       "      <th>NotRepaired</th>\n",
       "      <th>DateCreated</th>\n",
       "      <th>NumberOfPictures</th>\n",
       "      <th>PostalCode</th>\n",
       "      <th>LastSeen</th>\n",
       "    </tr>\n",
       "  </thead>\n",
       "  <tbody>\n",
       "    <tr>\n",
       "      <td>0</td>\n",
       "      <td>2016-03-24 11:52:17</td>\n",
       "      <td>480</td>\n",
       "      <td>NaN</td>\n",
       "      <td>1993</td>\n",
       "      <td>manual</td>\n",
       "      <td>0</td>\n",
       "      <td>golf</td>\n",
       "      <td>150000</td>\n",
       "      <td>0</td>\n",
       "      <td>petrol</td>\n",
       "      <td>volkswagen</td>\n",
       "      <td>NaN</td>\n",
       "      <td>2016-03-24 00:00:00</td>\n",
       "      <td>0</td>\n",
       "      <td>70435</td>\n",
       "      <td>2016-04-07 03:16:57</td>\n",
       "    </tr>\n",
       "    <tr>\n",
       "      <td>1</td>\n",
       "      <td>2016-03-24 10:58:45</td>\n",
       "      <td>18300</td>\n",
       "      <td>coupe</td>\n",
       "      <td>2011</td>\n",
       "      <td>manual</td>\n",
       "      <td>190</td>\n",
       "      <td>NaN</td>\n",
       "      <td>125000</td>\n",
       "      <td>5</td>\n",
       "      <td>gasoline</td>\n",
       "      <td>audi</td>\n",
       "      <td>yes</td>\n",
       "      <td>2016-03-24 00:00:00</td>\n",
       "      <td>0</td>\n",
       "      <td>66954</td>\n",
       "      <td>2016-04-07 01:46:50</td>\n",
       "    </tr>\n",
       "    <tr>\n",
       "      <td>2</td>\n",
       "      <td>2016-03-14 12:52:21</td>\n",
       "      <td>9800</td>\n",
       "      <td>suv</td>\n",
       "      <td>2004</td>\n",
       "      <td>auto</td>\n",
       "      <td>163</td>\n",
       "      <td>grand</td>\n",
       "      <td>125000</td>\n",
       "      <td>8</td>\n",
       "      <td>gasoline</td>\n",
       "      <td>jeep</td>\n",
       "      <td>NaN</td>\n",
       "      <td>2016-03-14 00:00:00</td>\n",
       "      <td>0</td>\n",
       "      <td>90480</td>\n",
       "      <td>2016-04-05 12:47:46</td>\n",
       "    </tr>\n",
       "    <tr>\n",
       "      <td>3</td>\n",
       "      <td>2016-03-17 16:54:04</td>\n",
       "      <td>1500</td>\n",
       "      <td>small</td>\n",
       "      <td>2001</td>\n",
       "      <td>manual</td>\n",
       "      <td>75</td>\n",
       "      <td>golf</td>\n",
       "      <td>150000</td>\n",
       "      <td>6</td>\n",
       "      <td>petrol</td>\n",
       "      <td>volkswagen</td>\n",
       "      <td>no</td>\n",
       "      <td>2016-03-17 00:00:00</td>\n",
       "      <td>0</td>\n",
       "      <td>91074</td>\n",
       "      <td>2016-03-17 17:40:17</td>\n",
       "    </tr>\n",
       "    <tr>\n",
       "      <td>4</td>\n",
       "      <td>2016-03-31 17:25:20</td>\n",
       "      <td>3600</td>\n",
       "      <td>small</td>\n",
       "      <td>2008</td>\n",
       "      <td>manual</td>\n",
       "      <td>69</td>\n",
       "      <td>fabia</td>\n",
       "      <td>90000</td>\n",
       "      <td>7</td>\n",
       "      <td>gasoline</td>\n",
       "      <td>skoda</td>\n",
       "      <td>no</td>\n",
       "      <td>2016-03-31 00:00:00</td>\n",
       "      <td>0</td>\n",
       "      <td>60437</td>\n",
       "      <td>2016-04-06 10:17:21</td>\n",
       "    </tr>\n",
       "  </tbody>\n",
       "</table>\n",
       "</div>"
      ],
      "text/plain": [
       "           DateCrawled  Price VehicleType  RegistrationYear Gearbox  Power  \\\n",
       "0  2016-03-24 11:52:17    480         NaN              1993  manual      0   \n",
       "1  2016-03-24 10:58:45  18300       coupe              2011  manual    190   \n",
       "2  2016-03-14 12:52:21   9800         suv              2004    auto    163   \n",
       "3  2016-03-17 16:54:04   1500       small              2001  manual     75   \n",
       "4  2016-03-31 17:25:20   3600       small              2008  manual     69   \n",
       "\n",
       "   Model  Kilometer  RegistrationMonth  FuelType       Brand NotRepaired  \\\n",
       "0   golf     150000                  0    petrol  volkswagen         NaN   \n",
       "1    NaN     125000                  5  gasoline        audi         yes   \n",
       "2  grand     125000                  8  gasoline        jeep         NaN   \n",
       "3   golf     150000                  6    petrol  volkswagen          no   \n",
       "4  fabia      90000                  7  gasoline       skoda          no   \n",
       "\n",
       "           DateCreated  NumberOfPictures  PostalCode             LastSeen  \n",
       "0  2016-03-24 00:00:00                 0       70435  2016-04-07 03:16:57  \n",
       "1  2016-03-24 00:00:00                 0       66954  2016-04-07 01:46:50  \n",
       "2  2016-03-14 00:00:00                 0       90480  2016-04-05 12:47:46  \n",
       "3  2016-03-17 00:00:00                 0       91074  2016-03-17 17:40:17  \n",
       "4  2016-03-31 00:00:00                 0       60437  2016-04-06 10:17:21  "
      ]
     },
     "metadata": {},
     "output_type": "display_data"
    },
    {
     "data": {
      "text/plain": [
       "None"
      ]
     },
     "metadata": {},
     "output_type": "display_data"
    },
    {
     "data": {
      "text/html": [
       "<div>\n",
       "<style scoped>\n",
       "    .dataframe tbody tr th:only-of-type {\n",
       "        vertical-align: middle;\n",
       "    }\n",
       "\n",
       "    .dataframe tbody tr th {\n",
       "        vertical-align: top;\n",
       "    }\n",
       "\n",
       "    .dataframe thead th {\n",
       "        text-align: right;\n",
       "    }\n",
       "</style>\n",
       "<table border=\"1\" class=\"dataframe\">\n",
       "  <thead>\n",
       "    <tr style=\"text-align: right;\">\n",
       "      <th></th>\n",
       "      <th>count</th>\n",
       "      <th>mean</th>\n",
       "      <th>std</th>\n",
       "      <th>min</th>\n",
       "      <th>25%</th>\n",
       "      <th>50%</th>\n",
       "      <th>75%</th>\n",
       "      <th>max</th>\n",
       "    </tr>\n",
       "  </thead>\n",
       "  <tbody>\n",
       "    <tr>\n",
       "      <td>Price</td>\n",
       "      <td>354,369.0000</td>\n",
       "      <td>4,416.6568</td>\n",
       "      <td>4,514.1585</td>\n",
       "      <td>0.0000</td>\n",
       "      <td>1,050.0000</td>\n",
       "      <td>2,700.0000</td>\n",
       "      <td>6,400.0000</td>\n",
       "      <td>20,000.0000</td>\n",
       "    </tr>\n",
       "    <tr>\n",
       "      <td>RegistrationYear</td>\n",
       "      <td>354,369.0000</td>\n",
       "      <td>2,004.2344</td>\n",
       "      <td>90.2280</td>\n",
       "      <td>1,000.0000</td>\n",
       "      <td>1,999.0000</td>\n",
       "      <td>2,003.0000</td>\n",
       "      <td>2,008.0000</td>\n",
       "      <td>9,999.0000</td>\n",
       "    </tr>\n",
       "    <tr>\n",
       "      <td>Power</td>\n",
       "      <td>354,369.0000</td>\n",
       "      <td>110.0943</td>\n",
       "      <td>189.8504</td>\n",
       "      <td>0.0000</td>\n",
       "      <td>69.0000</td>\n",
       "      <td>105.0000</td>\n",
       "      <td>143.0000</td>\n",
       "      <td>20,000.0000</td>\n",
       "    </tr>\n",
       "    <tr>\n",
       "      <td>Kilometer</td>\n",
       "      <td>354,369.0000</td>\n",
       "      <td>128,211.1725</td>\n",
       "      <td>37,905.3415</td>\n",
       "      <td>5,000.0000</td>\n",
       "      <td>125,000.0000</td>\n",
       "      <td>150,000.0000</td>\n",
       "      <td>150,000.0000</td>\n",
       "      <td>150,000.0000</td>\n",
       "    </tr>\n",
       "    <tr>\n",
       "      <td>RegistrationMonth</td>\n",
       "      <td>354,369.0000</td>\n",
       "      <td>5.7146</td>\n",
       "      <td>3.7264</td>\n",
       "      <td>0.0000</td>\n",
       "      <td>3.0000</td>\n",
       "      <td>6.0000</td>\n",
       "      <td>9.0000</td>\n",
       "      <td>12.0000</td>\n",
       "    </tr>\n",
       "    <tr>\n",
       "      <td>NumberOfPictures</td>\n",
       "      <td>354,369.0000</td>\n",
       "      <td>0.0000</td>\n",
       "      <td>0.0000</td>\n",
       "      <td>0.0000</td>\n",
       "      <td>0.0000</td>\n",
       "      <td>0.0000</td>\n",
       "      <td>0.0000</td>\n",
       "      <td>0.0000</td>\n",
       "    </tr>\n",
       "    <tr>\n",
       "      <td>PostalCode</td>\n",
       "      <td>354,369.0000</td>\n",
       "      <td>50,508.6891</td>\n",
       "      <td>25,783.0962</td>\n",
       "      <td>1,067.0000</td>\n",
       "      <td>30,165.0000</td>\n",
       "      <td>49,413.0000</td>\n",
       "      <td>71,083.0000</td>\n",
       "      <td>99,998.0000</td>\n",
       "    </tr>\n",
       "  </tbody>\n",
       "</table>\n",
       "</div>"
      ],
      "text/plain": [
       "                         count         mean         std        min  \\\n",
       "Price             354,369.0000   4,416.6568  4,514.1585     0.0000   \n",
       "RegistrationYear  354,369.0000   2,004.2344     90.2280 1,000.0000   \n",
       "Power             354,369.0000     110.0943    189.8504     0.0000   \n",
       "Kilometer         354,369.0000 128,211.1725 37,905.3415 5,000.0000   \n",
       "RegistrationMonth 354,369.0000       5.7146      3.7264     0.0000   \n",
       "NumberOfPictures  354,369.0000       0.0000      0.0000     0.0000   \n",
       "PostalCode        354,369.0000  50,508.6891 25,783.0962 1,067.0000   \n",
       "\n",
       "                           25%          50%          75%          max  \n",
       "Price               1,050.0000   2,700.0000   6,400.0000  20,000.0000  \n",
       "RegistrationYear    1,999.0000   2,003.0000   2,008.0000   9,999.0000  \n",
       "Power                  69.0000     105.0000     143.0000  20,000.0000  \n",
       "Kilometer         125,000.0000 150,000.0000 150,000.0000 150,000.0000  \n",
       "RegistrationMonth       3.0000       6.0000       9.0000      12.0000  \n",
       "NumberOfPictures        0.0000       0.0000       0.0000       0.0000  \n",
       "PostalCode         30,165.0000  49,413.0000  71,083.0000  99,998.0000  "
      ]
     },
     "metadata": {},
     "output_type": "display_data"
    },
    {
     "name": "stdout",
     "output_type": "stream",
     "text": [
      "Процент пропусков:\n",
      " NotRepaired         20.0791\n",
      "VehicleType         10.5794\n",
      "FuelType             9.2827\n",
      "Gearbox              5.5967\n",
      "Model                5.5606\n",
      "LastSeen             0.0000\n",
      "PostalCode           0.0000\n",
      "NumberOfPictures     0.0000\n",
      "DateCreated          0.0000\n",
      "Brand                0.0000\n",
      "RegistrationMonth    0.0000\n",
      "Kilometer            0.0000\n",
      "Power                0.0000\n",
      "RegistrationYear     0.0000\n",
      "Price                0.0000\n",
      "DateCrawled          0.0000\n",
      "dtype: float64\n",
      "\n",
      "Кол-во дубликатов: 4\n"
     ]
    }
   ],
   "source": [
    "get_info(df)"
   ]
  },
  {
   "cell_type": "markdown",
   "metadata": {},
   "source": [
    "Здесь сразу можем сделать следующие выводы по имеющимся данным:\n",
    "\n",
    " - Наименования столбцов приведём к змеиному регистру   \n",
    " - Удалим 4 дубликата \n",
    " - `DateCrawled` — столбец будем удалять, так как признак не оказывает влияние на стоимоть.\n",
    " - `VehicleType` — имеется 10,5% пропусков, довольно трудно будет заполнить эти значения, но попробуем подобрать в зависимости от модели и марки.\n",
    " - `RegistrationYear` — сразу можно сказать, что имеются выбросы: минимальный год 1000, максимальный 9999.\n",
    " - `Gearbox` — имеется 5,5% процентов пропусков, их мы просто заменим на значение `no_info`.\n",
    " - `Power` — имеются нулевый значения, и аномально большие значения в 20 000.\n",
    " - `Model` — имеется 5,5% процентов пропусков. Попробуем подобрать значения, но возможно понадобиться удалить эту часть данных.\n",
    " - `RegistrationMonth` — столбец будем удалять, так как нам здесь важнее смотреть на год.\n",
    " - `FuelType` — имеется 9,3% пропусков, их мы просто заменим на значение `no_info`.\n",
    " - `NotRepaired` — имеется 20% пропусков, их мы просто заменим на значение `no_info`, так как подобрать значение здесь скорее всего будет не возможно\n",
    " - `DateCreated` — столбец будем удалять, так как признак не оказывает влияние на стоимоть.\n",
    " - `NumberOfPictures` — столбец имеет только нулевые значения, видимо по какой-то причине данные не собираются корректно, лучше его будет удалить.\n",
    " - `LastSeen` — столбец будем удалять, так как признак не оказывает влияние на стоимоть.\n",
    " - `PostalCode` - столбец будем удалять, так как признак не оказывает влияние на стоимоть.\n",
    " - `Price` - наш целевой признак и в нём имеются нулевые значения."
   ]
  },
  {
   "cell_type": "markdown",
   "metadata": {},
   "source": [
    "### Предобработка данных"
   ]
  },
  {
   "cell_type": "markdown",
   "metadata": {},
   "source": [
    "Удалим лишние для нас столбцы"
   ]
  },
  {
   "cell_type": "code",
   "execution_count": 5,
   "metadata": {},
   "outputs": [],
   "source": [
    "df_with_date = df.copy()\n",
    "df = df.drop([\"DateCrawled\",\"DateCreated\",\"LastSeen\",\"NumberOfPictures\",\"RegistrationMonth\",\"PostalCode\"],axis = 1)"
   ]
  },
  {
   "cell_type": "markdown",
   "metadata": {},
   "source": [
    "Приведём столбцы к змеиному регистру."
   ]
  },
  {
   "cell_type": "code",
   "execution_count": 6,
   "metadata": {
    "scrolled": false
   },
   "outputs": [
    {
     "data": {
      "text/html": [
       "<div>\n",
       "<style scoped>\n",
       "    .dataframe tbody tr th:only-of-type {\n",
       "        vertical-align: middle;\n",
       "    }\n",
       "\n",
       "    .dataframe tbody tr th {\n",
       "        vertical-align: top;\n",
       "    }\n",
       "\n",
       "    .dataframe thead th {\n",
       "        text-align: right;\n",
       "    }\n",
       "</style>\n",
       "<table border=\"1\" class=\"dataframe\">\n",
       "  <thead>\n",
       "    <tr style=\"text-align: right;\">\n",
       "      <th></th>\n",
       "      <th>price</th>\n",
       "      <th>vehicle_type</th>\n",
       "      <th>registration_year</th>\n",
       "      <th>gearbox</th>\n",
       "      <th>power</th>\n",
       "      <th>model</th>\n",
       "      <th>kilometer</th>\n",
       "      <th>fuel_type</th>\n",
       "      <th>brand</th>\n",
       "      <th>not_repaired</th>\n",
       "    </tr>\n",
       "  </thead>\n",
       "  <tbody>\n",
       "    <tr>\n",
       "      <td>0</td>\n",
       "      <td>480</td>\n",
       "      <td>NaN</td>\n",
       "      <td>1993</td>\n",
       "      <td>manual</td>\n",
       "      <td>0</td>\n",
       "      <td>golf</td>\n",
       "      <td>150000</td>\n",
       "      <td>petrol</td>\n",
       "      <td>volkswagen</td>\n",
       "      <td>NaN</td>\n",
       "    </tr>\n",
       "    <tr>\n",
       "      <td>1</td>\n",
       "      <td>18300</td>\n",
       "      <td>coupe</td>\n",
       "      <td>2011</td>\n",
       "      <td>manual</td>\n",
       "      <td>190</td>\n",
       "      <td>NaN</td>\n",
       "      <td>125000</td>\n",
       "      <td>gasoline</td>\n",
       "      <td>audi</td>\n",
       "      <td>yes</td>\n",
       "    </tr>\n",
       "    <tr>\n",
       "      <td>2</td>\n",
       "      <td>9800</td>\n",
       "      <td>suv</td>\n",
       "      <td>2004</td>\n",
       "      <td>auto</td>\n",
       "      <td>163</td>\n",
       "      <td>grand</td>\n",
       "      <td>125000</td>\n",
       "      <td>gasoline</td>\n",
       "      <td>jeep</td>\n",
       "      <td>NaN</td>\n",
       "    </tr>\n",
       "    <tr>\n",
       "      <td>3</td>\n",
       "      <td>1500</td>\n",
       "      <td>small</td>\n",
       "      <td>2001</td>\n",
       "      <td>manual</td>\n",
       "      <td>75</td>\n",
       "      <td>golf</td>\n",
       "      <td>150000</td>\n",
       "      <td>petrol</td>\n",
       "      <td>volkswagen</td>\n",
       "      <td>no</td>\n",
       "    </tr>\n",
       "    <tr>\n",
       "      <td>4</td>\n",
       "      <td>3600</td>\n",
       "      <td>small</td>\n",
       "      <td>2008</td>\n",
       "      <td>manual</td>\n",
       "      <td>69</td>\n",
       "      <td>fabia</td>\n",
       "      <td>90000</td>\n",
       "      <td>gasoline</td>\n",
       "      <td>skoda</td>\n",
       "      <td>no</td>\n",
       "    </tr>\n",
       "  </tbody>\n",
       "</table>\n",
       "</div>"
      ],
      "text/plain": [
       "   price vehicle_type  registration_year gearbox  power  model  kilometer  \\\n",
       "0    480          NaN               1993  manual      0   golf     150000   \n",
       "1  18300        coupe               2011  manual    190    NaN     125000   \n",
       "2   9800          suv               2004    auto    163  grand     125000   \n",
       "3   1500        small               2001  manual     75   golf     150000   \n",
       "4   3600        small               2008  manual     69  fabia      90000   \n",
       "\n",
       "  fuel_type       brand not_repaired  \n",
       "0    petrol  volkswagen          NaN  \n",
       "1  gasoline        audi          yes  \n",
       "2  gasoline        jeep          NaN  \n",
       "3    petrol  volkswagen           no  \n",
       "4  gasoline       skoda           no  "
      ]
     },
     "execution_count": 6,
     "metadata": {},
     "output_type": "execute_result"
    }
   ],
   "source": [
    "correct_columns = []\n",
    "for column in df.columns:\n",
    "    snake_register = ''\n",
    "    sep = '_'\n",
    "    for i in column:\n",
    "        if i.isupper():\n",
    "            snake_register += sep + i.lower()\n",
    "        else:\n",
    "            snake_register += i\n",
    "    correct_columns.append(snake_register.lstrip(sep))\n",
    "df.columns = correct_columns\n",
    "df.head()"
   ]
  },
  {
   "cell_type": "markdown",
   "metadata": {},
   "source": [
    "Удалим дубликаты"
   ]
  },
  {
   "cell_type": "code",
   "execution_count": 7,
   "metadata": {},
   "outputs": [
    {
     "name": "stdout",
     "output_type": "stream",
     "text": [
      "Кол-во дубликатов: 0\n"
     ]
    }
   ],
   "source": [
    "df = df.drop_duplicates()\n",
    "print('Кол-во дубликатов:', df.duplicated().sum())"
   ]
  },
  {
   "cell_type": "markdown",
   "metadata": {},
   "source": [
    "#### Обработка пропусков"
   ]
  },
  {
   "cell_type": "markdown",
   "metadata": {},
   "source": [
    "Здесь мы примем решение что для пропущеных значений будем подставлять новое, а не удалять строку целиком, так как это достаточно большой объём данных, более 20%.\n",
    "\n",
    "Далее попробуем подобрать значения для пропусков в столбце `vehicle_type`. Посмотрим на значения данного столбца для модели `golf`"
   ]
  },
  {
   "cell_type": "code",
   "execution_count": 8,
   "metadata": {
    "scrolled": true
   },
   "outputs": [
    {
     "data": {
      "text/plain": [
       "sedan          11146\n",
       "small           3302\n",
       "wagon           2652\n",
       "convertible     1693\n",
       "bus              698\n",
       "coupe            406\n",
       "other            180\n",
       "suv               23\n",
       "Name: vehicle_type, dtype: int64"
      ]
     },
     "execution_count": 8,
     "metadata": {},
     "output_type": "execute_result"
    }
   ],
   "source": [
    "df.query('model == \"golf\"')['vehicle_type'].value_counts()"
   ]
  },
  {
   "cell_type": "markdown",
   "metadata": {},
   "source": [
    "Выглядит так, что подобрать более менее адекватные значения не получится, следовательно заменим пропущенные значения на `no_info` "
   ]
  },
  {
   "cell_type": "code",
   "execution_count": 9,
   "metadata": {},
   "outputs": [],
   "source": [
    "df['vehicle_type'] = df['vehicle_type'].fillna('no_info')"
   ]
  },
  {
   "cell_type": "markdown",
   "metadata": {},
   "source": [
    "Теперь заменим пропуски в столбцах `not_repaired` `fuel_type` `gearbox` `model` тем же значением `no_info`"
   ]
  },
  {
   "cell_type": "code",
   "execution_count": 10,
   "metadata": {},
   "outputs": [],
   "source": [
    "df['not_repaired'] = df['not_repaired'].fillna('no_info')\n",
    "df['fuel_type'] = df['fuel_type'].fillna('no_info')\n",
    "df['gearbox'] = df['gearbox'].fillna('no_info')\n",
    "df['model'] = df['model'].fillna('no_info')"
   ]
  },
  {
   "cell_type": "markdown",
   "metadata": {},
   "source": [
    "Посмотрим на процент пропусков ещё раз"
   ]
  },
  {
   "cell_type": "code",
   "execution_count": 11,
   "metadata": {
    "scrolled": true
   },
   "outputs": [
    {
     "name": "stdout",
     "output_type": "stream",
     "text": [
      "Процент пропусков:\n",
      " not_repaired        0.0000\n",
      "brand               0.0000\n",
      "fuel_type           0.0000\n",
      "kilometer           0.0000\n",
      "model               0.0000\n",
      "power               0.0000\n",
      "gearbox             0.0000\n",
      "registration_year   0.0000\n",
      "vehicle_type        0.0000\n",
      "price               0.0000\n",
      "dtype: float64\n"
     ]
    }
   ],
   "source": [
    "print('Процент пропусков:\\n', df.isna().mean().sort_values(ascending=False)*100)"
   ]
  },
  {
   "cell_type": "markdown",
   "metadata": {},
   "source": [
    "#### Выявление  и обработка аномалий"
   ]
  },
  {
   "cell_type": "markdown",
   "metadata": {},
   "source": [
    "Посмотрим на качество и адэкватность наших признаков.   \n",
    "Разберём год регистрации автомобиля где у нас присутсвовали аномалии в минимальный год 1000 и максимальный 9999."
   ]
  },
  {
   "cell_type": "markdown",
   "metadata": {},
   "source": [
    "Посмотрим график распределения"
   ]
  },
  {
   "cell_type": "code",
   "execution_count": 12,
   "metadata": {},
   "outputs": [
    {
     "data": {
      "image/png": "[encoded data removed]",
      "text/plain": [
       "<Figure size 720x360 with 1 Axes>"
      ]
     },
     "metadata": {},
     "output_type": "display_data"
    }
   ],
   "source": [
    "df['registration_year'].hist(figsize=(10,5), bins=100, color='lightgreen', ec='black');"
   ]
  },
  {
   "cell_type": "markdown",
   "metadata": {},
   "source": [
    "Видно только то, что значения в основном расположены около 2000 года.   \n",
    "Посмотрим ближе"
   ]
  },
  {
   "cell_type": "code",
   "execution_count": 13,
   "metadata": {},
   "outputs": [
    {
     "data": {
      "image/png": "[encoded data removed]",
      "text/plain": [
       "<Figure size 720x360 with 1 Axes>"
      ]
     },
     "metadata": {},
     "output_type": "display_data"
    }
   ],
   "source": [
    "df.query('2025 > registration_year > 1950')['registration_year'].hist(figsize=(10,5), bins=60, color='lightgreen', ec='black');"
   ]
  },
  {
   "cell_type": "markdown",
   "metadata": {},
   "source": [
    "Посмотрим на boxplot"
   ]
  },
  {
   "cell_type": "code",
   "execution_count": 14,
   "metadata": {
    "scrolled": false
   },
   "outputs": [
    {
     "data": {
      "image/png": "[encoded data removed]",
      "text/plain": [
       "<Figure size 1350x90 with 1 Axes>"
      ]
     },
     "metadata": {},
     "output_type": "display_data"
    }
   ],
   "source": [
    "plt.figure(figsize=(15,1), dpi=90)\n",
    "sns.boxplot(df.query('2100 > registration_year > 1950')['registration_year'], color='lightgreen');"
   ]
  },
  {
   "cell_type": "markdown",
   "metadata": {},
   "source": [
    "Выделим 25% и 75% квантили, нижний порог должен находиться на $q25-1.5*(q75-q25)$, верхний $q75+1.5*(q75-q25)$"
   ]
  },
  {
   "cell_type": "code",
   "execution_count": 15,
   "metadata": {
    "scrolled": true
   },
   "outputs": [
    {
     "name": "stdout",
     "output_type": "stream",
     "text": [
      "25% -  1999.0 75% -  2008.0\n",
      "Нижний порог 1985.5\n",
      "Верхний порог 2021.5\n"
     ]
    }
   ],
   "source": [
    "q25 = np.array(df['registration_year'].quantile(0.25))\n",
    "q75 = np.array(df['registration_year'].quantile(0.75))\n",
    "print('25% - ',q25, '75% - ', q75)\n",
    "print('Нижний порог', q25-1.5*(q75-q25))\n",
    "print('Верхний порог', q75+1.5*(q75-q25))"
   ]
  },
  {
   "cell_type": "markdown",
   "metadata": {},
   "source": [
    "Выглядит более менне правдободно, посмотрим сколько это процентов от всего датасета"
   ]
  },
  {
   "cell_type": "code",
   "execution_count": 16,
   "metadata": {},
   "outputs": [
    {
     "name": "stdout",
     "output_type": "stream",
     "text": [
      "Доля аномальных значений года 1.7%\n"
     ]
    }
   ],
   "source": [
    "print(f'Доля аномальных значений года {(len(df.query(\"2021 < registration_year | 1985 > registration_year\")) / len(df)):.1%}')"
   ]
  },
  {
   "cell_type": "markdown",
   "metadata": {},
   "source": [
    "Не так много, лучше от них избавиться."
   ]
  },
  {
   "cell_type": "code",
   "execution_count": 17,
   "metadata": {},
   "outputs": [],
   "source": [
    "df_cleaned = df.query('2021 > registration_year > 1985')"
   ]
  },
  {
   "cell_type": "markdown",
   "metadata": {},
   "source": [
    "Теперь посмотрим на мощность. Здесь у нас так же встречаются аномальные значения в 0 и 20000 л.с.   \n",
    "Посмотрим на график. Автомобили мощьностью более 400 л.с. достоточно редки, поэтому отсечём график по этому значения."
   ]
  },
  {
   "cell_type": "code",
   "execution_count": 18,
   "metadata": {},
   "outputs": [
    {
     "data": {
      "image/png": "[encoded data removed]",
      "text/plain": [
       "<Figure size 720x360 with 1 Axes>"
      ]
     },
     "metadata": {},
     "output_type": "display_data"
    }
   ],
   "source": [
    "df_cleaned.query('power < 400')['power'].hist(bins=100, figsize=(10,5), color='lightgreen', ec='black');"
   ]
  },
  {
   "cell_type": "markdown",
   "metadata": {},
   "source": [
    "Здесь так же видно большое кол-во нулевых значений.   \n",
    "Посмотрим на пороги нормального распределения."
   ]
  },
  {
   "cell_type": "code",
   "execution_count": 19,
   "metadata": {
    "scrolled": true
   },
   "outputs": [
    {
     "name": "stdout",
     "output_type": "stream",
     "text": [
      "25% -  69.0 75% -  143.0\n",
      "Нижний порог -42.0\n",
      "Верхний порог 254.0\n"
     ]
    }
   ],
   "source": [
    "q25 = np.array(df_cleaned['power'].quantile(0.25))\n",
    "q75 = np.array(df_cleaned['power'].quantile(0.75))\n",
    "print('25% - ',q25, '75% - ', q75)\n",
    "print('Нижний порог', q25-1.5*(q75-q25))\n",
    "print('Верхний порог', q75+1.5*(q75-q25))"
   ]
  },
  {
   "cell_type": "markdown",
   "metadata": {},
   "source": [
    "Посмотрим процент аномальных значений по кажому порогу"
   ]
  },
  {
   "cell_type": "code",
   "execution_count": 20,
   "metadata": {},
   "outputs": [
    {
     "name": "stdout",
     "output_type": "stream",
     "text": [
      "Доля аномальных значений мощности верхней границы 2.2%\n",
      "Доля аномальных значений мощности нижней границы 11.7%\n"
     ]
    }
   ],
   "source": [
    "print(f'Доля аномальных значений мощности верхней границы {(len(df_cleaned.query(\"254 < power\")) / len(df_cleaned)):.1%}')\n",
    "print(f'Доля аномальных значений мощности нижней границы {(len(df_cleaned.query(\"42 > power\")) / len(df_cleaned)):.1%}')"
   ]
  },
  {
   "cell_type": "markdown",
   "metadata": {},
   "source": [
    "По верхней границе 2,2% можем удалить, по нижней границе 11,7% кажется большим. Посмотрим долю нулевых значений."
   ]
  },
  {
   "cell_type": "code",
   "execution_count": 21,
   "metadata": {},
   "outputs": [
    {
     "name": "stdout",
     "output_type": "stream",
     "text": [
      "Доля нулевых значений мощности 11.0%\n"
     ]
    }
   ],
   "source": [
    "df_cleaned = df_cleaned.query('power < 249')\n",
    "print(f'Доля нулевых значений мощности {(len(df_cleaned.query(\"0 == power\")) / len(df)):.1%}')"
   ]
  },
  {
   "cell_type": "markdown",
   "metadata": {},
   "source": [
    "Предположим, что нулевые значения просто не были заполнены пользователем, в таком случае мы можем поставить туда медианное значение мощности в зависимости от марки, модели, коробки передач и типа топлива. Если обучение моделей будет не удовлетворительным, вернёмся к удалению нулевых значений"
   ]
  },
  {
   "cell_type": "code",
   "execution_count": 22,
   "metadata": {},
   "outputs": [],
   "source": [
    "df_cleaned.loc[df_cleaned['power'] == 0, 'power'] = np.nan"
   ]
  },
  {
   "cell_type": "markdown",
   "metadata": {},
   "source": [
    "Заполним медианным значением и отбросим занчения мощности ниже 42 л.с."
   ]
  },
  {
   "cell_type": "code",
   "execution_count": 23,
   "metadata": {},
   "outputs": [],
   "source": [
    "df_cleaned['power'] = df_cleaned['power'].fillna(\n",
    "    df_cleaned.groupby(['brand', 'model', 'fuel_type', 'gearbox'])['power'].transform('median'))\n",
    "df_cleaned = df_cleaned.query('power > 42')"
   ]
  },
  {
   "cell_type": "markdown",
   "metadata": {},
   "source": [
    "Посмотрим сколько осталось не заполненных медианой значений мощности"
   ]
  },
  {
   "cell_type": "code",
   "execution_count": 24,
   "metadata": {},
   "outputs": [
    {
     "name": "stdout",
     "output_type": "stream",
     "text": [
      "Доля нулевых значений мощности 0.0%\n"
     ]
    }
   ],
   "source": [
    "print(f'Доля нулевых значений мощности {((df_cleaned[\"power\"].isna().sum()) / len(df_cleaned)):.1%}')"
   ]
  },
  {
   "cell_type": "markdown",
   "metadata": {},
   "source": [
    "Теперь нам осталось разобраться с целевым признаком.   \n",
    "В значениях цены были найдены нулевые значения, посмотрим подробнее какие цены мы имеем."
   ]
  },
  {
   "cell_type": "code",
   "execution_count": 25,
   "metadata": {},
   "outputs": [
    {
     "data": {
      "image/png": "[encoded data removed]",
      "text/plain": [
       "<Figure size 1080x432 with 1 Axes>"
      ]
     },
     "metadata": {},
     "output_type": "display_data"
    }
   ],
   "source": [
    "df_cleaned['price'].hist(figsize=(15,6), bins=100, color='lightgreen', ec='black');"
   ]
  },
  {
   "cell_type": "markdown",
   "metadata": {},
   "source": [
    "Посмотрим поближе значения ближе 0"
   ]
  },
  {
   "cell_type": "code",
   "execution_count": 26,
   "metadata": {},
   "outputs": [
    {
     "data": {
      "image/png": "[encoded data removed]",
      "text/plain": [
       "<Figure size 1080x432 with 1 Axes>"
      ]
     },
     "metadata": {},
     "output_type": "display_data"
    }
   ],
   "source": [
    "df_cleaned.query('price < 5000')['price'].hist(figsize=(15,6), bins=100, color='lightgreen', ec='black');"
   ]
  },
  {
   "cell_type": "markdown",
   "metadata": {},
   "source": [
    "Распределени цен выглядит очень подозрительным. Много нулевых значений, и автомобилей с меньшей ценой явно больше, чем например со средней адекватной. Так же видна на графике кратность цен.   \n",
    "Установим минимальную цену за поддержаный, возможно не на ходу, автомобиль 500 евро. Посмотрим сколько процентов будет удалено."
   ]
  },
  {
   "cell_type": "code",
   "execution_count": 27,
   "metadata": {},
   "outputs": [
    {
     "name": "stdout",
     "output_type": "stream",
     "text": [
      "Доля автомобилей с ценой меньше 500 евро = 10.3%\n"
     ]
    }
   ],
   "source": [
    "len(df_cleaned.query('price < 500'))\n",
    "print(f'Доля автомобилей с ценой меньше 500 евро = {(len(df_cleaned.query(\"price < 500\")) / len(df_cleaned)):.1%}')"
   ]
  },
  {
   "cell_type": "markdown",
   "metadata": {},
   "source": [
    "Удалим эти данные из нашего датасета"
   ]
  },
  {
   "cell_type": "code",
   "execution_count": 28,
   "metadata": {},
   "outputs": [],
   "source": [
    "df_cleaned = df_cleaned.query('price > 500')"
   ]
  },
  {
   "cell_type": "code",
   "execution_count": 29,
   "metadata": {
    "scrolled": true
   },
   "outputs": [
    {
     "data": {
      "text/html": [
       "<div>\n",
       "<style scoped>\n",
       "    .dataframe tbody tr th:only-of-type {\n",
       "        vertical-align: middle;\n",
       "    }\n",
       "\n",
       "    .dataframe tbody tr th {\n",
       "        vertical-align: top;\n",
       "    }\n",
       "\n",
       "    .dataframe thead th {\n",
       "        text-align: right;\n",
       "    }\n",
       "</style>\n",
       "<table border=\"1\" class=\"dataframe\">\n",
       "  <thead>\n",
       "    <tr style=\"text-align: right;\">\n",
       "      <th></th>\n",
       "      <th>price</th>\n",
       "      <th>vehicle_type</th>\n",
       "      <th>registration_year</th>\n",
       "      <th>gearbox</th>\n",
       "      <th>power</th>\n",
       "      <th>model</th>\n",
       "      <th>kilometer</th>\n",
       "      <th>fuel_type</th>\n",
       "      <th>brand</th>\n",
       "      <th>not_repaired</th>\n",
       "    </tr>\n",
       "  </thead>\n",
       "  <tbody>\n",
       "    <tr>\n",
       "      <td>1</td>\n",
       "      <td>18300</td>\n",
       "      <td>coupe</td>\n",
       "      <td>2011</td>\n",
       "      <td>manual</td>\n",
       "      <td>190.0000</td>\n",
       "      <td>no_info</td>\n",
       "      <td>125000</td>\n",
       "      <td>gasoline</td>\n",
       "      <td>audi</td>\n",
       "      <td>yes</td>\n",
       "    </tr>\n",
       "    <tr>\n",
       "      <td>2</td>\n",
       "      <td>9800</td>\n",
       "      <td>suv</td>\n",
       "      <td>2004</td>\n",
       "      <td>auto</td>\n",
       "      <td>163.0000</td>\n",
       "      <td>grand</td>\n",
       "      <td>125000</td>\n",
       "      <td>gasoline</td>\n",
       "      <td>jeep</td>\n",
       "      <td>no_info</td>\n",
       "    </tr>\n",
       "    <tr>\n",
       "      <td>3</td>\n",
       "      <td>1500</td>\n",
       "      <td>small</td>\n",
       "      <td>2001</td>\n",
       "      <td>manual</td>\n",
       "      <td>75.0000</td>\n",
       "      <td>golf</td>\n",
       "      <td>150000</td>\n",
       "      <td>petrol</td>\n",
       "      <td>volkswagen</td>\n",
       "      <td>no</td>\n",
       "    </tr>\n",
       "    <tr>\n",
       "      <td>4</td>\n",
       "      <td>3600</td>\n",
       "      <td>small</td>\n",
       "      <td>2008</td>\n",
       "      <td>manual</td>\n",
       "      <td>69.0000</td>\n",
       "      <td>fabia</td>\n",
       "      <td>90000</td>\n",
       "      <td>gasoline</td>\n",
       "      <td>skoda</td>\n",
       "      <td>no</td>\n",
       "    </tr>\n",
       "    <tr>\n",
       "      <td>5</td>\n",
       "      <td>650</td>\n",
       "      <td>sedan</td>\n",
       "      <td>1995</td>\n",
       "      <td>manual</td>\n",
       "      <td>102.0000</td>\n",
       "      <td>3er</td>\n",
       "      <td>150000</td>\n",
       "      <td>petrol</td>\n",
       "      <td>bmw</td>\n",
       "      <td>yes</td>\n",
       "    </tr>\n",
       "  </tbody>\n",
       "</table>\n",
       "</div>"
      ],
      "text/plain": [
       "   price vehicle_type  registration_year gearbox    power    model  kilometer  \\\n",
       "1  18300        coupe               2011  manual 190.0000  no_info     125000   \n",
       "2   9800          suv               2004    auto 163.0000    grand     125000   \n",
       "3   1500        small               2001  manual  75.0000     golf     150000   \n",
       "4   3600        small               2008  manual  69.0000    fabia      90000   \n",
       "5    650        sedan               1995  manual 102.0000      3er     150000   \n",
       "\n",
       "  fuel_type       brand not_repaired  \n",
       "1  gasoline        audi          yes  \n",
       "2  gasoline        jeep      no_info  \n",
       "3    petrol  volkswagen           no  \n",
       "4  gasoline       skoda           no  \n",
       "5    petrol         bmw          yes  "
      ]
     },
     "metadata": {},
     "output_type": "display_data"
    },
    {
     "name": "stdout",
     "output_type": "stream",
     "text": [
      "Удалено значений 50537 или 16.34 % от изначального\n"
     ]
    }
   ],
   "source": [
    "display(df_cleaned.head())\n",
    "print('Удалено значений', df.shape[0] - df_cleaned.shape[0], 'или', round(100 - df_cleaned.shape[0] / df.shape[0]*100, 2), '% от изначального')"
   ]
  },
  {
   "cell_type": "markdown",
   "metadata": {},
   "source": [
    "Теперь можем считать данные очищенными.   \n",
    "Перед разделением посмотрим на коррреляцию оставшихся признаков"
   ]
  },
  {
   "cell_type": "code",
   "execution_count": 30,
   "metadata": {
    "scrolled": false
   },
   "outputs": [
    {
     "data": {
      "image/png": "[encoded data removed]",
      "text/plain": [
       "<Figure size 720x540 with 2 Axes>"
      ]
     },
     "metadata": {},
     "output_type": "display_data"
    }
   ],
   "source": [
    "plt.figure(figsize=(8,6), dpi=90)\n",
    "sns.heatmap(abs(df_cleaned.corr()), annot=True, cmap='Greens');"
   ]
  },
  {
   "cell_type": "markdown",
   "metadata": {},
   "source": [
    "После очистки оставшиеся признаки коррелируют с целевым признаком."
   ]
  },
  {
   "cell_type": "code",
   "execution_count": 31,
   "metadata": {
    "scrolled": true
   },
   "outputs": [
    {
     "data": {
      "text/html": [
       "<div>\n",
       "<style scoped>\n",
       "    .dataframe tbody tr th:only-of-type {\n",
       "        vertical-align: middle;\n",
       "    }\n",
       "\n",
       "    .dataframe tbody tr th {\n",
       "        vertical-align: top;\n",
       "    }\n",
       "\n",
       "    .dataframe thead th {\n",
       "        text-align: right;\n",
       "    }\n",
       "</style>\n",
       "<table border=\"1\" class=\"dataframe\">\n",
       "  <thead>\n",
       "    <tr style=\"text-align: right;\">\n",
       "      <th></th>\n",
       "      <th>price</th>\n",
       "      <th>vehicle_type</th>\n",
       "      <th>registration_year</th>\n",
       "      <th>gearbox</th>\n",
       "      <th>power</th>\n",
       "      <th>model</th>\n",
       "      <th>kilometer</th>\n",
       "      <th>fuel_type</th>\n",
       "      <th>brand</th>\n",
       "      <th>not_repaired</th>\n",
       "    </tr>\n",
       "  </thead>\n",
       "  <tbody>\n",
       "    <tr>\n",
       "      <td>count</td>\n",
       "      <td>258,792.0000</td>\n",
       "      <td>258792</td>\n",
       "      <td>258,792.0000</td>\n",
       "      <td>258792</td>\n",
       "      <td>258,792.0000</td>\n",
       "      <td>258792</td>\n",
       "      <td>258,792.0000</td>\n",
       "      <td>258792</td>\n",
       "      <td>258792</td>\n",
       "      <td>258792</td>\n",
       "    </tr>\n",
       "    <tr>\n",
       "      <td>unique</td>\n",
       "      <td>nan</td>\n",
       "      <td>9</td>\n",
       "      <td>nan</td>\n",
       "      <td>3</td>\n",
       "      <td>nan</td>\n",
       "      <td>248</td>\n",
       "      <td>nan</td>\n",
       "      <td>8</td>\n",
       "      <td>40</td>\n",
       "      <td>3</td>\n",
       "    </tr>\n",
       "    <tr>\n",
       "      <td>top</td>\n",
       "      <td>nan</td>\n",
       "      <td>sedan</td>\n",
       "      <td>nan</td>\n",
       "      <td>manual</td>\n",
       "      <td>nan</td>\n",
       "      <td>golf</td>\n",
       "      <td>nan</td>\n",
       "      <td>petrol</td>\n",
       "      <td>volkswagen</td>\n",
       "      <td>no</td>\n",
       "    </tr>\n",
       "    <tr>\n",
       "      <td>freq</td>\n",
       "      <td>nan</td>\n",
       "      <td>67088</td>\n",
       "      <td>nan</td>\n",
       "      <td>199300</td>\n",
       "      <td>nan</td>\n",
       "      <td>20259</td>\n",
       "      <td>nan</td>\n",
       "      <td>153922</td>\n",
       "      <td>54541</td>\n",
       "      <td>191332</td>\n",
       "    </tr>\n",
       "    <tr>\n",
       "      <td>mean</td>\n",
       "      <td>4,881.9219</td>\n",
       "      <td>NaN</td>\n",
       "      <td>2,004.1856</td>\n",
       "      <td>NaN</td>\n",
       "      <td>118.6536</td>\n",
       "      <td>NaN</td>\n",
       "      <td>127,333.8048</td>\n",
       "      <td>NaN</td>\n",
       "      <td>NaN</td>\n",
       "      <td>NaN</td>\n",
       "    </tr>\n",
       "    <tr>\n",
       "      <td>std</td>\n",
       "      <td>4,429.9965</td>\n",
       "      <td>NaN</td>\n",
       "      <td>6.2325</td>\n",
       "      <td>NaN</td>\n",
       "      <td>43.9694</td>\n",
       "      <td>NaN</td>\n",
       "      <td>37,379.4263</td>\n",
       "      <td>NaN</td>\n",
       "      <td>NaN</td>\n",
       "      <td>NaN</td>\n",
       "    </tr>\n",
       "    <tr>\n",
       "      <td>min</td>\n",
       "      <td>501.0000</td>\n",
       "      <td>NaN</td>\n",
       "      <td>1,986.0000</td>\n",
       "      <td>NaN</td>\n",
       "      <td>43.0000</td>\n",
       "      <td>NaN</td>\n",
       "      <td>5,000.0000</td>\n",
       "      <td>NaN</td>\n",
       "      <td>NaN</td>\n",
       "      <td>NaN</td>\n",
       "    </tr>\n",
       "    <tr>\n",
       "      <td>25%</td>\n",
       "      <td>1,500.0000</td>\n",
       "      <td>NaN</td>\n",
       "      <td>2,000.0000</td>\n",
       "      <td>NaN</td>\n",
       "      <td>83.0000</td>\n",
       "      <td>NaN</td>\n",
       "      <td>125,000.0000</td>\n",
       "      <td>NaN</td>\n",
       "      <td>NaN</td>\n",
       "      <td>NaN</td>\n",
       "    </tr>\n",
       "    <tr>\n",
       "      <td>50%</td>\n",
       "      <td>3,250.0000</td>\n",
       "      <td>NaN</td>\n",
       "      <td>2,004.0000</td>\n",
       "      <td>NaN</td>\n",
       "      <td>115.0000</td>\n",
       "      <td>NaN</td>\n",
       "      <td>150,000.0000</td>\n",
       "      <td>NaN</td>\n",
       "      <td>NaN</td>\n",
       "      <td>NaN</td>\n",
       "    </tr>\n",
       "    <tr>\n",
       "      <td>75%</td>\n",
       "      <td>6,900.0000</td>\n",
       "      <td>NaN</td>\n",
       "      <td>2,008.0000</td>\n",
       "      <td>NaN</td>\n",
       "      <td>147.0000</td>\n",
       "      <td>NaN</td>\n",
       "      <td>150,000.0000</td>\n",
       "      <td>NaN</td>\n",
       "      <td>NaN</td>\n",
       "      <td>NaN</td>\n",
       "    </tr>\n",
       "    <tr>\n",
       "      <td>max</td>\n",
       "      <td>20,000.0000</td>\n",
       "      <td>NaN</td>\n",
       "      <td>2,019.0000</td>\n",
       "      <td>NaN</td>\n",
       "      <td>248.0000</td>\n",
       "      <td>NaN</td>\n",
       "      <td>150,000.0000</td>\n",
       "      <td>NaN</td>\n",
       "      <td>NaN</td>\n",
       "      <td>NaN</td>\n",
       "    </tr>\n",
       "  </tbody>\n",
       "</table>\n",
       "</div>"
      ],
      "text/plain": [
       "              price vehicle_type  registration_year gearbox        power  \\\n",
       "count  258,792.0000       258792       258,792.0000  258792 258,792.0000   \n",
       "unique          nan            9                nan       3          nan   \n",
       "top             nan        sedan                nan  manual          nan   \n",
       "freq            nan        67088                nan  199300          nan   \n",
       "mean     4,881.9219          NaN         2,004.1856     NaN     118.6536   \n",
       "std      4,429.9965          NaN             6.2325     NaN      43.9694   \n",
       "min        501.0000          NaN         1,986.0000     NaN      43.0000   \n",
       "25%      1,500.0000          NaN         2,000.0000     NaN      83.0000   \n",
       "50%      3,250.0000          NaN         2,004.0000     NaN     115.0000   \n",
       "75%      6,900.0000          NaN         2,008.0000     NaN     147.0000   \n",
       "max     20,000.0000          NaN         2,019.0000     NaN     248.0000   \n",
       "\n",
       "         model    kilometer fuel_type       brand not_repaired  \n",
       "count   258792 258,792.0000    258792      258792       258792  \n",
       "unique     248          nan         8          40            3  \n",
       "top       golf          nan    petrol  volkswagen           no  \n",
       "freq     20259          nan    153922       54541       191332  \n",
       "mean       NaN 127,333.8048       NaN         NaN          NaN  \n",
       "std        NaN  37,379.4263       NaN         NaN          NaN  \n",
       "min        NaN   5,000.0000       NaN         NaN          NaN  \n",
       "25%        NaN 125,000.0000       NaN         NaN          NaN  \n",
       "50%        NaN 150,000.0000       NaN         NaN          NaN  \n",
       "75%        NaN 150,000.0000       NaN         NaN          NaN  \n",
       "max        NaN 150,000.0000       NaN         NaN          NaN  "
      ]
     },
     "execution_count": 31,
     "metadata": {},
     "output_type": "execute_result"
    }
   ],
   "source": [
    "df_cleaned.describe(include = 'all')"
   ]
  },
  {
   "cell_type": "markdown",
   "metadata": {},
   "source": [
    "#### Разделение и кодирование выборок"
   ]
  },
  {
   "cell_type": "markdown",
   "metadata": {},
   "source": [
    "Для LightGBM нам нужно поменять формат данных для категориальных признаков на `category`"
   ]
  },
  {
   "cell_type": "code",
   "execution_count": 32,
   "metadata": {},
   "outputs": [],
   "source": [
    "df_light = df_cleaned.copy()\n",
    "df_light = df_light.astype({\"vehicle_type\":'category',\n",
    "                                  \"gearbox\":'category',\n",
    "                                  \"model\":'category',\n",
    "                                  \"fuel_type\":'category',\n",
    "                                  \"brand\":'category',\n",
    "                                  \"not_repaired\":'category'})"
   ]
  },
  {
   "cell_type": "code",
   "execution_count": 33,
   "metadata": {},
   "outputs": [
    {
     "data": {
      "text/html": [
       "<div>\n",
       "<style scoped>\n",
       "    .dataframe tbody tr th:only-of-type {\n",
       "        vertical-align: middle;\n",
       "    }\n",
       "\n",
       "    .dataframe tbody tr th {\n",
       "        vertical-align: top;\n",
       "    }\n",
       "\n",
       "    .dataframe thead th {\n",
       "        text-align: right;\n",
       "    }\n",
       "</style>\n",
       "<table border=\"1\" class=\"dataframe\">\n",
       "  <thead>\n",
       "    <tr style=\"text-align: right;\">\n",
       "      <th></th>\n",
       "      <th>price</th>\n",
       "      <th>vehicle_type</th>\n",
       "      <th>registration_year</th>\n",
       "      <th>gearbox</th>\n",
       "      <th>power</th>\n",
       "      <th>model</th>\n",
       "      <th>kilometer</th>\n",
       "      <th>fuel_type</th>\n",
       "      <th>brand</th>\n",
       "      <th>not_repaired</th>\n",
       "    </tr>\n",
       "  </thead>\n",
       "  <tbody>\n",
       "    <tr>\n",
       "      <td>1</td>\n",
       "      <td>18300</td>\n",
       "      <td>coupe</td>\n",
       "      <td>2011</td>\n",
       "      <td>manual</td>\n",
       "      <td>190.0000</td>\n",
       "      <td>no_info</td>\n",
       "      <td>125000</td>\n",
       "      <td>gasoline</td>\n",
       "      <td>audi</td>\n",
       "      <td>yes</td>\n",
       "    </tr>\n",
       "    <tr>\n",
       "      <td>2</td>\n",
       "      <td>9800</td>\n",
       "      <td>suv</td>\n",
       "      <td>2004</td>\n",
       "      <td>auto</td>\n",
       "      <td>163.0000</td>\n",
       "      <td>grand</td>\n",
       "      <td>125000</td>\n",
       "      <td>gasoline</td>\n",
       "      <td>jeep</td>\n",
       "      <td>no_info</td>\n",
       "    </tr>\n",
       "    <tr>\n",
       "      <td>3</td>\n",
       "      <td>1500</td>\n",
       "      <td>small</td>\n",
       "      <td>2001</td>\n",
       "      <td>manual</td>\n",
       "      <td>75.0000</td>\n",
       "      <td>golf</td>\n",
       "      <td>150000</td>\n",
       "      <td>petrol</td>\n",
       "      <td>volkswagen</td>\n",
       "      <td>no</td>\n",
       "    </tr>\n",
       "    <tr>\n",
       "      <td>4</td>\n",
       "      <td>3600</td>\n",
       "      <td>small</td>\n",
       "      <td>2008</td>\n",
       "      <td>manual</td>\n",
       "      <td>69.0000</td>\n",
       "      <td>fabia</td>\n",
       "      <td>90000</td>\n",
       "      <td>gasoline</td>\n",
       "      <td>skoda</td>\n",
       "      <td>no</td>\n",
       "    </tr>\n",
       "    <tr>\n",
       "      <td>5</td>\n",
       "      <td>650</td>\n",
       "      <td>sedan</td>\n",
       "      <td>1995</td>\n",
       "      <td>manual</td>\n",
       "      <td>102.0000</td>\n",
       "      <td>3er</td>\n",
       "      <td>150000</td>\n",
       "      <td>petrol</td>\n",
       "      <td>bmw</td>\n",
       "      <td>yes</td>\n",
       "    </tr>\n",
       "  </tbody>\n",
       "</table>\n",
       "</div>"
      ],
      "text/plain": [
       "   price vehicle_type  registration_year gearbox    power    model  kilometer  \\\n",
       "1  18300        coupe               2011  manual 190.0000  no_info     125000   \n",
       "2   9800          suv               2004    auto 163.0000    grand     125000   \n",
       "3   1500        small               2001  manual  75.0000     golf     150000   \n",
       "4   3600        small               2008  manual  69.0000    fabia      90000   \n",
       "5    650        sedan               1995  manual 102.0000      3er     150000   \n",
       "\n",
       "  fuel_type       brand not_repaired  \n",
       "1  gasoline        audi          yes  \n",
       "2  gasoline        jeep      no_info  \n",
       "3    petrol  volkswagen           no  \n",
       "4  gasoline       skoda           no  \n",
       "5    petrol         bmw          yes  "
      ]
     },
     "execution_count": 33,
     "metadata": {},
     "output_type": "execute_result"
    }
   ],
   "source": [
    "df_light.head()"
   ]
  },
  {
   "cell_type": "markdown",
   "metadata": {},
   "source": [
    "Для моделей LinearRegression, ElasticNet и RandomForestRegressor потребуется кодирование признаков. Закодируем признаки методом OHE."
   ]
  },
  {
   "cell_type": "code",
   "execution_count": 34,
   "metadata": {},
   "outputs": [],
   "source": [
    "df_ohe = df_cleaned.copy()\n",
    "df_ohe = pd.get_dummies(df_ohe)"
   ]
  },
  {
   "cell_type": "code",
   "execution_count": 35,
   "metadata": {
    "scrolled": true
   },
   "outputs": [
    {
     "data": {
      "text/html": [
       "<div>\n",
       "<style scoped>\n",
       "    .dataframe tbody tr th:only-of-type {\n",
       "        vertical-align: middle;\n",
       "    }\n",
       "\n",
       "    .dataframe tbody tr th {\n",
       "        vertical-align: top;\n",
       "    }\n",
       "\n",
       "    .dataframe thead th {\n",
       "        text-align: right;\n",
       "    }\n",
       "</style>\n",
       "<table border=\"1\" class=\"dataframe\">\n",
       "  <thead>\n",
       "    <tr style=\"text-align: right;\">\n",
       "      <th></th>\n",
       "      <th>price</th>\n",
       "      <th>registration_year</th>\n",
       "      <th>power</th>\n",
       "      <th>kilometer</th>\n",
       "      <th>vehicle_type_bus</th>\n",
       "      <th>vehicle_type_convertible</th>\n",
       "      <th>vehicle_type_coupe</th>\n",
       "      <th>vehicle_type_no_info</th>\n",
       "      <th>vehicle_type_other</th>\n",
       "      <th>vehicle_type_sedan</th>\n",
       "      <th>...</th>\n",
       "      <th>brand_sonstige_autos</th>\n",
       "      <th>brand_subaru</th>\n",
       "      <th>brand_suzuki</th>\n",
       "      <th>brand_toyota</th>\n",
       "      <th>brand_trabant</th>\n",
       "      <th>brand_volkswagen</th>\n",
       "      <th>brand_volvo</th>\n",
       "      <th>not_repaired_no</th>\n",
       "      <th>not_repaired_no_info</th>\n",
       "      <th>not_repaired_yes</th>\n",
       "    </tr>\n",
       "  </thead>\n",
       "  <tbody>\n",
       "    <tr>\n",
       "      <td>1</td>\n",
       "      <td>18300</td>\n",
       "      <td>2011</td>\n",
       "      <td>190.0000</td>\n",
       "      <td>125000</td>\n",
       "      <td>0</td>\n",
       "      <td>0</td>\n",
       "      <td>1</td>\n",
       "      <td>0</td>\n",
       "      <td>0</td>\n",
       "      <td>0</td>\n",
       "      <td>...</td>\n",
       "      <td>0</td>\n",
       "      <td>0</td>\n",
       "      <td>0</td>\n",
       "      <td>0</td>\n",
       "      <td>0</td>\n",
       "      <td>0</td>\n",
       "      <td>0</td>\n",
       "      <td>0</td>\n",
       "      <td>0</td>\n",
       "      <td>1</td>\n",
       "    </tr>\n",
       "    <tr>\n",
       "      <td>2</td>\n",
       "      <td>9800</td>\n",
       "      <td>2004</td>\n",
       "      <td>163.0000</td>\n",
       "      <td>125000</td>\n",
       "      <td>0</td>\n",
       "      <td>0</td>\n",
       "      <td>0</td>\n",
       "      <td>0</td>\n",
       "      <td>0</td>\n",
       "      <td>0</td>\n",
       "      <td>...</td>\n",
       "      <td>0</td>\n",
       "      <td>0</td>\n",
       "      <td>0</td>\n",
       "      <td>0</td>\n",
       "      <td>0</td>\n",
       "      <td>0</td>\n",
       "      <td>0</td>\n",
       "      <td>0</td>\n",
       "      <td>1</td>\n",
       "      <td>0</td>\n",
       "    </tr>\n",
       "    <tr>\n",
       "      <td>3</td>\n",
       "      <td>1500</td>\n",
       "      <td>2001</td>\n",
       "      <td>75.0000</td>\n",
       "      <td>150000</td>\n",
       "      <td>0</td>\n",
       "      <td>0</td>\n",
       "      <td>0</td>\n",
       "      <td>0</td>\n",
       "      <td>0</td>\n",
       "      <td>0</td>\n",
       "      <td>...</td>\n",
       "      <td>0</td>\n",
       "      <td>0</td>\n",
       "      <td>0</td>\n",
       "      <td>0</td>\n",
       "      <td>0</td>\n",
       "      <td>1</td>\n",
       "      <td>0</td>\n",
       "      <td>1</td>\n",
       "      <td>0</td>\n",
       "      <td>0</td>\n",
       "    </tr>\n",
       "    <tr>\n",
       "      <td>4</td>\n",
       "      <td>3600</td>\n",
       "      <td>2008</td>\n",
       "      <td>69.0000</td>\n",
       "      <td>90000</td>\n",
       "      <td>0</td>\n",
       "      <td>0</td>\n",
       "      <td>0</td>\n",
       "      <td>0</td>\n",
       "      <td>0</td>\n",
       "      <td>0</td>\n",
       "      <td>...</td>\n",
       "      <td>0</td>\n",
       "      <td>0</td>\n",
       "      <td>0</td>\n",
       "      <td>0</td>\n",
       "      <td>0</td>\n",
       "      <td>0</td>\n",
       "      <td>0</td>\n",
       "      <td>1</td>\n",
       "      <td>0</td>\n",
       "      <td>0</td>\n",
       "    </tr>\n",
       "    <tr>\n",
       "      <td>5</td>\n",
       "      <td>650</td>\n",
       "      <td>1995</td>\n",
       "      <td>102.0000</td>\n",
       "      <td>150000</td>\n",
       "      <td>0</td>\n",
       "      <td>0</td>\n",
       "      <td>0</td>\n",
       "      <td>0</td>\n",
       "      <td>0</td>\n",
       "      <td>1</td>\n",
       "      <td>...</td>\n",
       "      <td>0</td>\n",
       "      <td>0</td>\n",
       "      <td>0</td>\n",
       "      <td>0</td>\n",
       "      <td>0</td>\n",
       "      <td>0</td>\n",
       "      <td>0</td>\n",
       "      <td>0</td>\n",
       "      <td>0</td>\n",
       "      <td>1</td>\n",
       "    </tr>\n",
       "  </tbody>\n",
       "</table>\n",
       "<p>5 rows × 315 columns</p>\n",
       "</div>"
      ],
      "text/plain": [
       "   price  registration_year    power  kilometer  vehicle_type_bus  \\\n",
       "1  18300               2011 190.0000     125000                 0   \n",
       "2   9800               2004 163.0000     125000                 0   \n",
       "3   1500               2001  75.0000     150000                 0   \n",
       "4   3600               2008  69.0000      90000                 0   \n",
       "5    650               1995 102.0000     150000                 0   \n",
       "\n",
       "   vehicle_type_convertible  vehicle_type_coupe  vehicle_type_no_info  \\\n",
       "1                         0                   1                     0   \n",
       "2                         0                   0                     0   \n",
       "3                         0                   0                     0   \n",
       "4                         0                   0                     0   \n",
       "5                         0                   0                     0   \n",
       "\n",
       "   vehicle_type_other  vehicle_type_sedan  ...  brand_sonstige_autos  \\\n",
       "1                   0                   0  ...                     0   \n",
       "2                   0                   0  ...                     0   \n",
       "3                   0                   0  ...                     0   \n",
       "4                   0                   0  ...                     0   \n",
       "5                   0                   1  ...                     0   \n",
       "\n",
       "   brand_subaru  brand_suzuki  brand_toyota  brand_trabant  brand_volkswagen  \\\n",
       "1             0             0             0              0                 0   \n",
       "2             0             0             0              0                 0   \n",
       "3             0             0             0              0                 1   \n",
       "4             0             0             0              0                 0   \n",
       "5             0             0             0              0                 0   \n",
       "\n",
       "   brand_volvo  not_repaired_no  not_repaired_no_info  not_repaired_yes  \n",
       "1            0                0                     0                 1  \n",
       "2            0                0                     1                 0  \n",
       "3            0                1                     0                 0  \n",
       "4            0                1                     0                 0  \n",
       "5            0                0                     0                 1  \n",
       "\n",
       "[5 rows x 315 columns]"
      ]
     },
     "execution_count": 35,
     "metadata": {},
     "output_type": "execute_result"
    }
   ],
   "source": [
    "df_ohe.head()"
   ]
  },
  {
   "cell_type": "markdown",
   "metadata": {},
   "source": [
    "Разделим наши данные на выборки"
   ]
  },
  {
   "cell_type": "code",
   "execution_count": 36,
   "metadata": {},
   "outputs": [],
   "source": [
    "X_train, X_test, y_train, y_test = train_test_split(\n",
    "    df_cleaned.drop('price', axis=1), df_cleaned['price'], test_size=0.20, random_state=state)\n",
    "\n",
    "X_train_light, X_test_light, y_train_light, y_test_light = train_test_split(\n",
    "    df_light.drop('price', axis=1), df_light['price'], test_size=0.20, random_state=state)   \n",
    "\n",
    "X_train_ohe, X_test_ohe, y_train_ohe, y_test_ohe = train_test_split(\n",
    "    df_ohe.drop('price', axis=1), df_ohe['price'], test_size=0.20, random_state=state)    "
   ]
  },
  {
   "cell_type": "code",
   "execution_count": 37,
   "metadata": {},
   "outputs": [],
   "source": [
    "del df\n",
    "del df_with_date\n",
    "del df_light\n",
    "del df_ohe\n",
    "del df_cleaned"
   ]
  },
  {
   "cell_type": "markdown",
   "metadata": {},
   "source": [
    "Данные подготовлены, переходим к обучению моделей"
   ]
  },
  {
   "cell_type": "markdown",
   "metadata": {},
   "source": [
    "## Обучение моделей"
   ]
  },
  {
   "cell_type": "markdown",
   "metadata": {},
   "source": [
    "Всего будем сравнивать 5 моделей:\n",
    "1. LinearRegression\n",
    "2. ElasticNet\n",
    "3. SGDRegressor\n",
    "4. RandomForestRegressor\n",
    "5. CatBoostRegressor\n",
    "6. LGBMRegressor\n",
    "\n",
    "Для заказчика важны следующие параметры:\n",
    "1. качество предсказания;\n",
    "2. скорость предсказания;\n",
    "3. время обучения\n",
    "\n",
    "Результаты соберём в таблицу."
   ]
  },
  {
   "cell_type": "code",
   "execution_count": 38,
   "metadata": {},
   "outputs": [],
   "source": [
    "models = []\n",
    "scores = []\n",
    "prediction_time = []\n",
    "training_time = []"
   ]
  },
  {
   "cell_type": "markdown",
   "metadata": {},
   "source": [
    "### LinearRegression"
   ]
  },
  {
   "cell_type": "markdown",
   "metadata": {},
   "source": [
    "Для линейных алгоритмов основанных на \"расстоянии между признаками\" понадобится масштабирование числовых признаков."
   ]
  },
  {
   "cell_type": "code",
   "execution_count": 39,
   "metadata": {},
   "outputs": [],
   "source": [
    "num_features = ['registration_year', 'power', 'kilometer']"
   ]
  },
  {
   "cell_type": "code",
   "execution_count": 40,
   "metadata": {},
   "outputs": [],
   "source": [
    "scaler = StandardScaler()\n",
    "\n",
    "X_train_ohe[num_features] = scaler.fit_transform(X_train_ohe[num_features])\n",
    "X_test_ohe[num_features] = scaler.transform(X_test_ohe[num_features]) "
   ]
  },
  {
   "cell_type": "markdown",
   "metadata": {},
   "source": [
    "Создадим нашу метрику RMSE"
   ]
  },
  {
   "cell_type": "code",
   "execution_count": 41,
   "metadata": {},
   "outputs": [],
   "source": [
    "def make_rmse(y, y_pred):\n",
    "    rmse = mean_squared_error(y, y_pred)**0.5\n",
    "    return rmse\n",
    "\n",
    "rmse = make_scorer(make_rmse, greater_is_better=False)"
   ]
  },
  {
   "cell_type": "markdown",
   "metadata": {},
   "source": [
    "Обучим CountVectorizer, который возможно поможет нам улучшить предсказания модели."
   ]
  },
  {
   "cell_type": "code",
   "execution_count": 42,
   "metadata": {},
   "outputs": [],
   "source": [
    "c_v = CountVectorizer(ngram_range=(1, 3), max_features=30000)"
   ]
  },
  {
   "cell_type": "code",
   "execution_count": 43,
   "metadata": {},
   "outputs": [
    {
     "name": "stdout",
     "output_type": "stream",
     "text": [
      "Wall time: 1min 10s\n"
     ]
    }
   ],
   "source": [
    "%%time\n",
    "X_train_ohe.to_csv('train_text.txt', sep=' ', index=None, header=None)\n",
    "X_test_ohe.to_csv('test_text.txt', sep=' ', index=None, header=None)"
   ]
  },
  {
   "cell_type": "markdown",
   "metadata": {},
   "source": [
    "Сохраним признаки после модификации"
   ]
  },
  {
   "cell_type": "code",
   "execution_count": 44,
   "metadata": {},
   "outputs": [
    {
     "name": "stdout",
     "output_type": "stream",
     "text": [
      "(207033, 26682) (51759, 26682)\n",
      "Wall time: 11 s\n"
     ]
    }
   ],
   "source": [
    "%%time\n",
    "\n",
    "with open('train_text.txt') as inp_train_file:\n",
    "    X_train_ohe_cv = c_v.fit_transform(inp_train_file)\n",
    "with open('test_text.txt') as inp_test_file:\n",
    "    X_test_ohe_cv = c_v.transform(inp_test_file)\n",
    "\n",
    "print(X_train_ohe_cv.shape, X_test_ohe_cv.shape)"
   ]
  },
  {
   "cell_type": "markdown",
   "metadata": {},
   "source": [
    "Подберём оптимальные параметры для нашей модели"
   ]
  },
  {
   "cell_type": "code",
   "execution_count": 45,
   "metadata": {},
   "outputs": [],
   "source": [
    "lr_params = {'normalize': [True, False],\n",
    "           'copy_X': [True, False],\n",
    "           'fit_intercept': [True, False]}\n",
    "lr_model = LinearRegression()\n",
    "grid_lr = GridSearchCV(lr_model, lr_params, scoring=rmse, cv=5)"
   ]
  },
  {
   "cell_type": "code",
   "execution_count": 46,
   "metadata": {},
   "outputs": [
    {
     "name": "stdout",
     "output_type": "stream",
     "text": [
      "Wall time: 4min 22s\n"
     ]
    },
    {
     "data": {
      "text/plain": [
       "GridSearchCV(cv=5, error_score='raise-deprecating',\n",
       "             estimator=LinearRegression(copy_X=True, fit_intercept=True,\n",
       "                                        n_jobs=None, normalize=False),\n",
       "             iid='warn', n_jobs=None,\n",
       "             param_grid={'copy_X': [True, False],\n",
       "                         'fit_intercept': [True, False],\n",
       "                         'normalize': [True, False]},\n",
       "             pre_dispatch='2*n_jobs', refit=True, return_train_score=False,\n",
       "             scoring=make_scorer(make_rmse, greater_is_better=False),\n",
       "             verbose=0)"
      ]
     },
     "execution_count": 46,
     "metadata": {},
     "output_type": "execute_result"
    }
   ],
   "source": [
    "%%time\n",
    "grid_lr.fit(X_train_ohe, y_train_ohe)"
   ]
  },
  {
   "cell_type": "code",
   "execution_count": 47,
   "metadata": {},
   "outputs": [
    {
     "data": {
      "text/plain": [
       "LinearRegression(copy_X=True, fit_intercept=False, n_jobs=None, normalize=True)"
      ]
     },
     "execution_count": 47,
     "metadata": {},
     "output_type": "execute_result"
    }
   ],
   "source": [
    "grid_lr.best_estimator_"
   ]
  },
  {
   "cell_type": "code",
   "execution_count": 48,
   "metadata": {},
   "outputs": [],
   "source": [
    "lr_model = LinearRegression(copy_X=True, fit_intercept=False, normalize=True)"
   ]
  },
  {
   "cell_type": "markdown",
   "metadata": {},
   "source": [
    "Напишем функцию в которой обучим модель, предскажием значения на тестовой выборке и посмотрим на RMSE."
   ]
  },
  {
   "cell_type": "code",
   "execution_count": 49,
   "metadata": {},
   "outputs": [],
   "source": [
    "def get_results(model, X_train, X_test, y_train, y_test, CountVectorizer=False):\n",
    "    '''\n",
    "    The function train model, predict prices and returns name, times and RMSE score\n",
    "    get_results(model, X_train, X_test, y_train, y_test, CountVectorizer=False)\n",
    "    '''\n",
    "    \n",
    "    # Fitting\n",
    "    start_time = time.time()\n",
    "    model.fit(X_train, y_train)\n",
    "    end_time = time.time()\n",
    "    fit_time = end_time - start_time\n",
    "    \n",
    "    # Predicting\n",
    "    start_time = time.time()\n",
    "    y_pred = model.predict(X_test)\n",
    "    end_time = time.time()\n",
    "    score_rmse = make_rmse(y_test, y_pred)\n",
    "    pred_time = end_time - start_time\n",
    "    \n",
    "    name = model.__class__.__name__\n",
    "    \n",
    "    if CountVectorizer == True:\n",
    "        name = str(name) + ' + CountVectorizer'\n",
    "    \n",
    "    return print('RMSE на тестовой выборке' , round(score_rmse)), models.append(name), scores.append(score_rmse), prediction_time.append(pred_time), training_time.append(fit_time)\n",
    "        "
   ]
  },
  {
   "cell_type": "code",
   "execution_count": 50,
   "metadata": {},
   "outputs": [
    {
     "name": "stdout",
     "output_type": "stream",
     "text": [
      "RMSE на тестовой выборке 2365.0\n",
      "Wall time: 8.23 s\n"
     ]
    },
    {
     "data": {
      "text/plain": [
       "(None, None, None, None, None)"
      ]
     },
     "execution_count": 50,
     "metadata": {},
     "output_type": "execute_result"
    }
   ],
   "source": [
    "%%time\n",
    "get_results(lr_model, X_train_ohe, X_test_ohe, y_train_ohe, y_test_ohe)"
   ]
  },
  {
   "cell_type": "markdown",
   "metadata": {},
   "source": [
    "Теперь посмотрим на результаты модели после изменения признаков"
   ]
  },
  {
   "cell_type": "code",
   "execution_count": 51,
   "metadata": {},
   "outputs": [
    {
     "name": "stdout",
     "output_type": "stream",
     "text": [
      "RMSE на тестовой выборке 2094.0\n",
      "Wall time: 5.29 s\n"
     ]
    },
    {
     "data": {
      "text/plain": [
       "(None, None, None, None, None)"
      ]
     },
     "execution_count": 51,
     "metadata": {},
     "output_type": "execute_result"
    }
   ],
   "source": [
    "%%time\n",
    "get_results(lr_model, X_train_ohe_cv, X_test_ohe_cv, y_train_ohe, y_test_ohe, CountVectorizer=True)"
   ]
  },
  {
   "cell_type": "markdown",
   "metadata": {},
   "source": [
    "Результаты несколько лучше. Посмотрим на остальных моделях."
   ]
  },
  {
   "cell_type": "code",
   "execution_count": 52,
   "metadata": {},
   "outputs": [],
   "source": [
    "del column, correct_columns, get_info, grid_lr, lr_params, num_features, sep, snake_register"
   ]
  },
  {
   "cell_type": "markdown",
   "metadata": {},
   "source": [
    "### ElasticNet"
   ]
  },
  {
   "cell_type": "markdown",
   "metadata": {},
   "source": [
    "Подберём оптимальные параметры для нашей модели"
   ]
  },
  {
   "cell_type": "code",
   "execution_count": 53,
   "metadata": {},
   "outputs": [],
   "source": [
    "en_params = {'normalize': [True, False],\n",
    "           'copy_X': [True, False],\n",
    "           'fit_intercept': [True, False],\n",
    "            'l1_ratio': [.1, .5, .9],\n",
    "            'selection': ['cyclic', 'random']}\n",
    "en_model = ElasticNet(random_state=state)\n",
    "grid_en = GridSearchCV(en_model, en_params, scoring=rmse, cv=5, n_jobs=3)"
   ]
  },
  {
   "cell_type": "code",
   "execution_count": 54,
   "metadata": {},
   "outputs": [
    {
     "name": "stdout",
     "output_type": "stream",
     "text": [
      "Wall time: 6min 37s\n"
     ]
    },
    {
     "data": {
      "text/plain": [
       "GridSearchCV(cv=5, error_score='raise-deprecating',\n",
       "             estimator=ElasticNet(alpha=1.0, copy_X=True, fit_intercept=True,\n",
       "                                  l1_ratio=0.5, max_iter=1000, normalize=False,\n",
       "                                  positive=False, precompute=False,\n",
       "                                  random_state=RandomState(MT19937) at 0x1A77D24F6A8,\n",
       "                                  selection='cyclic', tol=0.0001,\n",
       "                                  warm_start=False),\n",
       "             iid='warn', n_jobs=3,\n",
       "             param_grid={'copy_X': [True, False],\n",
       "                         'fit_intercept': [True, False],\n",
       "                         'l1_ratio': [0.1, 0.5, 0.9],\n",
       "                         'normalize': [True, False],\n",
       "                         'selection': ['cyclic', 'random']},\n",
       "             pre_dispatch='2*n_jobs', refit=True, return_train_score=False,\n",
       "             scoring=make_scorer(make_rmse, greater_is_better=False),\n",
       "             verbose=0)"
      ]
     },
     "execution_count": 54,
     "metadata": {},
     "output_type": "execute_result"
    }
   ],
   "source": [
    "%%time\n",
    "grid_en.fit(X_train_ohe, y_train_ohe)"
   ]
  },
  {
   "cell_type": "code",
   "execution_count": 55,
   "metadata": {},
   "outputs": [
    {
     "data": {
      "text/plain": [
       "ElasticNet(alpha=1.0, copy_X=True, fit_intercept=True, l1_ratio=0.9,\n",
       "           max_iter=1000, normalize=False, positive=False, precompute=False,\n",
       "           random_state=RandomState(MT19937) at 0x1A707EB8BF8,\n",
       "           selection='cyclic', tol=0.0001, warm_start=False)"
      ]
     },
     "execution_count": 55,
     "metadata": {},
     "output_type": "execute_result"
    }
   ],
   "source": [
    "grid_en.best_estimator_"
   ]
  },
  {
   "cell_type": "code",
   "execution_count": 56,
   "metadata": {},
   "outputs": [],
   "source": [
    "en_model = ElasticNet(l1_ratio=0.9, selection='random', random_state=state)"
   ]
  },
  {
   "cell_type": "markdown",
   "metadata": {},
   "source": [
    "Обучим модель, предскажием значения на тестовой выборке и посмотрим на RMSE"
   ]
  },
  {
   "cell_type": "code",
   "execution_count": 57,
   "metadata": {},
   "outputs": [
    {
     "name": "stdout",
     "output_type": "stream",
     "text": [
      "RMSE на тестовой выборке 2674.0\n",
      "Wall time: 3.1 s\n"
     ]
    },
    {
     "data": {
      "text/plain": [
       "(None, None, None, None, None)"
      ]
     },
     "execution_count": 57,
     "metadata": {},
     "output_type": "execute_result"
    }
   ],
   "source": [
    "%%time\n",
    "get_results(en_model, X_train_ohe, X_test_ohe, y_train_ohe, y_test_ohe, CountVectorizer=False)"
   ]
  },
  {
   "cell_type": "markdown",
   "metadata": {},
   "source": [
    "Посмотрим результаты с CountVectorizer"
   ]
  },
  {
   "cell_type": "code",
   "execution_count": 58,
   "metadata": {},
   "outputs": [
    {
     "name": "stdout",
     "output_type": "stream",
     "text": [
      "RMSE на тестовой выборке 3529.0\n",
      "Wall time: 1min 29s\n"
     ]
    },
    {
     "data": {
      "text/plain": [
       "(None, None, None, None, None)"
      ]
     },
     "execution_count": 58,
     "metadata": {},
     "output_type": "execute_result"
    }
   ],
   "source": [
    "%%time\n",
    "get_results(en_model, X_train_ohe_cv, X_test_ohe_cv, y_train_ohe, y_test_ohe, CountVectorizer=True)"
   ]
  },
  {
   "cell_type": "markdown",
   "metadata": {},
   "source": [
    "На модели ElasticNet с обработанными CountVectorizer признаками показала результаты даже хуже. Посмотрим на модель с градиентным спуском."
   ]
  },
  {
   "cell_type": "code",
   "execution_count": 59,
   "metadata": {},
   "outputs": [],
   "source": [
    "del en_params, grid_en"
   ]
  },
  {
   "cell_type": "markdown",
   "metadata": {},
   "source": [
    "### SGDRegressor"
   ]
  },
  {
   "cell_type": "markdown",
   "metadata": {},
   "source": [
    "Подберём оптимальные параметры для нашей модели"
   ]
  },
  {
   "cell_type": "code",
   "execution_count": 60,
   "metadata": {},
   "outputs": [
    {
     "data": {
      "text/plain": [
       "<bound method BaseEstimator.get_params of SGDRegressor(alpha=0.0001, average=False, early_stopping=False, epsilon=0.1,\n",
       "             eta0=0.01, fit_intercept=True, l1_ratio=0.15,\n",
       "             learning_rate='invscaling', loss='squared_loss', max_iter=1000,\n",
       "             n_iter_no_change=5, penalty='l2', power_t=0.25, random_state=None,\n",
       "             shuffle=True, tol=0.001, validation_fraction=0.1, verbose=0,\n",
       "             warm_start=False)>"
      ]
     },
     "execution_count": 60,
     "metadata": {},
     "output_type": "execute_result"
    }
   ],
   "source": [
    "SGDRegressor().get_params"
   ]
  },
  {
   "cell_type": "code",
   "execution_count": 61,
   "metadata": {},
   "outputs": [],
   "source": [
    "SGDR_params = {'learning_rate': ['invscaling', 'adaptive'],\n",
    "           'l1_ratio': [.1, .5, .9],\n",
    "           'fit_intercept': [True, False]}\n",
    "SGDR_model = SGDRegressor(random_state=state)\n",
    "grid_SGDR = GridSearchCV(SGDR_model, SGDR_params, scoring=rmse, cv=5, n_jobs=-1)"
   ]
  },
  {
   "cell_type": "code",
   "execution_count": 62,
   "metadata": {},
   "outputs": [
    {
     "name": "stdout",
     "output_type": "stream",
     "text": [
      "Wall time: 5min 27s\n"
     ]
    },
    {
     "data": {
      "text/plain": [
       "GridSearchCV(cv=5, error_score='raise-deprecating',\n",
       "             estimator=SGDRegressor(alpha=0.0001, average=False,\n",
       "                                    early_stopping=False, epsilon=0.1,\n",
       "                                    eta0=0.01, fit_intercept=True,\n",
       "                                    l1_ratio=0.15, learning_rate='invscaling',\n",
       "                                    loss='squared_loss', max_iter=1000,\n",
       "                                    n_iter_no_change=5, penalty='l2',\n",
       "                                    power_t=0.25,\n",
       "                                    random_state=RandomState(MT19937) at 0x1A77D24F6A8,\n",
       "                                    shuffle=True, tol=0.001,\n",
       "                                    validation_fraction=0.1, verbose=0,\n",
       "                                    warm_start=False),\n",
       "             iid='warn', n_jobs=-1,\n",
       "             param_grid={'fit_intercept': [True, False],\n",
       "                         'l1_ratio': [0.1, 0.5, 0.9],\n",
       "                         'learning_rate': ['invscaling', 'adaptive']},\n",
       "             pre_dispatch='2*n_jobs', refit=True, return_train_score=False,\n",
       "             scoring=make_scorer(make_rmse, greater_is_better=False),\n",
       "             verbose=0)"
      ]
     },
     "execution_count": 62,
     "metadata": {},
     "output_type": "execute_result"
    }
   ],
   "source": [
    "%%time\n",
    "grid_SGDR.fit(X_train_ohe, y_train_ohe)"
   ]
  },
  {
   "cell_type": "code",
   "execution_count": 63,
   "metadata": {},
   "outputs": [
    {
     "data": {
      "text/plain": [
       "SGDRegressor(alpha=0.0001, average=False, early_stopping=False, epsilon=0.1,\n",
       "             eta0=0.01, fit_intercept=True, l1_ratio=0.1,\n",
       "             learning_rate='adaptive', loss='squared_loss', max_iter=1000,\n",
       "             n_iter_no_change=5, penalty='l2', power_t=0.25,\n",
       "             random_state=RandomState(MT19937) at 0x1A707EB8D08, shuffle=True,\n",
       "             tol=0.001, validation_fraction=0.1, verbose=0, warm_start=False)"
      ]
     },
     "execution_count": 63,
     "metadata": {},
     "output_type": "execute_result"
    }
   ],
   "source": [
    "grid_SGDR.best_estimator_"
   ]
  },
  {
   "cell_type": "code",
   "execution_count": 64,
   "metadata": {},
   "outputs": [],
   "source": [
    "SGDR_model = SGDRegressor(learning_rate='adaptive', l1_ratio=0.1)"
   ]
  },
  {
   "cell_type": "markdown",
   "metadata": {},
   "source": [
    "Обучим модель, предскажием значения на тестовой выборке и посмотрим на RMSE"
   ]
  },
  {
   "cell_type": "code",
   "execution_count": 65,
   "metadata": {},
   "outputs": [
    {
     "name": "stdout",
     "output_type": "stream",
     "text": [
      "RMSE на тестовой выборке 2366.0\n",
      "Wall time: 12.5 s\n"
     ]
    },
    {
     "data": {
      "text/plain": [
       "(None, None, None, None, None)"
      ]
     },
     "execution_count": 65,
     "metadata": {},
     "output_type": "execute_result"
    }
   ],
   "source": [
    "%%time\n",
    "get_results(SGDR_model, X_train_ohe, X_test_ohe, y_train_ohe, y_test_ohe, CountVectorizer=False)"
   ]
  },
  {
   "cell_type": "markdown",
   "metadata": {},
   "source": [
    "Посмотрим результаты с CountVectorizer"
   ]
  },
  {
   "cell_type": "code",
   "execution_count": 66,
   "metadata": {},
   "outputs": [
    {
     "name": "stdout",
     "output_type": "stream",
     "text": [
      "RMSE на тестовой выборке 2046.0\n",
      "Wall time: 3.69 s\n"
     ]
    },
    {
     "data": {
      "text/plain": [
       "(None, None, None, None, None)"
      ]
     },
     "execution_count": 66,
     "metadata": {},
     "output_type": "execute_result"
    }
   ],
   "source": [
    "%%time\n",
    "get_results(SGDR_model, X_train_ohe_cv, X_test_ohe_cv, y_train_ohe, y_test_ohe, CountVectorizer=True)"
   ]
  },
  {
   "cell_type": "markdown",
   "metadata": {},
   "source": [
    "Здесь мы видим так же улучшение нашей метрики после преобразования признаков."
   ]
  },
  {
   "cell_type": "code",
   "execution_count": 67,
   "metadata": {},
   "outputs": [],
   "source": [
    "del SGDR_params, grid_SGDR, X_train_ohe_cv, X_test_ohe_cv"
   ]
  },
  {
   "cell_type": "markdown",
   "metadata": {},
   "source": [
    "### RandomForestRegressor"
   ]
  },
  {
   "cell_type": "markdown",
   "metadata": {},
   "source": [
    "Подберём оптимальные параметры для нашей модели"
   ]
  },
  {
   "cell_type": "code",
   "execution_count": 68,
   "metadata": {},
   "outputs": [
    {
     "data": {
      "text/plain": [
       "<bound method BaseEstimator.get_params of RandomForestRegressor(bootstrap=True, criterion='mse', max_depth=None,\n",
       "                      max_features='auto', max_leaf_nodes=None,\n",
       "                      min_impurity_decrease=0.0, min_impurity_split=None,\n",
       "                      min_samples_leaf=1, min_samples_split=2,\n",
       "                      min_weight_fraction_leaf=0.0, n_estimators='warn',\n",
       "                      n_jobs=None, oob_score=False, random_state=None,\n",
       "                      verbose=0, warm_start=False)>"
      ]
     },
     "execution_count": 68,
     "metadata": {},
     "output_type": "execute_result"
    }
   ],
   "source": [
    "RandomForestRegressor().get_params"
   ]
  },
  {
   "cell_type": "code",
   "execution_count": 69,
   "metadata": {},
   "outputs": [],
   "source": [
    "# Перебор параметров занимал очень много времени, по-этому этот шаг здесь пропущен.\n",
    "# Параметры были подобраны в ручную.\n",
    "# %%time\n",
    "\n",
    "# rf_params = {'max_depth': range(7,25,2),\n",
    "#            'n_estimators': range(50,110,10)}\n",
    "# rf_model = RandomForestRegressor(random_state=state)\n",
    "# grid_rf = GridSearchCV(rf_model, rf_params, scoring=rmse, cv=5 n_jobs=-1)\n",
    "\n",
    "# grid_rf.fit(X_train_ohe, y_train_ohe)\n",
    "# grid_rf.best_estimator_"
   ]
  },
  {
   "cell_type": "code",
   "execution_count": 70,
   "metadata": {},
   "outputs": [],
   "source": [
    "rf_model = RandomForestRegressor(random_state=state, max_depth=12, n_estimators=100)"
   ]
  },
  {
   "cell_type": "markdown",
   "metadata": {},
   "source": [
    "Обучим модель, предскажием значения на тестовой выборке и посмотрим на RMSE"
   ]
  },
  {
   "cell_type": "code",
   "execution_count": 71,
   "metadata": {},
   "outputs": [
    {
     "name": "stdout",
     "output_type": "stream",
     "text": [
      "RMSE на тестовой выборке 1741.0\n",
      "Wall time: 4min 46s\n"
     ]
    },
    {
     "data": {
      "text/plain": [
       "(None, None, None, None, None)"
      ]
     },
     "execution_count": 71,
     "metadata": {},
     "output_type": "execute_result"
    }
   ],
   "source": [
    "%%time\n",
    "get_results(rf_model, X_train_ohe, X_test_ohe, y_train_ohe, y_test_ohe)"
   ]
  },
  {
   "cell_type": "markdown",
   "metadata": {},
   "source": [
    "Не плохие показатели RMSE, но время явно превышено."
   ]
  },
  {
   "cell_type": "markdown",
   "metadata": {},
   "source": [
    "### CatBoostRegressor"
   ]
  },
  {
   "cell_type": "code",
   "execution_count": 72,
   "metadata": {},
   "outputs": [],
   "source": [
    "cat_features = ['vehicle_type', 'gearbox', 'model', 'fuel_type', 'brand', 'not_repaired']"
   ]
  },
  {
   "cell_type": "code",
   "execution_count": 73,
   "metadata": {},
   "outputs": [],
   "source": [
    "train_data = Pool(data=X_train,\n",
    "                  label=y_train,\n",
    "                  cat_features=cat_features\n",
    "                 )"
   ]
  },
  {
   "cell_type": "code",
   "execution_count": 74,
   "metadata": {},
   "outputs": [],
   "source": [
    "test_data = Pool(data=X_test,\n",
    "                  label=y_test,\n",
    "                  cat_features=cat_features\n",
    "                 )"
   ]
  },
  {
   "cell_type": "code",
   "execution_count": 75,
   "metadata": {},
   "outputs": [],
   "source": [
    "params = {'cat_features': cat_features,\n",
    "              'eval_metric': 'MAPE',\n",
    "          'loss_function': 'RMSE',\n",
    "              'learning_rate': 0.15,\n",
    "              'random_seed': 32,\n",
    "              'verbose':200}"
   ]
  },
  {
   "cell_type": "code",
   "execution_count": 76,
   "metadata": {},
   "outputs": [
    {
     "name": "stdout",
     "output_type": "stream",
     "text": [
      "Training on fold [0/5]\n",
      "\n",
      "bestTest = 0.3260917802\n",
      "bestIteration = 993\n",
      "\n",
      "Training on fold [1/5]\n",
      "\n",
      "bestTest = 0.3254659541\n",
      "bestIteration = 980\n",
      "\n",
      "Training on fold [2/5]\n",
      "\n",
      "bestTest = 0.3308882033\n",
      "bestIteration = 998\n",
      "\n",
      "Training on fold [3/5]\n",
      "\n",
      "bestTest = 0.3270143815\n",
      "bestIteration = 996\n",
      "\n",
      "Training on fold [4/5]\n",
      "\n",
      "bestTest = 0.3284503982\n",
      "bestIteration = 999\n",
      "\n",
      "Wall time: 10min 32s\n"
     ]
    }
   ],
   "source": [
    "%%time\n",
    "cv_data = cv(\n",
    "    params = params,\n",
    "    pool = train_data,\n",
    "    fold_count=5,\n",
    "    shuffle=True,\n",
    "    partition_random_seed=0,\n",
    "    stratified=False,\n",
    "    verbose=False,\n",
    "    early_stopping_rounds=200\n",
    ")"
   ]
  },
  {
   "cell_type": "code",
   "execution_count": 77,
   "metadata": {},
   "outputs": [
    {
     "data": {
      "text/html": [
       "<div>\n",
       "<style scoped>\n",
       "    .dataframe tbody tr th:only-of-type {\n",
       "        vertical-align: middle;\n",
       "    }\n",
       "\n",
       "    .dataframe tbody tr th {\n",
       "        vertical-align: top;\n",
       "    }\n",
       "\n",
       "    .dataframe thead th {\n",
       "        text-align: right;\n",
       "    }\n",
       "</style>\n",
       "<table border=\"1\" class=\"dataframe\">\n",
       "  <thead>\n",
       "    <tr style=\"text-align: right;\">\n",
       "      <th></th>\n",
       "      <th>iterations</th>\n",
       "      <th>test-MAPE-mean</th>\n",
       "      <th>test-MAPE-std</th>\n",
       "      <th>train-MAPE-mean</th>\n",
       "      <th>train-MAPE-std</th>\n",
       "      <th>test-RMSE-mean</th>\n",
       "      <th>test-RMSE-std</th>\n",
       "      <th>train-RMSE-mean</th>\n",
       "      <th>train-RMSE-std</th>\n",
       "    </tr>\n",
       "  </thead>\n",
       "  <tbody>\n",
       "    <tr>\n",
       "      <td>999</td>\n",
       "      <td>999</td>\n",
       "      <td>0.3276</td>\n",
       "      <td>0.0021</td>\n",
       "      <td>0.3200</td>\n",
       "      <td>0.0008</td>\n",
       "      <td>1,548.2267</td>\n",
       "      <td>5.1327</td>\n",
       "      <td>1,472.9140</td>\n",
       "      <td>3.9079</td>\n",
       "    </tr>\n",
       "  </tbody>\n",
       "</table>\n",
       "</div>"
      ],
      "text/plain": [
       "     iterations  test-MAPE-mean  test-MAPE-std  train-MAPE-mean  \\\n",
       "999         999          0.3276         0.0021           0.3200   \n",
       "\n",
       "     train-MAPE-std  test-RMSE-mean  test-RMSE-std  train-RMSE-mean  \\\n",
       "999          0.0008      1,548.2267         5.1327       1,472.9140   \n",
       "\n",
       "     train-RMSE-std  \n",
       "999          3.9079  "
      ]
     },
     "execution_count": 77,
     "metadata": {},
     "output_type": "execute_result"
    }
   ],
   "source": [
    "cv_data[cv_data['test-RMSE-mean'] == cv_data['test-RMSE-mean'].min()]"
   ]
  },
  {
   "cell_type": "code",
   "execution_count": 78,
   "metadata": {},
   "outputs": [
    {
     "data": {
      "text/plain": [
       "999"
      ]
     },
     "execution_count": 78,
     "metadata": {},
     "output_type": "execute_result"
    }
   ],
   "source": [
    "n_iters = cv_data[cv_data['test-RMSE-mean'] == cv_data['test-RMSE-mean'].min()]['iterations'].values[0]\n",
    "n_iters"
   ]
  },
  {
   "cell_type": "code",
   "execution_count": 79,
   "metadata": {},
   "outputs": [],
   "source": [
    "catb_model = CatBoostRegressor(**params)"
   ]
  },
  {
   "cell_type": "code",
   "execution_count": 80,
   "metadata": {},
   "outputs": [
    {
     "name": "stdout",
     "output_type": "stream",
     "text": [
      "0:\tlearn: 1.4206782\ttotal: 138ms\tremaining: 2m 17s\n",
      "200:\tlearn: 0.3429701\ttotal: 26.2s\tremaining: 1m 44s\n",
      "400:\tlearn: 0.3320432\ttotal: 52.1s\tremaining: 1m 17s\n",
      "600:\tlearn: 0.3264153\ttotal: 1m 19s\tremaining: 52.5s\n",
      "800:\tlearn: 0.3226072\ttotal: 1m 46s\tremaining: 26.4s\n",
      "999:\tlearn: 0.3198946\ttotal: 2m 12s\tremaining: 0us\n",
      "RMSE на тестовой выборке 1543.0\n",
      "Wall time: 2min 14s\n"
     ]
    },
    {
     "data": {
      "text/plain": [
       "(None, None, None, None, None)"
      ]
     },
     "execution_count": 80,
     "metadata": {},
     "output_type": "execute_result"
    }
   ],
   "source": [
    "%%time\n",
    "get_results(catb_model, X_train, X_test, y_train, y_test)"
   ]
  },
  {
   "cell_type": "markdown",
   "metadata": {},
   "source": [
    "Хороший результат RMSE, но по времени проигрывает линейным моделям."
   ]
  },
  {
   "cell_type": "markdown",
   "metadata": {},
   "source": [
    "### LGBMRegressor"
   ]
  },
  {
   "cell_type": "markdown",
   "metadata": {},
   "source": [
    "Подберём оптимальные параметры для нашей модели"
   ]
  },
  {
   "cell_type": "code",
   "execution_count": 81,
   "metadata": {},
   "outputs": [
    {
     "data": {
      "text/plain": [
       "<bound method LGBMModel.get_params of LGBMRegressor(boosting_type='gbdt', class_weight=None, colsample_bytree=1.0,\n",
       "              importance_type='split', learning_rate=0.1, max_depth=-1,\n",
       "              min_child_samples=20, min_child_weight=0.001, min_split_gain=0.0,\n",
       "              n_estimators=100, n_jobs=-1, num_leaves=31, objective=None,\n",
       "              random_state=None, reg_alpha=0.0, reg_lambda=0.0, silent='warn',\n",
       "              subsample=1.0, subsample_for_bin=200000, subsample_freq=0)>"
      ]
     },
     "execution_count": 81,
     "metadata": {},
     "output_type": "execute_result"
    }
   ],
   "source": [
    "lgb.LGBMRegressor().get_params"
   ]
  },
  {
   "cell_type": "code",
   "execution_count": 82,
   "metadata": {},
   "outputs": [
    {
     "name": "stdout",
     "output_type": "stream",
     "text": [
      "Wall time: 1min 42s\n"
     ]
    },
    {
     "data": {
      "text/plain": [
       "LGBMRegressor(boosting_type='gbdt', class_weight=None, colsample_bytree=1.0,\n",
       "              importance_type='split', learning_rate=0.1, max_depth=-1,\n",
       "              min_child_samples=20, min_child_weight=0.001, min_split_gain=0.0,\n",
       "              n_estimators=210, n_jobs=-1, num_leaves=31, objective=None,\n",
       "              random_state=RandomState(MT19937) at 0x1A707EB88C8, reg_alpha=0.0,\n",
       "              reg_lambda=0.0, silent='warn', subsample=1.0,\n",
       "              subsample_for_bin=200000, subsample_freq=0)"
      ]
     },
     "execution_count": 82,
     "metadata": {},
     "output_type": "execute_result"
    }
   ],
   "source": [
    "%%time\n",
    "gbm_params = {\n",
    "    'learning_rate': [0.01, 0.1, 1],\n",
    "    'n_estimators': range(100,220,10)\n",
    "}\n",
    "\n",
    "gbm_model = lgb.LGBMRegressor(random_state=state)\n",
    "\n",
    "grid_gbm = GridSearchCV(gbm_model, gbm_params, scoring=rmse, cv=5, n_jobs=-1)\n",
    "grid_gbm.fit(X_train_light, y_train_light)\n",
    "\n",
    "grid_gbm.best_estimator_"
   ]
  },
  {
   "cell_type": "code",
   "execution_count": 83,
   "metadata": {},
   "outputs": [],
   "source": [
    "gbm_model = lgb.LGBMRegressor(random_state=state, n_estimators=210)"
   ]
  },
  {
   "cell_type": "markdown",
   "metadata": {},
   "source": [
    "Обучим модель, предскажием значения на тестовой выборке и посмотрим на RMSE"
   ]
  },
  {
   "cell_type": "code",
   "execution_count": 84,
   "metadata": {},
   "outputs": [
    {
     "name": "stdout",
     "output_type": "stream",
     "text": [
      "RMSE на тестовой выборке 1558.0\n",
      "Wall time: 968 ms\n"
     ]
    },
    {
     "data": {
      "text/plain": [
       "(None, None, None, None, None)"
      ]
     },
     "execution_count": 84,
     "metadata": {},
     "output_type": "execute_result"
    }
   ],
   "source": [
    "%%time\n",
    "get_results(gbm_model, X_train_light, X_test_light, y_train_light, y_test_light)"
   ]
  },
  {
   "cell_type": "markdown",
   "metadata": {},
   "source": [
    "RMSE чуть больше чем у CatBoost, но время значительно ниже."
   ]
  },
  {
   "cell_type": "markdown",
   "metadata": {},
   "source": [
    "Посмотрим какие признаки для для модели LGBMRegressor наиболле важные."
   ]
  },
  {
   "cell_type": "code",
   "execution_count": 85,
   "metadata": {},
   "outputs": [
    {
     "data": {
      "text/plain": [
       "<matplotlib.axes._subplots.AxesSubplot at 0x1a709e79808>"
      ]
     },
     "execution_count": 85,
     "metadata": {},
     "output_type": "execute_result"
    },
    {
     "data": {
      "image/png": "[encoded data removed]",
      "text/plain": [
       "<Figure size 432x288 with 1 Axes>"
      ]
     },
     "metadata": {},
     "output_type": "display_data"
    }
   ],
   "source": [
    "# plotting feature importance\n",
    "lgb.plot_importance(gbm_model, height=.5) "
   ]
  },
  {
   "cell_type": "markdown",
   "metadata": {},
   "source": [
    "## Анализ моделей"
   ]
  },
  {
   "cell_type": "markdown",
   "metadata": {},
   "source": [
    "Соберём результаты в таблицу."
   ]
  },
  {
   "cell_type": "code",
   "execution_count": 86,
   "metadata": {
    "scrolled": true
   },
   "outputs": [],
   "source": [
    "Results = pd.DataFrame(\n",
    "    {'RMSE_score': scores,\n",
    "    'prediction_time': prediction_time,\n",
    "    'training_time': training_time},\n",
    "    index = models\n",
    ")"
   ]
  },
  {
   "cell_type": "markdown",
   "metadata": {},
   "source": [
    "Посчитаем общее время работы модели и посмотрим на победителей"
   ]
  },
  {
   "cell_type": "code",
   "execution_count": 87,
   "metadata": {
    "scrolled": true
   },
   "outputs": [
    {
     "data": {
      "text/html": [
       "<div>\n",
       "<style scoped>\n",
       "    .dataframe tbody tr th:only-of-type {\n",
       "        vertical-align: middle;\n",
       "    }\n",
       "\n",
       "    .dataframe tbody tr th {\n",
       "        vertical-align: top;\n",
       "    }\n",
       "\n",
       "    .dataframe thead th {\n",
       "        text-align: right;\n",
       "    }\n",
       "</style>\n",
       "<table border=\"1\" class=\"dataframe\">\n",
       "  <thead>\n",
       "    <tr style=\"text-align: right;\">\n",
       "      <th></th>\n",
       "      <th>RMSE_score</th>\n",
       "      <th>prediction_time</th>\n",
       "      <th>training_time</th>\n",
       "      <th>total_time</th>\n",
       "    </tr>\n",
       "  </thead>\n",
       "  <tbody>\n",
       "    <tr>\n",
       "      <td>CatBoostRegressor</td>\n",
       "      <td>1,542.5381</td>\n",
       "      <td>0.1850</td>\n",
       "      <td>134.2024</td>\n",
       "      <td>134.3874</td>\n",
       "    </tr>\n",
       "    <tr>\n",
       "      <td>LGBMRegressor</td>\n",
       "      <td>1,558.2957</td>\n",
       "      <td>0.1040</td>\n",
       "      <td>0.8622</td>\n",
       "      <td>0.9662</td>\n",
       "    </tr>\n",
       "    <tr>\n",
       "      <td>RandomForestRegressor</td>\n",
       "      <td>1,741.3924</td>\n",
       "      <td>0.6481</td>\n",
       "      <td>285.6093</td>\n",
       "      <td>286.2574</td>\n",
       "    </tr>\n",
       "    <tr>\n",
       "      <td>SGDRegressor + CountVectorizer</td>\n",
       "      <td>2,045.6546</td>\n",
       "      <td>0.0060</td>\n",
       "      <td>3.6848</td>\n",
       "      <td>3.6908</td>\n",
       "    </tr>\n",
       "    <tr>\n",
       "      <td>LinearRegression + CountVectorizer</td>\n",
       "      <td>2,094.2623</td>\n",
       "      <td>0.0010</td>\n",
       "      <td>5.2872</td>\n",
       "      <td>5.2882</td>\n",
       "    </tr>\n",
       "    <tr>\n",
       "      <td>LinearRegression</td>\n",
       "      <td>2,364.7733</td>\n",
       "      <td>0.0890</td>\n",
       "      <td>8.1449</td>\n",
       "      <td>8.2339</td>\n",
       "    </tr>\n",
       "    <tr>\n",
       "      <td>SGDRegressor</td>\n",
       "      <td>2,366.4453</td>\n",
       "      <td>0.0998</td>\n",
       "      <td>12.4398</td>\n",
       "      <td>12.5396</td>\n",
       "    </tr>\n",
       "    <tr>\n",
       "      <td>ElasticNet</td>\n",
       "      <td>2,674.0388</td>\n",
       "      <td>0.0670</td>\n",
       "      <td>3.0317</td>\n",
       "      <td>3.0987</td>\n",
       "    </tr>\n",
       "    <tr>\n",
       "      <td>ElasticNet + CountVectorizer</td>\n",
       "      <td>3,529.0919</td>\n",
       "      <td>0.0020</td>\n",
       "      <td>89.9801</td>\n",
       "      <td>89.9821</td>\n",
       "    </tr>\n",
       "  </tbody>\n",
       "</table>\n",
       "</div>"
      ],
      "text/plain": [
       "                                    RMSE_score  prediction_time  \\\n",
       "CatBoostRegressor                   1,542.5381           0.1850   \n",
       "LGBMRegressor                       1,558.2957           0.1040   \n",
       "RandomForestRegressor               1,741.3924           0.6481   \n",
       "SGDRegressor + CountVectorizer      2,045.6546           0.0060   \n",
       "LinearRegression + CountVectorizer  2,094.2623           0.0010   \n",
       "LinearRegression                    2,364.7733           0.0890   \n",
       "SGDRegressor                        2,366.4453           0.0998   \n",
       "ElasticNet                          2,674.0388           0.0670   \n",
       "ElasticNet + CountVectorizer        3,529.0919           0.0020   \n",
       "\n",
       "                                    training_time  total_time  \n",
       "CatBoostRegressor                        134.2024    134.3874  \n",
       "LGBMRegressor                              0.8622      0.9662  \n",
       "RandomForestRegressor                    285.6093    286.2574  \n",
       "SGDRegressor + CountVectorizer             3.6848      3.6908  \n",
       "LinearRegression + CountVectorizer         5.2872      5.2882  \n",
       "LinearRegression                           8.1449      8.2339  \n",
       "SGDRegressor                              12.4398     12.5396  \n",
       "ElasticNet                                 3.0317      3.0987  \n",
       "ElasticNet + CountVectorizer              89.9801     89.9821  "
      ]
     },
     "execution_count": 87,
     "metadata": {},
     "output_type": "execute_result"
    }
   ],
   "source": [
    "Results['total_time'] = Results['prediction_time'] + Results['training_time']\n",
    "Results.sort_values(by='RMSE_score')"
   ]
  },
  {
   "cell_type": "markdown",
   "metadata": {},
   "source": [
    "В нашем случае лидером по значению RMSE является CatBoostRegressor. Но по времени работы модели лидирует LGBMRegressor, где CatBoostRegressor значительно отстаёт."
   ]
  },
  {
   "cell_type": "code",
   "execution_count": 88,
   "metadata": {
    "scrolled": false
   },
   "outputs": [
    {
     "data": {
      "image/png": "[encoded data removed]",
      "text/plain": [
       "<Figure size 720x432 with 1 Axes>"
      ]
     },
     "metadata": {},
     "output_type": "display_data"
    }
   ],
   "source": [
    "Results.sort_values(by='RMSE_score', ascending=False)['RMSE_score'].plot(\n",
    "    kind='barh', \n",
    "    figsize=(10,6), \n",
    "    color='lightgreen', \n",
    "    ec='black');"
   ]
  },
  {
   "cell_type": "markdown",
   "metadata": {},
   "source": [
    "## Общий вывод"
   ]
  },
  {
   "cell_type": "markdown",
   "metadata": {},
   "source": [
    "Мы произвели подготовку данных и выявили аномальные значения цены, года регистрации и мощности автомобиля, а так же были пропущенные значения в следующих столбцах:   \n",
    "\n",
    "`NotRepaired` - 20.1%   \n",
    "`VehicleType` - 10.6%   \n",
    "`FuelType` - 9.3%   \n",
    "`Gearbox` - 5.6%   \n",
    "`Model` - 5.6%\n",
    "\n",
    "Пропущеные значения в основном были заменены заглушкой `no_info`, аномалии частично были убраны, так как не ясна их природа.\n",
    "\n",
    "Было обучено и проверено 6 моделей, их значения RMSE и времени работы сохранены в `Results`.    \n",
    "\n",
    "Самые лучшие результаты в нашем случае показала модель **LGBMRegressor** с RMSE 1,558 и временем работы 0.9662 сек.\n",
    "\n",
    "Но значение RMSE незначительно лучше у CatBoostRegressor 1,542, но значительно хуже по времени - 134.3874 сек.\n",
    "\n",
    "Второе место по времени работы занимает модель ElasticNet 3.0987 сек, но она же занимает и одно из последних мест по значению RMSE - 2,674."
   ]
  }
 ],
 "metadata": {
  "ExecuteTimeLog": [
   {
    "duration": 12,
    "start_time": "2022-06-17T19:11:45.690Z"
   },
   {
    "duration": 1461,
    "start_time": "2022-06-17T19:29:20.241Z"
   },
   {
    "duration": 2721,
    "start_time": "2022-06-17T19:29:21.705Z"
   },
   {
    "duration": 3,
    "start_time": "2022-06-17T19:29:24.427Z"
   },
   {
    "duration": 675,
    "start_time": "2022-06-17T19:29:24.432Z"
   },
   {
    "duration": 79,
    "start_time": "2022-06-17T19:29:25.109Z"
   },
   {
    "duration": 11,
    "start_time": "2022-06-17T19:29:25.189Z"
   },
   {
    "duration": 309,
    "start_time": "2022-06-17T19:29:25.201Z"
   },
   {
    "duration": 24,
    "start_time": "2022-06-17T19:29:25.512Z"
   },
   {
    "duration": 19,
    "start_time": "2022-06-17T19:29:25.538Z"
   },
   {
    "duration": 63,
    "start_time": "2022-06-17T19:29:25.559Z"
   },
   {
    "duration": 57,
    "start_time": "2022-06-17T19:29:25.624Z"
   },
   {
    "duration": 328,
    "start_time": "2022-06-17T19:29:25.683Z"
   },
   {
    "duration": 224,
    "start_time": "2022-06-17T19:29:26.734Z"
   },
   {
    "duration": 137,
    "start_time": "2022-06-17T19:29:27.646Z"
   },
   {
    "duration": 15,
    "start_time": "2022-06-17T19:29:28.512Z"
   },
   {
    "duration": 10,
    "start_time": "2022-06-17T19:29:29.909Z"
   },
   {
    "duration": 19,
    "start_time": "2022-06-17T19:29:30.802Z"
   },
   {
    "duration": 299,
    "start_time": "2022-06-17T19:29:32.081Z"
   },
   {
    "duration": 14,
    "start_time": "2022-06-17T19:29:33.018Z"
   },
   {
    "duration": 17,
    "start_time": "2022-06-17T19:29:34.390Z"
   },
   {
    "duration": 30,
    "start_time": "2022-06-17T19:29:35.087Z"
   },
   {
    "duration": 9,
    "start_time": "2022-06-17T19:29:37.539Z"
   },
   {
    "duration": 100,
    "start_time": "2022-06-17T19:29:38.247Z"
   },
   {
    "duration": 4,
    "start_time": "2022-06-17T19:29:39.351Z"
   },
   {
    "duration": 70,
    "start_time": "2022-06-17T19:29:40.254Z"
   },
   {
    "duration": 276,
    "start_time": "2022-06-17T19:29:41.027Z"
   },
   {
    "duration": 273,
    "start_time": "2022-06-17T19:29:42.164Z"
   },
   {
    "duration": 16,
    "start_time": "2022-06-17T19:29:50.559Z"
   },
   {
    "duration": 20,
    "start_time": "2022-06-17T19:29:52.411Z"
   },
   {
    "duration": 11,
    "start_time": "2022-06-17T19:29:52.913Z"
   },
   {
    "duration": 354,
    "start_time": "2022-06-17T19:29:54.019Z"
   },
   {
    "duration": 194,
    "start_time": "2022-06-17T19:29:55.890Z"
   }
  ],
  "kernelspec": {
   "display_name": "Python 3 (ipykernel)",
   "language": "python",
   "name": "python3"
  },
  "language_info": {
   "codemirror_mode": {
    "name": "ipython",
    "version": 3
   },
   "file_extension": ".py",
   "mimetype": "text/x-python",
   "name": "python",
   "nbconvert_exporter": "python",
   "pygments_lexer": "ipython3",
   "version": "3.7.8"
  },
  "toc": {
   "base_numbering": 1,
   "nav_menu": {},
   "number_sections": true,
   "sideBar": true,
   "skip_h1_title": true,
   "title_cell": "Содержание",
   "title_sidebar": "Содержание",
   "toc_cell": true,
   "toc_position": {
    "height": "calc(100% - 180px)",
    "left": "10px",
    "top": "150px",
    "width": "384px"
   },
   "toc_section_display": true,
   "toc_window_display": true
  }
 },
 "nbformat": 4,
 "nbformat_minor": 2
}
